{
 "cells": [
  {
   "cell_type": "code",
   "execution_count": 1,
   "metadata": {},
   "outputs": [],
   "source": [
    "import requests\n",
    "from bs4 import BeautifulSoup \n",
    "from tqdm import tqdm\n",
    "import re\n",
    "import pandas as pd\n",
    "import time"
   ]
  },
  {
   "cell_type": "code",
   "execution_count": 2,
   "metadata": {},
   "outputs": [],
   "source": [
    "headers = {'User-agent':'Mozilla/5.0 (Windows NT 10.0; Win64; x64) AppleWebKit/537.36 (KHTML, like Gecko) Chrome/68.0.3440.106 Safari/537.36'}\n"
   ]
  },
  {
   "cell_type": "code",
   "execution_count": 3,
   "metadata": {},
   "outputs": [],
   "source": [
    "def get_links(year, month:str, page):\n",
    "    url ='http://www.arthub.co.kr/sub01/board033_list.htm?'\n",
    "    seed = 'http://www.arthub.co.kr/sub01/'\n",
    "    \n",
    "    params = {\n",
    "        'k_date':year,\n",
    "        'k_month':month,\n",
    "        'PHPSESSID':'e124fc854822909d9ec3618c1e6089f2',\n",
    "        'page':page\n",
    "        }\n",
    "    \n",
    "    resp = requests.get(url,params=params,headers=headers)\n",
    "    soup = BeautifulSoup(resp.content,'lxml')\n",
    "    aList = soup.select('a.sub01_list_title')\n",
    "    \n",
    "    return [(str(year)+month,a.get_text(),seed+a['href']) for a in aList]"
   ]
  },
  {
   "cell_type": "code",
   "execution_count": 37,
   "metadata": {},
   "outputs": [
    {
     "data": {
      "text/plain": [
       "[('201809',\n",
       "  '이재건展 :: Painting',\n",
       "  'http://www.arthub.co.kr/sub01/board03_view.htm?No=25924'),\n",
       " ('201809',\n",
       "  'An unfamiliar gaze - 정의철展 :: Painting',\n",
       "  'http://www.arthub.co.kr/sub01/board03_view.htm?No=26876'),\n",
       " ('201809',\n",
       "  '조성희展 :: Painting',\n",
       "  'http://www.arthub.co.kr/sub01/board03_view.htm?No=25935'),\n",
       " ('201809',\n",
       "  '서근범展 :: Painting',\n",
       "  'http://www.arthub.co.kr/sub01/board03_view.htm?No=26893')]"
      ]
     },
     "execution_count": 37,
     "metadata": {},
     "output_type": "execute_result"
    }
   ],
   "source": [
    "get_links(2018,'09',1)"
   ]
  },
  {
   "cell_type": "markdown",
   "metadata": {},
   "source": [
    "html 태그가 매우 드럽게 달려있다\n",
    "\n",
    "부적절한 tree 구조인데다가 identification 규칙이 일정치 않음, 일일이 찾기힘듦"
   ]
  },
  {
   "cell_type": "code",
   "execution_count": 277,
   "metadata": {},
   "outputs": [],
   "source": [
    "artists = [t3.text for t3 in t3.find('td',{'width':'339'}).find_all('a')]\n",
    "date = [el for el in t3.find('span',{'class':'red_point'}).parent]\n",
    "time = [el.text for el in t3.find_all('span',{'class':'red_point'})[1:]]"
   ]
  },
  {
   "cell_type": "markdown",
   "metadata": {},
   "source": [
    "전시정보를 가져오는 함수 get_info를 짰는데 next.next.next... 이런식으로 드럽다, 어쩔수없었다"
   ]
  },
  {
   "cell_type": "code",
   "execution_count": 4,
   "metadata": {},
   "outputs": [],
   "source": [
    "def get_info(url):\n",
    "    resp = requests.get(url,headers=headers)\n",
    "    soup = BeautifulSoup(resp.content,'lxml')\n",
    "    t3 = soup.select('table')[3]\n",
    "\n",
    "    info = []\n",
    "    for el in [el.next.next.next.next.next for el in t3.find_all('td',{'width':'84','height':'18','align':'left'})]: #전시정보 뽑아오기, tag가 드러움\n",
    "        if el.string==None: #class 'bs4.element.Tag'\n",
    "            info.append(el.text)\n",
    "        else:                          #class 'bs4.element.NavigableString'\n",
    "            info.append(el.string) \n",
    "\n",
    "    artists = list(map(lambda s:s.strip(), info[0].split(',')))\n",
    "    articles = [td.next['href'] for td in t3.find_all('td',{'width':'510'})[1:]]\n",
    "\n",
    "    del info[0]\n",
    "    info.insert(0,artists)\n",
    "    info.append(articles)\n",
    "    \n",
    "    return info"
   ]
  },
  {
   "cell_type": "code",
   "execution_count": 231,
   "metadata": {},
   "outputs": [
    {
     "data": {
      "text/plain": [
       "[['강지만',\n",
       "  '김경섭',\n",
       "  '김용석',\n",
       "  '김아영',\n",
       "  '문기전',\n",
       "  '박정원',\n",
       "  '박정용',\n",
       "  '박흥선',\n",
       "  '성태진',\n",
       "  '송지연',\n",
       "  '윤기원',\n",
       "  '이수정',\n",
       "  '이재열',\n",
       "  '진선미'],\n",
       " '2018-08-01 ▶ 2018-08-04',\n",
       " '없음',\n",
       " 'Open 14:00 ~ Close 20:00',\n",
       " '아트팩토리 후(ART FACTORY hoo)\\xa0 다른전시 보기',\n",
       " '강원도 원주시 문막읍 비야동길 10-12 (후용리 1318) 나동창고 ',\n",
       " '010-4014-7488',\n",
       " 'www.facebook.com/artfactoryhoo',\n",
       " ['http://www.newsis.com/view/?id=NISX20180710_0000359747&cid=10701']]"
      ]
     },
     "execution_count": 231,
     "metadata": {},
     "output_type": "execute_result"
    }
   ],
   "source": [
    "get_info('http://www.arthub.co.kr/sub01/board03_view.htm?No=26567')"
   ]
  },
  {
   "cell_type": "markdown",
   "metadata": {},
   "source": [
    "텍스트를 가져오는 함수 get_text"
   ]
  },
  {
   "cell_type": "code",
   "execution_count": 5,
   "metadata": {},
   "outputs": [],
   "source": [
    "def get_text(url):\n",
    "    resp = requests.get(url,headers=headers)\n",
    "    soup = BeautifulSoup(resp.content,'lxml')\n",
    "    \n",
    "    ps = [p.text for p in soup.find_all('p',{'align':'justify'})]\n",
    "    text = ''.join(ps)\n",
    "    \n",
    "    return text.strip()"
   ]
  },
  {
   "cell_type": "code",
   "execution_count": 238,
   "metadata": {},
   "outputs": [
    {
     "data": {
      "text/plain": [
       "'The birth of Life\\n        물은 모든 생명의 원천이다. 모든 사물은 물에서 시작되어 그 끝 역시 물로 마무리 되고 그 과정은 지속적인 순환과정을 겪는다. \\n        그리고 물의 순환과정을 통해 우리는 생명의 강인함과 진리를 깨닫게 된다. 또한 물에서 비롯된 생명은 하나가 모여 전체가 되듯이 \\n        한 화면 속에서 개개의 소재들이 모여 하나의 화면을 구성하며 전일적인 개체로 성장한다.\\n\\n\\n        The song of Life\\n        모든 생명은 아름답고 작가의 작업은 그 아름다움을 노래하기 위한 수단이다. 그리고 그 아름다움을 만들어내는 모든 생명의 기원은 \\n        물이다. 그래서 그의 작품 속에는 물을 상징하는 소재들이 그려져 있다. 또한 물위에서 기원하듯 그 주위에는 생명력을 품은 아름다운 \\n        꽃들이 둘러싸며 저마다의 생명력을 뿜어내고 있다.The \\n        energy of Life\\n        생명은 항상 강인함을 지닌다. 어떠한 시련에도 생명의 순환은 결코 멈추지 않는다. 그리고 이것은 생명의 원천인 물이 가지는 에너지이기도 \\n        하다. 작가는 이러한 끊임없는 순환의 과정 속의 생명이 가지는 강인함과 아름다움을 노래하기 위해 캔버스 위를 유화와 아크릴을 \\n        통해 다채로운 색채로 표현한다. 잔잔한 한 폭의 정물화 인듯하지만 화려하고 과감한 색채의 대비는 우리에게 생명의 에너지를 속삭인다. \\n         ⓒ'"
      ]
     },
     "execution_count": 238,
     "metadata": {},
     "output_type": "execute_result"
    }
   ],
   "source": [
    "get_text('http://www.arthub.co.kr/sub01/board03_view.htm?No=19282')"
   ]
  },
  {
   "cell_type": "markdown",
   "metadata": {},
   "source": [
    "샘플 데이터를 만들어보자, 55개의 전시만 가져왔다"
   ]
  },
  {
   "cell_type": "code",
   "execution_count": 1,
   "metadata": {},
   "outputs": [],
   "source": [
    "start = time.time()\n",
    "\n",
    "arts = []\n",
    "for y in range(2008,2014):\n",
    "    for m in tqdm(range(1,13)):\n",
    "        if m<10:\n",
    "            m = '0'+str(m)\n",
    "        else:\n",
    "            m = str(m)\n",
    "        m_links = []\n",
    "        for p in range(1,6): \n",
    "            try:\n",
    "                for _ in range(2): #TimeoutError 방지위해 두번까지 시도한다\n",
    "                    m_links.extend(get_links(y,m,p))\n",
    "                    break\n",
    "            except Exception as e:\n",
    "                print(e)\n",
    "                time.sleep(1)\n",
    "                continue\n",
    "                \n",
    "        m_links = list(set(m_links)) #중복 링크 제거\n",
    "        for link in m_links:\n",
    "            try:\n",
    "                info = get_info(link[2])\n",
    "                text = get_text(link[2])\n",
    "\n",
    "                temp = [*link,*info,text]\n",
    "                arts.append(temp)\n",
    "                \n",
    "            except Exception as e:\n",
    "                print(e)\n",
    "                continue\n",
    "                \n",
    "end = time.time()\n",
    "data = pd.DataFrame(arts,columns=['연월','전시제목','링크','전시작가','전시일정','초대일시','관람시간','전시장소','주소','연락처','홈페이지','아티클','텍스트'])\n",
    "data.sample(5)\n",
    "\n",
    "print(end-start)"
   ]
  },
  {
   "cell_type": "code",
   "execution_count": 2,
   "metadata": {},
   "outputs": [],
   "source": [
    "len(data.전시제목.unique())"
   ]
  },
  {
   "cell_type": "code",
   "execution_count": 51,
   "metadata": {},
   "outputs": [
    {
     "data": {
      "text/html": [
       "<div>\n",
       "<style scoped>\n",
       "    .dataframe tbody tr th:only-of-type {\n",
       "        vertical-align: middle;\n",
       "    }\n",
       "\n",
       "    .dataframe tbody tr th {\n",
       "        vertical-align: top;\n",
       "    }\n",
       "\n",
       "    .dataframe thead th {\n",
       "        text-align: right;\n",
       "    }\n",
       "</style>\n",
       "<table border=\"1\" class=\"dataframe\">\n",
       "  <thead>\n",
       "    <tr style=\"text-align: right;\">\n",
       "      <th></th>\n",
       "      <th>연월</th>\n",
       "      <th>전시제목</th>\n",
       "      <th>링크</th>\n",
       "      <th>전시작가</th>\n",
       "      <th>전시일정</th>\n",
       "      <th>초대일시</th>\n",
       "      <th>관람시간</th>\n",
       "      <th>전시장소</th>\n",
       "      <th>주소</th>\n",
       "      <th>연락처</th>\n",
       "      <th>홈페이지</th>\n",
       "      <th>아티클</th>\n",
       "      <th>텍스트</th>\n",
       "    </tr>\n",
       "  </thead>\n",
       "  <tbody>\n",
       "  </tbody>\n",
       "</table>\n",
       "</div>"
      ],
      "text/plain": [
       "Empty DataFrame\n",
       "Columns: [연월, 전시제목, 링크, 전시작가, 전시일정, 초대일시, 관람시간, 전시장소, 주소, 연락처, 홈페이지, 아티클, 텍스트]\n",
       "Index: []"
      ]
     },
     "execution_count": 51,
     "metadata": {},
     "output_type": "execute_result"
    }
   ],
   "source": [
    "data[data.duplicated(subset='전시제목')]"
   ]
  },
  {
   "cell_type": "code",
   "execution_count": 7,
   "metadata": {},
   "outputs": [
    {
     "name": "stdout",
     "output_type": "stream",
     "text": [
      "<class 'pandas.core.frame.DataFrame'>\n",
      "RangeIndex: 18309 entries, 0 to 18308\n",
      "Data columns (total 13 columns):\n",
      "연월      18309 non-null object\n",
      "전시제목    18309 non-null object\n",
      "링크      18309 non-null object\n",
      "전시작가    18309 non-null object\n",
      "전시일정    18309 non-null object\n",
      "초대일시    18309 non-null object\n",
      "관람시간    18308 non-null object\n",
      "전시장소    18308 non-null object\n",
      "주소      18308 non-null object\n",
      "연락처     18308 non-null object\n",
      "홈페이지    18308 non-null object\n",
      "아티클     18292 non-null object\n",
      "텍스트     18292 non-null object\n",
      "dtypes: object(13)\n",
      "memory usage: 1.8+ MB\n"
     ]
    }
   ],
   "source": [
    "data.info()"
   ]
  },
  {
   "cell_type": "code",
   "execution_count": 8,
   "metadata": {},
   "outputs": [],
   "source": [
    "data.to_excel('test2.xlsx',sheet_name='sheet1')"
   ]
  },
  {
   "cell_type": "code",
   "execution_count": 10,
   "metadata": {},
   "outputs": [],
   "source": [
    "d = pd.read_excel('test2.xlsx',sheet_name='sheet1')"
   ]
  },
  {
   "cell_type": "code",
   "execution_count": 11,
   "metadata": {},
   "outputs": [
    {
     "name": "stdout",
     "output_type": "stream",
     "text": [
      "<class 'pandas.core.frame.DataFrame'>\n",
      "Int64Index: 18309 entries, 0 to 18308\n",
      "Data columns (total 13 columns):\n",
      "연월      18309 non-null int64\n",
      "전시제목    18309 non-null object\n",
      "링크      18309 non-null object\n",
      "전시작가    18309 non-null object\n",
      "전시일정    18309 non-null object\n",
      "초대일시    11342 non-null object\n",
      "관람시간    18308 non-null object\n",
      "전시장소    18308 non-null object\n",
      "주소      18292 non-null object\n",
      "연락처     18308 non-null object\n",
      "홈페이지    14182 non-null object\n",
      "아티클     18292 non-null object\n",
      "텍스트     17918 non-null object\n",
      "dtypes: int64(1), object(12)\n",
      "memory usage: 2.0+ MB\n"
     ]
    }
   ],
   "source": [
    "d.info()"
   ]
  },
  {
   "cell_type": "code",
   "execution_count": 107,
   "metadata": {},
   "outputs": [
    {
     "name": "stdout",
     "output_type": "stream",
     "text": [
      "<class 'pandas.core.frame.DataFrame'>\n",
      "Int64Index: 8035 entries, 0 to 8034\n",
      "Data columns (total 13 columns):\n",
      "연월      8035 non-null int64\n",
      "전시제목    8035 non-null object\n",
      "링크      8035 non-null object\n",
      "전시작가    8035 non-null object\n",
      "전시일정    8035 non-null object\n",
      "초대일시    7629 non-null object\n",
      "관람시간    8034 non-null object\n",
      "전시장소    8034 non-null object\n",
      "주소      8034 non-null object\n",
      "연락처     8034 non-null object\n",
      "홈페이지    7432 non-null object\n",
      "아티클     8034 non-null object\n",
      "텍스트     7703 non-null object\n",
      "dtypes: int64(1), object(12)\n",
      "memory usage: 878.8+ KB\n"
     ]
    }
   ],
   "source": [
    "d.info()"
   ]
  },
  {
   "cell_type": "code",
   "execution_count": null,
   "metadata": {},
   "outputs": [],
   "source": []
  },
  {
   "cell_type": "code",
   "execution_count": 109,
   "metadata": {},
   "outputs": [],
   "source": [
    "corpus = ''\n",
    "for txt in data.텍스트:\n",
    "    if txt!=None:\n",
    "        corpus +=txt"
   ]
  },
  {
   "cell_type": "code",
   "execution_count": 110,
   "metadata": {},
   "outputs": [
    {
     "data": {
      "text/plain": [
       "14891082"
      ]
     },
     "execution_count": 110,
     "metadata": {},
     "output_type": "execute_result"
    }
   ],
   "source": [
    "# corpus #텍스트를 합쳐 코퍼스를 만든다\n",
    "len(corpus)"
   ]
  },
  {
   "cell_type": "markdown",
   "metadata": {},
   "source": [
    "아래부터는 텍스트 전처리 과정"
   ]
  },
  {
   "cell_type": "code",
   "execution_count": 111,
   "metadata": {},
   "outputs": [],
   "source": [
    "import nltk\n",
    "from konlpy.tag import Kkma,Twitter\n",
    "from collections import Counter\n",
    "from nltk.tokenize import sent_tokenize, word_tokenize, regexp_tokenize\n",
    "from matplotlib import font_manager, rc"
   ]
  },
  {
   "cell_type": "code",
   "execution_count": 112,
   "metadata": {},
   "outputs": [],
   "source": [
    "kkma = Kkma()\n",
    "# twitter = Twitter()"
   ]
  },
  {
   "cell_type": "code",
   "execution_count": 3,
   "metadata": {},
   "outputs": [],
   "source": [
    "# tokens = kkma.morphs(corpus)"
   ]
  },
  {
   "cell_type": "code",
   "execution_count": null,
   "metadata": {},
   "outputs": [],
   "source": [
    "word_tokenize(corpus)[:15]"
   ]
  },
  {
   "cell_type": "code",
   "execution_count": null,
   "metadata": {},
   "outputs": [],
   "source": [
    "count2 = Counter(tokens)\n",
    "count2.most_common(30) #불용어 처리를 하지않은 결과이다"
   ]
  },
  {
   "cell_type": "code",
   "execution_count": null,
   "metadata": {},
   "outputs": [],
   "source": [
    "text = nltk.Text(tokens)"
   ]
  },
  {
   "cell_type": "code",
   "execution_count": null,
   "metadata": {},
   "outputs": [],
   "source": [
    "text.similar(\"작가\")"
   ]
  },
  {
   "cell_type": "code",
   "execution_count": null,
   "metadata": {},
   "outputs": [],
   "source": [
    "text.similar(\"존재\")"
   ]
  },
  {
   "cell_type": "code",
   "execution_count": null,
   "metadata": {},
   "outputs": [],
   "source": [
    "text.similar(\"희망\")"
   ]
  },
  {
   "cell_type": "code",
   "execution_count": null,
   "metadata": {},
   "outputs": [],
   "source": []
  }
 ],
 "metadata": {
  "kernelspec": {
   "display_name": "Python 3",
   "language": "python",
   "name": "python3"
  },
  "language_info": {
   "codemirror_mode": {
    "name": "ipython",
    "version": 3
   },
   "file_extension": ".py",
   "mimetype": "text/x-python",
   "name": "python",
   "nbconvert_exporter": "python",
   "pygments_lexer": "ipython3",
   "version": "3.6.4"
  }
 },
 "nbformat": 4,
 "nbformat_minor": 2
}
