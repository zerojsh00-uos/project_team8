{
 "cells": [
  {
   "cell_type": "code",
   "execution_count": 1,
   "metadata": {},
   "outputs": [
    {
     "name": "stderr",
     "output_type": "stream",
     "text": [
      "C:\\Users\\Chankoo\\Anaconda3\\lib\\site-packages\\gensim\\utils.py:1197: UserWarning: detected Windows; aliasing chunkize to chunkize_serial\n",
      "  warnings.warn(\"detected Windows; aliasing chunkize to chunkize_serial\")\n"
     ]
    }
   ],
   "source": [
    "import pandas as pd\n",
    "from matplotlib import pyplot as plt\n",
    "\n",
    "from gensim.models.word2vec import Word2Vec\n",
    "from os import path, mkdir\n",
    "from multiprocessing import cpu_count\n",
    "\n",
    "import nltk\n",
    "from nltk.tokenize import sent_tokenize, word_tokenize, regexp_tokenize\n",
    "from konlpy.tag import Kkma,Twitter\n",
    "from collections import Counter\n",
    "\n",
    "import re"
   ]
  },
  {
   "cell_type": "code",
   "execution_count": 2,
   "metadata": {},
   "outputs": [],
   "source": [
    "d = pd.read_excel('test.xlsx',sheet_name='sheet1')"
   ]
  },
  {
   "cell_type": "code",
   "execution_count": 3,
   "metadata": {},
   "outputs": [
    {
     "name": "stdout",
     "output_type": "stream",
     "text": [
      "<class 'pandas.core.frame.DataFrame'>\n",
      "Int64Index: 8035 entries, 0 to 8034\n",
      "Data columns (total 13 columns):\n",
      "연월      8035 non-null int64\n",
      "전시제목    8035 non-null object\n",
      "링크      8035 non-null object\n",
      "전시작가    8035 non-null object\n",
      "전시일정    8035 non-null object\n",
      "초대일시    7629 non-null object\n",
      "관람시간    8034 non-null object\n",
      "전시장소    8034 non-null object\n",
      "주소      8034 non-null object\n",
      "연락처     8034 non-null object\n",
      "홈페이지    7432 non-null object\n",
      "아티클     8034 non-null object\n",
      "텍스트     7703 non-null object\n",
      "dtypes: int64(1), object(12)\n",
      "memory usage: 878.8+ KB\n"
     ]
    }
   ],
   "source": [
    "d.info()"
   ]
  },
  {
   "cell_type": "code",
   "execution_count": 4,
   "metadata": {},
   "outputs": [],
   "source": [
    "d.dropna(subset=['텍스트'],inplace=True) #텍스트 없는 로우 드랍"
   ]
  },
  {
   "cell_type": "code",
   "execution_count": 5,
   "metadata": {},
   "outputs": [
    {
     "data": {
      "text/plain": [
       "20"
      ]
     },
     "execution_count": 5,
     "metadata": {},
     "output_type": "execute_result"
    }
   ],
   "source": [
    "sum(d.duplicated(subset=['텍스트'])) # 중복된 텍스트"
   ]
  },
  {
   "cell_type": "code",
   "execution_count": 6,
   "metadata": {},
   "outputs": [],
   "source": [
    "toDropIndex = d[d.duplicated(subset=['텍스트'])].index"
   ]
  },
  {
   "cell_type": "code",
   "execution_count": 7,
   "metadata": {},
   "outputs": [],
   "source": [
    "d.drop(index = toDropIndex, inplace=True)"
   ]
  },
  {
   "cell_type": "code",
   "execution_count": 8,
   "metadata": {},
   "outputs": [
    {
     "name": "stdout",
     "output_type": "stream",
     "text": [
      "<class 'pandas.core.frame.DataFrame'>\n",
      "Int64Index: 7683 entries, 0 to 8034\n",
      "Data columns (total 13 columns):\n",
      "연월      7683 non-null int64\n",
      "전시제목    7683 non-null object\n",
      "링크      7683 non-null object\n",
      "전시작가    7683 non-null object\n",
      "전시일정    7683 non-null object\n",
      "초대일시    7292 non-null object\n",
      "관람시간    7683 non-null object\n",
      "전시장소    7683 non-null object\n",
      "주소      7683 non-null object\n",
      "연락처     7683 non-null object\n",
      "홈페이지    7103 non-null object\n",
      "아티클     7683 non-null object\n",
      "텍스트     7683 non-null object\n",
      "dtypes: int64(1), object(12)\n",
      "memory usage: 840.3+ KB\n"
     ]
    }
   ],
   "source": [
    "d.info()"
   ]
  },
  {
   "cell_type": "code",
   "execution_count": null,
   "metadata": {},
   "outputs": [],
   "source": [
    "# kkma = Kkma()\n",
    "# tokens = kkma.morphs(corpus) \n",
    "\n",
    "twitter = Twitter()\n",
    "# tokens = twitter.pos(corpus)# 찢어서하자"
   ]
  },
  {
   "cell_type": "code",
   "execution_count": 12,
   "metadata": {},
   "outputs": [],
   "source": [
    "# corpus = ''\n",
    "# for txt in d.텍스트.iloc[:100]:\n",
    "#     if txt==None:\n",
    "#         print('None')\n",
    "#         continue\n",
    "#     corpus +=str(txt)"
   ]
  },
  {
   "cell_type": "code",
   "execution_count": 31,
   "metadata": {},
   "outputs": [],
   "source": [
    "# tokens = []\n",
    "# for txt in d.텍스트.iloc[:100]:\n",
    "#     if txt==None:\n",
    "#         continue\n",
    "#     pos = ['/'.join(pos) for pos in twitter.pos(txt)]\n",
    "\n",
    "#     tokens.append(pos)\n",
    "    "
   ]
  },
  {
   "cell_type": "code",
   "execution_count": 56,
   "metadata": {},
   "outputs": [],
   "source": [
    "tokens = []\n",
    "for txt in d.텍스트:\n",
    "    if txt==None:\n",
    "        continue\n",
    "    tokens.append(twitter.morphs(txt)) #morphs 만 가져오자\n",
    "    "
   ]
  },
  {
   "cell_type": "code",
   "execution_count": 59,
   "metadata": {},
   "outputs": [
    {
     "data": {
      "text/plain": [
       "7683"
      ]
     },
     "execution_count": 59,
     "metadata": {},
     "output_type": "execute_result"
    }
   ],
   "source": [
    "len(tokens) #doc 갯수"
   ]
  },
  {
   "cell_type": "code",
   "execution_count": 72,
   "metadata": {},
   "outputs": [
    {
     "data": {
      "text/plain": [
       "349"
      ]
     },
     "execution_count": 72,
     "metadata": {},
     "output_type": "execute_result"
    }
   ],
   "source": [
    "len(tokens[0]) # 한 doc의 token 갯수"
   ]
  },
  {
   "cell_type": "code",
   "execution_count": null,
   "metadata": {},
   "outputs": [],
   "source": []
  },
  {
   "cell_type": "code",
   "execution_count": null,
   "metadata": {},
   "outputs": [],
   "source": []
  },
  {
   "cell_type": "code",
   "execution_count": 47,
   "metadata": {},
   "outputs": [],
   "source": [
    "#하이퍼파라미터 세팅\n",
    "num_features = 100\n",
    "min_word_count = 10\n",
    "num_workers = cpu_count()\n",
    "context_size = 10\n",
    "downsampling = 1e-3\n",
    "seed=180816"
   ]
  },
  {
   "cell_type": "code",
   "execution_count": 60,
   "metadata": {},
   "outputs": [],
   "source": [
    "#모델 생성\n",
    "art2vec =Word2Vec( \n",
    "    sg=1, #skip-gram\n",
    "    workers=cpu_count(),\n",
    "    size=num_features,\n",
    "    min_count=min_word_count,\n",
    "    window=context_size,\n",
    "    sample = downsampling,\n",
    ")"
   ]
  },
  {
   "cell_type": "code",
   "execution_count": 61,
   "metadata": {},
   "outputs": [],
   "source": [
    "art2vec.build_vocab(tokens)"
   ]
  },
  {
   "cell_type": "code",
   "execution_count": 62,
   "metadata": {},
   "outputs": [
    {
     "data": {
      "text/plain": [
       "7683"
      ]
     },
     "execution_count": 62,
     "metadata": {},
     "output_type": "execute_result"
    }
   ],
   "source": [
    "art2vec.corpus_count"
   ]
  },
  {
   "cell_type": "code",
   "execution_count": 63,
   "metadata": {},
   "outputs": [
    {
     "data": {
      "text/plain": [
       "5"
      ]
     },
     "execution_count": 63,
     "metadata": {},
     "output_type": "execute_result"
    }
   ],
   "source": [
    "art2vec.epochs"
   ]
  },
  {
   "cell_type": "code",
   "execution_count": 64,
   "metadata": {},
   "outputs": [
    {
     "data": {
      "text/plain": [
       "(20612852, 28226735)"
      ]
     },
     "execution_count": 64,
     "metadata": {},
     "output_type": "execute_result"
    }
   ],
   "source": [
    "art2vec.train(tokens,total_examples=art2vec.corpus_count,epochs=art2vec.epochs) #학습"
   ]
  },
  {
   "cell_type": "code",
   "execution_count": 65,
   "metadata": {},
   "outputs": [],
   "source": [
    "##모델을 저장하고 불러와서 다시 training시킬 수 있다\n",
    "art2vec.save(r'''art2vec.w2v''')"
   ]
  },
  {
   "cell_type": "code",
   "execution_count": null,
   "metadata": {},
   "outputs": [],
   "source": [
    "##전에 학습한 결과 불러오기\n",
    "art2vec.load(r'''art2vec.w2v''')"
   ]
  },
  {
   "cell_type": "code",
   "execution_count": 67,
   "metadata": {},
   "outputs": [
    {
     "data": {
      "text/plain": [
       "[('전남', 0.7835304737091064),\n",
       " ('시립', 0.7778898477554321),\n",
       " ('예향', 0.7698221206665039),\n",
       " ('창원', 0.7405427694320679),\n",
       " ('송영옥', 0.7315448522567749),\n",
       " ('성곡', 0.7311973571777344),\n",
       " ('전북', 0.7283378839492798),\n",
       " ('은암', 0.7268154621124268),\n",
       " ('전당', 0.7249138951301575),\n",
       " ('황영', 0.7231484651565552)]"
      ]
     },
     "execution_count": 67,
     "metadata": {},
     "output_type": "execute_result"
    }
   ],
   "source": [
    "art2vec.wv.most_similar('광주')"
   ]
  },
  {
   "cell_type": "code",
   "execution_count": 68,
   "metadata": {},
   "outputs": [
    {
     "data": {
      "text/plain": [
       "[('희망이', 0.7420464754104614),\n",
       " ('약속하는', 0.7306351661682129),\n",
       " ('소망', 0.7047438621520996),\n",
       " ('희구', 0.7004313468933105),\n",
       " ('행복', 0.6934530735015869),\n",
       " ('건강하고', 0.6868695020675659),\n",
       " ('행복함', 0.6806673407554626),\n",
       " ('긍정', 0.672339677810669),\n",
       " ('갈망', 0.6695137619972229),\n",
       " ('절망', 0.6681349277496338)]"
      ]
     },
     "execution_count": 68,
     "metadata": {},
     "output_type": "execute_result"
    }
   ],
   "source": [
    "art2vec.wv.most_similar('희망')"
   ]
  },
  {
   "cell_type": "code",
   "execution_count": 69,
   "metadata": {},
   "outputs": [
    {
     "data": {
      "text/plain": [
       "[('이웃', 0.7234182357788086),\n",
       " ('반려동물', 0.7176386117935181),\n",
       " ('가정', 0.69026118516922),\n",
       " ('부모', 0.6825472116470337),\n",
       " ('연인', 0.6782400608062744),\n",
       " ('부모님', 0.6771761178970337),\n",
       " ('자식', 0.6764198541641235),\n",
       " ('반려', 0.6757124662399292),\n",
       " ('친구', 0.6733570098876953),\n",
       " ('단란', 0.6727656722068787)]"
      ]
     },
     "execution_count": 69,
     "metadata": {},
     "output_type": "execute_result"
    }
   ],
   "source": [
    "art2vec.wv.most_similar('가족')"
   ]
  },
  {
   "cell_type": "code",
   "execution_count": 70,
   "metadata": {},
   "outputs": [
    {
     "data": {
      "text/plain": [
       "[('즐거움', 0.7512965202331543),\n",
       " ('유쾌', 0.6559067964553833),\n",
       " ('친근함', 0.6535444259643555),\n",
       " ('최순민', 0.641376256942749),\n",
       " ('재미있고', 0.6413453221321106),\n",
       " ('재미있는', 0.6399206519126892),\n",
       " ('청량감', 0.6387925148010254),\n",
       " ('재미있게', 0.6228461265563965),\n",
       " ('색다른', 0.6178460121154785),\n",
       " ('선물하는', 0.6155192852020264)]"
      ]
     },
     "execution_count": 70,
     "metadata": {},
     "output_type": "execute_result"
    }
   ],
   "source": [
    "art2vec.wv.most_similar('재미')"
   ]
  },
  {
   "cell_type": "code",
   "execution_count": 73,
   "metadata": {},
   "outputs": [
    {
     "data": {
      "text/plain": [
       "[('전달해준', 0.7862638235092163),\n",
       " ('엉뚱하고', 0.7628570795059204),\n",
       " ('소소함', 0.7452802658081055),\n",
       " ('사육사', 0.7437958717346191),\n",
       " ('볼라뇨', 0.7396140098571777),\n",
       " ('유발하고', 0.7381994724273682),\n",
       " ('좋아할', 0.7375392317771912),\n",
       " ('가져다주는', 0.7372032999992371),\n",
       " ('화사함', 0.7319670915603638),\n",
       " ('김섭', 0.730377197265625)]"
      ]
     },
     "execution_count": 73,
     "metadata": {},
     "output_type": "execute_result"
    }
   ],
   "source": [
    "art2vec.wv.most_similar('최순민')"
   ]
  },
  {
   "cell_type": "code",
   "execution_count": 75,
   "metadata": {},
   "outputs": [
    {
     "data": {
      "text/plain": [
       "[('실현된', 0.6371790766716003),\n",
       " ('조이경', 0.636550784111023),\n",
       " ('불가능', 0.619219183921814),\n",
       " ('현현', 0.618384599685669),\n",
       " ('불완전하고', 0.617784857749939),\n",
       " ('도래', 0.6132364869117737),\n",
       " ('정성윤', 0.6103134155273438),\n",
       " ('휘발', 0.6101908683776855),\n",
       " ('아포리아', 0.6101325154304504),\n",
       " ('거스', 0.610127866268158)]"
      ]
     },
     "execution_count": 75,
     "metadata": {},
     "output_type": "execute_result"
    }
   ],
   "source": [
    "art2vec.wv.most_similar('박경태')"
   ]
  },
  {
   "cell_type": "code",
   "execution_count": 76,
   "metadata": {},
   "outputs": [
    {
     "data": {
      "text/plain": [
       "[('조이경', 0.7433583736419678),\n",
       " ('김수연', 0.7237849235534668),\n",
       " ('신성환', 0.719285786151886),\n",
       " ('보비', 0.7103101015090942),\n",
       " ('정석희', 0.7096210718154907),\n",
       " ('이문호', 0.7096121311187744),\n",
       " ('빠키', 0.7055789232254028),\n",
       " ('심포니', 0.6999529600143433),\n",
       " ('요나', 0.6984244585037231),\n",
       " ('매핑', 0.6980416774749756)]"
      ]
     },
     "execution_count": 76,
     "metadata": {},
     "output_type": "execute_result"
    }
   ],
   "source": [
    "art2vec.wv.most_similar('정성윤')"
   ]
  },
  {
   "cell_type": "code",
   "execution_count": null,
   "metadata": {},
   "outputs": [],
   "source": []
  }
 ],
 "metadata": {
  "kernelspec": {
   "display_name": "Python 3",
   "language": "python",
   "name": "python3"
  },
  "language_info": {
   "codemirror_mode": {
    "name": "ipython",
    "version": 3
   },
   "file_extension": ".py",
   "mimetype": "text/x-python",
   "name": "python",
   "nbconvert_exporter": "python",
   "pygments_lexer": "ipython3",
   "version": "3.6.4"
  }
 },
 "nbformat": 4,
 "nbformat_minor": 2
}
