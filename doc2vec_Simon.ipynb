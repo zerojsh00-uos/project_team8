{
 "cells": [
  {
   "cell_type": "code",
   "execution_count": 39,
   "metadata": {},
   "outputs": [
    {
     "name": "stdout",
     "output_type": "stream",
     "text": [
      "Populating the interactive namespace from numpy and matplotlib\n"
     ]
    },
    {
     "name": "stderr",
     "output_type": "stream",
     "text": [
      "/anaconda3/envs/pythonStudy/lib/python3.6/site-packages/IPython/core/magics/pylab.py:160: UserWarning: pylab import has clobbered these variables: ['text']\n",
      "`%matplotlib` prevents importing * from pylab and numpy\n",
      "  \"\\n`%matplotlib` prevents importing * from pylab and numpy\"\n"
     ]
    }
   ],
   "source": [
    "import codecs\n",
    "import glob\n",
    "import logging\n",
    "import multiprocessing\n",
    "import os\n",
    "import pprint\n",
    "import re\n",
    "import nltk\n",
    "import gensim.models.word2vec as w2v\n",
    "import sklearn.manifold\n",
    "import numpy as np\n",
    "import matplotlib.pyplot as plt\n",
    "import pandas as pd\n",
    "import seaborn as sns\n",
    "import gensim\n",
    "import re\n",
    "%pylab inline"
   ]
  },
  {
   "cell_type": "code",
   "execution_count": 69,
   "metadata": {},
   "outputs": [],
   "source": [
    "import pandas as pd\n",
    "from tqdm import tqdm"
   ]
  },
  {
   "cell_type": "code",
   "execution_count": 65,
   "metadata": {},
   "outputs": [],
   "source": [
    "from konlpy.tag import Kkma\n",
    "k = Kkma()"
   ]
  },
  {
   "cell_type": "code",
   "execution_count": 57,
   "metadata": {
    "scrolled": true
   },
   "outputs": [
    {
     "data": {
      "text/html": [
       "<div>\n",
       "<style scoped>\n",
       "    .dataframe tbody tr th:only-of-type {\n",
       "        vertical-align: middle;\n",
       "    }\n",
       "\n",
       "    .dataframe tbody tr th {\n",
       "        vertical-align: top;\n",
       "    }\n",
       "\n",
       "    .dataframe thead th {\n",
       "        text-align: right;\n",
       "    }\n",
       "</style>\n",
       "<table border=\"1\" class=\"dataframe\">\n",
       "  <thead>\n",
       "    <tr style=\"text-align: right;\">\n",
       "      <th></th>\n",
       "      <th>Unnamed: 0</th>\n",
       "      <th>연월</th>\n",
       "      <th>전시제목</th>\n",
       "      <th>링크</th>\n",
       "      <th>전시작가</th>\n",
       "      <th>전시일정</th>\n",
       "      <th>초대일시</th>\n",
       "      <th>관람시간</th>\n",
       "      <th>전시장소</th>\n",
       "      <th>주소</th>\n",
       "      <th>연락처</th>\n",
       "      <th>홈페이지</th>\n",
       "      <th>아티클</th>\n",
       "      <th>텍스트</th>\n",
       "    </tr>\n",
       "  </thead>\n",
       "  <tbody>\n",
       "    <tr>\n",
       "      <th>0</th>\n",
       "      <td>0</td>\n",
       "      <td>201301</td>\n",
       "      <td>카페림보 - 김한민展 :: Exhibit Theater</td>\n",
       "      <td>http://www.arthub.co.kr/sub01/board03_view.htm...</td>\n",
       "      <td>['김한민(Kim Hanmin)']</td>\n",
       "      <td>2013-01-02 ▶ 2013-02-27</td>\n",
       "      <td>2013-02-15 / 16</td>\n",
       "      <td>Open 11:00 ~ Close 23:30</td>\n",
       "      <td>테이크아웃드로잉(Takeout Drawing) 이태원  다른전시 보기</td>\n",
       "      <td>서울시 용산구 이태원동 637</td>\n",
       "      <td>02-790-2637</td>\n",
       "      <td>www.takeoutdrawing.com</td>\n",
       "      <td>['']</td>\n",
       "      <td>● 카페림보 - 김한민展\\n        생의 의미와 목적 그리고 사회에 대한 소속...</td>\n",
       "    </tr>\n",
       "    <tr>\n",
       "      <th>1</th>\n",
       "      <td>1</td>\n",
       "      <td>201301</td>\n",
       "      <td>박명희展 :: Painting</td>\n",
       "      <td>http://www.arthub.co.kr/sub01/board03_view.htm...</td>\n",
       "      <td>['박명희(Park Myunghee)']</td>\n",
       "      <td>2013-01-15 ▶ 2013-01-27</td>\n",
       "      <td>없음</td>\n",
       "      <td>Open 9:00 ~ Close 20:00</td>\n",
       "      <td>세종갤러리(SEJONG GALLERY)  다른전시 보기</td>\n",
       "      <td>서울시 중구 충무로2가 61-3 세종호텔</td>\n",
       "      <td>02-3705-9021</td>\n",
       "      <td>www.sejonggallery.co.kr</td>\n",
       "      <td>['']</td>\n",
       "      <td>● 박명희展\\n        ‘꿈과 자연’이라는 주제로 시각적인 형상과 상상의 나래...</td>\n",
       "    </tr>\n",
       "    <tr>\n",
       "      <th>2</th>\n",
       "      <td>2</td>\n",
       "      <td>201301</td>\n",
       "      <td>잘 어질러진 방 : my place - 유소라展 :: Quilt</td>\n",
       "      <td>http://www.arthub.co.kr/sub01/board03_view.htm...</td>\n",
       "      <td>['유소라(Yu Sora)']</td>\n",
       "      <td>2013-01-30 ▶ 2013-02-19</td>\n",
       "      <td>2013-01-30 PM 5:00</td>\n",
       "      <td>Open 10:00 ~ Close 18:00(일요일 휴관)</td>\n",
       "      <td>갤러리41(Gallery41)  다른전시 보기</td>\n",
       "      <td>서울시 종로구 사간동 41</td>\n",
       "      <td>02-744-0341</td>\n",
       "      <td>NaN</td>\n",
       "      <td>['']</td>\n",
       "      <td>● 잘 어질러진 방 : my place\\n          - 소소한 욕심들로 채워...</td>\n",
       "    </tr>\n",
       "    <tr>\n",
       "      <th>3</th>\n",
       "      <td>3</td>\n",
       "      <td>201301</td>\n",
       "      <td>부드러운 교란-백남준을 말하다 :: Media Art</td>\n",
       "      <td>http://www.arthub.co.kr/sub01/board03_view.htm...</td>\n",
       "      <td>['백남준', '저드 얄커트', '만프레드 레베', '샬럿 무어만']</td>\n",
       "      <td>2013-01-29 ▶ 2013-06-30</td>\n",
       "      <td>2013-02-07 PM 5:00</td>\n",
       "      <td>Open 10:00 ~ Close 18:00(2주, 4주 월요일 휴관)</td>\n",
       "      <td>백남준아트센터(NJP ART CENTER)  다른전시 보기</td>\n",
       "      <td>경기도 용인시 기흥구 상갈동 85</td>\n",
       "      <td>031-201-8529</td>\n",
       "      <td>www.njpartcenter.kr</td>\n",
       "      <td>['']</td>\n",
       "      <td>● 부드러운 교란-백남준을 말하다\\n        백남준아트센터의 2013년도 첫 ...</td>\n",
       "    </tr>\n",
       "    <tr>\n",
       "      <th>4</th>\n",
       "      <td>4</td>\n",
       "      <td>201301</td>\n",
       "      <td>space-scape :: Various</td>\n",
       "      <td>http://www.arthub.co.kr/sub01/board03_view.htm...</td>\n",
       "      <td>['김민정', '김병주', '김용관']</td>\n",
       "      <td>2013-01-05 ▶ 2013-01-28</td>\n",
       "      <td>NaN</td>\n",
       "      <td>Open 10:30 ~ Close 20:00(주말 20:30)</td>\n",
       "      <td>롯데갤러리 일산점  다른전시 보기</td>\n",
       "      <td>경기도 고양시 일산동구 장항동 784 롯데백화점 일산점 B1</td>\n",
       "      <td>031-909-2688</td>\n",
       "      <td>NaN</td>\n",
       "      <td>['']</td>\n",
       "      <td>● 세 가지 공간 그리고 하나의 풍경\\n        저희 롯데갤러리 일산점에서는 ...</td>\n",
       "    </tr>\n",
       "  </tbody>\n",
       "</table>\n",
       "</div>"
      ],
      "text/plain": [
       "   Unnamed: 0      연월                                 전시제목  \\\n",
       "0           0  201301       카페림보 - 김한민展 :: Exhibit Theater   \n",
       "1           1  201301                     박명희展 :: Painting   \n",
       "2           2  201301  잘 어질러진 방 : my place - 유소라展 :: Quilt   \n",
       "3           3  201301        부드러운 교란-백남준을 말하다 :: Media Art   \n",
       "4           4  201301               space-scape :: Various   \n",
       "\n",
       "                                                  링크  \\\n",
       "0  http://www.arthub.co.kr/sub01/board03_view.htm...   \n",
       "1  http://www.arthub.co.kr/sub01/board03_view.htm...   \n",
       "2  http://www.arthub.co.kr/sub01/board03_view.htm...   \n",
       "3  http://www.arthub.co.kr/sub01/board03_view.htm...   \n",
       "4  http://www.arthub.co.kr/sub01/board03_view.htm...   \n",
       "\n",
       "                                     전시작가                     전시일정  \\\n",
       "0                     ['김한민(Kim Hanmin)']  2013-01-02 ▶ 2013-02-27   \n",
       "1                  ['박명희(Park Myunghee)']  2013-01-15 ▶ 2013-01-27   \n",
       "2                        ['유소라(Yu Sora)']  2013-01-30 ▶ 2013-02-19   \n",
       "3  ['백남준', '저드 얄커트', '만프레드 레베', '샬럿 무어만']  2013-01-29 ▶ 2013-06-30   \n",
       "4                   ['김민정', '김병주', '김용관']  2013-01-05 ▶ 2013-01-28   \n",
       "\n",
       "                 초대일시                                     관람시간  \\\n",
       "0     2013-02-15 / 16                 Open 11:00 ~ Close 23:30   \n",
       "1                  없음                  Open 9:00 ~ Close 20:00   \n",
       "2  2013-01-30 PM 5:00         Open 10:00 ~ Close 18:00(일요일 휴관)   \n",
       "3  2013-02-07 PM 5:00  Open 10:00 ~ Close 18:00(2주, 4주 월요일 휴관)   \n",
       "4                 NaN       Open 10:30 ~ Close 20:00(주말 20:30)   \n",
       "\n",
       "                                     전시장소                                  주소  \\\n",
       "0  테이크아웃드로잉(Takeout Drawing) 이태원  다른전시 보기                   서울시 용산구 이태원동 637    \n",
       "1          세종갤러리(SEJONG GALLERY)  다른전시 보기             서울시 중구 충무로2가 61-3 세종호텔    \n",
       "2               갤러리41(Gallery41)  다른전시 보기                     서울시 종로구 사간동 41    \n",
       "3        백남준아트센터(NJP ART CENTER)  다른전시 보기                 경기도 용인시 기흥구 상갈동 85    \n",
       "4                      롯데갤러리 일산점  다른전시 보기  경기도 고양시 일산동구 장항동 784 롯데백화점 일산점 B1    \n",
       "\n",
       "            연락처                     홈페이지   아티클  \\\n",
       "0   02-790-2637   www.takeoutdrawing.com  ['']   \n",
       "1  02-3705-9021  www.sejonggallery.co.kr  ['']   \n",
       "2   02-744-0341                      NaN  ['']   \n",
       "3  031-201-8529      www.njpartcenter.kr  ['']   \n",
       "4  031-909-2688                      NaN  ['']   \n",
       "\n",
       "                                                 텍스트  \n",
       "0  ● 카페림보 - 김한민展\\n        생의 의미와 목적 그리고 사회에 대한 소속...  \n",
       "1  ● 박명희展\\n        ‘꿈과 자연’이라는 주제로 시각적인 형상과 상상의 나래...  \n",
       "2  ● 잘 어질러진 방 : my place\\n          - 소소한 욕심들로 채워...  \n",
       "3  ● 부드러운 교란-백남준을 말하다\\n        백남준아트센터의 2013년도 첫 ...  \n",
       "4  ● 세 가지 공간 그리고 하나의 풍경\\n        저희 롯데갤러리 일산점에서는 ...  "
      ]
     },
     "execution_count": 57,
     "metadata": {},
     "output_type": "execute_result"
    }
   ],
   "source": [
    "data = pd.read_csv('/Users/JEONG/Desktop/test2.csv')\n",
    "data.head(5)"
   ]
  },
  {
   "cell_type": "code",
   "execution_count": 58,
   "metadata": {
    "scrolled": true
   },
   "outputs": [],
   "source": [
    "data.fillna('', inplace = True)"
   ]
  },
  {
   "cell_type": "code",
   "execution_count": 72,
   "metadata": {
    "scrolled": true
   },
   "outputs": [
    {
     "name": "stderr",
     "output_type": "stream",
     "text": [
      "\n",
      "\n",
      "  0%|          | 0/181 [00:00<?, ?it/s]\u001b[A\u001b[A"
     ]
    },
    {
     "name": "stdout",
     "output_type": "stream",
     "text": [
      "Reading \"0\" ...\n",
      "Corpus is now 709 characters long\n"
     ]
    },
    {
     "name": "stderr",
     "output_type": "stream",
     "text": [
      "\n",
      "\n",
      "  1%|          | 1/181 [00:00<01:04,  2.79it/s]\u001b[A\u001b[A\n",
      "\n",
      "  1%|          | 2/181 [00:00<00:44,  4.04it/s]\u001b[A\u001b[A"
     ]
    },
    {
     "name": "stdout",
     "output_type": "stream",
     "text": [
      "\n",
      "Reading \"1\" ...\n",
      "Corpus is now 1053 characters long\n",
      "\n",
      "Reading \"2\" ...\n",
      "Corpus is now 3078 characters long\n"
     ]
    },
    {
     "name": "stderr",
     "output_type": "stream",
     "text": [
      "\n",
      "\n",
      "  2%|▏         | 3/181 [00:01<01:12,  2.45it/s]\u001b[A\u001b[A"
     ]
    },
    {
     "name": "stdout",
     "output_type": "stream",
     "text": [
      "\n",
      "Reading \"3\" ...\n",
      "Corpus is now 4214 characters long\n"
     ]
    },
    {
     "name": "stderr",
     "output_type": "stream",
     "text": [
      "\n",
      "\n",
      "  2%|▏         | 4/181 [00:01<01:18,  2.25it/s]\u001b[A\u001b[A"
     ]
    },
    {
     "name": "stdout",
     "output_type": "stream",
     "text": [
      "\n",
      "Reading \"4\" ...\n",
      "Corpus is now 4963 characters long\n"
     ]
    },
    {
     "name": "stderr",
     "output_type": "stream",
     "text": [
      "\n",
      "\n",
      "  3%|▎         | 5/181 [00:02<01:17,  2.26it/s]\u001b[A\u001b[A"
     ]
    },
    {
     "name": "stdout",
     "output_type": "stream",
     "text": [
      "\n",
      "Reading \"5\" ...\n",
      "Corpus is now 5918 characters long\n"
     ]
    },
    {
     "name": "stderr",
     "output_type": "stream",
     "text": [
      "\n",
      "\n",
      "  3%|▎         | 6/181 [00:02<01:24,  2.08it/s]\u001b[A\u001b[A"
     ]
    },
    {
     "name": "stdout",
     "output_type": "stream",
     "text": [
      "\n",
      "Reading \"6\" ...\n",
      "Corpus is now 6852 characters long\n"
     ]
    },
    {
     "name": "stderr",
     "output_type": "stream",
     "text": [
      "\n",
      "\n",
      "  4%|▍         | 7/181 [00:03<01:23,  2.08it/s]\u001b[A\u001b[A"
     ]
    },
    {
     "name": "stdout",
     "output_type": "stream",
     "text": [
      "\n",
      "Reading \"7\" ...\n",
      "Corpus is now 7803 characters long\n"
     ]
    },
    {
     "name": "stderr",
     "output_type": "stream",
     "text": [
      "\n",
      "\n",
      "  4%|▍         | 8/181 [00:03<01:23,  2.07it/s]\u001b[A\u001b[A"
     ]
    },
    {
     "name": "stdout",
     "output_type": "stream",
     "text": [
      "\n",
      "Reading \"8\" ...\n",
      "Corpus is now 12435 characters long\n"
     ]
    },
    {
     "name": "stderr",
     "output_type": "stream",
     "text": [
      "\n",
      "\n",
      "  5%|▍         | 9/181 [00:06<02:01,  1.42it/s]\u001b[A\u001b[A"
     ]
    },
    {
     "name": "stdout",
     "output_type": "stream",
     "text": [
      "\n",
      "Reading \"9\" ...\n",
      "Corpus is now 13887 characters long\n"
     ]
    },
    {
     "name": "stderr",
     "output_type": "stream",
     "text": [
      "\n",
      "\n",
      "  6%|▌         | 10/181 [00:07<01:59,  1.43it/s]\u001b[A\u001b[A"
     ]
    },
    {
     "name": "stdout",
     "output_type": "stream",
     "text": [
      "\n",
      "Reading \"10\" ...\n",
      "Corpus is now 16052 characters long\n"
     ]
    },
    {
     "name": "stderr",
     "output_type": "stream",
     "text": [
      "\n",
      "\n",
      "  6%|▌         | 11/181 [00:08<02:05,  1.36it/s]\u001b[A\u001b[A"
     ]
    },
    {
     "name": "stdout",
     "output_type": "stream",
     "text": [
      "\n",
      "Reading \"11\" ...\n",
      "Corpus is now 16902 characters long\n"
     ]
    },
    {
     "name": "stderr",
     "output_type": "stream",
     "text": [
      "\n",
      "\n",
      "  7%|▋         | 12/181 [00:08<02:00,  1.40it/s]\u001b[A\u001b[A"
     ]
    },
    {
     "name": "stdout",
     "output_type": "stream",
     "text": [
      "\n",
      "Reading \"12\" ...\n",
      "Corpus is now 18924 characters long\n"
     ]
    },
    {
     "name": "stderr",
     "output_type": "stream",
     "text": [
      "\n",
      "\n",
      "  7%|▋         | 13/181 [00:09<02:04,  1.35it/s]\u001b[A\u001b[A"
     ]
    },
    {
     "name": "stdout",
     "output_type": "stream",
     "text": [
      "\n",
      "Reading \"13\" ...\n",
      "Corpus is now 19862 characters long\n"
     ]
    },
    {
     "name": "stderr",
     "output_type": "stream",
     "text": [
      "\n",
      "\n",
      "  8%|▊         | 14/181 [00:10<02:00,  1.39it/s]\u001b[A\u001b[A"
     ]
    },
    {
     "name": "stdout",
     "output_type": "stream",
     "text": [
      "\n",
      "Reading \"14\" ...\n",
      "Corpus is now 21607 characters long\n"
     ]
    },
    {
     "name": "stderr",
     "output_type": "stream",
     "text": [
      "\n",
      "\n",
      "  8%|▊         | 15/181 [00:10<02:00,  1.37it/s]\u001b[A\u001b[A\n",
      "\n",
      "  9%|▉         | 16/181 [00:11<01:53,  1.45it/s]\u001b[A\u001b[A"
     ]
    },
    {
     "name": "stdout",
     "output_type": "stream",
     "text": [
      "\n",
      "Reading \"15\" ...\n",
      "Corpus is now 21867 characters long\n",
      "\n",
      "Reading \"16\" ...\n",
      "Corpus is now 22841 characters long\n"
     ]
    },
    {
     "name": "stderr",
     "output_type": "stream",
     "text": [
      "\n",
      "\n",
      "  9%|▉         | 17/181 [00:11<01:50,  1.48it/s]\u001b[A\u001b[A\n",
      "\n",
      " 10%|▉         | 18/181 [00:11<01:45,  1.55it/s]\u001b[A\u001b[A"
     ]
    },
    {
     "name": "stdout",
     "output_type": "stream",
     "text": [
      "\n",
      "Reading \"17\" ...\n",
      "Corpus is now 23085 characters long\n",
      "\n",
      "Reading \"18\" ...\n",
      "Corpus is now 25629 characters long\n"
     ]
    },
    {
     "name": "stderr",
     "output_type": "stream",
     "text": [
      "\n",
      "\n",
      " 10%|█         | 19/181 [00:13<01:52,  1.44it/s]\u001b[A\u001b[A"
     ]
    },
    {
     "name": "stdout",
     "output_type": "stream",
     "text": [
      "\n",
      "Reading \"19\" ...\n",
      "Corpus is now 27207 characters long\n"
     ]
    },
    {
     "name": "stderr",
     "output_type": "stream",
     "text": [
      "\n",
      "\n",
      " 11%|█         | 20/181 [00:14<01:53,  1.42it/s]\u001b[A\u001b[A"
     ]
    },
    {
     "name": "stdout",
     "output_type": "stream",
     "text": [
      "\n",
      "Reading \"20\" ...\n",
      "Corpus is now 28539 characters long\n"
     ]
    },
    {
     "name": "stderr",
     "output_type": "stream",
     "text": [
      "\n",
      "\n",
      " 12%|█▏        | 21/181 [00:15<01:55,  1.39it/s]\u001b[A\u001b[A"
     ]
    },
    {
     "name": "stdout",
     "output_type": "stream",
     "text": [
      "\n",
      "Reading \"21\" ...\n",
      "Corpus is now 29220 characters long\n"
     ]
    },
    {
     "name": "stderr",
     "output_type": "stream",
     "text": [
      "\n",
      "\n",
      " 12%|█▏        | 22/181 [00:15<01:53,  1.40it/s]\u001b[A\u001b[A"
     ]
    },
    {
     "name": "stdout",
     "output_type": "stream",
     "text": [
      "\n",
      "Reading \"22\" ...\n",
      "Corpus is now 29754 characters long\n"
     ]
    },
    {
     "name": "stderr",
     "output_type": "stream",
     "text": [
      "\n",
      "\n",
      " 13%|█▎        | 23/181 [00:15<01:49,  1.44it/s]\u001b[A\u001b[A"
     ]
    },
    {
     "name": "stdout",
     "output_type": "stream",
     "text": [
      "\n",
      "Reading \"23\" ...\n",
      "Corpus is now 29754 characters long\n",
      "\n",
      "Reading \"24\" ...\n",
      "Corpus is now 30625 characters long\n"
     ]
    },
    {
     "name": "stderr",
     "output_type": "stream",
     "text": [
      "\n",
      "\n",
      " 14%|█▍        | 25/181 [00:16<01:42,  1.52it/s]\u001b[A\u001b[A"
     ]
    },
    {
     "name": "stdout",
     "output_type": "stream",
     "text": [
      "\n",
      "Reading \"25\" ...\n",
      "Corpus is now 30747 characters long\n",
      "\n",
      "Reading \"26\" ...\n",
      "Corpus is now 32193 characters long\n"
     ]
    },
    {
     "name": "stderr",
     "output_type": "stream",
     "text": [
      "\n",
      "\n",
      " 15%|█▍        | 27/181 [00:17<01:40,  1.53it/s]\u001b[A\u001b[A"
     ]
    },
    {
     "name": "stdout",
     "output_type": "stream",
     "text": [
      "\n",
      "Reading \"27\" ...\n",
      "Corpus is now 32938 characters long\n"
     ]
    },
    {
     "name": "stderr",
     "output_type": "stream",
     "text": [
      "\n",
      "\n",
      " 15%|█▌        | 28/181 [00:18<01:39,  1.54it/s]\u001b[A\u001b[A"
     ]
    },
    {
     "name": "stdout",
     "output_type": "stream",
     "text": [
      "\n",
      "Reading \"28\" ...\n",
      "Corpus is now 33726 characters long\n"
     ]
    },
    {
     "name": "stderr",
     "output_type": "stream",
     "text": [
      "\n",
      "\n",
      " 16%|█▌        | 29/181 [00:18<01:38,  1.54it/s]\u001b[A\u001b[A"
     ]
    },
    {
     "name": "stdout",
     "output_type": "stream",
     "text": [
      "\n",
      "Reading \"29\" ...\n",
      "Corpus is now 34898 characters long\n"
     ]
    },
    {
     "name": "stderr",
     "output_type": "stream",
     "text": [
      "\n",
      "\n",
      " 17%|█▋        | 30/181 [00:19<01:39,  1.52it/s]\u001b[A\u001b[A"
     ]
    },
    {
     "name": "stdout",
     "output_type": "stream",
     "text": [
      "\n",
      "Reading \"30\" ...\n",
      "Corpus is now 37042 characters long\n"
     ]
    },
    {
     "name": "stderr",
     "output_type": "stream",
     "text": [
      "\n",
      "\n",
      " 17%|█▋        | 31/181 [00:21<01:42,  1.46it/s]\u001b[A\u001b[A"
     ]
    },
    {
     "name": "stdout",
     "output_type": "stream",
     "text": [
      "\n",
      "Reading \"31\" ...\n",
      "Corpus is now 38009 characters long\n"
     ]
    },
    {
     "name": "stderr",
     "output_type": "stream",
     "text": [
      "\n",
      "\n",
      " 18%|█▊        | 32/181 [00:21<01:41,  1.47it/s]\u001b[A\u001b[A"
     ]
    },
    {
     "name": "stdout",
     "output_type": "stream",
     "text": [
      "\n",
      "Reading \"32\" ...\n",
      "Corpus is now 40448 characters long\n"
     ]
    },
    {
     "name": "stderr",
     "output_type": "stream",
     "text": [
      "\n",
      "\n",
      " 18%|█▊        | 33/181 [00:24<01:48,  1.37it/s]\u001b[A\u001b[A"
     ]
    },
    {
     "name": "stdout",
     "output_type": "stream",
     "text": [
      "\n",
      "Reading \"33\" ...\n",
      "Corpus is now 41184 characters long\n"
     ]
    },
    {
     "name": "stderr",
     "output_type": "stream",
     "text": [
      "\n",
      "\n",
      " 19%|█▉        | 34/181 [00:24<01:47,  1.37it/s]\u001b[A\u001b[A"
     ]
    },
    {
     "name": "stdout",
     "output_type": "stream",
     "text": [
      "\n",
      "Reading \"34\" ...\n",
      "Corpus is now 43451 characters long\n"
     ]
    },
    {
     "name": "stderr",
     "output_type": "stream",
     "text": [
      "\n",
      "\n",
      " 19%|█▉        | 35/181 [00:26<01:49,  1.33it/s]\u001b[A\u001b[A"
     ]
    },
    {
     "name": "stdout",
     "output_type": "stream",
     "text": [
      "\n",
      "Reading \"35\" ...\n",
      "Corpus is now 44156 characters long\n"
     ]
    },
    {
     "name": "stderr",
     "output_type": "stream",
     "text": [
      "\n",
      "\n",
      " 20%|█▉        | 36/181 [00:26<01:48,  1.34it/s]\u001b[A\u001b[A"
     ]
    },
    {
     "name": "stdout",
     "output_type": "stream",
     "text": [
      "\n",
      "Reading \"36\" ...\n",
      "Corpus is now 45884 characters long\n"
     ]
    },
    {
     "name": "stderr",
     "output_type": "stream",
     "text": [
      "\n",
      "\n",
      " 20%|██        | 37/181 [00:28<01:50,  1.30it/s]\u001b[A\u001b[A\n",
      "\n",
      " 21%|██        | 38/181 [00:28<01:47,  1.33it/s]\u001b[A\u001b[A"
     ]
    },
    {
     "name": "stdout",
     "output_type": "stream",
     "text": [
      "\n",
      "Reading \"37\" ...\n",
      "Corpus is now 46002 characters long\n",
      "\n",
      "Reading \"38\" ...\n",
      "Corpus is now 46471 characters long\n"
     ]
    },
    {
     "name": "stderr",
     "output_type": "stream",
     "text": [
      "\n",
      "\n",
      " 22%|██▏       | 39/181 [00:28<01:45,  1.35it/s]\u001b[A\u001b[A"
     ]
    },
    {
     "name": "stdout",
     "output_type": "stream",
     "text": [
      "\n",
      "Reading \"39\" ...\n",
      "Corpus is now 51124 characters long\n"
     ]
    },
    {
     "name": "stderr",
     "output_type": "stream",
     "text": [
      "\n",
      "\n",
      " 22%|██▏       | 40/181 [00:32<01:54,  1.23it/s]\u001b[A\u001b[A"
     ]
    },
    {
     "name": "stdout",
     "output_type": "stream",
     "text": [
      "\n",
      "Reading \"40\" ...\n",
      "Corpus is now 52137 characters long\n"
     ]
    },
    {
     "name": "stderr",
     "output_type": "stream",
     "text": [
      "\n",
      "\n",
      " 23%|██▎       | 41/181 [00:33<01:52,  1.24it/s]\u001b[A\u001b[A"
     ]
    },
    {
     "name": "stdout",
     "output_type": "stream",
     "text": [
      "\n",
      "Reading \"41\" ...\n",
      "Corpus is now 52365 characters long\n",
      "\n",
      "Reading \"42\" ...\n",
      "Corpus is now 53200 characters long\n"
     ]
    },
    {
     "name": "stderr",
     "output_type": "stream",
     "text": [
      "\n",
      "\n",
      " 24%|██▍       | 43/181 [00:33<01:47,  1.28it/s]\u001b[A\u001b[A"
     ]
    },
    {
     "name": "stdout",
     "output_type": "stream",
     "text": [
      "\n",
      "Reading \"43\" ...\n",
      "Corpus is now 53786 characters long\n"
     ]
    },
    {
     "name": "stderr",
     "output_type": "stream",
     "text": [
      "\n",
      "\n",
      " 24%|██▍       | 44/181 [00:33<01:45,  1.30it/s]\u001b[A\u001b[A"
     ]
    },
    {
     "name": "stdout",
     "output_type": "stream",
     "text": [
      "\n",
      "Reading \"44\" ...\n",
      "Corpus is now 54901 characters long\n"
     ]
    },
    {
     "name": "stderr",
     "output_type": "stream",
     "text": [
      "\n",
      "\n",
      " 25%|██▍       | 45/181 [00:34<01:43,  1.31it/s]\u001b[A\u001b[A\n",
      "\n",
      " 25%|██▌       | 46/181 [00:34<01:41,  1.33it/s]\u001b[A\u001b[A"
     ]
    },
    {
     "name": "stdout",
     "output_type": "stream",
     "text": [
      "\n",
      "Reading \"45\" ...\n",
      "Corpus is now 55207 characters long\n",
      "\n",
      "Reading \"46\" ...\n",
      "Corpus is now 56416 characters long\n"
     ]
    },
    {
     "name": "stderr",
     "output_type": "stream",
     "text": [
      "\n",
      "\n",
      " 26%|██▌       | 47/181 [00:35<01:40,  1.33it/s]\u001b[A\u001b[A"
     ]
    },
    {
     "name": "stdout",
     "output_type": "stream",
     "text": [
      "\n",
      "Reading \"47\" ...\n",
      "Corpus is now 60459 characters long\n"
     ]
    },
    {
     "name": "stderr",
     "output_type": "stream",
     "text": [
      "\n",
      "\n",
      " 27%|██▋       | 48/181 [00:37<01:43,  1.28it/s]\u001b[A\u001b[A"
     ]
    },
    {
     "name": "stdout",
     "output_type": "stream",
     "text": [
      "\n",
      "Reading \"48\" ...\n",
      "Corpus is now 61697 characters long\n"
     ]
    },
    {
     "name": "stderr",
     "output_type": "stream",
     "text": [
      "\n",
      "\n",
      " 27%|██▋       | 49/181 [00:38<01:43,  1.28it/s]\u001b[A\u001b[A"
     ]
    },
    {
     "name": "stdout",
     "output_type": "stream",
     "text": [
      "\n",
      "Reading \"49\" ...\n",
      "Corpus is now 63210 characters long\n"
     ]
    },
    {
     "name": "stderr",
     "output_type": "stream",
     "text": [
      "\n",
      "\n",
      " 28%|██▊       | 50/181 [00:39<01:43,  1.27it/s]\u001b[A\u001b[A"
     ]
    },
    {
     "name": "stdout",
     "output_type": "stream",
     "text": [
      "\n",
      "Reading \"50\" ...\n",
      "Corpus is now 65075 characters long\n"
     ]
    },
    {
     "name": "stderr",
     "output_type": "stream",
     "text": [
      "\n",
      "\n",
      " 28%|██▊       | 51/181 [00:40<01:44,  1.25it/s]\u001b[A\u001b[A"
     ]
    },
    {
     "name": "stdout",
     "output_type": "stream",
     "text": [
      "\n",
      "Reading \"51\" ...\n",
      "Corpus is now 65404 characters long\n"
     ]
    },
    {
     "name": "stderr",
     "output_type": "stream",
     "text": [
      "\n",
      "\n",
      " 29%|██▊       | 52/181 [00:41<01:41,  1.27it/s]\u001b[A\u001b[A"
     ]
    },
    {
     "name": "stdout",
     "output_type": "stream",
     "text": [
      "\n",
      "Reading \"52\" ...\n",
      "Corpus is now 66961 characters long\n"
     ]
    },
    {
     "name": "stderr",
     "output_type": "stream",
     "text": [
      "\n",
      "\n",
      " 29%|██▉       | 53/181 [00:42<01:41,  1.26it/s]\u001b[A\u001b[A"
     ]
    },
    {
     "name": "stdout",
     "output_type": "stream",
     "text": [
      "\n",
      "Reading \"53\" ...\n",
      "Corpus is now 67468 characters long\n"
     ]
    },
    {
     "name": "stderr",
     "output_type": "stream",
     "text": [
      "\n",
      "\n",
      " 30%|██▉       | 54/181 [00:42<01:40,  1.27it/s]\u001b[A\u001b[A"
     ]
    },
    {
     "name": "stdout",
     "output_type": "stream",
     "text": [
      "\n",
      "Reading \"54\" ...\n",
      "Corpus is now 68491 characters long\n"
     ]
    },
    {
     "name": "stderr",
     "output_type": "stream",
     "text": [
      "\n",
      "\n",
      " 30%|███       | 55/181 [00:43<01:39,  1.27it/s]\u001b[A\u001b[A"
     ]
    },
    {
     "name": "stdout",
     "output_type": "stream",
     "text": [
      "\n",
      "Reading \"55\" ...\n",
      "Corpus is now 70551 characters long\n"
     ]
    },
    {
     "name": "stderr",
     "output_type": "stream",
     "text": [
      "\n",
      "\n",
      " 31%|███       | 56/181 [00:44<01:40,  1.25it/s]\u001b[A\u001b[A"
     ]
    },
    {
     "name": "stdout",
     "output_type": "stream",
     "text": [
      "\n",
      "Reading \"56\" ...\n",
      "Corpus is now 71079 characters long\n"
     ]
    },
    {
     "name": "stderr",
     "output_type": "stream",
     "text": [
      "\n",
      "\n",
      " 31%|███▏      | 57/181 [00:45<01:38,  1.26it/s]\u001b[A\u001b[A"
     ]
    },
    {
     "name": "stdout",
     "output_type": "stream",
     "text": [
      "\n",
      "Reading \"57\" ...\n",
      "Corpus is now 71452 characters long\n"
     ]
    },
    {
     "name": "stderr",
     "output_type": "stream",
     "text": [
      "\n",
      "\n",
      " 32%|███▏      | 58/181 [00:45<01:36,  1.27it/s]\u001b[A\u001b[A"
     ]
    },
    {
     "name": "stdout",
     "output_type": "stream",
     "text": [
      "\n",
      "Reading \"58\" ...\n",
      "Corpus is now 72040 characters long\n"
     ]
    },
    {
     "name": "stderr",
     "output_type": "stream",
     "text": [
      "\n",
      "\n",
      " 33%|███▎      | 59/181 [00:46<01:35,  1.28it/s]\u001b[A\u001b[A"
     ]
    },
    {
     "name": "stdout",
     "output_type": "stream",
     "text": [
      "\n",
      "Reading \"59\" ...\n",
      "Corpus is now 74163 characters long\n"
     ]
    },
    {
     "name": "stderr",
     "output_type": "stream",
     "text": [
      "\n",
      "\n",
      " 33%|███▎      | 60/181 [00:47<01:36,  1.26it/s]\u001b[A\u001b[A"
     ]
    },
    {
     "name": "stdout",
     "output_type": "stream",
     "text": [
      "\n",
      "Reading \"60\" ...\n",
      "Corpus is now 79145 characters long\n"
     ]
    },
    {
     "name": "stderr",
     "output_type": "stream",
     "text": [
      "\n",
      "\n",
      " 34%|███▎      | 61/181 [00:51<01:41,  1.18it/s]\u001b[A\u001b[A"
     ]
    },
    {
     "name": "stdout",
     "output_type": "stream",
     "text": [
      "\n",
      "Reading \"61\" ...\n",
      "Corpus is now 80065 characters long\n"
     ]
    },
    {
     "name": "stderr",
     "output_type": "stream",
     "text": [
      "\n",
      "\n",
      " 34%|███▍      | 62/181 [00:52<01:40,  1.18it/s]\u001b[A\u001b[A"
     ]
    },
    {
     "name": "stdout",
     "output_type": "stream",
     "text": [
      "\n",
      "Reading \"62\" ...\n",
      "Corpus is now 82040 characters long\n"
     ]
    },
    {
     "name": "stderr",
     "output_type": "stream",
     "text": [
      "\n",
      "\n",
      " 35%|███▍      | 63/181 [00:53<01:39,  1.18it/s]\u001b[A\u001b[A"
     ]
    },
    {
     "name": "stdout",
     "output_type": "stream",
     "text": [
      "\n",
      "Reading \"63\" ...\n",
      "Corpus is now 84322 characters long\n"
     ]
    },
    {
     "name": "stderr",
     "output_type": "stream",
     "text": [
      "\n",
      "\n",
      " 35%|███▌      | 64/181 [00:54<01:39,  1.18it/s]\u001b[A\u001b[A"
     ]
    },
    {
     "name": "stdout",
     "output_type": "stream",
     "text": [
      "\n",
      "Reading \"64\" ...\n",
      "Corpus is now 85094 characters long\n"
     ]
    },
    {
     "name": "stderr",
     "output_type": "stream",
     "text": [
      "\n",
      "\n",
      " 36%|███▌      | 65/181 [00:54<01:37,  1.19it/s]\u001b[A\u001b[A"
     ]
    },
    {
     "name": "stdout",
     "output_type": "stream",
     "text": [
      "\n",
      "Reading \"65\" ...\n",
      "Corpus is now 88088 characters long\n"
     ]
    },
    {
     "name": "stderr",
     "output_type": "stream",
     "text": [
      "\n",
      "\n",
      " 36%|███▋      | 66/181 [00:55<01:36,  1.19it/s]\u001b[A\u001b[A"
     ]
    },
    {
     "name": "stdout",
     "output_type": "stream",
     "text": [
      "\n",
      "Reading \"66\" ...\n",
      "Corpus is now 89758 characters long\n"
     ]
    },
    {
     "name": "stderr",
     "output_type": "stream",
     "text": [
      "\n",
      "\n",
      " 37%|███▋      | 67/181 [00:56<01:35,  1.19it/s]\u001b[A\u001b[A"
     ]
    },
    {
     "name": "stdout",
     "output_type": "stream",
     "text": [
      "\n",
      "Reading \"67\" ...\n",
      "Corpus is now 90690 characters long\n"
     ]
    },
    {
     "name": "stderr",
     "output_type": "stream",
     "text": [
      "\n",
      "\n",
      " 38%|███▊      | 68/181 [00:56<01:34,  1.20it/s]\u001b[A\u001b[A"
     ]
    },
    {
     "name": "stdout",
     "output_type": "stream",
     "text": [
      "\n",
      "Reading \"68\" ...\n",
      "Corpus is now 91850 characters long\n"
     ]
    },
    {
     "name": "stderr",
     "output_type": "stream",
     "text": [
      "\n",
      "\n",
      " 38%|███▊      | 69/181 [00:57<01:33,  1.20it/s]\u001b[A\u001b[A"
     ]
    },
    {
     "name": "stdout",
     "output_type": "stream",
     "text": [
      "\n",
      "Reading \"69\" ...\n",
      "Corpus is now 94269 characters long\n"
     ]
    },
    {
     "name": "stderr",
     "output_type": "stream",
     "text": [
      "\n",
      "\n",
      " 39%|███▊      | 70/181 [00:59<01:34,  1.18it/s]\u001b[A\u001b[A"
     ]
    },
    {
     "name": "stdout",
     "output_type": "stream",
     "text": [
      "\n",
      "Reading \"70\" ...\n",
      "Corpus is now 94269 characters long\n",
      "\n",
      "Reading \"71\" ...\n",
      "Corpus is now 95611 characters long\n"
     ]
    },
    {
     "name": "stderr",
     "output_type": "stream",
     "text": [
      "\n",
      "\n",
      " 40%|███▉      | 72/181 [01:00<01:30,  1.20it/s]\u001b[A\u001b[A"
     ]
    },
    {
     "name": "stdout",
     "output_type": "stream",
     "text": [
      "\n",
      "Reading \"72\" ...\n",
      "Corpus is now 97847 characters long\n"
     ]
    },
    {
     "name": "stderr",
     "output_type": "stream",
     "text": [
      "\n",
      "\n",
      " 40%|████      | 73/181 [01:01<01:30,  1.19it/s]\u001b[A\u001b[A"
     ]
    },
    {
     "name": "stdout",
     "output_type": "stream",
     "text": [
      "\n",
      "Reading \"73\" ...\n",
      "Corpus is now 99075 characters long\n"
     ]
    },
    {
     "name": "stderr",
     "output_type": "stream",
     "text": [
      "\n",
      "\n",
      " 41%|████      | 74/181 [01:01<01:29,  1.20it/s]\u001b[A\u001b[A"
     ]
    },
    {
     "name": "stdout",
     "output_type": "stream",
     "text": [
      "\n",
      "Reading \"74\" ...\n",
      "Corpus is now 100401 characters long\n"
     ]
    },
    {
     "name": "stderr",
     "output_type": "stream",
     "text": [
      "\n",
      "\n",
      " 41%|████▏     | 75/181 [01:02<01:28,  1.20it/s]\u001b[A\u001b[A"
     ]
    },
    {
     "name": "stdout",
     "output_type": "stream",
     "text": [
      "\n",
      "Reading \"75\" ...\n",
      "Corpus is now 103161 characters long\n"
     ]
    },
    {
     "name": "stderr",
     "output_type": "stream",
     "text": [
      "\n",
      "\n",
      " 42%|████▏     | 76/181 [01:04<01:28,  1.18it/s]\u001b[A\u001b[A"
     ]
    },
    {
     "name": "stdout",
     "output_type": "stream",
     "text": [
      "\n",
      "Reading \"76\" ...\n",
      "Corpus is now 104570 characters long\n"
     ]
    },
    {
     "name": "stderr",
     "output_type": "stream",
     "text": [
      "\n",
      "\n",
      " 43%|████▎     | 77/181 [01:05<01:27,  1.18it/s]\u001b[A\u001b[A"
     ]
    },
    {
     "name": "stdout",
     "output_type": "stream",
     "text": [
      "\n",
      "Reading \"77\" ...\n",
      "Corpus is now 105233 characters long\n"
     ]
    },
    {
     "name": "stderr",
     "output_type": "stream",
     "text": [
      "\n",
      "\n",
      " 43%|████▎     | 78/181 [01:05<01:26,  1.19it/s]\u001b[A\u001b[A"
     ]
    },
    {
     "name": "stdout",
     "output_type": "stream",
     "text": [
      "\n",
      "Reading \"78\" ...\n",
      "Corpus is now 106852 characters long\n"
     ]
    },
    {
     "name": "stderr",
     "output_type": "stream",
     "text": [
      "\n",
      "\n",
      " 44%|████▎     | 79/181 [01:05<01:24,  1.20it/s]\u001b[A\u001b[A\n",
      "\n",
      " 44%|████▍     | 80/181 [01:05<01:23,  1.21it/s]\u001b[A\u001b[A"
     ]
    },
    {
     "name": "stdout",
     "output_type": "stream",
     "text": [
      "\n",
      "Reading \"79\" ...\n",
      "Corpus is now 107081 characters long\n",
      "\n",
      "Reading \"80\" ...\n",
      "Corpus is now 107531 characters long\n"
     ]
    },
    {
     "name": "stderr",
     "output_type": "stream",
     "text": [
      "\n",
      "\n",
      " 45%|████▍     | 81/181 [01:06<01:21,  1.22it/s]\u001b[A\u001b[A"
     ]
    },
    {
     "name": "stdout",
     "output_type": "stream",
     "text": [
      "\n",
      "Reading \"81\" ...\n",
      "Corpus is now 108943 characters long\n"
     ]
    },
    {
     "name": "stderr",
     "output_type": "stream",
     "text": [
      "\n",
      "\n",
      " 45%|████▌     | 82/181 [01:07<01:21,  1.22it/s]\u001b[A\u001b[A"
     ]
    },
    {
     "name": "stdout",
     "output_type": "stream",
     "text": [
      "\n",
      "Reading \"82\" ...\n",
      "Corpus is now 112225 characters long\n"
     ]
    },
    {
     "name": "stderr",
     "output_type": "stream",
     "text": [
      "\n",
      "\n",
      " 46%|████▌     | 83/181 [01:09<01:22,  1.19it/s]\u001b[A\u001b[A"
     ]
    },
    {
     "name": "stdout",
     "output_type": "stream",
     "text": [
      "\n",
      "Reading \"83\" ...\n",
      "Corpus is now 113964 characters long\n"
     ]
    },
    {
     "name": "stderr",
     "output_type": "stream",
     "text": [
      "\n",
      "\n",
      " 46%|████▋     | 84/181 [01:10<01:21,  1.19it/s]\u001b[A\u001b[A"
     ]
    },
    {
     "name": "stdout",
     "output_type": "stream",
     "text": [
      "\n",
      "Reading \"84\" ...\n",
      "Corpus is now 114810 characters long\n"
     ]
    },
    {
     "name": "stderr",
     "output_type": "stream",
     "text": [
      "\n",
      "\n",
      " 47%|████▋     | 85/181 [01:11<01:20,  1.19it/s]\u001b[A\u001b[A"
     ]
    },
    {
     "name": "stdout",
     "output_type": "stream",
     "text": [
      "\n",
      "Reading \"85\" ...\n",
      "Corpus is now 115133 characters long\n"
     ]
    },
    {
     "name": "stderr",
     "output_type": "stream",
     "text": [
      "\n",
      "\n",
      " 48%|████▊     | 86/181 [01:11<01:18,  1.20it/s]\u001b[A\u001b[A"
     ]
    },
    {
     "name": "stdout",
     "output_type": "stream",
     "text": [
      "\n",
      "Reading \"86\" ...\n",
      "Corpus is now 117003 characters long\n"
     ]
    },
    {
     "name": "stderr",
     "output_type": "stream",
     "text": [
      "\n",
      "\n",
      " 48%|████▊     | 87/181 [01:12<01:18,  1.19it/s]\u001b[A\u001b[A"
     ]
    },
    {
     "name": "stdout",
     "output_type": "stream",
     "text": [
      "\n",
      "Reading \"87\" ...\n",
      "Corpus is now 118132 characters long\n"
     ]
    },
    {
     "name": "stderr",
     "output_type": "stream",
     "text": [
      "\n",
      "\n",
      " 49%|████▊     | 88/181 [01:13<01:17,  1.19it/s]\u001b[A\u001b[A"
     ]
    },
    {
     "name": "stdout",
     "output_type": "stream",
     "text": [
      "\n",
      "Reading \"88\" ...\n",
      "Corpus is now 119147 characters long\n"
     ]
    },
    {
     "name": "stderr",
     "output_type": "stream",
     "text": [
      "\n",
      "\n",
      " 49%|████▉     | 89/181 [01:14<01:16,  1.20it/s]\u001b[A\u001b[A"
     ]
    },
    {
     "name": "stdout",
     "output_type": "stream",
     "text": [
      "\n",
      "Reading \"89\" ...\n",
      "Corpus is now 121238 characters long\n"
     ]
    },
    {
     "name": "stderr",
     "output_type": "stream",
     "text": [
      "\n",
      "\n",
      " 50%|████▉     | 90/181 [01:15<01:16,  1.19it/s]\u001b[A\u001b[A"
     ]
    },
    {
     "name": "stdout",
     "output_type": "stream",
     "text": [
      "\n",
      "Reading \"90\" ...\n",
      "Corpus is now 122368 characters long\n"
     ]
    },
    {
     "name": "stderr",
     "output_type": "stream",
     "text": [
      "\n",
      "\n",
      " 50%|█████     | 91/181 [01:16<01:15,  1.19it/s]\u001b[A\u001b[A"
     ]
    },
    {
     "name": "stdout",
     "output_type": "stream",
     "text": [
      "\n",
      "Reading \"91\" ...\n",
      "Corpus is now 123358 characters long\n"
     ]
    },
    {
     "name": "stderr",
     "output_type": "stream",
     "text": [
      "\n",
      "\n",
      " 51%|█████     | 92/181 [01:16<01:14,  1.20it/s]\u001b[A\u001b[A"
     ]
    },
    {
     "name": "stdout",
     "output_type": "stream",
     "text": [
      "\n",
      "Reading \"92\" ...\n",
      "Corpus is now 123834 characters long\n"
     ]
    },
    {
     "name": "stderr",
     "output_type": "stream",
     "text": [
      "\n",
      "\n",
      " 51%|█████▏    | 93/181 [01:17<01:13,  1.21it/s]\u001b[A\u001b[A"
     ]
    },
    {
     "name": "stdout",
     "output_type": "stream",
     "text": [
      "\n",
      "Reading \"93\" ...\n",
      "Corpus is now 125860 characters long\n"
     ]
    },
    {
     "name": "stderr",
     "output_type": "stream",
     "text": [
      "\n",
      "\n",
      " 52%|█████▏    | 94/181 [01:18<01:12,  1.20it/s]\u001b[A\u001b[A"
     ]
    },
    {
     "name": "stdout",
     "output_type": "stream",
     "text": [
      "\n",
      "Reading \"94\" ...\n",
      "Corpus is now 127683 characters long\n"
     ]
    },
    {
     "name": "stderr",
     "output_type": "stream",
     "text": [
      "\n",
      "\n",
      " 52%|█████▏    | 95/181 [01:19<01:11,  1.19it/s]\u001b[A\u001b[A"
     ]
    },
    {
     "name": "stdout",
     "output_type": "stream",
     "text": [
      "\n",
      "Reading \"95\" ...\n",
      "Corpus is now 129282 characters long\n"
     ]
    },
    {
     "name": "stderr",
     "output_type": "stream",
     "text": [
      "\n",
      "\n",
      " 53%|█████▎    | 96/181 [01:20<01:11,  1.19it/s]\u001b[A\u001b[A"
     ]
    },
    {
     "name": "stdout",
     "output_type": "stream",
     "text": [
      "\n",
      "Reading \"96\" ...\n",
      "Corpus is now 130003 characters long\n"
     ]
    },
    {
     "name": "stderr",
     "output_type": "stream",
     "text": [
      "\n",
      "\n",
      " 54%|█████▎    | 97/181 [01:20<01:10,  1.20it/s]\u001b[A\u001b[A"
     ]
    },
    {
     "name": "stdout",
     "output_type": "stream",
     "text": [
      "\n",
      "Reading \"97\" ...\n",
      "Corpus is now 130017 characters long\n",
      "\n",
      "Reading \"98\" ...\n",
      "Corpus is now 132379 characters long\n"
     ]
    },
    {
     "name": "stderr",
     "output_type": "stream",
     "text": [
      "\n",
      "\n",
      " 55%|█████▍    | 99/181 [01:22<01:08,  1.20it/s]\u001b[A\u001b[A"
     ]
    },
    {
     "name": "stdout",
     "output_type": "stream",
     "text": [
      "\n",
      "Reading \"99\" ...\n",
      "Corpus is now 132856 characters long\n"
     ]
    },
    {
     "name": "stderr",
     "output_type": "stream",
     "text": [
      "\n",
      "\n",
      " 55%|█████▌    | 100/181 [01:22<01:07,  1.21it/s]\u001b[A\u001b[A"
     ]
    },
    {
     "name": "stdout",
     "output_type": "stream",
     "text": [
      "\n",
      "Reading \"100\" ...\n",
      "Corpus is now 132863 characters long\n",
      "\n",
      "Reading \"101\" ...\n",
      "Corpus is now 134527 characters long\n"
     ]
    },
    {
     "name": "stderr",
     "output_type": "stream",
     "text": [
      "\n",
      "\n",
      " 56%|█████▋    | 102/181 [01:23<01:04,  1.22it/s]\u001b[A\u001b[A"
     ]
    },
    {
     "name": "stdout",
     "output_type": "stream",
     "text": [
      "\n",
      "Reading \"102\" ...\n",
      "Corpus is now 135244 characters long\n"
     ]
    },
    {
     "name": "stderr",
     "output_type": "stream",
     "text": [
      "\n",
      "\n",
      " 57%|█████▋    | 103/181 [01:24<01:03,  1.22it/s]\u001b[A\u001b[A"
     ]
    },
    {
     "name": "stdout",
     "output_type": "stream",
     "text": [
      "\n",
      "Reading \"103\" ...\n",
      "Corpus is now 137492 characters long\n"
     ]
    },
    {
     "name": "stderr",
     "output_type": "stream",
     "text": [
      "\n",
      "\n",
      " 57%|█████▋    | 104/181 [01:25<01:03,  1.21it/s]\u001b[A\u001b[A"
     ]
    },
    {
     "name": "stdout",
     "output_type": "stream",
     "text": [
      "\n",
      "Reading \"104\" ...\n",
      "Corpus is now 140892 characters long\n"
     ]
    },
    {
     "name": "stderr",
     "output_type": "stream",
     "text": [
      "\n",
      "\n",
      " 58%|█████▊    | 105/181 [01:27<01:03,  1.19it/s]\u001b[A\u001b[A"
     ]
    },
    {
     "name": "stdout",
     "output_type": "stream",
     "text": [
      "\n",
      "Reading \"105\" ...\n",
      "Corpus is now 143103 characters long\n"
     ]
    },
    {
     "name": "stderr",
     "output_type": "stream",
     "text": [
      "\n",
      "\n",
      " 59%|█████▊    | 106/181 [01:29<01:03,  1.19it/s]\u001b[A\u001b[A"
     ]
    },
    {
     "name": "stdout",
     "output_type": "stream",
     "text": [
      "\n",
      "Reading \"106\" ...\n",
      "Corpus is now 146311 characters long\n"
     ]
    },
    {
     "name": "stderr",
     "output_type": "stream",
     "text": [
      "\n",
      "\n",
      " 59%|█████▉    | 107/181 [01:30<01:02,  1.18it/s]\u001b[A\u001b[A"
     ]
    },
    {
     "name": "stdout",
     "output_type": "stream",
     "text": [
      "\n",
      "Reading \"107\" ...\n",
      "Corpus is now 148570 characters long\n"
     ]
    },
    {
     "name": "stderr",
     "output_type": "stream",
     "text": [
      "\n",
      "\n",
      " 60%|█████▉    | 108/181 [01:32<01:02,  1.17it/s]\u001b[A\u001b[A"
     ]
    },
    {
     "name": "stdout",
     "output_type": "stream",
     "text": [
      "\n",
      "Reading \"108\" ...\n",
      "Corpus is now 148895 characters long\n"
     ]
    },
    {
     "name": "stderr",
     "output_type": "stream",
     "text": [
      "\n",
      "\n",
      " 60%|██████    | 109/181 [01:32<01:00,  1.18it/s]\u001b[A\u001b[A"
     ]
    },
    {
     "name": "stdout",
     "output_type": "stream",
     "text": [
      "\n",
      "Reading \"109\" ...\n",
      "Corpus is now 152443 characters long\n"
     ]
    },
    {
     "name": "stderr",
     "output_type": "stream",
     "text": [
      "\n",
      "\n",
      " 61%|██████    | 110/181 [01:34<01:00,  1.17it/s]\u001b[A\u001b[A"
     ]
    },
    {
     "name": "stdout",
     "output_type": "stream",
     "text": [
      "\n",
      "Reading \"110\" ...\n",
      "Corpus is now 155630 characters long\n"
     ]
    },
    {
     "name": "stderr",
     "output_type": "stream",
     "text": [
      "\n",
      "\n",
      " 61%|██████▏   | 111/181 [01:35<01:00,  1.16it/s]\u001b[A\u001b[A"
     ]
    },
    {
     "name": "stdout",
     "output_type": "stream",
     "text": [
      "\n",
      "Reading \"111\" ...\n",
      "Corpus is now 156319 characters long\n"
     ]
    },
    {
     "name": "stderr",
     "output_type": "stream",
     "text": [
      "\n",
      "\n",
      " 62%|██████▏   | 112/181 [01:36<00:59,  1.17it/s]\u001b[A\u001b[A"
     ]
    },
    {
     "name": "stdout",
     "output_type": "stream",
     "text": [
      "\n",
      "Reading \"112\" ...\n",
      "Corpus is now 156319 characters long\n",
      "\n",
      "Reading \"113\" ...\n",
      "Corpus is now 157341 characters long\n"
     ]
    },
    {
     "name": "stderr",
     "output_type": "stream",
     "text": [
      "\n",
      "\n",
      " 63%|██████▎   | 114/181 [01:36<00:56,  1.18it/s]\u001b[A\u001b[A"
     ]
    },
    {
     "name": "stdout",
     "output_type": "stream",
     "text": [
      "\n",
      "Reading \"114\" ...\n",
      "Corpus is now 158282 characters long\n"
     ]
    },
    {
     "name": "stderr",
     "output_type": "stream",
     "text": [
      "\n",
      "\n",
      " 64%|██████▎   | 115/181 [01:36<00:55,  1.19it/s]\u001b[A\u001b[A"
     ]
    },
    {
     "name": "stdout",
     "output_type": "stream",
     "text": [
      "\n",
      "Reading \"115\" ...\n",
      "Corpus is now 159725 characters long\n"
     ]
    },
    {
     "name": "stderr",
     "output_type": "stream",
     "text": [
      "\n",
      "\n",
      " 64%|██████▍   | 116/181 [01:37<00:54,  1.19it/s]\u001b[A\u001b[A"
     ]
    },
    {
     "name": "stdout",
     "output_type": "stream",
     "text": [
      "\n",
      "Reading \"116\" ...\n",
      "Corpus is now 159739 characters long\n",
      "\n",
      "Reading \"117\" ...\n",
      "Corpus is now 160055 characters long\n"
     ]
    },
    {
     "name": "stderr",
     "output_type": "stream",
     "text": [
      "\n",
      "\n",
      " 65%|██████▌   | 118/181 [01:38<00:52,  1.20it/s]\u001b[A\u001b[A"
     ]
    },
    {
     "name": "stdout",
     "output_type": "stream",
     "text": [
      "\n",
      "Reading \"118\" ...\n",
      "Corpus is now 160979 characters long\n"
     ]
    },
    {
     "name": "stderr",
     "output_type": "stream",
     "text": [
      "\n",
      "\n",
      " 66%|██████▌   | 119/181 [01:38<00:51,  1.21it/s]\u001b[A\u001b[A"
     ]
    },
    {
     "name": "stdout",
     "output_type": "stream",
     "text": [
      "\n",
      "Reading \"119\" ...\n",
      "Corpus is now 162168 characters long\n"
     ]
    },
    {
     "name": "stderr",
     "output_type": "stream",
     "text": [
      "\n",
      "\n",
      " 66%|██████▋   | 120/181 [01:39<00:50,  1.21it/s]\u001b[A\u001b[A"
     ]
    },
    {
     "name": "stdout",
     "output_type": "stream",
     "text": [
      "\n",
      "Reading \"120\" ...\n",
      "Corpus is now 162689 characters long\n"
     ]
    },
    {
     "name": "stderr",
     "output_type": "stream",
     "text": [
      "\n",
      "\n",
      " 67%|██████▋   | 121/181 [01:39<00:49,  1.22it/s]\u001b[A\u001b[A"
     ]
    },
    {
     "name": "stdout",
     "output_type": "stream",
     "text": [
      "\n",
      "Reading \"121\" ...\n",
      "Corpus is now 163952 characters long\n"
     ]
    },
    {
     "name": "stderr",
     "output_type": "stream",
     "text": [
      "\n",
      "\n",
      " 67%|██████▋   | 122/181 [01:40<00:48,  1.22it/s]\u001b[A\u001b[A"
     ]
    },
    {
     "name": "stdout",
     "output_type": "stream",
     "text": [
      "\n",
      "Reading \"122\" ...\n",
      "Corpus is now 165272 characters long\n"
     ]
    },
    {
     "name": "stderr",
     "output_type": "stream",
     "text": [
      "\n",
      "\n",
      " 68%|██████▊   | 123/181 [01:40<00:47,  1.22it/s]\u001b[A\u001b[A"
     ]
    },
    {
     "name": "stdout",
     "output_type": "stream",
     "text": [
      "\n",
      "Reading \"123\" ...\n",
      "Corpus is now 166423 characters long\n"
     ]
    },
    {
     "name": "stderr",
     "output_type": "stream",
     "text": [
      "\n",
      "\n",
      " 69%|██████▊   | 124/181 [01:41<00:46,  1.22it/s]\u001b[A\u001b[A"
     ]
    },
    {
     "name": "stdout",
     "output_type": "stream",
     "text": [
      "\n",
      "Reading \"124\" ...\n",
      "Corpus is now 168633 characters long\n"
     ]
    },
    {
     "name": "stderr",
     "output_type": "stream",
     "text": [
      "\n",
      "\n",
      " 69%|██████▉   | 125/181 [01:42<00:46,  1.22it/s]\u001b[A\u001b[A"
     ]
    },
    {
     "name": "stdout",
     "output_type": "stream",
     "text": [
      "\n",
      "Reading \"125\" ...\n",
      "Corpus is now 172084 characters long\n"
     ]
    },
    {
     "name": "stderr",
     "output_type": "stream",
     "text": [
      "\n",
      "\n",
      " 70%|██████▉   | 126/181 [01:44<00:45,  1.20it/s]\u001b[A\u001b[A"
     ]
    },
    {
     "name": "stdout",
     "output_type": "stream",
     "text": [
      "\n",
      "Reading \"126\" ...\n",
      "Corpus is now 172958 characters long\n"
     ]
    },
    {
     "name": "stderr",
     "output_type": "stream",
     "text": [
      "\n",
      "\n",
      " 70%|███████   | 127/181 [01:45<00:44,  1.20it/s]\u001b[A\u001b[A"
     ]
    },
    {
     "name": "stdout",
     "output_type": "stream",
     "text": [
      "\n",
      "Reading \"127\" ...\n",
      "Corpus is now 173539 characters long\n"
     ]
    },
    {
     "name": "stderr",
     "output_type": "stream",
     "text": [
      "\n",
      "\n",
      " 71%|███████   | 128/181 [01:45<00:43,  1.21it/s]\u001b[A\u001b[A"
     ]
    },
    {
     "name": "stdout",
     "output_type": "stream",
     "text": [
      "\n",
      "Reading \"128\" ...\n",
      "Corpus is now 175234 characters long\n"
     ]
    },
    {
     "name": "stderr",
     "output_type": "stream",
     "text": [
      "\n",
      "\n",
      " 71%|███████▏  | 129/181 [01:47<00:43,  1.21it/s]\u001b[A\u001b[A"
     ]
    },
    {
     "name": "stdout",
     "output_type": "stream",
     "text": [
      "\n",
      "Reading \"129\" ...\n",
      "Corpus is now 177306 characters long\n"
     ]
    },
    {
     "name": "stderr",
     "output_type": "stream",
     "text": [
      "\n",
      "\n",
      " 72%|███████▏  | 130/181 [01:48<00:42,  1.20it/s]\u001b[A\u001b[A"
     ]
    },
    {
     "name": "stdout",
     "output_type": "stream",
     "text": [
      "\n",
      "Reading \"130\" ...\n",
      "Corpus is now 178239 characters long\n"
     ]
    },
    {
     "name": "stderr",
     "output_type": "stream",
     "text": [
      "\n",
      "\n",
      " 72%|███████▏  | 131/181 [01:48<00:41,  1.20it/s]\u001b[A\u001b[A\n",
      "\n",
      " 73%|███████▎  | 132/181 [01:48<00:40,  1.21it/s]\u001b[A\u001b[A"
     ]
    },
    {
     "name": "stdout",
     "output_type": "stream",
     "text": [
      "\n",
      "Reading \"131\" ...\n",
      "Corpus is now 178376 characters long\n",
      "\n",
      "Reading \"132\" ...\n",
      "Corpus is now 178709 characters long\n"
     ]
    },
    {
     "name": "stderr",
     "output_type": "stream",
     "text": [
      "\n",
      "\n",
      " 73%|███████▎  | 133/181 [01:49<00:39,  1.22it/s]\u001b[A\u001b[A"
     ]
    },
    {
     "name": "stdout",
     "output_type": "stream",
     "text": [
      "\n",
      "Reading \"133\" ...\n",
      "Corpus is now 180061 characters long\n"
     ]
    },
    {
     "name": "stderr",
     "output_type": "stream",
     "text": [
      "\n",
      "\n",
      " 74%|███████▍  | 134/181 [01:50<00:38,  1.22it/s]\u001b[A\u001b[A"
     ]
    },
    {
     "name": "stdout",
     "output_type": "stream",
     "text": [
      "\n",
      "Reading \"134\" ...\n",
      "Corpus is now 180754 characters long\n"
     ]
    },
    {
     "name": "stderr",
     "output_type": "stream",
     "text": [
      "\n",
      "\n",
      " 75%|███████▍  | 135/181 [01:50<00:37,  1.22it/s]\u001b[A\u001b[A"
     ]
    },
    {
     "name": "stdout",
     "output_type": "stream",
     "text": [
      "\n",
      "Reading \"135\" ...\n",
      "Corpus is now 181404 characters long\n"
     ]
    },
    {
     "name": "stderr",
     "output_type": "stream",
     "text": [
      "\n",
      "\n",
      " 75%|███████▌  | 136/181 [01:50<00:36,  1.23it/s]\u001b[A\u001b[A\n",
      "\n",
      " 76%|███████▌  | 137/181 [01:51<00:35,  1.23it/s]\u001b[A\u001b[A"
     ]
    },
    {
     "name": "stdout",
     "output_type": "stream",
     "text": [
      "\n",
      "Reading \"136\" ...\n",
      "Corpus is now 181683 characters long\n",
      "\n",
      "Reading \"137\" ...\n",
      "Corpus is now 182232 characters long\n"
     ]
    },
    {
     "name": "stderr",
     "output_type": "stream",
     "text": [
      "\n",
      "\n",
      " 76%|███████▌  | 138/181 [01:51<00:34,  1.24it/s]\u001b[A\u001b[A"
     ]
    },
    {
     "name": "stdout",
     "output_type": "stream",
     "text": [
      "\n",
      "Reading \"138\" ...\n",
      "Corpus is now 183563 characters long\n"
     ]
    },
    {
     "name": "stderr",
     "output_type": "stream",
     "text": [
      "\n",
      "\n",
      " 77%|███████▋  | 139/181 [01:52<00:33,  1.24it/s]\u001b[A\u001b[A"
     ]
    },
    {
     "name": "stdout",
     "output_type": "stream",
     "text": [
      "\n",
      "Reading \"139\" ...\n",
      "Corpus is now 184537 characters long\n"
     ]
    },
    {
     "name": "stderr",
     "output_type": "stream",
     "text": [
      "\n",
      "\n",
      " 77%|███████▋  | 140/181 [01:52<00:33,  1.24it/s]\u001b[A\u001b[A"
     ]
    },
    {
     "name": "stdout",
     "output_type": "stream",
     "text": [
      "\n",
      "Reading \"140\" ...\n",
      "Corpus is now 185350 characters long\n"
     ]
    },
    {
     "name": "stderr",
     "output_type": "stream",
     "text": [
      "\n",
      "\n",
      " 78%|███████▊  | 141/181 [01:53<00:32,  1.24it/s]\u001b[A\u001b[A"
     ]
    },
    {
     "name": "stdout",
     "output_type": "stream",
     "text": [
      "\n",
      "Reading \"141\" ...\n",
      "Corpus is now 186596 characters long\n"
     ]
    },
    {
     "name": "stderr",
     "output_type": "stream",
     "text": [
      "\n",
      "\n",
      " 78%|███████▊  | 142/181 [01:54<00:31,  1.24it/s]\u001b[A\u001b[A"
     ]
    },
    {
     "name": "stdout",
     "output_type": "stream",
     "text": [
      "\n",
      "Reading \"142\" ...\n",
      "Corpus is now 188334 characters long\n"
     ]
    },
    {
     "name": "stderr",
     "output_type": "stream",
     "text": [
      "\n",
      "\n",
      " 79%|███████▉  | 143/181 [01:55<00:30,  1.24it/s]\u001b[A\u001b[A"
     ]
    },
    {
     "name": "stdout",
     "output_type": "stream",
     "text": [
      "\n",
      "Reading \"143\" ...\n",
      "Corpus is now 188911 characters long\n"
     ]
    },
    {
     "name": "stderr",
     "output_type": "stream",
     "text": [
      "\n",
      "\n",
      " 80%|███████▉  | 144/181 [01:55<00:29,  1.24it/s]\u001b[A\u001b[A"
     ]
    },
    {
     "name": "stdout",
     "output_type": "stream",
     "text": [
      "\n",
      "Reading \"144\" ...\n",
      "Corpus is now 194939 characters long\n"
     ]
    },
    {
     "name": "stderr",
     "output_type": "stream",
     "text": [
      "\n",
      "\n",
      " 80%|████████  | 145/181 [02:00<00:30,  1.20it/s]\u001b[A\u001b[A"
     ]
    },
    {
     "name": "stdout",
     "output_type": "stream",
     "text": [
      "\n",
      "Reading \"145\" ...\n",
      "Corpus is now 196944 characters long\n"
     ]
    },
    {
     "name": "stderr",
     "output_type": "stream",
     "text": [
      "\n",
      "\n",
      " 81%|████████  | 146/181 [02:02<00:29,  1.20it/s]\u001b[A\u001b[A"
     ]
    },
    {
     "name": "stdout",
     "output_type": "stream",
     "text": [
      "\n",
      "Reading \"146\" ...\n",
      "Corpus is now 197619 characters long\n"
     ]
    },
    {
     "name": "stderr",
     "output_type": "stream",
     "text": [
      "\n",
      "\n",
      " 81%|████████  | 147/181 [02:02<00:28,  1.20it/s]\u001b[A\u001b[A"
     ]
    },
    {
     "name": "stdout",
     "output_type": "stream",
     "text": [
      "\n",
      "Reading \"147\" ...\n",
      "Corpus is now 198911 characters long\n"
     ]
    },
    {
     "name": "stderr",
     "output_type": "stream",
     "text": [
      "\n",
      "\n",
      " 82%|████████▏ | 148/181 [02:03<00:27,  1.20it/s]\u001b[A\u001b[A"
     ]
    },
    {
     "name": "stdout",
     "output_type": "stream",
     "text": [
      "\n",
      "Reading \"148\" ...\n",
      "Corpus is now 201131 characters long\n"
     ]
    },
    {
     "name": "stderr",
     "output_type": "stream",
     "text": [
      "\n",
      "\n",
      " 82%|████████▏ | 149/181 [02:05<00:26,  1.19it/s]\u001b[A\u001b[A"
     ]
    },
    {
     "name": "stdout",
     "output_type": "stream",
     "text": [
      "\n",
      "Reading \"149\" ...\n",
      "Corpus is now 201989 characters long\n"
     ]
    },
    {
     "name": "stderr",
     "output_type": "stream",
     "text": [
      "\n",
      "\n",
      " 83%|████████▎ | 150/181 [02:06<00:26,  1.19it/s]\u001b[A\u001b[A\n",
      "\n",
      " 83%|████████▎ | 151/181 [02:06<00:25,  1.20it/s]\u001b[A\u001b[A"
     ]
    },
    {
     "name": "stdout",
     "output_type": "stream",
     "text": [
      "\n",
      "Reading \"150\" ...\n",
      "Corpus is now 202234 characters long\n",
      "\n",
      "Reading \"151\" ...\n",
      "Corpus is now 203982 characters long\n"
     ]
    },
    {
     "name": "stderr",
     "output_type": "stream",
     "text": [
      "\n",
      "\n",
      " 84%|████████▍ | 152/181 [02:07<00:24,  1.19it/s]\u001b[A\u001b[A"
     ]
    },
    {
     "name": "stdout",
     "output_type": "stream",
     "text": [
      "\n",
      "Reading \"152\" ...\n",
      "Corpus is now 204571 characters long\n"
     ]
    },
    {
     "name": "stderr",
     "output_type": "stream",
     "text": [
      "\n",
      "\n",
      " 85%|████████▍ | 153/181 [02:07<00:23,  1.20it/s]\u001b[A\u001b[A\n",
      "\n",
      " 85%|████████▌ | 154/181 [02:08<00:22,  1.20it/s]\u001b[A\u001b[A"
     ]
    },
    {
     "name": "stdout",
     "output_type": "stream",
     "text": [
      "\n",
      "Reading \"153\" ...\n",
      "Corpus is now 204957 characters long\n",
      "\n",
      "Reading \"154\" ...\n",
      "Corpus is now 206214 characters long\n"
     ]
    },
    {
     "name": "stderr",
     "output_type": "stream",
     "text": [
      "\n",
      "\n",
      " 86%|████████▌ | 155/181 [02:08<00:21,  1.20it/s]\u001b[A\u001b[A"
     ]
    },
    {
     "name": "stdout",
     "output_type": "stream",
     "text": [
      "\n",
      "Reading \"155\" ...\n",
      "Corpus is now 210413 characters long\n"
     ]
    },
    {
     "name": "stderr",
     "output_type": "stream",
     "text": [
      "\n",
      "\n",
      " 86%|████████▌ | 156/181 [02:11<00:21,  1.18it/s]\u001b[A\u001b[A\n",
      "\n",
      " 87%|████████▋ | 157/181 [02:11<00:20,  1.19it/s]\u001b[A\u001b[A"
     ]
    },
    {
     "name": "stdout",
     "output_type": "stream",
     "text": [
      "\n",
      "Reading \"156\" ...\n",
      "Corpus is now 210789 characters long\n",
      "\n",
      "Reading \"157\" ...\n",
      "Corpus is now 212821 characters long\n"
     ]
    },
    {
     "name": "stderr",
     "output_type": "stream",
     "text": [
      "\n",
      "\n",
      " 87%|████████▋ | 158/181 [02:13<00:19,  1.19it/s]\u001b[A\u001b[A"
     ]
    },
    {
     "name": "stdout",
     "output_type": "stream",
     "text": [
      "\n",
      "Reading \"158\" ...\n",
      "Corpus is now 214411 characters long\n"
     ]
    },
    {
     "name": "stderr",
     "output_type": "stream",
     "text": [
      "\n",
      "\n",
      " 88%|████████▊ | 159/181 [02:14<00:18,  1.19it/s]\u001b[A\u001b[A"
     ]
    },
    {
     "name": "stdout",
     "output_type": "stream",
     "text": [
      "\n",
      "Reading \"159\" ...\n",
      "Corpus is now 216709 characters long\n"
     ]
    },
    {
     "name": "stderr",
     "output_type": "stream",
     "text": [
      "\n",
      "\n",
      " 88%|████████▊ | 160/181 [02:15<00:17,  1.18it/s]\u001b[A\u001b[A"
     ]
    },
    {
     "name": "stdout",
     "output_type": "stream",
     "text": [
      "\n",
      "Reading \"160\" ...\n",
      "Corpus is now 219084 characters long\n"
     ]
    },
    {
     "name": "stderr",
     "output_type": "stream",
     "text": [
      "\n",
      "\n",
      " 89%|████████▉ | 161/181 [02:18<00:17,  1.16it/s]\u001b[A\u001b[A"
     ]
    },
    {
     "name": "stdout",
     "output_type": "stream",
     "text": [
      "\n",
      "Reading \"161\" ...\n",
      "Corpus is now 219533 characters long\n"
     ]
    },
    {
     "name": "stderr",
     "output_type": "stream",
     "text": [
      "\n",
      "\n",
      " 90%|████████▉ | 162/181 [02:19<00:16,  1.16it/s]\u001b[A\u001b[A"
     ]
    },
    {
     "name": "stdout",
     "output_type": "stream",
     "text": [
      "\n",
      "Reading \"162\" ...\n",
      "Corpus is now 219533 characters long\n",
      "\n",
      "Reading \"163\" ...\n",
      "Corpus is now 223081 characters long\n"
     ]
    },
    {
     "name": "stderr",
     "output_type": "stream",
     "text": [
      "\n",
      "\n",
      " 91%|█████████ | 164/181 [02:21<00:14,  1.16it/s]\u001b[A\u001b[A"
     ]
    },
    {
     "name": "stdout",
     "output_type": "stream",
     "text": [
      "\n",
      "Reading \"164\" ...\n",
      "Corpus is now 223393 characters long\n"
     ]
    },
    {
     "name": "stderr",
     "output_type": "stream",
     "text": [
      "\n",
      "\n",
      " 91%|█████████ | 165/181 [02:21<00:13,  1.16it/s]\u001b[A\u001b[A"
     ]
    },
    {
     "name": "stdout",
     "output_type": "stream",
     "text": [
      "\n",
      "Reading \"165\" ...\n",
      "Corpus is now 224333 characters long\n"
     ]
    },
    {
     "name": "stderr",
     "output_type": "stream",
     "text": [
      "\n",
      "\n",
      " 92%|█████████▏| 166/181 [02:22<00:12,  1.16it/s]\u001b[A\u001b[A"
     ]
    },
    {
     "name": "stdout",
     "output_type": "stream",
     "text": [
      "\n",
      "Reading \"166\" ...\n",
      "Corpus is now 227070 characters long\n"
     ]
    },
    {
     "name": "stderr",
     "output_type": "stream",
     "text": [
      "\n",
      "\n",
      " 92%|█████████▏| 167/181 [02:24<00:12,  1.16it/s]\u001b[A\u001b[A"
     ]
    },
    {
     "name": "stdout",
     "output_type": "stream",
     "text": [
      "\n",
      "Reading \"167\" ...\n",
      "Corpus is now 228337 characters long\n"
     ]
    },
    {
     "name": "stderr",
     "output_type": "stream",
     "text": [
      "\n",
      "\n",
      " 93%|█████████▎| 168/181 [02:25<00:11,  1.16it/s]\u001b[A\u001b[A"
     ]
    },
    {
     "name": "stdout",
     "output_type": "stream",
     "text": [
      "\n",
      "Reading \"168\" ...\n",
      "Corpus is now 230054 characters long\n"
     ]
    },
    {
     "name": "stderr",
     "output_type": "stream",
     "text": [
      "\n",
      "\n",
      " 93%|█████████▎| 169/181 [02:26<00:10,  1.15it/s]\u001b[A\u001b[A"
     ]
    },
    {
     "name": "stdout",
     "output_type": "stream",
     "text": [
      "\n",
      "Reading \"169\" ...\n",
      "Corpus is now 230998 characters long\n"
     ]
    },
    {
     "name": "stderr",
     "output_type": "stream",
     "text": [
      "\n",
      "\n",
      " 94%|█████████▍| 170/181 [02:27<00:09,  1.15it/s]\u001b[A\u001b[A"
     ]
    },
    {
     "name": "stdout",
     "output_type": "stream",
     "text": [
      "\n",
      "Reading \"170\" ...\n",
      "Corpus is now 236398 characters long\n"
     ]
    },
    {
     "name": "stderr",
     "output_type": "stream",
     "text": [
      "\n",
      "\n",
      " 94%|█████████▍| 171/181 [02:31<00:08,  1.13it/s]\u001b[A\u001b[A"
     ]
    },
    {
     "name": "stdout",
     "output_type": "stream",
     "text": [
      "\n",
      "Reading \"171\" ...\n",
      "Corpus is now 238372 characters long\n"
     ]
    },
    {
     "name": "stderr",
     "output_type": "stream",
     "text": [
      "\n",
      "\n",
      " 95%|█████████▌| 172/181 [02:33<00:08,  1.12it/s]\u001b[A\u001b[A"
     ]
    },
    {
     "name": "stdout",
     "output_type": "stream",
     "text": [
      "\n",
      "Reading \"172\" ...\n",
      "Corpus is now 239245 characters long\n"
     ]
    },
    {
     "name": "stderr",
     "output_type": "stream",
     "text": [
      "\n",
      "\n",
      " 96%|█████████▌| 173/181 [02:33<00:07,  1.13it/s]\u001b[A\u001b[A"
     ]
    },
    {
     "name": "stdout",
     "output_type": "stream",
     "text": [
      "\n",
      "Reading \"173\" ...\n",
      "Corpus is now 239615 characters long\n"
     ]
    },
    {
     "name": "stderr",
     "output_type": "stream",
     "text": [
      "\n",
      "\n",
      " 96%|█████████▌| 174/181 [02:33<00:06,  1.13it/s]\u001b[A\u001b[A"
     ]
    },
    {
     "name": "stdout",
     "output_type": "stream",
     "text": [
      "\n",
      "Reading \"174\" ...\n",
      "Corpus is now 240301 characters long\n"
     ]
    },
    {
     "name": "stderr",
     "output_type": "stream",
     "text": [
      "\n",
      "\n",
      " 97%|█████████▋| 175/181 [02:34<00:05,  1.14it/s]\u001b[A\u001b[A"
     ]
    },
    {
     "name": "stdout",
     "output_type": "stream",
     "text": [
      "\n",
      "Reading \"175\" ...\n",
      "Corpus is now 242617 characters long\n"
     ]
    },
    {
     "name": "stderr",
     "output_type": "stream",
     "text": [
      "\n",
      "\n",
      " 97%|█████████▋| 176/181 [02:35<00:04,  1.13it/s]\u001b[A\u001b[A"
     ]
    },
    {
     "name": "stdout",
     "output_type": "stream",
     "text": [
      "\n",
      "Reading \"176\" ...\n",
      "Corpus is now 245077 characters long\n"
     ]
    },
    {
     "name": "stderr",
     "output_type": "stream",
     "text": [
      "\n",
      "\n",
      " 98%|█████████▊| 177/181 [02:36<00:03,  1.13it/s]\u001b[A\u001b[A"
     ]
    },
    {
     "name": "stdout",
     "output_type": "stream",
     "text": [
      "\n",
      "Reading \"177\" ...\n",
      "Corpus is now 246884 characters long\n"
     ]
    },
    {
     "name": "stderr",
     "output_type": "stream",
     "text": [
      "\n",
      "\n",
      " 98%|█████████▊| 178/181 [02:37<00:02,  1.13it/s]\u001b[A\u001b[A"
     ]
    },
    {
     "name": "stdout",
     "output_type": "stream",
     "text": [
      "\n",
      "Reading \"178\" ...\n",
      "Corpus is now 248309 characters long\n"
     ]
    },
    {
     "name": "stderr",
     "output_type": "stream",
     "text": [
      "\n",
      "\n",
      " 99%|█████████▉| 179/181 [02:38<00:01,  1.13it/s]\u001b[A\u001b[A"
     ]
    },
    {
     "name": "stdout",
     "output_type": "stream",
     "text": [
      "\n",
      "Reading \"179\" ...\n",
      "Corpus is now 255075 characters long\n"
     ]
    },
    {
     "name": "stderr",
     "output_type": "stream",
     "text": [
      "\n",
      "\n",
      " 99%|█████████▉| 180/181 [02:41<00:00,  1.11it/s]\u001b[A\u001b[A"
     ]
    },
    {
     "name": "stdout",
     "output_type": "stream",
     "text": [
      "\n",
      "Reading \"180\" ...\n",
      "Corpus is now 255658 characters long\n"
     ]
    },
    {
     "name": "stderr",
     "output_type": "stream",
     "text": [
      "\n",
      "\n",
      "100%|██████████| 181/181 [02:42<00:00,  1.12it/s]\u001b[A\u001b[A\n",
      "\n",
      "\u001b[A\u001b[A"
     ]
    },
    {
     "name": "stdout",
     "output_type": "stream",
     "text": [
      "\n"
     ]
    }
   ],
   "source": [
    "corpus_raw = u\"\"\n",
    "sentences = []\n",
    "for i,text in enumerate(tqdm(data['텍스트'])) :\n",
    "    print('Reading \"{}\" ...'.format(i))\n",
    "    text = re.sub(r'[^a-zA-Z가-힣]', \" \", text)\n",
    "    text = re.sub(r'[ ]{3,}', \" \", text)\n",
    "    corpus_raw += text\n",
    "    print(\"Corpus is now {} characters long\".format(len(corpus_raw)))\n",
    "    sentences.extend(k.sentences(text))\n",
    "    print()"
   ]
  },
  {
   "cell_type": "code",
   "execution_count": 73,
   "metadata": {},
   "outputs": [
    {
     "data": {
      "text/plain": [
       "'  카페림보 김한민 생의 의미와 목적 그리고 사회에 대한 소속감을 철저히 잃어버린  명  림보족 들이 황폐함의 나라 제  국에서 벌이는 게릴라식 저항 과정을 다룬 그래픽 노블  카페림보 를 원작으로 한 창작극이 테이크아웃드로잉 이태원동에서 최초 상연된다 년  월과 월  테이크아웃드로잉 이태원동은  카페림보 가 된다  작가 김한민은 극단장이 되고  무대미술가 이수연은 큐레이터이자 공간연출자가 되며 카페 공간은 연극의 무대로 변신한다  극장의 형식에 구애 받음 없이 자유스러운 연극 공간의 창출과 즉흥적 성격을 강조한 환경연극 의 정신을 이어받아 연극 카페림보 는 무대와 객석  관람방식에 대한 고정된 틀을 깨고자 한다  마치 작품들이 살아 움직이는 상상 속의 미술관에 온 것처럼  관람객들은 도슨트의 안내를 받아 공간에 전시된 작품들을 둘러보다가  그 작품들이 스스로 연극을 벌이는 것을 접하게 되며 미리 고안된 몇몇 장치들에 의해 자연스럽게 연극의 한 부분에 동화되는 기묘한 체험을 하게 된다 그래서  전시 연극 이 이 특별한 연극의 또 다른 이름이다 이 연극적 실험은  카페의 일반 이용객들은 눈길을 끄는 전시물들을 따라 자연스럽게 전시장이자 연극무대로 변화한 공간을 평소보다 조금 더 자세히 관찰하고 조금 더 새롭게 인지하게 되기를  원작을 아는 독자의 경우는 책이 삼차원 공간에 구현되어 어느 순간 책 속에 들어와 있는 것 같은 경험을 하게 되기를 기대한다   박명희 꿈과 자연 이라는 주제로 시각적인 형상과 상상의 나래로 펼쳐진 모습들을 아름다운 색채로 표현해 박명희 작가는 오랜 세월  그림을 통해 작가의 내면을 더욱 아름답게 치장했습니다  그것은 일상의 굴레에서 벗어나 자연이라는 창문을 통해 아름다운 꿈과 영혼의 세계로 떠나는 하나의 여행이기도 합니다  흩날리는 바람처럼 간결하면서도 가녀린 붓터치는 사랑에 빠진 신부의 마음을 대변합니다  밝고 화사한 색채는 앞으로 다가올 밝은 미래에 대한 기대감을 보여주는 장치입니다  박명희 작가의 여행에서 만난 순백의 웨딩드레스를 걸친 신부들  작가는 그 신부들을 사랑하고 그들과 삶의 환희를 공유하며 그들을 그리고 있습니다   잘 어질러진 방 my place 소소한 욕심들로 채워진 장소가 존재를 이야기하다 과 이 있다 은 대체로 부정적인 의미인데 은  하고자하는 의욕 이란다  나는 두 가지 욕심 모두를 그린다 소소한 욕심 과 에서 비롯된 물건과 이야기들은  내가 없이도 나의 존재를 증명해줄 나의 방이나 작업실과 같은 공간을 채운다  사람들의 개인적인 장소는 각자의 욕심이 만들어 내는 것이라고 생각한다  욕심이 많은 사람 일 수 록 더욱 더 개성 있는 장소를 꾸리고 있지 않은가  나는 이러한 욕심이 만들어낸 세계와 존재감을 다양한 각도에서 바라보며 욕심을 긍정적인 에너지  일상 그 자체로 표현한다  작품 속 작은 아이는 때때로 감당하기 힘든 버거움 속에서 즐거워하는 듯 보인다  그것은 나를 위협하는 욕심이 아니라 오히려 애정이기에  나에게 욕심은 곧 애정  애착이고 에너지이며 내가 믿는  나 이다 우리 집  나의 방 작업실의 내 책상  내 자리  나의 서랍  어떤 날이든 내가 있거나 없거나 상관없이 그 자리에서  나의 장소로써 나를 품고 있다 나의 장소에 가득 차있는 사물이라는 이야기들은 지금도 그 자리에서 나의 존재를 증명하고 있다  처음으로 나의 집을 방문한 사람이 어지러진 나의 방을 보며 집에 대한 나의 애착을 조금이라도 이해 할 수 있을까  이 장소가 나에게 어떤 존재인지  전혀 쓸모없어 보이는 물건이 왜 자리를 차지하고 있는지 아무리 설명한들 그대로 느낄 수 있을까  어질러진 더러운 방의 리얼리티가 아니라  삼성이나 스타벅스 같은 리얼리티가 아니라  말로는 다 설명할 수 없는 그 장소에 대한 기억인 것이다  이 물건이 어떤 의미가 있냐고 물으면 대답하기 어렵다  대신 어떤 사연이 있냐고 물어주기를 바란다  그 물건에 담긴 것은  의미 라기 보다  이야기 라고 할 수 있으니 긴 여행 후에  차례차례 기억을 떠올리는 것 보다 여행 가방을 열고 이야기 하는 것이 더 수월 하듯 사물 은 놓치기 쉽상인 일상 또는 순간의 경험을 회상할 수 있는 흔적이며 일기장 수십 권 보다 더 선명하고 오래가는 기록이다 이 풍경이  어질러진 것인지  진열된 것인지 나와 같은 기분으로 바라 볼 수 있는 사람이 있을까  나의 커피 잔에 당신이 엄청난 관심을 가져 주길 바라는 것은 아니다  누가 읽기를 바라며 일기를 쓰는 사람은 없다 미니홈피 다이어리라면 좀 다르겠지만 나의 그림들은 일기와 같다  다만  에 따른 기록이 아니라 장소  또는 사물에 대한 기록이다  각각의 물건이 함께해온 시간만큼의 이야기를 품어  나의 방은 그곳을 채운 물건들과 따로 떼어놓고 설명 할 수 없는 특별한 곳이 된다  내가 매일 메고다니는 가방 속은 그 많은 이야기가 담긴 물건들로 채워진 작은 나의 방이며  내가 잠시 머물렀던 카페의 테이블들은 그 가방속의 물건들이 그날 그날의 이유에 따라 놓여진 나의 장소가 된다  내가 살고있는 공간 안에서 시작해 내가 지나고 머무는 곳들이 순간 순간의 나의 장소로서 앞으로 계속해서 그려져 나갈 것이며  그려짐으로 인해 더 특별한 존재로 함께 살아 갈 것이다 종이에 그린 그림을 부드럽고 푹신한 캔버스에 옮기는 것  누군가는 소묘로  또는 조각으로 사실적인 표현을 하듯이 나는 천을 누비는 기법을 이용해 바느질 선으로 구성된 그림에 약간의 입체감을 가지게 한다  빛에 따라 선뿐인 그림이 되기도  사실적인 명암이 생기기도 한다 연필로 뎃생을 할 때 생기는 잔 선들과 같이 재봉틀로 그림을 그려나가는 과정에서 늘어뜨리는 실들은  고정되지 않고 그림에서 뻗어 나와 그때 그때의 새로운 이야기를 만든다  아무것도 그려지지 않은 흰 캔버스가 조명아래에서 그 얼굴을 드러내기도  다른 느낌의 그림이 되기도 한다  셀 수 없을 만큼 각기 다른 색을 가진 사물들이지만 나에게 무엇 하나 다름없이 소중한 존재이자 나의 흔적이기에 혼잡한 색이 아닌 그 따뜻한 존재감  혹은 그 에너지만을 그려낸다  부드럽고 따뜻한 덩어리는 나의 애정 어린 욕심의 결정이며 그것을  차원의 종이로부터  차원의 현실로 끄집어내려고 하는 것이다  눈에 보이지 않는 욕심  애정  기억과 같은 것들이 실제로 현실에서 부피를 차지하는 존재가 되도록   부드러운 교란 백남준을 말하다 백남준아트센터의 년도 첫 전시인  부드러운 교란 백남준을 말하다 는 백남준의 작품 중에서 가장 정치적이었다고 평가받는  과달카날 레퀴엠 에서 출발합니다  태평양에 있는 솔로몬 군도의 과달카날 섬은 제  차 세계대전 중 일본군에 대한 연합군의 첫 번째 공세가 펼쳐진 격전지였습니다  백남준이 첼리스트 샬롯 무어먼과 년 촬영한 이 비디오 작업에서 무어먼은 해변에서 군복을 입고 총 대신 첼로를 등에 맨 채 포복하고  치유를 의미하는 요셉 보이스의 펠트천으로 감싼 첼로로 백남준의  평화 소나타 를 연주합니다  백남준은 무어먼의 퍼포먼스  당시 참전자들의 인터뷰  격전 장면을 교차 편집하고 이미지들을 겹치거나 색상을 변조하는 등의 조작을 통하여 이 작품을 완성하였습니다 년대 유럽과 미국에서는 신구 세대 간의 갈등이 극에 치달으며 혁명을 비롯한 기존의 사회질서에 강력하게 반대하는 운동이 끊임없이 일어났습니다  이러한 움직임은 문화예술계에서도 마찬가지였습니다  특히 비디오는 대다수의 관객과 공유할 수 있는 기기의 특성상 세상을 변화시키기 위한 도구로 각광받으며  부조리한 세상에 도전하는 예술가들에게 중요한 도구가 되었습니다 과달카날 레퀴엠 은 세계를 파괴하는 전쟁의 속성뿐만 아니라 사회적 금기에 대한 저항을 담아낸 비디오 작품입니다  이 작업은 년 뉴욕의 카네기홀에서 감옥에서 정글로 라는 제목으로 처음 선보였는데 여기에서 감옥은 무어먼이 년 옷을 벗은 채 첼로를 연주했던 오페라 섹스트로닉  공연을 의미합니다  백남준은 음악 분야에서 금기시되던 성 을 전면에 내세워 클래식 음악은 성스러워야 한다는 통념에 저항하였습니다  이는 보수적인 미국 사회에 충격을 가한 사건으로 이후 백남준은 문화 테러리스트로 불리기도 했습니다 과달카날 레퀴엠 을 통해 전쟁에 대한 기억과 트라우마가 승자와 패자 모두에게 상처임을 환기시키면서 백남준은 시공간을 넘나드는 비디오 샤먼으로 존재합니다 또한 그는 유목민적인 예술가의 삶을 통해 각기 다른 세계와 소통하고 경계를 넘나드는 부드러운 교란자이기도 했습니다  이번 전시에서는 백남준의 부드러운 교란을 보여주는  과달카날 레퀴엠 오페라 섹스트로닉 과 함께 백남준에게 정치적인 예술이란 무엇인지  사회 참여란 무엇인지에 대한 질문을 던지는 작품과 자료들이 전시됩니다   세 가지 공간 그리고 하나의 풍경 저희 롯데갤러리 일산점에서는 신년특별기획전으로  space scape 를 마련하였습니다  전시제목에서 scape 는  풍경 의 의미로 space 에 scape 를 붙여 전시장 안의 특색 있는 공간이 겹쳐져  공간이 이루는 풍경 의 의미로  space scape 이라 정하였습니다  공간을 주제로 작업하는 세 명의 작가가 나름의 방법으로 재해석한 세 가지 공간이 이어져 하나의 풍경이 된 이 공간의 매력으로 빠져들어 보시길 바랍니다 김용관 재구성된 시점의 공간 우리의 눈으로 한번에 포착하기 어려운 장면을 평면 안에 작품으로 담아 가상세계 체험을 가능하게 합니다  김용관의 대표작인  PARALLAX VIEWPORT 를 통해 우리가 볼 수 없는 다양한 각도에서 물체를 동시에 바라보는 시점을 제공해주며 상상으로만 가능하였던 장면과 경험을 선사합니다 김병주 무한한 가능성의 공간 선을 중첩시켜 공간을 만들어내는 김병주의 작품에는 안과 밖이라 규정짓는 그 경계 자체가 모호합니다  안과 밖의 뚜렷한 경계가 없고 명확한 구분은 사라져 안과 밖 그 사이에 새로운 공간이 생겨나고 그림자로까지 확장 되는 무한한 가능선의 공간을 선보입니다 김민정 초현실이 녹아 드는 공간 김민정은 봄과 겨울이 공존하는  새로운 공간 을 만들어냅니다  다른 두 개의 시간과 장소가 한 화면에 합쳐져 완전히 새로운 시공간이 만들어집니다  신작  꽃피는 봄이오면 은 사진과 영상을 결합하여 조각적으로 표현한 새로운 시공간을 보여줍니다   꽃들의 외출 황규태 황규태  한국현대사진의 아방가르드 한국현대사진사의 맥락에 있어서 황규태작가는 너무나 독보적인 위치를 점유하고 있습니다  포스트모던 사진에 관한 논의가 본격화 되기 훨씬 이전인 년대부터 이미 대담한 작업으로 충격과 논쟁을 불러왔습니다 황규태 꽃들의 외출 은 기법과 주제에 있어서 유형과 경향  사조를 특정할 수 없는 다양한 실험과 시도를 보여준 아방가르디스트의 한 단면을 만나 보고자 합니다 매혹적인 꽃들의 향연 꽃들의 외출 은 꽃을 테마로 한 년대 초반의 작업들입니다  작품의 꽃은 가짜와 진짜가 혼재되어 있으며  살아있는 것과 죽은 것의 구별이 모호하고  활짝 피어난 봄 꽃에서 삭아서 사라져가는 낙엽 흩날리는 홀씨  말라 바스러진 꽃 등 시점과 형태가 다릅니다  사진을 촬영한 방법도 다르고  촬영 후 처리 과정에서도 스트레이트 한 재현에서 과장된 포토샵까지 보정과 변형의 정도 차도 큽니다  꽃 이라는 비슷한 소재의 작품에서 살펴볼 수 있는 이런 시각과 관점  태도  제작방식의 다양함과 자유로움은 황규태 작품세계의 뚜렷한 특징입니다 현실의 평범함을 뒤트는 유머와 익살  공인된 고상함을 희롱하는 반골적인 키치성  아카데믹한 규정이나 기존 방식을 가볍게 넘나드는 반사진적 태도가 테크놀로지 속에서 피어납니다  그럼에도 숨긴 꽃에서 향기가 피어나듯 느껴지는 우아함과 서정성은 채집  차용 합성  변형과정을 매만지는 작가의 미학적 작위와 저변의 정서를 보여줍니다 가짜가 아름답다 진짜보다 아름다운 가짜  가짜보다 비현실적인 현실의 이미지는 오랫동안 가지고 있던 관념을 뒤엎는 작가의 도발입니다  관객은 아름다움이란 인식은 공인되고 확정될 수 있는 것인가  자연스러움이란 허상인가 실상인가  현재라는 이미지는 명징한 사실인가에 대한 혼돈스러운 자문과 자답을 반복하게 될 것입니다  디지털시대  테크놀로지를 매개로 펼쳐진 우리가 살고 있는 이미지 세계의 매트릭스를 만나보시기 바랍니다   Fashion과 Passion사이 드로잉  은 어반아트가 젊은 예술가들을 지원해주기 위한 공간으로써 한해의 시작을 도전적으로 살아가는 세 여성 작가의 전시를 통해 그들의 도전 정신을 칭찬하고 새해를 힘차게 시작하고자 한다 Fashion과 Passion이라는 주제의 이번 전시는 인의 여성 모두 여성과 패션을 주제로 하고 있으며 패션과 일러스트 평면꼴라쥬를 선보이게 된다  이 장르들이 공통점이 없다고 생각할지 모르나 이들 세 여성 작가들은 옷과 섬유 fashion이라는 공통의 관심사로 귀착되어 다양한 전공의 섭렵과 크로스 오버된 활동 영역을 덧입힌 발전된 결과물을 보여주고 있다  호기심 많고 욕심많은 그녀들의 Passion DNA를 한 자리에서 느껴 보고자 한다 미국 시카고아트 인스티튜트에서 화인아트를 전공하던 최유주는 수준급의 바이올린 연주실력의 소유자로서 일찍이 한복을 모티브로 한 발칙한 아이디어로 미국교수들의 극찬속에 전도유망한 의상디자이너의 길로 전공을 바꾸게 되었고 건축  미술  음악 등 동 서양의 문화를 폭넓게 녹여내는 재주 있는 예술가이다 김현영은 의상디자인을 전공하였으나 지금은 뉴욕의 School of Visual Art에서 일러스트를 전공  공부하고 다양한 책 디자인에 관한 전시와 활동을 뉴욕에서 하고 있다 케릭터 디자인을 전공하고 일본으로 건너가 일러스트레이션을 전공하던 정유민은 예술이 밥 먹여주냐 는 어머니의 만류에 못이겨 한국으로 돌아온 이후 백화점 판매원  빵집등에서 일을 하면서도 그녀만의 레이스 꼴라쥬 작품을 완성시킨 고집있는 아티스트이다 전세계가 불황의 늪에서 허덕이고 모두 불경기를 한탄하며  예술이 밥 먹여주냐 고 하지만 이렇게 현실과 이상 사이에서 좌충우돌 하며 열정적으로 작업하는 젊은 예술가들이야말로 이 각박한 현실을 풍요롭게 만드는 우리의 희망이고 궁극에는 도시와 산업에 시각문화의 정신적  밥 을 주는 것이다   Beyond 본 전시회의 사진들은 나의 정신적 판타지의 세계를 보여주는 작품들이다  나의 정신적 세계는 존엄  평화  그리고 자족감으로 충만되어 있다  그것은 내가 평생 동안 품어온 나의 꿈에 대한 시각적 표현이기도 하다  나의 꿈은 나 자신과 타인과의 관계를 초월할 수 있는 완전한 자유를 실현하는 것이다  나의 삶은 타인이 아닌 나 자신을 위하여 선택된 것이다  모든 인간은 각자 그 자신을 위해 존재해야 한다  어떤 한 개인의 과도한 욕망 분출은 그 자신을 해칠 뿐만 아니라 동시에 그 주위의 사람들까지도 쉽게 해칠 수 있다는 사실을 나는 무수히 관찰한 바가 있다  그러한 욕망의 과도한 분출은 경쟁이 아니라 타인의 삶에 대한 부당한 지배에 불과하므로 결코 장기간 지속될 수 없는 것이다 나는 유화를 매우 좋아한다  특히 나는 Johannes Vermeer와 Claude Monet로부터 많은 예술적 영감을 받아오고 있다  이들 화가들의 작품의 대표적 특징은 빛의 효과를 극대화시킨 점이다  따라서 나는 이들의 유화작품과 유사한 느낌을 줄 수 있는 사진 작품을 만들어내려고 오랜 기간 노력해 오고 있다  이번 전시회에 출품된 나의 사진들은 회화주의 작품으로서 빛의 효과를 최대한 살린 작품들이다  그리고 나는 개인적으로 아름답고 지적인 작품들을 선호하므로 디지털 후보정 기술을 과감하게 활용해서 예술적 아름다움도 동시에 추구하였다 이러한 나의 사진에 입각한  광의의  디지털 아트는 디지털 기술의 혁명에 따른 동시대 현대미술의 대변혁과도 부합하는 것이므로 향후 디지털 미디어 아트의 발전에도 좋은 기여를 할 수 있을 것으로 기대된다  이번 전시회는 유럽 예술 소비자들의 수요를 우선적으로 감안한 것이므로 그들의 예술적 취향도 적극적으로 반영한 것이다  끝으로 이러한 나의 조그만 노력이 한류문화의 전세계적 확산과 더불어 사진예술 분야의 세계화에도 긍정적인 역할을 할 수 있기를 소망해 본다   김지혜의 사진 도시생태학  도시를 스캔하는 이미지 헌터 사진은 가히 이미지의 제왕이랄 만하다  이미지를 생산하고 소비하고 유통하고 유포하는 것으로 치자면 사진만한 매체는 없다  미술의 꽃이랄 수 있는 회화의 자리를 밀어냈다고나 할까  더욱이 회화는 미술에 한정되지만  사진의 가두리는 따로 없다  이처럼 사진은 일상과 이상의 경계 모두를 아우르는 탓에 일상 속에 더 깊고 넓게 파고들 수가 있었다  그리고 디지털 이후에는 이상의 영역과 범주마저 넘나든다  현실적인 것은 물론이거니와 상상할 수 있는 것이라면 무엇이든 즉각 이미지로 구현시켜준다  사진은 원래 현실의 반영이었고  현실적인 것의 증거며 증명이었다  다큐멘터리와 르포르타주 그리고 스트레이트포토가 그랬다  유태인 학살 현장을 찍은 한 장의 사진이 내 삶을 송두리째 바꿔놓았다는 수전 손택의 회고에 등장하는 사진이 그렇다 이처럼 사진이 진실을 증언하기 위해서 호명되어졌다면  디지털 이후 사진은 진실보다는 거짓을 증언하기 위해서 더 많이 더 자주 호출된다  각각 리얼리티를 증명하는 사진과 상상력을 구가하는 사진  현실을 반영하는 사진과 가상현실을 열어 놓는 사진이 사진의 두 축을 견인하면서 사진의 표현 영역을 확장시키고 있는 것  덩달아 처음에 현실과 가상현실은 분리되어졌지만  점차 그 구분이며 경계가 흐릿해진다  그리고 마침내 가상현실이 현실의 일정 부분을 대체하기에 이른다  픽처레스크 곧 그림 같은 풍경이라는 세속적인 표현에서 이런 현실과 가상현실의 전복현상이 예시된다  풍경 현실 이 그림 가상현실 의 기준이 되는 대신  그림 가상현실 이 풍경 현실 의 잣대가 되고 있는 것 가상현실이 현실의 근거가 되고  그 자체 또 다른 현실이 된 것이다  그렇게 가상현실은 현실의 의식을 넘어 무의식을 파고든다 여기에 판화가 가세된다  각종 사진제판법의 이름으로 수행되는 판화를 사진과 구별하게 해주는 근거는 그저 장르상의 명분에 지나지가 않는다  어떤 판화는 사진으로 볼 수가 있고  어떤 사진은 판화로 볼 수가 있다  이렇게 사진은 현실과 가상현실의 경계를 넘나들고 장르의 벽을 넘는다  김지혜는 판화를 전공했지만  진즉에 판화와 사진과의 친족성에 주목했고 흥미를 느꼈었다  그런 탓에 사진과 판화 모두를 아우르는 독특한 형식의 지점에 이를 수가 있었고  현실과 가상현실이 혼성된 남다른 비전을 열어 보일 수가 있었다 김지혜는 카메라를 들고 도시를 배회한다  흡사 느와르 영화장면 같은 스산한 도심을 파고들어 적당한 사냥감을 찾아 카메라 셔터를 누른다  적당한 사냥감이라고는 했지만  엄밀하게는 익명의 사냥감이라고 해야 할 것이다  익명은 도시의 파사드고 페르소나며 아키타입이다 익명을 찾아 헤매는  건 대신 카메라를 들고 도시를 스캔하는 이미지 헌터라고나 할까 그렇게 도시의 이곳저곳이 카메라에 붙잡힌다  그리고 컴퓨터 작업을 하는데  도시에 대한 작가의 인상이며 해석이 이때 만들어진다 만들어진다  사진은 찍는 사진과 만드는 사진으로 나뉜다  편의상 사진의 물길은 찍는 사진에서 만드는 사진 쪽으로 흘러왔다고 볼 수가 있겠다  작가의 사진에는 찍는 사진과 만드는 사진이 모두 들어있다  이미지를 채집하기 위해 찍는 사진이 입력단계에 해당한다면 그렇게 찍은 사진을 컴퓨터를 통해 만들고 조작하는 과정이 출력단계에 해당한다  그렇다면 작가는 왜 사진을 만들고 조작하는가 만드는 사진은 사진을 만들 뿐만 아니라  도시에 대한 인상과 해석도 결정짓는다  사진을 조작하는 이유가 도시에 대한 인상과 해석을 재현하기 위한 것이라는 말이다 그러므로 작가에 의해 재현된 도시는 객관적 현실의 재현이기보다는 주관적 해석을 통한 재현이다  그럼에도 도시에 대한 인상이며 경험이 대동소이한 연유로 인해 재차 객관적 현실성을 얻는다  바로 중첩된 도시  흐르는 도시  부유하는 도시다  중첩된 도시는 저마다 다른 이해관계가 포개져 있음을 표상한다  그리고 도시는 흐르고 부유한다  도시가 흐르고 부유하는 것은 뿌리 없는 사람들을 표상한다  이처럼 뿌리 없는 사람들이 밀물처럼 들어왔다가 썰물처럼 빠져나간다  그리고 그 물길과 물길 사이로 노이즈가 끼어든다 저마다 다른 속내며 이해관계가 잡음을 일으키면서 도시의 소리를 생성시킨다  그 소리를 시각언어로 옮겨보면 사람들은 저마다 보고 싶은 것을 보고  저마다의 관점에 따라서 본다  같은 것을 보면서 다른 것을 본다  저마다 보고 싶은 것을 보므로 지엽적으로 보고  저마다 보고 싶은 대로 보므로 왜곡된 형태로 본다 이처럼 저마다의 이해관계가 밀어올린 지엽적인 시각과 왜곡된 형태야말로 도시인의 공통경험일 것이라고 작가는 진단한다  바로 도시에 대한 작가의 인상이며 해석이다  이렇게 마치 초점이 나간 것처럼 흐릿한 사진  피사체의 주변이 겹쳐 보이거나 흔들려 보이는 사진 예각이 긴장감과 불안감을 불러일으키는 사진이 도시의 표상으로서 제안되고 있는 것이다  그리고 여기에 콜라주나 먹선 드로잉이 부가되지만 대개 도시의 인상이며 성격은 사진 자체에서 이미 상당할 정도로 결정된다  그리고 이렇게 결정된 도시의 인상이나 성격은 설치형식을 통해 현실성이 강화된다  마치 소리 없는 노이즈를 듣는 것 같은  보이지 않는 이해관계의 네트워크 속에 들어와 있는 것 같은 생생한 현장감을 주는 것이다 이처럼 김지혜는 진즉에 도시에 주목했고  도시의 생리를 작업으로 옮겨놓는 일에 관심을 기울여 왔다  그리고 도시의 생리를 작업으로 옮기는 일에 사진과 컴퓨터가 중요한 수단이며 방법을 제공하고 있다  꼭 그렇다고 단언할 수는 없겠지만  사진과 컴퓨터라는 매체나 매체적인 특수성은 도시의 생리에 부합해 보인다  일종의 도시생태학이 주제라고 할 수가 있을 것인데  주제와 표현 방식 모두가 무리가 없어 보이고 조화를 얻고 있다는 생각이다  속된 표현을 빌리자면 주제와 방법의 궁합이 맞아 떨어진다고나 할까  이를테면 이미지와 이미지가 서로 반영하고 중첩되는 것을 통해 복잡하게 얽힌 이해관계의 네트워크를 표현하고 전달하는 식이다  가장자리가 겹쳐 보이고 흔들려 보이는 이미지를 통해 저마다의 관점과 관점이 부닥치고 충돌하는 노이즈 차이가 만들어내는 잡음 를 표상하는 식이다 이렇듯 작가는 진즉에 사진과 컴퓨터라는 매체에 매료됐고 익숙했다  그렇게 컴퓨터를 만지고 놀다가 재미난 사실을 발견했다  우연성이 개입해 최초 입력한 이미지를 왜곡하고  예기치 못한 이미지를 만들어낸다는 사실이다  그리고 그렇게 근작에 이른다  원래 판화와 사진이 결부된 방식의 작업을 하다가  마침내 본격적인 사진을  만드는 사진을  디지털 사진작업을 선보이기에 이른 것이다  그 과정을 보면 컴퓨터상에서 최초 입력된 정보를 왜곡하고 변형하는 것인데  실제 풍경이 가지고 있는 이미지와 공간 일부를 컴퓨터 프로그램을 통해 마우스로 밀어낸다  판화와의 연관을 생각한다면  마우스는 일종의 전자 스퀴지 내지는 디지털 스퀴지에 비유될 수가 있겠다  그리고 회화와 관련해 보자면  마우스가 그림을 그리는 붓을 대신한 것이란 점에서 마우스 페인팅과 비교되는 일종의 마우스 포토로 명명할 수도 있을 것이다  알다시피 컴퓨터상의 이미지는 픽셀로 이뤄져 있다  작가는 이 툴 컴퓨터 프로그램과 마우스가 연동된 을 이용해 픽셀을 유동화 시키는 것이다  이렇게 해서 적어도 논리적으로 볼 때 컴퓨터상의 이미지를 의도한 대로 왜곡하고 변형하고 견인할 수 있는 환경이 만들어진 것이다  그 과정에서 예기치 못한 우연성이 개입되는 것인데  전작에서의 콜라주나 먹선 드로잉이 그랬던 것과도 같은 우연적인 요소와의 놀이를 즐기는 것이다 한편으로 이처럼 우연성의 놀이라고해서 자칫 작가의 작업을 가볍게 생각할 수도 있지만  사실은 전혀 그렇지가 않다  우연성은 말 그대로 예상할 수도 통제할 수도 없는 탓에 수많은 실패를 거듭해야 하고  그렇게 축적된 실패가 뒷받침된 어떤 감각적 지점이 가늠된다  작가는 그렇게 가늠된 감각적 지점을 실마리 삼아 원하는 이미지를 찾아가고 찾아내는 것이다  실로 우연성의 바다와 감각의 바다를 헤집는 일에 비유될 수가 있겠다 그렇게 마우스가 지나가면서 만들어낸 이미지며  최종적으로 출력된 이미지는 어떤가  마치 사물 고유의 색상을 긴 색 띠로 분해해놓은 것도 같고  시공간을 길게 늘여놓은 것도 같고  감각적 현실이 졸지에 추상적인 현실로 변모되고 변질된 것도 같다  길게 늘여진 시공간이 현실감각을 흔들어놓으면서 아찔한 현기증을 불러일으킨다고 한다면 좀 과장적인가 아마도 사진이 지금보다 더 커진다면 좀 더 실감날 것이다 상대성의 원리에서처럼 시공간이 좌표를 잃고 임의적으로 늘어나고 줄어드는 현실 아님 비현실  을 예시해주고 있다면 좀 비약적인가  여하튼 분명한 것은 알만한 현실이 졸지에 낯설어 보인다는 점이다  아방가르드의 낯설게 하기를 떠올려주는 대목이다  현실은 보이는 것이 다가 아니고 보이는 대로도 아니다  익숙하면서 낯설다  도시를 소재로 한 것이란 점에서 익숙하고  왜곡되고 변형된 이미지란 점에서 낯설다 바로 도시의 두 얼굴을 표현한 것이며  도시의 양가성을 표상한 것이다  도시는 친숙하면서 낯설다  안 봐도 비디오인 친숙한 이미지들로 축조된 것이지만  그러나 그렇게 알만한 이미지들은 그 이면에 생경하고 낯 설은 이미지를 숨겨 놓고 있다  캐니와 캐니의 그림자에 해당하는 언캐니를 숨겨놓고 있는 것이다 도시의 이미지를 스트라이프로 분해해놓고 있는 작가의 디지털포토는 이렇듯 도시의 양가성을 표상한다  그 표상형식은 꽤나 세련되고 감각적이다  그리고 무엇보다도 도시적인 감수성이 느껴진다   Maden Pictures 아라리오 갤러리 청담은 년 첫 전시로  Maden Pictures 메이든 픽쳐스 을 개최한다  이번 전시는 년 아라리오 갤러리 천안에서 기획된 Maden Pictures 사진그룹전의 연계전시로서  영상작품까지 포함하여 그 범위를 확장하였다 Maden이라는 단어는 Made Make의 과거분사 에 en을 붙여 만든 신조어이다  재현의 도구로 탄생된 사진은 현대에 들어 더 이상 전통적인 범주에만 국한되지 않고 여러 가지 개념의 매체로 적극 활용되고 있다  사진은 매체의 기록적 수단인  순간의 미학 을 보여주며 발전해 나갔지만 현대 작가들은 우연성과 기록성을 넘어서며 새로운 작품들을 창조해내는 방법들을 끊임없이 연구하고 있다  이렇듯 작가의 의도에 의해서 만들어진 프레임 속 정지된 장면과 영상들은  철저히 계획되어 수동적으로 만들어진  Maden 이라는 단어의 의미와 상통한다 우연을 가장하지 않은 Maden Pictures 작품 속 인물과 배경들은 서로 다른 흥미로운 스토리를 내포한다  각 작품 속에는 개인 또는 군집의 인물 모델이 등장하는데  각기 다른 장소  시간대  의복을 넘어서 현대가 아닌 다른 시대의 연출까지 다양한 작품 속 배경과 상황들은 관람객의 호기심을 증폭시킨다  곽현진의 사진 속 교복을 입은 소녀들은 무리를 지어 어떠한 일렬의 행동을 보여주고 있는데 스웨덴의 아름다운 환경과 대조되어 알 수 없는 우울함을 표출한다  김아영의  PH 익스프레스 는 년 영국의 거문도 섬 점령사건을 배경으로 당시 영국군의 일상을 연기하는 배우들이 등장하는데  숨겨진 역사에 대한 흥미로운 사건을 되짚었다 박현두의 사진 속 등장인물들은 화려한 방송국 세트 장에 홀로 등장하여 단절되고 고립된 개인상을 보여주고 있다  오용석은 공간적 맥락이 비슷한 여러 개의 이미지와 영화를 재조합하여 새로운 시공간과 이야기를 만들었는데  이미지가 하나로 연결될 뿐 연관성은 찾을 수 없고 오히려 이미지에 대한 진실과 환영에 대한 의구심을 보여준다  장성은의 작품 속 인물들은 길가에 일렬로 서 있거나 봉투에 들어가는 등 행위를 통해 한 특정공간을 채우는데  작가는 우리가 생활하는 공간과 일상을 인간만이 인식하고 측정할 수 있는 방식으로 이야기하고자 한다 이렇듯 Maden Pictures 에서는 사진과 영상을 종합예술로 승화시켜 완성해 나가는 다섯 작가의 각기 다른 작품 세계를 감상할 수 있다 이번 작품들은 셔터를 누르거나 영상을 담아내는 찰나의 순간 이전에 수많은 시간과 노동을 요하는 제작 과정을 역으로 되짚어보게 한다  또한 영화나 연극 그리고 독립적인 공간을 재배열하여 사물과 인물들을 의도적으로 연출하여 완성시킨 작품들은 우연성을 뛰어넘은 사진의 본질적 의미와 새로운 작품의 의미를 동시에 성찰할 수 있는 기회를 제공한다  이렇듯 변형되고 가공된 작품 속 시공간들은 때로는 서로 다른 시공간을 연결함으로써 끊임없이 확장해 나가면서 무한한 가능성을 보여주고 있다   순수한 색채로 꾸며지는 고향의 추억 고향은 누구에게나 영원한 그리움의 대상이다  세상을 배우는 어린 시절은 호기심으로 가득 차 있기 마련이어서 무엇 하나 그냥 스치지 못한다  그러기에 어린 시절의 일들은 추억의 창고에 차곡차곡히 쌓이게 마련이다  그 추억이 불현듯 고향에의 그리움을 일깨우는 것이다  화가들이 고향얘기를 작품의 제재로 삼는 것도 이미 까마득한 일들임에도 불구하고 생생하게 재현할 수 있기 때문이다  추억의 창고에서 간단히 끄집어내면 되는 까닭이다  그것을 재현하거나 가공하여 독자적인 언어로 변환하는 것이다 정영모의 최근 작업은 자신의 고향얘기로 꾸며진다  그 고향얘기는 필경 어린 시절로 소급하기 십상이다  어쩌면 그에게는 거의 반세기 쯤 전의 일들인지도 모른다  그러기에 그림 속에 등장하는 고향의 이미지는 현실성을 상실하고 있다  어린 시절의 추억이란 옛 흑백사진과 같은 낡은 정서를 간직하고 있다  다시 말해 현실적인 눈으로 보면 현대문명이 개입되지 않은 전래의 삶의 방식이 고스란히 남아 있어야 하는 것으로 이해된다  발전되거나 진화되지 않은 정지된 시간 속의 이미지여야 하는 것이다 하지만 그는 퇴색한 흑백사진이 보여주는 남루한 이미지와는 사뭇 다른 밝고 화사한 색채이미지로 꾸며놓는다  그림 속에 등장하는 형상들은 현실로부터 멀어져 간 옛 시간에 맞추어져 있음에도 불구하고 칙칙한 색깔을 떠나 형형색색의 비단처럼 밝고 고운 색채들로 꾸며지고 있다  이는 어린 시절의 고향에 대한 진정한 동경이자 헌사인 것이다  물론 그가 자란 어린 시절은 누구에게나 궁핍한 시기여서 결코 아름다운 추억만이 있다고는 할 수 없다  그런데도 그에게는 아름다운 꿈의 공간이었다 실제로 꿈이 많고 감수성이 풍부한 어린 소년이라면 세상 그 자체가 아름다운 정원일 수 있을 수도 있다  그의 작품이 티 없이 맑고 아름다우며 순수한 원색적인 이미지로 표현되고 있는 것은 지극히 자연스러운 일일 수 있다  어린 시절의 아름다운 추억을 순수한 원색으로 표현하는 것은 억지스러운 일이 아니다  소박파의 그림들이 모두 원색적인 성향을 보여주는 것은 우연이 아니다  순수하고 천진한 시각으로 바라보는 세상은 단순하면서도 밝은 곳일 수밖에 없기에 그렇다 그의 작업은 원경의 자연풍경을 배경으로 전면에 꽃가지를 배치하는 이중 구조로 되어 있다  전면의 꽃은 현실이고 아스라이 멀리 보이는 원경은 어린 시절을 의미하는지 모른다  따라서 작품마다 모두 꽃가지 사이로 바라보는 수평구도의 풍경이 자리한다  수평구도는 안정적이고 평화로운 감정을 불러일으킨다  뿐만 아니라 멀리 떨어진 원경의 수평구도일 경우에는 그리움의 정서와 맞닿는다  소나무 숲이나 젖소들이 풀을 뜯는 목장  그리고 초가집 또는 기와집이 어깨를 맞대고 줄지어선 풍경은 아득히 먼 과거의 시공간으로 보이기에 그렇다 그의 작품 대다수가 원경의 수평구도인 것은 고향의 정서를 표현하는 데 용이하기 때문이리라  그런데 그 수평구도는 특이하게도 근경이 존재하지 않는다  다만 화면의 전면에 드리운 꽃가지는 발처럼 시야를 가로막고 나서지만 꽃가지 사이로 바라다 보이는 풍경은 더욱 멀어 보인다  이러한 방식의 공간 설정은 아득한 과거의 시간을 상정하기에 효과적이다  아득히 멀리 보이는 고향의 정경은 그리움의 정서를 촉발하기 마련이다 그의 작품에 등장하는 풍경 및 소재는 추억의 곳간에서 빌려온 것들이다  소나무 숲과 목장  초가집  기와집  담배 건초장  나무 젖소  호랑이  달  새  꽃  도자기 따위는 모두 추억과 관련한 것들이다  이들 소재가 이리저리 이합집산하면서 하나의 작품을 만들어낸다  따라서 작품마다 단편적인 에피소드가 존재하기 마련이다  그 에피소드는 내용이 무엇이든지 간에 시적인 함축과 긴장이 자리한다  한 눈에 파악되는 실제의 풍경이 아니라 단편적인 이미지들의 모음이기에 스토리가 존재하지 않는다  대신에 서정성이 농후한 시적인 함축미가 들어앉는다 이처럼 서정적인 구조를 가지고 있는 그의 고향얘기는 누구에게나 개인적인 추억과 관련한 설화를 만들어준다  그림과 마주하고 있는 순간 그 이미지를 통해 감상자 자신의 추억과 고향을 연상하게 만드는 까닭이다  까마득히 잊고 있던 고향의 정서  그 순수한 시간 속으로 안내하는 것이다 그리하여 잠시나마 복잡다단한 현실과 동떨어진 어린 시절을 찾아나서는 꿈의 여행을 하게 된다  또한 죄 없는 밝고 맑고 투명한 색채를 통해 감정의 샤워를 맛보게 되는 것이다   향기가 움트다 대한항공 서소문 빌딩  층 로비에 위치한 일우스페이스 SPACE 는 추운 겨울 봄을 기다리며 년 첫 기획전시로  월 향기가 움트다 을 오픈한다 일 동안 진행되는 이번 전시는  일우스페이스의 기획 그룹 전시로 매화 를 소재로 한 회화  구성연  차규선  허달재  홍지연  홍지윤  작품들이 일우페이스의 독특한 공간과 만나 한층 높은 격조의 미감을 선보이며 매화의 맑은 향기를 느끼게 하는 전시이다 혹독한 추위 속에서도 꽃 봉우리를 움트며 가장 먼저 봄을 알리기 위해 준비하는 매화  매화는 어김없이 새해 봄에도 꽃을 활짝 피울 것이다  매화의 청아하고 은은한 향기는 사람들에게 새로운 봄을  새로운 시작이 왔음을 알려준다  조선 시대에 손꼽히는 문장가였던 신흠의 시조에 매일생한불매향 이라는 한 구절이 있다  이것은 매화가 평생 추위에 살면서도 향기를 팔지 않는다는 의미이며  시련 속에서도 지조를 잃지 않는 고결한 선비의 정신을 비유하기도 한다 유난히 추운 겨울의 한기가 몸을 움추리게 하고 국내외적으로 지속되는 경제위기는 사람들의 마음까지 얼어붙게 하고 있다  옛 우리의 선비들은  추운 겨울  추위가 한바탕 뼛속 깊이 사무치지 않고서야 어찌 코를 찌르는 매화꽃 향기를 맡을 수 있겠느냐 며 스스로의 결기를 다잡았다고 한다  지금 현실의 추위가 우리를 움추리게 할때 비로소 청아한 향기를 마음 속 깊이 느낄 수 있을 것이다 전시장에 만발한 매화를 보며 사람들이 잔설을 이기고 피어나는  설중매 의 아름다운 모습과 향기를 마음에 새겨 보길 바란다  또한 힘든 상황 속에 휩쓸려 자신의 향기를 쉽게 잃지 않았는지 돌아보고  더불어 새로운 봄을 향해 도약할 수 있는 힘을 얻게 되는 시간이 되길 기대한다   만성깝깝증에 걸린 방랑자 시대가 걸리는 병을 좁게 사회가 걸린 병이라고 하고 더 좁게 말하면 마음이 걸리는 병이라고 할 수 있다  마음이 걸린 병을 우린 정신병이라고 한다  이 정신병이라는 단어의 어감이 불편하게 한다  마치 근친상간이라는 단어를 듣기라도 한 것처럼 소름이 돋는다 그래서 이 어감을 사랑하는 의사를 방문하기로 했다 의사 무슨 일로 오셨죠 나 난 이미 내 병의 이름도 내가 이 병에 걸린 이유도 알아요 의사 그렇다면 올 필요가 없었겠죠 나 이건 당신도 이미 걸린 병이잖아요 의사 난 멀쩡해요  멀쩡하지 않으면 어떻게 치료하겠어요 나 멀쩡하지 않아요  멀쩡한 척을 하고 있는 거죠  쉽게 말해서 지금 우린 연기를 하고 있는 거예요  난 환자  당신은 의사 내가 걸린 병은 깝깝함으로 마음이 무거워지면서 마음껏 움직이지 못하게 되는 병이에요  한 사람 몫을 하며 지켜야 할 것들을 지키기 위해  갈팡질팡하다가 진정 자신이 하고 싶은 일들을 등안시하게 되는거죠 의사 그러면 전 어떻게 해야 되는 거죠 사이 나 살아가야죠 깝깝함의 원인은 자유의 부재이다  일에 얽매여 있는 사람들  이불속에서 발효되는 니트족들부터 경제적  사회적으로 지위를 가진 사람들마저도 현실과 이상의 괴리를 느낀다  당신도 이미 알고 있다시피 그 때 밀려오는 깝깝함은 이루 말할 수 없을 정도로 잔혹하다  꿈속에서도 진정한 자유를 한두 번 느껴볼까 말까다  나의 경우는 초등학교 때부터  무언가 좀 해내야지  하는 강박을 스스로 만들어 내 만성이 되고 말았다 그것은 심적 억압으로 항상 마음 한 부분을 꿰차고 숨을 조인다  이런 내가 나와 같은 병을 앓는 현대인들에게 줄 수 있는 건 공감이다  마음의 응어리를 친구에게 말하고 말하다 보면 고통이 덜어지듯  내가 프레임으로 바라보는 세상을 보여주고  관객 또한 사진 속에서 생각에 사로잡혀 보면 그 짐을 함께 덜 수 있다고 본다 나는 관객들도 언젠가 한번은 지나쳐 왔을  그래서 공감해 볼 수 있을 장면들의 공유를 한다  그것을 통해 내 사진을 볼 때라도 스스로 깨닫기를 원한다 나도 사진을 찍고싶다 혹은  나도 이 사람처럼 후리하게 돌아다니고 싶다 더 나아가  나도 무엇이든 손에 잡아 보아야 겠다 라는 생각을 하게 되기를  차적으로 원한다  특정 이데올로기를 심는다기보다 지적  예술적 유대감이 나에겐  순위라는 것이다 그를 위해서 나는 스스로 질문을 던져 기억을 불러일으키는 사진을 찍으려 한다  그러기 위해서는 전혀 새로운 감수성으로 대상에 접근해야 하며  내 내면에 깊은 서정성을 들여다봐야 한다  그렇게  주변에 상재한 보편성에 대한 관심에 바탕한 관점으로 세상을 들여다보는게 나의 작업이다  서정성을 품은 사진  마음이 담겨서 마음으로 다가가는 사진  그것을 위해 무엇을 찍더라도 일반적으로는 한없이 소박하고 볼 품 없는  의미없는 것 일지라도  피사체에 대해 진심으로 몰입한다 독일의 소설가 루트비히 티크의 대표작인  프란츠 슈테른발트의 여행  속에서 주인공 은 다음과 같이 말하고 있다 나의 사상의 이 끝없는 동요가 없으면 얼마나 좋을까  때로 나의 마음을 살짝 만지며 스쳐 지나가는 그 부드러움이 내 마음속에서 뿌리를 내려준 다면  나는 행복에 대해 말할 수도 있게 되고 예술가도 될 수 있을 텐데 스쳐 지나가는 부드러움이 마음속에 뿌리를 내려준다는 것  알고 보면  참 많은 의미를 가질 수 있는 이미지들의 범람 속에서 우리들은 살아간다  좀만 더 감상적으로  여유있게 눈을 떠보면 무수한 것들과 교감을 할 수 있다 나의 삶은 자유와 감성으로 빚어진 환상이란 느낌을 많이 받는다  불규칙하며 명확하게 정해진 바가 없지만  방랑하며 프레임 속에서 무언가 바라보는 느낌  그때 느끼는 해방감과 그에 따른 행복  그 때는 그 행복이 너무 커서 환상적으로 다가온다  하지만 환상은 언제 깨질지 모르는 것이기에  언제 다시 만성깝깝증의 굴레에 빠져버릴지 모르기 때문에 나는 나에게 내 위치를 확인하는 질문을 한다  그렇듯 관객들에게도 질문을 하고싶다  작품을 보는 찰나는 내가 사진을 찍는 찰나와 똑같으니까  나는 관객 역시 같은 마음을 느낄 수 있게 하는 전달자다   김정대 일종의 성장통 이라고 할 수 있는 사랑과 이별의 아픔은 누구나 가지고 있는 아련한 추억의 단상이고  내면 깊이 감추어져 있는 순수성이라고 할 수 있을 것이다  그 순간의 아픔과 아련함은 시간이 지나면서 희석되고 애매모호한 추억의 한 단락을 장식하는 증거물에 지나지 않게 된다  잃어버린 추억이라고 하기에는 너무나 많은 감정을 가지고 있는 그 상황이 소중한 것들임에는 분명하고  언제든지 표출되어질 여지가 있는 것 또한 분명하다  언어를 통한 타인의 이해를 구하기에는 어려운 것들이지만  그 모호한 감정의 집합체가 전달하는 자극은 씁쓸한 미소를 자아내기에 충분한 효과가 있는 것이다  작가인 나는 잘 짜여진 구성위에서 허구로 지어낸 연극 무대의 주인공처럼  극적인 클라이막스의 순간에 감정절정인 인물의 포커스를 맞추고 있다 어느 날 문득 떠오르는 아픈 추억은 슬픔이라는 감정으로 다가오고 그 감정을 웃을 수 없는 표정으로 짓게 만든다  가슴속에 가득한 슬픔은 하늘에서 내리는 눈물인 비로 이미지의 치환을 이루고 우비는 가슴 속에 내리는 슬픔인 비를 피하기 위해 입는 보호장비이자 겉으로 드러나는 슬픔을 덮기 위한 보호기제로써의 역할을 한다  슬픔의 감정에 부합하기 위해 무거운 느낌의 Color를 이용하면 단순히 슬프다는 감정에 머무르게 되지만 슬픔을 감추기 위해 슬픈 감정과는 거리감을 두고 있는 이미지를 전달하게 된다는 것이 본인의 생각이다  이것은 마치  자신의 감정을 들키기 싫어서 과장된 행동을 하는 상처입은 자의 모습과 다르지 않다  즉  가슴속에 내리는 슬픔인 비를 피하기 위해 우비를 입었지만 그 밝은 Color로 인해 슬픔을 드러내기 싫어하는 소년의 보호 기제로써 작용함을 알 수 있다 얼굴에 드러나는 슬픔의 감정을 숨기기 위해 은유적 보호기제로써 밝은 이미지의 우비를 입었지만 그것이 오히려 더욱 고통스러운 아픔이 된다는 아이러니를 보여주는 것이다   남도의 풍경 작가란 존재는 자신이 태어나고 자란 공간  환경에서 모든 것을 배양한다  그러니 그에게 고향은 원초적인 심미적 공간이자 기억과 경험을 가능하게 해준  그 모든 것을 숙성시킨 결정적 장소인 셈이다  생각해보면 작가의 고향과 그의 그림은 밀접한 연관을 갖는 편이다  박대용의 그림은 그가 자랐고 현재 살고 있는 고향 땅을 형상화한다  그렇다고 특정 공간을 재현하거나 그것의 기록적인 차원의 그림은 아니다  심상속의 그림  혹은 다분히 관념적인 도상에 가까운 그림이다  아마도 그 풍경은 자신이 생각하는 고향 남도 지방의 특유의 지세이자 보편적 풍경이고 일상이 이루어지는 장면을 약호화한 것 같다  그는  남도의 들과 하늘과 바다  그리고 숨 쉬는 모든 것  남도를 이루고 있는 갖가지 요소들이 어우러져 뿜어내는 남도만의 색깔과 정서와 기운들 그것은 내 그림의 원천적 힘이다 라고 말한다 풍경을 그리는 이들은 특정 풍경의 전형성을 찾는다  모든 풍경화는 단지 주어진 풍경의 묘사나 재현에 머물지 않는다  풍경을 그린다는 것은 그 공간의 특색과 역사와 문화  생의 기억들을 더듬는 일이자 그 공간이 지닌 자연적인 조건과 성격을 파악하는 일이다  풍경은 읽는 것이다 보는 것만이 아니라 그 풍경을 형성하고 가능하게 하는 힘들을 생각해보는 일이자 그 풍경을 생의 조건으로 삼아 살아가는 이들과의 관계를 헤아리고 결국 물리적 공간을 조건 삼아 그 안에 인문적 생의 근간을 만들어나가는 사람들의 삶의 기억을 추적하는 일이다 더불어 자신이 태어나고 자란 공간을 형상화한다는 것은 그 공간만이 특질  기후적  생태적 조건을 시각화하는 일이고 특정 공간에서 뿜어져 나오는 기운을 그려내는 일이다  따라서 풍경화를 그린다는 것은 풍경을 그렇게 읽을 수 있는 눈과 마음이 전제되어야 하는 일이다  박대용의 그림은 특정 공간을 반복해서 등장시키고 그 풍경 안에 커다란 나무와 일련의 꽃들  그리고 백자 등을 등장시켰다 화면 가득한 밭  붉은 황토  녹색의 풀과 식물들  나무와 꽃  몸을 구부려 땅에서 일하는 농민들  작은 집들과 트럭  개 그리고 바닷가에는 시퍼렇게 출렁이는 물과 배  낚시하는 이들이 점경의 인물로 등장한다  장지에 먹과 분채로 이루어졌는데 색으로 마감된 바탕에 자잘한 터치들이 생기 있게 일어나 화면을 전면적으로 채우고 있고 그것들이 흐느끼듯이  바람에 쓸리듯이 혹은 강렬한 생의 욕망에 부르르 떨듯이 자리하고 있다  채색화지만 자잘한 모필의 선 맛이 촉각적으로 표면을 채우고 있는 형국이다  이 풍경화에는 땅과 바다  생활공간과 일하는 농민들  어민들이 조화를 이루고 있다  하늘과 바다  땅과 나무와 풀  꽃  사람들과 그들이 형성한 문화의 흔적들이 공존하는 장면이다  작가는 남도지방의 풍경을 이렇게 축약해서 상형하고 있다는 느낌이다  그것이 이 작가가 깨달은 남도풍경의 전형일 수 있다  그림이 재미있다  더듬어서 소요하는 시선을 따라 여러 이야기들이 줄을 잇는다  공중에서 내려다보는 듯이  새의 시선으로 대지를 굽어본다  거기 아름다운 자연이 있고 사람이 살고 있고 일하고 있다  분주하다  사계절의 변화 속에서 그 시간의 흐름 속에서 자연은 변화하고 꽃은 피고 지고 풍경의 색채 또한 다변하지만 변함없이 생을 일구는 사람들이 모습이 경건하기도 하다  아마도 작가는 그 악착스런 생의 욕망과 순연한 노동의 생애를  변함없는 자연의 철리를 그림 안으로 수렴하고 싶었을 것이다 남도만이 지닌 독자한 풍경과 삶을 그리고 싶은 것이다  지금 그의 그림은 그 여정으로 가는 지난한 과정에 자리하고 있다  꿈 과  행복 을 전하다 예로부터 우리 민족은 설날에 한 해 동안 복을 기원하고 무병장수를 바라는 마음을 담은 그림  세화 을 소중한 분들에게 선물하는 풍습이 있습니다  수호롬부산은  세화 라는 아름다운 풍습을 현대에 접목시켜 많은 분들과 긍정의 에너지를 나눌 수 있는 전시를 준비하였습니다  각기 다른 개성과 방법으로 자신의 세계를 구축한  인의 작품들은 현대미술의 다양성을 보여줌과 아울러 모두에게 기분 좋은  희망 과  행복 의 메시지를 전해드릴 것 입니다   패션 스타일 추억 여행 패션이란 두 가지 상반되는 욕구  즉 개인적 차별화의 욕구와 사회적 공통화에의 욕구로 개성화와 동조성으로 지탱된다 심멜  이번 전시는 본인의 두 번째 테마전이다  첫 번째  스타일  에서는 채색의 전통재료인 안료를 이용하여 옷을 통한 일상에서의 소소한 일면을 화폭에 담았고  두 번째  스타일  에서도 인간의 삶 속 어디에서나 존재하고 문화의 중요한 구성 요소가 되어가는 패션과  산과 들에서 만난 꽃과 자연의 향기를 모티브로 해서 그 안에 내재되어 있는 상징성을 반추상의 형태로 자유롭게 구성하여 시적인 이야기로 표현하고자 하였다 생활상에서 의 식 주는 인간과 뗄 수 없는 불가분의 관계에 놓여 있다  더욱이  의복은 인간에게 있어서 가장 큰 관심사 중 하나라고 할 수 있다  현대를 살아가는 우리가 옷을 입어야 하는 긍극적인 목적은 몸을 보호하고  개인의 단점을 감춤과 동시에 장점을 부각시키는 데 있다 몸을 가리기 위해 처음 사용했던 나뭇잎 한 장이 진화를 거치면서 신체를 보호해주는 옷의 근원이 되었으나  오늘날 우리는 의복 패션을 떠난 생활은 생각할 수 없는 시대에 살고 있음이 자명하다  이제는 기능적인 면을 넘어서 미적 즐거움은 물론 새로움에 대한 끊임없는 욕구를 지향하며  색채의 배열이나 형태의 조화  옷에 대한 시각적 쾌감도 나날이 상승되어가는 추세다 이런 무한한 커뮤니케이션 역할을 담당하고 있는 옷에서 대상에 대한 이미지와 세월의 향수를 떠올리며  때로는 유년의 정서적 감성을 엿 보기도 한다  화려하지 않은 단아한 옷 한 벌로도 행복을 느끼고 감사했던 어린 날  계절마다 산천 곳곳 흐드러지게 핀 꽃들을 보며 은근한 생명력을 배우고 미지의 세계로 꿈을 키웠던 그 시간들을 화폭에 담아보고자 지난  년 내내 산과 들을 걸으며 추억 여행을 했다 때로는 힘겨움에 눈물이 나고  때로는 붓이 주는 매력에 노래 부르며  예술은 끝없는 행길의 모험 이 아닌가 한다  그 길을 계속 가야만 알 수 있는   the  st INVITE the  st INVITE 는 상명대 이재윤 교수님의 회화 작품들과 함께 텍스타일아트과 김혜영  설유연 학생이 그 동안 준비해왔던 작품을 세상 밖으로 처음 선보이는 전시입니다  전시공간은 이재윤 교수님 회화작품들  설유연 학생의 페인팅 작품 몇 점 그리고 김혜영  설유연 학생이 함께 만들어온 감각적 섬유 악세서리들로 채워지며  누구든 언제든 편하게 들러서 구경하고 갈 수 있는 편하고 부담없는 전시입니다   붉은 꽃 한혜진의 화면은 중심부에 커다랗고 붉은 꽃 한송이가 자리하고 있다  꽃이 그려졌다기 보다는 그 스스로 화면을 대지 삼아  허공 삼아 활짝 피어나고 있다는 인상이다  물감과 붓질  혹은 물감의 유동성을 조율해서 지극히 자연스럽게 꽃을 발생시키는 것이다 스스로 발생한 생명체처럼 꽃은 자리했다  화면은 자연이 되어 그 꽃을 피워낸다  화면에는 모종의 기운이 가득하고 그 사이로 붉은 꽃이 부풀고 가장자리를 물들인 검은 색상은 저 생명체를 발아시킨 근원처럼 머물고 있다  어둠과 미지  카오스가 화려하고 생동감 넘치며 아름다운 생명의 원초적 장인 것이다  하여간 저 꽃은 한 개체로서의 식물이자 생명체를 대변하고 나아가 아름다움의 대표적 존재로 떠오른다  더불어 뜨거운 기운으로 충만한 심정이랄까  자유롭게 떠다니는 존재를 암시하기도 한다  어쩌면 작가는 저 꽃을 빌어 자기 내면의 풍경을 압축해서 시각화한다  그러니까 화면위에서 부유하는  떠도는 붉은 꽃 한 송이는 자유로움을 상징하는 것도 같고 작가의 내면을 은유하는 매개이자 싱싱하고 충만한 생명력을 암시하는 기호로 다가온다  구체적인 꽃의 재현은 아닌 셈이다 하긴 모든 그림은 실제 자체의 단순한 모방과는 거리가 멀다  그것은 항상 기호적 성격을 띠면서 실제와는 또 다른 존재를 만들어낸다 그것은 작가에 의해서 번안되고 해석된 것이자 그런 의미에서 작가의 분신에 해당한다  그래서 한혜진의 꽃 역시 작가 자신을 드러내는 암시적인 존재일 것이다 화면위에는 물감들이 유동한다  물처럼 흐르고 몰려다니다 순간 응고된 흔적이다  그것은 주어진 화면  표면에 중력의 법칙과 시간 물감의 농도  필연과 우연 등의 여러 관계가 개입하고 관여하면서 만들어낸 자취다  이젤에 올려진 화면  캔버스가 아니라 수평의 바닥과 일치되게 놓여진 표면 위로 물감이 낙하하고 용매제와 붓질이 간섭하면서 모종의 형상과 효과들이 발생했다  그것은 그려진 그림이라기보다는 우연적으로 발생한 사건을 닮았다  그림이 재현이나 의도된 표현이기보다는 그 자체로 자발적으로 생겨난 사건이 되고자 한 경우가 있다  의식적인 행위이기 이전에 무의식적이며 이성의 지배를 받기 보다는 영감과 이드에 의해 촉발되기를 원했던 초현실주의나 추상표현주의가 그런 경우다  폴록의 경우 캔버스 천을 바닥에 눕혀놓은 상태에서 그 위를 걸어 다니며  그림 안으로 들어가면서 물감을 중력의 법칙에 조응하도록 뿌리고 흘리고 다녔다  그 결과 남겨진 흔적은 인간 주체의 시선을 받아주던 수직의 상태 이젤페인팅 와는 전혀 다른 수평이 만든 화면  일상의 공간과 일치하는 장이었고 그 공간에서 삶을 영위하는 자의 자취가 되었다  그것은 또한 중심과 주변의 구도가 깨지고 낙하한 물감의 덩어리들이 전면적으로 화면을 점유하는 한편 화면 위를 걸어 다녔던 작가의 신체적 행위의 증거로 남겨졌다  이후로 현대미술은 추상  행위  평면  우연성과 신체 등을 더욱 밀고 나갔다  그런데 생각해보면 수평의 대지와 화면을 일치시켰던 전통은 이미 오래 전 동양화에서 구현되었던 방식이다  동양의 그림은 종이를 수평의 대지와 일치시키고 그 위에서  하늘의 시선으로 그림을 그렸다  그것은 인간중심적인 그리기가 아니라 다분히 하늘중심적인 그리기이다  따라서 그림을 보는 방법 역시 위에서 내려다보았다  그러나 우리의 근대는 수평에서 수직으로  하늘의 시선에서 인간중심의 시선으로 이동한 역사를 보여준다  근래에 들어와 설치나 수평의 화면으로 그림을 그리는 시도는 새삼 탈근대적인 제스처이자 자연중심적인 시선으로의 회귀라고도 말해볼 수 있을까 한혜진의 그림이 그러한 인식에서 기원하는지는 모르겠다  다만 수평에 일치시킨 화면위에 물감을 흘리고 자연스럽게 몰고 다니면서 생명체를 키우는 그 인식은 분명 흥미로운 방법론이다  그러나 그 방법론에 의한 결과물이 다 중요한 부분임은 당연하다  이 부분은 과제로 남는다 한혜진의 화면은 즉흥적이고 다소 우연적인 물감의 흔적들로 부산해 보인다  공통되게 화면 중심부에 붉은 꽃의 형상이 차지하고 있고 그 가장자리  여백 같은 부분에 검은 물감이 먹처럼 스미고 번져나가면서 나무나 작은 꽃  드센 바람이 불거나 흐르는 물을 연상시켜주는 상황성을 연출해 보인다  그것은 순간적으로 일어난 사건이고 다시는 반복할 수 없는 유일무이한 시간이기도하다  어쩌면 그림은 한 개인의 유일성에 기반 한 반복될 수 없는 행위라는데 사뭇 의미심장함이 있다  일회적 삶을 사는 인간의 순간적인 행위  시간의 법칙에 사로잡힌 인간의 행위 아래 전개되는 그림이다  따라서 이 유일무이성은 동일시 될 수 없는 시간  행동  경험의 시각화와 관여한다  그것은 인위와 무위 사이에서 흔들린다  그림은 필연과 우연  이성과 무의식  의지와 자연법칙이 상호갈등하면서  길항하면서 이루어진다 당연한 얘기지만 그것이 긴장감 있게 충돌하는 그림을 보기는 쉽지 않다  작가는 순간의 삶에서 어떤 흔적 하나를 남겼다  붉은 꽃이고 깃털 같고 바람 같고 날리는 꽃잎 같은 이미지다  순간 속에서 살아 움직이는  휘날리는 꽃잎 하나를 직관적으로 응축시킨 이 그림은 보이지 않는 기운에 둘러싸인 우주공간에서 일회적 삶을 사는 인간 존재가 순간순간 꿈꾼 자유와 비상의 풍경을 보여준다   보다 보이다 김은영 보다보면 보인다  보다보면 안 보이던 것들이 보인다  숨어있던 것들이 눈에 띄기 시작한다  작가는 어느 날 마루바닥에 누워 옆으로 고개를 돌렸고 그녀의 시선이 닿은 곳에 의자다리가 있었다  그때 작가는 실로 처음 의자가 의자로써 기능하기 위해 다리가 온전히 존재해야 함을 깨달았다고 한다  시선이 위치한 곳과 바라봄에 걸리는 시간  평소와 다른 위치에서 긴 시간 동안 대상을 바라보았기 때문에 가능한 경험이었으리라 익숙한 대상을 달리 보기 위해서는 일정 이상의 시간이 필요하다  평소 의자를 대할 때  초의 시간을 들였다면 그 이상의 시간을 들여 의자를 살펴봐야 한다  시간을 두고 보다보면 대상은 자유롭게 해체된다  그리고 기존의 기능에서 탈피한다  나무 의자다리는 길쭉한 코끼리 코로 보이고 알루미늄 의자다리는 감옥의 철조망과 이미지가 겹친다 자 의자 등받이는 발사 전 장전된 총을 연상시킨다  비유를 통해 의자 구조 안에서 세상 만물의 모습을 발견한다  그리고 나는 여행한다  닮은 꼴 사물의 연상을 따라 이 시공간에서 저 시공간으로 눈을 감은 채 옮겨간다  눈을 뜨고 의자를 다시 바라본다  상상에 의해 분해되었던 의자는 어느새 제자리로 돌아와 있다  그리고 깨닫는다  하나의 나사못이라도 빠지면 의자는 기존의 기능을 수행하기 힘들 것이다  의자가 의자로써 기능하기 위해 내부의 부품들이 얼마나 견고하게 서로를 지탱하고 있는지 인식하는 과정이다  부분은 전체를 이루고 전체는 부분의 노력에 의해 유지된다  그리고 만물의 부분은 서로 닮아있다  따라서 의자다리는 의자를 이루는 동시에 더 큰 세상을 구성하는 입자로 존재한다 대상에 대한 남다른 사유를 위해 필요한 것은 시간뿐 아니라 대상을 바라보는 위치의 변화이다  작가는 자신이 의자다리를 처음 인식했을 때로 관객을 데려간다  바닥에 누워 바라본 의자는 거대했고 시선의 평행에 위치한 의자다리는 크고 단단한 기둥 같았다  그때의 느낌을 그대로 관객에게 전달하기 위해 작가는 전시장 안에 큰 나무기둥을 세웠다  밖에서 바라본 전시장은 하나의 네모상자이다  네모상자 안에 건물 크기만한 의자의 다리부분이 놓여있다  전시장 안으로 들어가면 나는 의자다리 반에도 못 미치는 길이의 인간이다  밖에 있을 때는 관찰자의 입장에 서지만 안으로 들어가면 의자다리와 비교되어 관찰당하는 입장에 선다  한편 전시장 안에는 우리가 사용하는 크기의 의자다리들이 네모상자에 꽂혀있다 그곳에서 나는 다시 관찰자의 역할을 수행한다  전시장과 네모상자라는 틀을 이용해 작가는  봄과 보임 Viewing and Being Viewed  의 동시성을 관객이 효과적으로 경험할 수 있도록 하였다 세상은 전시장과 달리 비가시적 틀로 이루어져 있다  만물은 그 안에서 서로를 응시하고 쫀쫀한 긴장감이 세상에 서린다  나와 타인이 놓인 위치  서로간의 거리  교환하는 시선 따위가 말해주는 이야기는 무엇일까  세상은 잘 만 하면 따뜻한 것이다  하지만 조금이라도 함부로 다루면 상해서 다시는 돌이킬 수 없는 형태로 일그러진다  시간을 두고 다른 위치에서 사물과 사람  관계를 바라보자  그 안에 나의 태도와 내가 살아온 모습들이 있다  끝으로 하나의 시를 인용하며 글을 마친다   반짝반짝 작은별 인사동에 위치한 공아트스페이스에서는 년을 맞이하여 재기 넘치는 젊은 작가 명이 참여하는 기획전시  반짝반짝 작은별  을 오는  월 일부터  월  일까지 전관에서 진행한다  이번 전시는 참신성과 작가로 성장하기 위한 자질을 갖춘 젊은 작가들에게 전시 기회를 제공하고자 기획된 전시로 미술계 및 학교 일선에서 활발한 활동을 펼치고 있는 국내 대학의 교수진들에게 엄정한 추천을 받은 명의 작가가 참여한다  전시 취지에 따라 참여 작가들은 현재 대학 및 대학원에 재학 중이거나 졸업한 지  년 이내인 자로 구성되었으며  이들은 평면 입체 설치 사진 및 영상 등 전 장르에 걸쳐 활발한 활동을 펼치며 독창적인 방식으로 작품세계를 펼쳐나가고 있다 참여작가는 부에 걸쳐  명씩 나누어 참여한다 부에는 문성돈  이경훈  이시원  최창규 이상 회화 양쿠라 사진 함정식 영상 설치  등 명이 참여한다  동양적 사고에 서양적 조형기법을 혼용하여 주변의 일상적인 풍경과 사물들을 새롭게 재해석하는 작업을 선보이는 문성돈  주변의 이야기를 에너지 넘치는 화려한 컬러와 새로운 재료적 실험으로 화려한 컬러와 자유로운 드로잉을 구사하는 이경훈 한국화만의 매력을 뛰어난 묘사력으로 그려내는 이시원  강한 색채의 대비와 투박한 붓 터치로 현대 젊은이들의 우울한 모습을 표현하는 최창규  현대 사회 속에서 외면되는 것들에 대한 시선을 한 양쿠라  사회의 불가항력적인 힘에 주목하며 예술의 맥락으로 교감하고자 하는 함정식의 영상작품 이 전시된다 부에는 신혜진 임이혜 회화 최희정 회화 설치 모하나 조소 윤비호 사진 박준호 영상 설치  등이 참여한다 부는 번지거나 지워진 선으로  관계 를 그려내는 신혜진  일상 뒤에 숨겨진 이면을 안정적 색채와 활달한 붓질과 표현으로 담아내는 임이혜  주변의 환경을 전자매체로 검색 후 얻은 정보를 신체를 상징적으로 본떠 다양한 조형언어로 재현하는 최희정  폐품  식용물질 등을 사용하여 일상의 존재와 사물을 낯설게 만들어 유동적 감각으로 사물을 재해석 하게 하는 모하나  기존의 공간을 해체하고 재조합 하여 공간에 대한 새로운 시각을 제시하는 윤비호  현대 사회의 심리적 불안과 이상에의 동경을 현실 틈 속에 녹아있는 환영과 같은 이미지로 등장시키는 박준호 등이 참여한다 예로부터 밝은 별들이 모여 만들어 진 북두칠성이 어둠 속에서도 빛을 발하며 항해의 지표가 되었듯이  공아트스페이스는 이 전시를 통해 미술계의 초년생인 작가들이 형형한 빛을 발하는 영향력 있는 작가로 성장할 수 있는 기회를 부여하고 더불어 미술계의 지표가 되는 작가로 성장하기를 기원하고자 시작과 출발을 다짐하는 매년 초  반짝 반짝 작은별  전시를 지속적으로 펼쳐나갈 예정이라고 밝혔다   Uncharted Village  마음으로 그려간 풍경 빠르고 복잡한 변화의 세상  또한 강박적으로 변화를 강조하고 변화를 강요하는 세상  이곳에서 나는 느림의 미학과 단순성을 꿈꾼다 도시의 바쁜 일상 속에서 우연히 만나게 된 장소들  작은 수도원  탐스러운 과일나무가 있는 정원  그리고 지난여름 더위를 피해 앉게 된 공원의 작은 분수대 앞  이러한 장소에서의 휴식은 잠시나마 무거운 도시의 삶에 지친 심신의 위로와 평안을 갖게 해 준다 또한 여행 중 알게 된 낯선 이들에게 전해들은 흥미로운 이야기들은 그들과 함께 같은 시간을 여행하며 같은 공간으로의 경험을 가능하게 한다  이러한 소박하고 잔잔한 삶의 순간들은 어느덧 상상의 이미지가 되어 마음의 공간에 이식되고 심어져 작은 마을을 이루며 숨 쉬게 되었다  순록떼의 숲  붉은 풍경이 있는 마을  양수양 버들의 숲 등은 답답한 현실의 벽에 갇힌 내면의 탈출구이자 상상의 경계에서 단정지어지지 않는 나만의 비밀장소가 되어준다  그리고 나는 지금 그곳에서 따뜻하고 행복한 시간을 지내고 있다  이번 전시  지도에 없는 마을  은 우리들 마음속에 잠재되어 있는 순수의 시간과 낭만을 꿈꾸는 상상의 공간이고자 한다  그리고 그곳에서의 잃어버린 순수의 시간과 주변의 평범한 것들이 특별해지는 초현실적 경험들은 지도에 없는 마을  을 찾는 또 다른 즐거움이자 위안이다   CLONAGE  virtual things catastrophe points 김범수의 인체 형상들은 기계론적인 환원주의 패러다임을 지니며 살아가는 현재의 인류가 클론으로 인해 맞이하게 될 유토피아적인 미래의 인간들의 모습을 그리고 있다  그 유토피아적인 그의 미래의 세계는  Alice Lidell Lewis Carroll의 얘기를 하기전의 상상 에서와 같이 인형놀이를 하는 어린아이들과 같이 장난스런 형태를 띠고 있지만  그 이면에는 섬뜩한 미래의 두려움을 예고하는 그로테스크한 세계를 반영하고 있는 것이다  이러한 김범수의 그로테스크한 조각 형상은 베르나르 제르보우 Bernard Gerboud  파리  대학 교수 가  인위성은 창조과정 속에서 살아있는 자에게 자리를 양보함 과 동시에 죽음이 하나의 단계일 뿐인 그 곳에서 총괄적 순환과정의 순간을 보여준다  고 말한 것처럼 삶 죽음  정신 신체를 하나의 순환론적인 체계에서 현재의 지배적인 담론과 클론으로 야기될 머지않을 미래를 한 걸음 뒤로 물러나 바라봄으로써 낯선 광경들을 만들어 제시 한다   Jaye Moon Builds Lego Housing Units on the Streets 문재원 문재원 Jaye Moon 은 뉴욕에서 활동중인 작가로 현재 청주 미술 창작 스튜디오 레지던스에 참여하고 있으며  이번 청주 미술 창작 스튜디오 아티스트 릴레이 프로젝트는 그녀의 번째 개인전이 된다  오늘날 우리는 어떤 곳에서나  어느 누구에게나 맞는 보편적인 생활 조건을 만들고자한다  문재원 작가는 이런 현대 사회 현상에 촛점을 맞춘 건축적 공간에 관심을 갖고 있으며 년부터 대량생산 소비문화에 잘 맞는 건축형태를 보여주는 장난감 레고로 수년간 다양한 시리즈를 제작 해왔다  그녀는 레고 블럭 자체가 수학적  논리적  구조적  산업 및 기계 기능을 바탕으로 하는 건축 양식과 연관 되 있어서 현대 건축 문화를 대변하는데 완벽한 오브제라고 생각한다 그녀의 초기 레고 작품인 여행가방  도시락가방  컨테이너 집  서랍장 등은 잦은 이동이 많은 현대 사회의 휴대용 라이프스타일을 암시하는 작업으로 즉각적인 생활 양상을 개념적으로 상징했다  최근에는 이런 이동식 주택에 대한 관심을 실제 건축과 자연을 통합한 도시 풍경으로 재해석하여 대중과 작가의 아이디어를 공유하고자 공공 미술 레고 프로젝트로 확장시켰다 그녀의 공공 미술 프로젝트 레고 트리 하우스는 뉴욕의 Chelsea 거리에서 처음 공공 미술로 선보인 이후 올해 이태원 프로젝트  평창 프로젝트로 소개된바있다  그리고 이번 청주 프로젝트는 한국에서는 그녀의  번째 레고 트리 하우스 공공미술 프로젝트가 된다  작가는 청주 미술 창작 스튜디오 와 청주 시립 도서관 부근 나무들에 레고 트리하우스를 설치하고  갤러리 내부에도 비디오와 설치 미술 형식의 레고 프로젝트를 소개하면서  관객들의 참여를 권장한다   꿈꾸는 물고기 인생이란 꿈을 품은 달 항아리 작은 소망을 달빛으로 빚고 염원의 기도를 올린다 꿈은 내일의 자식이라 늘 우리 앞에 서 있고 간절한 바람의 한 점 한 점은 끝없이 전진하는 물고기로 거룩한 날개짓을 한다   신년유람 년 계사년 을 맞이하여 인천신세계갤러리에서 신년유람 을 기획하였다  이번 전시는 우리의 산수와 일상의 풍경들을 독특한 재료와 현대적 방식으로 재현한 한국화 작품을 선보인다  유람 은 조선시대 사대부들이 우리의 산수를 돌아다니며 그 안에 깃든 역사와 문화를 체험할 수 있는 행위였으며 이를 통해 성리학적 세계를 추구한 문인화가들은 내면세계를 성찰하며 정신적인 수양을 했다  자연을 하나의 대상으로 바라본 서양의 화가들이 한 눈에 조망하는 풍경을 모방하여 그린 반면  우리의 옛 화가들은 산천을 유람하며 실경을 사생하고  이를 기억과 마음에 담아 형상화 하면서 다시점의 풍경을 한 화면에 관념적으로 재구성하여 그리는 조형어법을 선택했다  구본아  권인경  김소영  오민수 명의 참여작가들은 이 시대를 유람하며 현대사회의 여러가지 풍경을 한국화로 그려낸다  관람자들은 전통산수화를 재해석한 작가들의 작품을 감상하고  꼴라쥬로 제작한 산수벽화 만들기  이벤트에도 함께 참여해 볼 수 있다 신년유람 은 동시대를 살아나가는 현대인의 정체성에 대한 사색들과 삶의 단상들이 담겨진 작품을 만나볼 수 있는 전시이다  먹의 사용  수묵의 기법을 벗어나 고서 를 꼴라쥬하거나 오브제  닥종이를 이용한 설치  산수화 벽화 등 이색적인 작품으로 구성된다  여기서 지필묵이란 전통산수화의 조형적 형식들과 서양화의 표현기법이 혼용되며  자연풍경이 아닌 우리를 둘러싼 도시공간  주변의 일상사 등 소재의 확장으로 한국적 정서를 근간으로 하는 현대적 산수화가 재탄생 한다 산수풍경  평범한 일상의 장면들과 같은 이질적인 이미지들이 꼴라쥬 된 오민수의 작품은 관람자들로 하여금 과거와 현재의 풍경이 혼재되는 낯선 경험을 하게 한다  또한 작가 권인경은 자신을 둘러싼 도시를 관조자의 태도로 바라보면서  관람자의 시선을 그림에 끌어들여 함께 도시를 유람하게 한다  하나의 화폭 위에 다양한 시점의 이미지들과 고서가 꼴라쥬 되면서 인간 삶의 순간들이 누적된 모자이크와 같은 도시의 이야기가 펼쳐진다 오늘날 한국화는 전통의 맥을 이어가면서 현대적 미감을 구현하고자 하는 끊임없는 고민 속에 있다  순환되는 시간과 존재의 흔적을 테마로 하는 구본아는 한지 꼴라쥬  오브제 설치를 이용하여 물성의 표현과 수묵실험을 한다  기계 부속물과 같은 인공의 것과 나비 꽃  암석 등 자연의 요소들이 한 공간 속에 대비적으로 재현된다  한편  김소영이 먹채색을 한 닥종이로 만든 고리  환 형태를 잇는 이색적인 설치작업은 비움과 채움의 반복으로 삶의 행위로 비유된다  이와 같이 한국화 작가들은 전통이 내재된 시대적 가치를 반영하면서 새로운 영역으로의 도전과 실험을 전개하고 있다 새해를 시작하면서 신세계갤러리에서 어제와 오늘의 시간  자연과 문명의 공간이 꼴라쥬 되는 새로운 시공간의 풍경을 유람해보면서 삶을 바라보는 우리의 시각과 가치관이 확장되길 바란다  보다 다채롭고 새로운 도전들로 가득한 한 해가 되길 기원한다   WIN WIN 이다갤러리에서는 김찬주  유윤영작가의  WIN WIN  을 개최한다  순환과 재생을 반복하며  공존하는 자연 속에서 모두가 상생하는 삶을 꿈꾸며 마련한 이번전시는 회화와 공예작품으로 이루어진다  서로 다른 두 장르가 풀어내는  상생 은 기법은 다르지만  희망적인 메시지를 담고 있다 김찬주 작가의 비만 사슴과 얼룩말 시리즈는 우리가 과연 바르게 생각하고 바르게 가고 있는가에 대한 질문을 던진다 억의 사람들과 그 수천  수만배의 생물이 더불어 사는 지구에 잠시 더불어 사는 우리의 삶의 태도에 관한 이야기이다  그림 속 얼룩말들의 시선이 멈추는 곳은 우리가 꿈꾸는 이상적인 공간임과 동시에 돌아가야 할 곳이다  김찬주 작가의 작품 속 소재인 동물  나무 등은 작가의 기억과 경험 속에서 새롭게 태어나 모두 포용하고  무조건적으로 주는 자연의 모성을 닮았다  작가는 작품을 통해 지배나 정복의 대상이 아닌 자연과 인간이 함께 더불어 살아가는  공존 을 말하고 있다 유윤영 작가는 사람과 사람사이의  공존 을 이야기한다  각박한 현대사회 생활 속에서 외부의 공격으로부터 자신을 보호하려는 자기 방어는 함께 살아가기를 거부하는 행위이다  바쁘게 살아가는 현대인들의 잊혀져 가는 추억과 차가운 마음을 내면세계 깊숙이 숨겨져 있던 어린 시절의 즐거운 꿈과 상상을 도자조형으로 표현하였다  자연과 사람  사람과 사람이 동화된 긍정적인 미래  모두가 상생하는 행복한 삶을 꿈꾸며 작품이 들려주는 긍정적인 메시지에 귀기울여보자   Project ARG by 아트선재 예술연구자그룹 년 월 일부터 년  월 일까지 진행된 아트선재 예술연구자그룹 Artsonje Artistic Researchers Group  이하 Artsonje ARG 의 결과물과 활동 과정을 선보이는 아트선재 라운지 프로젝트 Project ARG by Artsonje Artistic Researchers Group 이 아트선재센터  층 라운지에서 전시된다 Artsonje ARG는 기존의 예술 교육보다 적극적인 성과를 이루기 위해 시작된 프로그램이다  연구자들은 지식을 습득하고 교양을 얻는 단계를 넘어 예술 현장을 직접 체험하고 동참하여 자신만의 프로젝트로 발전시켰다  첫 번째 Artsonje ARG라는 이름으로 모인 이들은 자신의 눈앞을 닦아 맑게 보기를 바라는 사람들이다  전공도 나이도 하는 일도 다르지만  예술의 곁에 있고 싶어하는 마음으로  개월간 풍요로운 체험을 했다  연구자들은 아트선재센터가 주도하는 현대미술 프로젝트에 적극적으로 참여했고  현재 활약하는 작가들의 작업세계를 더듬어 가면서 스스로가 원하는 것들을 찾아내고 뚜렷하게 만들어 왔다 이번 전시는 Artsonje ARG 과정에서 촉발된 프로젝트를 통해  보고 듣는 수동적인 과정을 넘어서  참여하고 연구하고 자신만의 프로젝트로 발전시켜 무엇인가를 이루어내는 과정을 그려낸다  연구자들은 작품  출판  디자인  기획 등 각자의 관심사를 나누었고 이를 아트선재센터 라운지 공간에 적용하고자 한다  이번 전시를 시작으로 예술연구자들은 예술과 더욱 밀접한 관계를 맺으며 함께 발전해나갈 것이다   차이의 공간 part I  사유와 표상의 간극 현대 미술은 잘 짜여진 틀 속에 담겨 있는 이야기이기보다는 하나의 통일적인 전체를 이루기가 어려운 파편들의 집산이라 할 수 있다 개인의 역사가 하나의 작품으로 표상되기 위해서는 각각의 산재한 이야기들이 질료 속에 묻히지 않고 개별적인 하나의 구성물을 이루 수 있도록 해주는 최소한의 틀이 존재해야만 할 것이다  표상되는 것들이 흩어진 에피소드들의 무질서한 나열이 아니라  하나의 구성물로 서게 하는 형식을 갖추거나 질서를 부여하는 것이 바로  인식틀 이다  이는 시대에 따라 특정한 방식으로 세계를 인식하게 해주는 인식의 질서이고 이러한 인식의 틀은 사유의 범위를 스스로 경계 짓는다  모든 것의 정의는 범주를 정하고 나누어 구별하게 되는데 우리가 사물을 인식하게 되는 과정도 보편적인 틀에 의해 의미지어지고 그 의미는 나와 대상 그리고 장  혹은 공간  환경  인식틀 체계  위치  층  배치 등 논리적 요소들 사이의 관계를 통해서 형성된다 어느 시대든 예술가는 그가 속한 시대정신을 반영하였으며 시대의 특성이나 가치를 유형화 시켜왔다  여전히 세계가 주는 충격에 혹은 외부로부터의 자극에 작가의 눈은 비로써 비가시적이던 존재의 조직에 이르며 정신적인 경험세계에 영향을 미친다  시각적 파장이 동시다발적으로 수신되는 지금에 와서 작가내면에 잠재하고 있는 철학적 사유방식은 수많은 차이를 만들어낼 것이며 모였다가도 다시 흩어지는 이질적인 파편들의 개별성을 표상해낼 것이다  그것이 추상충동이든 감정이입이든 그 무엇이든 오늘날 다양하게 적용될 것이다 이번 전시는 그 차이가 만들어내는 형식에 대한 질문이다  참여하는 작가들의 사유형식 역시 모종의 질서에 의해 표상된다  다양한 인식틀을 가지고 지금껏 지나온 세계를 자신만의 색과 톤으로 담아낸다  개방성과 깊이를 가지고 나뉠 수 없는 사유와 표상의 틈에서 말하고 싶어 하고 감추고 싶어 한다  타자와의 관계에서 비롯된 차이들로 이어진 사유와  동일한 질료로 추상과 구상으로 구성된 형식의 틈새는 공간적 여백과 전체적인 모호함을 깔고 다양한 가치를 발생시키며 자기 자신의 내적 현실과 세계 및 자연의 현실을 의식적으로 재확인하게 된다 여기서 자신의 본질적인 자기존재에 대한 의식을 강화함으로서 세계의 외적 현실에 다시금 다다를 때 표상활동 너머의 사유  그 다채롭게 펼쳐진 세계가 드러나는 것이다   그림은 말하지 않는다 회화에 있어서 본질적인 것은 무엇일까 년 가나아트스페이스의 두 번째 기획전  그림은 말하지 않는다 는 위의 물음에서 시작된다  본 전시는 본질적인 것에 대한 탐구로써 네 명의 작가  김선휘  남학현  손경환  진형주 의 작품이  월 일부터 일까지 가나아트스페이스 제  전시장에서 부에 걸쳐 선보여진다 회화는 언제나 그리기에 대한 이야기로 귀결된다  그것은 어쩌면 그림을 그리는 과정이라고 할 수 있겠다  선택된 소재와 재료  기법은 그들이 그림을 대하는 태도를 위해 사용한 것들이다  이들은 이번 전시에서 스스로에게  왜 그림을 그리는가  를 자문하면서 회화의 정의를 확립하고자 한다  무엇을 그렸느냐 보다는 그림을 그리면서 가장 중요하게 여기는 것  즉 개인적인 태도와 관점을  그림을 말하지 않는다  을 통해 우리에게 보여준다 손경환 그리기는  내가 보고 있는 것은 무엇인가  라는 의문에서 시작한다  나는 대상과 화면의 중간에 서서 관찰자이자 표현의 주체로서 대상을 응시한다  이때  대상과 나 사이에 수많은 경로로 이루어진 시공간이 생겨난다  이 시공간은 찰나와 같아서 인식하기 힘들다  하지만 대상이 너무 멀리 있어 현재에 서서 과거의 빛만을 볼 수 있는 상황이라면 조금 더 인식하기 쉬워진다 예를 들어 지구에서 볼 때 달은 항상  초전의 모습이다 응시의 대상은 실체와 내 눈 사이에 있는 멀고먼 시공간의 경로를 부유하는 유령 같은 것이다  내가 보고 있는 것이 같은 시공간에서 관찰된 실체가 아니라는 사실은 나에게 영원한 상실을 가져다 준다  손에 닿지 않는 것에 대한 욕망은 그렇기 때문에 부서질 것 같은 색점들로 표현된다  나의 회화는 멀고먼 실체와 나 사이의 어딘가에 있는 유령에 근접해 보려는 노력이다 진형주 나에게 그림은 언제나 극한 마음의 문제로 몰린다  이것은 즐거움인 동시에 두려움이다  그림 이전의 모든 상태 사진 에서 그림으로 표현되기 위한 것을 받아들이는 일은 이런 큰 양면에 서있는 것과 같다  이런 양면의 공존 속에 좋아서 그리기보다 살아가야 함으로 그리기라는 숙명처럼 느껴지는 것이 있다  그리기 이전에 사진에서  받아들이기 가 있다  이  받아들이기 에서 그림의 결과에 미치는 대부분의 작용이 끝나고  실제 그리기가 시작되면 특정한 그리기의 방법과 의도를 생각할 시간도 없이 그리기의 몸이 움직이기 시작하면 끝은 빠르게 보인다  하지만 받아들이기와 그리기의 간격은 넓지 않으며 때로는 화학작용처럼 반응한다  이러한 과정이 나에게 그리기로 들어가는 방법이다  나에게 그림은 결정되고 완성된 마음을 그리는 것이 아니라 움직이며 변화하는 온전한 흐름에 있다 김선휘 나의 작품에는 제목이 없다  일반적인 의미에서의  무제 가 아닌  본인의 회화론을 나타내는 지표로서의  무제 이다 회화 블랙홀처럼 화가의 모든 차원을 빨아들여 화면 위에 알 수 없는 세계를 만드는 힘 를 이루는 다양한 요소는 어느 하나를 중심에 세워둘 수가 없을 만큼 수평적으로 펼쳐져 회화를 받치고 있다  화면에서 손짓을 통해 벌어지는 일은  내부에서 정신을 통해 벌어지는 일만큼 흥미롭다  모든 것을 투사하는 회화는  다른 무엇보다 인간적인  나의 외침이다  여백은 나의 예술에서 핵심적인 개념이다 동양화의 이론이나 시각적인 효과와는 거리가 먼  본인의 지향점을 나타낸다  죽음을 옆에 세워두고 살아가야 하는 인간처럼  회화도 그것의 시작과 끝을 드러내길 원한다  캔버스 귀퉁이에서 바람을 불면 화면의 흔적들이 다 사라질 것처럼  찰나의 신기루가 되었으면 한다  깨어나서 더듬어보는 매혹적인 꿈이었으면 한다 남학현 나의 인물화 작업에는 초기의 약  획 의 크기  방향  색이 전체 그림완성도에 이상의 영향을 준다  그 후에 그려진 수많은 획은 마치  줄타기를 할 때 균형을 잡기 위한 미세한 움직임 과도 같다  내 그림은 영감이나 짜여진 계획을 향해 달려가는 그림이 아니다  어두운 밤길에 손전등을 비추며 조금씩 길을 찾아 나가듯이 그려진다  인물사진 이미지를 사용하지 않기 때문에 최초 획이 그만큼 큰 방향을 제시하며  나머지 획들 역시 잘못 사용하면 그림을 망치게 되니 중요도가 떨어지는 것도 아니다  이러한 과정은 완성된 그림 속에 녹아 잘 드러나지 않는 요소이다  나는 항상 그리면서 마음속에 되새긴다 드러나지 않지만  누구든지 볼 수 있을 것이다  말하지 않지만  누구든지 읽을 수 있을 것이다   Reportage 쓴다 라는 행위는 일반적으로 텍스트를 통해 드러나고  그린다 라는 행위는 이미지를 통해 드러난다  기록은 개인이 중심에 있는 주체라는 관점에서 이루어지며 우리는 글을 쓰거나 그리기를 통해 개인의 흔적을 기록한다  SNS의 발달로 인해 지금 일어나는 모든 일들이 다양한 매체를 통해 남겨지기 시작하였다  사람들은 더 많은 이야기의 흔적을 남기며 타인과 생각을 공유하려 한다  개인적 기록을 통해 서로 공감대를 형성하기도 하며  일방적으로 소통을 강요하기도 한다  그리고 이는 사회적 영역 안으로 들어와  현상에 대한 논의가 시작된다 이번 전시는 기록의 확장된 영역을 통해 그 역할에 대해 논의하려고 한다  기록자는 단편적인 기록이 아닌 자신의 의견을 배경으로 심층적이고 다양한 에피소드를 담고 있는 종합적인 이야기를 만들어간다  전시 제목인  르포르타주 는 어떤 특정한 현상이나 사건에 대한 단편적 보도가 아닌 보고자의 체험과 조사를 토대로 심층적으로 취재하고 종합적으로 기사를 구성하는 기록 형식이다  문자  이미지  소리라는 모든 매체의 형식을 통하여 기록된 개인적  사회적  역사적인 시선과 개념들은  개인적인 경험의 혹은 사회적 관념의 틀에서 벗어나 기억의 사유를 확장하며  새로운 의미론적 관계를 형성한다  기록을 통해 어떤 거대한 역사적 텍스트 안에 들어가는 것을 논하는 것은 아니다 하지만 기록들이 모여 거대한 역사를 만들어 낸다  지나간 시간 속에만 흔적을 남겨두는 것이 아니라 앞으로 다가 올 시간 속에도 흔적을 남겨 둔다  데리다는 말하는 것 조차 기록이 선행하므로 기록으로서의 역할이 가능하다고 하였다  이처럼 기록의 개념이 확장되면서 많은 개념적 변화가 요구된다  기록은 단순히 경험적 관찰이 쓰여지는 것을 보존하고 유지하는 역할에서 나아가 개인의 사유와 사회의 통념을 담고 있는 동시에 현상의 가치에 대한 의미의 관계 속에 위치한다  그리고 기억의 본질에 대한 개념의 당위성을 얻는다   깊이와 넓이의 경계 김영훈 갤러리 이배에서는 신년 특별기획으로 김영훈작가의  깊이와 넓이의 경계 Boundary of depth and breadth 전 을 선보인다  갤러리이배가 개관 이래 처음으로 기획한 이번 판화전시에서는 기존의 평면적 전시형태를 벗어나 설치작업을 선보임으로써 판화장르에 대한 인식을 새롭게 하고자 한다  작가는 메조틴트 mezzotint  판화제작기법으로 만든 이미지를 통해 대상에 대한 느낌과 자의적 해석에 관한 이야기들을 산문 형식으로 나레이팅하는 과정 속에서 존재하는 것에 대한 명상을 유도하고자 한다 김영훈의 작업 모티브는 중력으로부터 자유로운 영혼을 담은 인물들에서 출발한다  다시 말하자면 심연 속 소우주를 지닌  그것이 실존이든 환영이든 현재 존재하고 있는 한 개체에 대한 의문과 질문에서 비롯되어 우리 스스로의 작음에 비교조차 할 수 없는 광대한 그 무엇에 대한 동경으로 이어진다  작가는 작업을 통해 속세를 벗어난 영혼의 자유와 안식을 원하며 무한의 깊이와 넓이를 가늠하고자 한다  그의 이러한 열망은 그의 작업 속에서 자신 안의 무한한 깊이와 자신 외부의 무한한 넓이 사이 혹은  그 경계선 상에 존재하는 인간의 모습으로 표현된다  그가 표현한 인간 인물 은 내부로의 깊이와 외적 넓이의 끝없는 확장의 출발점을 의미한다  그것은 곧 시작은 있으나 끝이 없는 무의식으로의 여행  동시에 그 넓이를 알 수 없는 공간으로 여행을 떠나는 존재의 모습을 나타내는 것이다 작가의 작업은 얼굴 위주의 이미지  작은 인체 이미지  직선과 곡선의 외각 이미지 등으로 표현된다  작가는 인물의 표정과 손의 위치  동세를 통해 고요와 안식 그리고 영혼의 세계를 이야기하며  작품들에서 보이는 원의 이미지는 외부의 넓이와 깊이를 표현하기 위한 방편이다  그것은 꽉 차있는 공간이기도 하지만 동시에 또 다른 공간으로 연결되는 통로로서의 공간이기도 하다  즉 이는 해석의 이중적 의미를 담고 있다  분명한 것은 안과 밖이 어떠한 경계에 의해 나뉜다는 것이다  그 경계는 인체의 외각 부분을 부드러움과 날카로움의 조형적 요소로도 나타나는데 그러한 요소들은 시각적 긴장과 완화를 표현한다  곡선은 주로 모호하며 신비로운 존재를 직선의 경계는 그 경계로 인하여 분리 되는 두 공간을 규정한다  그러나 그것은 보이거나 보이지 않고의 차이일 뿐  실체의 형상이 변형되는 것은 아니다  부유하는 것이든 아니면 무언가에 가려져 있는 것이든 그것은 그리 중요하지 않다  단지 경계로 구분된다는 점에서 그것은 보이거나 보이지 않는 차이로 우리가 무엇을 인식하고 느낄 수 있는지에 대해 경계하고 있다 작가는 이러한 주제의식을 바탕으로 이미지와 여백의 조화에 중점을 둔 평면작업과 군집으로 나열하거나 반복적으로 배치한 설치작업으로 표현한다  두 작업에서 공통적으로 나타나는 인물의 이미지를 통해 존재 안으로의 깊이와 존재 밖으로의 넓이를 동시에 표현하고자 한다  평면작업에서는 흑백으로 강하게 대비되는 이미지와 여백의 단순한 표현을 통해서 속세를 벗어난 영혼의 완전한 자유  그리고 상대적으로 미지의 무한한 넓이를 가늠하고 미지 그 이상의 미지를 탐미하는 한 인간의 모습을 나타내고자 한다  반면 설치작업에서는 복제된 이미지로 규칙적 반복과 때로는 불규칙적인 배열을 통해 공간과의 어울림을 강조하고 무한에 대한 동경과 의문을 표출하고자 한다  그러나 작가는 궁극적으로 이러한 작업행위가 부질없는 욕구이며 알 수 없는 것에 대한 무모한 질문  그리고 범주할 수 없는 것에 대한 막연하고 일방적인 동경임을 안다  살아있는 한 영혼으로서의 한계를 인정하며 알 수 있는 범주의 넓이와 우리가 살고 있는 세계의 순리 안에서 그저 편안함을 바랄 뿐이다 김영훈작가는 강원대학교 사범대학 미술교육과 및 성신여자대학교 대학원 판화학과를 졸업했다  이후 총  회의 개인전과 다수의 국내 단체전 및 기획전에 참여하였으며 프랑스  일본 등 국외 전시에도 꾸준히 참여하고 있다 년 핀란드국제판화트리엔날레에서 대상을 비롯해 러시아국제판화비엔날레  가나와국제판화트리엔날레  프린트도쿄 도쿄국제판화전에 초대되었다  중앙미술대전을 비롯하여 한국현대판화가협회공모전  한국판화가협회의 이상욱특별상 등을 수상했다  우리나라를 대표하는 판화작가로서 국내는 물론 국제무대에서의 그의 역할과 앞으로의 행보에도 많은 기대가 모아진다 판화는 대중과 가장 친근한  그러나 오리지널리티를 가지고 있는 예술영역으로써  현대사회가 발전할수록 그 독특한 예술성은 더욱 희소성과 독자적인 가치를 인정받고 있다  이번 판화기획전시는 순수미술이란 영역을 쉽게 접해보지 못한 관람객들에게 편안하게 다가갈 수 있는 전시로서 기획되었으며 관람객들에게 설치작업을 통한 판화전시의 파격적인 면모를 보여줌으로써 판화에 대한 인식을 새롭게 할 것이다  우리가 태초에 어두운 자궁에서 나와 빛을 만나는 것과도 같은 그러한 신비한 순간을 자신의 작품에 고스란히 담고자 했던 작가의 염원을 그의 작품들을 통해 함께 느껴 보길 바란다   La Premiere Memoire 박지은 박지은 작가의 작품속에는 한 없이 어두운 하늘 아래 불빛 하나  인적 조차 없는 도시만이 존재한다  마치 누구의 발길도 닿지 않은 듯 무관심해 보이는 도시의 풍경은 차갑고 거칠게만 느껴진다  이는 현실을 사는 우리네의 모습인지도 모른다  스스로 통제하며 살아온 자리에는 빛이 보이지 않는다  하지만 여기서 작가는 따뜻한 감정을 찾고 그들과 소통하고자 한다  먹의 강렬한 터치와 자유롭게 튀어나가는 먹물은 작가 본인의 소통 의지이자 지금 살아있음의 표현이리라 작가의 작품속에는 차갑고 어두움 만이 아닌 변화하는 밝고 희망의 메시지를 찾아볼 수 있다 작가노트 나의 카메라 속에 담긴 도시의 풍경은 무미건조 하면서도 빛처럼 다가오는 무언가가 있다  빼곡하게 줄지어 있는 도시의 풍경 속에서 사람들을 찾아 볼 수가 없다  그런 도시를 바라보면 복잡하면서도 외로움이 느껴진다  초기 작업으로 여행을 하면서 느낀 감정을 번져 나가고 흐르는 먹물 안에 나타나는 도시들로 작업하였다  그 후에 건물에서 느껴지는 무미건조함을 표현하기 위한 작업으로 진행하였다  바쁜 일상 속에서 주제만 있는 짧고 간결한 대화만이 흐르는 지금 우리들의 모습을 나타내고자 하였다  우리들의 모습을 암흑 속에서 빛으로 다시 태어날 수 있게 감정을 불어 넣은 것이다  번져 나가며 흘러 내려 버리는 또한 튀어나가는 먹물은 어둡지만 어쩌면 냉정하게 보이기만 하는 사람들 개개인의 감정은 따뜻하다는 걸 표현했다   Les Fl neurs 산책자들 완벽한 산책자에게 있어 수많은 사람들 속에  물결처럼 왔다 갔다 하는 사람들 한가운데 거처를 마련한다는 것은 무한한 기쁨이다 집 밖에 있으면서도 모든 곳에서 자기 집 안에 있는 듯한 느낌을 받는 것  세계를 보고  세계의 중심에 있으면서도 세계로부터 숨어 있는 것 관찰자는 모든 곳에서 익명성을 즐기는 군주이다 보들레르 낭만파 예술 파리  p 현대적 삶의 화가 한 플라뇌르 Fl neur 가 거리 속 사람들 틈을 휘휘 저어 한가롭게 빠져나간다  초점 없는 망연한 표정으로 빠르게 눈 앞을 스쳐 지나가는 광경을 관찰한다  머릿속 관념들이 풍경과 뒤섞이기 시작한다 장식과 묘사는 사라지고 암시로 가득 찬 풍경만 남는다  어느새 그는 풍경의 표면 그 안쪽을 걷기 시작한다  산책자란 뜻을 가진  플라뇌르 는 보들레르가 세기 중반 파리에서 일어나는 근대화 현상을 지켜보는 자들을 지칭한 것에서 유래되었다  본 전시에서 소개하는 세 명의 산책자  임소담  유창창  이해민선의 작품은 현 시대의 풍경을 관찰하며 포착한 관념들을 은유적인 시각언어로 풀어놓고 있다 첫 번째 산책자  낯섦을 수반한 익숙한 풍경  임소담은 여행하면서 찍은 스냅 사진  산책하며 발견한 일상 이미지  다큐멘터리에서 본 장면들을 수집한다 수집된 풍경 이미지들은 심리적으로 연상되는 다른 풍경으로 즉흥적으로 대체되거나  오래부터 그의 기억 속에 체화 된 장면들과 조우하며 새로운 장소성 placeness 을 띠게 된다  예를 들어 작품  Mother 에 보이는 텅 빈 주차장에 혼자 앉아 있는 길고양이는 작가의 무의식 저 너머에 숨어있던 표상된 존재일 수 있다  의미를 유추할 수 없는 작품 제목 또한 그림 속 풍경을 단순한 다큐멘터리적 기록이 아닌 모호한 단상이 스며든 장면으로 읽혀지게 한다  그럼에도 불구하고 그가 선택한 보편적이고 익숙한 소재 는 보는 이로 하여금 각자의 기억 속 풍경들을 쉽게 환기시킨다  그리하여 임소담이 그려낸 풍경들은 지극히 개인적이나 타자를 향해 열려있는 장소가 된다 두 번째 산책자  낙체 Falling Body 들로 가득 찬 풍경 주변의 인물  동물 및 사건들이 재조합 된 유창창의 작품 속 가상 풍경은 모든 비극의 집합체  다시 말해 디스토피아다  그는 우리가 꿈꾸고 바라는 유토피아를 파괴하는 방법으로 디스토피아를 표현한다  예를 들어 성공을 상징하는 뉴욕의 지도 위에 자신의 정액을 흩뿌리고 모든 텍스트를 알아볼 수 없도록 지워버린다  또한 작가가 의도하는 파멸의 욕망을 대변하는 리틀 피플 들이 알록달록한 산야를 넘어 스멀스멀 기어 나온다  독특하게도 작가는 인간을 중력에 얽매여 하늘에서 땅으로 떨어져버린 낙체 들로 간주한다  중력을 우리의 몸에 포함되어 있는 불가항력적 감각으로 인식하고 이를 인간이 짊어진 생의 무게감으로 치환한 결과다 그의 관점에서 인간은 천상 유토피아 에서 떨어져 이미 천하 디스토피아 에 살고 있는 피조물이다  결론적으로 그의 눈에 비치는 세상은 낙체들로 가득 찬 불안과 우울로 침잠된 디스토피아로 볼 수 있다 세 번째 산책자  무와 유가 공생하는 개념화 된 풍경 식물과 각목  비닐  나뭇가지들로 엮어 만든 이해민선의  직립 식물  연작은 도시 속 나무와 식물들이 죽지 않게 지탱해주는 각목 지지대에서 비롯된 성찰의 결과물이다  작가의 표현대로  한때는 나무였던 것이 다른 나무를 지지하고 있는 이 형상은 흡사 동물과 같이 느릿느릿 걸어 다닐 것만 같다  그는 황폐화되거나 퇴색된 도시 속 대지에 흡사 동물의 형상 같은 이 직립 식물들을  살아있게 보이도록  두는데  이들로 인해 문명과 인간에 의해 사회적 측면에선 죽은 대지는 쓸모와 생기를 얻는다  무기물과 유기물 사이 정의할 수 없는 모호한 것들이 서로 도우며 존재하고 있는 모습이 어딘가 애처롭다  작가의 성찰로 탄생된  개념화 된 풍경 에 나타나는 이러한 패러독스는 생명체의 존속과 공존에 관해 생각하게 만든다  나아가 인간이 생명을 대하는 이항대립적 태도에 질문을 던진다 보들레르의 표현대로 많은 예술가들은 현대의  어떤 생활 을 유유히 활보하며 탐구하는 익명의 산책자들이다  그들은 인식하지 못하면 사라져버리기 쉬운 풍경의 단편을  또 다른 세계 로 확장시키는 면밀한 관찰자이다  이번 전시는 일상에서 벌어지는 현상들을 자신의 주관적인 사유체계에 녹여내는 세 명의 산책자들이 가진 작가적 태도와 미적 감수성에 주목해보았다  작가가 만들어 낸 정서적 공간을 좇아가다 보면  일상적인 풍경이 나만의 심적 풍경 심적 풍경 Psychological Scenery 과 부딪히며 생성되는 다양한 찰나들을 경험해볼 수 있을 것이다   DISORDER 박수진 서울 인사동 갤러리 시작에서 미디어 아티스트 박수진의 개인전이 열린다  여기저기 흩어져 있는 정리되지 않은 분열된 자아의 여러 가지 파편이 다양한 이미지로 작품 안에 믹싱 되어 나타난다  아날로그 사진과 디지털 사진  컴퓨터 코딩으로 그린 그림  각종 이펙트 프로그램으로 만든 특수효과들이 독특한 형식으로 합성된 강렬한 이미지로 다채롭게 펼쳐진다  왜곡되고 과장된 화면 분할 극단적 대비를 보이는 흑백의 명암  환상과 현실의 경계를 넘나드는 섬뜩한 느낌의 소스구성과 표현주의적 상상력을 불러일으키는 수많은 이미지들의 직관적 병합은 주로 카메라의 렌즈로만 보여졌던  차적 이미지를 넘어선 사진의 최종 아웃풋 output 으로서의 또 다른 모습과 재미를 보여준다 더불어  전시장에 설치된 개의 라이트 박스가 보여주는 빛과 어둠의 환상적인 컴비네이션과 또 다른 설치작품인 콘크리트 벽돌로 사이로 보여지는 어떤  형상은 작가의 복합적 자아가 가지고 있는 어두운 환상이 현실과 내면을 넘나들며 존재하는 모습을 유기적으로 보여준다 이에 관객들은 전시를 통해 첨단 이미지 콜라주의 새로운 시각적 환상과 함께 모두에게 산재되어 있을지 모를 불안정한 자아의 드러나지 않던 모습을 보게 될 수 있을 것이다 작가는 년 서울시립대학교 환경조각학과 및 동 대학원을 수료하고 미디어 파사드 media facade  스튜디오를 운영하며 작품 활동을 하고 있다   포토포럼과 사진책 우리시대 사진가를 만나는 두 가지 방법 지난해 갤러리 류가헌에서는  사진과 사진책 이라는 제목으로  책 속에 담긴 사진들의 오리지널 프린트와 개 출판사의 사진집들 여 권을 한 자리에 모은 포토북페어를 열었습니다  우리 시대 사진가들의 사진집들을 망라해서 볼 수 있는 장을 마련하고 출판사들의 사진책 출판을 응원하기 위한 이 전시는  그 전례 없는 내용으로 인해 사진계 안팎의 큰 호응을 얻었습니다 년  월  류가헌의 두 번째 포토북페어가 열립니다 사진가와 사진책 이라는 제목으로 열리는 이번 포토북페어는 여 명 우리 시대 사진가를 중심으로 지금까지 출간된 그들의 사진집을 한 자리에 모둠한 전시입니다  책 속에 담긴 오리지널 프린트가 일부 함께 전시되며  작가별로 구획 배치된 사진집을 보고 현장에서 사인본을 구매할 수도 있습니다 년 한 해 동안 출간된 신간 사진집들과 올해 전시된 사진전들의 도록을 볼 수 있는 코너도 마련됩니다 포토북페어  사진가와 사진책 의 가장 큰 특징은  전시 기간 중 연이어지는  포토 포럼 입니다 사담 을 나누다 라는 타이틀의 포토포럼은 강운구  김옥선  노순택  성남훈  신동필  육명심  최광호  황규태 등 우리나라 사진사에 데뚝한 자리매김을 한 원로 사진가에서부터 활동이 활활한 젊은 사진가에 이르기까지 명의 사진가들이 차례로 관객과 만나 친밀한 분위기 속에서 사진에 관한 이야기를 나누는 행사입니다  사진에 관한 담론을 나눈다는 의미에서의  사담 이자  한 사진가를 중심으로 소수의 청중이 사적인 모임처럼 마주 앉아 차를 마시며 서로 이야기를 나누는 형식에서  사담 의 의미를 지니기도 합니다 부 한 장의 사진  수 겹의 이야기 는 사진책 속에 담긴 사진 한 장으로 풀어보는 사진가의  나와 사진  이야기로 진행되며 부 이 사진가의 이런 생각 에서는 작가별 자유주제를 중심으로 논의가 오고갑니다  청중은 신청자들 가운데 선착순으로 여 명만 참여할 수 있습니다  포토포럼  사담 을 나누다 는  주 간 주  회씩 나누어 총  회가 이어집니다 왜  사진책 인가 천 만 명  신문에 발표된 우리나라 아마추어 사진인구 수입니다  또 지금껏 판매된 DSLR카메라가  백만 대가 넘는다고 합니다 이렇게 사진이 일상 속에 일반화된 요즘이지만  사진을 찍는 사람은 많아도 사진집을 사서 보거나 소장하는 문화는 드문 게 우리 현실입니다 글쓰기도 그림그리기도  먼저  읽기 가 우선됩니다  다른 사람의 글과 그림을 읽고 보고 흉내 내기를 무던히 반복한 이후에야 흉내 내지 않은 자신만의 창작을 일구어 내는 것입니다  사진이라고 왜 다르겠습니까  전문 사진가든  아마추어 사진가든 사진책의 큰 의미가 여기에 있습니다  더구나 사진집은 누구나 쉽게 접근할 수 있는 시각언어로 되어 있습니다  집안이든  공공장소에서든 얇은 책 한권에서 이처럼 깊은 층위의 감동을 얻을 수 있는 책으로 사진집만한 것도 없습니다 사진집을 보지 않는다고 사진인구만을 탓할 수도 없습니다  시중에서 사진책을 접할 수 있는 기회도 많지 않을뿐더러  대형서점에조차  사진집 코너 가 따로 없이 취미 또는 미술서적 코너 한 쪽에 몰려있던 시절도 있었습니다  그때에 비하면 많이 좋아졌다고는 하지만  아직도 서점에 가서 사진집을 구매하기란 쉽지 않습니다  감상은 애초부터 어렵고  빼곡히 꽂혀 하나하나 꺼내보기도 쉽지 않으며 비닐포장이 되어 있는 경우도 많습니다 사진가별 사진책과  오리지널 프린트 가 함께 전시되는 특별한 사진전 년 포토북페어  사진가와 사진책 을 여는 이유입니다   OOO을 꿈꾸며 공평갤러리에서는 국내 젊은 청년작가들의 창작의욕을 고취하고  미래의 한국 미술계를 이끌어갈 참신하고 역량 있는 작가를 발굴 지원하고자 청년작가 그룹 OOO을 꿈꾸며  프로젝트를 기획하였습니다   제  회 미래를 보다 신진작가 발굴과 양성에 앞장서는 갤러리엘르의 블루칩 프로젝트의 일환인  미래를 보다 이  회째를 맞이 하였습니다 여 명의 지원자 중 선정된  명의 작가는 갤러리엘르의 활동작가로 다양한 전시활동과 홍보 프로모션의 기회를 제공받게 됩니다 년  월  제 회 미래를 보다 에 선정된 강호성  이보람 작가 등은 년 갤러리 엘르 소속작가로 활동하며 국내외 아트페어와 브랜드 콜라보레이션 등으로 왕성한 작품활동을 해왔습니다  특히 강호성 작가는 미술은행과 국립도서관  홍콩 영사관 등에 작품이 소장되었고  색연필 작가 이보람은 세계적인 색연필 회사인 파버카스텔과 연결되었으며  권아리 작가는 각종 잡지와 TV에서 작품을 다루기도 했습니다 제 회 미래를 보다  에서는  명의 동서양회화 작가와  명의 조소작가를 선정하여 전시를 진행하며 수 많은 경쟁자를 뚫고 선정된 만큼 퀄리티 높고 미래가치 있는 작품들을 보여드릴 예정입니다   박제경의 레이스  또 다른 회화적 관능의 세계 한 작가의 작업 스타일을 일의적으로 규정한다는 것은 결코 쉽지 않다  그런데도 적어도 미술 작업의 창의성을 도외시하지 않는 한 작가에게 일관되고 고유한 작업 스타일을 요구하는 것은 거의 원칙처럼 되어 있다  달리 말하면  특정한 어떤 그림을 보았을 때 그 그림이 누구의 그림인가를 단박 파악할 수 있어야 한다는 것이다  이는 조형 작업의 가능성이 무진장하다는 것을 전제로 하고 있다  또한 이는 작가의 그 유독 한 조형 방식이 관람자들에게 전혀 색다른 조형적 세계를 제공함으로써 특정한 감각의 영역을 느닷없이 경험하도록 하는 것이 미술 작업의 위력임을 전제로 하고 있다  미술사를 장식하고 있는 위대한 작가들은 예외 없이 이 같은 미술 작업의 전제를 충족하고 있다고 해도 과언이 아니다 중요한 것은 각기 나름의 고유한 작업 방식이 관람자들의 감각적 역량을 새롭게 끄집어 올려 그 폭과 깊이를 더할 수 있어야 한다는 것이다  창의적이라고는 하지만 그저 기발함에 머물고 말면 감각의 폭과 깊이를 더하지 못하게 됨으로써 강력한 예술적 힘을 발휘하지 못한다는 이야기다 진정으로 창의적인 것은 묘하게도 보편적인 위력을 발휘한다  칸트가 제시한 공통감 Gemeinsinn 을 염두에 두지 않을 수 없다  감각학적 공통감은 천재적인 창의성이 많은 사람들에게 보편적인 위력을 발휘할 수 있는 가능성을 뒷받침한다  작가들이 알게 모르게  때로는 자신 나름의 예술적 역량에 만족해하기도 하고 때로는 끝없는 절망 속에 빠지기도 하는 것은 이 때문이다 이러한 점을 감안하면서 작가 박제경의 회화 세계를 가늠해 보고자 한다  한 마디로 말하면  그녀는 이번 개인전을 통해 회화적 레이스의 세계를 창안해 보여준다  그것만으로도 일단 창의적이다  그 창의성의 정체는 과연 무엇인가  달리 말하면  레이스의 세계를 회화적으로 표현해서 보여준다는 것이 감각학적인 차원에서 빚어내는 의미와 효과는 과연 무엇인가  이에 관한 평자의 분석이 작가인 그녀가 염두에 두는 것과 다를 수도 있다  하지만 작품이란 일단 제시되고 나면 작가의 손을 떠난다  심지어 프랑스의 문학 평론가인 모리스 블랑쇼 Maurice Blanchot 는  작품의 고독 을 주장하면서  작품을 쓰는 자는 한쪽으로 밀려나고  작품을 다 쓴 자는 작품으로부터 쫓겨난다  라고 했다  이를 염두에 두고서 평자는 자유롭게 나름의 분석을 하고자 한다 우선 박제경의 회화적 기법에 관해 살펴보자  레이스는 코바늘을 이용해 빠른 손놀림으로 실을 꿰어 여러 문양들을 만들어내는 전통적인 수예 기법의 결과물이다  물론 오늘날에는 컴퓨터 기술을 활용해서 온갖 다양한 문양을 만들어내는 기계레이스가 대종을 이룬다  그런데 박제경은 실 대신에 물감을  코바늘 혹은 편물 기계 대신에 그녀만의 독특한 붓을  레이스 본이나 컴퓨터 대신에 밑그림 없이 즉흥적으로 빠르게 움직이는 두뇌의 손놀림을 활용한다  박제경의 이러한 독특한 작업 방식은  거미줄 잣기  spiderweb spinning 라 이름을 붙일 수 있다  거미가 집을 짓기 위해 꽁무니에서부터 자동으로 얇고 질긴 투명한 실을 만들어내어 순식간에 직조를 해나가는 것에 비유할 수 있기 때문이다  박제경의  거미줄 잣기 는 잭슨 폴록의 흩뿌리기 dripping 와 비교된다  그 핵심은 잭슨 폴록의 흩뿌리기와 마찬가지로 온갖 다양한 조형적 가능성을 지닌 순수 감각적 본능을 한껏 발휘하는 박제경 나름의 회화 기법이라는 데 있다  잭슨 폴록의 흩뿌리기와 마찬가지로  박제경의 거미줄 잣기는 즉흥적인 감각을 본능적으로 통제하는 데 그 나름의 특성을 지닌다  여기에서  본능적인 통제 는  앞서 자아 올려 캔버스에서 펼쳐지는 선들의 유희에 의해 뒤이어 자아올리는 선들의 유희의 속도와 방향 및 밀도가 저절로 결정될 때  그 선들의 자발적인 조형적 유희에 작가가 손놀림이 올라타고서는 앞서거니 뒤서거니 하면서 조정하는 것을 뜻한다  박제경의 본능적 통제에 의한 거미줄 잣기는 어떤 조형적 직조를 하려는가에 따라 얼마든지 새로운 방향으로 힘을 발휘할 것이다 이제 이러한 박제경의  거미줄 잣기  기법을 염두에 두고서  그 내용으로 들어가 보기로 하자  망사 라고 번역되는 데서 알 수 있듯이  레이스는 일반 옷감과는 달리 이른바  시스루  see through 를 가능케 하는 특이한 직조 형태이다  시스루는 몸  특히 살과 떼려야 뗄 수 없는 관계를 맺고 있다  사이사이로 언뜻 비치는 보일 듯 말 듯 한 속살은 옷을 아예 다 벗어 노골적으로 드러나는 몸과는 전혀 다른 감각을 제공한다  레이스의 시스루는 관능 자체가 아니라 관능의 세계로 유인하는  관능에의 유혹 이다  열어 보이면서 차단하고 차단하면서 열어 보이는 레이스의 시스루가 갖는 열림과 닫힘의 동시적인 이중성이야말로 관능의 기본적인 속성이다 회화사를 통해 수도 없이 취급되어 온 것이 바로 관능이다  관능이야말로 감각의 원천이라 여겼고  따라서 관능의 세계 속으로 진입할 수 있도록 하는 것이야말로 회화의 주제적인 본령인 양 취급되어 온 것이다  예컨대 레오나르도 다 빈치의  모나리자 에서 암암리의 관능이 없다면 과연 명작으로 취급될 것인가  구스타브 클림트의  키스 에서 적절한 관능을 놓칠 수가 없고 에곤 실레의  꿈속에서 보다 에서 너무 노골적인 탓에 관능을 벗어버린 관능을 놓칠 수가 없다 그렇다면  열림과 닫힘의 동시적인 이중성을 통해 관능을 노출하는 레이스를 회화적으로 구현한 박제경의 그림은 과연 관능적인가 그녀의 그림에는 몸이 없다  살은 더더욱 없다  몸과 살이 없이는 그 자체로 결코 관능적으로 현존할 수 없는 레이스로 구축된 덩어리가 뜬금없이 공중  그러니까 캔버스의 허공에 매달려 있을 뿐이다  그런데 그럼으로써 오히려 잠재적인 관능성을 발휘한다 두 연인이 한껏 강렬하게 정사를 치루고 난 뒤 주인공들은 온 데 간 데 없고 그저 어지럽게 무질서하게 주름져 있는 침대 커버는 얼마나 관능적인가  옥외 광고판인 양 도심에 높이 걸린 펠릭스 곤잘레스 토레스의  침대 광고 게시판 이 센세이션을 일으켰던 까닭이 거기에 있다 박제경은 레이스를 관능적이게끔 하는 몸 또는 살을 삭제한다고 했다  그 대신 레이스 자체가 덩어리를 형성하여 몸 또는 살이 되는 지경을 구축한다고 했다  이는 일종의 절편음란증적인 도착이다  절편음란증의 주체는 여자의 속옷을 예사로 훔친다  고립된 공간에 들어가 그 훔친 속옷을 애무하면서 성적으로 흥분한다  박제경은 관람자들에게 몸과 살을 제공하지 않는다  그 대신 몸과 살을 애매하게 감쌈으로써 관능을 불러일으키는 상태에 있는 몸 덩어리를 닮은 레이스 속옷들만을 관람자들에게 제공한다  이는 관람자들을 은근히 절편음란증의 주체 상태로 유인하는 것이라 할 수 있다  그녀의 이러한 유인 작업은 과연 성공적일까  작품들을 구분해서 보자 어떤 레이스는 분명 몸의 형태를 그대로 유지하는 속옷이다  다른 레이스는 더 이상 속옷이라고 할 수 없을 정도로 다소 무정형하게 덩어리져 있다  그런가 하면  또 다른 레이스는 마치 감각적인 흥분에 의한 것인 양 난분하게 흐트러져 있다  만약 이 작품들의 계열을 절편음란증에 의거해서 성적으로 흥분을 일삼는 과정을 표현한 것이라고 한다면 무리한 해석일까 레이스와 덩어리는 본성상 전혀 이질적이다  레이스는 본성상 덩어리인 몸 또는 살을 감싸면서 동시에 보여줄 수는 있어도 그 자체로 덩어리가 될 수는 없다  다른 한편 레이스는 본성상 결코 증기화 될 수 없다  레이스는 본성상 몸 또는 살을 감싸는 것이기에 공중에 흩날리는 증기와 같은 것으로 될 수 없다  그런데 박제경은 레이스로 된 덩어리를 만들어 레이스가 그 자체로 실체임을 보여주는가 하면  그 실체적인 덩어리가 해체되어 증기로 되는 모습을 만들어 레이스가 그 자체로 비실체적인 이미지임을 보여주기도 한다  일컫자면 박제경은 레이스라고 하는 여성적인 관능의 매체가 실체와 이미지를 오가면서 관능의 세계를 맴도는 지경을 그려내고 있는 셈이다 그럼으로써 박제경은 다시 기묘한 효과를 자아낸다  그것은 몸 또는 살이 지닌 관능적인 본질을 드러내는 효과이다  레이스가 감추고 있는 몸을 넘어서서 아예 레이스로 변환된 몸을 염두에 둘 필요가 있다  그렇다면 아예 덩어리처럼 된 레이스에 함축된 몸은 어떤 몸이겠는가  그 몸은 관능의 위력에 공격받아 성적으로 응축된 긴장된 몸이라 할 수밖에 없다  또한 그렇다면 아예 증기처럼 공중에 흩날리는 레이스에 함축된 몸은 어떤 몸이겠는가  그 몸은 성적 흥분으로 절정으로 치달은 몸이 아예 그 자체로 감각적인 살이 되어 사방으로 흘러넘치는 몸이라 할 수밖에 없다 박제경의 레이스의 회화적 세계는 분명히 이렇게 해석될 수 있다  문제는 이러한 해석을 유도해 내는 강렬한 회화적인 조형 장치들이 다소 부족하다는 느낌을 준다는 점이다 색채와 선의 날카로운 대비와 격렬한 조화가 다소 부족한 것 같고  레이스를 형성하는 그 미세하기 이를 데 없는 선들이 전반적으로 보아 아직 관능의 열기에 덜 젖어 있는 것 같다는 느낌을 준다  그러나 그녀의 이른바 본능적 통제에 의한  거미줄 잣기 에 역점을 두면 이야기가 달라진다  미세하기 이를 데 없는 그  거미줄 선들 을 자아내느라 미친 듯 집중하여 희열의 시간 속으로 잠입해 들어가 이렇듯 화려한 선들의 향연을 구축해 내는 장면을 떠올릴 필요가 있다  그 고도로 집중된 작가 박제경의 본능적 통제에 의한 거미줄 잣기 의 회화 작업의 시간이야말로 관능적인 회화적 감각에 한껏 젖어 있음에 틀림없다  지금 우리는 그 결과를 대면하고 있다   meet YOU with in COLOR 빛의 스펙트럼의 파장에 의해 식별할 수 있는 시감각 의 특성으로 시각의 기본적 요소 중의 하나이다  우리가 분간할 수 있는 색의 가짓수는 몇 백만 개나 되지만  색은 크게 흰색  회색  검정 계통에 속하는  무채색 achromatic color  과 무채색 이외의 모든 색으로 빨강  주황  노랑  녹색  파랑  보라 등 밝거나 어둡거나 맑거나 탁한 색 전부를 포함하는  유채색 chromatic color  으로 나눌 수 있다  눈의 망막에는 추상체 와 간상체 라는 두 종류의 시세포가 있는데  밝은 빛에서는 추상체가 작용하여 색 지각을 만들지만  어두울 때는 간상체가 작용하여 흑백 사진과 같은 무채색의 시각을 만든다 그림의 역사에서 보면 색채는 형태의 본질적인 도형에 덧붙여진 장식 이상의 것으로 생각되지 못했다 세기 말에 칸트Immanuel Kant도  판단력 비판 에서 본질적인 것은 도형이라고 언급한 바 있다  그러나 점차 미술 및 의류직물  실내장식 등에서 색채의 미묘하고 세부적인 사항들에 대해 연구하게 되었으며  현대 미술에서 색채는 형태를 덮고 있는 것이라기보다 그 자체로서 실재하는 구조로서 파악하는 태도가 확산되었다 이번 전시는 년을 시작하는  갤러리 온 의 첫 번째 전시로  이승신  우성미 두 작가의 작품을 선보이게 된다  회화의 기본요소 중 가장 중요한 요소 인 색 을 테마로 각기 개성이 다른 두 명의 작가가 색에 대해 이야기해 본다는 취지이며  color 는 작가에게 대상을 표현하는 방법이기도 하고 영감의 원천이기도 하다  이승신  우미경 두 작가에게 있어  색 이라는 요소는 어찌보면 의식하지 못했지만 자신의 작품에서 누구보다도 중요한 위치를 차지하고 있는 부분이기도 하다  두 작가는 각각의  개의 전시장 벽면을 이용하여  개의 색상을 정하여 그 색상에 대한 작가 개개인의 감성과 그에 부합하는 작품세계를 보여주게 된다  색상은 핑크  골드  레드  블루 막스브라운  그린  화이트  보라  블랙  오렌지 중에서 표현될 예정이다  st Exhibition START 년을 맞이하여 처음으로 선보이는 이번 전시는  START 라는 주제에 걸맞게 시작을 알리는 작품들로 구성되어 있다  시작 처음  듣기만 해도 설레는 이 단어들은 봄  질주  비상 등을 연상케 하여 비비드한 색채와 입체갑있는 작품들이 겨울동안 움추러있던 마음을 활짝 펼치게 한다  전시관은 다양한 공간으로 나뉘어져 느낌이 다른 작품들로 기획되어 유쾌한 상상을 할 수 있다  자녀방에 걸어주고 싶은 그림 SNS를 이용하다 보면 제 나이와 비슷한 연배의 이용자들에게서 참 특이한 현상을 관찰할 수 있습니다  해가 지면 밤과 어둠이 주는 감수성에 젖어 일상적인 생각에 시적인 표현을 가미한 글들이 많이 올라오는 편인데  그것들에 대해  신선하다 멋지다 라는 긍정적인 반응보다는  감성 폭발이다  혹은  오글거린다 라며 글쓴이의 감수성을 은근히 조롱하고 기피하는 반응이 많다는 것입니다 솔직함에 박수를 쳐주고  멋들어진 표현에 멋지다고 표현을 해줄 만한 여유조차 없는 걸까요 많은 사람들이 세상이 너무나도 차갑고 각박하게 변해버렸다고 이야기합니다  유치원에서부터  경쟁력 을 모토로 가르치는 현실에  세상이 변했다는 것은 도저히 부정할 수가 없습니다  하지만 딱 년 전으로만 거슬러 올라가면  이야기는 많이 달라집니다  총칼이 난무하는 컴퓨터 게임보다는 밖에서 뛰어노는 것을  영어공부보다는 동화책과 위인전을 읽는 것이 먼저였던 때가 있었습니다  알게 모르게 정서발달에 큰 영향을 준 어린 시절이었죠 소통 과  공감 을 강조하는 시대  회색빛으로 물들어가는 하루하루를 살아가는 어린이들에게 자그마한 유채색을 더해주면 어떨까요 보고  상상하고  그것에 감동하고  그 감동을 표현하고 나눌 수 있는 발판을 마련해주면 어떨까요  앞으로 살아가는 데 있어 숫자로 나타나는 능력보다  소통 과  공감 하는 것에 훨씬 큰 도움을 주지 않을까요 모리스갤러리에서 매년 기획하고 있는  자녀방에 걸어주고 싶은 그림 은 이런 각박한 경쟁사회를 살아가야 할 어린이들에게 잠시나마 순수한 동심의 세계로 돌아갈 수 있는 기회를 제공하는 전시라 생각합니다  자 이제 그림소풍을 떠나보면 어떨까요   곽한울 그 시절 친구의 집에는 이층 침대가 있었고 책상 위에는 새하얀 도화지가 있었다  토요일 오후  공원으로 자전거를 타러 가자는 친구의 전화를 받고 삼거리로 달려간다  멀리 손을 흔드는 친구와 그 아이의 가족이 함께 서있다  아버지는 누나와 다정스레 이야기를 나누고 어머니는 등나무 바구니를 들고 있다  아마도 바구니 안에는 가족을 위한 소풍 간식이 들어 있을 것이다  그 낯선 풍경을 보는 순간 자전거는 점점 느려지고 얼굴에 분홍빛이 오른다  자전거는 서고 친구의 부모님께 공손히 고개를 숙여 인사한다  그리고 나도 모르게 거짓말이 나온다 나 오늘 못 가  엄마가  그냥 오래 그럼 왜 왔어  아까 전화로 그냥 얘기하지 내가 같이 가지 않을까 미리 이야기 하지 않고 나를 가족 소풍에 초대한 친구가 미워진다  다시 인사를 하고 자전거를 되돌려 집으로 달린다  자전거는 점점 빨라지고 땀이 나기 시작한다  어린 시절  나는 왜 친구의 가족 소풍에 따라 가지 못했을까  시간이 흘러 어른이 되어도 내가 들어가기 힘든 공간이 있다  누구에게나 허락되어 열려있는 공간들  그 소소한 인생의 단편에 나의 자리를 생각한다 나는 그곳을 바라보고 있다   어쩔 수 없을 때는 어쩔 수 없다  뛰자 많은 사람들이 계획을 세우며 미래를 위해 살아간다  공인된 일들  대다수 사람들에게 인정받는 일들이 주로 큰 일로 간주되며 목포가 되어 삶을 이끌어간다  우리는 입시  취업  승진  성공시대가 익숙한 경쟁구조에 살아가고 있다  주변에는 엄친 딸  아들에서부터 수많은 자기 개발서  성공한 사람들의 이야기는 넘쳐나 잊을만한 목포지점을 끊임없이 각인시켜준다  하지만 나는 가장 하기 힘든 일을 큰 일로 분류한다  그것은 매우 일상적일 수 있는 생활의 일부로 가장 실행하기 힘든 일이기도 하다 오늘부터 아침부터 일찍 일어나서 매일 운동을 하겠어 란 결심이야말로 작심삼일이 되기 쉽다  눈이 오나 비가 오나 밖으로 나가기는 더욱 힘들다 그만큼 지키기 힘들다  우리는 우리 자신에게 한 약속들은 쉽게 어기고  쉽게 우리 자신을 용서한다 피로 작은 일들과 큰 일들로 분류되며 작은 일들로 가득한 삶은 하찮게 느껴지기도 한다  하지만 우리의 삶의 대부분의 사간들은 영화 같지 않은 작은 일들로 가득 차 있다  이상과 현실의 차이가 클수록 우리는 불행하다  피로감은 더욱 가중된다  우리의 피로는 이런 작은 일들을 하나씩 해나가면서 우리와의 약속을 지키는 것에서부터 시작된다  이것은 현실과 이상의 격차의 다리 역할을 하며 나의 몸  몸이 말하는 나의 현재 상태  그 시점으로부터 현실을 출발하게 해준다  몸의 감각들은 머리를 쫓아가며 살아가는 내 자신을 조용히 멈추게 한다 최근 내가 할 수 있는 능력 밖의 일들에 휩쓸릴 때  매일 한 장씩 뛰는 사람을 그렸다  나의 심정의 변화와 뛰는 사람의 미묘한 심리변화가 흡사함은 느낀다  그림을 그리면서 서서히  어쩔 수 없을 때는 어쩔 수 없다  란 생각으로 마음이 비워지고 물의 물성과 손의 감각만이 나에게 이미 결과를 뛰어넘는 위안이 된다  나에게 그림을 그린다는 행위는 꿈을 꾼 후  그 꿈을 통해 뒤늦게 무의식을 엿보듯 그림을 그리고 난 뒤  그려진 그림을 보며 나의 상태를 엿보는 유일한 창구와도 같다  그림을 통해 말로 표현할 수 없는  정확한 목표나 결과가 없는 것들이 무의식중에 내 자신이 무엇을 필요로 하고 있는지 수많은 목소리를 내고 있음을 듣는다  이번 전시는 이러한 나의 그림들을 모아 보았다   시발 누구나 새로운 일을 시작 할 때의 설레임은 말로 표현 하기 힘든 짠한 느낌이 있습니다  그 일의 시작과 끝이 좋을 수도 있고 나쁠 수도 있겠지만 이 전시를 하는 젊은 학생들은 좋고 나쁨을 떠나 새로운 일을 시작 할 수 있다는 것에 감사하며 작업을 하고 전시 준비를 했습니다  전시의 제목이  시발  이라는 단어 때문에 당돌하다고 생각 하겠지만 이 단어는 사람들이 대부분 생각하는 하나의 욕이 아닌 일의 시작을 알리는 단어 입니다  새로운 작업과 새로운 전시의 시발점에 서 있는 학생들의 열정 가득한 전시가 전시장을 가득 채워주길 바랍니다   전업주부씨 어린 시절  아무리 배가 고파도 어머니께서 밥을 차려 주실 때까지는 식사를 하지 않으시는 아버지를 보면서 난 참 미련하다는 생각을 했다  간혹 어머니께서 외출을 하시는 경우가 있었는데 찌개는 데우기만 하면 되고 반찬은 냉장고에서 꺼내기만 하면 되는 간단한 일인데도 아버지께서는 어머니께서 집에 돌아오시기를 기다렸다가 꼭 어머니의 손을 빌려 본인의 식탁을 차리셨다  아버지의 와이셔츠는 원하는 시간 안에 원하는 모양으로 다려져 있어야 했고 늘 두는 곳이 정해져 있는 속옷과 양말도 꼭 어머니께서 찾아주셔야 했다 어머니는 계속해서 무언가를 하고 계셨고 눈을 뜬 순간부터 잠들기 직전까지 분주한 움직임이 멈추지 않는 상태의 어머니를 보고 있으면 나도 무언가를 해야만 할 것 같아 따라서 집 안을 서성이곤 했던 기억이 떠오른다  그렇게 바쁘게 움직여도 왜 어머니의 엉덩이는 커져만 가는지  왜 뱃살은 늘어만 가는지 난 이해가 되지 않았고 모든 집안일을 마치고 드디어 쉴 수 있는 시간이 오면 특별한 취미생활 하나 없이 결국 텔레비전 앞에서 채널을 돌리시던 어머니의 뒷모습은 세상에서 가장 쓸쓸해 보였다고나 할까  난 가끔 방송에서 자신의 꿈은 포기하고 자식만 바라보며 살아왔다는 아주머니들의 인터뷰가 나오면 가슴이 답답해져 채널을 돌려버렸다  그리고 문득 그 아주머니들의 포기했다던 꿈은 무엇이었을까 생각에 잠기곤 했는데  각자가 꿈꾸던 모습은 조금씩 다를지라도 분명 공통적으로 어떠한 무대의 주인공이 되길 상상하며 설레는 마음으로 하루하루를 살던 시절이 있었을 것이라는 생각과 전업주부의 삶과 그 삶을 맞바꾼 것이 아닐까 하는 생각이 꼬리를 물고 이어졌고 아주머니들의 잃어버린 삶에 대한 안타까움이 답답함의 원인이었음을 알게 됐다  그런 가운데 주부들에게서 화장을 하지 않고는 절대 외출하지 않고  어려 보이게 만들어준다는 화장품 광고는 거의 신뢰해 버리며 거추장스러운 리본이나 장식들이 달려있는 앞치마나 거실화를 예쁘다고 구매하거나  나이가 들수록 화려한 색상과 무늬가 있는 옷을 착용하는 모습들이 공통적으로 나타난다는 것을 발견하게 됐는데  이는 전업주부라는 위치를 선택함으로써 채울 수 없었던 욕구를 해소하려는 현상으로 해석된다  난 이 점이 재밌고도 참 씁쓸하게 느껴졌다  내가 그 분들이 익숙하게 여길만한 도구들을 나열하여 새로운 형태를 만드는 것은 마치 그 분들에게 작은 위로의 마음을 전하겠다고 슬픈 곡을 연주하는 것과 비슷하다고나 할까   마시풍의 회화세계 기존의 질서에 구애받지 않는 자유정신의 산물 미술에서 말하는 창작이란 기존의 조형적인 질서를 깨뜨리는 일이다  다시 말해 이미 누군가가 이루어 놓은 조형세계와는 다른 새로운 조형언어 및 어법을 강구하는 일이다  그러기 위해서는 나만의 시각으로 세상과 마주할 수 있어야 한다  이미 이루어 놓은 세계를 답습하는 것은 진정한 의미에서 창작이라고 할 수 없다  물론 배우는 과정에서는 기존의 작품을 스승으로 삼는 것은 자연스러운 일이다 그러나 조형적인 기술을 익히고 나면 스승으로부터 점차 멀어짐으로써 비로소 창작의 세계가 열린다 마시풍은 뒤늦게 그림을 시작한 만학도이다  그런 그가 그림으로 이름을 얻기 전에 인사동 서울미술관을 운영함으로써 자연스럽게 미술계로 들어왔다  물론 그 이전부터 문인화로 그림을 시작하였으니 미술관을 운영하게 된 것도 우연은 아니다  오랜 동안 미술에 대한 애정과 관심을 갖고 있던 터인데다 그림을 그리는 입장이기 되었기에 그렇다  하지만 그의 주변을 제외하고는 그림을 그리고 있다는 사실을 알고 있는 사람은 많지 않을 듯싶다  아직까지 전시회를 연 적이 없는 까닭이다  그러기에 이번 첫 개인전을 통해 비로소 화단에 정식으로 데뷔하는 셈인데  아마도 숨겨진 솜씨에 적이 놀라지 않을까싶다 무엇보다도 그는 그 어디서도 미술을 따로 공부한 일이 없다는 점에서 특이한 경우라고 할 수 있다  스승은커녕 그 흔한 문화센터에조차 나간 일 없이 오로지 혼자서 작업하고 있다는 사실이 놀랍다  더욱이 작품을 보고나면 독학이라고는 믿을 수 없는 수준에 이르렀다는 사실에 다시 한 번 놀란다  수 백점에 달하는 작품 가운데는 아주 능숙하고 세련된 표현기법을 구사하고 있을 뿐만 아니라  회화성이 풍부한 작품이 적지 않다  그러면서도 기존의 양식이나 어떤 경향에 비교되지 않는 회화적인 순수성이 느껴진다 첫 개인전이라고는 믿을 수 없는 수준에 이른 그의 작품은 얼핏 보아도 유사한 작가를 떠올릴 수 없을 만큼 독특하다  여기에서 그가 스승도 없이 혼자서 그림 공부를 해왔다는 사실을 믿지 않을 수 없다  작품의 소재는 물론이려니와 제재 또한 다양하다  어느 면에서는 기존의 작가들이 전혀 의식하지 못한 소재 및 제재를 다룬다는 점에서 볼 때 이단적이라고도 할 수 있다  나쁜 의미로의 이단이 아니라 개성파 화가라는 뜻이다  즉  기존의 회화적인 고정관념을 벗어나 보다 자유로운 조형의지를 관철하고 있는 것이다 이는 그가 어떤 특정의 표현양식 및 형식에 갇히지 않은 채 독자적인 시각으로 세상과 만나고 있음을 말해준다  다시 말해 그는 자기만의 방식으로 세상을 바라보고 그로부터 소재 및 제재를 얻는다고 할 수 있다  창작이란 모름지기 이전에 존재했던 작품들과 비교되지 않은 독창적인 세계를 추구하는 것이다  뿐만 아니라 자기모방조차 허용하지 않는 부단히 새로운 조형세계를 지향하는 것이야말로 진정한 의미에서의 창작이라고 할 수 있다  이러한 점에서 볼 때 그의 작가적인 태도는 창작의 윤리성에 충실히 응답하는 셈이다 작품에 따라서는 기존의 인물화나 풍경화 또는 정물화로 분류하기 어려운 남다른 시각을 보여주는 경우가 적지 않다  한마디로 기존의 회화를 전혀 의식하지 않은 채 오직 자신만의 미적 감각 및 기법으로 그림을 그린다  이는 그가 강한 자의식의 소유자임을 말해준다 화가들 대다수가 그렇듯이 자기만의 미적 감수성과 미적 감정 그리고 독자적인 표현기법을 강구하고자 한다  이는 창작활동에서는 당연한 요구이다  그럼에도 불구하고 실질적으로 개성이 뚜렷한 조형세계를 구현하기란 현실적으로 얼마나 힘든 일인가 그런데도 다양한 소재 그리고 일반성을 벗어나는 조형언어 및 어법을 구사하는 그의 작품을 보면 예술적인 재능과 미적 감수성은 타고난 것일 수도 있다는 믿음을 갖게 한다  그의 작품은 지적 조작이나 지식의 산물이 아니다  그 자신의 작업 자체가 어떤 특정의 양식이나 형식에 갇히지 않는 자유로움 그 자체이기 때문이다  그만큼 작품의 표현영역이 넓다  이럴 경우 타고난 미적 감각 아니면 어떤 영감의 소산이라고 밖에 달리 표현할 길이 없다  이전 작가들의 작품과 비교되지 않는 독특함은 우연이라거나 또는 사뭇 의도적인 것이라고도 할 수 없다  달리 말하면 차라리 자유정신의 선물이라고 하는 것이 옳은지 모른다 그는 여행하는 가운데 소재를 얻는 경우가 많은데 야생조류나 짐승을 선호한다  가령 북극곰을 비롯하여 물소  여우  판다곰  독수리 두루미 등 일반적으로 잘 다루지 않는 동물을 소재로 한 작품이 적지 않다  이는 취향의 문제가 아니라  색다른 풍경과 상황과 마주했을 때 그로부터 미적 감흥을 느낌으로써 창작욕구가 발동한 결과라고 할 수 있지 않을까  이들 동물을 소재로 한 작품에서도 풍경화의 일반적인 구도를 의식하지 않는 자유로운 화면 구성을 보여준다 작품은 대체로 풍경화가 주류를 이루는데 이 역시 수려한 명승지의 풍경을 담는 일반화된 시각과는 좀 다른 관점을 가지고 있다 아름다운 자연경치에 대한 관심보다는 자신이 보고 느낀 인상을 중시하는 경향이다  그렇다고 해서 인상파의 화풍을 따르는 것도 아니다 순전히 그 자신의 미적 감수성 및 미적 감각이 반응하는 대로 따를 뿐이다  보이는 것 자체도 중요하지만 그보다는 그 순간에 반응한 자신의 느낌과 감정 그리고 의미를 솔직하게 담는데 의미를 둔다  마음을 움직이는 어떤 상황과 마주했을 때 일어나는 미적 감수성 즉 고조된 미적 감정 및 고양된 정신세계를 표현하는 것을 이상적으로 여긴다  하지만 즉흥적인 것은 아니다  밀도 높은 묘사기법을 보면 오히려 정제된 감정 및 의식을 중시하는 성향이라고 할 수 있다 그래서일까  그의 그림은 시각적인 이해 그 이면의 내용으로 시선을 유도한다  그것이 구체적으로 무엇인지 얼른 이해하기는 어려울지라도 무언가 깊은 사유의 세계를 반영하고 있음을 직감하게 된다  이로써 짐작할 수 있듯이 그는 시각적인 아름다움과는 다른 세계를 지향한다 그의 작품에 나타나는 색채이미지라든가 형상언어는 시선을 사로잡을 만큼 화려하다거나 자극적인 것은 아니다  다만 시선을 내면으로 끌어들이는 깊이와 무게가 느껴진다  그것은 세상에 대한 그 자신의 주관적인 관점임과 동시에 예술가로서의 사상 및 철학의 깊이와 무관하지 않다 풍경화 가운데 적지 않은 숫자는 감상자로 하여금 사유의 지평을 넓힐 수 있는 내용을 담고 있음이 분명하다  그것은 어쩌면 문학적인 이해를 필요로 하는 것인지도 모른다  가령 산을 배경으로 서 있는 소나무 한 그루는 의인화된 존재로 느껴진다  일반적인 풍경으로서의 조건을 초월하는 구성이자 구도이기에 그렇다  역시 암록의 산을 배경에 두는 황적색의 나무 한 그루는 강렬한 보색대비와 함께 그 숨겨진 의미에 관심을 갖도록 유인한다  여기에 담긴 작가의 의도를 간파하기 위해서는 문학적이고 철학인 접근 방식이 요구되는지 모른다  그 만큼 그의 작품에는 시각적인 아름다움을 초월하는 내용이 담기고 있다는 뜻이다 또한 인물을 소재로 한 작품도 관심을 끈다  물 지개를 지고 간다든가  쟁기질 하는 농부  큰 그릇을 머리에 이고 가는 여자  그리고 놀이를 하는 아이들 등 일련의 인물을 주제로 하는 작품도 무언가 암시하는 바가 적지 않다  그런가 하면 폭포를 소재로 한 작품에서는 서양화 재료를 사용하고 있는데도 그 전체적인 이미지는 한국화를 보고 있는 듯싶다  이러한 결과는 어쩌면 그가 문인화를 병행한다는 사실과의 연관성을 생각해 볼 수도 있지 않을까  유채나 아크릴을 사용하는 상황에서도 한국화의 정신성 및 정서에 한층 민감하게 반응하고 있기에 그렇다 한편 그는 문인화 및 서예를 겸하고 있는데  이 역시 기존의 격식에 구애받지 않는 자유로운 방식으로 작업한다  이러한 작품의 형식 및 내용은 진정한 의미에서 자유정신의 발로라고 할 수 있다  그의 작품은 일상적인 삶에서 유리되지 않는 그 자신의 삶의 단편이자 에피소드라고 할 수 있는지도 모른다 일상적인 생활 가운데 또는 여행하는 가운데 만나는 세상을 보면서 그로부터 발단하는 표현충동에 이끌려 붓을 드는 그의 작업 방식은 신선하고 순수하다  심각해질 필요도 없이 그저 그 자신의 표현감정에 솔직히 반응하자는 태도야말로 그의 작품에 녹아든 순수성의 근원이라고 할 수 있다  그의 작업은 다름 아닌 이와 같은 자유정신의 산물이라고 할 수 있다   기억의 해석 윤희경 서교예술실험센터는  서교예술실험센터 년도 NArT 연계 신진 작가 지원 사업  끓는 상상 아티스트  에 선정된 작가 윤희경의 개인전을 개최한다  기억이란 무엇인가  그리고 그 기억은 인간의 마음속에서 어떤 식으로 해석되고 형성되는가  라는 질문의 답을 찾기 위해 다양한 작업을 진행해온 작가는 이번 전시를 통해 이러한 내면의 움직임을 재현할 수 있는 상상의 기기를 설계도 라는 기호의 형식과 그것을 바탕으로 한 움직이는 기계를 만들어 냄으로써  기억 에 대한 개인적인 해석을 제시하려고 한다 그리고 단순히  기억의 해석 을 재현하는 것을 넘어서 생각하는 인간 그 자체에 대한 이해를 추구하며  인간이라는 커다란 의문의 존재를 해석해가는 이 모든 소소한 행위들을 기록으로 남기고자 하고 있다 이번 개인전은 작가의 주요한 작품 주제들을 아우르는 전시로서  특히  층  관에 설치된 두 개의 작품은 작가의 첫 신작이자  기억의 해석 이라는 큰 주제 안에서도  사유의 표상  부제를 가지고 있으며 이 작업들을 통해 작가가 생각하는 내면의 움직임에 대한 개인적인 해석을 집중적으로 조망한다 층  관 가운데에 위치한  사유의 표상 Symbol of Thought 는 사유 안에서 일어나는 무한한 시간의 흐름과 마치 흐르는 물처럼 순환하는 기억의 굴레들을 상징하고 있으며 그 순환의 과정을 개의 단계로 나누고 그 과정들을 상징하는 형상들을 재배치시켜 하나의 표상으로 가시화하였다  더불어 천장에 설치된  사유의 표상 모든 것은 아래로 떨어지게 되어있다  를 통해 사유하면서 떠오른 생각들과 기억들이 결국 망각에 이르게 되는 것을 위에서 아래로 떨어져 이리저리 흩어지는 공들의 움직임들을 통해 명료하게 보여주고 있다 또한 층  관과 지하  층에 위치한  기억의 해석  드로잉 시리즈들을 통해 하나의 인간을 구성하는 가장 근본적인 단위를  기억  사건이나 사상에 대한 정보를 마음속에 받아들이고 저장하고 인출하는 정신기능 으로 정의하고  그  기억 을 바탕으로 하나의 인간 그리고 정신이 어떻게 형성되는지에 대한 과정을 해석해 보고자 한다  그리고 그 드로잉 시리즈와 같이 지하  층에 전시된  검은 원을 위한 드로잉 이라는 영상에서 작가는 언제나 무언가를 완성하기 위해 많은 것들을 해내어 가지만  결국 무언가를 완벽하게 해낼 수는 없는 우리의 삶을 완전한 검은 원을 추구하는 작가의 행위로써 나타내려고 하였다  그리고 년 월 일부터 시작된 드로잉은 현재 여 장에 이르며 앞으로도 계속 진행될 예정이다   고재춘 전북도립미술관 서울관에서는  고재춘 개인전 을 개최한다  고재춘 작가는 원광대학교 조소과를 졸업하고  이태리 국립 CARRARA 아카데미 조소과를 졸업하였다  이번 전시는 작가의  번째 개인전이다  작가는 국제조각전  재이한인조각전 등 다양한 기획 초대전에 참여 포르투갈  이태리  독일  서울 등 하였고  이태리 NANTO 국제조각심포지움  등  스페인 ALMERIA 국제조각심포지움 등  이태리 VENTURINA 아트페어 갤러리아  등  이스라엘  STON IN THE GALILEE  국제조각심포지움  등 이태리 BUDUSO 국제조각심포지움  등의 수상경력을 가지고 있다  현재는 한국미협  한국조각가 협회  마르뗄로 회원이며  목원대학교 강사  남양주 조각회 회장으로 활동하고 있다 고재춘의 조각은 발굴 시리즈와 조합된 신체 시리즈  그리고 근작의 일상적인 풍경과 잉태 시리즈로 나뉜다  주제나 형식면에서 약간의 차이는 있지만 크게는 이 시리즈들로 묶인다  이 시리즈들은 표면적으로 구분되면서도 그 이면에서는 서로 통한다  형식이 달라지고 재료가 달라졌지만 존재와 인간에 대한 일관된 관심이 보편적 가치를 획득하면서 공감을 얻고 있다  조각 고유의 향기와 분위기를 유지하면서도 조각의 경계를 넘어 조각의 표현영역을 확장하고 있는 형식실험 역시 주목할 부분이다 잉태시리즈 사람들은 저마다 마음속에 유토피아 하나쯤 간직하고 있다  현실과는 또 다른 현실을 꿈꾸는 것인데  현실에 대한 부정의식과 보상심리가 불완전한 현실을 보충하는 것이다  그것은 현실에는 없는 것이란 점에서 과거를 향하고  그것도 근원에 해당하는 것이란 점에서 신화와 전설 같은 아득한 과거를 향한다  과거로부터  역사로부터  내면으로부터 존재의 원형에 해당할 무엇을 캐내는 것이다  마치 자기 내면 깊숙한 곳으로부터 캐낸 것 같은  풍화된 시간의 흔적을 고스란히 압축해 놓은 것 같은 그 성전에선 조각의 향기며 존재의 원형에 대한 아득하고 아련한 그리움이 환기된다 조합된 신체 시리즈 그동안 존재의 원형을 찾아서  인간의 존재론적인 조건을 찾아서 다소간 관념적인 길을 탐색하다가 마침내 일상이라는 현실 위로 정박했다고나 할까  지금 여기에서 일어나는 일이며 일상에서 일어나는 일은 비록 거창하지는 않지만  손에 잡히는 실체며 뚜렷한 현실로 인해 관념으로 재구성된 현실인식보다 못하지 않을 것이다  그 진부한 현실 속에서 우리 보통사람들 모두는 삶이라는 이름의 연극을 연기하는 배우들일지도 모른다  현실적인 삶과는 또 다른 삶을 꿈꾸는 몽상가들일지도 모를 일이다 그렇게 작가의 작업은 연극적이고  마치 한편의 연극무대를 보는 것 같다  일상성에 의한 작업이 쉽게 공감을 끌어내면서 조각의 표현영역이며 범주도 덩달아 확장시키고 있다 작가는 찬 대지 아래서 한기를 견뎌내며 인고의 시간과 성찰의 시간 그리고 실패와 절망  고통의 시간을 견디어 내고 한층 더 성숙해지는 모습을 우리 인생의 모습에 비유한다  이번 전시에서는 장미  소녀  가을 들녘  붉은 노을  싱그러운 꽃 등 모든 자연 안에서 삶의 여정으로 안내할 것이다   현대 도시풍경의 변종산수 임희성은 한국화를 그리면서도 새로운 조형성을 적극적으로 모색해 온 젊음이 넘치는 작가이다  그는 보다 새롭고 현대적인 한국화를 위해 자신의 삶의 주변을 깊이 있게 살피며 이를 토대로 사색을 즐기는 작가로서 독특한 회화적인 맛을 드러낼 수 있는 조형적인 감성을 위하여 많은 공력을 쏟아왔다  그뿐만 아니라 한국화의 채색에서만 느낄 수 있는 독특한 색감에서 드러나는 회화적인 맛과 젊은 시절에 옥탑 방에서 바라보았던 서울에 대한 생각과 느낌 등을 조화롭게 표현하는 데 많은 관심을 가져왔다 그는 차가운 도시에 대한 느낌과 더불어 도시 너머의 자연이 주는 아름다움이나 감흥 등도 함께 표현하였다  그 과정에서 한국화  특히 채색에서 느낄 수 있는 강렬함과 깊이감 그리고 도시의 이미지를 압축한 기하학적인 표현 등이 그의 작품을 한층 미적으로 승화시킨 듯하다  어느 정도 추상적이면서도 반구상적인 조형성은 비교적 안정돼 보이는 형태감 및 깊이감 있는 색감 등과 함께 현대적이면서도 순수한 회화성을 담고 있어 주목된다 작가는 특히 한국화에 대한 남다른 애착을 현대적으로 승화시켰을 뿐만 아니라  산이 주는 자연의 본성과 우리 시대 현대인의 감흥 등을 조형적으로 압축시키고자 노력해왔으며 마음속에 있는 도시의 이미지를 그림으로 표현해내고자 하였다  그리고 이를 표현하고자  transformation 이라는 일련의 제목을 지닌 그림들을 그리면서 새로운 현대적 조형감과 색채감 및 공간감 등을 개성 있게 드러낼 뿐만 아니라  비교적 심플하면서도 화려한 원색을 위주로 조형성을 드러내고자 하였다 노랑이나 빨강  초록 등을 즐겨 사용하여 표현한 삼각형 등의 기하학적인 틀은 마치 추상과 구상을 양존시키면서도 단순화시킨 듯한 공간감을 만들어 흥미를 준다  이는 삼각형 등을 단순하게 색채 속에서 드러내는 것이 아닌  우리의 전통 산수화 등을 이미지화시켜가며 한국적인 아이덴티티를 조형화시키는 흥미로운 작업이다  이것은 아마도 한국성의 소중함에 대한 인식에서 비롯된 작업일 것이다  또한 작가는 여기에서 멈추지 않고 보다 현대적인 보편성을 확보하는 데도 많은 노력을 해왔다  최근의 작품에선 마음속에 있는 것뿐만 아니라 한국성을 구축하면서도 한국미의 멋과 맛을 살린 회화적인 질감과 색감 그리고 조형 언어 등을 토대로 한 세부적인 미적 표현 테크닉까지 탐닉된 듯하다 이런 면에서 그의  transformation 은 주목된다  비록 도시의 한 단면을 자연과 공존시켜가며 그린 것이지만  그 속에 담긴 여러 한국성과 관련된 회화적 정황들 및 다양한 표현 테크닉 그리고 기하학적인 구조 등에서 그의 작품의 표현 심리와 회화적 제스처 등을 읽을 수 있다  은근히 섬세하면서도 감각적인 그림을 그리면서 많은 공력을 들인 흔적들이 여기저기에서 나타나는 그의 작품들은 젊은 나이임에도 그만의 독창적인 그림이라고 말할 수 있다  특히 그가 그리고자 하는 도시와 산수 그리고 자연과 인간의 이미지 등에는 작가의 마음으로부터 나오는 인간적인 향기와 자연과 전통의 환기 등 여러 가지 의미가 담겨져 있는 것이다  그는 옥탑 방에서 생활하던 대학 시절부터 옥상에서 보이는 다양한 풍경들을 오랜 동안 진지하게 관찰하였고  그 결과  복잡한 도시에 대한 거부 반응이 점차 새로운 조형의 모티브로 다가온 것이다 이런 연유로 그의 그림에서는 한국적인 면과 더불어 서양화보다 더 강한 조형의 흔적 및 강렬한 모노 계통의 색채 등이 공존하므로  고정관념 속의 한국화의 이미지가 보다 새롭게 변화한다  그러기에 임희성의 그림은 서양의 현대미술이나 서양회화의 양식을 단순하게 좇아가는 것이라기보다는 우리 시대 한국인들의 삶을 조형적으로 압축시킨 것이며  한국인으로서의 감흥을 공간과 형태 그리고 색 등을 통해 조형적으로 자연스럽게 드러낸 작품이라 생각된다   존재와 벽 정효정 정효정 작가는  존재와 벽 이라는 제목으로 전시를 개최한다  작가의 이번 작품은 털실로 성글게 짜여져 가볍고 투과되어 볼 수 있도록 만들어진  니트 벽  실제 크기는 높이  미터 너비  미터인데 이것은 전시실 천장에서 아래로 늘어뜨려 공간을 가로 놓게 전시될 계획이다  이 벽은 어느 정도 개인적인 공간에서 느낄 수 있는 안도감과 모든 존재에 상호연계성이 있음을 보여주기 위함이다 그리고 작가는 이 설치물과  개의 사진이 같은 공간에서 한 작업으로 전시될 것이며 작은 전시공간에서는 지난 작업의 페인팅  존재의 시간과 공간  시리즈 중  점  도 함께 전시될 것이다   비상  을 꿈꾸다 한유진 작가 한유진의 작품 속 가릉빈가 는 극락정토에 있는 불사조로  미녀의 얼굴 모습에 새의 몸을 하고 있는 상상의 새를 형상화 하고 있다  예로부터 경사스럽고 상서로운 징조로 해석되어 온 가릉빈가는 악곡연주  춤  노래로서 부처님을 공양하거나 설법 장소를 아름답게 하는 역할을 하였다  작가는 가릉빈가 이미지를 통해 인간의 희로애락을 표현하고 있다  인간의 모습을 한 여인의 표정은 놀람  기쁨  슬픔  두려움 등 우리가 일상에서 느끼는 감정들을 담아내고 있으며  화면 속에 등장하는 해와 달  구름 모란꽃 등의 다양한 이미지 조합은 비상하고자 하는 인간의 염원을 드러내고 있다  화폭을 자세히 들여다보면 여인의 모습을 한 가릉빈가는 등뒤에 있는 날개로 인해 마치 천사를 연상케 한다  천사는 세상 속의 모든 근심 걱정과는 완전히 분리되어 있는 고결한 존재로 작가로서 세상풍파와 맞서 오롯이 작업에 매진하고 싶은 작가 자신의 염원을 드러내고 있는 대상이다  가릉빈가의 다리와 날개의 표현은 섬세하고  그 자세는 유연하다  좌우로 펼쳐져 있는 날개  접혀서 날개짓을 준비하고 있는 모습은 현실 속 고단함을 피해 영원한 안식처를 찾는 인간들의 근원적 희망을 표현하고 있다  또한 가릉빈가 이미지를 통한 인간 내면의 부귀길상으로의 희구는 작가에게 있어서는 작업으로의 긍정적 에너지 발산을 기원하는 것이라 할 수 있겠다 한유진의 작품 속에는 인물과 함께 달이 등장한다  달을 보면서 사람들은 그 형태와 밝음으로 인해 원만함과 은은함을 이야기한다  또한 초승달에서 반달로 다시 보름달로 변화하는 과정으로 계속적으로 반복하는 달은 삶과 죽음을 끊임없이 반복하는 영생의 존재로  강한 생명력과 영속성이란 단어로 대표된다  화면 속 달은 둥글고  인물과 어우러져 중심축을 이루고 있다  밝음만을 강조하고 고귀한 존재로서 아니라 유유히 그 빛을 드러내며 세상과 인간을 포용하는 듯한 모습을 보인다  인물은 달과 분리된 존재가 아닌 달 위에서 춤을 추거나 그 속에서 웃고 노는 모습  혹은 부도 의 분위기를 만들어 내고 있다  달의 색 표현 역시 그간 익숙하게 보아왔던 흰색이나 노란색이 아닌 그림 속에 등장하는 세상과 인물이 합치 된 색으로 다양하게 표현되어 있다  이는 가릉빈가의 모습을 한 작가 자신이 달이라는 영속성을 지닌 존재를 동경함을 의미하면서 동시에 세상과 괴리된 영속성이 아닌 그녀가 속한 세상 속에서 끊임없이 새로운 것을 창출하고자 하는 예술혼으로의 희구를 의미하는 것이다 한유진은 작품에 길상적 이미지의 조합을 통해 작가로서 비상하고자 하는 강렬한 열망과 동시에그 과정 속에서 겪고 있는 즐거움과 고통 등의 다양한 감정들을 담아 내고 있다  또한 아직 날지 못하지만  언젠가 날기를 원하는 가릉빈가의 모습처럼 작가 자신도 언젠가는 마음껏 자신의 예술혼을 표출하리라는 포부를 화폭을 통해 알리고 있다  한유진에게 일련의 작업과정은 작가 스스로에게 어쩌면 최면과 같은 작용을 했으리라 니체는  오랜 시간 동안 꿈을 꾸는 사람은 결국 그 꿈과 닮아가게 되리라 라고 말했다  이는 작가 한유진이 세워나갈 앞으로의 작업 여정에 기대를 걸어보게 하는 대목일 것이다   상황 희미하게 지탱하기 노은주 작가에게 있어 공간이란 생활이 이루어지는 장소라는 개념 이상의 복합적 의미를 가지며 눈에 보이지 않는 작용들의 연계  그리고 그로 인한 역학의 대치가 생성되는 곳으로 나타납니다  즉  공간은 삶의 안전을 보장하는 안식처이자 여러 힘 앞에서 쉽게 무너져버리는 비현실적 안전 을 보장하는 단순 구조물이기도  자본과 결부된 허공의 선으로써 개인의 소유욕을 드러내는 대상물이기도 합니다 노은주의 이번 개인전을 통해 모호한 경계 속 섬세한 지탱의 순간을 포착하려는 작가의 예술세계를 들여다보는 의미 있는 시간을 가질 수 있을 것입니다 작가노트 도시의 잔해로 만들어진 구조물과 임의의 경계를 만들어내는 구조물을 이용해 이미지를 재구축한다  이를 통해 도시의 일상을 둘러싸고 있는 구조물이 자아내는 연약하고 위태로운 상황들을 드러내고자 한다  이러한 작업은 경계들 사이에 존재하는 미묘한 힘과 긴장관계  그리고 거기서 파생되는 여러 행동  불안과 같은 감정에 대한 관심에서 시작되었다   그림자 사회  솔베이지의 노래  불광동 토템 김상돈 우민보고 는 한국 사회의 동시대성과 예술의 의미와 역할을 반영하는 작가의  작품 을 소개하는 우민아트센터의 기획전으로 이번 전시 제목  그림자 사회 는 소설가 최인훈의  소설가 구보씨의 일일  에서 차용했습니다  박태원의  소설가 구보씨의 일일 이 년대 식민 시대 일상 속 지식인의 내적 고뇌와 분열적 자아를 그렸다면  최인훈은 년대 냉전시대 일상 속 예술가와 지식인의 내면을 반영합니다  전시 제목  그림자 사회 는 보이는 대상이 아니라 볼 수 있으나  보지 않은 혹은 볼 수 없었던 대상에 대한 관심과 이해를 위한 시도를 담고 있습니다 작가 김상돈은 냉전과 신자유주의에서 비롯한 한국 근현대사의 배경에서 일상 대상 뒤에 숨어 있거나  보이지 않는 거대 기억과 역사가 드러날 때 감지되는 감정들을 표현하며  그것은 사회적 마이너리티  불온한 존재  경계의 존재  하위주체에 대한 상징과 알레고리로 나타나기도 합니다 이러한 표현을 위해 작가는 사진  설치  비디오 등의 다양한 매체를 활용하고 있습니다 솔베이지의 노래 는 작가가 보고 느낀 환경에 대한 서술을  헨릭 입센의 시극  페르퀸트 와 이를 위한 에드바르트 그리그의 극음악 에 나오는 곡인  솔베이지의 노래 로 빚대어 작가  입센  그리그의 시공간을 초월한 공명을 시도합니다 솔베이지의 노래 는 조각  영상  사진이 어우러진 총체적 작업으로  영상  솔베이지의 노래 는 대표적 토목공구인 톱으로 연주하는 구슬픈 음색을  사진  이슬방울 은 작업실 천장에 맺힌 석회 물방울을 보고 사탕과 자각이 붙은 상상적 열매를 구름섬 은 등산객이 쳐 놓은 모기장 텐트인지  무덤인지  UFO일지 모르는 장소로서의 임시 거처를 의미합니다  설치 역기 삼족오 일보일보 화초 는 비루한 일상의 오브제들이 변용과 변신을 거쳐 새로운 생명력을 가짐을 보여주고 있습니다 불광동 토템 은 작가의 거주지이자 작업실인 불광동을 배경으로 재개발의 폐허에서 불온하고 비루한 존재가 가진 욕망과 기운의 카니발 굿판 을 드러내는 설치  사진 작업입니다   여덟 개의 창 OCI미술관은 년 창작스튜디오 입주작가  명의 그룹전시인  여덟 개의 창 을 개최한다  이번 전시는 지난 년  월  일부터 운영 중인 인천광역시 학익동 소재 창작스튜디오에 입주하여 작품 활동에 주력해온  명 작가의 레포팅 전시이다 기 선정 작가  명은 윤기언  임현경 이상 한국화 김유정  박종호  유싸무  이주리  조태광 이상 서양화 김시헌 복합매체 으로 년  월에 공개모집으로 선정되었다 년 월 일 토 부터 일 월 까지  일간 오픈스튜디오 Open Studio  개최를 통해 미술계 인사들 및 방문객과의 소통을 시도한 바 있다 여덟 개의 창 전은  인의 입주작가들이 세상을 바라보는 비전의 창을 통해 그동안 쌓아온 열정과 노력의 결실을 한 자리에서 살펴보기 위해 마련되었다  전시는 작품의 소재와 형식적 측면에서  정지된 시간 움직이는 공간 으로 나뉜다  찰나의 무한한 이야기를 담고 있는  정지된 시간  섹션에는 김유정  박종호  임현경  조태광 작가가  끊임없는 움직임과 생성을 표현하는  움직이는 공간  섹션에는 김시헌  유싸무  윤기언  이주리 작가가 자리한다  정지된 시간 김유정은 전통적인 프레스코 기법을 차용하여 주로 식물을 표상한다  몇 단계에 걸친 고된 작업 과정 속에서 각인으로 만들어지는 형상들은 유한성에 맞선 인간의 치열한 삶의 행위들을 상기시킨다  김유정의 작업은 우리 삶의 다양한 모습들을 공유하도록 한다 박종호는 그리는 손  이젤 등  그리기  에 관한 소재들에 집중하는 자기반성적 작업을 이어왔다  최근에는 건물  하늘 등 외부 세계를 반영하고자 하는 열망을 새롭게 보인다  박종호는 회화에 대한 연구를 바탕으로 하여  일상의 삶과 주변에 대한 충만한 감각을 일깨운다 임현경은 동양화의 채색을 통해 파노라마적 풍경을 펼친다  풍경 안에는 나무  새 등 전통적 동양화의 소재와 분수대와 같은 도시적인 요소들이 혼재한다  또한 삼단화  천정화의 구조는 종교  서양적 요소가 가미된 것이다  임현경의 풍경화는 생명과 자연에 대한 존중의 표현이며  이를 동시대적인 또는 미래지향적인 풍경으로 만들어낸다 조태광은 주로 나무와 새  구름 등의 자연물과 풍경을 구글 어스를 이용한 조감도적인 시각으로 표상한다  작가는 자연이 훼손되는 고통에 반응하면서 유토피아에 대한 노스텔지어를 표현한다  이는 인간이 통제하는 자연에 대한 시각의 맹신을 경계하고  진정한 유토피아적인 풍경으로의 변화를 모색하는 것이다  움직이는 공간 김시헌은 드로잉 회화  실험애니메이션을 통해  길들여지지 않는 선 이라는 주제를 연구해왔다  이것은 움직임을 통해 얻어진 비정형적인 선  형태를 의미한다  드로잉은 애니메이션을 통해  움직이는 회화 로 제작된다  김시헌의 작품은 새로운 이미지를 위한 신체의 흔적으로  다양한 매체와 결합하면서 시각의 확장을 유도한다 유싸무는 전쟁의 고통과 기억에 주목하면서 죽음과 불멸을 탐구해왔다  영원할 것 같은 것들도 언젠가는 소멸하며  오히려 영혼 등 비가시적인 것들이 불멸함을 유지할 수 있다는 것을 표현한다  게임 캐릭터나 동물 박제는 불멸을 함축하는 모티프라고 할 수 있다 유싸무의 작품에서 인간의 영혼과 꿈은 영원을 소망하면서 자유롭게 유영한다 윤기언은 손을 통해 사람의 심리 상황을 짐작할 수 있다는 것에 주목한다  작품에서 하나의 손은 먹과 세필로 그려지는데  여러 개가 모여 새로운 형태로 나타난다 이는 시각 이미지의 다양성에 대한 가능성을 열어두는 것이라 볼 수 있다  또한 운동성을 강조한 애니메이션도 새롭게 선보이면서 새로운 장르를 활용한 작가의 소통방식을 살펴볼 수 있다 이주리는 주로 공사장을 배경으로 절단된 신체  기계  파편 등을 배치한다  공사장은  날 것 의 상태  무의식이 자리하는 상상적인 터로서 작용한다  텅 빈 땅은 작가의 깊은 내면의 요소들로 채워지며  파괴와 생성이 동시에 일어나는 새로운 판타지적인 공간으로 펼쳐진다 여덟 개의 창  을 통해 관람객들은  인  색의 작품세계를 깊이 이해할 수 있는 기회가 될 것이다  OCI미술관은 지속적인 관심으로 창작스튜디오를 운영하고자 한다  이를 위해 보다 전문적인 프로그램을 구축할 것이며  소통의 장을 형성하는 시각 예술 공간으로 이끌어갈 것이다   이우석 초끈이론 Super string theory 이란 우주의 최소단위가 마치 소립자나 쿼크 Quark 처럼 보이면서도 이 보다 훨씬 작고 가는 끈으로 이루어져 있어  차원적 끈의 지속적인 진동에 의해 우주 만물이 만들어진다고 가정하는 이론입니다  모든 만물이 파장으로 이루어졌다는 것  다르게 말하면 우리는 우주만물과 하나로 연결되어 있습니다  우리의 주변은 파장으로 넘쳐 납니다  빛이나 소리 파도 지진등이 파장이라는 것은 누구라도 알 수 있습니다  프리즘을 태양빛에 갖다 대면 빛의 파장의 차이에 따라 무지개 빛깔을 볼 수 있을 것 입니다  자연 재해의 일종인 지진이나 쓰나미는 우리 인간보다 훨씬 거대한 파장이어서 무서운 것이고  온갖 악기는 우리 귓속의 달팽이관을 적절히 자극하는 파장으로 기분 좋은 감동을 줍니다 그렇다면 우리 자신은 파장이 아닐까 작가는 우주에 존재하는 어떤 것도 파장으로 이루어져 있다고 믿으며  그 아름다운 파장을 캔버스에 담아 가는 작업  차원  빛  윤회 그리고 인간의 이야기를 파장으로 표현하였습니다   김보미 드러내기와 감추기  바라보기와 보여지기를 통해 관람객에게 뭔가 더 볼 것이 있으니 찾아보라고 제안한다 분명하게 드러나지는 않지만 보여지는 이미지를 찾게 한다  작업에서 이미지들은 작가 개인적인 이미지들로 지난 사진 일상에서 문득 떠오르는 이미지 일상에서 쉽게 접할 수 있는 이미지  기억을 떠올리게 하는 단편적인 이미지들로 지난 기억을 떠올리게 한다  하지만 아크릴 봉에 의하여 흐릿해져 작가의 이야기가 감춰진 이미지는 이미지 속의 인물이 누구인지  어떤 곳의 풍경인지와 같은 실제적 사실은 이미 중요하지 않다 보여지는 이미지는 관람자 개인의 기억이나 경험을 통해 축적된 각자 다른 의미를 이끌어내며  그 이야기는 결국 관람자 자신의 이야기가 되기도 한다   The Chosen Present 두툼한 겨울옷을 준비해야만 한다  겨울나무가 옷을 벗을 즈음  우리는 털옷을 꺼내는 수고를 해야만 한다  겨울 작업실은 뜸한 사람들의 발길로 오히려 더 요란해 진다  색색의 물감들  시끄러운 작업도구들  짙은 음악들 바람소리와 날리는 낙엽이 가져다 주는 쓸쓸함은 반대로 작업실 안의 불빛을 더욱 따뜻하게 데워준다  살아지는 일들은 늘 그런가보다 선택이다  그랬다 고통 끝에 얻어지는 감동이 그랬고 부지런함과 게으름의 차이가 그랬다  할어반의 선택을 인용해 본다  우리는 비록 태어나고 죽는 것을  선택  할 수 없지만  그 사이에 있는 모든 것은  선택 할 수 있다  창밖에 겨울나무를 준비하는 자연을 바라보면서 내게 그림을 그리는 일 또한 선택이며 만족과 완성을 기대하는 행위라고 우기고 산다  그것이 반드시 빛나는 일이 아닐지라도 오늘도 오리고 붙이고 뿌린다 그 안에 내 소리가 열을 내고 움직인다  움직임은 그대로 화면으로 옮겨진다  편안함은 내 몸을 반듯하게 누이는 일이 아니라 미친 듯이 살아 움직이는 것이 아닐까  내게 선택을 하게 해준 귀중한 선물을 저 버릴 수 없다  사랑한다  선택한 나의 선물을   임의자막 다양한 조형어법과 현대적인 감성의 내러티브를 작품 속에 녹여낸 여섯 명의 젊은 작가 고성광  박영진  윤세영  윤송이  이미나 SHARK I M 의 작품들이  임의자막 Random Subtitles 이라는 제목 아래 한 공간에 전시된다  이들은 올해 서울과학기술대학 조형예술학과의 졸업생으로  지난해 여명이 함께 참여한 졸업전시회에서 선정된 작가들이다 전시작가 선정은 김인선 스페이스 윌링앤딜링 대표  이서영 GALLERY SP 큐레이터  최승현 국립현대미술관 고양창작스튜디오 프로그램 매니저  세 분의 현장 심사로 결정되었다 이번 전시에서는 졸업전시회에 선보인 작품과 더불어 새롭게 준비한 신작을 한 자리에서 선보이게 될 것이다 고성광의 작업은 인물에서 풍기는 분위기를 탐구한다  그는 고정된 성 역할과 관념에 주목하여  남성성을 강요 받는  군대 라는 집단에서 찾아낸 의외의 여성성을 작품으로 나타내고자 했다  그 안에는 군생활의 한 장면이 들어있다  걸레질을 하고  바느질을 하는 군인의 모습이 그것이다  남성성의 집합체인 군대 안에서 고정관념 속 여성의 가사노동이 자연스럽게 녹아 있는 그 장면들을 포착하여 작품으로 옮기게 되는데  여기서 작가는 인물의 피부는 더욱 하얗고 투명하게  포즈는 전형적인 여성의 자태를 취하게 했다  상반된 관념의 충돌은 어느 한쪽으로 정의되지 않는 모호한 이미지를 만든다 박영진의 작품  마주하기로 는 관계를 시각화하려는 욕구에서 출발한다  한 테이블에 두 사람이 마주하고 있다는 사실만으로는 그 둘의 관계를 정의하고 싶은 욕구를 충족시킬 수 없다  이 지점에서 박영진의 작업이 존재이유가 생겨난다  테이블 중앙에 각기 다른 판을 끼워 넣음으로써 두 사람의 역할은 정해지고 관계는 명쾌하게 드러난다  제작된 개의 가림막 중 하나를 골라 정해진 자리에 끼워 넣는 단순한 동작을 실행한 것뿐인데  그 공간을 둘러싼 대기는 순간 전환되어 관람자는 특정상황을 연상할 수 있게 되는 것이다 윤세영의 작업  일상괴담  시리즈는 일상에서 흔히 찾아보기 힘든 낯섦의 공포를 탐색하고 그것을 텍스트와 이미지로 옮긴 작업이다 낯섦의 감정을 끄집어내기 위해 윤세영은 조용히 자신의 유년시절을 들여다본다  거기서 특정한 이야기를 찾아내어 하나의 에세이를 만들고  그 에피소드 전체를 상징하는 하나의 오브제를 도출  도식화하여 텍스트와 매칭시킨다  이러한 과정이 반복되어 일련의 시리즈 형태로 나타나게 되고  결국 각 텍스트가 하나의 시각이미지로 수렴되는 경험을 가져다 준다 윤송이의 영상작업 PIN UP BOYS 는  핀업걸  에서 대상을 바꾼 것으로  여성의 입장에서 바라본 이성의 신체에 대한 호기심과 갈망을 표현하기 위해 남성의 몸 자체를 드로잉을 위한 도구로 선택하였다  작가에게 캔버스에 그림으로 표현되는 관찰의 대상이었던 했던 남성의 신체를 직접 매체화하여  상호 작용을 할 수 있는 능동적 행동 예술로 변화시켰고 그 과정에서 벌어지는 일련의 상황들과 감정의 흐름에 작가는 자유롭게 동참하였다 이미나의 작업은 흔적 속의 세계이다 어느 날 문득 올려다본 천장에서 발견한 하얀 면 위에 검은 점과 선들  평범해 보이는 저 문양들이 갑자기 춤을 추는 것이 아닐까 하는 생각에 사로잡혔다는 작가는  그 날 이후로 주변의 무수한 흔적들에 생명을 불어넣기 시작했다  이미나는 이 작은 흔적들 속에서 눈에 보이지 않는 또 다른 세계를 향한 무한한 상상력을 발휘하여 작가 자신이 설계자가 되어  그만이 볼 수 있는 환영들로 세계를 창조하며 무한의 우주를 펼쳐나가기 시작한다 SHARK I M의 영상작업  어떤 반란 은 상상 속 행위들을 실현함으로써 일어나는 예상치 못한 변화와 그에 대한 결과에 대한 보고이다  공공장소에 자신 만의 공간을 만든다  그리고 작가는 다른 이들처럼 커피를 마시고 지하철을 타고  밥을 먹는다  하지만 당연한 듯 보이는 그 행동은 특수하게 만들어진 작가만의 공간에서 행해지기 때문에 남들과 비슷해 보이기도 하고 달라 보이기도 한다  이 공간은 작가 본인에게는 편안하지만 타인에게는 약간의 불편함과 괴리감을 느끼게 한다  이 퍼포먼스는 상상 속의 행위를 현실로 옮김으로써 일상을 마치 일상이 아닌 그 무엇으로 만드는 변화를 가져다 준다  평범하게 생각하는 순간을 그렇지 않게 만드는 일  그것이 SHARK I M 의 작업의 가장 큰 이유이다   Love is 롯데갤러리에서 따뜻한 사랑의 의미를 전해줄  Love is 을 준비하였습니다  이번 전시에서는 모든 인간의 근원적인 감정 중 하나인 사랑에 대해서 생각해 보고자 하였습니다  사랑은 예로부터 미술 작품뿐 아니라 수없이 많은 문예 전반의 소재로 다루어져 왔고  또 그 종류만큼이나 다양하고 다각적인 이야기와 해석을 낳으며 여전히 세간의 관심을 불러일으키고 있습니다  그 끊임없는 관심의 이유 중 하나는 그것이 탄생과 죽음에 비견될 만큼 삶의 중요한 요소 중 하나라는 시각 때문일 것입니다 Love is 에서는 우리가 살며 사랑하는 모습과 그 주변의 일들을 따스하고 긍정적인 시선으로 바라보고 작가 특유의 독특한 방식으로 해석해 내고 있는 작품들을 대상으로 하였습니다  이번 전시를 통하여 오늘날의 작가들이 사랑이라는 공통된 주제를 어떻게 색 다르게 표현하는지 사회나 현실을 반영하는 시각은 어떠한지 살펴 볼 수 있을 것입니다  그러한 점에서 우리의 삶과 분리해서 생각할 수 없을 만큼 밀접한 소재인 사랑을 대상으로 한 작품이 우리 미술의 현주소를 이해하는 하나의 방법이 될 수도 있을 것이며  뿐만 아니라 오늘을 사는 작가들의 미술관 을 들여다 볼 수 있는 좋은 기회가 될 것으로 생각합니다 어쩌면 우리는 사랑의 의미에 대해 혹은 그 따스함에 대해 돌아볼 수 있는 여유와 시간조차 갖지 못한 채 메마르고 삭막한 삶에 쫓기며 살아가고 있는지 모릅니다  하루가 다르게 쏟아져 나오는 디지털 매체의 폭풍 속에서 시대의 변화에 맞추어 사랑도 디지털화 되듯 점차 얄팍하고 가벼워 지는 것이 아닐까 하는 생각 또한 갖게 합니다  하지만 차갑고 축축한 긴 터널의 끝을 지나면 봄은 다시 우리를 기다리고 있습니다 의 작가들이 들려드리는 아홉가지 사랑 이야기들을 통해 작품 속에 스며있는 여러 가지 사랑의 맛을 음미해 보시기 바랍니다  아울러 그 의미에 대해 다시 한번 생각해 보는 계기가 되길 바라며 우리의 가족  연인  친구 이웃에게 따스한 온기를 전할 수 있는 소중한 기회가 되었으면 합니다 고상우는 인간의 삶과 죽음  욕망  죽음을 넘어선 영원한 사랑  사회적 현실 등을 주제로 하여 네거티브 기법으로 제작된 사진 작품으로 잘 알려져 있다 국내뿐 아니라 뉴욕과 아시아를 비롯하여 유럽에서도 좋은 평가를 받으며 활발한 활동을 펼치고 있는 그가 이번 전시에서 보여 주는 작품은 남녀간의 사랑을 주제로 한 작품들이다  화면에서 보여지는 이미지들은 색상의 전도를 일으키며 화려한 색감과 환상적인 이미지의 표현으로 일상에서 벗어나 우리에게 색다른 감흥을 불러 일으킨다  작가는 영원한 사랑을 표현하기 위하여 사랑하는 이의 죽음을 맞이해야 했던 여인들을 찾아 다니며 긴 시간 동안 인터뷰하고 모델로 참여하도록 하였으며  그 과정을 통해 환생의 법칙을 발견하고 기록하였다 남녀간의 사랑  인간의 욕망  죽음 등을 대상으로 하여 이미지나 색의 전도뿐 아니라  의 전도  현실과 환상의 전도 나아가 문화의 전도를 추구하고 있는 고상우의 작품은 사랑이나 성을 넘어서 인간 정신의 근원과 본질에 대한 심층적인 물음을 던지고 있다 김경경의 작업은 어린 시절 외할머니와 어머니가 꿰매시던 이불 위에서의 기억에서 비롯된다  외할머니와 어머니가 꿰매시던 꽃 이불 위에서 골무를 끼고 놀다가 잠이 들었던 기억  그 기억 속에 존재하는 어린 시절의 심리적 공간은 한땀 한땀의 바느질로 재구성되어 어느 사이 어른이 되어버린 지금도 위로와 치유의 작용을 한다  작품 속에 등장하는 사람이나 동물의 이미지들은 머리에 골무를 쓴 형상을 하고 있다  골무는 손가락을 바늘로부터 보호하는 역할을 하는 것이나  화면에 나타난 형상들의 머리에 씌워진 이 골무들은 일종의 마키스 마스크의 어원  중앙아프리카 와 같은 역할을 하고 있다  양반의 탈을 쓰면 양반이 되고 동물 가면을 쓰면 동물이 되듯 가면의 대상과 동일시 해주는 것과 같이 화면 속의 골무는 추억의 시간과 공간으로 데려가는 일종의 매개체의 기능을 하는 상징적 표현이다 김덕기의 작품은 가족의 사랑이라는 일관된 주제로 밝고 화려한 원색의 사용으로 인해 맑고 화면에 투명한 빛이 비치는 듯한 특유의 느낌을 전달한다  그는 한적한 마을의 정원이 딸린 주택에서 뜰에 핀 꽃에 물을 주고  눈사람을 만들고  아내와 아이들 혹은 아들과 함께 식사를 하는 동안 항상 사랑하고 감사하는 순간순간을 표현하고 있다  일상적인 이야기들을 즐겁고 가볍게 그리고 사랑스럽게 이야기 하고 있는 그의 작품 속 가족의 모습은 너무도 따뜻하고 밝아 현실에 공존하고 있는 것 같지 않은 착각을 불러일으킨다 동시에 관람객들로 하여금 그런 아련함으로 인해 지치고  상처받은 현실의 삶에 희망과 위안을 제공하고 있다  이번 전시에는 회화 작품과 함께 드로잉 위주의 작업이 주로 전시된다 사랑은 짜 잔하고 갑자기 찾아 온다  달달한 포도 주스를 마시다 옷에 흘려 보라색으로 물이 드는 것처럼 그렇게 살며시 갑자기 찾아와 잊혀지지 않고 가만히 머문다  그것이 사랑인지 모른 체 한발한발 그에게 또는 그녀에게 들어간다  그러고 보면 그가 나인지 내가 그인지 모르게 된다  사랑은 이별을 데리고 온다  사랑이 떠난 자리를 이별이 채우고 우리는 사랑은 지우고 이별을 보내려 몸 구석구석을 자르고 지운다  마침내 지워지지 않는 사랑과 떠나지 않는 이별은 다른 사랑으로 채워진다  진정한 나는 사랑을 하고 이별을 하고  다시 사랑을 하는 사이에 이 만큼 커진다  완벽한 사랑은 없다  그래서 완벽한 나는 없다  단지 사랑을 사람답게 하려 노력하며 나는 진정한 사람이 된다 박성수 작가노트 중에서  백곰이 어디에 있어야 가장 자연스러울까  그것은 아마도 눈과 얼음으로 둘러싸인 북극이어야 할 것이다  하지만 우리가 현실적으로 백곰을 볼 수 있는 것은 동물원이나 다큐멘터리 만화  TV 광고 등 에서일 뿐이다  곰들 중에는 동물원에서 나고 자라 한번도 북극에 가보지 못한 놈도 있을 것이다  그런 그들이 본능적으로 원하는 것은 백곰들의 서식지  그들의 조상들이 태어난 곳  북극의  차가움 일 것이다 아이스크림 먹는 백곰 에서 변대용은 그것이 무엇인지 정확하게는 알지 못하지만 백곰들의 그 차가움에 대한 막연한 그리움과 갈망을 달콤하면서도 차가운 아이스크림으로 비유해 보이고 있다  또한  뜨거운 아이스크림 에서는 차가운 것과 뜨거운 것이 공존하는  마치 동전의 양면처럼 삶과 죽음  사랑의 환희와 이별의 슬픔 등을 표현하여  뜨거움 과  차가움 백곰 과  아이스크림  이라는 서로 상반되는 이미지들의 결합으로 보는 이에게 색다른 즐거움을 제공한다 개가 한쪽 다리를 들고 소변을 보고 있는 유머러스한 작품으로 유명한 손현욱의 조각은 일상에서 우리가 쉽게 접할 수 있는 소재들을 대상으로 삼고 있다 번식의 기술  이라는 제목의 작품 속에는 작가 특유의 유머와 위트가 자연스레 녹아 있어 우리에게 친숙하고 편안한 느낌으로 다가 온다  이번 전시를 위해 특별히 제작된 렌티큘러 작품  숨겨진 사랑  에서는 악어 이빨의 날카롭게 드러난 부분과 하트모양을 하고 있는 숨겨진 치근 의 부분이 중첩되는 이미지로 손현욱 특유의 위트와 재치를 보여주는 동시에 그간의 작품과 동일한 맥락에서의 미니멀한 측면과 팝아트 적인 특성을 고루 보여주고 있다  작가는 지나치게 어렵게 느껴지는 현대의 미술 작품들에 대한 부정의 의미로 대중성에 집착하고 웃음을 자아내는 일상적이고 평이한 소재들을 통해 관객과 소통하고자 한다 나무로 여성의 다양한 희로애락을 캐릭터 강하게 조각하고 있는 송진화는 나무가 지니고 있는 재료적 특성과 작가만의 독특한 이미지들을 잘 조화 시킨다 나무가 지니고 있는 형태와 자신의 삶에서 기억되고 있는 다양한 경험들을 결합시켜 최종적으로 작품의 형상들을 결정한다  그렇게 결정된 형상들은 자연과 함께 생성된 나무결과 매치되면서 삶의 힘들고 즐거운 표정들을 드러낸다  작가가 기르고 있는 반려견 역시 그와 같은 방법으로 작품 속에 등장한다  송진화의 조각은 삶을 통해 느껴지는 그러한 내면의 심리적인 상황을 여성의 다양한 신체적인 동작으로서 풀어헤치고 있다  그의 인체 조각은 현대 미술에서 주된 논의가 되는 몸을  그것도 여성 신체의 표정을 주된 소재로 하여 다루고 있다  그의 인체 조각은 남성과 여성이라는 차별성을 벗어나 타고날 때부터 주어진 몸과 누군가에게 의지하지 않고 홀로서기를 하고자 하는 여성의 심리적인 상황을 다루고 있는 것이다 이서미의 작품은 작가 자신의 체험과 기억으로부터 출발한다  여러 작업 과정을 거치면서 작가의 감성을 담고 그리고 자기진술의 형식을 거쳐  관객에게 자신만의 언어로 말을 건넨다  작가의 작품은 삶과 사람  그리고 사랑이 어우러져 그 축을 형성한다  삶의 주체가 사람이고 또 사람들의 삶에서 필수불가결한 것이 사랑이라는  어찌 보면 통속적이고 상식적인 것이다  누구에게나 있을 법한  누구나 겪었을 법한  누구나 기억해낼 수 있을 법한 에피소드들이 작업의 출발선이다  그러나 그 일반성에서 일탈하는 감성과 사유가 구축한 각자의 형식과 목소리는 그리 일반적이지 않다  작품들이 대상이나 현상의 묘사나 재현이 아니라  삶과 기억과 마음의 작가적 진술의 층위에서 표현된 것이기 때문이다 사랑이란 언제나 삶의 중심에 있고 하트 는 그 사랑을 표현하는 특별하고도 의미 있는 그림이다  남녀노소를 불문하고 누군가에게 편지로 마음을 전하거나  혼자 낙서하듯 끄적이며 마음을 표현할 때 우리는 늘  하트 를 그린다  누구에게든 어디에 있든 어떤 사연이든 사랑을 보여주는 가장 대표적인 마음 매개체인 것이다  하지만 정작 하트를 그려보라고 하면 대부분 하나만 달랑 그려놓는다  그래서 그는 하트를 주제로 다양한 그림을 그리며 하트에 관한 고리타분한 관념들을 시원하게 타파하고  하트의 범위를 확장했다  하트가 갖고 있는 여러 감정들을 그림에 창의적으로 담아  아이디어 하트로 재 탄생시켰다  이번에 선보이는 작품들은 하트 이미지를 모은 영상작업과 렌티큘러 작업이다 아이디어 하트에 웃고 울며 공감하다 보면 어느새 마음이  내가 사랑하는  혹은  나를 사랑하는  사람에게로 가 닿는다  마음을 움직이는  Heart 는 사랑의 표현에 메마른 사람에게도 따뜻하고 달콤한 사랑 셔벗이 되어줄 것이다 작가 노트 중에서    수평선의 안정된 구도와 사색이 어우러진 색채의 향연 흔히 다원주의는 모든 양식과 형식이 공존하는 동시에 시대와 시간의 벽을 허무는 수평적인 구조의 선상에 놓여있다  김학대의 작품에서 보이는 양식은 인상주의적인 색채  객관성을 배제한 나만의 형태로 표현하는 추상미술  마티스적인 높은 채도의 강렬한 색채  최소한의 표현으로 세상의 다양함을 표현하는 미니멀리즘 등으로 패러다임에 부흥하는 다원주의적인 가치관을 그대로 드러낸다  현대를 살아가는 작가는 이처럼 시대에 순응하며 자신과의 이미지를 표출하게 되는데  예술가의 눈은 언제나 관객의 시선 밖에 존재하게 된다 바다는 육지에 사는 사람들에게 언제나 평온한 인상을 준다  작가가 찾은 제주도의 바다는 자신의 복잡한 일상을 벗을 수 있는 환경을 제공하였고  이에 시각적인 아름다움과 정서적인 안정을 동시에 관객에게 전달하고자 작가는 스스로 품었던 심상을 화면에 표출하여 관객에게 전달하려 하고 있다  이러한 과정에서 파생된 시각적인 아름다움은 작가의 내면을 통해 간소화되어 미니멀한 색채의 수평선으로 환원되어  캔버스에서 혼합되지 않은 채 눈과 관객의 의식 속에서 혼합되어 펼쳐진다  색채에 대한 의식의 혼합은 인간이 가진 수많은 감수성에 의해 서로 다른 입장에서 읽혀지게 된다  따라서 관객은 작가의 입장에서 바라 본 바다의 평온함을 캔버스를 통해 읽어내게 되며  그 안에서 발생하는 색채들의 향연에 대한 향기를 느끼게 되는 것이다 작가이기 전에 인간인 김학대는 자신이 간직한 추억을 감수성으로 관객에게 전달하고자 그림이라는 매체를 통해 전달하고 있다  역사적으로 그림은 수많은 매체에 의해 대체되어 왔지만  김학대에 있어서 그림은 삶이자 인생이자 추억이다  따라서 이번 전시에 선보이는 제주도의 바다와 하늘은 마치 작가 김학대의 일기장을 훔쳐보는 듯한 감수성과 서정적인 정서를 내포하고 있다   내가 기억하는 박동 정석우 우리가 살고 있는 현대라는 곳은 빠르게 바뀌어가는 커다란  흐름  속에 존재하고 있다 흐름 이란 그 실체와 형상이 모호하지만 분명 도시 안에 살아있는 커다란 에너지이다  실체도 정확하지 않은 커다란  흐름 이라는 것이 인공적인 에너지를 갖고 빠르게 현대문명을 바꿔감에 따라 그  흐름 속에 살아가는 현대인의 내면은 커다란 에너지와 상반되게 점점 고립되고 공허해지고 있다  도시를 살아가는 현대인의 내면에  흐름 이라는 방향성의 에너지가 가진 목적지를 찾아가는 과정을 정석우는 그의 작업에서 나태내고 있다  그가 생각하는 흐름  의 목적지가 어디인지 아직 그는 모른다  그것을 알아가는 과정  고민의 흔적을 작업 속에 담고 있다  현대인의 내면의 감정들을 시각화하는 풍경 작업을 통해 우리는 그간 보아왔던 시각적 풍경이 아닌 가슴속 풍경의 모습을 시각화해 볼 수 있다 정석우는 도시 속에 살아가는 현대인의 내면을 초현실적이고 극적인 분위기의 신화적 풍경으로 나타낸다  제단을 연상시키는 캔버스에 우주의 기원과 고대인의 사유나 표상이 반영된 신성한 이야기  즉 신화를 통하여 내면의 모습을 나타내는 작업에서 그는 강렬한 터치와 색의 대비를 통해 에너지의  흐름 을 나타내었다  대형 캔버스에 유화물감이 뒤섞여 휘몰아치는 거대한 흐름은 이성이 아닌 감성 깊숙한 곳으로 거침없이 들어온다  인간의 내면에서 말하고 있는 또는 소리치고는 있는 감정  뉘앙스  공상과 그것들의 원천인  꿈 들이 화면 안에서 소용돌이 치고 있는 듯 한 터치로 표현된다  소용돌이 같은 터치는 에너지를 휘감고 모호한 그  흐름 이라는 실체를 표현하고자 하는 작가의 내면 언어인 것이다  그는 뒤섞인 듯 또는 휘몰아친 듯 한 그만의 감성적 언어를 터치와 색채로 표현하였다 흐름 이라는 논리가 배제되고 이성이 개입되지 않은 초현실적인 존재를 그는 인간의 내면에서 작용하고 있는 감정들을 대상으로 시각화한 것이다 작가는 고립되고 공허해진 현대인의 마음속에서 흐름의 에너지  그리고 그것에 의해 휘몰아쳐지는 현대인의 내면을 본다  혼란스러운 내면 안에서 느껴지는 폭발력과 생명력을 작가의 시각적 언어로 표현한 그의 작업은 현대인인 관객들과 소통하고 싶은 작가의 에너지의 원천이 된다  그의 작업을 통해 내면의 울림에 귀기울여보자  나를 둘러싸고 있는  흐름  에 내안의 내면은 어떠한 울림을 울리고 있는지  어떠한 박동으로 숨 쉬고 있는지  휘둘리고 흡수되는  흐름 에 무기력해진 현대인에게 의미 있는 소통의 주제가 될 수 있을 것이다 작가노트 양구에 가는 길이다  차창 밖으로 보이는 울창한 산의 모습은 무언가 폭발하는 듯하다  멀리서  서서히 움직이는 장면에서 강한 생명력을 느끼며 오래된 기억을 떠올렸다 신화적 풍경 작업을 아우르는 큰 주제는  흐름  이다  흐름은 어딘가 향해가는 방향성의 에너지이다 흐름의 목적지점이 어디이다  또는 없다 인지는 아직 모르겠지만 그것을 알아가는 과정에 대한 고민과 공부의 흔적 자체가 작업이라고 생각한다 에너지의  흐름 은 강렬한 터치와 색의 대비를 통해 그림의 밑바탕을 이루며 빠르게 돌아가는 현대사회를 투영한다  빠르고 거친 물감의 발림은 에너지의 원천이 되기도 하는 사람들의  꿈 들의 집합이다  이러한 흐름이 화면에 모여 도시의 건축물처럼 거대한 구조물이나 공간을 이루고 또는 사라지기도 한다  많은 사람들이 도시에 살고 있다  내가 살고 있는 곳 역시 도시이다  도시의 풍경은 개발과 발전에 의해 빠르게 바뀌어 간다  편리와 효율의 극대화로 이루어진 인위적 공간인 도시 안에서 사람들은 빨라진 현대문명에 자신도 잊은 채 자아는 고립되고 내면은 공허해 지고 있다  나의 작업은 창밖의 빌딩과 가로수의 풍경이 아닌 현대인의 내면을 시각화하는 풍경이라고 할 수 있다 최근에는 사소한 일상에서 겪는 사건의 감정  뉘앙스  미묘함을 거대화 시켜 초현실적이고 극적인 분위기의 신화적 풍경으로 재조합 하는 작업을 진행하고 있다  작업의 내 외적으로 끊임없는 의미부여의 반복을 통해 화면을 구성해간다   나에게 그림이란 무엇일까 미술대학 동양화가 졸업하고 직장  육아 등 바쁜 일상에서 벗어나 다시 작업을 시작 할 때는 수채화와 유화로 입문 하였다  풍경 인물  정물 등 다양한 장르로 작업하다가 언젠가부터 진흙에 도도히 핀 연꽃에 빠져 연꽃만 그려 처음 개인전을 열고 이후  연꽃을 모티브로 그리움  자연의 아름다움에 대한 경외심 감동들을 연작으로 그린다  또한 늦은 가을 노을이 서글프기 보다는 아름다움으로 표현하여 인생 후반기의 또 다른 희망을 제시하는 듯한 정신적인 성숙으로 표현함과 함께 인생의 굴곡을 사유하듯 표현 하고자 한다 그림을 그릴 때는 역동적이고 자유자재로 구사하여 화폭에 표현하면 아슬아슬 하면서도 형언 할 수 없는 카타르시스를 경험하게 된다 그림이란 과거도 아니고  알 수 없는 미래도 아니고  현재의 삶이다  나의 모든 감각은 내 몸 안에서 일어나는 기억이며 치밀한 인생을 지극히 주관적으로 재구성해 가는 일이다  내는 그리는 대상이 무엇인지 보다는  대상을 감각에 따라 구성하고  그려 나가는 행위에 더욱 의미를 둔다  치졸한 감상으로 작업을 한다 해도 그것도 지금의 나를 표현 할 수 있는 불가항력이다  있는 그대로 나를 드러낸다는 것은 섬뜩할 만큼 긴장 된다  봄이면 피어나는 꽃의 온기가 있는지 쌓인 눈을 녹이며 얼굴을 내미는 꽃들  죽은 듯 고요한 나무 가지에서 각색의 꽃망울이 터지고  거친 껍질을 뚫고 새잎이 솟아나고  빛나는 뜻 짙푸른 초록들은 쌀쌀한 바람을 타고 푸름으로 가득 차 있던 산하가 오색 찬연한 빛으로 갈아입고 결실을 맺어 다 내어주고 동면하여 또 새로운 봄을 품고 있는 삼라만상 모든 것들은 기적이고 축복이고 영광이다 자연에서 나고  자연 속에 살고  죽어 자연으로 돌아가는 삶의 여정을 보다 구체적인 형태로 그리기 위해 하얀 캔버스 위에 수많은 번뇌망상으로 일어나는 생각들을 자유롭게 색과 단순한 모양으로 던지듯 그리고 그 위에 영감에 의해 일어나는 색을 입히다 보면 내면의 심상이 구체적인 색이나 형태로 표현 되어진다  그것은 나만의 생생한 환희의 경험이고 그러한 활기로움으로 또 다른 영감이 연속적으로 이어지며 새로운 희망과 신념이 생기기도 한다  그리고 초월적인 이상향에 대한 동경으로 귀결 한다  자신의 정체성에 대한 질문을 스스로 해 본다 살아있음이 온몸으로 펄떡거린다  반짝이는 빛  마음속 내밀히 깃든 불성과 생명력을 온전하게 표현할 수 있길 소원 한다  진흙뻘에 물 안 드는 파란 연꽃을 쳐다보고 만져보고 그려보다가 연꽃과 하나 되어 무심해져서 진여 자성 참 나를 알게 된다  연꽃에서 순환하는 우주에 무한한 사랑의 에너지  그 감동을 그림으로 표현하고 싶다  푸른 하늘  초록색의 산봉우리  물  오방색 만다라  구름 매화꽃잎 사이 달빛  솟대  사람  새  물고기 등 자연의 모든 것이 그림의 소재이다  이 모두는 기적이고 따뜻함이고 행복이다 소소한 일상을 느끼고 고마워하며 날마다 좋은날 만드는 사람에게 행복이 깃든다고 한다  나도 모르는 사이 타인들의 요구하는 생각과 규격에 길들여지고  선입관을 통해서 보여 지는 요지부동으로 무미건조한 일상의 반복을 벗어 날 수 있는 출구는 그림이고 수행이다 나는 그림으로 메마르고 삭막한 현실세계  생 성적 구조  관습에 길들여지기 이전의 자연의 세계에 대한 질문이며  동시에 감각과 정신  물질과 영혼이 분리되기 이전에 순진무구한 세계의 에너지를 응축된 이미지를 통해 관객과 소통하고 싶다  작업의 시작은 하얀 화면에 번뇌망상으로 생기는 세계를 무심하게 그려 넣어 그 위에 과감한 원색이나 중간색으로 마티에르로 계절의 변화가 찾아오듯 희노애락을 조심스럽게 표현해 배경을 만든다  회화적인 평면성을 확산하면서 보다 간결화 된 형태와 선 작업으로 여백의 미를 충분히 살려 자연을 닮은 사람의 마음을 은유적으로 표현 하여 오래 접해도 물리지 않는 담담하고도 편안한 느낌의 그림을 그리고 싶다  아름다움이란 적절한 긴장을 요구 한다  그러나 긴장이 필요 없는 편안함 가운데 미적 쾌감을 주는 그런 그림 그리고 싶다  작품 발표 할 때마다 그림에 대한 깊은 이해 없이 표피적인 흉내를 내고 있지는 않는지  누구를 위한 그림그리기 인가  무엇을 위한 그림그리기 인가  대한 근본적이고 지속적인 질문을 계속해 어떤 소재이든 어떤 주제이든 표현되어지는 것들을 통하여 관객들과 소통할 수 있길 염원한다 작업을 하면서 수 없이 일어나는 번뇌 망상들도 시간이 흐르면서 조금씩 고요해 진다  순간 알아차림 하여 미세해져 작은 것들에게도 섬세한 눈길 주는 사람으로 조용히 뿌리내려 온전하게 살아 심장 박동 같은 그런 작업으로 향상 할 수 있도록 온전한 사람으로 작업에 충실 해야겠다   목단행성 황세준 년 첫 번째 개인전 이후 여덟 차례의 개인전과 다수의 기획전에 참여한 바 있는 작가는 년대에는 민주화 투쟁 속의 사람들을 그렸다  그러나 작가의 방식은 어떤 외적인 목적을 위하여 소용하는 것이라기보다는  오히려 그림 속으로 현실을 끌어들여와 관조 가능한 거리를 확보해 내는 것이라고 할 수 있다  황세준 작가에게 그림은 삶을 조금 덜어내는 작업이자 동시대를 살아가기에 알맞은 자세  일종의 윤리의식이다 년대에 잠시 그림 밖에 있었던 작가가  대안공간 풀의 기획과 글을 통한 비평 작업 등 년대에 다시 돌아와 치뤘던 개인전에서는 충분히 쓸쓸하고 사실적인 방식의 작업들을 선보였다  섣부른 희망이나 절망 없이 담담하게 그려내기 아름다우며 동시에 눅눅한 삶의 비참함을 견뎌내는 작업들 이었다 이번 전시  목단행성 에서의 목단  즉 모란은 부귀와 명예  부귀와 영화의 상징인 꽃이다  그러니까 문자 그대로 자본주의의  꽃 이다  지금의 한국은 물질적인 면에서 보면 불안할 정도로 빠르게 성장을 이뤄냈지만  매사에  더 잘 먹고 잘 살아보자 는 강박을 가지고 있다  목단행성은 이런 강박에 대한 우화이다  결국은 나와 우리가 사는 세상이기에 감추려 하지 말고 있는 그대로의 누추함을 보며 어떻게 더 애정을 갖고 살아갈 수 있을지 질문해본다  또한 왜곡되고 비틀어진 삶의 모습을 그려내는 행위 자체로 삶에 대한 애정을 보여준다  아름다움은 어디에나 존재한다  이것을 되풀이하며 실재를 만들어내는 마음의 기술이다  이것이 예술의 주술성이며  그것을 믿는 예술가의 역할이다   이어짐에 의한 세계 나의 작업은 삶의 에너지에 대한 관심으로부터 비롯된다  나에게 에너지는 무수한 선들의 움직임으로 인식되며 나는 그러한 선들을 풀어내는 작업을 한다  삶의 에너지는 그 무엇들과의 이어짐으로부터 비롯되며  그것이 무엇이 됐든 어떤 존재의 삶이란 세상 그 무엇과 관계를 통해 삶이 될 수 있다  이것과 저것 혹은 저것과 그것들이 만나  그 무엇들과의 이어짐을 통해 생성될 수 있는 사이와 경계에서 탄생 가능한 것에 관한 작업이다  사이와 경계에서 생성되는 것들이기에 일상에서 익숙한 이미지들이 아닌 혼재된 형상들이거나 추상적 이미지로써 조우하게 된다  존재하지만 육안으로 확인할 수 없는 모호하고 불분명한 것들을 시각으로 경험할 수 있도록 하는 작업이기에 나의 감수성과 생태학적 상상력에 의해 극대화되어 표현된다 유기적 관계망에서의 인간의 심리와 정체성에 대한 작업들을 해왔는데  최근에는 직접 손으로 실을 풀어내고 연결하는 작업을 통해  육화된 삶에 대하여 포착해내는 작업을 계속 진행 중에 있다  실타래에 감겨진 실은 삶의 여러 이어짐 속에서 살아가는 존재들로 관계의 잠재성을 의미한다  실타래에서 실을 풀고 풀어진 실들은 이리 저리 뒤엉켜 서로 얽히기도 하고 엮기도 하는 등  다양한 색의 실을 연결하는 방법에 따라 모든 표현이 가능해진다  풀어진 실들을 수성접착제로 고정시킨 실덩어리들은 인간과 동물  식물들의 여러 존재의 가능성에 깊히 관계하며 자유로운 형상들로 탄생하게 된다 나는 그렇게 낱낱히 흩어져있는 개체들을 연결하여 세계와 맞닿는 세계를 생성해나가고자 한다  그 세계는 다양하고 복잡한 형상들의 개체들이 상호관계 속에서 어떠한 이야기를 만들어 낼 수 있을지 모색함이며  심신을 편안하게 가다듬듯 실을 푸는 반복된 행위 끝에 펼쳐진 실천들을 공간에 펼쳐내는 행위의 흔적 속에서 개체들이 어우러져 만들어내는 공동체의 세계를 창조하게 된다  그것은 어떻게 개인이 그리고 우리가 세계를 창조한 수 있을 것인지에 대한 탐색이며  세계에서 자신을 경험하고 의미를 찾기를 바라는 장이다 My artwork starts from an interest in the energy of life  To me  the energy is recognized as a movement of limitless lines and my work is to untie the lines  The energy of life is created by a connection with something  Whatever that is  a life of someone or something can have a real meaning of life only though a relationship with something  My work is about things that can be created between things or on the boundary which things meet and connect to each other  Since they are created between things or on the boundary they take shapes that are mixed or abstract rather than normal and familiar Since this work is to visualize vague  blurred and unclear things that clearly exist but cannot be seen  my sensitivity and ecological imagination are maximized to express such things I have been working on the human psychology and identity in the systematic network  Recently  through works where I manually untie and connect threads I have been constantly doing works that capture the corporeal life  The threads that are wound in the skein symbolize existences in many connections of life  meaning the potential for relationships  By untying and tangling threads that are various in terms of colors and methods of connection every form of expression is available  The thread lump which is made through fixing untied threads with water based glue take form of anything  deeply relating to the possibility where human  animals and plants exist I would like to generate a world that meets another world by connecting individual things that are scattered  In the world  i seek to create a story in the interrelations among the various and complicated units  Through the repeated thread untying movement that would comfort our mind and body a community which is made of various units is created  It is an exploration of how an individual and we can create a world and how to find a medium through which we can experience our own ego and find the meaning of relationship in the world  의  다른 이야기 전북도립미술관 서울관에서는  휘목미술관 레지던시 기획전 을 개최한다  이번 전시는 부안 휘목미술관에서 진행하고 있는 전라북도 지원 레지던시 사업을 마무리하면서  입주작가  인이 레지던시 기간 중 작업했던 작품들을 선보이는 자리이다 대부터 대까지의 작가  인이  개월여를 동고동락하면서 심혈을 기울여 작업한 작품들이다 김강현 작가는 개인전 회  다수의 기획 초대전에 참여하였다  미술세계 대상과 특선 외 입선  회  안동대학교 서양화 강사로 활동하였다  작가는 봄과 여름  가을과 겨울이 지나는 시간의 공간 속에 운호 구름과 호수가 있는 마을 라는 곳에서 바라보고 느낀 것을 작품으로 옮긴다 조금은 차갑지만 다가오는 신선한 바람과 대지의 평온함  둥그렇고 자유로운 형태의 자연  하늘의 푸름  그 아래 긴 그늘과 섬의 이미지를 준 큰 나무와 동식물들이 작가 작품의 주된 소재이다  이 모든 것을 지키며 자연 그대로의 본질적 향기를 지키는 숲의 정령이 어딘가에 있을 것이라고 믿는 작가는 정령의 모습을 작업으로 표현하는 것이다  살아있는 것 지구 안에 존재하는 모든 것은 모두가 시간의 흐름을 통해 생명의 푸름은 자라나고  성숙해지며 그 안에서 꽃 피우고 다시 시들며 긴 과정을 거치게 된다  그리고 그 과정 속에 우리는 자아에 내재되어 있는 즐거움과 흥에 겨운 모습 그리고 본질적인 삶의 가치에 대해 생각해 볼 수 있을 것이다 김충호 작가는 홍익대학교 서양화과를 졸업하고  개인전  회  다수의 기획 초대전에 참여하였다  현재는 미협회원  광주 전남수채화협회 회원이다 김충호 작가의 회화는 은유적 시와도 같다  자연의 강인한 생명력에 따뜻함과 아름다움으로 반응한다  일상에서 자연스럽게 볼 수 있는 꽃잎과 따스한 햇살 그리고 포근한 바람  나무  잎사귀 하나하나를 귀하게 여기며 작품으로 다시 만들어 낸다  작품 안에서 그것들은 또 다른 생명을 부여 받고 한편의 잔잔한 시로 다시 태어난다  작가는 보는 이들로 하여금 잃어버린 것들에 대한 소중함을 다시 한 번 일깨워주고  추억을 되새기게 할 것이다 양미랑 작가는 홍익대학교 서양화과를 졸업하고  다수의 기획 초대전에 참여하였다  작가는 먹고 먹힌다는 의미에 대해 이야기 한다  일반적으로는 입을 통해 음식을 섭취한다는 의미와 누군가를 종속시키고 종속당하는 속박의 의미로 해석할 수 있다  즉 권력구조에 대해서 말하는 것이다 작가는 자기만의 우월한 종족을 만든다  그것은 인간보다 모든 것이 우월하며  어디서 어떻게 탄생했는지 알 수 없다  하지만 같은 공간에 존재하며 끊임없이 그들을 사랑하고 경계하고 증오한다  이러한 비현실적인 존재를 만들어 작품으로 표현하는 작가는 공포와 권력 그 자체에 대해 말하려는 것이다  이것은 평탄하지 않는 인생을 살아가는 인간들의 하염없이 가련한 생존기를 표현한 것이다 진정권 작가는 원광대학교 미술대학 서양화과를 졸업하였다 번의 개인전을 개최하였고 다수의 기획 초대전에 참여하였다  작가는 우리 삶에 있어 주어진 시간의 흐름에 대해 이야기한다  젊은 작가로서 내일을 꿈꾸며 오늘이라는 하루를 보내면서 느끼는 복잡함과 청춘의 방황을 작업으로 표현한다 작품의 제목들이 말해주듯 화가의 인생을 살아가는 작가의 의지를 되새겨주고 의지를 보여주는 글들로 제목을 붙인다  작가의 나무들은 모진 세월을 이겨낸 생명과 같은 진정한 아름다움의 가치로 설명되며 그것이 결국 삶이라는 것을 보여준다   벤타 CAC 아트 콜레보레이션 프로젝트 with 남경민 독일의 세계 최초 에어워셔이자 유럽 지역  위 에어워셔 브랜드인 벤타에어워셔 Venta Airwasher  국내 공식 수입사인 벤타코리아 www venta co kr  김대현 대표 가 지난해에 이어 두 번째  벤타 아트 콜레보레이션 박스  프로젝트를 진행한다고 밝혔다 본 프로젝트는 벤타코리아가 최근 년만에 출시한 신모델 벤타에어워셔  시리즈의 출시를 기념해 마련한 것으로  화가의 방 을 주제로 한 남경민 작가의 회화 작품을 벤타에어워셔 제품 배송 박스 디자인에 적용시켜 단순 제품 박스를 넘어 하나의 예술 작품에 가깝다  박스 면마다 각기 다른 작품이 적용되어 있어 박스 면을 잘라 액자에 걸면 미술 작품으로 변신해 인테리어 소품으로 활용하기에도 좋다 벤타 아트 박스는 벤타CAC Create AirComfort  패키지 상품을 구매한 고객에게 배송 박스로 제공된다  벤타CAC는 강력한 실내 공기 순환 성능으로 최근 절전형 가전으로 주목 받고 있는 보네이도 공기순환기를 벤타에어워셔  시리즈와 함께 제공하는 기획 상품으로 에어워셔로 쾌적해진 실내 공기와 가습을 실내 전체로 골고루 순환시켜 주는 실내 공기 정화 토털 솔루션이다 벤타코리아의 김대현 대표는  지난해 신진 작가와 협업한 첫 번째 벤타 아트 박스가 소비자들로부터 큰 호응을 받아 남경민 작가와 두 번째 협업을 진행하게 됐다 면서  벤타코리아는 앞으로도 신진 작가를 발굴하는 한편  문화 예술을 제품과 기업 활동에 접목시켜 고객에게 한층 차별화된 가치를 지속 전달해가겠다  고 밝혔다 벤타코리아는 년 토털아티스트로 유명한 임옥상 작가와 벤타에어워셔 폐자재를 활용해 흑룡을 형상화한  벤타에코미르 Venta Ecomir  를 비롯 년에는 서울시립미술관에서 에어워셔 폐자재에 나팔꽃을 심은 친환경 설치 미술 프로젝트를 성공적으로 진행한 바 있다   우디 목가구 대구를 중심으로 전국적으로 활발한 활동을 하고 있는 목공예가 이성계가 운영하는 목공방  Woody 우디  의 회원들이 다년간 노력한 결실들을 선보이는 전시를 갖는다  전통적인 기법에서부터 현대적 조형성이 강조된 작품까지 다양한 작품들을 선보이는 이번 작품전이 대백프라자갤러리 B관에서 마련된다 이번 전시는 나무가 좋아 하나둘  모이기 시작한 회원들이 목공방 교실에서 서로를 신뢰하며  작업을 통해 좋은 인연을 만들기 위해 회원 상호간에 작품을 통한 소통을 목적으로 마련되는 전시이다 우디 의 회원들은 일선의 학교 선생님들이 주를 이루고 있으며  정년퇴임을 하신 선생님 주부  연구사 등 다양한 직업을 가진 이들로 구성되어있다  회원들 대부분은 구미  안동  경주  포항 등 대구 인근에서 거주하며 일주일에 한번씩 대구작업실에 모여 작업을 하는데  회원들 모두가 단 한번도 빠지지 않고 참석하며 열정적으로 작업을 하고 있다 이제는 일주일에 작업실에 모이는 시간이 기다려 질 정도로 회원들 간의 우정으로 서로를 가슴에 담고 갈 따뜻한 인연으로 느낀다는 회원들은 목공예를 통해 서로 용기를 주며  위로를 받으며 함께 하고 있다 우디 회원들은 이번 전시의 기획에서부터  자재선택  작업의 기법  마무리의 색상처리 부분까지의 일관성 있는 제작을 통해 목공예 전통의 기법과 회원들 각자의 감성의 연계성을 오늘날의 시대적 감각에 맞추어 재구성하여 생활공간 속에서의 가구공예 작품을 선보인다 작품들은 전통 짜임 기법을 사용하되 현대적인 디자인을 이용하여 모던하면서도 심플한 느낌의 가구들이다  작품의 소재는 대부분 하드우드 제재목이 사용됐고 제작기간은 약  년여 기간이 소요됐으며 주제는 회원들 저마다의 개성을 드러낼 수 있는 자유주제로 선정돼 전통가구에서부터 현대적 디자인의 가구  목조각까지 다양한 스타일의 작품들이 선보일 계획이다  고가구에서 볼 수 있는 전통기법을 사용해 현대생활 속에서 실용적인 기능과 예술적 조형성을 강조하여 전통의 재해석으로 대변할 수 있는 이러한 작품들은 옛 선조들의 목가구 조형성을 계승하고자 하는 노력들로 엿 보인다 다년간 가다듬은 목공예 실력들을 유감없이 발휘하여 기하학적 문양의 작품들에서부터 전통에 근거한 작품들까지 다양한 작품을 선보이는 이번 전시는 이성계를 비롯해 여명의 회원이 참가하며 여점의 목공예 작품들을 선보일 예정이다  복사세요 사람마다 소원은 다를지언정 소원의 가치는 값으로 따질 수 없기에 먼저 이루어 지는 소원이 정해져 있을 리 없다  바람하고 원하는 마음은 똑같다 신년 이라는 새로운 무대 앞에 다시금 정화 되길 희망하며 새로움에 대한 기대는 기적을 만들어 낸다 선조들은 복을 빌고 소원을 담은 그림들을 방에 두었다  그림 자체에 복을 주고 소원이 이루어지는  신 적인 기운이 있었기 때문에 걸어 놓았을까  그렇다기 보다 자신이 빌고 있는 소원을 가까이서 보고 다짐해 나가기 때문에 한 발짝 다가갈 수 있고 결국 이루어졌을 것이다 되고자 하는 모습 또는  기원하는 일 에 공들이게 되는 시작점을 제시해 준다 김성복의 힘든 일상을 경쾌한 익살로 표현한  금나와라 뚝딱 신화  시리즈  영원한 행복의 복수초로 빛을 밝히는 안진의  임영숙의 생명이자 정화의 상징 흰밥 그 속에서 피어나는 아름다운 생명체 꽃  이지숙의 흙으로 재구성한 기원을 담은 민화  비움과 채움으로 복을 담는 오관진  환하게 웃는  복  전도사 비통맨의 한상윤  작가들의 부귀  영화를 기원하는 마음을 담은 작품들을 한자리에서 볼 수 있다 복을 기원하는 세기의 민화는 생활밀착형이다 개개인이 만들어 가는 것이다  개인의 소원을 담은 그림으로 인해 더 큰 복이 전해졌으면 하는 바람이다  새해를 맞이하여  소원이 이뤄지길 바라는 마음 의 기적을 모으는 전시이다  기적의 시작은 행하는 것  가까이 자신의 바람을 보며 이루어 나가길 권하고 싶다  복은 운 좋은 현상과 그로 인해 얻어지는 기쁨 과 즐거움이라 한다  이것은 소원을 기원해 나가는 과정도 복 이라는 뜻이다  복사세요  의 시작부터가 큰 행운이며 그 행복의 시작을 함께 누리기 바란다 김성복 작가는 삶을 조각한다  금강역사와 아톰의 형상을 바탕으로 하고 단단한 물질을 사용하여 강인한 인간상을 창안한다  하지만 이 인간상은 완벽하지 못한 초인으로 인간의 모습을 빗대어 표현했다  완벽하지 못한 부분을 소망과 염원으로 채우면서 고된 현실을 경쾌한 익살로 넘어서서 살아남고자 하는 삶의 소원을 담은 조각작품을 선보인다 안진의 작가는 인류의 빛이라 생각했던 현대문명이 암담한 그림자를 만들어내고 그것에 괴로워하는 현대문명에 대해 이야기한다  문명의 일부이자  빛을 밝히는 매개로써 전구는 소통한다  꽃을 통해 마음 속 빛을 밝히며 소통하는 작가의 작업과 일치한다  작가로 인해 꽃으로 피어난 전구는 마음의 불을 밝히며 어두운 문명의 이면을 감싸는 동시에 꽃으로 채워진 새로운 문명에 대한 꿈을 나타낸다 영원한 행복이란 꽃말을 갖는 복수초는 꿈에 대한 안녕을 빌어주는 염원의 뜻도 담겨 있다 비움과 채움으로 복을 담다  오관진 작가는 도자기가 뿜어내는 생명력에 집중한다  고온을 견디어 탄생된 생명력과 자체에 담긴 아름다움을 시각적으로 보여준다  물질적으로 완벽한 흙에서 형태를 빚어내고 굽는 과정을 통해 자신을 버리는  비움의 과정 을 겪고 생명력과 미 를 가득 채운 매력적인 소재가 된다  그리고 매화와 체리를 통해 초현실 세계를 만들어 새로운 회화 영역을 확장하고 있다 작가는 정성과 복이 그림에 깃들기 바라며 작업하고 담담히 채워지지 않은 도자에 자신의 염원을 마음속으로 그려 넣어 가득 채운 그림이 된다  비움으로 더 큰 것이 채워지는 마음을 느끼게 해준다 임영숙 작가는 밥 속에서 피어나는 꽃들을 그린다  따뜻한 밥 한 그릇은 생명을 생명답게 영위하게 해주는 생명자체이다  한번의 끼니 속에 생에 대한 고민과  다음 생으로의 희망 이 있는 뜨거운 통로이다  작가는 그림을 보는 이들에게 복을 주는  희망을 보듬고자 한다  밥 속의 아름다운 생명체인 꽃은 희망  생명  기원과 복의 의미이다  태초의 열망인  생 이 모여 아름다운 꽃으로 피어나고 그 밥으로 인해 살아나기를 기원하듯이 말이다  생의 정원 이라고 부르고 싶다 이지숙 작가는 민화의 조형적 특성과 민중에 기원을 담는 특징에 주목한다  그것을 순 물질인  흙 이라는 재료를 가지고 재구조화하여 사물의 본질을 더욱 확고하게 만든다 전통 책가도 에서는 책이 가진 선비의 학문적 역량에 대해 이야기한다  그것은 곧 인품의 잣대이다  이지숙의  현대의 책가도 는 작가가 경험한 책  그야말로 일상의 궤적이다  삶을 대변하는 민화처럼 가지고 싶은 사물을 통해 이야기를 불어 넣는다  이 것이 곧 소망이고 원하는 길을 가고자 하는 자신만의 새로운 이야기를 만들어내길 바라는 작가의 마음일 것이다 환하게 웃는  복  전도사 비통맨의 한상윤작가는 행복해지는 그림을 그린다 한국적인 팝아트 를 지향하며 동양적인 기법으로 우리 정서에 맞는 세태를 풍자한다  돼지는 예로부터 신성시되어 소와 함께 최고의 제수 이며  많은 풀이가 있을 만큼 인간과 가까운 가축이다  그리고 한국과 중국에서는 복의 상징이다  이런 풍요와 복의 상징인 돼지와 명품 지향 사회에 세태를 풍자를 접목하여 비통맨 이라는 캐릭터를 개발한다  신나는 그만의 발상이 삶의 엔도르핀이 되는 작품이다   Gapage Project space  Gallery GOLMOK 은 젊은 작가들의 새로운 가능성과 창조적 활동을 돕고자 년 갤러리골목 기획공모 상반기를 걸쳐 하반기 기획공모 작가들을 선정하였다  다양한 장르에서 엄선된 심사를 거쳐 선정된 인전은 문종선 작가가 기획하여 모인 김대환  문종선  애나한  명의 작가가  Gapage 라는 타이틀로 전시를 진행할 예정이다 서른이라는 나이는 많지도 적지도 않은 나이다  젊음의 패기와 노련한 연륜의 가운데쯤에 위치해 있는 나이대의 젊은 작가  인이 모여 이태원에 위치한 갤러리 골목에서 전시를 연다 이번 전시의 특색은 아무런 접점도 없던 세 명의 작가들이 일반적 경우인 공모나 기성 기획자의 선택을 통해서가 아니라 자발적으로 하나의 목소리를 내고 싶다는 한 작가의 욕심으로 모였다는 것이다  참여 작가의 선정은 작가로도 참여하는 기획자 문종선이 같이 전시를 진행하였거나 다른 전시를 관람하면서 알게 된 작품의 작가들을 섭외함으로 이루어졌다  미 확정 상태의 전시 공간과 불확실한 전시기획뿐이었지만 기획자의 비전에 기꺼이 참여를 수락한 작가들 덕에 전시기획이 완성될 수 있었고  기획 안이 갤러리 골목 작가 공모에 선정되어 이번 전시가 실현될 수 있었다 전시의 타이틀인  Gapage  는  차이  틈  간극 을 나타내는  gap 과 어떤  상태  시기  행동 등을 의미하는 age  를 합성하여 임의로 만들어진 단어이다  이는 실재와 현상의 간극을 탐구하는 예술가의 행위가 무가치하게 받아들여지는 사회적 인식을 비꼬고자 만들어진 단어이다 미술계에서 젊은 세대에 속하는 참여작가들이 보는 현실과 관념에 대한 부조리  혹은 실재와 현상 사이의 간극을 관람객으로 하여금 직접 체험할 수 있는 공간을 지향하는 이번 전시는 중견 작가들만큼 원숙하지는 않아도 젊은 신진의 참신한 시각을 엿볼 수 있는 전시이다  또 참여작가  인 모두 전통적인 회화를 벗어나 설치 작업을 진행하고 있다는 것도 다른 전시와는 차별화 된 점이다 참여 작가들의 면면을 살펴보면  김대환은 사회의 거대 담론이 형성한 이미지가 가지는 상징성을 해체하는 방법으로 이미지가 가지는 정형화된 메시지를 거부한다  문종선은 소통이라는 시대적 화두를 철저히 개인적 문제에 국한하여  스스로의 경험으로부터 이끌어낸 해답을 타인과 공유하고자 한다  애나 한의 작업은 우리가 위치하고 있는 공간이 인식의 문제에 따라 얼마나 달라질 수 있는 것인지를 보여준다 이들이 하고자 하는 말은 우리가 당연하게 받아들이던 현상으로부터 벗어나 보라는 것이다 당연한 것 으레 그러한 것 이 그렇지 않은 것임을 알게 될 때 삶이 조금은 더 자유로워 질 수 있다고 말하는 젊은 작가들의 진심을 이번 전시에서 만나볼 수 있다   Walk into the Space 커다란 캔버스가 시야를 가린다  무슨 그림일까 바라본다  딱딱한 도형들을 가만히 들여다보고 있노라면 따뜻한 색채들이 흘러나와 주변을 포근히 둘러싼다  거대한 장막 같던 화면에는 깊이감이 생겨나고 나는 어느새 그림 속으로 더 깊이 빠져든다 고요 속의 공간 Space in Silence 시리즈는 리주가 암스테르담을 출발해 베를린으로 향하는 기차 안에서 받은 영감으로부터 시작되었다  관심을 가지고 그려왔던 커다란 창밖으로 이어지는 지평선  그러나 기차 복도 가운데에 서서 바라본 그 지평선은 더 이상 수평의 선이 아니었다  원근법을 몸으로 느끼는 순간  단단한 사각형은 비스듬한 두 변을 가진 사다리꼴이 되었다 말레비치Malevich와 몬드리안Mondrian을 사랑한 작가는 그 유명한  검은 사각형Black Square 에 도전하기로 결심했다 결코 깨지지 않을 것만 같은 견고한 추상을 어떻게든 넘어서고 싶었다 년 동안 고민한 끝에 사각형의 모서리 두 군데를 조금 잘라냈다  작은 두 개의 사각형이 떨어져나가자 두 개의 까만 사각형이 겹쳐져 나타났다  그렇게 잘라낸 사각형을 둘  셋으로 그렸다 도 는 하나를 낳고 하나는 둘을  둘은 셋을  셋은 만물을 낳는다 는 도덕경 의 구절을 형상화한 것이었다 네덜란드 유학시절 리주는 나고 자라온 지역의 문화가 작가의 예술적 자양분이 됨을 깨달았다  그렇다면 나는 지금 어디에 서 있는가 그는 현대미술이라는 이름 아래 새로운 것을 찾느라 스스로의 문화적 뿌리에 관해서는 소홀했던 자신의 모습을 보았다  학업을 마치고 중국으로 돌아와 고전을 탐구하기 시작했다  중국미술사는 물론  중국의 철학과 사상  문학 작품들을 찾아 공부했다 그 가운데서도 주역 과 도덕경은 작가에게 큰 영향을 미쳤다  이러한 고전은 언제나  색 color  을 좋아하고 알고 싶어했던 그에게 색의 기원 뿐 아니라 세상 모든 것이 유 에서 생겨나고 유는 무 에서 생겨남을 알려주었다  리주는 주역에 나타나는 팔괘를 그림에 담아내고 전통적인 오방색을 작품에 도입하면서 세계의 기원과 그 존재방식을 탐구하기 시작했다  장자 의 호접지몽 또한 그에게 큰 영향을 미쳤다 장자가 어느 날 꿈을 꾸었다  나비가 되어 꽃들 사이를 즐겁게 날아다녔다  그러다가 문득 깨어 보니  자기는 분명 장주가 되어 있었다  이는 대체 장주인 자기가 꿈속에서 나비가 된 것인지  아니면 나비가 꿈에 장주가 된 것인지를 구분할 수 없었다  장주와 나비는 분명 별개의 것이건만 그 구별이 애매함은 무엇 때문일까  꿈이 현실인지 현실이 꿈인지  도대체 그 사이에 어떤 구별이 있는 것인가 작가는 이로부터 모든 존재가 상대적인 것임을  보이는 것은 만물의 변화에 불과한 것임에 착안하여 고요 속의 공간을 구축해나갔다  그는 주역의 팔괘 가 이어진 선 과 끊어진 선 의 배열로 세상의 이치를 설명하듯 사다리꼴을 이용한다  두 개의 사다리꼴은 나란히 혹은 엇갈려 놓이거나  겹쳐지기도 하며 여러 가지 조합을 통해 공간을 만들어낸다 평면적인 리주의 작품들은 미국 추상표현주의의 색면 회화처럼 보이기도 한다  그러나 이들 작품의 내용은 오히려 수백년의 시간을 거슬러 올라 북송대 곽희 의 삼원법 에 닿아있다  곽희는 산수화를 그릴 때 이용하는 일종의 투시법을 이론화했다  산 아래에서 산꼭대기를 올려다보는 고원 산 앞에서 산 뒤를 굽어서 넘겨다보는 심원 가까운 산에서 먼 산을 바라보는 평원 을 논했는데  이들 세 시점은 분리된 것이 아니다  이것은 마치 건축에서 창문을 통해 바깥 풍경을 빌려오는  차경 처럼 자유롭게 움직이는 시점이다  인간과 산수가 만나는 과정 속에서의 움직임인 것이다 세기 르네상스 시대에 확립된 서양의 원근법은 바라보는 위치를 고정시켰으며  보는 주체인 인간과 보여지는 대상을 이분화 시켰다  반면  곽희의 삼원법에서 인간은 자연을 거니는 체험을 통해 대자연의 일부가 된다  우리가 사는 세계와 분리된 평면적 화면이 아니라 들어가 거닐고 머무를 수 있는 공간인 것이다  리주의 작품 또한 마찬가지다  작품은 그저 바라보는 대상이 아닌 들어가 생각하고 유영하는 하나의 세계다 년작  Mountain Paint Mountain Painting In Painting 작품의 제목처럼 산이 산을 그리고 그림이 그림 속으로 들어가기도 한다  작가는 이들 작품을 통해 작품과 현실  그 너머의 것  그리고 그들의 경계에 대해 우리에게 질문을 던진다  당신은 무엇을 보고 있는가  그림인가  세계인가  그림 속 그림인가  그림 속 세계인가  아니면 그 너머의 어떤 것인가   묵시록 THE REVELATION 배형경 코오롱 그룹의 문화예술나눔공간 스페이스K는 조각가 배형경의 개인전을 개최한다  배형경은 서울대학교 조소과와 대학원을 졸업하고 지금까지 여덟 번의 개인전을 비롯해 수 많은 기획전에서 꾸준하게 작품을 선보여왔다 년 김종영 미술관  오늘의 작가 수상작가이기도 한 배형경은 지난 년동안 인체 표현을 통해 존재론적 물음에 천착해왔다  작가는 이번 전시에서 브론즈와 스틸로 제작한 신작 조각 여점을 전시한다 이번 전시는  미터 높이의 인체 조각 여 점과 오브제 여 점이 철제 구조물과 어우러져 장대한 무대를 연출한다  전시는  묵시록 이라는 타이틀과 함께  말로는 다할 수 없는 것 마음의 구속 유추된 단상들  등 총 세 가지 시리즈로 전개되는데  특히 주목할 만한 것은 인간 존재의 본질을 인물위주의 형상조각으로 탐구해온 이전의 작업과는 달리  전체적으로 설치적 요소가 강조되었다는 점이다 작가는 이번 전시에서 개별적인 인체형상을 부각하기 보다 전시공간 전체를 하나의 조각으로 생각하는 작업을 시도한다  작품  말로는 다 할 수 없는 것 에는 수백 개의 장대모양 철 구조물 사이를 넘나드는 인물들이 배치되어 있고  언제 어디선가 보았던 듯한 형태의 덩어리들이 매달리거나 바닥에 놓여있다  그리고 작품  마음의 구속 에는 가공하지 않은 육중한 철판 구조물 사이에 인물 형상들이 마치 유배된 것처럼 설치되어 있다  또한 작품  유추된 단상 에서는 서로 맞대고 있는 머리들과 여기서 일탈한 듯 한 또 다른 머리가 위태롭게 매달린 형태로 배치되어 있다  이러한 조형적 설치는 이전 작업에서 경험할 수 없었던 새로운 조형적 분위기를 자아내며 또 다른 감정을 이끌어내고 있다 묵시록 이란 전시명은 말할 수 없는 것 을 이야기 하고자 하는 작가의 태도를 반영하고 있다  직접적으로 표현하지 않아도 은연중에 그 의미를 드러내 듯 그의 처절한 인간 군상은 비처럼 쏟아지는 철제 막대  장벽처럼 막아선 철판과 같은 구조물을 배경으로 전시 공간 전체를 하나의 조형언어로 드러낸다  이러한 설치적 접근은 배형경의 조형언어가  말할 수 없는 것 을 작품을 통해 보여주기 보다는  말할 수 없는 것 이 경험되고 느껴질 수 있도록 유도한다 브론즈의 중량만큼 진중한 호소력을 자아내는 배형경의 작품은 무거움 앞에 선 인간을 투영시켜 관람객들에게 자기 성찰과 사색의 시간을 제공한다  스페이스K 과천 전시는 월  일까지이며  월  일부터  월 일까지 스페이스K 광주에서 순회전을 이어간다   코엘료의 나무 캄보디아와 태국의 국경 근처인 반데이민쩌이Banteay Meanchey주  그 중에서도 오지인 사무렁Samlong 마을을 들어가다 보면 남따우Namdau 마을과의 경계에서 커다란 한 그루의 나무를 만나게 된다  마음을 사로잡는 풍경  너른 평야에 홀로 우뚝 선 나무는 간혹 일상에서 쓸쓸한 감상에 곧 잘 빠지는 사람들의 자의식을 닮아 있었다  비록 나무일뿐이지만 때로 어떤 형태의 나무들은 특별하게 인간의 의식이나 감정의 상태를 반영하는 신성한 존재로 여겨진다  그래서 사람들은 나무에 치성을 드리거나 섬기기도 한다 여기서 나무는 현실과 이상의 경계를 잇는 하나의  표지 역할을 하고 있다  이러한 표지는 현실과 이상의 경계이자 연결이며 인식의 시점이자 전환의 고리이다 나는 여행 중에 사무렁 마을과 남따우 마을의 경계에 서있던 무명의 나무를 보며 파울로 코엘료Paulo Coelho의  표지 를 떠올렸다  그는 인생에 있어서 어떤 사건이 일어나기 전에 반드시 그것을 미리 알리는 징조 같은 것이 있다고 했다  길을 안내하는 이정표처럼 인생의 전환점을 미리 알려주는 이러한 징후를 그는 삶의 중요한  표지 라고 생각했다  나는 마을과 마을의 경계에 서있는 그리고 나의 여행과 일상의 경계에 서있는 나무를 보며 경계  전환  고리  징후 따위의 어휘와 그리고 그가 말했던 바로 표지라는 단어를 떠올렸다  그리고 나는 그 자리에서 나무의 이름을  코엘료의 나무 라 지었다  나의 삶에서 만나는 표지들  때로는 지나치게 추상적이고 모호해서 인식하기조차도 힘든 그 표지들에 대한 현실적인 상징을 마련했다  그로인해 나는 이제 인생의 표지들을 더 한층 깊게 들여다 볼 수 있는 여유를 갖는다 인식하든 인식하지 못하든  코엘료의 나무 와 같은  표지 들은 사람들 곁에 무수하게 존재한다  그리고 이러한 표지들을 만날 때 마다 우리는 깊게 고뇌하거나 더없이 인생을 쓸쓸한 것으로 여기게 된다  경계에 선다는 것은 그리고 선택의 기로에 놓인다는 것은 무척 힘든 일이기 때문이다  그러니 어떤 형태로든 우리에게 주어지는  표지 를 읽어내는 지혜의 눈을 갖는 것은 누구에게나 필요해 보이며 나는 여행에서 만났던 다양한 표지들을 시각적으로 상징화한 사진이란 매체를 통하여 삶에 대한 그리고 일상에 대한 이야기들을 사람들과 시작해보려 한다 코엘료의 나무 로 지칭되는 내 인생의 표지를 또는 삶의 메타포를 상징으로 이끌어내고 간결화 하는 것처럼 다른 이들의 인생에 있어서도 모호하거나 피상적인 그들 삶의 표지들이 명료하게 드러나길 바란다  삶의 길눈을 밝히는 작업  여행자로서 이야기하는  코엘료의 나무 는 이러한 이야기들을 통해 전시과정에서 보다 농밀하게 완성시키고 싶다   멈추지 않는 눈물 젊은 한국 작가인 임수진은 동년배의 많은 아시아계 아티스트들과 같이 그녀 자신을 표현하는 수단으로 스스로 표출해 내는 팝 아트의 길을 선택했다  뉴욕에서 활동하는 팝 아티스트로서 그녀는 눈이 큰 어린 소녀들이나 컬러풀한 보타이 넥타이 와 옷을 갖춰 입은 화려한 동물들을 화폭에 담는다  만일 그림 속 소녀들의 머리에 불이 붙어있지 않다거나 웃으면서 동시에 울고 있지 않았다면  이 이미지들은 그저 천진하게만 보였을 것이다  임수진 식 팝의 미학은  심플하고 간결한 형태로 인간과 여러 존재들을 표현하면서 감성으로 회귀하려는 의도를 품는다  이는 세상을 친근한 눈으로 바라보기를 거부하려는 듯 한 무뚝뚝한 표정의 아이들을 주로 그리는 일본 작가  나라 요시토모의 이미지를 떠올르게 한다 두 작가 모두  감정을 강조하고 있으나 임수진의 경우  그녀 자신의 경험을 바탕으로 한 감수성을 묘사하고 있음을 알 수 있다  그녀의 표현 방식은 진정으로 아이와 같고  모조 순수함을 넘어 어른의 삶을 거부하는 세계로 이동한다  눈물은 이전  아마도 부모 세대가 달랠 수 없는 아픔을 보여주지만  이는 모두 거짓 없는  진정으로 순수한 환경으로 가고 싶은 염원이다  임수진의  Fire  연작은 년 이탈리아 볼로냐 아동 도서전 북 페어 모음에 선정되었고  그 후 뉴욕  마이애미  홍콩  서울 등에서 전시활동을 하고 있다 Fire  시리즈 속 이미지들은 굉장히 유사하다  작은 여자 아이의 머리는 계속 반복하여 등장하는데  소녀의 머리카락은 초록  빨강  짙은 핑크 마젠타 이다 각 초상화에서 머리는 불이 붙어있는데  이 불은 보통 수직적으로 긴 모양이다  소녀들의 얼굴 모양은 어두운 동공의 큰 눈  두개의 점으로 표현된 코  아주 미세한 커브 라인으로 표현된 입으로 간단하게 그려졌다  이 소녀들이 웃고 있는 것은 사실이지만 소녀들의 눈물은 이미지의 감성적인 부분을 지배한다  우리는 임수진의 작가노트 마지막에 적힌 다음의 문구를 떠올릴 수 있다 사람들은 컴퓨터가 아니다  그들은 감정이 있고 감정의 인식이 필요하다 한 그림에서  소녀의 얼굴은 고양이의 몸에 붙어있고  꼬리 끝은 노란 리본으로 묶여 있다  그 고양이 소녀는 꽃무늬 레이스로 된 몸을 갖고 있고  머리에는 초록색 배경으로 향하는 두 개의 불꽃 사이에 왕관을 쓰고 있다  이것은 기이한 장치이지만 임수진의 기이한 세계에서는 있을 법 한 일이다 우리는 이 감정과 상상의 결합이 작가에게 큰 의미라는 것을 알 수 있다  작가의 노력이 그 상상의 세계에 현재하기 때문이다 이는 확실히 자극적이고 어린 아이의 순수함이 승리하는 세계로 관객을 이끈다 캔버스에 혼합재료를 사용하여 만들어진 Miss you  YOU  라는 제목의 두 작품은 여러가지 색이 뒤섞인 빅사이즈 보타이를 맨 화려한 인물들을 보여준다  한 작품에서는 푸른 별이 큰 눈 하나를 갖은 애벌레같은 생물에게 막대사탕을 주고 있다  색색의 구름에서는 비가 내리고 있고  그 별은 다음과 같이 말한다 친구야  나 네 생각하고 있었어  그리고 네가 정말 그리워  이 막대사탕 먹어 이 애벌래의 눈은 작고 초롱초롱한 아이의 순수함을 갖은 그 별을 향하고 있다  다른 이미지에서는 강아지처럼 보이는 동물이 막대사탕을 들고 무엇인지 알 수 없는 작은 조각을 먹기 위해 입을 벌리고 있는 컬러풀한 물고기에게 묻는다 예쁜 물고기 친구야  뭘 먹고 있니  그게 내 달콤한 사탕보다 더 맛있니 순수함이 묻은 이 두 텍스트는 임수진의 그림의 순수함과 어울린다 마지막 작업  Please Look at Me 제발 나를 봐줘  에서는 발은 두 개  등은 노란색 보트이며 모양은 둥근 어떤 생물이 푸른 별과 막대사탕을 들고 있는 모습을 볼 수 있다  자주빛 달에서는 어쩌면 눈물일 지도 모르는 비가 떨어지고  눈이 하나 달린 생물에게 별은 다음과 같이 말한다 친구야 울지마  내가 여기 있잖아  하늘 끝에서부터 작은 보트를 타고 왔단다 여기에서 이야기 속 각각의 캐릭터들의 어린아이 같은 성격은 탁월히 영적인 요소를 갖는다  그러나 역시 이 안에는 극복해야 할 인간의 깊은 눈물과 슬픔이 서려있다 같은 제목의 작업  Please  Look at Me 제발 나를 봐줘  에서 임수진은 다색으로 그려진 물고기가 역시 다색으로 그려진 코끼리를 탄 모습을 그린다  그 코끼리의 꼬리와 코는 보타이 리본으로 묶여있다  물고기 위에는 사람의 얼굴을 한 불가사리가 막대사탕을 들고 있는데  이 불가사리는 작가 자신의 마스코트  즉 표상으로 보인다  내포하는 요소가 초현실적인  Please Look at Me 는 작가가 페이소스적이면서 충만한 사랑이 담긴 자신의 시나리오 속 캐릭터를 결정하고 유지하는 능력이 뛰어남을 보여준다 임수진은 간단해 보이는 그림과 감정들을 다루고 있으나  그로써 그보다 더 큰 것을 대변하는 효과를 연출하는 작가이다  그러한 이유로 그녀는 진정한 작가라 하겠다  그녀의 작업은 영원히 지속될 문제들 아주 순진해 보이는 방법으로 풀어내지만 사실은 더욱 심각하고 첫인상보다 멜랑콜릭함을 보여주는 새로운 세대의 아시아 작가들의 그룹에 속해 있다  임수진은 그녀의 그림 속 어린아이 같은 인물들을 통해 새로운 방식으로 페이소스를 찾는다 그 인물들은 인류의 불안을 상쇄하려는 시도를 하며 순수하게 연극적 의식을 치른다  임수진의 작품은 처음에는 별나 보이지만  작가의 역량으로 시간이 흐름에 따라 더 훌륭하고 진지한 세련미를 갖추고 있다  그녀의 이미지들은 인간이 겪는 고난의 한 부분을 기억하기 쉽게 표현하고 있으며 작품속 인물들의 컬러풀한 디테일과 심플하게 표현된 다치기 쉬운 연약함은 우리의 기억 속에 남을 것이다   아프리카  앞으로 Africa  Afro 경기도미술관은 기획전시실에서  아프리카  앞으로 를 개최한다  경기도미술관이 주관하고 아프리카 미술관과 협력으로 기획된 이번 전시는 미지의 미술세계인 아프리카의 현대미술을 알리는 전시가 될 것이다 일반적인 아프리카에 대한 선입견을 넘어 상상력으로 가득찬 아프리카의 미술을 접할 수 있는 이번 전시는 그 동안 아프리카 미술을 원시적 미술만으로 생각하는 많은 사람들에게 또 다른 현대적 창의성을 보여주는 계기가 될 것이다  출품한 작품들은 아프리카 대륙에서 살아가는 현재적 작가들이 바라는 작은 행복이 담겨져 있으며  작품을 통해 우리들에게 작은 행복을 전달하고자 한다  아프리카에서 현재 활동하는 작가들의 작품을 수집해온 정해광 아프리카 미술관 관장은의  가능성 이라는 주제로 전시를 기획하였다  고 밝혔다 아프리카 소수부족의 앤틱 antique  조각 작품은 인간과 자연의 신상이 결합된 아프리카만의 독특한 형식을 보여준다 세기 유럽과 서구의 많은 예술가들은 앤틱조각 양식의 영향으로 원시 자연적 아프리카의 이미지와 의미를 차용하였다  현재 아프리카의 많은 현대미술가들 또한 새로운 양식의 실험과 더불어 전통적인 자연신앙의 의미를 재창조하고 있다  이들의 조각은 각 부족의 탄생신화 공동체 의식  예법  생활상을 그대로 담고 있으며  인간이 가져야 하는 기본적인 인성에 대한 가치를 전달한다 현대 아프리카는 년 베를린 협상에 의해 지금의 국가 경계선을 갖게 된다  이 협상은 사각의 테이블에서 서구열강은 자국의 이익을 위해 아프리카의 거주민의 의사와는 상관없는 경계선을 결정짓고 토착민 부족간  국가간  공동체간의 전통적 삶의 구분은 고려하지 않았다  열강의 식민지 지배기간 동안 외형적으로는 안정적 모습을 유지하였으나 내부적으로는 부족간 갈등  종교적 갈등  이념적 갈등이 여전히 남아있었다 세기 아프리카는 열강에 대한 독립투쟁 진행되며  국가적으로 내부 갈등이 폭발하는 과정을 끊임없이 겪어왔다  끝없는 전쟁으로 기아와 가난  그리고 이념적 대립에 의한 테러가 난무하고 있다  또한 몇몇 지역의 아프리카의 사람들은 아직도 전쟁과 기아를 피해 난민생활을 하고 있다 서구의 예술평론가들은 아프리카 예술가들의 작품은 고난과 역경 속에 있는 그들의 삶과는 다른 인위적이고  현실감 없는 예술이라 치부한다  하지만 그 화려함 속에 깃든 작은 행복의 희망을 바라보지 못한다면 이들 작업을 잘못 해석하는 것일 수 있다  아프리카의 현대작가들은 작품의 제목도  작품캡션도 없다  단지 그리는 행위에 몰입하고 있다  서구의 예술가들처럼 서구화된 현대미술의 패러다임으로 이해할 수 없는 아프리카의 예술가들은 지도상의 아프리카처럼 아직은 미지의 땅으로 남아 있다 년 경기도미술관의 전시장에 아프리카의 작품을 통해 화려함속의 인간적 희망과 사랑  꿈  긍정적 미소를 볼 수 있기를 기대한다   시간의 귀 신한갤러리 역삼은  시간의 귀  을 개최한다  김강인  김미영  성문영  이자용  정연희 다섯 작가와 함께 만든 년 첫 전시이다 시간의 귀 는 이들이 제시한 전시의 키워드로 내가 지금 여기에서 들려주는 이 시간의 이야기에 귀 기울여달라는 이들의 바램이 담겨있다  김강인은 기억이 남긴 흔적을 그린다  아련한 기억의 순간은 시공간의 흐름 속에서 결코 정지되지 않은 상태로 그려진다  김미영은 흘러가는 시간의 속성을 지도를 통해 표현한다  자신이 과거에 걸었던  혹은 현재 걷고 있는 길의 지도를 재해석하고 재창조한다  성문영은 기억의 사물 속에 추억을 담는다  사물의 외곽 형태를 확대하여 그 안에 소중한 기억의 파편들을 가둔다  이자용은 마음의 풍경을 화폭에 담는다  외로운 현대인의 초상을 보듯 한없이 고독한 시간이 머무는 곳을 그린다  정연희는 관조적 태도를 통해 내면의 소통 공간을 찾는다  화면에 가득한 빛은 소통의 매개가 된다  이렇게 다섯 작가는 모두 크고 작은 기억에서 출발하여 내가 지금 여기에서 하고 싶은 이야기를 각자의 방식으로 말하고 있다  우리가 놓치고 있는 소중한 기억의 순간들을 떠올릴 수 있는 의미 있는 시간을 제공하는 이번 전시에 많은 관심과 참여를 기대한다  나아가 진정한 소통을 바라는 이들의 이야기에 조용히 귀 기울여 줄 것을 부탁한다   THE SYMBOL 키덜트 kidult 의 성향을 지닌 나는 어릴 때부터 인형이나 장난감 수집을 좋아했다  나의 취미생활과 유년시절의 경험들이 내 작품의 주된 모티프 motif 가 되었다  유년기의 아이들은 사회 통념 상 순수함을 대표하는 아이콘 icon 이다  하지만 내 유년시절의 기억을 더듬어보면 아이러니 irony 하게도 순수함만을 지닌 것은 아니었다  작은 동물을 학대하는 가학적 성향이나 은밀한 성적판타지 같은 본능적 상상들이 가득했었다  하지만 이런 유년기의 사건들이 비단 나만의 이야기는 아니다  어린아이가 순수함 외에 지니는 내면의 폭력성이나 잔혹성처럼 우리주변에서 일반적으로 믿어왔거나 알고 있는 것들이 우리의 생각을 배반하는 경우가 종종 있다  허나 실상은 이것이 배반을 한 것이 아니라 우리가 그것의 본질을 오해하고 있었던 것뿐이다  어떠한 이미지를 당연히 그것으로써 받아들이거나 생각하게 되는 것  그로 인해 그 안의 본질이 쉽게 가려져 버린 것들  이런 것이 내 작업의 주된 관심사다  내 작품은 장난감을 소재로 회화시리즈  Fetish Drama 와 사진시리즈  THE SYMBOL 을 통해 동시적이면서 모순적인 상황들에 대해 키덜트적 상상력으로 이야기를 풀어가고 있다 I  with my tendency of kidult  liked to collect dolls or toys since my childhood My hobby and experiences from my childhood became major motif of my art works  Children in infancy is icon representing purity in terms of social sentiment  However  I remember that my infancy was ironically not just purity  My childhood was full of instinctive imagination such as sadistically abusing animals and secret sexual fantasy  But these incidents in childhoods are not just my stories  We know that what we generally believe in and have known around us just like internal violence and cruelty in child sometime betrays us  In fact  this is not betraying us but we just misunderstood its essence  Thinking certain images as natural things and thinking as they are thus that essence is hidden are my primary concerns for my art works  My art works expresses stories with imagination of kidult for contemporary and contradictory situations through painting series  Fetish Drama photo series  THE SYMBOL  and toys    의미 불명 종이에 그림을 그리면서 생각한다  나에게 중요한 것은 그리는 행위인지 그림인지  내 주위에 이미지는 넘쳐나고 나는 내 이미지가 무엇인지 혼동한다  그저 손가는 대로 그리다보면 내 모습이 나올까  끊임없이 자기모습을 찾아야 하는 숙명은 그 무거움 때문에 망각되어진다  나는 너와 이야기하기 위해 그림을 그렸지만 나는 의미를 잊어버렸다  의미를 잊어버린 손짓에 어떻게 이름을 지어야 할까  메롱이다   이나경 한국화로 중첩되는 이미지를 표현하는 작가 이나경의 개인전이 파주 헤이리 갤러리이레에서 열린다  이번 전시는 제  회 갤러리이레 신진작가 공모전을 통해 당선되어 열리는 개인전이다  이나경 작가는 작품을 통해서 빠르게 흘러가는 일상에서 현재를 인식하지 못하고 과거 또한 돌아볼 시간도 없이 사는 현대인들에게 하루하루 쌓이는 추억들을 되돌아 보고  앞으로 어떻게 살아갈 것인가에 대한 물음을 던진다  그런 작가의 물음은 일상에서 눈에 보이는 풍경들에 작가가 가지고 있는 감성적인 이미지 또는 과거의 기억들을 오버랩하여 보여줌으로써 관객들이 느낄 수 있게 하고  마치 유리창에 또 다른 풍경이 비치는 듯한 이미지를 표현해 두 개의 공간과 시간을 느낄 수 있게 한다  또한  작품을 통해서 자신이 작업을 통해서 단순히 그리는 것만이 아니라 살아가면서 생겨나는 작가의 사유와 철학을 그림에 담아내고 있다   돌과의 사랑 어느 해였던가 너븐 여울 이란 이름의 광탄리 에서 살 때였다  개울가를 평소처럼 산책하고 있던 내게 그 숱한 돌 중 어린애 손바닥만 한 돌 하나가 눈에 들어왔다 그 개울 바닥에 있는 돌은 그 개울 바닥에 있는 게 가장 낫다 라는 평소 내 생각과 달리 나는 그 돌을 집어 집으로 가져오고 말았다  그 돌은 지금도 내 책상 위에 놓여 있고 자주 내 눈길과 마주하며 이따금 내 손길도 받는다  앞면은 일그러진 보살상이고 뒷면은 어딘가 기분이 언짢은 여인의 상이지만 이리 보나 저리 보나 거부감보다 친밀감을 느끼게 한다  미석  이 아니지만 그 많은 돌 중의 하나가 나와 같은 시공간에서 그 많은 사람들 중의 한사람처럼 동고동락하며 지내게 된 것이다  선악을 떠나 나는 돌의 운명에 관여했다 전형근이 돌 사진을 찍으러 다닌다는 것을 여러 해 전부터 알고는 있었다  나는 자연을 배경으로 자연 속에 놓여 있는 돌을 찍는 줄 알았는데 작품을 보고 내 예상이 여지없이 빗나갔음을 알았다  그는 돌에 온기 어린 시선만을 준 것이 아니라 돌에 손길을 보듬어 자신의 체온을 나누어주었다는 것을 알게 되었다  그뿐이 아니다  돌마다 지닌 살결과 표정  언어를 드러냈으며 돌에도 각자 고유의 시선이 있고 체온이 흐른다는 것을 조용히 주장하는 것 같았다  전형근은 사진을 통해  사진 속에서 돌과 순간적으로  접속 한 게 아니라 오래 접촉 했다  비록 이목구비가 사람처럼 갖춰져 있지는 않지만 저  얼굴 없는 돌의 얼굴 과 마주하면 돌과 인간의 감정 교류가 확산되고 있다는 유대감을 떨쳐 버리기 쉽지 않다  어떤 돌은 생로병사와 희로애락을 겪고도 겪은 노인의 얼굴을 하고 있고 어떤 돌은 가까이 하고 싶었지만 가까이 할 수 없었던 여인의 형상을 하고 있다  또 어떤 돌은 내 이웃의 평범한 아낙을 연상케 하고 무뚝뚝하지만 심성 고운 사내의 모습을 하고 있다  그뿐이겠는가  돌 우주선  돌 잠수함  팥이 숭숭 들어간 돌찐빵  깨를 입힌 돌과자 등 그 형상도 각양각색이다  또 어떤 돌은 물이 흐른 흔적을 고스란히 간직한 행성과 하나 다르지 않다  게다가 저 돌의 우둘투둘한 표면은 화가 박수근이 화면에서 구현한 화강암 질감과 닮았지 않은가  예술은 멀리 있지 않다  발부리에 채는 돌 만큼 가까이 있다  전형근은 저 자연 속의 돌을 인간의 나라로 데려와 돌마다 지닌 개성에 인간의 온기를 더해 인간의 사랑을 받을 수 있도록 작업했다  돌을 집어 한 입 두 입 뜯어먹고 싶은 욕구와 더불어 아예 저 돌 속으로 들어가 살고 싶은 충동을 느끼도록 했다  그러니 돌을 그저 단단한 광물덩어리라 단정 짓는 건 극히 인간적인 해석일 것이다  누가 돌을 무생물이라 하는가  전형근이 사진 속에서 구현한 돌은 생물이다  그는 돌과 지속적으로 교류했으며 유구한 시간 속을 뒹군 돌을 피가 돌고 숨 쉬는 돌로 환생시켰다 자  돌과 사랑할 시간이다   자연을 깎아 만든 어머니  꼭두 먹으로 그린 하얀 세상 나지막한 언덕위로 가지가지 굽은 나무가 서있고 그 사이로 집이 아른거린다  하얀 눈송이가 모든 풍경을 뒤덮고 있다  수묵담채로 그려진 설경 온통 하얀 세상이 돼버린 풍경을 보고 있자니 몸속으로 파고드는 찬 기운에 한껏 몸을 움츠리게 된다  사실적인 묘사가 돋보이는 작품으로 작가 오석교의  무수의 겨울 물왕의 겨울  등 겨울연작이다  자연에 대한 관념적 성찰과 실재하는 현상에 대한 탐구와 관찰을 통해 완성되는 진경산수 오석교의 작품이 그러하다  그는 민족의 강토를 누비다가 맞닥뜨리는 풍경에 주목한다  그의 화폭에 담긴 풍경은 대부분 남도의 산하인데 평평한 대지를 끝으로 높지 않은 산이 병풍처럼 둘러서있고 몇몇의 가옥과 나무들이 자리한다  지극히 평범한 산골마을의 풍경에 매료된 것인가  깎아지르는 절벽이 아찔한 협곡이나 끝없이 솟은 높다란 산맥  격렬히 쏟아지는 폭포 따위를 그리면 좀 더 폼이 날텐데 오석교의 풍경은 낮고 아늑하고 조용하다  하지만 그 가운데 드라마틱한 기운이 퍼진다  그의 설경에서는 피사체의 역동성은 부재하지만 은근한 시간의 흐름과 눈앞으로 쏟아질듯한 하얀 눈의 무게감이 자리잡고 있다  그것이 작가가 굳이 설경을 고집하는 이유다  하얀 눈이 소복이 쌓인 풍경을 보라  하나하나의 가벼움이 모여 그 무엇보다도 무겁고 넓게 대지를 수놓았다  실재하는 것을 표현하는 것이 진경산수라면  현실계의 색은 표현되지 않는 것인가 분명 빛의 스펙트럼을 통과한 오색찬란한 색들이 있을 것인데 수묵담채로 표현된 풍경에는 온통 먹과 여백뿐이다  동양적 사유를 통한 관념적 진경산수란 서양화의 리얼리즘과는 큰 차이를 두는 것이다  눈으로 보는 색이 아니라 심안으로 읽는 색이 진정한 색이니 눈앞에 현혹되지 않는다면 진실을 발견할 수 있을게다  오석교의 설경이 그러하다  눈이 내린 풍경을 떠올려보라  대지를 덮은 눈은 세상의 모든 색을 빼앗는다  세상의 어지럽고 요란함을 시기한 신 이 부리는 조화인가  필선의 강약과 먹의 농담만으로 세계를 표현하는 것이 수묵담채라면 설경이 만들어준 흑과 백의 세계는 그 원형을 가장 실감나게 나타낼 수 있지 않겠는가  동양적 사유가 머무는 장소성의 획득을 위해 찾았던 고요함과 정적인 요소는 설경으로 천착되었고 그의 설경이야말로 수묵담채의 진면목을 확인하는 장이 될 것이다 비물질에서 물질로의 전환 오석교는 전통의 흐름을 거스르지 않는 가운데 독창적인 소재의 탐구와 작가적 감성을 더해 자신만의 산수를 형성했다  먹으로 그려진 하얀 세상은 그러한 노력에 의해 가능했다고 본다 년이라는 결코 적지 않은 시간동안 이어진 준법연마와 자연의 본질에 대한 탐구는 그의 작업에 근간을 마련했다  오석교의 산수에서 빠지지 않고 등장하는 것이 있다  설경뿐만 아니라 다양한 풍경 속에 존재하는 나무가 그것이다  강한 필치로 거칠지만 유연하게 뻗은 나무의 표현은 전통산수에서 말하는 기운생동의 개념을 적극 끌어들인 듯하다 그에게 나무란 붓끝으로 그려지는 대상 이상의 가치를 지닌다  이는 대지를 덮은 눈과 그를 뚫고 강렬히 우뚝 솟은 자연의 솟대이며 죽음을 극복하고 생명을 불어넣는 소생의 씨앗이기 때문이다  먹으로 그려진 기운생동의 나무가 화폭을 떠나 작가의 손에 만져지는 존재로 변환됐다  시공간을 초월한 재현과 표현의 대상은 비물질에서 물질로  허상에서 실재로의 전환적 국면을 맞이한다  작가는 이제 붓 대신에 자귀를  끌을  조각도를 집어 들었다  거친 필치나 세밀한 묘사가 아닌 깎아 내리고  치고  갈아내는 동작을 반복한다  전혀 다른 동사의 사용은 오석교가 지금까지 행해온 전통산수의 파계적 일탈의 가능성을 엿보게 만든다 꼭두에 비친 어머니 작가의 손에서 붓이 아닌 칼로 완성된 것은 나무로 만든 인형 목우  이다  이는 오랜 과거부터 나무를 깎거나 흙을 빚고 구어서 만든  꼭두 의 일종인데 꼭뚝  꼭두각시 따위로 불렸던 것이다  꼭두는 동서를 막론하고 권력자의 죽음과 함께 사람을 묻던 풍습인 순장문화와 밀접한 관계가 있다  순장은 과거 신분사회의 어두운 그림자로서 가부장질서가 확립되고 문명이 발달할 시기에 전 세계적으로 시작된 장례풍습이다  죽음이 끝이 아니라 새로운 삶을 영유하는 또 다른 세계라 믿었던 당시의 사후세계관에 의해 가능했던 것이리라 이는 오래지않아 사라진 풍습인데  이유는 산체로 사람을 매장한다는 것이 잔학성과 반인간적 행위로 인식됐기 때문이다  이때부터 대안으로 등장한 것이 생명을 대신해 일종의 아바타를 구현  함께 매장하는 문화이다  인간을 닮은 영적 존재  꼭두를 죽은 자와 함께 묻은 것이다  아마도 꼭두가 망자를 안내하고 보호하며 무사히 사후세계를 인도 할 것이라는 믿음에서 비롯된 행위였으리라 여기서 꼭두는 단순히 목각인형이 아닌 산자와 죽은 이를 이어주는 가교이자 희망을 기원하는 상징으로서 자리한다  작가는 반복적으로 나무를 깎고 다듬는 과정을 거쳐 성인 남성 손바닥만한 크기의 나무 인형을 만들어낸다  하나 같이 여인의 형상을 하고 있는 꼭두는 싱글거리며 웃고 있는가 하면 입을 크게 벌리고 가락을 읊조린다  보기만 해도 기분이 좋아지는 오석교의 꼭두에서 앞서 언급한 무서운 순장문화의 지시적 기호는 찾아볼 수 없다  그렇다면 그가 말하고자하는 작품의 내러티브는 무엇인가  목공예 장인도 아니고 제례를 주관하는 무당도 아닌 그의 칼끝에서 표현된 꼭두는 바로 자신의 모친  그를 세상으로 부르고 생명을 전해준 위대한 인간의 모습이다 제각기 다른 표정을 하고 알록달록한 색동저고리를 입은 꼭두  오석교가 그리는 어머니의 형상이다 가장 인간다운 예술가 오석교가 그간 그려온 수묵담채화 설경은 화려한 빛깔이기보다 단촐하고 역동적이기보다 변함없으며 가벼워보이지만 측정할 수 없는 무게감을 가진 어머니의 사랑  그것이다  평면에서 입체로 변화한 그의 작품 꼭두 역시 너른 대지에 뿌리 내리고 긴 시간 묵묵히 한줄 한줄의 나이테를 그리며 느리게 자란 나무에서 찾은 어머니의 기운을 상징적으로 드러냈다는 공통분모를 갖고 있다  표현에 대한 형식적 차이와 재료의 상이함을 뛰어넘는 그만의 일치된 맥락을 갖는다는 이야기다  나무를 깎고 자연에서 불러온 오방색으로 채색한 꼭두는 어머니인 동시에 희망의 분신이다  신화에 나오는 피그말리온처럼 혹은 동화 속의 피노키오처럼 그가 끊임없이 어루만진 나무는 새로운 생명으로 잉태돼 세상에 나온다  마치 열반을 기다리는 수도자의 수행처럼 고단하고 지난한 그의 반복적 행위는 병상에 누워있는 모친의 쾌유에 대한 바람과 세계를 살아가는 우리 모두의 안녕과 행복을 위한 기원의 몸짓이다  따뜻하고 온화하며 가장 인간다운 예술가 오석교 그가 앞으로 지속할 진정한 의미에서 휴머니즘 예술이 기대되는 순간이다   그림 가구 예술향유 그곳에는 가치가 있는 공간  그 곳에 예술이 있다 아름다움이 스며드는 공간 그 곳에 그림과 가구가 있다  문화가 흐르는 공간  그 곳에 예술애호가가 있다 품격이 있는 공간  그 곳에 머물고 싶다 가구 위의 그림 한 점  공간의 미학이 숨 쉰다 갤러리 밖으로 나간 그림은 가구와 조응하며 즉시적인 조형언어를 표출한다 가구와 그림이 함께하는 공간은 사물과 사물의 결합이 아니다 디자이너의 예술 정신이 발현된 가구는 예술 오브제이고 예술가의 유일성이 강조된 창작 작품은 그대로 예술인 것이다  따라서 가구와 함께 설치된 그림은 인테리어 소품이 아니다 예술 오브제와 예술작품이 만나는 그 곳 공간의 통섭이 시작된다 박영하 작가는 한국의 대표적인 추상작가이다 내일의 너 시리즈는 작가의 감성 표현의 화두이다  자연의 본성과 한국적인 정서를 잘 보여줌으로써 모노크롬 회화의 맥을 이어오고 있다  작가는 일상생활에서 느끼는 자연물 나무  꽃  돌  하늘  바람 등 과 인공적인 건물 보도블럭  도심 거리의 풍경 등을 날마다 채집한다  이러한 이미지와 기억을 캔버스 앞에서 풀어낸다  돌가루와 유리가루를 적절하게 배합한 마티에르를 두툼하게 바르며 채집된 이미지를 응축하여 표현한다  붓의 터치를 통해 자연적이고 감성적인 회화의 맛을 서정적으로 담아내고 있다  기존 현대미술의 색면추상에서 제시하는 숭고미의 맛과 다르다  동양적 사유와 여백으로 인해 정서적 안정감  교감하는 소통을 이끌어준다  작품 앞에서 들여다보면 긴장이 해소되고  마음의 위안이 되는 힐링의 시간이 될 것이다  현재 홍익대학교 대학원 교수로 재직하며 호주의 갤러리에 전속작가로 활동하는 중견작가이다 이돈순 작가는 생명현상에 대한 신비로운 경험이 바탕이 되는 작품내용을 전개해 간다  잎맥으로 그려가는 나뭇잎  꽃 잎  동물의 형상이 캔버스에 주요 공간을 위치한다  작품에 미시적이고 구체화된 형상은 작가가 생활 주변에서 체험하였거나 기억창고에 저장된 이미지를 섬세하게 표현하는 방식이다 그는 그리지 않고 기성품 오브제  못 을 선택하여 캔버스에 드로잉 하듯 하나 하나 박는다  그것은 점이다  그에게 못은 붓처럼 익숙한 재료이며 목조주택을 손 수 지었던 만큼 자유롭다  작품의 주제는 통섭이다  부모가 아이를 품은 보금자리  암탉의 품에 병아리  나뭇잎에 머무는 새와 잠자리  소나무 가지에 앉은 부엉이  하늘소 등 한 편의 단편 소설을 읽듯이 스토리가 전개되는 풍경이 펼쳐진다  현재 영은미술관 레지던시에서 작품 활동을 하는 독창적인 작업 전개가 앞으로 더욱 기대되는 주목 받는 작가이다 이용석 작가는 년 식물원 붉은 정원 시리즈 발표를 시작하였으며 식물원과 주묵 은 중요한 조형 예술의 상징이 된다  주조색인 붉은 색이 더욱 드러나는 것은 식물들의 형상을 선으로만 표현하였기 때문이다  식물 외에 동물 형상의 아이콘  촛대  소파 등 일상 사물의 이미지 등이 공간을 자유롭게 유영 한다  관엽식물과 열대식물 등과  동물형상에서 코끼리  얼룩말  펭권  사슴 등은 식물원  동물원에서 바라보는 대상이 아닌 그들의 공간  자유의 공간을 제시한다 식물원 꿈  코끼리 위에 풍선을 띄우거나 붉은 정원 에서 처럼 실내의 사물이 외부 공간으로 확장되어 공간과 공간의 결합  식물과 동물의 어울림이 이상향에 대한 기원으로 다가온다  녹색이 지배하는 식물원에서 붉은 색  거대한 생명의 자연에서 활동하는 동물들의 역동적인 기운이 붉은색으로 함축되어 있다  현재 홍익대학교 미술대학 박사과정을 수료하고 대학 강의와 작업을 하는 유망작가이다   손수용 전통적 양식과 정신을 이어 받으면서 현대적인 감각으로 가장 문인적인 미의식과 표현방법을 추구 하면서 자연을 수묵을 통해 획과 선으로서 표현하려는 석여 손수용 화백의 제  회 작품전이 대백프라자갤러리 A관 전시실에서 마련된다 이번 전시는  작품집  출판기념전으로 마련된다  지난 자신의 화업을 이번 작품도록에 담아내어 그림을 하는 모든 이들에게 참고가 되었으면 하는 바람으로 작품집을 제작하여 더욱 의의가 있는 전시로 마련된다  작가는  그림을 그린다는 것은 장강과 같은 유장 함이 있다  수묵 문인화는 현대미술의 격량 속에서도 그 생명력이 지속되는 것은 그 전통이 지니고 있는 본연의 정신성과 더불어 그 표현방법이 시대를 초월하여 통하고 있다는 증거이다  라 말한다 그의 이번 전시특징을 보면 전통을 자기만의 방법으로 재해석하여 대자연을 대상으로 다양한 소재를  산수화  화조화  영모화  어해화  초충화  소과화 사군자  능수능란하게 그려내고 있다  기운 생동 하는 획 과 선 대담 하면서도 시원스런 구도의 전개 사물의 절제된 표현  농익은 색상의 사용  또한 달필로 쓰는 화제 는 화면을 한층 더 문기 를 더하게 만든다  대자연을 대상으로 거침없는 선과 필의로 대상을 집약 단순화 하면서도 가장 세부적인 특징까지 표현한 손수용의 작품세계는 기교는 물론 그 사물의 정신을 정확하게 전달하며 작품에서 풍기는 기운생동의 기운이 더 큰 감동으로 다가온다는 평가를 받는다 작가는 이번 전시를 통해 시  서 화 삼절 의 진수 를 보여주는 작품 여점을 선보일 예정이다  작가는 현재 대한민국 정수미술대전 초대작가  죽농서예문인화대전초대작가 대한민국미술대상전초대작가  대구 경북 미술대전 초대작가로 활동 중이다   미술의 소비 대중화를 마련하는 측면에서 소품전 소리없이 내리는 비 를 통해 다양한 작가의 소품을 선보입니다  현재 한국화  조소  회화등 활발하게 창작하며 활동하고 있는 작가들이 참여하고 있으며 일반인들의 예술감상 기회를 넓히고 예술의 대중적인 소비를 지향하는 계기를 마련하고자 합니다  작가는 자유로운 창작과 현실적인 삶  두마리 토끼를 잡아야 하는 선택할 수 없는 상황속에서 살아가고 있습니다  갤러리 두들은 작은 시작이지만 창작의 이익을 작가 본인에게 돌려주고자 합니다  예술작품의 소비 문화가 정착될수록 전업작가들은 삶은 안정되고 자유로운 창작의 기반이 될 것입니다   보자기  마음의 기하학 년도 그 처음을 여는 전시로 예화랑에서  보자기  마음의 기하학 이하 보자기  을 준비하였습니다  이번 전시는  부 목안 꿈을 그리다 이하 목안  에 이어지는  부 전시로 김용대 대구시립미술관 관장이 기획했습니다 년의 마지막을 장식한 목안 과 년을 여는 보자기  은 모두 무명의 작가에 의해 제작되어 민간에서 널리 사용되었던 골동 민예품의 예술성을 재조명한다는데 공통점이 있습니다  또한 인생의 새출발을 하는 부부에게 백년해로의 소망을 담아주었던 목안 나무기러기 과 말 그대로  복 을 기원하는 마음으로 한땀한땀 만들어진 보자기는 평안하고 행복한 년을 맞이하는 데 가장 적절한 소재라 할 수 있겠습니다 비단  모시  삼베  면 등의 가벼운 직물로 만든 보자기는 물건을 덮거나 싸서 보관하거나 이동하는데 사용되었습니다  보자기는 과거 협소한 주거의 공간적 제약을 벗어나기 위하여 만들어진 실용적인 도구입니다  보자기는 펴고 접을 때마다 그 크기가 가변적이어서 사용할 때는 넓게 펼쳐 물건을 담을 수 있었고  보관할 때에는 작게 접어 그 부피를 최소화할 수 있었습니다 보자기의 발달 이면에는 일종의 기복신앙적 요인도 있습니다  보자기는 한자로는  보 라고 표기하거나  복 이라고도 하는데  이와 발음이 유사한  복 과 그 뜻이 통하는 것으로 알려져 있습니다  동양문화에 뿌리 깊은 기복신앙은 정성을 다해 만든 물건에 보이지 않는 힘이 있다고 여겼습니다 대상에 공을 많이 들이는 것은 치성을 드리는 행위이며  치성을 들인 대상은 복을 부르는 매체가 된다고 믿었습니다  수를 놓거나 작은 천 조각을 하나하나 이어 붙이면서 정성 들여 만든 보자기에 물건을 싸 두는 것은 복을 싸 둔다는 뜻으로 통하며  특히 각종 예물을 싸던 혼례용 보자기가 그 대표적인 예입니다 우리의 보자기는 독창적입니다  몬드리안이나 클레의 작품보다 백여 년 이상 앞서 제작된 공간 구성미를 가진 작품입니다  우리의 보자기에서는 로스코 보다 더 깊고 아름다운 색채를 발견하는 것은 어려운 일이 아닙니다  동양적 정서가 담긴  오방색 을 통해 강렬한 추상성을 지닙니다  사용하고 남은 작은 조각천을 버리지 않고 이어 붙여 자연스러운 이음선으로 만들어가는 무한한 확장성을 보여주기도 합니다  무계획의 구성미  무질서 속의 질서  독창성  무엇보다 현대미술에서 표방하는 예술과 생활의 결합 추구  우연성 무작위 등은 보자기에 그대로 보여지고 있습니다 만드는 이에 따라 배색과 문양의 구성이 달라지고  담아내는 물건에 따라 형태와 스타일이 자유자재로 변화하며  사용하는 이에 따라 매듭 모양이나 묶는 방식이 다채롭게 제시되는 점에서 보자기는 중립적입니다  중립은 전후좌우 사방으로 이동할 수 있는 가능성을 포용합니다  평면인 동시에 무한한 공간감을 가지고 있는 보자기의 아이러니한 매력을 느껴보시기 바랍니다 솜씨가 있으면 있는 대로 서투르면 서투른 대로 아무런 사심 없이 지어 낸 보자기는 비전문가에 의해 무의식적으로 만들어졌지만 그 결과물은  무기교의 기교 라는 표현이 떠오를 만큼 신선하고 독창적입니다  평범한 여성들의 일상에서 시작되었음에도 불구하고 우리의 보자기는 시대적으로 앞설 뿐 아니라 정형화되지 않은 색채감과 구성미로 독특한 예술성으로 차별화된 가치를 지닙니다 최근 보자기의 높은 예술성에 주목하는 사람들이 증가하면서 보자기에 대한 다양한 해석이 있어왔습니다  이번 전시회는 보자기를 본래 기능에 충실하게 재현하고  물건을 담은 입체상태에서의 아름다움을 부각시키려 합니다  특히 예화랑의 회색빛 콘크리트로 둘러싸인 모던한 공간에서 옛 물건이 조화롭게 상응하는 installation work를 제안하려 합니다 보자기가 담고 있는 만복을 기원하는 마음으로 준비한 이번 전시와 함께 미술애호가 분들  여러 기자님들께 신년인사 드립니다  감사합니다   히말라야 유랑 서울 광화문 네거리를 총총거리며 걸어가는 사람들을 봅니다  버스 창 너머 밖을 바라보는 이들의 눈빛을 봅니다  회사 밖을 나설 때마다 히말라야 사람들이 떠올랐습니다  그들을 생각하면 왠지 마음이 편해지고  지금은 어떻게 살고 있는지 궁금합니다  그들은 언젠가 꼭 다시 만나야 할  동무 가 되었습니다  인류 시원의 땅이자 수많은 신들이 살고 있는 눈의 나라  그래서 수많은 순례자와 산악인들이 고산증과 추위를 무릅쓰고 끊임없이 찾아가는 곳  그곳이 바로 히말라야입니다 이 책은 히말라야 서쪽의 카라코람 히말라야에서 인도 히말라야  네팔 히말라야에 이르기까지 직선거리 km 개월 여정의 기록입니다  척박한 히말라야의 고산 풍경  여러 종족의 다양한 삶  그리고 꾸밈없이 살아가는 천진난만한 어린이들 같은 하늘 아래 사람들이 어쩜 이렇게 다르게 살 수 있는지  그들의 표정은 한결같이 밝았고  우리 같은 외지인은 그들에게 호기심의 대상일 뿐이었습니다  그들에게 히말라야는 말 그대로 신들이 사는 신성한 땅이고  삶의 터전이었습니다 히말라야에서의  개월은 제겐 배움과 성찰의 시간이었습니다  산은 움직이지 않았습니다  언제나 그 자리에 있었고  수많은 사람들이 움직였을 뿐입니다  고산증에 시달린 저를 돌봐준 파키스탄 부니마을 가족들  결혼 잔치에 불러준 훈자 마을사람들  하루 종일 공사장 돌을 깨고 달러를 버는 소녀 일꾼들  불안 속에 살면서도 따뜻한 눈길을 건네 준 카슈미르 분쟁지역 주민들  깊은 산중에서 학교도 못가고 양치기로 살아가는 아이들 m 고산에서 kg가 훨씬 넘는 내 짐을 짊어줬던 포터들  낯선 이방인의 카메라에 따뜻한 미소를 보내 준 그 모든 분들에게 이 지면을 빌어 감사의 마음을 전합니다 산을 몰랐던 저를 히말라야까지 동행하게 해준 박정헌 원정대장과 대원들  이들의 도움이 없었으면  개월의 설산소요 는 가도 가도 막막한 길이었을 것입니다  히말라야 유랑을 허락해준 회사와 묵묵히 격려해준 선후배 동료  지인들께도 고개 숙여 감사드립니다  원정 기간 내내 물적  기술적 후원을 아끼지 않은 캐논 코리아 컨슈머 이미징 강동환 대표님과 노스페이스 성가은 이사님께도 감사드립니다  그리고 밖에만 돌아다니는 저를 언제나 따뜻하게 맞아 준 아내 김선해와 아들 이산하에게 고마움을 전합니다   국대호 파리  뉴욕  로마 등 여러 도시를 여행하며 작가의 심미안으로 찾아낸 순간의 인상을 포착하여 화폭에 담아내는 국대호 작가의 개인전이 분당 수호갤러리에서 열린다  이번 전시는 년에 이은 수호갤러리에서의  번째 개인전이다  매년 각기 다른 도시시리즈를 선보였지만 이번 개인전은 도시 시리즈 외에도 국대호만의 색채에 대한 끈질긴 탐구를 엿볼 수 있는 젤리빈 시리즈의 여러 신작을 만나볼 수 있어서 더욱 흥미롭다 국대호는 서울대학교 미술대학 서양화과를 졸업하고 파리 국립미술학교 및 파리  대학교 대학원 조형예술학과를 졸업하였다 년경  그는 구상적 재현에 대한 미련을 잠시 내려놓았다 년까지 약  년에 걸쳐서 단순화된 화면을 추구하는 과도기를 거치다가 작은 캔버스들을 택해 개별적으로 색채작업을 한 후 전시공간에 따라 패치워크 하듯이 모아 벽에 배열하기도 하고  커다란 하나의 화면을 분할하는 색면추상  색과 색 사이의 뉘앙스를 보여주는 스트라이프 작업까지 여 년간 회화의 본질에 대한 연구를 거듭했다  현재의 도시시리즈나 젤리빈 시리즈가 나오기까지의 연구과정이 그간의 여년에 고스란히 묻어있다고 해도 과언이 아니다 도시풍경에서 보여지는 극적인 구도와  빛의 적절한 사용을 통한 감각적인 색채  달콤하고 몽환적인 젤리빈의 형상을 통해 작가는 그 나름의 어떤 감정을 제시한다  제시하고 질문하여 관람객 스스로의 내면과 감정 속에서 정답을 발견하도록 돕는 역할을 도시 젤리빈 를 통해 표현하는 것이다  이것이 작가가 그토록 오랜 시간 추상과 구상을 넘나들며 끊임없는 연구를 거듭한 까닭이다  최근 년 월 마이애미에서 열린 REDDOT ART FAIR 등의 국제아트페어에 국대호의 도시시리즈  뉴욕  로마  맨하튼 등 가 출품되어 전세계 컬렉터 및 관람객들에게 그의 탁월한 실력을 주목 받은 바 있다 시간이 축적되어 오면서 자연스럽게 형성된 도시만의 색채  그리고 색채에 대한 끊임없는 탐구로 얻어진 회화의 가능성에 대한 도전인 젤리빈의 달콤하고 따뜻한 색채의 유희와 함께 감성이 따뜻해지는 시간이 되기를 바랍니다   Pretty in Pink 정치영 정치영의 회화는 여느 포토리얼리즘 작가들처럼 사진이 모티프다  그런데 그의 회화 속 사진 이미지는 흔히 보는 포토리얼리즘 회화와 달리 좀처럼 말을 하려고 하지 않는다  마치 닮기 경쟁이라도 하듯 잔혹할 정도로 묘사적이고  자극적인 포토리얼리즘적 속성이 그의 회화 속에는 없다  오히려 작품을 보고 돌아서는 순간  그 아련한 영상마저도 캔버스가 삼켜버릴 것 같다  정치영 회화의 이러한 특징을 회화적  잔영 이라고 부른다면 무리가 있을까 정치영 회화에서 이 잔영 은 그에게 있어 두 가지 중요한 점을 시사한다  하나는 포토리얼리즘에 있어 회화와 사진의 모호한 경계를 분명히 하는 것이며 또 하나는 그 혹은 우리 의 의식 속에 자리 잡았던 영웅을 제거하는 일이다  이 두 가지는 방법과 소재 주제 라는 측면에서 맞닿지 않는 평행선상에 있지만  정치영은 이  잔영 을 통해 이 두 가지의 속성을 하나로 묶어낸다 수백 년간 이어온 회화의 시각적 재현에 대한 절대적 위상은 사진의 등장 앞에 허무하게 무너져 내렸다  회화의 오만함은 과학적 테크놀로지 앞에 무릎 꿇고  사진은 마치 회화의 거대한 역사를 조롱하듯 회화를 밀어내고  닮기의 제왕으로 군림한다  하지만 다행히 사진과 회화의 닮기 전쟁은 회화의 목적이 닮음이 아니라는 점을 깨닫게 해준 중요한 계기를 제공했고  회화는 새로운 회화적 환경 모색을 위해 이합집산을 이루며 여러 가지 실험을 단행한다  급기야 그 실험은 사진을 회화로 끌어들이는 포토리얼리즘에까지 다다랐다 이러한 현상은 사진도 예외는 아니어서 이제 회화는 사진을  사진은 회화를 닮아간다  물론 회화에 있어서 포토리얼리즘은 단순한 사진 닮기가 아니다  사진이라는 미디어를 통해 새로운 환경을 제시하는 것이라고 보아야 더 정확할 것이다  하지만 최근에는 그 경계가 모호하여 포토리얼리즘 본연의 의도와는 달리 형식적인  사진 닮기 에 초점을 맞추고 있다는 인상을 지울 수 없다 정치영은 여기서 그 경계를 분명히 한다  사진을 모티프로 하지만 사진이 잡아낼 수 없는 회화적 영역에 주목한다  특히 정치영이 추구하는 사라지는 듯한  잔영 의 중간 색조는 카메라 렌즈가 광학적으로 잡아낼 수 없는 미묘한 색채 조합과 변화로 이루어졌을 뿐만 아니라 파스텔 톤의 단색조 이미지 구축은 회화이기에 가능한 것들이다  그것이 데이빗 호크니적인 회화적 사실주의를 지향하지 않는 정치영의 포토리얼리즘이 단순한 사진의 재현으로 느껴지지 않는 결정적 단서들이다  그 과정을 통하여 그는 포토리얼리즘의 회화적 가능성을 확장하고 있으며  회화적 순수성을 획득하려 한다 이러한 회화적 가능성은 시대의 영웅을 없애고자 하는 정치영의 궁극적인 예술적 목표에 힘을 실었다  그의  영웅 들은 그의  잔영 과 함께 그의  회화  속에서 처절하리만큼 애처롭게 희뿌연 안개 속으로 사라진다  어린시절  세상을 구원할 희망처럼 여겼던 영웅 그것은 영화 혹은 만화 속의 캐릭터일 수도 있고  역사 속의 인물일 수도 있고  정치가일 수도 있고  나날이 발전해 가는 과학기술일 수도 있다 매스미디어의 범람 아래 우리가 동경해마지 않았던 그 영웅들이 현실 속에서 더 이상 현실이 아닌 한갓 가공된 영웅임을 깨닫게 되었을 때의 허탈감이 그의 회화 속에 녹아 있다  그 표현이 강력한 메시지가 아니라 현상을 왜곡하지 않은 아련함이기에 더 애절하다  차마 영웅을 부정하지 못하고 잔영 을 이용하여 존재 자체를  없음 의 상태로 환원시키려는 작가의 염원이 엿보이기 때문이다  자신이 그토록 믿고 의지했던 영웅이 자신의 손에 의해 퇴색되고 사라지고 있는 것이다 이번 전시는 정치영이 자신의 회화에서 포토리얼리즘의 회화성 획득과 영웅의 제거라는 두 가지 과제  혹은 그 이상의 과제를 풀어가는 과정에 있다  회화적 잔영  처리와 단색조의 화면 구축은 과정으로서의 소기의 목적에 도달하고 있지만  여전히 이 문제들은 그의 삶과 회화  더 나아가서는 현대미술이 풀어야 할 과제들로 남아있다  여기서 지금 이상의 무엇을 바라는 것은 그가 제거하고자 하는 또 하나의  영웅 을 만드는 일인지는 모르겠지만  다시금 회화의 옛 영광을 되찾고자 하는 것이 아닌 회화성 획득이라는 회화 고유의 과제를 풀 수 있는 그 날이 기다려지는 것은 막을 수 없을 것 같다   Interactivity space 상호작용성 공간 Interactivity space  이라 명하는 이번 전시에서는 무의식적으로 지나칠 수 있는 자기중심적 가상공간의 침식으로 이한 현 대인관계의 생태적 양상에서 두드러지는 문제를 제기한다  컴퓨터 테크놀로지를 이용한 미디어는 인터넷 네트워크의 발전에 힘입어 사람의 생태계에 깊숙이 스며들게 되었다  랩톱  태블릿  스마트폰과 같은 개인미디어장치는 시간과 장소에 구애 받지 않는 가상공간의 접속으로 가능케 했으며  사람의 생태는 물론 생활방식의 이변을 만들어내었다  이것은 매우 유용하고 편리한 소통 매개로 자리 잡고 있다  하지만 가상공간의 잦은 접속은 현실공간에서 소외된 소통 공간의 고립을 발생시키는 불리한 점이 있다 이러한 미디어의  상호작용성 의 근본적인 맥락은 본래 대인관계에서 일어나는 소통을 모티브로 설계되었지만 소통을 위한 기술이 소통을 단절시키는 오늘날의 상황은 어디에서나 볼 수 있다  주의를 돌아보라  사람과 사람이 대면하는 독립된 한 장소는 물론  길을 걷는 사람의 시선도 주변 환경보다는 손에 들려있는 작은 모니터 속에 몰입되고 있음을 목격할 수 있다  대인 소통의 단절은 오히려 독립된 자기중심적인 세계관으로 만들어진 가상공간을 만들어 냄으로서 현실에서의 물리적 억압을 벗어날 수 있는 이점으로 인식되고 있다  그러므로 미디어의 대인관계성은 지속적인 의식 고립화를 악화시키게 된다 상호작용성 공간 Interactivity space 은 메마른 현 사회의 단절되는 소통문제를 풀어나가는데 의미를 갖고 있다  작품은 시청각 표현 매체와 디지털테크놀러지의 긴밀한 조율을 이루어낸다  전시장의 공간성과 동선에 반영되어 설계된 오브제는 알루미늄 베이스와  면의 다중레이어로 구성된 반투명스크린으로 제작되어 공중에 설치되며  이를 투사하는  개의 빔 프로젝터의 영상 속에는 관객의 행위  시간  위치에 따라 전시 구성요소가 교감을 하게 되는 텍스처가 담겨있다  공간을 가득 메우는 영상과 사운드의 일체성은 상호적 공간에 대한 몰입을 할 수 있는 선 조건으로 중요시 되었다  또한 이번 전시는 동등한 주제를 가진 세명의 사운드아티스트 Keig Travus  Sound Tschaan의 협업으로  상호작용성 공간  공유하는 현대미술의 융합성을 보여준다   삶의 향기 김숙 전북도립미술관 서울관에서는  김숙 개인전 을 개최한다  이번  삶의 향기 전은 김숙 작가의  번째 개인전이다  작가는 전북대학교 교육대학원에서 미술교육을 전공하였다  한국미협 회원전  전라미술제초대전  전북인물작가회전  한일 초대작가교류전  한중 현대미술교류전 영호남 미술교류전  전북여류화가회 회원전  미협여성위원회 회원전 등 국내외 단체전에 여회 참여하였다  현재 전북여류화가회 회장  한국미협 전북여성위원회 재무이사  전북미술대전  대한민국미술전람회 초대작가  한국미협  전북인물작가회 회원 등으로 활동 중이다 계절이 지나면서 땅은 가뭄이 지기도 하고  눈과 비를 맞는다  서리를 맞고 천둥과 바람에 맞서 싸우며 자연의 섭리를 이겨내 결국 생명을 담아내는 것이다 이렇듯 우리 주변에서 볼 수 있는 자연은 인생의 모습과 같다고 할 수 있다  작가는 새싹과 같이 여리고 약한 존재 속에서 희망과 꿈들을 찾아 화면을 가득 채운다 작가는 유화의 자유스러운 터치의 중첩 또는 비움으로 자연의 깊이를 표현한다  캔버스 위에 변화하는 자연의 모티브들과 색들은 자유롭게 어우러져 어느 부분은 마치 수채화와 같은데 그것은 얇은 터치로 그려져 공기와 바람이 흐르는 듯하다  유채화의 맛이 고스란히 보여 지는 부분은 성실한 터치들이 쌓여 단단한 흙과 돌의 모습을 보여주기도 한다 화면 안의 풍경들과 아이들 그리고 인물들은 삶의 향기를 가득 안고 있다  온 들녘을 황금빛으로 물들이고 온 강산을 다채롭게 수놓은 들풀들과 꽃들의 짙푸른 녹음은 인간 삶의 아름다운 모습과도 같다  작품 속의 모든 것들은 희망과 삶에 대한 강한 의지를 가지고 하루하루에 대한 소중함을 말하고 있다 작가는 찬 대지 아래서 한기를 견뎌내며 인고의 시간과 성찰의 시간 그리고 실패와 절망  고통의 시간을 견디어 내고 한층 더 성숙해지는 모습을 우리 인생의 모습에 비유한다  이번 전시에서는 장미  소녀  가을 들녘  붉은 노을  싱그러운 꽃 등 모든 자연 안에서 삶의 여정으로 안내할 것이다   줄 수 있는 것  팔 수 있는 것  주거나 팔 수 없지만 보존해야 하는 것 남동현 살아있는 양 이 무대에 등장한다  남동현의  줄 수 있는 것  팔 수 있는 것  주거나 팔 수 없지만 보존해야 하는 것 은 자본주의 사회를 움직이는 원리에 대해 이야기하는 퍼포먼스이다  자본주의 사회에서는 살아있는 양 조차도 여타의 사물과 마찬가지로 광고에 사용되거나 상품화 된다  주변에서 흔히 만날 수 있는 상품화 된 양의 이미지 예를 들어 분유  증권회사의 광고 를 살펴보고 교환 가치만을 강조하는 자본주의 사회의 일면을 보여주고자 한다  문래예술공장에서 발표할 이 퍼포먼스를 위해 남동현은 경기도 모처에 양의 축사를 짓고 약  개월 간 양과 함께 생활하였다  남동현은 양과 함께 무대에 올라 상품으로서의 생명체의 교환 가치만을 강조하는 자본주의의 원리에서 벗어나 모든 생명체의 존재 그 자체와 그의 영혼을 존중한다는  증여 의 가치에 대해 이야기하고자 한다   적응기제 adjustment mechanism 이번 작업은 동물원에 사는 동물들의 상처와 고립감을 표현하는 작업을 통해 인간의 삶의 조건을 투영하고 이를 사유해보게 한다 작가는 사진 매체를 활용한 참신한 시도를 통해 자신만의 독창적인 조형 언어와 예술적 잠재력을 확인시킬 것으로 기대된다 전시에서 보여진 사진 작업들은 한편으로는 현실의 대상을 카메라로 충실하게 재현해내며 사진적 행위의 결과인 사진과 대상의 지표적 관계에 기초한 기록적 접근을 보이면서도 다른 한편으로는 대상성 및 현실 인식에서의 자각 그리고 주관적 감성영역으로의 확장된 사고를 통해 현실에 기원을 갖는 사진적 기호들을 또 다른 층위의 코드로 재창조해냄을 인지하게 한다 작가가 작업을 시각하게 된 동기는 우연히 방문한 동물원에서 창밖을 바라보는 동물의 눈에 눈물이 맺혀있는 모습을 보게 된 것으로부터였다  이후 동물원에 사는 동물들의 모습을 통해서 그는 자신의 본능대로 살 수 없는 동물들의 삶에 대해 자각하게 되었다  동물원이라는 환경에 적응하며 살아가야하는 동물들을 대면한 가운데  이 동물들만의 상실감과 상처에 대해 생각해보게 되었고 이를 작업으로 시각화하게 된다 물론 현재의 작업에서 우리 눈에 확연히 각인되는 것은 동물이지만 이러한 동물들은 한편으로는 인간 군상의 메타포 metaphor 일 수 있다  사진작가인 베티나 하인즈 Bettina Rheims 가 동물들의 포트레이트를 찍은 사진들과 인간의 모습을 찍은 사진들을 보며 느꼈던 동물과 인간이 유형이라는 측면으로 바라볼 때는 동질화되어 보일 수 있다는 사실과 유사한 맥락이 이 작업에서도 발견된다 작가가 작업의 제목으로 내세운  적응기제  란 심리학적으로 두렵거나 불쾌한 일 또는 욕구 불만의 상태에 부딪쳤을 때 자기 자신을 지키기 위해 자동적으로 취하는 적응 행위를 뜻하는 용어이다  사람은 누구나 적응 기제를 가지고 있으며 이를 방어 기제 라고 부르기도 한다  동물들 역시 자신을 스스로 지키기 위한 본성을 가지고 적응하며 살아가고 있음을 이 단어는 단적으로 드러내고 있다 사진에서는 시간의 경과를 나타내는 빛바랜 색의 톤이 어렴풋이 보여지고 있는데  이는 마치 오래된 물건이 낡으면 색이 변질되듯이 동물원에서 살고 있는 동물들 이 그곳에서 상당 기간을 지내왔음을 나타내는 시간의 축적에 관한 은유적 표현이 된다  또한 작가는 사진 표면의 스크래치를 통해 자신의 본성을 잃은 동물들의 내면적인 상처를 표현하고 있다 누군가를 바라본다는 것은 그 안에 주체  대상  타자  세상이라는 관계의 틀을 상정하게 한다  관객의 시선을 외면한 동물들의 슬픈 눈빛들은 이러한 관계망에서 한편으로는 소외되고 고립된 타자의 존재를 확인시켜준다 이 작업의 형식적인 표현 양태들은 위트킨 Joel Peter Witkin 의 사진을 떠올리게 한다  위트킨은 신화나 전설에서 찾은 어떤 모티브를 해체하여 죽음과 육체  성 등의 주제를 다루며 매우 기괴하고 추한 방식으로 인물들을 드러내는 방식으로 인간의 기본적인 삶의 조건들에 대한 사유를 심화시켜낸다  또한 그는 현상과정에서 일부러 표면이 긁히거나 내면적인 상처들을 스크래치를 통해 형상화하고 여기에 갈색의 색감을 덧붙여내며 극적인 분위기를 고조시켜 비정상적인 신체를 가진 사람들 혹은 작가 자신이 받은 상처와 아픔을 표출한다 사실상 이 작업에서 드러나듯이  동물원은 일종의 사회적 구조 혹은 체계로 간주될 수 있고 이런 의미에서 동물들이 받은 상처는 인간의 그것과 크게 다를 바 없을 것이다  또한 표면에 드러난 스크래치 자국들은 대상을 마치 박제된 것 같은  죽음의 이미지의 문턱에 다가가게 하며 사물의 이면을 통찰하는  아무도 눈치채지 못하고 간과하게 되는 겉으로 표상되지 않는 것들  그 기저의 흐름을 함축적으로 드러내고 이러한 과정은 삶과 죽음을 넘나드는 인간의 삶의 의미에 대해 사유하게 한다 본 전시는 작가가 어떠한 예술적 개념을 정초하고 시각적 언어를 통해 자신만의 관점을 창출해내는 지를 바라볼 수 있는 기회를 제공함과 동시에 차후에 사진 분야에서 중추적인 역할을 담당하게 될 작가로서의 단초를 발견하게 하는 소중한 기회를 제공할 것이다   가족 여전히 유효한 희망의 윤리 모든 윤리적 구성의 핵심은  물신주의적 부인 fetishist disavowal  이라는 제스처에 의존하고 있다는 슬라보예 지젝 Slavoj Zizek 의 지적은 상당부분 일리 있는 진술이다  그는 냉전시대의 비극들  예컨대  소련의 상황이 끔찍한 것을 알지만  난 여전히 소비에트 사회를 믿는다 같은 것을 상기시키면서 모든 윤리는 현실을 냉정한 판단기준으로 삼아야하는 기본명제마저 허물어뜨리는 맹목적인 부인  곧 물신주의적 부인에 의존한다고 주장한다  모든 윤리는 한계를 설정하고 어떤 종류의 고통은 묵인할 수밖에 없는 전제 안에서만 가능하다는 것이다  더욱이 보편적인 윤리일수록 더더욱 그러한 맹목성을 요구한다는 것이다  지젝은 더 나아가  보편성을 명백하게 겉으로 내세우는 윤리 일수록  더 근원적으로 물신주의적 부인의 형태를 띠면서 난폭하게 타자를 배제하고 있다는  삐딱한 결론에 도달한다  지젝이 광범위하게 적용하기를 원하는 이러한 윤리 담론의 범주에  가족 윤리  가 전형적인 주제로 포함될 수 있다  명시적인 형태의 폭력 자체뿐 아니라  그 폭력에 대한 사회적 관용이나 묵과  은폐에 가정이라는 보편윤리가 크게 작용한 것이 사실이고  따라서 오늘날 가족윤리는 그 안에서 보호되어 온 폭력의 양상들과 함께 과거의 어느 때보다 냉엄한 비판의 도마에 올라있는 것이 사실이다  이런 세태의 맥락에서 가족을 주제로 하는 최인호의 세계는 폭력에 대한 통상적인 무감각과 결부된 것으로 쉽게 간주될 수도 있을 듯하다  그만큼 그의 세계를 지지하는 윤리담론은 앞서 언급한 시의적인 윤리담론과 명백하게 상충한다 아버지 등에는 지키지 못하는  형제 선물이 되어주세요 아버지 와 같은 작품들에서 알 수 있듯 적어도 현재까지 최인호의 변함없는 주제는 가족이며 가족에 대한 사랑이다 아버지 등에는 에서 아버지는 넓고 건장한 등으로 아마도 어린 시절의 작가인 듯해 보이는 아이를 안전하게 업고 있다  아버지의 등 뒤로 전개되는 불꽃놀이와 알록달록한 식물로 가득한 놀이공원의 정경에는 아이의 행복한 심경이 반영되어 있다  중요한 것은 최인호의 가정이 지엽적인 물신주의적 부인의 윤리를 훨씬 능가하고도 남을 만큼의  사랑의 윤리 진정한  희망의 윤리 는 여전히 유효하며 유일한 출처로 작용하고 있다는 사실이다 가족을 그리면서 자연스럽게 가족을 생각하게 되고 나도 모르게 부모님에게 죄송하다는 생각이 들기 시작했다 그러면서 그 동안 잊고 지냈던 우리 가족의 희로애락을 다시 한 번 생각하게 되었다  웃음이 나기도 하고 가슴이 꽉 조여지는 순간도 있고 눈에서 초점이 흐려지는 순간들도 있다  이런 것들을 하나하나 표현해 나가면서 보편적인 가족들의 이야기도 함께 이야기 하게 된다 아버지와 나 그리고 현주 에서 최인호는 아버지의 어깨에 앉혀 있다  마치 롤프 뢰블란 Rolf L vland 이 편곡한  You raise me up 의 한 부분처럼  그 어깨 위에서 그는 훨씬 더 그 자신일 수 있으며 자신이 할 수 있는 것 이상의 것을 할 수 있게 된다  아버지와 그는 불가분리의 관계다  아버지로부터 나온 어떤 관이 어깨 위의 아이에게 연결되어 있다  아이들을 지탱하기 위해 아버지는 사이보그도 마다하지 않을 듯하다  언젠가 지젝이 한 인터뷰에서 자신의 아들과 함께 컴퓨터 게임을 했던 경험에 대해 이야기한 적이 있다  적어도 아직은 아버지가 사랑의 시선과 헌신적인 보호 안에서의 놀이경험을 제공하는 대체 불가능한 출처며  어머니와 형제들이 함께 머무는 가정이 양육과 성장에 있어 대체 불가능한 장소라는 사실 그것이 최인호의 세계  목판화와 페이퍼릴리프 기법을 이용한 저부조의 세계에 담지 된 윤리담론의 핵심이며 되새겨야 할 의미이기도 하다   생명에의 외경 혹은 그리움 오야마 타다시의 벽에 대한 명상 생명에의 외경 은 A 슈바이처가 세기 초 아프리카의 랑바레네에서 살면서 살아있는 존재에 대한 건실한 애정과 삶에 대한 건전한 열망을 이렇게 표현한 것이다  무릇 살아있는 모든 것에 대한 상해와 살상을 멀리하며 생명을 돕고 고양시키는 것이야말로 참된 인간으로서의 자기완성의 윤리이며 도덕의 기준이며 정당하고 정의로운 사회를 만들어가는 최고의 윤리이기도 한 것이다 부산과 가장 가까운 일본 본토의 도시인 후쿠오카에서 북큐슈 쪽으로 차를 타고 달려 약  시간 정도 가면 작가 오야마 타다시의 작업실이 있다  작은 공장의 작업실을 연상케 하는 그의 작업실에는 캔버스보다는 철근이나 스티로폼 그리고 경화제와 텍스츄어 효과를 내기 위한 약품류류 그리고 전기톱이 달려있는 선반과 그 위에 재단 을 기다리는 긴 나무들이 겹쳐있었다  때마침 교회 설치를 위한 이콘화를 제작중이어서 평소 그의 작업이 종교적 색채와는 거리감이 있다는 생각이 얼핏 들었다  물론 그 이콘화는 다분히 현대적이며 디자인적 요소가 가미된 작품으로 아직은 기초단계에 있던 것이었다  그의 작품의 주요 재료는 스티로폼 위에 합성수지로 강화작업을 하고 사진작업을 거친 이미지를 실크 스크린으로 전사해서 보여주는 것으로 손으로 그린 흔적은 찾을 수가 없다  게다가 이미지의 합성작업은 컴퓨터로 이루어진 것으로 사람의 힘과 기를 직접적으로 통해 느껴지는 작업은 아니다  게다가 화면의 옆에는 몸 밖으로 흉측하면서도 적나라하게 드러난 뼈처럼 여기저기 꽂혀있는 철근 뼈대들  어쩌면 폭파되었거나 철거되어 부서진 후 방치된 벽의 한 부분처럼 보이는 그 을씨년스러움과 세련된 색채와 형체가 화면 위에 얇게 올라와 있는 그 기막힌 부자연스러움은 여느 작품에서 느껴보기 힘든 독특한 경험이었다  그런데 교회의 이콘화라니  도대체 그의 어떤 생각이나 정신이 그로 하여금 교회의 이콘을 그리게 했단 말인가  일본에서 돌아오는 동안 이 생각은 한동안 사라지지 않다가 마티스의 니스성당 벽화를 떠올리며 이렇게 생각을 정리했다  아마도  살아있음에의 경의 고대 그리스의 격언 중에  여러 사람들이 벽에 뱉어놓은 침 자국을 유심히 관찰하는 것은 예술가에게 매우 유일한 일이다 라는 말이 있다  침을 뱉는 자국은 더럽고 불결해 보일지도 모른다  그러나 그 얼룩진 자국들은 오랜 시간을 지나며 인간의 냄새가 가장 모질게 베어든 생명감 있는  벽 으로 변모하게 될 것이다  일반 사람들의 눈에는 불결하기 짝이 없고 근처에도 가기 싫은 장소이지만 예술가의 눈은 그 속에 들어있는 인간의 갖가지 내면들을 발견해내고 예술적인 감각으로 성찰할 줄 아는 힘을 가져야 한다는 것이다 우리는 지금까지 인간들이 만들어낸 많은 벽들을 보아왔다  그  벽 들은 주로 소통을 방해하며 인간을 인간답지 못하게 만드는  벽 들이었다 이런 점에서 오먀마 타다시의 벽은 뱉어낸 침보다도 못한 인간의 원색의 효과로 풍성한 색채감을 의도적으로 주입시킨다  그가 직접적으로 보여주는 형태와 색상들은 이제 그 자체로서만으로 끝나기 보다는 벽을 매개로 이러한 이야기를 들려주는 것이다  이 이야기들을 이해하는 것은 이러한 벽을 허무는 작업이며 우리가 넘어야 할 벽이며 이해와 사랑에 대한 의미있는 그리움이다   EPOQUE FRIENDS II 가까움 갤러리 에뽀끄에서 EPOQUE FRIENDS 전을 개최한다  에뽀끄 EPOQUE 란 시대라는 뜻으로 갤러리 에뽀끄는 현대 미술의 향 이 피어나는 공간으로 이 시대 문화를 선도하는 예술의 장이 되고자 하는 의미이다  이번 전시는 작년에 이어 두 번째로 맞는 릴레이 전시이다  에뽀끄와 함께했던 시대 문화를 선도하는 작가들의 작품을 다시 한 번 만나 보는 기회가 될 것이다 동심의 세계로 초대하는 김은기작가  자연의 숨결을 따라 마음의 쉼표를 새기게 해주는 이상희작가  색한지가 겹겹이 쌓여 만들어내는 자연의 이치를 담은 전경호 작가  따스한 오후의 감성을 자극 하며  쌓다 라는 행위에 주목하는 최현희작가의 견고면서 다정하고 친근한 그림들을 볼 수 있다 이와 함께 작가지원 프로젝트 를 통해 만나본 작가들의 참신하고 새로운 작품을 전시할 예정이다  안효정 작가는 자연과 인공  평면과 부피감 이처럼 대조되는 형상에서 미를 창출한다  양희애 작가는 양가적인 감정에 대한 고민을 불안한 대칭을 통해 나타내고  에너지 넘치는 색들의 레이어로 형상을 완성한다  거리의 나뭇가지에서 현대인의 메마른 감성을 보고 실과 구슬로 엮어서 새로운 아름다움을 표현하는 장서희 작가 카드  속의 인생의 희로애락  선택의 기로를 캔버스에 옮기는 전병택 작가  뿌연 기억의 파편을 잔에 담아 간직하고자 하는 주혜진 작가  이들의 참신한 조화에 주목할 만한 전시 일 것이다   아날로그 흔적 손홍미   마음 속의 천국 년도 겨울에서 봄을 이어주는 전시로 예화랑에서 마음 속의 천국  부제  어느 컬렉터의 이야기 을 준비하였습니다  미술시장의 필두에는 작품을 컬렉션하는 부를 획득한 자본가들이 존재합니다  이른바 아트 컬렉터라 불리우는 그 중에서도 슈퍼컬렉터라는  억만장자 아트 컬렉터 그들은 세계미술시장 피라미드 정상에 군림하면서 작품에 얽힌 이야기 만으로도 가격을 좌우하는 막대한 영향력을 행사합니다 그들은 작품가 최고가 경신이라는 타이틀로  때론 전 세계 언론에 집중조명된 작품을 스포트라이트를 받으면서 미술시장에서 보여지는 그들의 행동은 주목받기 마련입니다  항상 부자들의 마지막 취미라 불리며  미술작품을 돈으로 살 수 있는 마지막 가치라 부릅니다 그들은 늘 자신이 소유한 작품 수준이 세계 어디를 가든 전 세계네트워크와 연결시킬 것이라는 확신으로 특권층 중에 특권층으로 매우 차별화된 사람으로 자신감에 넘쳐있습니다  이들이 과연 예술작품 하나하나의 의미에 큰 관심과 사랑이 있을까요 하지만 여기 예화랑에서 모시는  이명숙 세 이란 이 한 분의 여성 컬렉터는 시대의 유행과는 무관하고 돈의 가치와는 거리를 두는 진정성과 진심을 다한 예술에 대한 사랑만으로 예술작품  예술작가  예술 이야기를 아날로그 감성으로 풀어 내며 깊이있는 예술 사랑을 미술작품 컬렉션을 통해 보여주는 이가 있습니다  이명숙 선생님의 컬렉션은 여년 전으로 거슬러 올라가게 됩니다  그림 그리시는 아버지 이 준 화백 대한민국 예술원장 역임 일본 태평양미술학교 서양화 학사를 거쳐 이화여대 미술대 교수  예술원 회원 서양화 현대미술초대작가 선정위원  한국미전 운영위원장  한국미술협회 회장 예술의전당 비상임이사  서울올림픽조직위원회 세계미술제 운영위원을 지낸바 있음 의 영향으로 집 안 곳곳에 있는 미술서적과 그녀의 삶에 자연스럽게 자리잡은 모태신앙과도 같은 아버지의 물감냄새는 어쩌면 너무나도 당연하게 그녀가 그림을 좋아하게 된 계기를 선사했을 지도 모릅니다  이렇게 인연이 되어 어느새 소리없는 문화비평가라고 일컬어지는 진정한 컬렉터 중의 한 분이 되어 수집한 작품 여 점  한점 한점과 그 작품들 속에 각각의 의미와 추억의 나열은 보는 이의 마음까지 감동으로 물들입니다  그림이라는 것이 언제부터인가 돈이라는 생각으로만 가볍게 치부되는 듯 서글픈 현실 속에서 이명숙 선생님만의 뚜렷한 소신과 문화예술 사랑의 마음으로 회화  조각  공예 사진 작품 등등 여러 장르를 모두 아우르는 다양한 작품 들 속에 그녀의 삶도 함께 녹아있는 듯 합니다  작품을 향한 지극한 애정의 시선과 소녀 같은 진솔한 그녀만의 감성 그리고 꽃같이 순수한 마음이 진정으로 많은 작품들의 인연을 더 돋보이게 합니다  이 모든 것들을 예화랑 전시를 통해서 보여드리고자 합니다 이번 전시회에 출품되는 여점 중에  선회 이준  Oil on Canvas x cm 는 아버지의 작품으로 본인의 마음의 고향이라고 말합니다  육체와 영혼이 자유로운 작가  몽마르트의 지붕 이청운  Oil on Canvas x cm 의 작품을 비롯 작고작가 문신  남관  조병덕  이응노  권옥연  전혁림 등 의 작품 그리고 태피스트리 작가 이기순 황주리  이진용  이정웅  곽훈  오수환  천성명 등 왕성한 활동으로 한국화단을 빛내고 있는 작가들의 작품들과 작품 속에 컬럭터와의 숨은 이야기들로 작품을 감상하는 또 하나의 재미를 더해 줍니다  살바도르 달리  리날도 비지  마크 부르스  소토  펑정지 장샤오강  쩡판즈 등 외국작가들과의 만남과 그녀가 생각하는 작품의 의미도 기대해 볼 만 합니다 아직도 한국 사회에서는 대부분의 컬렉터들이 신분 노출을 매우 꺼립니다  컬렉션을 돈 많은 사람들의 특이한 재테크나 별난 여가 활동으로 여기는 편견이 있기 때문입니다  개인 컬렉터들을 광장으로 이끌고 다양한 컬렉션 문화가 꽃피려면 컬렉션을 단순한 투기수단이나 돈 자랑의 도구로 보는 사회적 시각부터 바뀌어야 합니다  간송 전형필 같은 뛰어난 컬렉터들은 우리 문화에 빛을 더해 준 공로자들입니다  컬렉션이 풍성해질수록 미술관이나 박물관의 기초체력도 튼튼해지고 언젠가 많은 사람이 감상할 기회도 늘어납니다  진정한 컬렉터의 힘은 궁극적으로 공유 하는 데서 나오는 것임을 컬렉터들도  대중도 깨달아야 한다는 것이 이번 전시의 핵심일지도 모릅니다 어떤 컬렉터가 될 것인가  그리고 컬렉터를 어떻게 바라볼 것인가  그 해답의 단서를 예화랑의 이번 전시를 통해서 개인의 년 가까이 한 컬렉션 역사와 긴 여운을 남기는 작품 감상을 통해서 찾아 보시길 바랍니다  마지막으로 치과의사의 삶과 문화예술인의 진정한 조력자 역할을 함께 수행했던 이명숙 컬렉터의 진정한 컬렉션을 감상하시며  마음 속의 천국 은 우리가 마주하는 예술작품에 대해서 의미를 부여하고 인연을 만들어 나갈때 더 없이 풍요로와 지는 것이라 생각합니다   Aporia 아포리아 Aporia  시리즈는 롤랑 바르트 Roland Barthes 의 책  사랑의 단상 A Lover s Discourse  을 모티프로 한 작업이다  흔한 사랑의 언어들 이면에 있는 공허함과 쓸쓸함을 표현하기 위해 네온으로  Why I love you with all my heart  등의 텍스트를 제작해 풍경에 직접 설치해 촬영했다  진부한 사랑의 문구들이 적막하고 황량한 공간과 만나는 통렬한 아름다움의 순간을 표현함으로써 현대인의 고독과 비애  그리고 어떤 논리와 철학으로도 해결할 수 없는 사랑 의 딜레마를 전하고자 했다  아포리아 Aporia 는 그리스어로  막다른 곳에 다다름 이라는 뜻을 갖는데  여기서는  사랑 이라는 난관에 부딪힌 딜레마를 함축하고 있다  이번에 선보이는  P S  I Love You 와  How Could You Do This To Me 역시 되풀이되는  내면의 공허한 울림을 표현하고 있다   님 그림자  이야기 같은 풍경 현대의 예술은 많은 경우에 있어 일상적 환경을 담는 부분을 이용하며 전유하게 된다  모두가 공감 가능한 현실 속의 시 공간을 반영하여 작가만의 시각을 갖는 사회적 현상들로 이러한 예술 작업은 보는 이에 묘한 여운을 남긴다  대중의 실생활과 함께 유기적으로 상호작용하고 침투 되는 작업  예술의 풍부한 상상력  문화  환경으로 구성되는 작품은 지금 우리에게 익숙한 풍경이다 이야기 같은 풍경  은 각기 다른 색과 톤으로 바라보고 느끼는 작가들의 내밀한 사유를 보여주는 내면의 풍경을 다룬다  신선한 감각으로 표현된 다양한 작품을 대중들과 함께 나누어 볼 수 있는 좋은 계기가 될 것이다 김민희 나의 작업은 개인적이자 사회적인 사건에 대한 기억의 장면을 꼴라주 하듯 이어 붙여 새로운 장면을 연출하는 것으로 시작한다  재조합된 나의 화면은 파편적이고 주관적이며 끊임없이 변형되고 재조합되는 기억의 중요한 속성을 그대로 반영한다  각 개인들이 소유하는 기억에는 개인적인 사건의 기록과 사회적 사건의 기록이 존재한다  기억은 개인이 속한 사회와 정치  문화적 영향 하에 있으며 다양한 기제에 의해 재조합 되고 변화하며 망각되어지기도 한다  언젠가는 사라지지만 잊고 싶지 않은 소중한 기억과 잊혀지지 않는 고통스런 사건의 기억 사이에서 고통 받는 사람들의 이야기와 나의 이야기를 한 화면에 혼합하여 나타냄으로써 기억의 공유를 시도한다  기억의 공유를 통해 행복한 기억의 영속성  상처의 나눔을 기대해 볼 수 있지 않을까  화면 속에 등장하는 돌들은 기억에 대한 시간과 공간의 역사를 함축하는 은유적 소재로서 과거 사건에 대한 소중함이나 상처를 품고 있다 박보영 시간은 흘러간다  과거에서 현재로 다시 미래로  그래서 현재 이 순간은 과거일 수도 미래 일 수도 있다  이런 시간의 흐름을 시간이 흘러가도 변하지 않고 그 모습 그대로 그 자리에서 있는 산이라는 매개로 연결하여 시간을 여행하고자 하였다  시간여행의 매개체인 산수는 그저 바라보기도 하고 그 자연 속으로 들어가 보기도 하는 마음의 안식처이다  현재의 나는 불안정하고 복잡한 이 공간에 존재하지만 저 자연 속에서 나는 안정감을 찾아간다  비단 바탕에 과거의 산수는 수묵으로 표현하고 현대의 다양한 사람들은 현재를 살아가는 우리들의 모습으로 얼굴표현을 생략하고 형형색색의 의상은 반차도의 형식으로 나타내었다 천영주 산수화는 산과 강 등의 자연 경관을 소재로 해서 그린 동양 회화의 화목이다  우리나라를 포함한 동양에서의 산수화는 자연의 표현인 동시에 인간이 자연에 대해 지니고 있는 자연관의 반영이기도 하다  나는 항상 사실적인 표현보다 나에게 숲이 주는 이미지를 그리고 싶었다 어렸을 때부터 봐오면 산의 형상  나에게 숲이 주는 이미지란 그냥 바라만 보고 있어도 편한 휴식을 취할 수 있는 안식처 같은 곳이다  보는 이로 하여금 상상 할 수 있게 하고 사실적인 표현이 아닌 이미지적인 숲의 모습으로 현대적인 산수화를 그리고 싶었다 바람에 따라 숲의 모양이 결정되는 자연스러움  여기서 바람은 숨통이다  그림에서 숨 쉴 곳 그림에서의 바람과 숲은 즉 생명을 뜻하는 것이다  산수화에서 산 과 수 의 생명체 안에 들어있는 원초적 기운의 특성을 나타내고 싶었다  우리 지구면적의 이상을 차지하지만 사람들이 중요하게 생각하지 않는 무생명의 존재로서가 아니라 인체처럼 살아서 생동하는 존재로서 인식되는 것이다   시선 소통되지 않는 시선들에서 오는 외로움 최경운 최경운 작가는 오랜 시간 중국에서 작업을 하면서 지내왔다  닮은 얼굴의 이방인  비슷한 말들을 만들어 내는 이방인을 바라보는 또 다른 사람들의 시선  그리고 어쩌면 낯선 모국의 시선들  작가에게 있어 타국에서의 생활과 귀국으로 이어지는 시간이 지금의 작업을 만들어 내게 되었다고 생각하지는 않는다  작가는 자신의 작품 속 인물들은 하나같이 외롭고 아프다고 말한다  그러면서 그는 그것을 바라보는 우리들에게 그 안의 인물들과의 소통과 위로를 바란다고 했다  작품 속의 인물들이 외롭고 아프게 느껴지는 것은 저 인물들의 표정과 분위기가 아니라  나를 떠난 나의 시선의 돌아오지 않음에 있는 것은 아닐까  우리에게 자신을 하나의 이방인으로 돌려보내는 것은 쉽지 않은 일이다  나에게서 멀어져 나와  낯선 자신의 모습을 바라보는 것은 어쩌면 힘겨운 일인지도 모른다 그래서 우리는 거울조차 낯설지 않은 나와 나의 공존 속에서  한번쯤 자신의 삶을 조금 더 먼 곳으로 두어보아야 할는지도 모르겠다 나의 시선에서 내가 떠나고 있다  그리고 어느 언덕을 넘어 내가 사라진다  어느 거리를 지나  그곳의 바람을 지나  언젠가 그가 멀리에서 다시 가까이 돌아왔을 때  비로소 우리는 먼 길에서 돌아온 그를 아우르며 어루만지게 되는 것은 아닐까  그렇게 우리가 그들 바라보았을 때 그는 비로소 우리에게 돌아오고 있는 길 위에 서 있게 되는 것이다   No comment 하이퍼텍스트로 대변되는 뉴미디어 시대에서 변화되는 사고방식에 주목해보는 전시이다  마치 언어 이전의 고대로 회귀하는 듯한 사고방식이 뉴미디어의 특성과 결합되어 어떻게 변화하는지 생각해 보도록 파편화된 이미지와 해체된 스토리를 가진 작품들을 전시한다 No comment 는 이미지와 이미지 혹은 숏 shot 과 숏 shot 사이 몽타주에 의해 생성되는 새로운 의미에 대해 설명하지 않고 관객 스스로 그 의미를 찾아나가도록 유도한다  분절된 이미지는 큐비즘의 그것처럼 다차원의 모습을 한 화면에 보여주는 듯싶으나  어긋나있는 이미지가 마주하며 나타나는 충돌은 관객에게 어색함을 준다  이러한 어색함은 작품에 몰입되기보다는 그곳에서 빠져나와 스스로 사고하고 판단하도록 만든다  영상 기록 작업은 시간의 흐름에 따른 의식의 변화를 기록하고 있다  불규칙하며 파편적인 의식의 흐름을 적극적으로 기록한 영상작업은 의식 변화 데이터를 제공한다  문자가 의미를 박제시켜 놓는다면 영상을 통한 의식과 세계의 표현은 그 의미를 다층적으로 만들고 부유 하게 만들어 새롭고 다양한 의미를 생산해낸다 이번 전시는 회화  설치  미디어아트 싱글채널 비디오  애니메이션 등의 작품에서 보여지는 충돌이미지에 집중한다  이러한 해체된 숏 shot 들은 관객에 의해 재조합되며 이로써 에이젠슈테인이 말한 충돌몽타주를 적극적으로 보여줄 수 있을 것이다  또한 관객은 스스로 재조합 과정을 겪으며 자신만의 콘텍스트를 창출할 것이다 장의 드로잉으로 구성되어 있는 유승호의 작품은 컴퓨터 안에서의 글읽기 방식을 말하는 hypertext를 닮아있다  생각의 연쇄와 분열과정을 극명하게 보여주는 유승호의 작품은 문자의 논리성에서 벗어나 끊임없이 미완성으로 남을 수밖에 없는 글의 형태를 보여준다  마치 아무런 연관이 없는 충돌의 연쇄처럼 보이지만  그 안에는 꼬리를 물고 지속된 연쇄과정도 함께 볼 수 있다  연속적인 이미지 사이에 각주처럼 쓰여 있는 작가의 말은 사고의 단절을 불러일으키고  마치 브레히트의 소격효과처럼 관객을 환기시킨다 이정후의 설치작품은 작가가 경험했던 불안과 두려움에 떨던 어떤 하루에 대한 추상적 작업으로  자신이 느꼈던 상황을 재구성하여 펼쳐놓았다  작가가 보여주는 장면은 조각난 상태로 나타나는 유연하고도 연약한 기억의 풍경을 나타낸다  기억은 언제나 주관적이어서 객관적인 기억이란 마치 없는 듯하다 작가는 객관적일 수 없는 상황을 객관화 해보면서 스스로의 존재를 정당화하고자 했다  개인적인 경험을 나타내는 오브제들이 상징적이고 추상적인 표현으로 덧붙여지는데  이것들은 어느 순간 끊어지고 이어지는 기억의 과정처럼 사다리를 통해 연결된다  이정후가 만든 기억 속 풍경은 관객의 기억 속에서 다시금 재창조되고 재조립 될 것이다 문준용의 인터랙티브 작품은 테이블 위에 놓여진 큐브의 그림자가 사용자의 행위에 따라 생성되고 변화하는 작품이다  이 작품은 그림자가 빛의 각도에 따라 왜곡되어 판타지가 생겨난다는 사실에 기반한다  이 장치의 그림자들은 빛의 각도에 따라 큐브의 바로 밑에 투영되는데  그 그림자의 형태는 큐브가 아니라 사람이 살고 있는 집으로 변하며 다른 여러 상상의 생물체들과 상호 공존한다  빛과 그림자가 만들어낸 이 세계는 우리 삶의 모습을 함축적으로 보여준다 줄리아 포트의 영상 작품은 톰 쉬버스 Tom Chivers 의 시에 근거한 종말론적 러브스토리이다  이 시는 사건의 진전이나 인물의 형상화 같은 전통적 기법 없이 의식의 흐름대로 쓰여졌다  작가는 애니메이션 속에서 생과 사  질서와 혼돈 사이의 경계를 독특하게 표현했다 비현실적인 상황에서 극도로 상냥한 분위기를 동시에 그려낸 이 작품은 줄리아 포트의 다른 작품에서도 종종 드러나는 따뜻한 느낌과 으스스한 느낌을 함께 선사할 것이다 최기창의  채널 영상작품은 서로 마주보게 설치되어 있다  이 영상 속의 인물은 마주보는 화면 속의 상대방과 눈싸움을 하는 듯 보이는데  실제로 이들은 무작위적으로 선택된 것이다  이들의 시선은 이유 없는 우연으로 이루어진 세상을 비춘다  작가는 눈에 보이지 않은 연결고리로 엮여 있는 사건들을 재현한다고 볼 수 있다  불가해한 세상을 조명하여 우연의 연속인 우리의 존재를 드러낸다 BLA BLA 는 캐나다 국립영화위원회가 제작한 뱅생 모리세 감독의  컴퓨터를 위한 영화 이다  관객은 작품 앞에 설치된 트랙패트를 이용하여 다양한 방식으로 캐릭터들을 변화시키면서 즐길 수 있다  매끄럽지 않게 진행되는 캐릭터와의 대화는 관객에게 당혹감을 주지만 새로운 매체를 통해 자신만의 이야기를 이끌어 낼 것이다   전통수묵과 현대적 운필의 조화 미술사가 조지 로울리는  동양예술의 창조는 정신과 물질의 상상적 결합의 산물로서 예술가 자신이 창조자로서 간파하는 안목과 스스로 체험한 경험이라고 하는 원료 및 자신이 창작의 주체로서 반영하려고 하는 궁극적인 정신의 종류에 따라 달라진다  고 말한 바 있다  종교와 마찬가지로 예술은 외형으로 드러나는 표피적 현상보다는 삶의 내면을 중요시 하던 까닭에 예로부터 정신적 깊이를 최상의 경지로 인식해 온 동양의 회화예술은 이러한 철학과 문화적 배경을 토대로 성장해 왔으며 내면에 존재하는 정신적 감정과 다양한 조형 이론에 대한 깊이는 현대 미술계에서도 그 가치가 새롭게 인식되고 있다  따라서 자연의 형상에서 그 근본을 찾고 정신을 유출해 내는 산수화 장르와 같은 전통 한국화 작업은 자연의 원리를 뼈대로 하는 동양회화의 철학적 인식 속에서만 이해 될 수 있을 것이라 생각된다  예로부터 동양에서는 회화 예술을 가리켜 신비한 대자연의 이치를 인간의 진의 와 기운 을 통하여 그 본질을 밝혀내는 것이며 그리하여 자연의 참모습을 작가의 마음속에 내재된 신운 으로 해석하는 예술의 한 장르로 여겨져 왔다  더욱이 동양화는 담백한 표현 양식과 신비스러우면서도 현학적 인 먹색의 조화 등 동양인의 정서와 체질에 알맞은 재질과의 일체감으로 인하여 그 정신적 깊이를 가늠하기 힘든 상징적 표현의 영역으로 인식되어 왔던 까닭에 생략과 함축  은유적 의미가 강조되어 왔던 것이다 요즘 주목받고 있는 청년작가 중 한 사람인 설박은 그 동안 자연의 이미지와 정서에 대한 감흥을 수묵을 위주로 한 전통 필법과 현대적 조형 감각을 혼용하여 꾸준히 발전시켜 오고 있는 현대 수묵화 작가라 말 할 수 있다  처음 수묵화의 묵필법을 익히는 것에서 시작하여 점차 산수화  문인화 장르에 이르기까지 운필의 영역을 넓혀 온 작가는 최근에 거대한 포치의 대자연을 그리는 현대 수묵 산수화에 그의 시각을 집중하고 있다  초기 사실적인 묘사 방식에서 출발하여 점차 간결한 포치와 반추상적 표현 형식을 통하여 대자연의 정서에 주목한 작가의 작품 세계는 전통 동양 회화의 서정적 표현에 수묵화의 사유적 미감을 조화시키는 독특한 시각을 보여주고 있는데 특히 표현대상의 내면에 존재하는 정체성을 강조하기 위해 꼴라쥬 형식의 체기법과 음영법을 혼용한 간결한 형태와 절제된 먹색  섬세한 필치를 반복적으로 사용하고 있다  최근에는 여기에 사생 작업에서 비롯된 상상력을 가미한 다양한 구도를 활용하여 보다 더 생동감 넘치는 화면을 보여주기도 한다  더욱이 작가는 화면 안에 기운생동한 자연의 미감을 격조있게 전달하고자 간결한 윤곽선과 먹을 중첩시켜 입체감을 강조하는 응양의 표현기법을 즐겨 사용하고 있는데 이런 작품의 특성은 그의 작가적 개성을 엿볼 수 있는 중요한 근거가 되고 있다 어떤 풍경  등과 같은 그의 수묵산수화풍의 작품들은 이런 작가의 성향을 잘 드러내고 있는 대표적 작품들로서 특히  대표적 작품 중 하나인  풍경을 담다 는 축양된 구도 위에 담백한 먹색과 필치를 조화시킨 작가의 표현경향이 잘 드러난 의미 있는 작품이라 말 할 수 있다 동양화의 전통 구도법인 심원법이나 평원법 구도를 활용하여 남도의 다도해를 그린 섬 풍경과 같은 작품 소재들은 오랫동안 우리 전통예술의 회화적  음악적  문학적 표현 소재로 애용되어 온 상징적 존재로서 작가는 현대 수묵화를 통해 자연에서 느낄 수 있는 회화적 감성을 그만의 스토리로 엮어 내고 있는 것이다  예로부터 묵필의 전통 매재는 기를 무시한 정신이나 정신이 무시된 기의 현상적 해석보다 기운생동 전이모사 등 동양화 고유의 화론에 입각한 정신세계와 회화의 본질을 구현하는데 초점을 맞추었다 따라서 요즘 수묵화 작가들이 동양 회화의 진수를 깨닫기 위해서는 지필묵에 대한 고답적 관념을 깨뜨릴 수 있는 실험적이고  진취적인 자세를 갖추어야 하며 이런 현상들이 보편적으로 수용될 때 비로소 글로벌화 되는 시대와 급변하는 변화의 시대에 잘 적응 할 수 있을 것으로 여겨진다 평소 작가는 작업의 근원적 시각을 대자연의 기운생동 한 미감에 두고 있으며  특히 한국적 정서와 향토적 미감  우리 전통적인 표현 양식인 문인화  서예 분야와 함께 서구 현대 회화에 이르기까지 관심을 가져 왔다고 말했는데 초반 그의 작업들이 사물을 섬세하게 묘사하는 사실적 회화경향에서 시작되었다면 년대 후반 이후에는 이런 흔적들이 사라지고 단순화 된 배경 위에 사물의 이미지를 입체적이고 간략한 형태로 표현하는 사의적 정신과 조형의 흐름을 강조하고 있는 데서 그 이유를 찾아 볼 수 있을 것 같다  그런 의미에서 작가는 먹의 고유한 특성인 직관과 함축미를 바탕으로 종이의 수용성과 붓의 활달한 운필의 기세를 함유하는 동양회화 예술의 근본인 수묵화를 삼절 의 의미와 함께 잘 이해하고 있는 것으로 여겨진다  작품  어떤 풍경  연작 시리즈는 그의 이러한 현대적 표현감각과 묵필의 조형적 특성을 잘 보여주고 있는 것으로 사물의 이미지를 전통회화와 현대회화의 연결선상에서 재해석하려는 향후 그의 작업방향을 유추해 볼 수 있는 중요한 작품들이다 년 중국 북경 T Art Center 갤러리에서 초대 개인전을 연 이후 변화된 화면에서 드러나는 먹색의 농담조절과 간결한 운필의 운용은 작가의 또 다른 시각의 변화로  이것은 동양회화의 본류인 중국 화단으로부터 받은 정신적 충격에서 비롯된 것이라 말할 수 있는데 그의 작품에서 파악되는 먹의 습윤하고 정갈한 의취 의 선염 기법만 하더라도 한지나 화선지와 같은 독특한 수용성 매재를 통해 그 특색이 잘 나타나고 있음을 알 수 있다  이러한 동양의 묵필 재료들은 서화의 본질을 직관적으로 파악하기에 가장 적합한 재료로서 작가는 이런 전통재료들을 현대적 시각에 걸맞게 적절히 활용하면서 변화시키고 있는 것이다  사실 동양철학의 정신적 미의 개념과 서양철학의 추상적 미의 개념이 차이점을 보인다 할지라도 본질적인 정체성 측면에서 보면 그것이 자연과 인간의 존재로부터 생성되는 까닭에 현대미술의 입장에서 보면 큰 차이가 없다 글로벌화된 현대 사회에서는 일정한 양식과 사조가 파괴되고 온 세계가 인터넷으로 곧바로 연결되는 새로운 시각과 사고를 요구하는 달라진 시대다  그런 연유로 비록 현대문화의 급격한 흐름 속에서 무시되고 소홀하게 취급 받는 전통적인 것  토속적인 것일지라도 잘 가꾸고 계승발전 시키는 것이 미래의 우리에게 가치 있는 것이다  청년작가 설박이 보여주는 수묵 산수화가 한국화를 포함한 동양회화의 중요성을 오늘의 시점에서 강조하는 또 하나의 자기주장이라면 우리 것에 대한 보다 깊은 주체적 성찰과 연구가 뒤따라야 하는 것은 이런 이유에서일 것이다  따라서 현대회화의 흐름을 다각적으로 조망하여 수묵화를 한국적 정체성을 간직한 한국 현대미술의 한 장르로 부각시킬 수 있을 때 작가가 얘기하고자 하는 한국화의 세계화  곧 전통 동양회화의 독자적 가치와 중요성이 세계미술문화를 주도해가는 또 하나의 중심축 역할을 할 수 있을 것이다   고독  고독 씹어 먹을 것 소녀 혹은 숙녀  어쩌면 소년 아니면 어떤 청춘이 담장 아래로 떨어졌다  그의 부모님은 그를 달래기 위해 비행기에 몸을 실은 후였지만  그림자가 이끄는 중력의 힘이 너무 커져 버린 탓에  라고 급히 외치며  청춘이란 지위의 모자를 눌러쓰면  너무 푹 눌러쓰면 시야를 가려버려  사실 그는  그녀는 그림자를 자신의 몸으로 눌러버렸지  그림자의 중력보다 무거웠던 그 마음으로  나는 떨어지는 그를 받아내었지만  결국 숨을 거두고 말았고 조용히 치를 떨며 바보라고 속삭였지  그러나 곧 우리는 다시 만났다  그늘에서라도 잠시 쉬어갈 수 없었던 그 어둠에 대한 너의 무게가 나의 목덜미 뒤에도 슬며시 내려와서 고개를 자꾸 떨구게 돼  네 그림자와 난 마주 보고 있다 베를린에서 이 소외감은 어디서부터 오는 것일까  이것은 나만 안고 있는 것일까  에 관한 탐구로 시작되었다  나에게 고독은 네 가지로 분리된다 인간 존재 자체의 고독 군중 속 고독 사랑의 고독 세대의 고독 청춘 나는 내가 가진 고독의 시를 읊는다 글이 아닌 그림으로  그리고 그중에서  번째의 고독을 가장 많이 노래하고 있다  여럿과 함께  사회로 달려나가야 할 생기 넘치는 청춘을 나는 고독을 벗 삼아 좀먹고 있었다  모두가 함께할 때 나 또한 그곳에 속했지만  혼자인 기분을 지울 수가 없었다  나는 언제나 마음 한편이 비어 있었고 그곳을 채울 공간과 시간과 인간을 알 수 없었다  이러한 고백은 나의 친구와 동료들도 지니고 있었다  그들도 나와 다르지 않았다  물론 표현은 달랐지만  그들도 그 마음 한편에 안달 나 하며 또 덤덤해하기도 했다  나는 이것을 청춘의 찬란한 우울함이라 말했다  이것에서 도망치려는 자들은 분주히 움직이고 그렇지 않은 자들은 잠시 멈추리라  나는 후자이고 우리는 잠시 이 청춘의 찬란한 우울함을 즐길 필요가 있다  함께이면서도 느낄 수밖에 없는 이 고독은 세대를 걸쳐 또다시 다가오겠지만 지금은 지금일 뿐이니까  하지만 언젠가 반드시 채워지리란 보장은 없다  나 역시 이 한편의 비밀을 알고 있지만 영원히 채워질 수 없단 걸 잘 알고 있고  나는 그 구멍을 그리는 것으로 대신하려한다  아주 미약하고 아직 서툴지만  그림은 내게 은유적 고백이고 위안이 된다  좀 더 솔직하게 고백을 해보자면  나 혼자만의 위로를 위해 동지 들을 끌어 모으려는 의도도 없지 않아 있다  하지만 얻어걸리기라도 하듯 누군가 이 고백을 알아준다면 참 기쁠 일이다  그리고 신기하게도 이기적인 이 소통이 이루어지기도 한다  내가 소통할 수 없다고 좌절하고 있을 때 그 은밀한 그 소통의 위대함을 느꼈다  그러나 언젠가 무너져 내릴지 모른다 더 폭넓은 소통을 해야 하겠지만  그걸 알기에 지금의 나는 답답함과 불안함 속에 살고 있는 것 일 테지만 내가 그리고 있는 청춘이 이것이라면 어쩔 수 없는 일이다  나의 고독함은 어쩔 수 없는 것이다  어쩔 수 없는 건 정말 어쩔 수 없다  아마 나와 같은 사람들이 속속 숨겨져 있으리라 믿는다  그들을 찾아 서로 위안을 얻고 조심스레 변화를 꿈 꿔본다 나의 작품은 모두 드로잉이다  내가 지닌 무겁고도 두루뭉술한 감정들을 표현할 때 물리적으로 가벼운 재료들을 가지고 그려나가는 것은 매우 흥미로웠다 매체에 대한 경계가 허물어지고 있는 이 시점에서 나의 작품을 굳이  드로잉 이라고 고집을 부리는 것은 표현에 있어서 가장 첫 번째의 정신이 담겨 있기 때문이다  그리고 나의 그 첫 번째 정신은 늘 불안함과 불완전함을 담고 있기에 드로잉의 소재나 느낌이 그 생각과 행위의 조화를 이루어내기에 가장 적합했다  완전할 수도 있고 불완전할 수도 있으며 기계적일 수 없는 손길은 늘 미완성이어야만 하는 장면들을 만들어낸다  어쩌면 완벽한 마지막 단계가 될 수도 있고  미완성적으로 보이는 그림은 그저 일반적으로 생각하는 페인팅을 위한 단계로 보일지도 모른다  나는 대개 그런 과정으로만 인정받아왔던 드로잉이 좀 더 독립적인 장르가 되길 바란다  물론 드로잉은 작가의 세계를 함축한다기보다는 연결짓는 쪽이다  아무리 꽉 채워진 화면  섬세한 표현으로 무장해도 작가의 세계를 깊이 있게 탐구할 수 있는 묘한 여백을 느끼게 한다  일부러 남겨놓지 않아도 느껴지는 그 여백은 바라보는 사람이 채워 줄 것이며  내가 가장 어려워하는 소통이란 걸 이룰 수 있는 열쇠가 된다  나는 이토록 드로잉이라는 방식에 집착하고 있다  미완성이 주는 상상과 불안함이 주는 잔상을 예찬하고 싶고  많은 실험을 통해 그 느낌을 더 끌어올리고 싶다   권력과 권위의 간극  함께 삶의 어려움 사람을 위한 예술  혹은 투영으로서의 예술이 함축하는 가치  그리고 그것의 지속성이 현재적 지형도 안에서 더 이상 변화를 이끌어낼 수 없음은 공허하다  미술의 문제의식과 참여의 제고  그 근저에서 유영했던 김병택 작가의  현재 가 낯설게 다가온 연유는  아마도 이러한 공허함에서 기인했을 것이다  그 시대를 체감하지 못했던 필자가 잡아낼 수 있는 교감의 여지란 작가의 기존 작업세계에 배어 있는 사람 냄새와 질박한 감성 정도였고  미술의 풍자적 코드에서 메시지를 풀어내고자 하는 최근의 형식이 그만큼 위태롭게 다가왔는지도 모르겠다 김병택 작가의 네 번째 작품전인 금번 전시는 풍자와 위트가 넘친다  트럼프 카드의 도상에 현 시대를 대표하는 인물들을 대입  은유적인 메시지를 전달하는데  일상성 혹은 사람의 가치를 그려냈던 초기작업과 박제화된 시대정신을 비롯  여전히 산적하고 있는 사회적 모순 따위를 담아 온 그간의 흐름에서 바라본다면 깊이에의 강박 을 걷어낸 듯 하다  미술의 투쟁적 성향이 와해되었던 시기 즈음부터 도리어 현재적 관점에 천착했던 작가의 작업태도는 형식적인 부면에서 표류를 거듭해왔고  이 과정에서 작가 자신이 고민한 풍자와 은유 패러디 등의 표현어법이 간헐적으로 그 모양새를 다져왔다 년도 정치적 이슈로 등장했던 작품  삽질 공화국 에서 볼 수 있는 해학적 요소를  하 로써 상 을 꼬집는 풍자의 전형으로 간주할 수 있겠으나  이러한 화법이 메시지에 직접성을 부여할 것이라는 작가의 의도가 새삼 엿보이는 대목이기도 했다  더 나아가 공감대 형성이라는 시각미술의 근본적 특성에 천착하기 위한 흐름으로도 해석할 수 있다 보다 이해하기 쉽고  감상자가 접근 가능한 형식으로 풀어내고자 했다 는 작가의 발언에서 이번 작품전의 키워드를 발견할 수 있는데  대중적 선호도가 높은 팝아트의 형식을 빌어 사회적 쟁점들을 부각시켰다는 점이 새삼 이채롭다  얼핏 유쾌한 어조로 다가오는 화면 구성력은 상징적인 인물들을 등장시키며 주제 전달에서 용이함을 꾀하지만 현 시기의 인물군상을 모티브로 던져보는 작가의 사회의식이란 권력과 권위의 간극에서 뒤섞이는 대립국면  다시 말해 아래로부터의 열망과 위로부터의 강제력이 모순되는 형국에서의  현재 를 다룬다 서양의 플레잉 카드인 트럼프 안에는 유독 사회지도층과 정치계 인사들이 눈에 띤다  King  Queen  Jack  Joker 등  그 유래의 시원부터 계층적일 수 밖에 없었던 이 게임을 화재 로 차용했다는 점은 적잖이 시사하는 바가 크다  더불어 형형색색의 아크릴 컬러와 평면적인 배경화면 위로 등장하는 인물들은 제법 구체성을 띤다  오일 페인팅에 의한 인물의 세밀한 인상 포착은 카드 안의 상징적 코드와 교묘하게 어우러지며 감상자에게 해석의 즐거움을 선사한다  무형의 검을 쥐는 형상으로 여왕을 꿈꾸는 인사는 역설적이게도 상인계층을 뜻하는 다이아몬드 패턴 위에 놓여있다  조소 어린 표정으로 검을 내리치기 직전의 권력자  그 주변으로는 스페이드가 아닌 붉은색의 삽이 당당히 자리하는가 하면  리히텐슈타인의  행복한 눈물 을 중앙에 새긴 유명 기업인의 초상에는 거대자본의 역기능을 상징하듯 검의 형태가 부러진 모습이다  더불어 동일한 인물을 화면의 상하에 컬러와 흑백으로 분리시킴으로써 사건의 내러티브가 지닌 양면성을 언급하기도 한다  촛불 집회 의 염원  희망의 메시지와 함께 담아낸 한진중공업 사태에 대한 단상 노동운동의 전신인 아들의 열망을 인간존엄의 가치로 승화시켰던  이소선 여사의 초상은 성직자를 상징하는 하트 패턴으로 담담하게 자리한다  또한 화폭 안에서 두드러지는 상하 인물상의 반복은 흑백과 채색이라는 표현방식으로 나름의 상징성과 의도적 접근의 양상을 띠는데  패턴의 장식성을 지양하며 일련의 메시지를 담아내려 하는 작가의 계획성이 돋보이는 대목이다 누구나 인지할 수 있는 신자유주의를 기조로 한 국제적 패권다툼과 세계정세  화폐단위나 지폐 문양으로 부연설명을 가한 작품  언론장악의 병패를 다루는 도상들과 더불어 미술 또한 그러한 흐름과 무관하지 않음을 언급하기도 한다  캠벨 스프 깡통을 움켜 쥔 앤디 워홀 지폐 패턴 위로 유유히 얼굴을 내민 워홀의 마릴린 먼로 등  작가는 현 미술의 사회적 역할에 대한 난맥상을 여실히 드러내며 자신이 지속하고자 하는 화업의 의미와 현주소를 되새긴다 문학  미술  영화 등 전 분야를 막론하고 시대적 상황이나 모순 등을 위트 있는 제스처로 풀어낸  풍자 는 동시대인으로 하여금 현재적 부조리에 대해 각인시키는 역할을 한다  문화와 예술이 접근할 수 있는  왜 표현하는가  무엇을 표현하는가 라는 문제제기에 보다 쉽게 다가서는 의미이자  현실 속의 난점을 정확히 꿰뚫고 있어야만이 제대로 된 형식을 구사할 수 있기에 이 또한 어려운 작업이다  일상의 범주 안에서 문제의식을 드러냈던 김병택 작가의 세밀한 감각이 이내 소통의 문제로 치환되며 금번의 작업에 이르렀는데 이는 함축이냐 직설이냐의 전달 방법의 차이일 뿐  실상 하고자 하는 이야기는 동일하다고 볼 수 있다 작업에 임해오면서 이 행위는 분명코 낭만적인 유희나 호사스런 향락이 아니라는 걸 항상 인식하지만  돌이켜보면 나태한 모습으로 예술을 향유하려 했던 순간 순간의 그릇된 가치를 깊이 반성해본다  그 혼돈 속에서도 섣부른 경솔함과 위선을 탓하면서 다시 제자리를 찾기 위해 헤매는 건 모두에게나 힘든 일이겠지만  그렇게 반복되는 시행착오 속의 자기성찰은 내가 나를 지키고자 하는 기본적 욕구만큼이나 절실한 그림 그리기의 본능이라 말하고 싶다 는 년 작가의 첫 번째 개인전에서의 작업일지  이는 여전히 유효한 가치이자 그만의 염원일 것이다  더불어 그간 형식 면에서의 무수한 고민에도 불구하고 붓 들기를 주저하지 않았던 작가의 노력까지 되돌려 체득할 수 있는 부분이 아닐까 싶다 작가의 삶이나 작업의 사연에 앞서 작품 자체로 먼저 느끼고 반응하는 것이 적어도 미술에서는 감상과 이해의 순서일 것이다  작가가 지속해 온 주제의식은 당연 사람과 함께하는 것이기에  그가 천명하는 미술의 비판의식과  소통 의 쟁점을 조금이나마 공유할 수 있었으면 좋겠다  나아가 작가가 금번 전시에서 그려내는 권력의 허상과 난점  권력은 의미 그대로 공인된 권리와 힘이다  사회적으로 용인된 힘을 올곧게 구사할 때  그 힘을 따르는 다수의 진정 어린 피드백 또한 가능할 수 있을 것이다  더불어 어우러짐이 점점 어려워지는 현실에서 김병택 작가가 제기하는 거침 없는 현실풍자와 해학이  함께 삶 의 가치를 다시금 상기시키는 계기가 되기를 바래본다   Same dream The skins  X B 나의 작업은 전투기와 전쟁 무기이다  폐휴지 신문지 로 만들어진 작품은 사물의 껍데기를 생각하며 작업하였다  마치 뱀이 벗어 놓고 간 허물과 같은  그것은 또 다른 변화를 암시하고 있어 그 껍질만으로도 또 다른 공포를 주기도 한다  그렇듯 전투기와 전쟁무기는 그 껍데기 허물들을 전시장에 벗어 놓고  우리 주변 어딘가로 그 실체를 숨기고  고도의 과학 기술력으로 변신을 꾀하고 있는 것이다 이렇듯 발전한 과학과 사회는 한 손에 세계를 바라 볼 수 있는 스마트한 현실을 만들었으나 그 작은 화면 이외의 세상은 등한시 하게 만들었다  난 이번 작업을 통하여 관객이 그 실체들에게 조금 더 관심을 가져 주었으면 하는 바람이다 한번 작업 할 때 컷 정도의 사진을 찍습니다  지난번 아파치헬기 제작 때는 폭 m의 종이를 m가량 소모 하였습니다  이번에는 신문지 cm 장을 사용하였습니다  보관과 이동의 용이함을 위해 골격용 와이어를 사용하지 않고 종이와 순간접착제 테이프만으로 작업하였습니다  이 작품은 접어 그 부피를 줄일 수 있도록 제작하였습니다 cm 크기의 작품을 보관할 장소가 없었습니다  그런 면에서 볼 때 이번 작품은 저에게 큰 의미를 갖습니다  F K  AH X B 세 번째로 만들어진 대형 무기로  앞으로 진행될 대형 무기 작품을 보관하는 것은 저에게 큰 문제였습니다  추후 만들어질 작품들 탱크 미사일  F 전투기  등을 한 장소에 모두 모아 전시를 하고픈 꿈을 꾸어봅니다 무기라는 것은 보호와 안전을 위해 필요한 것입니다  하지만 그 개발에 전 지구적  선진국들이 천문학적인 몇 백조의 돈과  최첨단 기술을 지원 개발하고 판매합니다 누구를 보호하며  무엇으로부터 보호하고  무엇으로부터 안전을 찾는 걸까요 최첨단 전투기 무기는 SF영화에서나 볼 수 있는 무기들을 현실로 만들어 내고 있습니다  이것들은 인간이 만들어 인간을 죽이는 것에 사용하고 있습니다 에너지 낭비 는 이러한 것들이 에너지 낭비가 아닌가 하는 생각이 듭니다 이러한 무기들은 껍데기  속 빈 껍데기와 같습니다 최첨단 기술력과 대 기업은 지구의 안녕에 좀 더 투자하고 연구하여야 할 것입니다 X B 노드롭 그루먼사의 X B UCAS D Unmanned Combat Air System Demonstration  드론 drone 은 미 해군의 항모운용 무인전폭기로 년 개발 계약이 체결된 후  대의 시제기가 제작되어 테스트중입니다  X B는 본격적인 무인공격기 시대를 열어나가는 신호탄입니다  이스라엘의 무인폭격기 하피 등 소형 UAV나 미국의 정찰 공격기 프레데터가 개발돼 실전 배치됐지만 무기탑재량을 비롯해 그 기능은 매우 제한적입니다 반면 X B는 다목적 공격기입니다  탑재되는 무기에서도 기존의 무인공격기와 비교가 안됩니다  X B는 레이저 광선과 고출력 마이크로파 HPM 로 적의 미사일과 통신시설을 파괴하는 가공할 공격력을 갖추고 있고  레이저 무기 뿐 아니라 공대공  공대지 미사일 최대 kg 을 장착해 다양한 방법으로 적을 공격할 수 있습니다  정찰기로서 기능도 수행하는데  초음속인데다 차세대 스텔스 기술을 채용해 적의 레이다에 잘 잡히지 않는다고 합니다  공중급유가 가능해 나흘간 연속작전을 벌일 수 있으며  항공모함에서 이착륙이 가능할 정도로 기동력도 있습니다  작전반경이 km에 달하고  가장 중요한 것은 조종사의 안전을 고려할 필요가 없는 무인공격기 UAV Un manned aerial vehicle 라는 점입니다  이 정도면  꿈의 전투기 라 불릴만 합니다 노드롭 그루먼사 홈페이지 http www is northropgrumman com 에 따르면 X B는 년 개발 완료를 목표로 하고 있고  미 해군 계획에 의하면 X B는 년 쯤 실전에 배치될 예정입니다 출처 중앙일보  Notrup Gruuman X B 노스럽 그러먼 X B Notrup Gruuman X B 는 노스럽 그러먼사가 개발한 무인 스텔스 레이저 공격기로  최신식 무기를 부착한 공격기 중 하나이다 미국과 이스라엘이 공동 개발한 첨단 무인 항공기로  보잉에서 개발한 보잉 팬텀레이와 비슷하게 생겼다  그러나 날개가 약간 앞으로 되어있다  스텔스 기능을 부착하여 일반 레이더에서는 잘 안 잡히는 항공기 중 하나로  레이저로 음파 추적을 한 뒤  미사일을 발사해 전차 등 목표물들을 공격하거나 항공기와 공중전을 교전할 수 있다  본 기체는 실험기이기 때문에 무장장착능력은 아직 걸음마 수준이다  B형 기준으로 kg 정도이고 다음 단계인 C형에서 kg 수준으로 확장될 예정이지만 F A E F 수준은 되지 않는다 출처 위키백과  번지다 마음속에 내재되어 있는 기억들과 정서  삶의 체험들에서 오는 다양하고 복합적인 감정들을 먹의 번짐과 붓의 운용을 통해서 텍스타일디자인으로 표현한다  먹이 종이에 스며들어 하나로 융화되고  거기서 번짐과 붓의 운용에 따른 표현  이러한 먹과 붓을 통하여 추상적인 패턴으로 마음속 내면세계를 표출하여 자연 발생적인 감정을 구체화시키고  니트라는 매개체를 통해 자유롭게 표현하는 패턴작업을 시도해 보고자 한다  틀에 꼭 맞게 짜인 규칙적인 패턴보다는 불규칙하면서도 자유로운 그림처럼 인간의 마음이 표현되고  그리는 사람의 정서와 가치관이 함축되어 있는 패턴을 나타내고자 한다   탐하다 Seek Desire 좀 더 나은 삶을 꿈꾸며 사는 것이 인간의 본성이다  그러기에 사람은 어려움 속에서도 좌절하지 않고 희망을 꿈꾸며 살아간다 현대 사회가 되면서 꿈을 위해 끊임없이 탐하는 우리 인간의 모습을 흔하게 발견할 수 있다 년 경남도립미술관에서 첫 기획 전시로 마련된  탐하다 Seek Desire  은 탐하는 것을 주제로 하여 명의 개성 넘치는 작가들의 작품을 소개한다 탐하다 Seek Desire  의  탐하다 라는 말은 여러 가지의 뜻을 지니고 있지만  우리는 그중에서  찾다 seek  와  탐내다 desire  라는 의미에 주목했다  때로는 칠흑 같은 동굴 속에서 실존의 원형을 더듬어 찾아가는 수도자의 모습으로  때로는 현실의 부조리를 직시하여 새로운 이상향을 추구하는 모습을 미술 작품을 매개로 선보이고자 하였다  이 전시회에 참여하는 명의 작가는 개성 있는 표현 방법과 작품 소재로 저마다의 강렬한 빛깔을 마음껏 뽐내면서도  탐하다 라는 주제 의식을 충실하게 구현하고 있다 층 로비와 제 전시실의 작품들은  찾을 탐 seek  에 대한 이야기를 하고 있다  이곳은 인간의 존재  인간관계  주변 환경을 구성하는 자연과 현상 너머에 실재하는 원형적 의미를 찾아가는 공간이 된다  여기에 전시된 세 작가의 작품들은 작가의 치열한 탐구 태도와 진지한 성찰의 흔적들이다 원 의 작가 이재효의 작품은 모두 자연의 재료를 이용한다  완성된 형상 속에서 자연의 재료가 주는 느낌과 둥근 원의 형상은 자연  그 자체로 완전한 자연  그리고 그 자연 자체의 원리와 질서를 표현한다  원형 의 기하학적 형태를 통해 자연의 원형 을 탐구하고 있는 것이다 소나무 의 작가 배병우에게 있어 존재하는 것은 모두 물활론 hylozoism 적 대상으로 그 각각에 영혼이 깃들어 있다  그는 존재하는 사물 속에서 항상 살아 있는 자연의 호흡과 영적인 에너지를 찾아내고  그 생명성을 역동적으로 표출하여 우리에게 감동을 준다  한 폭의 수묵화를 보고 있는 듯한 소나무 사진에서 실재보다 더 생생한 자연의 모습을 발견하게 된다  소리를 조각하는 김기철의 작품은 평면과 입체를 넘어 새로운 차원의 형상을 보여준다 그의 작품을 마주 대하고 있으면 마치 그 소리를 직접 바라보고 있는 듯 신비로운 느낌을 받게 된다  하지만  우리는 그의 작품에서 단순한  소리의 시각화 라는 표면적인 형상이 아니라 소리를 통한 자연에 대한 깨달음을 통해 더욱더 감동한다 제 전시실에는  찾을 탐 seek  과  탐낼 탐 desire 사이를 이어주는 작품들이 전시되고 있다  이곳에 전시된 두 작가의 작품들은 각기 다른 소재와 표현 방법으로 우리 주변을 둘러싸고 있는 에너지와 기운을 보여준다  나무를 활용해 다양한 공간을 구성해온 천대광의 작품은 어떤 질서와 규칙이 있고 정렬되어 건축적인 느낌이 들기도 하지만 그 가운데서도 공간을 지배하는 자연적 기운의 흐름을 거스르지는 않는다  그러기에 그의 작품은 공간이 마치 살아 숨 쉬는 생명력을 지니고 있어  그 속을 누비는 관객들에게 긴장감과 함께 아늑한 안도감을 느끼게 하는 묘한 분위기를 연출한다  응축된 에너지의 표출을 보여주는 김덕영의 작품은 생생한 실재감과 긴장감이 압권이다 호흡조차 멈추게 하는 폭발 일보 직전의 매우 급한 상황의 표출은 관객들로 하여금 거센 기운에 대한 심리적 부담과 질서의 파괴에서 오는 두려움을 느끼게도 하지만  억압된 현실과 규정된 틀에서 벗어나고자 하는 근원적 욕망의 카타르시스 catharsis 를 동시에 느끼게 한다 특별전시실과 제 전시실은 탐낼 탐 desire  에 대한 이야기다 탐 은 부조리한 현실의 직시와 더 나은 삶에 대한 갈망이 바탕이 된다 따라서 여기에 전시된 다섯 작가의 작품들은 저마다의 개성 있는 기법과 표현으로 현대 사회의 모순을 거짓 없이 드러내며  그러한 과정을 통해 밝고 조화로운 사회를 지향하고 있다  특별전시실에서는 김해진의 작품을 만나게 된다  그는 현대 물질문명을 상징하는 시멘트를 가지고 우리 사회의 소외된 뒷골목 구석구석을 재해석해내고 있다  하지만  붕괴하고 허물어지는  버려진 풍경 은 단순한 소멸과 우울한 현실만을 나타내지 않는다  작가는 잠시 후 사라질 이 작품을 통해 진실로 붕괴하고 소멸하여야 할 대상이 무엇인가를 진지하게 고민하고 있는 것이다  제 전시실 첫 번째 작가인 정승의 작품은 틀에 박힌 관념과 행동 양식에 대한 파괴의식을 표현하고 있다  현대의 산업구조 속에서 기계로 똑같이 찍어낸 대량 생산품의 반복 제시를 통해 저마다의 개성과 다양성을 잃어버린 현대 사회를 냉소적인 시각으로 제시한다  이를 통해 작가는  문명의 본질은 욕망을 버리는 것 이라고 했던 간디 M Gandhi 의 말처럼 인간문명이 만들어낸 기계적인 산업사회의 잘못된 이성을 바로잡아야 한다고 말한다  개를 소재로 한 윤석남의 작품은 생명과 생명에 대한 일회용적인 사랑  사라져가는 인간성으로 표현되는 현대 사회에 대한 환멸을 표현하고 있다  그는  유기견 이라는 소재를 통해 현대 사회의 잔혹함을 표현하며  개는 사람들의 삶에 단순한 애완동물이 아니라 삶의 동반자이며  인간은 자연의 지배자가 아닌 자연 일부로서 모든 생명과 상생해야 하는 존재임을 돌아보게 한다  도자기를 소재로 한 작품을 선보인 이수경은 불완전한 존재들의 조합을 통하여 새로운 완성을 꿈꾼다  완벽함을 탐하는 도공에 의해 깨어진 도자기들은 태어난 자체가 불완전한 삶이었다  하지만  작가는 아무짝에도 쓸모없는 이 미완의 조각들을 하나하나 다시 이어붙여 금을 칠해 재탄생시킨다  저마다의 상처를 쓰다듬고 서로의 부족한 부분을 보완하여 새로운 존재 가치를 회복시키는 것이다  관계와 소통의 회복을 꿈꾸는 작가의 소망을 다시 생각하게 된다  한지에 먹으로 도시를 그리고 빛바랜 고서 일부를 콜라주로 표현한 권인경의 작품은 익숙한 도시의 모습을 낯설게 함으로써 우리가 살아가는 공간인 이 도시를 다시 한 번 생각해보게 한다  고서 라는 소재의 사용과 시선의 이동을 통해 다양한 시간과 공간을 교차하게 하여 평범한 일상을 다시 한 번 비틀어 표현하고 있다 작가는 의식적이든 무의식적이든 주변 환경으로부터 영향을 받으며 그 속에서 진정한 삶의 의미를 찾게 된다  이번  탐하다 Seek Desire  에서 찾을 탐 seek  을 주제로 참여한 작가들은 다양한 방법과 진지한 고민으로 진정한 삶의 의미와 조화로운 자연의 원형을 탐색하고 있다 찾을 탐 seek  과  탐낼 탐 desire 사이에 놓인 작가들은 저마다의 개성 넘치는 안목과 소재들로 현상 이면의 에너지와 기운을 재연해내고 있다 탐낼 탐 desire  은 새로운 이상향에 대한 추구인 동시에 발전 지향적인 메시지를 담고 있다  작가들은 무엇보다 현실을 직시하는데 비중을 많이 두고 있어  그 속에서 새로운 미래지향적 깨달음을 유도한다  결국 명의 작가는 평면  입체  설치 등 다양한 장르로 만들어내는 공간과 저마다의 개성으로 빚어내는 작품들을 바탕으로 하여 끊임없는  탐 Seek Desire 를 통해 과거와 현재의 성찰  새로운 미래에 대한 희망을 표현하고 있다  이번 기획 전시는 작품들을 통해  탐하다 Seek Desire 에 대한 우리의 인식과 우리가 지향하는 삶에 대해 다시 한번 생각해 볼 좋은 기회가 될 것이다   뿌리를 찾아서 현대적 노마드 nomad 듀크 최 우리들 대부분이 각자를 정의할 수 있는 정체성을 갖고 있다  물론 누구나가 항상  나는 이다 라고 떠들고 다니지는 않지만 우리는 일상에서 알게 모르게 자기 정체성을 드러내는 물건을 갖고 있기 마련이고 혹은 그러한 행동을 하게 마련이다  지갑 속에 있는 명함  좋아하는 취향의 소품들  누구의 엄마  아빠  누구의 아내  남편  직업 등등  그 중에서도  한국인 이라는 정체성은 자기 존재의 근간을 정의해 주는 중요한 아이덴티티 정체성 이다  다른 정체성들이 스스로 선택할 수 있는 것들인 반면 성별이나 혈통  태어난 국가는 선택권 없이 주어지는 정체성이다 그의 정체성은 무엇으로 정의할 수 있을까  지금 갤러리 두들에서 전시하고 있는 듀크 최 Duke Choi  말이다  예술가의 작품에서는 이러저러한 정체성이 어떠한 방식으로든 드러나게 마련인데  듀크의 작품에서  그리고 그의 행보에서 드러나는 정체성은 다중적이거나 혹은 유동적이다 그가 남성이고 예술가라는 것에 대해서는 일단 차치하기로 하자  그가 작품을 통해  그리고 그의 삶을 통해 고민하고 있는 것은 자신의 뿌리에 대한 것이기 때문이다 미국에서 한국인 부모 사이에 태어난 재미교포인 그는 스스로  한국계 미국인 이자 한국인도 미국인도 아니다 라고 했다  북한 출신인 부모님을 두고 있는 그는 미국에서 크게 형성된 한국인 커뮤니티와도 소통의 단절을 겪었던 듯하다  완벽한 미국인도 아니고 한국인 커뮤니티에도 속하지 못한 그는 스스로의 위치를 제 자로 두고 자신이 그 어디에도 속하지 못하는 사회를 객관적인 눈으로 들여다보았다  그가 정체성의 혼란을 겪었을 것은 명약관화하다  그런 그가 오히려 주목하게 된 것은 한국인이 몽골인과 같은 뿌리를 갖고 있다는 사실이었다  한국인 출신이면서도 한국인일 수조차 없던 그가 더 근원적인 뿌리에 천착하게 된 것은 어쩌면 자기 정체성의 근원을 더욱 깊이 파고듦으로서 스스로를 정의함과 동시에 자신을 자유로운 상태로 두려함일 것이다  스스로 노마드 nomad 가 될 것을 자처한 그가 한국을 첫 유목지로 택했다  그 옛날의 노마드가 가축을 먹일 목초지를 찾아 유랑했다면  그는 자신의 뿌리를 찾아 유랑을 시작한 것이다 그의 개인사에 대해 이렇게 장황설을 늘어놓는 이유는  그의 이러한 배경이 작품에 고스란히 녹아있기 때문이다  그의 작품은 언뜻 보아 동양화  그 중에서도 산수화를 연상시킨다  그의 작품은 동양화인가  이번 전시의 작품들을 한국에 와서 접하게 된 전통한지와 먹으로 그렸지만  그는 그것들이 전통적인 동양화가 아니라고 한다  그는 캘리포니아의 칼아츠 CalArts 를 졸업하고 LA에서 도시풍경을 전통적인 서양화풍으로 그리기 시작했다고 했다  그러나 반복되는 직선과 무채색의 도시풍경에 싫증이 났고  그는 그 형태를 해체하여 화면에 잔뜩 펼치기 시작했다  복잡한 선들이 어지럽게 휘감기며 펼쳐져 퍼져나가고 그 안에 섬세하게 형상을 이루고 있는 것들은 사람인 듯  풍경인 듯  혹은 도심 속에 거미줄처럼 퍼져있는 길처럼 보이기도 한다  멀리서 보면 불화 같기도 하고 부적을 여러 장 연이은 듯 보이기도 한다  그러나 또한 그의 그림은 그 기원을  불교 에도  주술신앙 에도 두지 않는다  우리가 흔히 알고 있는 산과 강이 있는  자연 풍경 도 도시 풍경 도 아니다  그것은  자연 nature  으로부터 온다  그러나 그가 말하는 자연 이란 도시와 대치되는 자연이 아니다  도시도 아니다  그 모든 것  인간이 사는 세상을 말한다  그는 그의 그림에 대해 다음과 같이 말한다  그는 그의 그림을  유심론 spiritualism 적이라고 한다  그는 사물을 보고난 후  그 사물의 이미지를 그리지 않는다  그렇다고 잭슨 폴록의 오토마티즘적 드로잉과 같은 무의식적 발현은 더더욱 아니다  그는 스스로 무엇을 그리는지 분명히 인식하고 있다고 말한다  그는 그리는 동시에 이미지를 떠올리며 그것들은 그의 정신으로부터 나온다는 것이다  그래서 그 이미지는 사람도 될 수 있고  부처도 될 수 있으며 그가 다니는 동네의 길도 될 수 있고  도시도  숲도 될 수 있다  그러면서도 동시에  명확히  무엇이다 라고 정의할 수 없는 아무 것도 아닌 것이다  그것은 모든 것을 아우르는  자연 이며 그의 정신으로부터 나온다  화폭에 붓이 처음으로 닿는 순간 그의 정신으로부터 실타래처럼 뽑아져 나와 자라나는 선들은 하나의 축이 되고 그 축을 중심으로 어느 한 쪽에 이미지가 부여되면 다른 쪽에도 그에 상응하는 이미지가 자리하게 된다  그의 선들은 유기적으로 얽히고 자라나면서 작품 전체에 살아 움직이듯 퍼져나가며 하나의 세계를 형성하게 된다  언뜻 정신없어 보이고  무의식적 발현처럼 보이는 그의 선적 드로잉 회화가  그러나 유심히 들여다보면 어떤 질서에 의해 전체와 부분이 유기적으로 통제되고 있음을 느끼게 되는 것도 이러한 이유 때문이다 그의 노마디즘은 회화에만 천착하지도 않는다  다양한 장르를 아우르며 자신의 행보에서까지 그의 삶 전체가 노마디즘을 표현해내고 있다  그에게 물었다  한국에 얼마나 머무를 거냐고  약 년쯤  그리고 그 다음엔  몽골로 간단다  그가 자신의 유랑에서 무엇을 찾게 될지 모르겠다  어쩌면 영원히 아무것도 찾지 못할 수도 있다  아무 것도 확신할 수는 없다  유랑이란 그런 것이다  그럼에도 불구하고 어딘가에 있을 자신의 근원을 찾아 유랑하며 자유로운 정신과 창조적인 삶을 영위하는 그는  현대가 낳은 전형적인 노마드일 것이다  우리가 그에게 주목해야 하는 이유는  그의 작품을 들여다보고 이해함으로써 근원에 대한 끝 모를 노스탤지어를 가지고 자유롭게 유랑하는 그의 정신에 우리 자신을 대입시켜 그 아름다운 여행에 조금이나마 동참할 수 있다는 점일 것이다  늘 묶여있어서 떠나고 싶다고 갈망하는 우리 현대인들이 그의 예술여정에 동참함으로써 그가 느끼는 자유를 조금이나마 공감할 수 있지 않을까 우리는 위로를 받을 것이다 노마드 nomad 유목민 유랑자 의 뜻으로  프랑스의 철학자 질 들뢰즈 Gilles Deleuse 가 언급하면서 현대 철학적 개념을 갖게 된 용어  노마디즘은 기존의 가치와 삶의 방식을 부정하고 일정한 자리에 정착하지 않고 옮겨 다니며 창조적 삶을 영위하는 일체의 방식을 말한다  이는 현대사회의 여러 현상을 설명하는 용어이기도 하다 유심론 spritualism  유물론 에 대비되며  이 세상의 궁극적 존재를 비물질적인 정신으로 보고  그로부터 생명을 가정하며 유기적 자연관을 표방하는 철학적 입장  벽 해 구주환 부산에서 태어나 대학에서 시각디자인을 전공한 구주환 작가는 우연한 기회에 년부터 카메라를 잡기 시작했다  작가로써 그 시기가 조금 늦을지 모르지만  꾸준한 작업 활동으로 부산 미술계에서는 심상 사진으로 그 이름이 알려져 있다  특히 소나무 작품은 이전 전시까지 그가 주로 표현한 소재였다  소나무는 이미 배병우 등의 사진 작가들을 통해 이미 익숙한 사진적 표현 방법이 되었지만 구주환 작가는  겹 혹은 결 이라는 타이틀 아래 아스팔트 위의 자연스럽게 벌어진 틈을 통해 소나무를 발견하면서 진부할 수도 있는 소재를 자신만의 내면적인 소리로 아스팔트 위에 치환시키고 있다  이번 전시는 구주환 작가의 내면을 바라보는 새로운 시선인 바다로 처음 선보이는 작품들이다  이 작품 역시 심상사진의 일환으로 작가의 현 모습을 바다를 통해 풀어냄으로 위로와 위안  그리고 치유를 받고 있다 작가노트 벽 해 바다의 고요함은 망각의 세계로 들게 하고  그 사나움은 사람을 용맹하게 만든다  바다는 변화무쌍한 얼굴로 사람들을 맞는다  그런 바다는 나에게 때론 가름하기 힘든 큰 벽으로 느껴진다  바다는 직면한 장벽인 것이다 차원의 공간은 카메라를 지나 벽과 같은 바다가 된다  수평선은 단지 벽에 그으진 선에 불과하다  충을 추는 바다도 보았고 아무말 하지 않는 바다도 나는 알았다  어제와 같은 바다에서 감정을 실어 벽으로 옮겨본다   Noise 눈은 감으면  무엇인가 어두움 속에서 서서히 드러나 불현듯 나타나고 사라지기를 반복하지만  응시를 통해 공간 속에서 어떠한 이미지로 발화한다  현실과 단절된 어두움 속의 이미지는 엄마 뱃속으로부터 세상으로 나와 인간의 시력을 갖기 이전에 보았었던  죽음을 앞두고 두 눈을 감고 마지막으로 보게 되는 어쩌면 그 속에서 다음 생을 위해 한 없이 기다리는 공간  다시 돌아갈 인간의 종착지가 아닐까 Noise 작업을 통해 인간은 의식과 기억 사이에 실존하는 공간에서 벗어날 수 없다는 것과 보이지 않는 무수한 것들의 실존을 이야기 하고자 한다 착상 눈을 감고 있을 때 보이는 형상들은 예전부터 나의 주요 흥미와 관심거리였습니다  사진을 전공한 나는 눈으로 보지 않지만 실존하는 형상들로 작업하여 그것을 통한 이야기를 시작하고자 하였습니다 발견 및 동기 LG전자 연구소에 입사하여 Mobile Camera 엔지니어로  camera이미지센서의 신호처리의 방법을 사용하여 Noise가 최고로 증폭되는 영상을 얻을 수 있었습니다  이러한 과정들 속에서 나의 카메라에 잡힌 많은 형상들은 내가 가졌던 궁금증  눈을 감으면 보이는 이미지  을 현실화할 수 있었습니다 작품화 과정 우리의 눈은 감았을 때도 무엇인가 어두움 속에서 서서히 드러나 불현듯 나타나고 사라지기를 반복하고  응시를 통해 공간 속에서 어떠한 이미지로 보이기도 합니다  보이지 않는 세계를 표현하기 위해 빛이 없는 상태에서 Image sensor의 신호를 증폭하여 과도한 Noise를 얻어 눈을 감을 때 인식하는 것과 유사한 방법으로 시각화 하였습니다 작가의 의도와 메시지 Noise 작업을 통해 인간은 의식과 기억 사이에 실존하는 공간에서 벗어날 수 없다는 것과 눈에 보이는 것만이 다가 아니라 보이지 않는 무수한 것들의 실존을 이야기 하고자 하였습니다 또한 현실과 단절된 어두움 속의 공간과 이미지는 인간의 시력을 갖기 이전에 보았었던  또는 죽음을 앞두고 두 눈을 감고 마지막으로 보게 되는 다시 돌아갈 그 어떤 곳을 추구하는 인간의 종착지라 느꼈습니다   ENTRE TEMPS 내 생을 지배한 것은 어둠이었다고 감히 말할 뻔 했다  그리고 또 감히 어둠 속에서 빛을 찾아 걸었으니 어쩌면 내 생을 지배한 것은 어둠이 아니라 빛이었다 고 말하려 했다  흑백의 이미지 안에서 내가 찾으려 했던 것이 어둠 속의 빛이라고  빛을 받치고 있는 어둠이라 고 하마터면 감히 말할 뻔 했다 그러나  그 모든 것에도 불구하고 흑백의 이미지 속에서 내가 찾고자 했던 것은 말로 표현된 것들과 그렇지 못한 채 남은 것들 사이에 들어있던 말  그려진 것들과 아직 그려지지 않은 것들 사이에 존재하는 그림  삶과 죽음의 틈새 사이에서 보였다 사라졌던 것들과 보이지 않았으나 존재했던 것  아직 드러나지 않은 보임과 보이지 않음이라 고 감히 말하고 싶어 하는 말하고자 하는 나와 말하려 하지 않는 나  그 사이에 존재하는  질문  무엇이  사이 를 가능하게 하는가  질문 사이  속을 채우며 그것을 지탱하는 것은 무엇인가  질문 사이 의 이쪽과 저쪽은 다른 것인가 Entre Temps은 불어로  그 사이에  그 동안에 라는 뜻을 갖는다  그리고 Entre와 Temps은 개별적으로 사이에 중간에  서로 라는 뜻과  시간  때  사이  동안  틈  시대  기회  철 을 의미한다  또한 Entre는 Entrer라는 동사를 가지며 이것은  들어가다  되다  싹트다  어떤 문제를 다루기 시작하다  이해하다  포함되어 있다 라는 의미를 갖고 있다 Entre Temps 전에는 Entre가 있고  그 다음 Entrer가 오고  Entre와 Temps 사이에는 Entretenir 유지하다 보존하다 와 Entrevoir 힐끗 보다  잠시 만나다 그리고 Entr ouvrir 반쯤 열다 가 있다 겨울  닫았던 덧문을 반쯤 열고 보니 며칠 째 온 세상이 하얗다  잠시 열어둔 채로 둔다  당분간은 발자국 남기며 사라지는 것들과 발자국 찍으며 걸어오는 것들을 위한 제다  신소장품 경남도립미술관은 년 소장품 수집의 방향과 현황을 관람객에게 소개하고 현대미술의 흐름과 그 예술적 가치를 공유할 수 있도록 신소장품전 을 마련하였다  소장품 수집은 미술관의 운영방향을 가장 잘 드러내며 그 미술관의 정체성을 가늠할 수 있는 중요한 사업이다  우리 미술관은 개관 전인 년도부터 매년 수집하고 있으며 현재 총 점을 확보하였다 우리 미술관의 소장품 수집절차는 작품추천과 부문별 전문가로 구성된 위원들의 심의와 가액평가 등을 거쳐 투명성과 객관성  공정성을 확보한 가운데 이루어졌다 지난해 추천된 점 중에서 구입작품은 점  기증작품은 점으로 총 점이 수집되었다  부문별 구입작품은 회화 서예 영상  점 등이며  기증작품은 사진 점이다  특별히 영상부문의 작품이 처음으로 구입되었고  인도네시아 현대사진이 기증되었다  뉴미디어 부분에 처음으로 구입된 작품 중에는 년에 제작된 백남준의  무제 Untitled  가 있다  이 작품은 채색된 둥근 기둥 위에 TV Monitor를 통하여 분의 편집된 영상이 반복해서 재생되는 비디오 작품이다  백남준 은 한국을 대표하는 비디오 예술의 선구자이다  그는 비디오 아트 Video Art 퍼포먼스 Performance 설치 등 다양한 매체를 통해 실험적인 공연과 전시로 예술의 범위를 확대했다  백남준의 비디오 설치작품은 수많은 TV 모니터의 사용을 통한 설치미술의 새로운 가능성에 도전했으며  현대예술과 비디오를 접목하는 데 결정적인 역할을 했다  한편  프랑스와 독일을 오가며 활발하게 활동하는 니꼴라 물랭 Nicolas Moulin 의  D 애니메이션  나치다치 Nachdatch  는 존재하지 않는 일련의 풍경을 만들어 내고 그 속에 관객을 몰입하게 하는 역설적인 비디오 작품도 수집되었다  물랭이 표현하는 세계는 현실이 아닌 먼 미래의 이야기이다  그것도 철저하게 계산된 건축적 구조물과 생명이 전혀 존재하지 않을 듯한 절대적인 공간이다  사진 영상 그리고 설치작업에 이르기까지 다양한 매체를 아우르는 니꼴라 물랭의 작업 세계는 한 마디로 공상 과학 영화 속에 등장하는 낯선 공간을 떠올리게 한다 신규로 소장된 작품들은 실측  촬영 이력 정리 등의 등록과정을 거치며 영구 소장된다  소장품은 경남미술사 정립을 위한 연구 자료일 뿐만 아니라 찾아가는 도립미술관과 기획전시  상설전시 등으로 활용될 것이다  이번 전시는 구입작품 중에서 부문과 제작연대  작품의 크기를 고려하여 제 전시실과 제 전시실  전시홀로 나누어 점을 배치하였다 경남도립미술관의 소장품 수집은 도민에게 당대의 미술문화를 누리는 기회를 제공하고 체계적으로 보존 관리하여 후대에 물려주는데 그 의미가 있으며  지속적으로 이루어지고 있다  또한  우수한 지역미술 작품에 대한 조사와 연구  객관적인 수집절차를 통해 수준 높은 전시를 기획하고  작가와 작품에 대한 사료의 확보는 물론 궁극적으로 지역미술의 발전과 창작의욕을 고취하는 것을 목적으로 한다   My gratitude  이원경 화봉갤러리 제  전시실에서는 이원경 개인전 Knitting Wire가 있습니다  이번 전시는 일상사물에 생물의 특성을 덧붙이하는 회회작업을 하던 이원경작가가 최근 꾸준하게 작업했던 철사로 뜨개질하여 재탄생시킨 식물들을 선보입니다  철사라는 강하고  남성적 소재를 뜨개질이라는 여성적기법으로 만들어내는 분류가 모호한 생물체들의 설치작업은 강함 그 속에 부드러움으로 공간속에 스며들듯 표현됩니다  철사로 뜨개질 하듯이 변형된 형태로 엮어가는 것이 움직일 수도 있고 감정이 살아 있는 생명임을 표현하고 싶었다고 하는 작가의 목소리에 귀 기울려 주시기 바랍니다   촉 야간비행 서울 성북동  스페이스 오뉴월 에서는  촉 야간비행  기획 김학량 전을 마련한다  장윤성과 자끄 드뉘망의 비디오 설치 작품 한 점씩으로 구성되는 이번 전시에서 장윤성은 망각 오독의 미래를 경계하는 뜻에서 사물 그것은 인간 삶을 정밀하게 구성하는 실질적 장치이자  때때로  압도적인 풍경이다 그것은 인간의 감각능력  바깥에  있고  인간은 끊임없이 사물의 시간  안으로 비집고 들어가려 발광한다  그 발광의 역사가 곧 기술 매체의 역사이고  또 상상의 역사이고  이미지의 역사이고  결국  그림 의 역사기도 하다  을 기록하는  카메라 테스트 를  자끄 드뉘망은  공동의 삶이 유예되는 지점으로서 독해할 수 있는 회화 를 선정해서 작품 일부를 임의로 잘라 해체 프레이밍  불연속적인 흐름 혹은 연주  속에 재배치하는  마주한 공동체 La Communaute affrontee  를 설치한다 이 전시는 주택가에 자리 잡은 갤러리의 입지적 특성을 고려하여 야간에  연주 되며  관람객은 바깥에서 전면 유리를 통해 들여다볼 수 있다  따라서 관람 상황은  면회 와 같은 구조를 이룬다  이 이상한 만남은 승인과 거절을 오간다  그것은 휘청거리는 낮과 밤  해와 달  또는 무엇과 무엇의 관계와도 비슷하다  이 비디오 연주가  귀가하는 주민들에게 작은 선물이 될 수 있을까  그렇지만 위안이나 휴식을 제공하는 무엇이 되고 싶지도 않다  의외의 조건과 시간에 느닷없이  엉뚱하고 다소 불편하게 관람객을 침범하여 의문이나 반성의 통로를 열어주는 게 더 낫다  이를테면  흡사 반딧불이나 기러기떼의 밤 드로잉 같은 이 비디오 연주를 통해 또 이 비디오 연주와의  면회 를 통해 낮 동안의 자신 으로부터 멀리 떨어져보는 경험을 할 수 있다면 어떨까  밤이니까 낮으로부터  분신  자폭  해체 쪽으로  생성에서 그 반대편으로  갓길  샛길로  밤이니까 전시작가 부 김초롱  권진아  유제은  박소연  변예슬  조영인 이시원  정윤정  조해나  황민규  김수진 부 김은영  이정윤  김상훈  김지은  박하민  조수민  노슬기  진민경 현정윤  권아영  양희연  원제현  홍덕기  이효정  이동혁  이여란 스카우트 갤러리 이마주에서는 매년 대학 졸업을 앞둔 예비 작가들의 작품들을 선보이는 기획 공모전인  스카우트  을 진행한다  지난 년 제  회를 시작으로 올 해 세 번째로 개최되는  스카우트  은 재능 있는 신인을 발굴하여 한국 미술계를 이끌어 나갈 차세대 작가로 향하는 플랫폼 역할을 맡고자 기획된 전시이다  각 대학의 추천 및 갤러리 이마주의  차 심사 과정을 통해 총 개 대학 명의 작품이 선정되었으며  평면회화에서부터 영상 및 설치 등 다양한 매체로 구성된 작품이 선보일 예정이다  이번 전시는 각각  부와 부로 나뉘어 진행된다 예술은 시대의 반영이다 라는 말을 증명 하듯 예비 작가들은 물질화  기계화된 현대 사회를 살아가는 우리들의 모습과 사회상을 풍자와 해학을 통해 적나라하게 표출하고 있다  소통의 부재에서 오는 군중 속의 고독과 외로움  정체성의 혼란과 파괴의 모습이 극단적으로 표현되기도 하며  인간 본질에 대한 철학적 사유와 내면의 고찰을 통해 답을 구하고자 하는 치열한 고민의 흔적과 진정성이 엿보이기도 한다 이번 전시는 미술계를 이끌어나갈 재능 있는 신인을 발굴한다는 취지와 더불어 이제 막 사회에 첫 발을 내딛는 젊은이들의 과거와 현재 그리고 미래에 대한 시각을 엿볼 수 있는 기회라는 점에서 그 의미가 크다고 할 수 있겠다  장르의 경계를 넘나들며 자유로운 표현과 사고를 바탕으로 한 이들의 작품에는 미래에 대한 희망과 함께 이 시대에 대한 혼란과 두려움이 고스란히 드러나 있다  이는 개개인의 고민이자 동시에 빠르게 변화하고 있는 현대 사회에서 야기되는 혼란과 혼돈  인간성의 부재와 단절 등 우리 사회의 문제점들에 대한 기성세대의 반성과 책임을 묻고 있는 것이기도 하다  우리 사회가 간과하고 있는 문제점들에 대한 염려와 그 안에서 희망을 찾고자 몸부림치는 사회 초년생인 예비 작가들의 목소리가 미술계의 발전을 위해 그리고 더 나아가서는 우리 사회를 위해 이제 한 곳에 모였다  예비 작가들을 향한 아낌없는 응원과 함께 이들의 작품을 통해 동시대를 살아가고 있는 우리 모두에게 현실과 미래에 대해 고민해 볼 수 있는 소통의 장이 되었으면 한다   허영순 셀 패턴의 등장은 종종 예술외적 소재를 다룸으로써 작가들은 일체의 장애물을 제거하면서 작품을 구성하는 요소에 특히 주목했다는데 있다  재료의 광범위한 선택은 년대 중반에 염색 기법과 바느질 기법에 자극받아 실크와 특히 면의 사용이 더욱 증가하였는데 직물로서는 일반적으로 섬세하게 잘 짜여진 면과 실크가 하나의 주된 재료가 되었다  여기에 다양한 재료가 첨가되면서 추상적 환상 오브제의 제작  그리고 인간의 모습을 묘사하는 단계에서 벗어나 건축  무대  조경 등 목적과 용도가 크게 달리하게 되었다  보기 위한 작품이 아니라 그 안에 존재할 수 있는  to be in  작품이 되었으며 생태적 관심과 사회적 관심이 함께 하였다 중략 이번 전시에서 셀 패턴의 반복과 구조적 확장은 프랙탈 기하학을 이론적 배경에 둠으로써  현대섬유미술의 셀 패턴의 구조적 매너 manner 를 섬세하게 표현하였다  구체적으로 말해서 셀 패턴의 단위 요소들과 이것들의 집합  나아가서는 단위들의 결합방식이 무엇인지를 작품에서도 드러내고자 한다   크리티컬 포인트 코오롱의 문화예술공간  스페이스K 대구 에서는 대구경북지역 신진작가 전시회  크리티컬 포인트 를 개최한다  지역 시각문화 발전에 기여하고 역량 있는 신진작가를 발굴하고 창작의욕을 고취시키기 위해 마련된 이 전시는 권재현  김종길  우병진  윤우진 등 네 작가의의 작품 여 점을 선보인다 영어로 임계점 을 이르는 화학 용어인  크리티컬 포인트 는 물질의 상태가 바뀔 때의 온도나 압력을 뜻한다  고체에서 액체로 혹은 액체에서 기체로 변화하는 순간을 뜻하는 전시 제목은 강렬한 창작 에너지로 자신만의 예술 세계를 구축해가는  중대한 기점 에 놓인  명의 젊은 작가들의 상황을 은유한다 참여 작가들은 자신만의 화법으로 젊은 예술감각을 발산하며 현대미술의 흐름에 동참한다  권재현은 현대 사회의 어두운 단면을 함축적으로 보여주는 미디어 속 이미지를  차원의 조형물로 재해석한다  부서지기 쉬운 얇은 합판 조각들을 이어 붙이거나 그 위에 화려한 색채로 덧입힌 그의 작업은 권력과 부를 향한 탐욕의 덧없음을 풍자한다  김종길은 타인의 시선과 사회적 규범에서 자유롭지 못한 현대인의 정신세계를 회화  조각  설치 등 다양한 방식으로 시각화한다  무질서한 도시의 모습과 기괴한 형태의 눈 이 한데 뒤섞인 모습은 그의 작품 속에 반복적으로 등장하며 현대인의 갑갑한 심정을 대변한다  우병진은 우리가 첫인상으로 사람을 예측하고 판단하는 선입견에 주목한다  작가는 그의 작품에서 일상의 행복한 순간들을 만끽하고 있는 등장인물들의 얼굴을 지워버리는 방식으로 선입견들에 대해 문제를 제기한다  윤우진은 삶에 대한 강한 애착  인간의 양면성과 광기  금기시되는 것들과의 소통 등을 화두로 삼는다  작가 본인의 기억과 경험을 자화상과 동시대인들의 얼굴로 그려낸 그의 작업엔 인간의 내면을 성찰하며 타인과 공존하고 소통하고자 하는 작가의 의지가 담겨있다 이들은 사회적 부조리와 사회적 금기  사회적 규범에 길들여진 우리와 서로를 대하는 태도에 대해 이야기 한다  작품을 통한 풍자와 은유로 삶에 대한 사유를 이끌어내는 이들은 결국 공존과 소통의 삶을 꿈꾼다  때문에 우리는 이들의 작품에서 새로운 희망과 변화의 시작을 가늠 할 수 있다 강렬한 창작 에너지와 순수한 열정이 돋보이는 이번 전시는 앞으로 이들의 활동을 더욱 기대하게 한다 또한 이번 전시에는 나만의 달력을 만드는 특별한 체험프로그램이 마련된다  관람객들이 새해의 소망과 다짐을 담아 직접 그림을 그리며 달력을 만들어 보는 체험프로그램을 무료로 진행하며 단체관람 예약 시 전시설명프로그램도 함께 제공된다 전시작가 웅으라 파라마르따 AA Ngurah Paramartha 데비 이까누르자나 Devy Ika Nurjanah  데디 레루 V  Dedy Reru  헬리 스띠아완 Herli Setiawan 이아바디 피코 Iabadiou Piko  마스리하르 빤줄 Maslihar Panjul  로벳 칸 Robet Kan  로싯 물리야디 Rosit Mulyadi  와휴 웨디아르디니 Wahyu Wiedyardini  옥타라 바카라 Oktara Q  Bakara Overnight Sensation 인도네시아 현대미술은 단기간에 선풍적 인기를 끌며 세상 밖으로 나왔습니다  이전까지 세계 무대에 잘 알려지지 않았던 인도네시아 미술은 소더비나 크리스티 같은 유명 경매회사에서 추정가를 훨씬 넘는 가격에 거래되면서 하루 아침에 세상의 주목을 받기 시작했습니다 그러나 이러한 인기의 근원에는 오랜 전통의 문화적 잠재력이 뒷받침 하고 있습니다 인도네시아의 현대미술의 시작은 년 반둥 Bandung 과 족자카르타 Yogyakarta  지역의 작가들이 시초가 된  새미술운동 New Art Movement  이라고 할 수 있습니다  이들은 인도네시아의 경제적 침체와 사회 정치적 상황에 대한 직접적인 재현방식을 통해 자신들의 시각을 드러냈습니다  이후 년대를 거치면서 인도네시아 현대미술의 국제화가 급속히 진행되는데  이것은 아시아와 태평양 지역의 국제적인 미술 행사에 몇몇 인도네시아 작가들이 초대되면서 시작되었습니다  이러한 일련의 전시들은 사회 정치적 메시지와 재현적 요소에 치중되었던 미술경향을 전환시키는 중요한 계기가 되었습니다 년대까지 주류를 이룬 재현적 미술경향은 새로운 정부의 등장과 함께 변화하기 시작하며  민주화의 도래와 함께 표현의 자유가 허락되면서 정치 사회적 메시지를 직접적으로 표현하기 보다는 자본주의와 대중문화에 대한 다채로운 표현들이 이어졌습니다  만화  일러스트  광고  그래피티 같은 대중문화적 요소들이 현대미술에 새로운 방식으로 반영되기 시작했습니다  또한 디지털 기술과 미디어의 발달은 인도네시아 미술의 재현적 요소와 결합하면서 극 사실적 경향을 가중시켰고 다민족 국가의 다양한 관습과 신화는 작품의 네러티브적 요소를 극대화 시켜 이야기를 내포하는 풍부한 화면으로 나타났습니다 이번 전시에 출품된 인도네시아 현대미술가들은 저마다 자기만의 색채로 현재 우리가 당면한 문제들에 대한 다양한 목소리를 내고 있습니다  강렬한 색채와 과감한 형태들  서정적 드로잉과 감성적 색채 등 다양한 서술방식으로 인도네시아의 지역성을 현대적으로 보여주는 본 전시는 세계미술시장에 새로운 스타가 된 인도네시아 현대미술의 진면목을 감상할 수 있는 좋은 기회가 될 것입니다   뱀은 봄에 탈피를 한다 뱀 다가오는 년은 년 만에 돌아오는 흑사 의 해이다  뱀은 예부터 신화  전설  민담에 자주 언급되며 인간 문화에 깊숙이 자리해왔다  매서운 눈에 징그러운 몸체를 가지고 있고 독을 품고 있기도 한 뱀은 부정적인 이미지로 인간에게 공포감을 주고 불쾌한 감정을 불러일으켰다  그런 반면 뱀은 역사 속에서 수호신의 상징으로 인식되기도 하며  표피 무늬의 규칙성과 화려함 등으로 인간에게 매혹적이고 긍정적인 이미지를 주기도 하였다  이처럼 뱀은 숭배와 배척의 양가성 ambivalence 을 지닌다  또한 자연의 이치에 순응하며 겨울철 내내 죽은 듯 땅 속에 웅크리고 있다가 허물을 벗고 과감히 자기 변신을 하며 지속적으로 성장한다 이 같은 뱀을 소재로 다가오는 년  월 일부터 한옥마을 가회동에 자리한 갤러리한옥에서 다양한 전공의 작가들이 뱀은 봄에 탈피를 한다 라는 주제로 전시를 갖는다 탈피 그리고 핑크붓다 Pink Buddha 프로젝트 아티스트 그룹 핑크붓다 Pink Buddha 는  뱀은 성장할 때 허물을 벗는다  그리고 탈피하지 못한 뱀은 생명을 잃고 만다 는 점에 착안하여 이번 첫 전시를 기획하였다  기획자 조수연 동국대대학원 불교미술전공 박사과정 을 주축으로 한 핑크붓다 구성원 이명아  이정은  전경희  정금률  정윤영  허효진 의 전공 분야는 회화 불교회화 동양화 서양화 패션  불교학 디자인경영  사운드아트 등 제각각이며 전시되는 작품 또한 회화  공예  의상  설치  음향 등으로 다양하다  다양한 시각에서 하나의 주제를 놓고 각자 불교적 시각으로 해석하고자 한 실험적인 전시이자 관람객이 종교예술이라는 무거운 주제에서 벗어나서 좀 더 친근감을 갖고 접근하게끔 유도한 관객 참여형 전시이다  종교예술의 형식적 탈피가 아닌 진정한 불교적 의미를 되찾고자하는 것에 뜻을 두고 기획되었으며  특히 설치작업에 있어서는 구성원 모두 공동으로 작업하고 그 완성을 대중에게 맡기는 작업형태로 대중과 작가들이 함께 작품을 만들어 나가는 열린 전시로 기획되었다 이번 전시에서는 핑크붓다의 기본 개념  즉 열려있는 불교사상에 중점을 두고 하나의 주제 아래 다양한 관점을 자유롭게 표현하고자 하였다  더불어 종교라는 그 자체만으로는 무겁게 자리한 불교예술을 보다 친숙하고 편하게 대중에게 알려서 불교의 본질적인 이해를 돕고자하였다   사의적 정물의 의의 사진같은 아니 사진 이상의 재현을 펼치는 하이퍼 리얼리즘이 더욱 맹위를 떨치고 있다  영상  사진 등의 다양한 미디어와의 상호작용이 보편화되면서 육안과 렌즈의 시야를 넘어선 재현은 의외로 다양한 시각 질서를 보이고 있다  특히 우리가 일상 속에서 평범하게 대해 왔던 사물들을 다양한 기법과 참신하고도 낯선 이미지로 재현함으로서 하이퍼 리얼리즘 회화는 매혹적인 회화의 방법으로 정착해가고 있는 것이다  회화의 방법이 렌즈에 의존하면서도 재현에 개입하고 해석하는 것은 결국 사람이다  대체로 육안보다 크게 확대되고 아울러 중성적이고도 차디 찬 이미지들이 많아 하이퍼 리어리즘 회화는 전통적 구상보다는 추상에 더 가까운 양식으로 분류되곤 한다 물론 작가에 따라 그 서술과 수사학은 대단히 다양한 양상을 보인다 여타의 하이퍼 리얼리즘 작가들과는 달리 김재학의 경우는 전통적인 아카데미즘에 기초하여 아카데미 회화에 새로운 바람을 몰고 온 장본인이다  보통의 하이퍼 리얼리즘이 대상을 다분히 차갑게  그리고 거리를 둔 체 문명에 대해 묘사하고 있는데 반해  김재학의 회화는 냉소적이거나 싸늘한 시선을 거두고 오히려 렌즈가 주는 엄밀성을 대상의 생기와 활력으로 승화하고 있다는 점에서 차이가 있다  오랜 세월 내공이 쌓인 작가의 필치가 빛을 발하는 결과이다  렌즈가 보여주는 방식  그 이상을 추구하기보다는 렌즈가 구현하는 정밀성을 그림에서의 생명력으로 승화시키는 것이 작가 회화의 특징이라 할 수 있다  요컨대 묘사의 방법은 그림에서 보는 바와 같이 대단히 엄밀하고 냉정한 듯 보이나 화면에 흐르는 공기는 상당히 청량하고 싱그럽게 느껴지게 된다  작가의 화면이 이러한 차별성을 가질 수 있는 것은 아카테미즘 회화 고유의 선율적인 필치를 근간으로 하면서도 고도로 절제된 환원적 공간성을 연출하고 있다는 점에 기인한다  작가는 사진적 재현성을 극도로 절제 내지는 부분적으로 한정하는 감각을 발휘하고 있다  지극히 부분적이지만 화면의 생명력과 대상 자체의 리얼리티  그 밖에 주제와의 긴밀성 등을 위한 경우에만 정밀한 고감도의 재현성을 부여한다  반면 그 밖의 공간에서는 추상표현적인 리드믹한 필치를 통해 화면상의 역동적인 대비와 시너지를 일으키게 된다  바로 이 점이 작가의 그림들에 대해 하이퍼 리얼리즘이라 부르기를 주저하게 한다  오히려 서야의 고전주의로부터 인상주의에 이르는 구상적 화풍들을 현대적으로 진화시키고자 하는 소박한 이상이 느껴진다  그럼에도 불구하고 작가의 그림이 종래의 아카데미즘 그림들과 차별되는 것은 바로 문인화에서 볼 수 있는 사의성이 두드러지기 때문일 것이다 물론 서양화에서의 사의성이라는 것이 미술사적으로 얼마나나 설득력을 가질지 모르지만  대상을 단순히 묘사의 객체로만 보지 않고 내면세계와의 심층적 상호작용의 객체로 파악하고 있다는 점이 의미를 가질 것이다  서법적 필치에서 오는 아우라와 문인화적 사의성이 풍부한 화면상의 배경들이 의외로 그 어떤 조형적 이미지나 요소들을 포용하고 있다는 사실을 작가는 간파하고 있었던 듯하다  작가가 아카데미즘과의 차별성을 실현하기 위해 화면 내의 사의성을 두드러지게 하는 것 외에도  대상의 묘사에 있어 결정적인 부분에 이르러 대단히 감각적인 붓의 움직임을 보이고 있음을 발견할 수 있다  과거의 아카데미즘 회화들이 보여줬던 붓끝을 보다 예리하고도 감각적으로 움직임으로써 사물의 이미지는 고감도의 리얼리티를 얻게 된다  이렇듯 유니크한 독자적 양식은 바로 오늘날 유행하는 하이퍼 리얼리즘 회화와도 일정한 거리를 두고 있는 것으로 볼 수도 있다  아니 두 요소들의 시너지에 의해 단순한 극사실보다 더 오싹한 재현성을 과시하고 있는 것이다 이러한 재현적인 그림은 극사실주의 특유의 중성성과 싸늘한 냉소성을 순화시키고 상대적으로 그것들이 대상의 생동감과 서정성을 함께 전해주고 있다  극사실적 묘사를 통해 단순한 묘사의 기술적 과시가 아니라 대상의 생기와 활력으로 승화시키고 있다는 점에서 작가의 성취가 돋보인다 하겠다 우리가 독창성을 작가에게 기대할 때 기상천외의 것을 기대하는 것은 아니다  흔히 볼 수 있는 것을 어딘가 모르게 참신하게 보여주면 되는 것 아닌가  작가가 단순히 아카데미즘 회화와 극사실 회화를 조합시키는 단계를 넘어  우리의 전통적인 사의정신에 입각하여 조합을 해낸 내용들이야 거의 간과되기 쉬운 내용일 수도 있다  그러나 작가의 바로 그러한 사소해 보이는 진화의 내용들이 그림다운 그림을 찾는 이에게 의외로 큰 호소력을 주고 있음은 자명한 것 아닌가   BELT 공모전 심사평 현재 미술계에서는 젊은 작가들을 대상으로 하는 다수의 공모전이 개최되고 있다  각 공모전 마다 상금과 전시를 지원하거나 레지던시 참여 기회를 주기도 한다  공모전은 자신의 작품에 대한 객관적인 평가를 통해 치열한 미술계에서 살아남기 위한 좋은 기회를 제공하기도 한다  BELT는 년 판화 분야의 신진작가 양성을 목적으로 시작되어 회째 이어지고 있는 전통을 지닌 공모전으로 년 사진 분야 년 미디어 분야까지 공모 영역을 확장하였다  BELT 공모전의 장점 중 하나는 선발된 작가들에게 개인전 개최의 기회를 제공함으로써 본격적인 작가활동을 위한 중요한 토대를 마련해준다는데 있다 미술계에서는 시기에 따라 특정 장르가 부각되거나 쇠퇴하는 현상을 종종 발견할 수 있다  멀게는 세기 사진의 등장과 함께 대두되었던 회화 종말론이나 미디어  설치의 확산으로 인한 전통 장르의 쇠퇴 등이 그것이었다  특히나 디지털 인쇄 기술의 발달로 인해 판화 분야는 한국뿐만 아니라 국제적으로도 어려움에 처한 상황이라고 할 수 있다 한국현대판화사를 간략히 살펴보면 년 한국판화가협회가 창립되어 이항성  최영림  박수근  한묵 등 당대의 중요한 작가들의 참여했고 년에는 한국현대판화가협회가 창립되었다 년 서울국제판화비엔날레가 개최되었으며 년 시작된 공간국제판화비엔날레는 현재까지 개최되고 있다 년대는 민중미술 계열에서는 시각적 강렬함과 메시지를 함께 전달할 수 있는 목판화가 전성기를 맞기도 했다 년대 다원화된 예술 경향의 전성기를 지나 년대를 지나면서 판화가들의 활동은 더욱 위축되었고  젊은 판화가들을 미술계에서 찾아보기 힘들어졌다  특히 전업 판화가는 거의 멸종 단계에 있다고 해도 과언이 아니다 장기간에 걸친 기술적인 숙련이 필요하며  표현 방식과 크기의 한계를 지닌 판화는 복수 제작 에디션 이라는 장점을 공유하고 있는 사진의 약진과는 큰 대조를 보이고 있다  사진의 경우 이제 전통적인 사진 촬영 기법과 프린트의 질적 가치를 무색케 하는 다양한 형식  특히 컴퓨터 후 보정의 힘  그리고 여러 매체와의 다양한 교합 가능성 등을 통해 현대미술의 강력한 표현수단으로 떠올랐다  이에 반해 판화는 여전히 매체 중심적이며  프레스를 이용하는 방식 또한 과거와 크게 차이가 없다  필자가 최근 보았던 전시에서 판화작품으로 착각했던 작품이 컴퓨터 프린트였다는 사실은 이제 수공적 스타일의 전통 판화의 실효성에 의구심을 갖게 하는 계기가 되었다 현대미술사에서 가장 효과적으로 영리하게 판화를 이용하고 대중화 시킨 작가라면 단연 앤디 워홀을 꼽을 수 있을 것이다  실크스크린을 자신의 팝 스타일 이미지를 확장시키는 핵심적인 매체로 사용한 점은 팝 아티스트로서의 위상에 걸 맞는 유연성을 보여준 것이었다  현대미술에서 화가  조각가  판화가 같은 전공별 구분은 거의 무의미하게 되었다  이젠 작가라는 타이틀 속에 모든 장르와 경향이 통합되고 있다  현재 판화 매체의 표현 방식은 한계에 부딪치고 있다  새로운 돌파구를 찾아야 한다  젊은 작가들은 판화 매체의 표현적 한계를 극복해야 한다  표현 방식의 확장을 위해 다른 장르와의 적극적인 결합을 시도해야 할 것이다  판화의 특성을 다른 작가들이 갖지 못한 나만의 무기로 삼아 보다 창조적이며  도전적인 실험이 필요할 것이다 이번 BELT 공모전 심사에서 가장 파격적인 부분은 최종 심사 위원이 본인 한 사람으로 지정된 것이었다  처음 단독 심사를 제안 받았을 때 꽤나 부담스러웠다  이런 저런 심사에 참여해봤지만 어디에서도 단독 심사를 한 적은 없었다  공모를 통해 특정한 작가를 선발하는 이런 식의 선발전은 한마디로 공평한  심사 과정이 요구되며  이를 위해 여러 전문가가 공통으로 인정하는  확실한  가능성을 보여준 작가를 뽑길 원하기 때문이다 하지만 전문가의 시각도 꽤나 주관적이기 때문에  종종 의견일치라는 이상적인 방향은 실종 되곤 한다  때로는 자기주장과 시각이 확실한 몇몇에 의해 딸려가며 좋은가 보네 라는 식의 수동적인 결론을 내리거나  논쟁을 피하기 위해 심사위원이 각각 한 표 또는 점수 를 매겨서 합산하는 방식을 취하곤 한다  그러나 이러한 점수 방식도 허점은 있게 마련  호불호가 확실한 작품보다 일견 두루두루 보통 점수를 받은 작품들이 총합에서 앞 설 때도 있는 것이다  결국 작품성  심사위원의 성향  점수 합계의 우연성 등 복합적인 변수가 종합적으로 작용하는 것이 바로 심사다 어쨌든 단독으로 작가를 선정하는 예상치 못한 부담의 즐거움 을 누리게 된 나는 지극히 주관적인 안목이지만 최대한 꼼꼼하게 포트폴리오를 심사하여 사진  명  판화 명의 작가를 선정하였다  선정 후에 개최될 갤러리 전시를 감안하여 작품의 독창성  표현의 완성도와 함께 대중성도 고려하였다 사진과 판화 부문에 비해 올해 두 번째로 포함된 미디어 부문 경우 아쉽게도 지원자 수가 너무 적었기에 선정 작가를 뽑을 수 없었다 사진 부문의 유현상과 고진영은 온갖 충격적인 사건으로 도배되고 있는 매스미디어의 홍수 속에서 무감각해진 우리들의 마비된 감각에 의미 있는 질문을 던지는 탄탄한 사진 작업을 선보였다 개국의 TV 뉴스 채널을 각각 한 장의 사진으로 압축시킨 유현상의 작업은 흥미로운 개념이 돋보였고  고진영의 사진은 비슷한 형식의 연출 사진 작업들 중에서도 뛰어난 완성도와 향후 전개 가능성에 무게를 두어 선정하였다  한 밤중 인적이 드문 장소에서 벌어지는 또 다른 쌍둥이 자아와의 퍼포먼스 사진을 보여준 윤아미는 환상 동화 속 이미지처럼 비밀스러운 이야기로 가득 차 있었고  한 밤중 대자연 속 스튜디오에서 빛나는 트리로 장식하고 촬영한 이은열의 사진을 자연이 신비로운 속살이 드러난 이미지 자체로 매력적이었다  현대 사회의 이미지가 축적되어있는 잡지의 속 페이지에 감춰진 이미지들을 발굴하듯 선택하여 오려낸 후 책 표지를 찍은 박희수의 작업  도시 속 건축 공간에 감춰진 구조물을 기하학적 평면 추상형태로 포착한 조은호의 사진은 젊은 작가들의 아이디어  열정과 부지런함이 돋보이는 작업이었다 판화 부문의 나광호는 자동 기술적으로 그려낸 다양한 형태의 패턴들을 판화 뿐 아니라 설치 작품 또는 공공미술의 영역까지 확대시킨 점이 돋보였고  생명 유지장치인  심장 을 주제로 다양한 이미지의 밝고 경쾌한 그래픽으로 변형시킨 강민정의 판화는 대중적인 디지털 프린트의 활용 가능성을 보여주었다  환상 소설의 삽화처럼 거대한 상상의 세계를 꼼꼼하게 묘사한 석판화 작업의 권오신  정교한 리노컷으로 완성시킨 매력적인 새 인간 캐릭터를 보여준 한지민은 판화는 인쇄 매체의 삽화 전통을 지닌 판화의 정통적인 orthodox  측면을 잘 보여준 작업이었다 이번 심사를 통해 선발된 명의 작가는 위에서 언급했듯 심사위원  인의 안목으로 선정되었다  다른 심사 위원이었다면 전혀 다른 결과가 나왔을지도 모른다  현대미술을 보는 눈이 그만큼 다양하기 때문이다  그저 바람이라면 이번에 선정된 작가들이 앞으로 년 년 뒤에도 꾸준한 작품 활동을 통해 한국현대미술을 대표하는 작가로 성장하여 나의 선택이 잘못된 것이 아니었음을 보여주길 바랄뿐이다   아름다운 그늘 빛이 소진되면서 어둠이 만들어지는 게 아니라 어둠이 지워지면서 빛이 생성된다는 걸 놀랍게도 정효만의 그림들은 말해준다  그의 그림 속의 작은 잎들에 묻어 있는 빛이거나  물살 위에 머물러 있는 빛들이거나  숲 사이를 지나가는 빛 가닥들은 모두 그가 미리 용의주도하게 설계해놓은 어둠으로부터 살아나와 존재하는 것들이다  그의 그림들 속의 크고 작은 빛들이  때문이다  그러므로 우리는 그의 그림 속의 그늘에 주목해야 한다  그야말로  자연 스럽게  드리워져 있는 그 그늘들에는 뻐꾸기 소리도 들어 있고 산들바람 소리도 스미어 있고  첫사랑도 시냇물 소리로 흐르고 있다  아름다운 그늘이다 정효만이 이번 전시회에 내어놓는 작품들은 처음부터 끝까지 치열한 나이프 작업으로만 이루어져 있다  붓으로 그리고 덧칠하고 지우는 게 아니라 물감을 나이프로 얹거나 쌓거나 베어내는 수천 번의 과정들로 이루어진 것이다  음각이나 양각  투각  상감을 하는 도공 의 그것보다도 더 정교하고 지난한 작업들을 통해서 얻어진 것이다  자연은 처음에는 화가에게 저항하지만 깊은 곳에서 성실한 화가와 악수한다고 고흐는 말했지만 정효만의 그림들에 있어서는 저항과 악수 같은 말들은 부질없는 수사 에 지나지 않을지도 모른다 자연과 화가 정효만의 관계는 셍텍쥐베리의 어린 왕자와 여우처럼 서로를 길들이고 서로에게 길들여지고 싶은 관계이기 때문이다 부탁이야 나를 길들여줘 나도 그러고 싶어 어느 날 자연보다도 더 자연스러운 그의 그림들을 보면서 문득 여우와 어린 왕자의 대화를 떠올린 적이 있었다  빛이 눈부신 것은 세상에 아름다운 그늘이 존재하고 있기 때문이듯  정효만의 그림들이 우리를 데려가는 세상이 이토록 눈부신 것  또한 그가 우리에게 보여주는 아름다운 그늘 때문이리라   아럇샤라무니에 아름답다 북스포르완다 북스포르완다 사진전에 여러분들을 초대합니다  북스포르완다 사진전에서는 작년  월 르완다에서의 활동을 기록한 생생한 사진을 보실 수 있습니다  또한 동화책을 들고 환히 웃는 르완다 아이들의 모습과 땀흘려 노력한 동화책 준비과정을 사진을 통해 관람하실 수 있습니다  앞으로의  기 동화책 내용을 결정하는 투표와 르완다 아이들에게 중고 영어책을 기부할 수 있는 코너  관람객의 한마디와 포토존 등 다양한 사진과 참여가 가능한 사진전  북스포르완다 사진전으로 여러분들을 초대합니다 북스포르완다는 매년 직접 출판한 동화책을 르완다 어린이들에게 전달하여 UN 새천년 개발 목표 MDGs  중  보편적 초등교육달성  실현에 동참하는 국제프로젝트입니다  청년들의 힘으로 홍보  출판  후원과 행사를 통한 기금 마련까지 이루어 나가며 UN이 선정한 최빈국 중 하나인 르완다의 아이들에게 지속 가능한 교육의 기회를 제공합니다  또한 유네스코 지속가능 교육 발전 프로젝트의 일환으로  북스 인터네셔널의 개 내셔널 챕터 중 하나로 활동하고 있습니다  르완다의 어린이들 명의 청년  그리고 당신이 북스포르완다와 함께합니다   NOCTURNES BAPTISTE FOMPEYRINE 가회동  에서는 프랑스의 젊은 작가인 Baptiste Fompeyrine의 판화 전시를 기획하고 있다  아직 파리 Beaux Arts의 학생이지만 년부터 이미 프랑스에서 작가로서 활동해온 그는  자신이 경험한 현실과 거기서 추출해낸 무의식의 세계를 작품으로 표현하고 있는 앞날이 기대되는 유망한 작가이다  사진 작업을 하며 보여지는 이미지를 담는데 한계를 느낀 그는 페인팅을 통해 자신의 세계를 펼친다  그런 그에게 있어 판화 작업은 드로잉의 개념이다  복제가 되는 판화작업의 특성상 페인팅이 가지는 오리지널리티의 한계를 극복하는 수단이기도 하다  그의 작품에는 묘한 매력이 있다  고전주의 시대를 떠올리게 하는 화풍을 가지고 있지만 그렇다고 해서 결코 지루하지는 않다  현실에서는 경험할 수 없는 무의식 속에서 얻은 자신만의 해석이 작품으로 녹아있기 때문일 것이다  그는 일상에서 지나쳐왔던 풍경 속에서 자신이 부각하고 싶은 부분이나 시  소설  음악  그리고 꿈 등에서 모티브를 얻어 독특한 작품세계를 펼치고 있다 NOCTURNES 야경  이라는 이번 전시 주제는  물론 암흑 속에서 잔잔히 드러나는 그의 세계이기도 하지만 어쩌면 그의 잠재적 가능성을 가늠해 볼 수 있는 좋은 기회이기도 한 것이다  이번 전시의 작품들이 페인팅이 아니라는 점이 아쉬울 수도 있지만  드로잉으로서 제작된 판화들은 그의 일상을 그대로 드러내 주는 일기장 같은 것이기에 더욱 친근하게 다가설 수 있는 장점을 가지고 있다  Fompeyrine 작가는  월이면  개월 이라는 한국에서의 짧은 일정을 마치고 고국으로 돌아간다  에칭  석판화  드라이포인트 등이 선보여지는 이번 전시에서 그의 가능성을 지켜봐 주시기 바란다 작가노트 기억속의 풍경들 내가 사진을 공부하던 시절  나는 밤이면 낮 동안 돌아 다녔던 장소에 대한 기억을 더듬어 보았다  나는 과제 발표를 준비하며 현실 너머에 존재할 수 있는 의식의 이미지를 만들어야겠다고 생각했다  그때 이후로 나는 현실 무의식을 포함한 속에서 내가 지나온 장소들에 대한 기억을 재구축하여 그 과정을 이미지로 추출하려고 노력하고 있다  나는 이미 존재하는 이미지는 더 이상 사용하지 않는데  마치 시인이 자신이 원하는 이미지에 더 가까이 다가가기 위해 무심의 상태로 자신의 시상들을 재구성하여 시를 쓰는 것처럼  나에게 있어서는 페인팅  드로잉 그리고 에칭 작업이 현실로부터 이미지를 구축하는 것 이상이라는 것을 인식했기 때문이다  과거에 페르시안 미니어처 작가들이 동판을 사용했던 것처럼  나는 내면을 비추는 거울로서 글보다는 동판 위에 이미지를 구성하는 방법을 사용한다  나에게 있어 작업은  현실을 바라보고 그것으로부터 무언가를 배우는 것으로부터 비롯된다  이 방법은 내가 평생을 배우는 자로서 존재해 주게 한다  왜냐하면 현실은  내가 실체와 그것을 투사한 것들 사이에서 뭔가를 잡아내려고 노력하는 깊고 어두운 우물과도 같기 때문이다  이번 전시의 제목인  NOCTURNES 야경 은 이 이미지들이 어둠으로부터 나오는 것임을 의미한다  나는 각각의 드로잉을 만들어내는 창작의 충동이 어디로부터 오는지 정말 모르겠다  시를 읽으면서 오는 특별한 정신적 깨우침의 결과인지  아니면 길거리 골목 어귀에서 일깨워진 현실 너머의 어떤 의식에서인지 나는 이 작업을 동판에 은밀히 새기는 나의 비밀 일기장으로부터 도려낸 조각들 같은 것으로 생각하기로 했다   풍경 속의 풍경 젊은 화가 김현정이 전통 회화  그것도 풍경에 끈질기게 매달리는 이유가 무엇일까  김현정은 자신의 기억 한 순간에 포착한 내밀한 풍경의 정감을 회화로 재구성한다  화가의 기억은 주택가의 계단과 벽면에 담담하게 내리비친 그림자  작업실에서 내려다본 고즈넉한 밤의 주차장  개발로 파헤쳐진 기이한 공동묘지  하얀 안개 속의 희끄무레한 풍경  고층빌딩의 유리벽에 투영된 도시 풍경  땅거미 내려앉는 도심의 고가도로와 보도  시골집 담벼락에 쌓인 덤불더미 등 지극히 비근한 일상의 풍경을 붙잡는다  바로 그 시간  바로 그 공간  자신에게 각인된 풍경의 기억을 자신만의 분위기로 불러내는 일이다  풍경 속의 기억은 사회적 메시지 같은 특별한 의미는 아닐지라도 개인사에 얽힌 적지 않은 내러티브가 숨어 있다  기억이란 언제나 현재를 축으로 해서 모든 과거의 체험을 아울러 재생하고 재구성하는 유동 의 의식 현상이기 때문이다 그렇다면 김현정의 그림은 풍경을 있는 그대로 재현하는 진부한 구상 그림과는 무엇이 다른가  풍경의 성질을 드러내는 이 화가의 구도나 색채  표현 기법이 워낙 정공법이어서 혹자는 이 작가만의 풍경의 독자성에 의문을 제기할지도 모른다  나도 처음에는 그랬다  문제의 핵심은 하찮은 풍경에서 만나는 낯선 정감의 실체에 있다  김현정은  풍경 속의 풍경 을 그린다  풍경의 어느 한 구석 모퉁이의 피부를 집요하게 파고들기도 하고  풍경의 피부를 벗겨내고 저 깊은 속살로 시선을 침투시키기도 한다  말하자면 눈앞에 가까이 존재하는 것에서 출발하여 저 아득히 멀리  존재하는 것의 단 한번뿐인 현상 요컨대 아우라 Aura 를 쫓는 것이 김현정 회화의 지표이다 바로 이 아우라를 회화로 각인시키는 조형 감각 다시 회화적 감각이 중요하다 이번 개인전에는 새로운 작품이 나왔다  이전과 느낌이 달랐다  작품의 감각이 좀 변화했다  아니다  감각이 좀더 깊어졌다  무엇보다 하늘 속의 하늘  그 여름의 어떤 날 이 압권이었다  도시 뒷골목의 담벼락을 그린  달 없는 밤 에서는 추상 의지가 배어 있어 변화의 기운을 읽을 수 있다 두 작품은 수면 위에 떠있는 꽃과 풀  오리 같은 생명체들  그리고 수면에 어른거리는 하늘과 흔들리는 구름  살갗을 스치는 바람의 촉감까지를 붙잡은 풍경이다  그것은 원래  그림이 될 만한  픽처레스크 Picturesque 한 소재가 결코 아니다  그럼에도 화면은 우리의 시선  우리의 가슴을 꽉 붙잡는 숭고미로 물들어 있다  그림이 살아 있다  얇고 투명한 색을 겹겹이 쌓아올려  그 수많은 레이어로 촘촘히 직조된 물감의 층들은 피부와 뼈와 살을 이루어 하나의 생명체로 꿈틀꿈틀댔다 화면으로 바짝 다가서 보았다  눈앞의 화면은 풍경 이전에  색채로 뒤덮인 하나의 평면 이었다  줌 인 아웃  부분 전체의 지각의 네트워크에 따라서  전망의 차이 를 체감할 수 있다  여기 평면 회화에서도 우리는  지각의 현상학 을 적용할 수 있으리라 순간순간의 감각을 숨 가쁘게 실어 나르는 출렁거리는 붓 터치  서로 밀고 당기고 드러내고 뒤덮는 물감 입자들의 거침없는 투쟁의 아우성  화면을 경영하는 긴장과 이완의 호흡들 김현정은 이렇게 화면의 지층을 세포조직처럼 조밀하고 풍성하게 건설한다  그렇다 회화는 구상이나 추상 이전에 움직이는 손의 작업  수공성이 자기 증명의 절대 기반임에 틀림없다  그래서 나는 자주 그림을 화가의 신체 운동  일종의 퍼포먼스로 규정하곤 한다  말하자면 회화란 붓이라는 감각의 더듬이로 화면을 경작 하는 몸의 흔적들 캔버스에 실현된 화가의 뜨거운 신체의 경연장이 아닌가 그림 그리는 건 연애하는 일과 같아요 김현정이 말했다  회화와의 연애  화가가 이 세상의 사물과 풍경을 만나는 일은 때로는 우연이요  때로는 필연이리라  그러나 그 만남의 희로애락을 화면에 끌어안고 예술이라는 성 을 축조하는 가열한 몸부림이야말로 화가의 일  바로 회화가 아닌가  몸과 마음을 총동원하여 사랑하는 애인을 보듬듯 화면을 조형해 가는 이 집요한 페티시즘 Fetishism 이야말로 회화와의 가장 뜨거운 연애 수단이 아닌가  회화는 하나의 살아 있는 유기체와 같은 것  이 회화 본연의 성으로 더 깊이 질주하는 김현정의 성장을 지켜보는 일이 나는 아주 즐겁다   생물 이 된 집들이 사는 마을  이보윤의  집 하루가 시작된 다  집을 나선다  하루가 저문다  그리고 우리는 다시 집으로 돌아온다 집 이라는 공간은 우리의 사회적 페르소나를 덧칠하거나 지우는 관문이 되는 지점으로서 위치한다  집에 돌아오는 순간 김부장님  이과장님이라는 직함의 그림자는 흐릿해지고 표정은 좀 더 편안하게 풀어진다  그리고 집 밖에서의 생활과는 다른 의미에서의 일상이 이어진다  가족이라는 혈연 공동체의 구성원들이 집 밥 을 함께 먹고 담소를 나누고 각자의 하루를 정리하며 몸을 누인다  잠을 자는 공간이라는 것은 곧  새로 깨어나는  오늘 을 처음 맞이하는 장소라는 의미와 상통한다 이보윤의  집  연작에는 이런 집의 특성이 밝고 따스하게 자리한다  화창한 햇빛 아래 색색의 지붕을 드러내고 있는 집들은 무생물이지만 생물과 같은 활기를 지닌다  이보윤에게  집 은 제 몸에 사람을 품어  먹게 하고 잠들게 하고 성장케하는 생생한 공간이기 때문일 것이다  그것을 증명하듯 누군가의 빨랫줄에는 빨래가 널려있고 누군가의 옥상에서는 식물이 자란다  무료한 고양이에게 지붕을 가로지르도록 제 몸을 내어주기도 하며 고추가 붉게 익어가도록 하는 살아있는 자리  그곳이  집 이다 일상 공간을 원거리에서 조망하며 삶의 이면을 통찰하는 작가의 집요한 시선은 집에 대한 익숙한 이미지를 환기시키면서도 독특한 신선함을 잃지 않는다  정밀한 탐사에 집의 시원 에 대한 진지한 고민이 더해진 까닭이다  따라서  집  연작은 낮 편뿐만이 아니라 밤  심지어 눈이 오는 풍경에서도 부드럽고 따뜻한  인간의 체취 와 같은 것이 일관되게 느껴진다  각각의 공간들이 빚어내는 고유한 온기가 이웃의 서로 다른 그것과 조화를 이루는 그녀의 집들은 집이라는 개체 각각이 피가 돌고 맥이 뛰는 생의 자리임을 시사해주는 동시에 그 집합이 하나의 커다란 유기체와 다름 아님을 깨닫게 한다   오래된 미래 빠르고 새로운 것에 주목하는 현 시대를 필름 카메라 라는 아날로그적 시선으로 들여다본다  많은 것을 간편하게 보관하고 저장하며 기억하는 듯 보이는 정보화 시대이지만  그 속에서 놓치고 있는 사소하고 소소한 일상을 기억하고자 한다   민화로 전하는 새해덕담 엄미금 아트매니지먼트그룹  주 예술만세는 예술만세 갤러리에서  설날맞이 엄미금 초대전 민화로 전하는 새해덕담전 을 개최한다  우리 조상들은 새해를 맞이하면 가족의 건강과 행복을 염원하기 위해 민화 를 선물하는 풍속이 있었다  민화 는 상상속의 동물을 포함한 우리 생활 주변의 모든 만물을 소재로 삼아 일종의 꿈을 그린 그림이다  따라서 민화에는 부부의 금실  다산과 오복  무병장수와 부귀 공명과 같은 기원과 우리 조상의 삶의 지혜와 해학  정서가 담겨있다  이번  민화로 전하는 새해덕담 전은 새해를 맞이하여 가족과 지인에게 행복을 전하는 따뜻한 전시회가 될 것이다   문래일기 새나라 자동차 프로젝트 한국 사회의 급속한 산업화로 형성된 문래동은 재개발과 문화예술의 활성화라는 양면성이 공존하는 곳이다  특히 영등포의 중심인 문래동은 년대 동양방직  종연방직 등 신식방직공장이 세워진 곳으로 이후 년대에는 철재상  기계  섬유 등 제조공장 등이 들어서 국가경제 발전의 첨단산업기지 역할을 했다  하지만 년대부터 시설이 노후해지고 정부의 도시계획에 따라 공장들이 서울 외곽으로 빠져나가면서 문래동은 서서히 쇠퇴하기 시작했다 이 같은 문래동의 흥망성쇠는 택시운전을 했던 나의 할아버지와 아버지의 인생과 닮아있다 년대만 하더라도 택시는 여유 있는 사람이 타는 특별한 교통수단이었고 택시운전사는 고급 신형차를 탈 수 있다는 매력으로 선망의 대상이었지만 산업과 소비의 발달로 택시가 흔해져 버린 지금은 더 이상 그렇지 않다  이번 전시에서는 지난 몇 달간 문래동에서의 체험을 본인의 시각으로 재구성한  문래일기 라는 영상과 기록물을 선보인다 이것은 연암 박지원의  열하일기 를 오마주 한 작품으로 현대판  박지원 의 시선으로 실제 문래동에 거주하며 지역 커뮤니티를 통해 찾아낸 한국 근현대의 경험과 동시대 풍경을 담아낸 것이다  문래동을 둘러싼 다양한 삶과 시공간 속에서 본인의 아버지가 대의 박지원을  나는 대의 박지원으로 분해 실제와 허구를 넘나들며 새로운 시각 체험을 선사한다  문래동에 거주하는 다양한 연령층의 사람들은 한국의 산업화 과정을 지켜보며 버블과 붕괴를 두루 경험한 세대이다 대와 대라는 두 박지원 역할을 통해 문래동 속에서 인위적이면서도 자연스런 만남의 과정과 세대 간의 시각 차이 등 그 동안 잘 드러나지 않은 이야기들도 끄집어내고자 했다 이 작품은 문래동을 중심으로 한국 사회의 정치  사회  문화적 맥락을 포착한 내 삶의 여행기라 할 수 있다 지난 몇 년 간 다양한 지역을 돌아다니며 진행했던  아트택시 프로젝트 는 처음부터 커뮤니티를 생각한 작업은 아니었다  분단의 현실과 재개발  철거  폭력 등이 난무하는 한국의 실상은 근본적으로 인간의 삶  거주의 문제와 직결된다 아트택시 프로젝트 는 비정주  임시거주의 방식으로 떠돌고 있는 존재로서  최근에는 서울 문래동을 둘러싼 문제를 통해 개인적 관심을 확장시켰다  가족사에 있었던 택시를 사회  정치  문화적 관점으로 넓혀가면서 다중적 사회인식을 건드리는 방식으로 작업을 진행했다  특히 실제와 허구로 교차 편집한 영상 작업에서 택시기사로 일하다 졸지에 예술가가 된다는 설정은  예술가로서 진행한 택시운전사의 역할을 뒤집어 봄으로써 예술제도에 대한 문제와 작업에 대한 성찰  분석  욕망에 대한 탐구이다  자동차는 나의 감수성과 새로운 경험들을 연결하는 매개체로서 이 작업에서도 중요한 역할을 톡톡히 수행하고 있다 나는 통제되지 않는 자아의 양면성을 발견할 때 두려움과 거부감을 느낀다  이는  이상적인 나 라는 스스로가 세운 기준에 어긋나는 행동을 하게 되거나 반대되는 생각을 품을 때 발견된다  자아의 괴리  양면적 기질은 지극히 인간적이라는 증거이지만 이를 받아들이지 못할 때 삶은 불행으로 가득해 보인다 양면성은 인간이 관여된 모든 세상의 일에 반영되는 특성이다  개인이 타인과 사회를 만나 겪어가는 일들은 반드시 퍼센트 선하고 악하다고 말할 수 없다  누군가에게 이로운 일이  다른 누군가에게는 해로운 결과를 낳을 수 있는 것이다  사건은 개인에게 주관적인 해석으로 기억되며  실지 사건의 객관적 사실은 무의미해진다 나는 지난  년간의 관계에서 겪었던 나의 주관적 감정들을 직면하고 수면 위로 끄집어내고자 한다  눈 코 입이 없는 인물이나 익명의 풍경에 자기를 대입시킴으로써 사적인 사건의 경험은 형상화  객관화된다  상상력과 무의식에 의존한 비논리에 인도되어 작업이 된다  작업은 파편적 이미지들 전체가 모였을 때 하나의 완성된 이야기가 된다 빨간 이는 파란 이이기도 하고 빨간 이이기도 하며  검은 덩어리이기도 하다  아무것도 아니기도 하다  나와 가장 닮았으나 다른 얼굴을 가진 내 안의 또 다른 나 이상적 기준대로 살도록 놔두지 않는 나  통제되지 않는 다른 나는 나와 가장 닮았으면서도 반대이다  이는 나와 가장 친하면서도 가장 멀다   서로서로 배웁니다 이상한 스타일을 꿈꾸며  놀아보고자 하는 이번 전시는 졸업 이후  혹은 작업을 전개하는 과정에서 찾아오는 공허함을 서로 나누고 공유하여  서로서로 배우 고자 한다  이는  젊은 작가들 에게 한 번의 전시가 이들의 공허함을 채울 수 없다는 판단에서이다 전시장은  배움의 장소 이다  이곳에서는 기존 시스템에 들어가기 위한 방법을 배우는 것을 지양한다  자신이 가지고 있는 그 무엇인가 그것이 아무리 사소할 지라도 를 서로서로 나누고 배우면서 자신 삶의 태도를 점검하고자 한다  참여 작가들은 매일  넓은 의미에서  드로잉으로 배움의 결과물을 도출한다 전시장에는 하나의 책상이 있다  이 책상은 대화  사유  나눔  창작이 동시다발적로 일어나는 장소이다 작가들은 매일 월요일에서 토요일 시까지 이 책상 앞에 도착해야 한다 작가들은 돌아가며 자신의 주도하에 아무리 사소한 것일지라도  다른 작가들에게 배움을 제공해야 한다 작가들은 이 배움의 결과를 몸에 체하하도록 노력하고 매일 넓은 의미의  드로잉으로 추출해 전시장을 채워야 한다 전시 기간 중 작가들은 다른 작가들에게 어울릴만한 대화 상대자를 소개해 줘야 한다  대화 상대자의 선택과 매칭은 전적으로 진행자의 몫이다 작가들은 전시장을 찾는 모든 이를 환영하고 그들의 말에 귀를 기울여야 한다   락스타 갤러리토스트에서는  락스타 이 열립니다  이번 전시에서는 한국의 개성파 인디뮤지션 명이  자신이 동경하는 락스타의 모습을 작품을 통해 직접 선보입니다  미술과 음악의 경계를 넘나들며 다양한 활동을 쌓아온 명의 작가들이 선보이는 작품들을 통해  형식이나 장르에 얽매이지 않는 자유로움을 느껴볼 수 있을 것입니다  또한  뮤지션이기도 한 명의 작가들이 그들에게 영향과 감동을 준 뮤지션을 작품으로 표현하고 있는 만큼  그림을 통해 그들의 음악세계까지 엿볼 수 있는 새로운 기회가 될 것입니다   반허공 Mid Air A SPACE COLONY 는 년 한 신문기사와 도판에서 시작한다  우주과학의 발전으로 우주식민지를 건설하리라는 년 밀레니엄의 모습을 내다본 이 기사의 추측은 현실화 되지 않았다  나는 여기서 이미 과거가 되어버린 미래의 이야기로 시간의 흐름이 뒤틀려 분열됨을 공상한다  여기 서로 다른 두개의 년이 있다  하나는 인류의 우주과학이 고도로 발전해 중력의 문제를 해결하고 지구에서 우주까지 생활권을 넓힌 세계이다  토성의 띠와 같은 형태로 지구에 인공 띠를 만들어 그 위에 우주식민지를 건설한다  다른 하나는 도시 중심에 있는 거대한 두 개의 빌딩에 비행물체가 돌진하여 폭발한 사건을 지구의 모든 사람들이 바라보게 되는 세계이다  두 세계가 서로 접붙는다  비행물체가 돌진하여 우주식민지가 폭발하다  그곳의 사람들은 저마다 폭발로 인해 물리적 질서가 교란된 환상적 순간을 맞이한다  공간을 베어버리는 회칼  새로운 우주를 토해내는 블랙커피  뒤섞인 시공으로 모두를 빨아들이는 욕조 배수구  두루마리 풀리듯 풀려버린 엘리베이터  별들을 얼려 떨어뜨리는 냉장고   Moonlight Anthology 이재삼 코오롱 그룹의 문화예술나눔공간 스페이스K는 이재삼의 개인전을 개최한다  화가 이재삼은 강릉대학교와 홍익대학교 대학원 서양화과를 졸업하고  지금까지 스무 번의 개인전을 비롯해 수많은 기획전에서 꾸준하게 작품을 선보여왔다  지난 여 년 동안 한국의 문인화 전통을 서양화 재료인 목탄으로 재해석하는데 천착해온 그는 이번 전시에서 달빛아래 은은하게 빛나는 풍광을 통해 우리 산하에 스민 신묘와 영험의 아름다움을 전달한다 문라이트 앤솔로지 Moonlight Anthology  라는 부제로 선보이는 이번 전시에는 이재삼의 근작을 포함한 여 점의 대형 작품이 전시된다  한국화의 전통적인 소재를 필묵이 아닌 목탄으로 표현한 그의 작품은 매화와 대나무  소나무  폭포 등 자연물이 중심 소재로 등장하지만  화제 만큼은 모두  달빛 이다  작가는 고풍스럽게 빛을 발하는 월하 의 풍경을 묘사함으로써 진짜 주인공을  달빛 으로 바꾸어 놓는다 어두운 밤을 배경으로 오직 빛을 통해 윤곽을 드러내는 여러 형상들은 외려 달의 존재를 역설적으로 강조한다 이재삼은 대상을 가시화하는 데 있어 밝은 부분은 하얀 바탕 그대로 남기고 어두운 부분은 덧칠하는 기법을 구사한다  이렇게 비움으로써 드러내고 채움으로써 감추는 수법은 빛의 역설적인 존재 방식과 공명하며 달빛이라는 표제와 일체를 이룬다  역설의 미학은 작가가 작품 활동 내내 변함없이 고수해온 목탄이라는 재료적 속성에서도 엿보인다  죽은 나뭇가지를 태워 만든 목탄으로 살아있는 자연을 묘사한 그의 작품에서 생 과 사 의 순환 고리는 하나로 연결된다  캔버스 위에 켜켜이 쌓아 올린 목탄 입자의 짙고 거친 물성 은 대자연에 내려앉은 유구한 세월을 의미하며 정서적 울림을 준다 무엇보다 작가가 직접 전국 각지를 돌며 이 땅을 지켜온 고목이나 오랜 풍광을 찾아 정교하게 담아낸 점 또한 의미심장하다  상상이나 생각 속에 있을 법한 관념 산수가 아닌 그의 실경 작품은 우리나라에서 나고 자란 생명에 담긴 한국적 정신과 정서를 일깨운다 특히 이번 개인전에 전시되는  미터 높이에  미터 폭에 이르는 대작은 마치 실물 크기의 풍경을 전시장에 그대로 옮겨놓은 듯한 착각을 불러일으키며 자연에 대한 경외감을 자아낸다  우리 산하의 야경을 남다른 시선으로 조명한 이재삼의 개인전은 그야말로 달빛이 엮어낸 서정성 넘치는 화편을 가려 뽑은  문집 anthology  과 다름이 없다 스페이스K가 새해 첫 전시로 선보이는 이번 이재삼 개인전에는 나만의 달력을 만드는 특별한 체험프로그램이 마련된다  관람객들이 새해의 소망과 다짐을 담아 목탄과 연필로 직접 그린 드로잉 작품이 함께 하는 달력 제작 프로그램은 무료로 진행된다   김성호 매년 연말이면 캘린더의 계절이라고 할 만큼 다양한 캘린더들을 선물로 주고받으며 송구영신 을 인사한다  올해는 세계경제 위기 속에서 여느 해 보다 공짜 캘린더를 찾아보기 힘들 정도로 위축된 실물 경기의 흐름을 보여 주고 있다  하지만 지역 기업들에서 제작되어 배포되고 있는 캘린더에는 하나같이 지역 미술인들의 작품들을 담고 있어 어려운 환경 속에서 지역 문화 발전에 대한 배려를 느끼게 해주고 있다 그 중 년 대구백화점 캘린더 작가인 선정된 서양화가 김성호의 원화전은 캘린더의 인쇄매체를 통해 받았던 감동을 원작으로 이어지게 해준다 이번 원작 초대전은 대구백화점 기획으로 대백프라자갤러리 B관에서 마련된다 밝음과 어두움의 경계에 있는 아스라한 빛을 통해 보이는 일상적인 풍경을 그리는 김성호 작가는 새벽의 표정을 풍부한 빛을 통해 빚어내는 작가로 국내외에서 인정받고 있는 작가이다  작가의 작품은 도시가 가진 다양한 면모를 그려낸다  도시의 중량감  거대한 존재감  실재감을 견고하면서도 가볍게 터치해 낸 그의 풍경은 특유의 나이프 스트로크 knife stroke 로 살아나게 된다 그의 배경은 주로  낮과 밤이 만나는 경계선상의 시간대 인 새벽이나 밤이다  작품의 배경이 되는 특정한 시간대는 주변의 어둠과 극명하게 대립되는 한정된 빛을 통해 형상을 확인할 수 있기 때문에 형상은 명확하지 않고 실루엣으로 인식된다  찰나의 순간이 내보이는 인상을 빛과 어둠의 조화를 통해 풍경으로 완성하고 그 느낌을 전달하고자 한 작가의 흔적들이 보이는 부분이다  이러한 작가의 작품성향들은 불분명한 형상의 표현을 통해 작가는 구상과 비구상이라는 회화의 경계를 넘나들고 있다는 평가를 받고 있다 지역 출신의 작가로서 국내외에서 활발한 활동을 하고 있는 김성호의 이번 전시는 호 원작들과 소품들이 전시되며 카렌더 제작을 기념해 원화를 착한 가격으로 직접 소장할 수 있는 기회를 제공해 줄 예정이다  이번 초대전에는 여점의 작품들이 선보일 예정이다   공상 류승환 캔버스 속에 등장하는 하나의 극소화된 인물들과 대비되어 더욱더 거대하고 극적인 자연풍경들은 마치 손에 땀을 지게 하는 액션 영화의 한 장면을 연상시킨다  대중화되고 보편화되고 누구나 즐길 수 있는 영화처럼 회화가 재미나졌으면 하는 작가 류승환은 자신의 머릿속 다양한 이야기들을 시각적으로 재미있게 읽을 수 있게 하는 그림 그리는 법을 터득하였다 자연광경과 인간의 모습을 아주 적절하게 의도적으로 확대와 축소를 반복하여 한 장의 영화와 같은 회화로 구현한 류승환 개인전 New year  New Artist l 공상  은 서정욱갤러리의 년 새해 기획전으로 진행되고 있다  류승환 작가는 다양한 미술장르 중에서도 가장 오래된 회화를 고집하고 기법 면에서도 가장 오래된 방법인 유화를 사용하여 그림을 그려나간다  하지만 현대에 와서의 회화의 기능에 대한 작가의 고민과 그의 새로운 시선을 투영한 엔터테인먼트의 요소를 갖춘 흥미진진한 회화들을 그려내어 기존의 다른 장르의 작품들보다 새로울 수 있도록 중점을 둔다 어린 시절부터 작가의 꿈을 가지고 활동해 온 작가는 현재에 이르기까지 도전을 두려워하지 않았다  작가는 회화가 아닌 다양한 장르와 기법을 시도하고 탐구하여 현재의 회화의 방식으로 회귀하였다  쉽게 그려진 회화가 아닌 세상에 나오기까지 수많은 고민을 한 작가의 진심이 녹아든 그의 작품은 잘 짜여진 극본처럼 완성도가 높으며 언제든 보는 사람들에게 즐거움을 줄 수 있는 시각적인 스토리를 가지게 된다  수많은 이야기의 상상이 가득한 그의 작품들은 작가의 특정 설명이 부여되지 않아 오히려 더욱더 극적인 상상력을 자극하도록 중점을 둔다  Unbeatable Colors 이주한 무등산은 년 도립공원지정 여 년 만에 우리나라의 번째 국립공원으로 승격되었다  광주시민의 자랑이 아닐 수 없다 광주신세계는 그 기쁨을 함께 하고자 광주신세계갤러리에서 무등산 국립공원 승격 기념 특별기획 전시를 준비했다  이번 전시는 사진작가 이주한 씨가 년부터 여 일간 담아온 무등산 사진 중 대표작을 선별하여 보여준다  이주한 씨는 천일간의 촬영을 목표로 매일같이 무등산을 필름에 작업을 해오고 있었다  이번 전시는 작가가 목표로 한 것보다 일정이 조금 앞당겨졌지만  애정 어린 시선으로 담아온 작품을 통해 무등산의 아름다움을 함께 하고자 마련됐다 이주한씨가 담은 무등산은 사계절 다른 옷을 입고 산의 기운과 공기와 어우러져 시시각각 다양한 자연의 색을 담아내는 무등산을 작가만의 조형언어로 담아낸 작품이다  무등산의 무등  의 한자어는 더 이상의 등급이 없음을 의미하는데  이러한 의미와 작가 작품의 특성을 결합하여 전시의 제목은  무등산  Unbeatable Colors 더 이상 아름다울 수 없는 색들의 향연 이다 이주한씨는 십여 년간의 일본  미국에서의 유학을 마치고 년 귀국 이후 우리나라의 풍경을 컬러사진으로 재표현 하는 작업을 해오고 있다 년 발표한  남도 에서부터 남가풍경 으로 이어지는 그의 작업에는 우리나라 남도에서 보여 지는 신한국적 컬러에 대한 작가만의 재표현을 통하여 한국에서의 뉴컬러 사진작가로서 입지를 굳혀 오고 있다 무등산 시리즈 작품은 이러한 작가의 그간의 컬러에 대한 감성을 통하여 무등산이 매일 일출에서 일몰까지 만들어 내는 다양하고 변화무상한 이미지를 대형컬러필름으로 담은 것이다  작가가 굳이 편리한 디지털카메라를 마다하고 이제는 거의 사용을 안 하는 아날로그 방식의 촬영을 선택한 이유는 무등산이 빚어내는 자연의 색을 가감 없이 표현하고자 한 의도에서였다  이주한 씨는 이번 전시 이후에도 나머지 오백여 일간의 촬영을 마무리하여 무등산 국립공원 승격  주년을 기념하는 전시를 갖고자 한다 나는 매일 아침 무등산이 밝혀주는 일출을 필름에 담으며 하루를 시작한다  어느덧 나는 애써 수려하지 않은 산  그저 내 어머니 품 같이 넓고 인자한 그 산  그 무등산을 닮아가고 있는 듯하다  고 이주한씨가 작가노트에 밝히고 있듯이  무등산은 광주시민의 벗으로 무척 익숙하다  하지만 작가의 시선에 의해 담긴 무등산은 그간 몰랐던 무등산의 신비로움과 아름다움을 느끼게 해준다  이른 새벽의 기운에서부터 시시각각 빚어내는 무등산의 색채에는 숭고함마저 담겼다   권유미의 꽃이 있는 정물 심상 의 꽃  갈망 의 꽃 꽃 은 자연의 아름다움과 경이로움을 가장 잘 함축하고 있는 대상이다  그래서인지 오랫동안 작가들의 상상력을 자극해오고 있는 주제이기도 하다  젊은 작가 권유미는 이 오래된 주제에 집착하고 있다  그녀에게 꽃이라는 주제는 하나의 도전이었다  그 이유는 수세기를 걸쳐 화가들의 주제였던 꽃을 그린다는 것이 쉬운 선택은 아니었기 때문이다  그녀는 그렇게 도전하듯이 꽃을 자신만의 조형언어로 표현하기 위해 노력하였고 독특한 색채와 아름다움으로 장식되어 있는 꽃이 그녀의 작품세계 중심에 놓이게 되었다 권유미는 꽃이라는 자연의 대상을 단순히 조형적 감각의 대상으로서 꽃을 단순화하지도 자연 그대로의 모방도 하지 않는다  작품에 등장하는 꽃들은 작가의 상상으로부터 추출된 것이다  그녀의 꽃들은 들에서 흔히 볼 수 있는 이름 모를 들꽃 같기도 하고 친숙한 장미나 백합 같기도 하다 이미 우리가 잘 알고 있는 친숙하고 익숙한 꽃이라는 착각을 불러일으키게 하는 그 꽃들은 현실과 비현실을 넘나들며 미묘한 매력을 발산한다 권유미의 꽃은 심미안적 대상인 동시에 자신의 내면세계이면서 우리의 내면세계이기도 하다  그녀는 순수한 감성으로서 꽃이라는 사물에 접근하고 자신의 마음에서 울려나오는 심적 감성으로 꽃이 가지고 있는 화려함  아름다움  꽃향기까지 시각화하고자 한다  다시 말하자면 그녀는 꽃의 형태적 외관을 사실적으로 그리는 것이 아니라 꽃이 전달하는 자연의 아름다움  경이로움  생명을 표현하는 것이 일차적 목적이다  즉 꽃의 생태적 미학을 통하여 자연과 인간의 교감을 이야기하고자 한다  이와 아울러 우리의 내면세계에 자리하고 있는 그리움  소망  꿈과 같은 갈망을 꽃이라는 매개체를 통하여 표출하고자 하는 의도도 가지고 있다  이러한 이유에서 권유미의 꽃은 생태학적 미학의 담론과 작가 자신 또는 우리의 갈망이 투영되어 있는 꽃이다 그렇게 탄생된 그녀의 작품은 정열적이고 매혹적이면서 여성스러움  따뜻함  동화적인 분위기를 가지고 있다  우리는 이 상충적인 이미지를 그녀의 작품에서 동시에 느끼게 된다  그것은 평면적인 화면  빨강  파랑  검정 등 원색적 색채에 더해진 흰색  분홍색 노란색 등으로 그려진 꽃  기학적인 문양이나 꽃무늬로 가득한 커다란 꽃병과 기타 기물 로 이루어진 화면이 우리에게 깊은 인상을 전달하기 때문이다  작가는 마치 각각의 사물이 가지고 있는 형태적 내용보다 색채를 표현하고 장식성을 강조하는데 주력하고 있는 듯하다  한편으로 우리가 강렬한 색  장식적인 문양들과 어우러져있는 밝은 색의 꽃들에서 또 다른 이미지를 느낄 수 있는 것은 현실의 이미지가 작품의 주제이면서 작품이 주는 이미지는 현실과 동떨어진 느낌을 주기 때문이다  다시 말하자면  다양한 구도와 꽃  화병  탁자  잔  주전자 등은 비현실적인 크기를 하고 있다  그래서 마치 동화적 세계를 보는 듯하다 이렇게 권유미는 독창적이고 섬세하게  꽃 과  정물 이라는 주제를 새롭게 재해석하고 있다  그녀는 전통과 현대의 정물화를 연구하고 대상에 대한 조형적 탐구를 통해서 자신만의 예술세계를 구축하기 위해 노력하고 있다  어떤 이는 다양한 주제  매체  기법을 끊임없이 탐구해나가는 현대미술에서 정물화는 낡고 진부하고 시대에 뒤떨어진 미술의 장르라고 생각할지도 모른다  그렇지만 대학 졸업 후  꽃이 있는 정물 에 집착하는 고집스러운 작가 의식과 그런 작품세계를 담고 있는 그녀의 작품은 향기로운 꽃향기를 풍긴다  그녀의 작품으로 인하여 꽃향기가 몸에 배어드는 것 같다   불협화음 모든 사진에는 공존이 있다  존재와 부재  현실과 환상  진실과 허위  시간의 혼란  순간과 영원이다  우리는 그것들의 충돌 마찰  파열을 본다  이러한 역설이 진실을 잘 숨기게 한다  사진가는 현실과 불완전하게 만난다 차원과 시각만으로 보여주려는 사람들이다  그렇게 남은 흔적이 이미지로써 진실에 접근한다 본 전시는 이러한 노력이 담겨 있다  사진가들은 사진의 모순적 속성을 통해 현실과의 불협화음을 보여주고 그 보이지 않는 이면을 드러낸다  거기에 보는 이들의 투영이 빛날 때 이미지의 깨어짐은 빛을 발한다  바르트는 사진이 단지 이미지일 뿐이라는 사실에 부딪혔다  그리고 다시 어떤 진실을 사진에서 찾았다  사진이 가지고 있는 이미지라는 속성 모든 의미에서 평평하다는 사실 에도 불구하고 닮은 현실이 아닌  실재 reel 를 사진에서 발견할 수 있었기 때문이다 이미지의 본질은 내면의 사유보다 더 접근할 수 없고 더 신비하기 때문이다  그것은 명시적인 의미는 없지만 가능한 모든 의미의 깊이를 부른다 불협화음은 안어울림의 어울림이다  이번 전시를 통해  모든 의미의 깊이 가 관객의 눈을 통해 드러나길 기대해본다  프라하의 추억과 낭만 체코프라하국립미술관 소장품 국립현대미술관은 유럽의 대표적인 미술관 중 하나인 프라하국립미술관 주요 소장품을 소개하는  프라하의 추억과 낭만  체코프라하국립미술관 소장품전 을 덕수궁미술관에서 개최한다 년부터 년까지 체코를 배경으로 활동한 주요화가 명의 회화 작품 점을 엄선하여 선보인다 본 전시는 체코 근대기 주요 미술품이 한국에 소개되는 최초의 전시로  국보급 체코 근대미술작품을 한 자리에서 만날 수 있는 흔치않은 기회이다 세기 말부터 세기 초까지 격동의 역사를 거치며 구축된 체코 근대 미술의 역사를 일목요연하게 다루고 있으며 뛰어난 문화적 역량을 지닌 체코 예술가들의 진지한 작품세계를 조망한다 본 전시는 한국미술계의 관심과 전시가 서유럽미술에 집중되어 왔던 상황을 벗어나기 위한  나아가 한국관람객들에게 문화적 경험의 다양성을 제공하기 위한 취지에서 기획되었다  다양하고 풍부한 체코 근대 미술의 현상을 압축적으로 보여주는 전시로 구성되며  체코 근대 미술을 단순한 수준으로 범주화하는 것이 아니라  다양한 층위에서 인식하고 검토할 수 있는 기회를 제공하고 있다 체코는 슬라브  보헤미아 등의 고유한 민족 문화를 바탕으로 일찍이 빈  파리 등지의 서유럽 문화와 교류하면서 뛰어난 문화적 역량을 지니게 되었다  미술과 더불어 음악 문학 등의 장르는 그 수준이 매우 높아 유럽 전역에 큰 파급력을 가졌으며  거장의 숨결이 살아있는 체코 문화의 영향력은 시대를 넘어 오늘날 한국에까지 이른다 근대기 체코는 제국주의의 쇠퇴와 더불어 민족주의의 급부상  제 차 세계대전 발발  체코슬로바키아 공화국의 탄생  사회주의의 대두  서구 근대 시스템의 도입 등과 같은 정치 사회적 격변기를 지나왔다  혼란의 시기 체코의 미술가들은 새로운 관점의 변화를 택해 자신의 정체성에 대하여 끊임없이 자문하고 그것을 작품에 담아내고자 했고  힘들고 어려운 현실을 자발적으로 수용해 나갔다 체코 예술가들의 진보적인 예술 활동은 외부의 자극과 충격에 노출되기 시작했던 대한제국 일제강점기 한국 미술가들의 정체성과도 맥락이 닿아 있다  관람객들은 체코와 버금가는 정치 사회적 혼란을 겪었던 근대기 한국미술가들의 사유과정을 다른 각도로 해석해보고  나아가 세기를 살아가는 우리의 모습을 자문하는 시간을 얻게 될 것이다 이러한 맥락에서 전시기간 동안 야로슬라프 올샤 체코대사의 체코문화 강연  큐레이터 설명회  전시연계강좌 등 다양한 교육 문화행사가 진행된다 일정은 추후 공지 예정  전시연계강좌는 일반인 및 직장인들을 대상으로 월에 운영되며  전시연계강좌 교재도 제공될 예정이다 제 부  근대적 표현의 모색 세기 말 세기 초 체코 근대 미술은 서구 유럽 미술의 영향을 받거나 프랑스  오스트리아에서 공부한 화가들로 인하여 서유럽 미술의 영향이 두드러지게 나타나는 시기이다  또한 그러한 외부의 수용과 체코 내에서 활동하던 작가들의 발전이 어우러져 생동감 넘친 새로운 전통을 만들어 내었다 년 프라하에서 개최된 노르웨이 화가 에드바르 뭉크의 전시회는 큰 반향을 일으켰고 젊은 체코 화가들을 자극하여 입체주의적 시각 언어로 변형된 표현주의의 경향이 나타나는 결과를 낳았다 년대에 등장한 체코 큐비즘은 매우 독특하고 혁신적인 형태와 조형어법으로 체코 근대 미술에서 확고한 영역을 차지하게 되었다 지금의 체코는 이전에 오스트리아 헝가리안 제국의 일부로서 오스트리아 문화의 영향을 받았던 지역이었던 만큼 어린시절 쿠프카는 어린시절 프로이트  클림트와 같은 문화예술인  철학자들의 영향을 받았다  이상과 자기성찰을 표현하기 위한 은유적 기법의 사용과  보편적인 진실을 강조하기 위한 상징주의에 대하여 관심을 가지게 된 것은 작가의 비교적 초기 시기부터 시작되었으며 이후에도 지속되었다  이 작품은 년 그가 그리스 고대신화와 문화에 관심을 가지게 된 시기에 제작한 작품으로서 같은 해 살롱 도톤느에 출품한 작품이다  그림의 구성은 세 명의 미인이 가을 태양이 비추이는 황금사과밭에 서서 태양을 바라보고 있는 도상학의 고전적인 주제이다  그는 그리스 고대신화에서 모티프를 응용하는 상징주의적인 그림을 다수 제작하였다 프란티셰크 쿠프카는 파리에 정착한 이후 극심한 가난에 시달리면서 포스터  삽화 등의 일을 이어나가던 중 년 유제니 스트롭 Eugenie Straub 을 만나 사랑에 빠지게 되었다  유제니 혹은 니니 Nini 로 불리었던 아내는 쿠프카에게 깊은 영감을 주었고 그는 그녀를 모델로 하여 그림을 많이 그렸다  그들은 년 결혼하게 되었는데 이 작품은 그들이 결혼하기 전 동거할 당시 그린 작품이다  우연하게도 이 즈음부터 그의 작품이 인기를 얻게 되었고 이 시기부터 그의 양식은 추상경향으로 전환하게 되는 중요한 국면을 맞이하게 된다 이 작품은 유제니가 쿠프카에게 있어 아내이자 영원한 뮤즈임을 알리는 작품이다  적색과 녹색의 보색대비  극적인 명암효과  다소 거친 붓터치 등 이 시기 쿠프카 작품의 대표적인 기법을 잘 보여주고 있다  특히 쿠프카의 복장은 붉은색의 넓은 허리띠가 두드러진 체코 민속의상을 입고 있어 프랑스에 살고 있으면서도 체코인으로서 정체성을 잃지 않았던 그의 태도를 짐작할 수 있다 에밀 필라는 년 피카소와 브라크의 작품을 본 후 입체주의에 눈을 뜨게 되어 년 본격적으로 입체주의적 양식을 시도하였다  화가이자 컬러리스트로서 그는 대상의 묘사와 재현에만 치중하던 당시의 경향에 혼란을 느끼고 반기를 들게 된 것이다  이 작품은 여인들이 화면의 전면을 향해 서있는 그림으로서 피카소가  아비뇽의 여인들 에서 보여주었던 색감  화면 구성 등과 매우 유사하여 피카소의 영향이 컸음을 짐작할 수 있다 제 부  새로운 나라  새로운 표현 년은 제 차 세계 대전의 종전과 더불어 체코슬로바키아공화국이 독립하여 새롭게 건국한 해이다  새 국가의 건국은 체코 미술의 형식적 양상에 새로운 변화를 가져왔다  화가들은 새로운 시대에 맞는 새로운 미술의 형식과 기능에 대하여 고민하게 되었고  보다 독창적이고 전위적인 경향들에 관심을 가지게 되어 초현실주의를 비롯한 아방가르드 미술이 등장하였다  형식적 양상과 내용에 낙천주의적이며 유희적인 접근이 주입되었으며  다른 한편으로 진지한 사회주의적 주제  풍경화와 여성 누드와 같은 주제가 다루어지기도 하였다 프란티섹 무지카는 년대 환상적 사실주의의 영향을 받은 사회주의적인 주제를 작품에 담아내고자 하였다  이러한 특징은 그가 참여했던 데벳실 그룹의 주된 성향이었다  체코의 대표적인 아방가르드 그룹인 데벳실 Devetsil 의 회원 대부분은 미술전시 이외에도 잡지편집 삽화 및 영화 제작  타이포그래피 등 다양한 방면에서 활동하였고 이러한 활동이 작품에 영향을 미치기도 하였다  무지카는 문학과 미술에 관심을 가지고 있었고  목가적인 일상 생활을 시적 서정성이 가득한 화면으로 전환하는데 관심을 두고 있었다 년대 보후밀 쿠비쉬타의 작품에서 큰 영향을 받았던 무지카는 뛰어난 색채감각을 바탕으로 한 표현주의적 양식을 전개하였다  이 작품은 똑같은 푸른색의 옷을 입고 있는 세 자매를 그린 그림으로서 청색과 갈색이 조화롭게 사용되어 포근한 가정의 분위기를 잘 표현하고 있다  마치 하나의 이야기를 들려주고 있는 듯 연극적이고 서사적인 요소를 지니고 있는 그의 특징이 잘 드러나고 있다 년대 프롤레타리아로서 사회주의의 영향을 받은 밀로슬라프 홀리는 보통사람들의 일상을 다루었고 프라하 슬럼가로부터 모티프를 가져왔다  사회적 현실에 눈뜨게 되면서 자신이 목격한 일상을 재현하고자 하였는데 여기에는 표현주의적인 색채와 명료한 형태감을 바탕으로 하고 있다  이 작품은 전면에 늙은 여인이 등장하고 있는데 뒤에 서있는 남자의 동작과 배경  그들의 복장으로 인하여 그들이 어딘가에서 근무하고 있는 상황임을 짐작할 수 있다  테이블 위에 포갠 두 손  굳게 다문 입술과 정면을 향해 응시하는 눈빛을 통해 건강한 노동자로서 자부심을 느낄 수 있다  시대의 기록이라는 관점에서 철저한 사회주의적 사실주의에 입각한 작품으로 그의 대표작 중 하나로 손꼽힌다 레트나는 프라하 성 인근에 위치하여 프라하의 역사지구를 내려다보는 언덕으로 큰 공원이 있어서 많은 사람들이 즐기는 곳이다  이 작품에서 인물  건물 거리 풍경의 형태가 간결한 색채와 선으로 단순하게 처리되어 있으며 레트나 공원의 일상적인 모습이 매우 정감있게 묘사되어 있다 그녀는 도시 근교를 다룬 작품에서 거리를 거닐고 있는 사람  집안에서 있는 사람  그리고 나무 위에 올라가 있는 사람이라는 독특한 설정을 즐겨 그렸는데 이 작품에서도 그러한 특징이 잘 드러나고 있다  그녀는 특히 프로레타리아 미술의 개념을 표방했던 이리 볼커 Jiri Wolker 의 문학작품에서 많은 영감을 받았는데 이러한 특징은 작품에서 마술적인 사실주의로 나타났다  이리 볼커는 년 체코 공산당의 설립 멤버로서 시인이자 희곡작가로 활동하였다  그녀는 체코 아방가르드 미술가들과 친했는데 그중에서도 특히 데벳실 그룹과 각별한 관계를 가졌다  이러한 영향 아래 그녀의 작품은 현대사회에서 사회적으로 차별당하고 무시되던 개인과 계층의 삶과 정신에 대한 동정심에 기인하고 있다 제 부  상상력의 발산 많은 화가들은 다양성을 잃지 않는 가운데 자신들의 작품을 서유럽 미술이나 서로 다른 체코 화가들의 작품과 차별화하고  전체주의의 권력에 저항하려는 시도를 모색하였다  그리하여 이데올로기로부터 초월하려는 태도를 바탕으로 자유의 추구와 인간성의 회복과 같은 주제를 담고자 하였고  감성적이고 유머러스한 작품들도 대거 등장하였다  이 시기 동안 체코 근대 회화는 묘사의 대상으로부터 분리되었고 화가들의 독자적인 개념과 표현이 확고하게 자리 잡아 추상 미술이 본격적으로 등장하게 되었다  상상력이 넘치는 초현실주의적 그림은 제 차 세계대전의 비극을 초래한 정치적  사회적 상황에 대한 우려를 나타내고 있다 프란티셰크 야노우셰크의 작업은 초기에 양식상으로는 입체주의로부터 시작되었으나 년대에는 비현실적 공간 속의 유기적인 형태를 통해 초현실주의적인 특징을 보여주었다  이 작품은 담배를 피는 사람의 모습을 표현한 작품인데 신체의 부분  담배  담배연기가 각각의 조형성을 가지고서 분절되어 나타나있다  이러한 부분들은 분절된 상태이지만 서로 연결되어 어떤 이야기를 만들어낸다는 점에 있어서 그가 초현실주의자들과 다른 지향점을 추구하고 있었음을 알 수 있다  그의 작품은 점차 시간이 지날수록 더욱더 흐르는 형태로 변화하였고  화면을 가득 채우면서 마침내 이미지의 구상적인 기초형태가 완전히 사라지게 되었다 요세프 시마는 년대 데벳실 그룹의 영향을 받아 추상미술을 접하였고  프랑스에서 예술운동 에스프리 누보의 미학을 접하였다  또한 년대 말부터 초현실주의를 알게 되면서 빛을 소재로 하여 단순하면서 환상적인 형태감을 작품에 도입하였다  그리하여 년대 초부터 모든 이들에게 보편적으로 이해되는 모티프로서 빛과 구름을 전면으로 내세운 풍경그림이 등장한 것이다  그에게 작품의 영감은 인체  풍경 신화 등에서부터 사회적인 주제  기하학적 추상  자연으로부터 얻어지는 감각적인 경험에 이르기까지 다양하다  이러한 요소들을 바탕으로 하여 그는 인간이 만들어가는 운명과 필연적으로 접하게 되는 자연에 대한 시각을 종합하고자 하였다  그의 복합적인 풍경 작품은 인간  자연  우주의 관계성에 대한 탐구의 통합적인 결과인 것이다 에밀 필라는 년부터 입체주의의 영향으로부터 점차 벗어나려고 시도하였고 선과 형태에 표현주의적인 요소를 적극적으로 도입하였다  회화와 조각을 동시에 진행하면서 보다 창의적인 사고를 나타내려한 결과 년대에는 인간과 동물의 싸움이라는 주제에 대하여 관심을 가지게 되었다 이와 같이 서사적인 이야기를 보여주는 화면은 세기 시인 카렐 야로미르 에르벤 Karel Jaromir Erben 의 낭만시에게서 영감을 받았다  카렐 야로미르 에르벤은 체코 신화  민화를 수집하여 책으로 발간하거나 혹은 낭만시를 저술함으로써 체코 전통민속문화에 대한 새로운 관심을 이끌어내었다  그리하여 드보르작의 음악에도 영향을 주는 등 세기부터 세기에 이르기까지 체코문화예술인들에게 큰 영향을 미쳤다  또한 에밀 필라는 이와 같은 년대에 잔혹한 주제의 그림을 통해 파시즘에 의해 위협받고 있던 당시 상황에 대하여 맞서는 저항적 의지를 고취하였다  이러한 저항적인 태도와 그림들로 인하여 그는 독일나치 점령 기간 동안 체포되어 수용소에 수감되었다   부활 유숙자 유숙자 작가는 만물창조의 시원 으로 거슬러 올라가 창세의 원점에서 창조의 본질을 더듬어 좇아가며  모든 물질 Materiality 과 물체 Substance 의 존재를 공간 Space 으로서의 기 와 시간 Time 으로서의 기 의 관점에서 포착하고  궁극적 화합 Harmony 을 지향하면서 운동력 생기 Energy 가 빚어내는 소생 Revival 에 대한 무수한 관계 Relation 의 형태를 화폭에 표출하는 작업에 몰입해왔다 작가의 작품들이 주는 일종의 해방감은 다양한 형태와 소박한 색조를 지닌 개체들 간의 연계성이나 관계성을 어떠한 형식이나 경향을 배제하고 의 사유의공간성 을 극대화하는 자유표현 을 단행했기 때문인지 모른다 기 의 관점에서 와 지와 수 의 결합관계 기 의 관점에서 와 거와래 의 결합관계를 파고들며  창조의 근원에 바짝 접근하고 있는 작가의 작품들에서 화 를 향한 관 의 기 가 뜨겁게 뿜어져 나오고 있는 것이다  이 뜨거운 열기로 탄생한 작품들 앞에 서면 어느덧 겸허해지고 한없이 작아지는 자신을 발견한다 작가는 작품을 위해 흙이나 모래  시멘트 같은 천연 토재 를 많이 쓰는데  창조의 원천을 표출하는 작업에 이만한 소재가 지구상에 달리 어디 있겠는가  특히  땅과 물이 만나는 접점 에서 채취하는 모래를 작품 속에 투입하는 것은 의 창조 의 세계 를 의 창작의화면 에 입체화시킬 수 있는 탁월한 선택이며  특별한 안목이다 작가는 기교를 부리거나 꾸미지 않는다  천연토재로 조형적 질감 을 뚜렷이 생성시키는 우직하고 과감한 나이프 기법 은 작품 하나하나에서 생동감 곧 생기 를 뿜어낸다 작품에서 자주 보이는 스퀴즈로 밀고나간 자국  그것은 불현듯이 빠져나간 어떤 생명체를 우리에게 추억 화 시키면서 보는 자의 안타까운 가슴을 강하게 때린다  캔버스에 생명체의 형상을 일체 명시하지 않고  어떤 움직임의 흔적만을 보여주는 해체적 수법 은 보는 자들에게 상상의 날개를 무한히 펼치게 한다  정말 멋있다 한없이 붓으로 지우고 덮었던 수많은 흔적은 감정이 있었던 자리이기도 하고  잊혀 진 자리이기도 하지만  분명히 존재했었던 어떤 자국을 허전하게 그리고 생생하게 남기고 있다 작가는 틈날 때  기분 날 때  조금씩 작품을 그려가는 그런 사람이 아니다  작품에 들어갈 때는 집을 떠나 자연 속에 칩거하며 어렵사리 터져 나오는 소중한 영감을 붙들고  작품에 영성을 불어넣는다  작가의 독특한 창성 은 이처럼 영성 에 맞닿아 있기에  그녀의 작품은 우리를 자유롭게도 만들고  평화롭게도 만들며  엄숙하게도 만드는 묘한 정신적 힘 Spiritual Power  을 품고 있는 것이리라 과연 그림 하나가 이처럼 미묘한 상 을 표출할 수 있으며  이처럼 심오한 상 을 허용할 수 있는 것일까  추상화가 그런 것이라고는 하나  그녀의 작품에서 분출되는  과 상과상 의 풍성함은 각 의 경지로까지 몰아가는 마력을 지니고 있다 언젠가 작가는 이런 말을 했다 나의 그림 그리는 작업은 평화를 갈망하는 궁극적 방법이다  욕심을 빼낸 창조의 여백 속에 상상의 놀이터를 만들어  작품을 보는 모든 사람과 함께 자유롭고 평화롭게 뛰놀고 싶다 라고 작가의 작품세계의 특징은 다른 추상화들과는 달리 그린 자 와 보는 자 의 해석이 분리되지 않고  함께 의 심연 에 맞닿는 동일한 정신세계를 공유한다는 점이다 무엇보다도 자연의 신비한 모든 생명체들에게 다양하게 얽혀진 관계가 화합으로 소생되어  자연과 인간의 삶이 화평하게 되기를 간절히 소망한다  는 작가의 소중한 염원은 세상과 소통 하고 싶어 하는 그녀의 소탈한 꿈이자  따뜻한 메시지이다 작가의 작품을 응시하고 있노라면  깊은 사색의 블랙홀 로 빨려 들어가는 자신을 느끼면서  스스로를 자정케 하고 겸허케 하는 신비한 정기 가 노출된다  이는 작가 역시  사색의 심연 에서 영감을 얻어 작품을 창조해내었기 때문이 아닐까  그의 작품 앞에서 숙연해질 수 밖에 없는 이유가 여기에 있다 오호라 면벽수도 가 아니라 면화수도 로다 작가의 창작품들로부터 감수될 무한한 깨달음 각 은 오직 보는 자의 넋 이 갖는  몫 이리라   Grow out 우수 대학원생 지원전 으로 시작하여 Grow out으로 타이틀을 변경  신진작가 발굴 공모전을 개최한지 어느덧  회를 맞이한다 Grow Out 이란  새롭게 싹이 움트다 는 뜻으로 미술계의 걸음을 내딛기 시작한 젊은 작가들의 꿈틀거림을 의미한다  자신만의 창조성으로 미술시장에 걸음을 내딛는 젊은 작가들에게 전시의 기회를 주고자 마련된 공모전이다  한해의 시작을 알리는 월에 첫걸음을 내딛는 십여명의 작가들과 그룹전으로 진행된다 회를 맞는 올해의 공모에는 고문 교수님 및 외부 심사를 통해 인이 선정되었고  주간  부에 거친 일정으로 진행된다  회화  명 도자  명 사진  명 과 같은 다양한 장르의 작가들이 참여하여 Grow out을 빛내 준다 참여 작가 김오  김수영  박보영  Moon LEE  이주연  서예원  성치영  송영선  장서희 일간의 전시 후에는 Awards  인을 선정하여 년 하반기 기획초대전을 갖게 될 예정이다 일 년에 걸쳐 진행되는 Grow out 프로젝트는 장기적이고 신중한 작가 발굴을 의미하며  젊고 유망한 작가들이 더욱 많은 관객들과 공감 할 수 있는 자리를 만드는 기회가 되고 있다  The K Gallery는 앞으로 신진 작가들을 위한 체계적이고 구체적인 안을 바탕으로 국내 뿐만 아니라 국외의 미술 시장에도 데뷔할 수 있도록 버팀목이 되어 줄 것이다   귀한 사람들 김영일 김영일 작가는 사진가이면서 동시에 국악 음반사를 운영하고 있는 특별한 이력의 소유자이다  국내 최고의 초상사진 전문 사진가로 활약하다가 국악의 매력에 빠져 전국 각지를 돌며 우리의 소리를 담아왔다  작가는 카메라로  보는 것 을 담는 것과 녹음기로 듣는 것 을 담는다는 것이 다르지 않다  고 말해왔다  이번 전시를 구상하면서 김영일은 조선시대 초상화가 세계적으로 유례를 찾아보기 힘들 정도로 미세하고 정교하다는 전통을 자랑하지만  그 중에 여성을 그려낸 초상화가 조선 역사를 통틀어 세 점에 불과하다는 사실과 이후로도 이 땅의 여성을 특별히 기록하고 보여준 적이 없다는 점에 주목했다  이번 전시를 통해 사회구성원의 절반인 여성의 이미지를 재조명하며  오늘날 즐겨 입지 않게된않는 한복을 우리나라 대표 의상으로 공공연히 내세우고 있다  바로 우리 음악을 연주하는 국악인 들을 통해서이다  그들은 오늘도 우리 옷 한복을 입고 연주하며 새로운 문화를 지속적으로 생산해 내고 있다 귀한 사람들 은 사진 작품으로 구성된 Part I  이십 년 간의 인연들 과 Part II  SNS를 통한 일주일의 인연들 동영상 작업으로 이뤄진 Part III  그리고 SNS를 통해 전시를 공유  확산하는 Part IV 로 구성된다  Part I 에서는 지난 이십 년간 작가와 음반 작업을 해온 국악인들의 초상 사진들을  사진관 사진  형으로 전시 필름작업 하고  Part II 에서는 SNS를 통해 찰나의 시간 친구 신청 친구 수락 인연 시작  Two Click  동안 만나게 된 새로운 인연들에 주목 디지털 업 하고 있다  Part III에서는 이번 전시의 밑그림으로서 여성 한복의 현재적 의미와 제작 과정을 기록한 동영상 작품을 상영하여  옷 의 화두로부터 출발하며 원형을 잃어가는 한복의 실재에 대해 주목하고  그 아름다움을 재발견한다  아울러 Part IV 는 전시기간 주 동안 전시장 내에서 이어지는 국악 공연을 기록하고 그 내용을 온라인 미디어 페이스북  유투브  팟캐스트 등 를 통해 전시장 관객을 포함한 국내외 대중과 공유 및 전파할 수 있도록 한다  우리 옷을 입은 초상의 주인공들이 사진으로부터 걸어 와 직접 소리를 할 뿐 아니라 그것을 미디어를 통해 공유하여 그가  담아 온  것들을 무한 장하고자 하는 것이다 이처럼  귀한 사람들 은 의례와 의례의 수행성에 수반되는 미장센은 물론이고 그것을 구연하는 언어적 특징과 미학적 척도를 다시 살펴봄으로써  한옥과 한복 그리고 전통음악이라는 담론들이 의례적인 것으로 고사되지 않고 동시대적인 의미로 이해될 수 있는 가능성을 확인하고자 한다   전통의 울림 전통의 힘은 새로움에 있다  새롭지 않으면 전통의 근본적인 핵심을 잃고 만다  전통이라는 것은 과거의 것을 답습하는 것을 말하는 것이 아니라 과거의 어떤 결과를 바탕으로 새로운 길을 전개시키는 것을 의미한다  예술은 창작을 최고의 가치로 여긴다  그러므로 예술작품은 어떠한 형태로든 남과 다른 옷을 입어야 한다  더구나 옛것의 이미지가 조금이라도 연상되는 작품이라면 더욱더  예전의 그 무엇 과도 다르게 구별되는 것이 있어야 한다 년의 첫 기획전은 전통에 대한 현대의 관점을 보는 전시이다 우리의 전통문화를 어떻게 승화시켜가는지  명의 작가가 무엇을 말하는지 작품으로 느껴보도록 하자 박영길의 자연은 거대하면서도 따스하게 다가온다  인류가 살아가는 터전인 자연은 세상 모든 공간을 차지하고 있다  그렇다고 위압감을 갖게 하거나 공포를 안겨주는 게 아니라 오히려 어머니 같은 편안함을 쉼 없이 제공하고 있다  자연은 늘 그 자체로 존재하면서 각 시대의 다양한 사람을 품어 주었다  전통산수화에서 가장 중요한 부분은 인간이 머무는 대자연에 대한 사랑과 경외이다  우리가 너무 당연하게 받아들여 쉽게 잊고 사는 자연과 인간의 관계를 과거의 전통산수화와 다르게 해석하고 표현하는 것이 박영길 작품의 특징이다 서정국은  올곧음 에 대한 이야기를 풀어내고 있다  작품에서 보여지듯 스테인레스 스틸 파이프가 몇 차례의 마디로 길게 연결되어 있는 것은 올곧음에 대한 힘을 강조하는 역할을 한다  또한 일정한 배열에 머물지 않도록 하는 요소 또한 마디의 역할이다  이것은 멈춤과 시작을 반복함으로서 무한의 에너지를 얻어내는 상승효과를 보고 있다  서정국의 작품은 사소한 곁가지를 제거하고 정제 된 말을 하듯 정갈하다  눈에 보이는 대나무의 형상은 다만 상식의 범주로 생각하기 때문일 것이다 서희화의 작품 이미지는 과거를 다시 돌아보는 것처럼 고전적이다  하지만 작품의 재료를 알고 나면 전혀 뜻밖의 것임에 놀라게 된다  작가는 플라스틱 접시  장난감 조각  핸드폰 케이스를 바탕 삼아 전통미를 재현해내고 있다  결과적으로는 형상이 갖는 비중이 크다보니 새로움에 대한 한계에 부딪히는데 이를 극복한 방식이 설치에 있다  설치공간에 따라 다른 느낌을 갖도록 하는 형상의 해체가 재미적인 요소로 작용하고 있다 송운창의 작품은 불규칙한 크기의 철조각이 하나하나 연결되는 과정을 거쳐 커다란 조형물이 된다  정확하게 계산되지 않는 철조각의 조합은 작가에게 매 순간 고민을 안겨준다  작품의 제작 과정은 삶의 복잡함과 근원적 고뇌를 표현하고 있다  그러면서도 결국 아름다운 삶이라는 것을 작품의 완성을 통해 보여주고 있다  우리에게 주어진 조각같은 시간들이 겹겹이 쌓이고 그 안에서 벌어지는 크고 작은 일들이 자신이 살아가는 모습인 것이다  그것이 어떠한 결과를 갖게 되든 상관없이 말이다 임현경의 풍경은 분재 마냥 다듬어 만들어진 느낌이다  작가는 과거의 민화풍 방식에 자신의 이야기를 담아내면서 그만의 평화로운 세계를 그린다  민화 자체가 주는 정서적 안정감을 식상하지 않게 현대적으로 해석하는 그림이다  거창하지 않고 화려하지 않으면서도 모두가 행복할 꿈 같은 현실이 화면을 가득 메운다  태초부터 존재하는 자연 속으로 돌아가 머물고 싶은 희망적인 풍경이 바로 임현경의 풍경인 셈이다 장세일 조각의 특징은 직선과 곡선의 조화로운 합체에 있다 지신의 형상은 일정한 규칙에 의해 만들어졌다  직선의 면은 축약되어 있는 부분이고 곡선의 면은 현실성을 반영한다  몸통은 면으로 함축되었고 신체의 끝 부분은 원래의 형태에 충실하다  작품에는 두 개의 세계를 한 공간에 합쳐놓아 조각공간의 유기적 조화를 이뤄내려는 의도가 엿보인다  또한 지신상에 컬러를 입힌 캐릭터화 시도 역시 과거와 현대라는 두 세계를 한 곳으로 모으려는 노력이다 사실 예술에서의 창작은 완전히 새로운 것이라 할 수 없고 다만  작가 개개인의 다양한 생각이 투영된 정도의 차이가 있을 뿐이다  작가는 소재  기법  재료 등으로 전통의 틀을 극복하면서 자신의 삶을 구축해 나간다  바로 이러한 결과물이 예술작품이다  예술작품은 개인의 이야기인 동시에 긴 역사 속의 어느 한 찰나를 비교적 명확하게 포착해낸다  이번 전시는 전통과 현대가 어떤 화합을 이루고 있는지  또한 선조들의 숨결이 깃든 문화유산과 얼마나 공존하고 있는지를 확인해 볼 수 있는 기회다  우리의 생활은 전통과 단절되어 시작할 수 없으며 오히려 끊임 없이 전통과 현대를 잇는 사이에 존재하는 것이다  전통은 알 수 없는 미래까지 연결되는 고리이다   노혜영 프로이드에 의하면 인간은 어린 시절의 잃어버린 세계로의 회귀를 열망하고 또 실제로 꿈과 같은 경로를 통해 회귀하기도 하고  예술은 체험에 의해 과거로 돌아갈 수 있는 하나의 통로를 제공한다고 한다  나의 작업은 이러한 맥락적 관점과 유사하다  나의 작업의 출발점은 유년 시절의 좋은 기억들이 가득한 곳인 숲속을 중심으로 과거로의 회귀 또는 다시 가보고 싶지만 자유롭지 못한 현실에서 꿈을 꾸며 그리움을 치유하고픈 욕구에서 비롯되었다  나의 작업의 주제는 꿈꾸는 이상향 이다 이상향 유토피아 이란 동 서양에 따라 여러 가지 의미로 해석될 수 있겠지만 일반적으로 현실에는 존재하지 않는 이상의 나라  또는 이상향 을 가리키는 말로 통용된다  즉  이상향 은 인간이면 누구나 한번쯤 꿈꾸어 보는 사막의 오아시스 같은 동경의 세상이라고 할 수 있다  이러한 의미의 연장선상에서 나의 작품에서의 이상향은 우리가 항상 꿈꾸며 갈구하는 세계 또는 따뜻하고 포근한 엄마의 품 같이 사랑이 넘치는 곳  그리고 어떠한 어려움과 시련이 와도 극복해 낼 수 있는 희망과 긍정의 공간을 의미한다 우리들은 각박한 세상을 살아가며 느끼는 고독과 슬픔 그리고 고통으로 힘들어하고 지칠 때 언제든지 기댈 수 있는 따뜻하고 편안한 엄마의 품과 같은 보금자리를 필요로 한다  나는 이와 같은 현실의 아픔을 나의 작업을 통해 포근하게 안아주고 싶다  나는 어릴 적 시골에서 도시로 상경해 혼자 생활하면서 느꼈던 외로움과 쓸쓸함  고향에 대한 향수 그리고 엄마의 따뜻한 보살핌에 대한 그리움 등으로 많이 힘들었던 적이 있었다  나의 작업 속의 숲은 이러한 힘든 세상 속에서 삶을 지탱하게 하고 긴 인생에서 삶을 가치 있게 해주는 상징적 공간이라고 할 수 있다   사랑 나눔 작은 그림 년 새해를 맞이해 서울 인사동  리서울갤러리 에서 유명 여류작가들의 소품전이 열립니다  한국여류화가협회 소속 인이 점씩 출품한 이번 소품전은  사랑 나눔 작은 그림  이라는 주제로  월  일부터 일까지  주간 진행됩니다 호부터  호까지의 작은 그림들로 작가의 정성이 담긴 우수한 작품들입니다  가격도 만원에서 만원 사이로 저렴하게 책정해 미술 애호가들에게 부담 없는 소장의 기회를 제공해 드리는 값진 전시회입니다   꿈과 사랑을 깨우다 은은한 청회색의 화면 속에 단정하게 놓여있는 사물과 흩어지는 작은 꽃잎들  가만히 들여다보고 있으면 잔잔한 호수를 들여다보는 것 같다  화면의 중앙에 자리 잡은 항아리  반닫이  소반은 지나치게 크지도 작지도 않은 딱 적당한 크기로 화면의 여백과 조화를 이루고 있다  너무 많지도 적지도 않은 흩날리는 꽃잎들은 정적인 화면에 조용한 움직임으로 율동감을 주고 있어 그림을 보고 있으면 살랑거리는 미풍이 느껴지는 듯하다 요란하거나 소란스럽지 않은 청자색조가 주를 이루고 있어 차분한 안정감을 주는 작품은 은박과 금박  진홍색이 적절하게 강조되어 생동감도 함께 느끼게 해준다  무엇보다 작품의 주를 이루는 한국적인 일상적 소품들과 기와  풍경은 한국적인 정서의 차분한 아름다움을 보여주고 있다 류은경의 작품에서 보이는 작가의 내면 세계는 잊고 있던 꿈을 일깨워준다  바쁘고 각박한 일상생활 속에서 자신도 모르게 슬그머니 놓아버린 순수한 꿈의 세계  외적인 자극들에 둘러싸여 모른 척 지나친 내면의 소리가 들린다  그 내면의 소리는 삶에서 정말 중요하고 소중한 것들이 무엇인지 묻는다  그 물음은 작가가 우리에게 묻는 물음이자 작가 스스로가 집요하게 놓지 않았던 물음이기도 하다 그 물음에 대한 답이 작품 속에서 들려온다  무겁게 어깨를 누르고 있던 삶의 짐들을 내려놓으라고  모른 척 지나쳐버린 작고 사소한 것들 속에 숨어있는 아름다움을 느껴보라고 하지만 작가는 삶의 치열함과 고단함을 부정하지 않는다  오히려 꿈과 공존하는 현실의 생활을 한 단계 승화시키는 노련함이 보인다 언젠가 식구들의 밥을 올려놓았을 밥상  철마다 차곡차곡 옷을 개서 넣어두었을 반닫이  포근한 잠자리가 있었을 집의 돌담  선반 위의 그릇들  그리고 그것들과 함께 공존하는 물고기  나비  꽃  나무들  문명과 자연이 공존하는 그림 속에서 우리는 일상의 소중함과 꿈의 아름다움을 함께 느끼게 된다 또한 작품에서 보이는 사물들은 한국적인 정서가 느껴지는 소박한 물건들이다  사회적 존재로서의 인간이 가지고 있는 민족적인 정서는 특정 집단에서 오랜 세월에 걸쳐 내면화된 집단의식이기도 하다  한국적인 정서 역시 겉으로 요란스럽게 드러내는 경박스러운 화려함보다는 은근하고 차분하게 감추어진 신중함으로 표현되는 정서이다  오랜 세월 외세의 침입과 크고 작은 변란 속에서도 꿋꿋하게 자신의 자리를 지키며 견뎌 온 민중의 생명력은 어쩌면 그런 은근한 끈기 속에 있는 것인지도 모른다  무게감 있게 화면의 아래를 차지하고 굳세게 버티고 있는 옷궤를 보면 그 옷궤 안에 스며있을 한국인의 삶의 진실이 전해져온다 그림은 눈으로 보는 것이 아니라 마음으로 보는 것이다  마음으로 보는 그림은 사물의 상징적인 의미를 넘어선다  전체 구조와 색감  직선과 곡선의 어우러짐  정적인 느낌과 운동감의 조화 등등 그림을 통해 전해지는 아름다움의 느낌은 예술 작품이 갖는 의미를 생각하게 하고 그런 의미에서 류은경의 작품은 아름다움을 체험하게 하는 보편적인 정서를 일깨운다  꿈에 대한 간절한 그리움이 사랑으로 표현되고 그 사랑은 화사한 꽃이 흩날리는 바람 속에 선 여인으로 형상화되고 있다  그 여인은 작가 자신이도 한 동시에 아픔을 사랑으로 승화시킨 여성들의 모습이기도 하다  꽃은 여인의 아름다움을 장식하기 위한 장치라기보다는 여인이 생산해내는 사랑의 열매이기도 하다 작품들 속에 일관되게 흐르고 있는 꿈과 사랑이 작가가 지향하고 있는 강력한 메시지임을 어렵지 않게 읽어낼 수 있는 이유도 꿈과 사랑이야말로 우리 모두에게 간절한 소망이기 때문인지 모른다   MIXedCONtemplation MIXedCONtemplation  뒤섞인 사색  전은 이경복 조현선 한준희 작가의  인전으로 세 작가의 페인팅에 대한 서로 다른 방식의 접근을 한데 묶은 전시이다  이 세 작가들은 모두 드로잉 페인팅을 작품의 근간으로 삼고 있지만 페인팅 기법과 소재를 해체하여 재구성하는 알고리즘  이를 표현하는 디테일의 알레고리에서 모두 현격히 갈라지는 각자 개성의 층위를 보여준다 이경복 작가는 페인팅의 재현적 역할을 기반으로 타인의 물건들을 수집하고 그림으로써 그들의 정체성을 모색하고  조현선 작가는 추상과 구상의 경계에서 일상의 풍경에서 발견한 순간들을 여러 레이어를 통해 추상화 시키는 작업을 하며  한준희 작가는 완전한 추상을 추구하며 페인팅이라는 행위와 마크 메이킹  컬러 등을 연구한다 하지만 이 세 작가들은 모두 페인팅과  보는 것 의 관계에 대해 탐구하고 있으며 현 시대에 페인팅이란 어떤 의미인가를 깊이 생각하며 작업하는 사유를 공유한다는 점에서 닮았다  이번 전시에 포함된 세 작가들의 작품을 통해 관객들이  보는 것 과  페인팅 그리고  사색 이라는 키워드에 관해 생각해 볼 수 있는 기회가 되길 바란다   Cell Cloning 최서윤 최서윤은 펠트 felt 를 소재로 한 섬유 작가다  그는 젊은 섬유 예술가로서  현대 미술과의 연계뿐 아니라 현대 공학을 요하는 소재개발에 대한 시도 등 실험적 관점에서 섬유를 통해 다양한 시도를 하고 있다  그는  세포복제 를 모티브로 한 디지털 프린팅 펠트 작업을 선보인다 이렇듯 섬유를 바라보는 관점에 있어서 동식물학적인 접근으로 탐구해나가는 작가에게 섬유는 하나의 생명체이자 탐험해야 할 우주와도 같은 대상으로며 작가로 하여금 새로운 시도를 유도하는 매개체이다  최서윤이 보여주고자 하는 것은 단지 결과물이 아닌 섬유라는 소재를 통해 접근해가는 방식과 과정 그리고 고민에 대한 흔적이며 그것과 함께 나타나는 결과적 다양성에 대한 시도라 볼 수 있다   하늘미학 Sky Aesthetics IV 송은주 유중아트센터  층에 위치한 휴게 공간  카페 드 유중  전시장에서는 송은주의 개인전  하늘 미학  Sky Aesthetics 을 전시한다  송은주는 이화여대와 홍익대 대학원에서 서양화를 전공하고  이화여대 대학원 디지털 미디어학부에서 영상미디어 전공으로 박사학위를 취득했다  금호미술관  논밭갤러리  인사아트센터  예술의 전당 한가람미술관  종로갤러리  관훈갤러리에서 개인전을 개최하였으며 여회의 단체전에서 참여하였고  서울시립미술관에 작품이 소장되어 있다  성남시립교향악단 정기연주회  한모음 실내악단 연주회  가야금 독주회 등에서 영상 연출 및 제작을 하였다 하늘미학 Sky Aesthetics 은 인간이 시각적으로 접하는 하늘 이미지를 자연의 흔적과 함께 미학적 차원에서 표현하고자 함  공간성과 시간성을 내포하고 있는 하늘과 자연을 통해  새로운 회화적 세계를 창출하여 무한한 가능성을 탐색한다  시간과 계절에 따라 변모하는 하늘의 시각적 광경은 그림에 나타나는 회화성의 원천이며  작가는 인간의 삶과 함께 공존해 온 하늘로부터 체화된 하늘의 회화성을 표현하고자 한다 작가는 하늘미학 Sky Aesthetics 에서 변모하는 하늘의 모습을 나무의 매체적 표현으로 더욱 구체화시켰으며 하늘의 이미지가 나무의 결과와 함께 형상화되도록 매체 위에 직접 표현함  작품의 바탕재료로는 삼나무 cedar wood 를 사용하였으며 삼나무는 나무 자체가 가진 특성이 부드럽고  색이 잘 스미는 듯한 표현이 가능한 재료이다  즉 나무 자체가 회화적 표현이 가능하여 물감의 발색이 깊은 감성을 느끼게 한다 나무 자체에서 발현되는 자연스러운 나이테  옹이  지선  갈라짐은 하늘 미학과 공존하며 새로운 회화적 표현으로 재해석됨  바탕재료인 나무에 포함되어 있는 요소들 즉 나무 표면 사이에 있는 옹이  나무 결 사이에 있는 지선  불명확한 형태의 갈라짐 등은 바탕재료 위에 그려질 이미지와 새로운 결합을 하였다  하늘의 이미지 속에서 그려지는 구름의 불명확한 형태들이 짙은 보라와 청록의 색채와 함께 새로운 형상으로 표현되었다 특별히 년 월 일 시 카페 드 유중에서 자매간에 음악과 미술로 예술을 공유하는 무대를 갖는다  그동안 송안나와 송은주는 미술관에서 연주  음악회에서 영상예술로 호흡을 맞춰왔다 년  월 일 금 시 송안나의 콘서트  Nu n  concert에서는 가야금 전통곡  창작곡의  곡이 연주된다  연주되는 동안 음악에 맞추어 송은주의 하늘미학 Sky Aesthetics 영상예술이 투사된다   상업문화와 야만 진귀원은 합성사진  또는 만화에서 막 튀어나온 듯한 캐릭터들을 만들어 상품물신주의에 빠져 있는 한국사회를 풍자한다  F R P에 우레탄으로 도장된 인간상들은 총천연색의 환상이자 현실이다  편재하는 현실 속에서 찾아진 환상은  차원 상에 우뚝 서 있다  그는 돈으로 모든 것이 귀결되는 신자유주의 사회를  야만의 시대  전시부제 로 간주한다  하나의 가치로 환원이 일어나는 현대사회는 사실과 환상을 어느 때보다도 근접하게 한다  유행하는 옷을 차려입은 청소년의 머리통이 에이리언이고  여성 직장인 머리에 SM 하위문화의 성적코드가 이식되어 있는 모습이 그다지 충격적이지 않다  학생은 미래의 직업을 위해 장기적인 투자를 해야 하는 대표적 집단이며  직장인은 그 결과를 나타내지만  양자는 그들이 수행해야만 하는 그 밋밋한 노동 형태로 인해 자극적인 소비문화를 필요로 한다는 공통점이 있다  그것은 노동과 여가에서의 동시적인  현대사회에 만연한 이중의 소외이다 어느 때보다도 그 간극이 벌어지고 있는 예술과 문화 사이에서  인터넷과 함께 성장한 젊은 작가들은 재미와 흥행이 있는 양지쪽으로의 지향이 생겨나는 것은 자연스럽다  그러나 작품 아이디어를 짜내는 과정은 둘째치고라도  추운 곳에서 홀로 흙을 주무르고 독한 화학물질과 함께 일일이 수공으로 작업해야 하는 생산의 과정과  아늑한 장소에서 손가락으로 버튼이나 자판만 두들기면 되는 소비문화의 차이는 쉽게 극복되지 않는다  단적으로 코드는 가볍고 빠르며  작업은 무겁고 느리다  작업  특히 조각은 결국 묵직한 현실계에 속해있다 여기에 작가들의 어려움이 있지만  그만큼 현실과 유의미한 상호작용을 할 수 있는 기회 또 한 가질 수 있는 이들이 바로 그들이다 그것도 미미한 상호작용이 아니라  자기 주도적인 생산물을 통한 상호작용의 가능성에 예술의 진정한 야망이 있다  진귀원이 대중문화의 코드를 적극 활용하면서도 현대 자본주의 문화에 대한 비판을 시도하는 부분은 예술이 해야 하는 긍정적 항목 중의 하나를 수행한다 아방가르드 시대와 달리  미술이 무엇을 할 수 있으랴 싶지만  자본주의가 추동하는 물신적 체계의 가장 큰 희생자 중의 하나가 예술임을 생각할 필요가 있다  사회 비판은 현대미술의 자기비판의 과정에 포함되어야만 한다  예술은 지배적 동질성에 대항하는 차이를 추구함과 동시에  차이가 차별이 되지 않는 이상적 사회를 예견한다  비판이 없으면 야만은 지속된다  야만이 확대 재생산 될 수 있는 시스템 역시 역대 최강이다  작가는 대중들이 가볍게 접할 수 있는 인터페이스에서 참조한 보편적 코드를 활용하여 지금여기의 삶을 지배하는 어두운 규칙을 폭로한다 특히 그가 모든 것이 상품으로 깔끔하게 정리되어 있곤 하는  나름대로 질서 바른 사회를 문명이 아닌 야만으로 파악하는 것은 생각해 볼만한 대목이다  어떤 기준이든 그것이 유일한 것이 되었다면 억압적일 수밖에 없다  그런데 그러한 일이 현대 자본주의 사회에서 일어난 것이다  그 이전 사회에서는 서로 멀리 떨어져 있어서 각 사회가 하나의 현실원칙에 의한 지배를 받지 않았다  서로 다른 영역이 공통의 문법으로 서로 엮이는 과정은 세계화  보다 정확히는 세계 시장화의 예에서 보듯이  보다 많은 다수의 패배자를 낳을 수밖에 없다  전시장은 진귀원이 조각을 통해 그리는 야만의 시대의 풍경이다  흥미로운 것은 그가 대중에게 혐오감을 줘서는 안 된다는 원칙을 준수해야 하는 공공미술과를 전공하고 있다는 사실이다  그에게 공공성은 무난한 장식품이 아니라  바람직한 공공적 삶과 대치되는  극복해야할 요소에 맞춰져 있다 인간은 태어나는 것이 아니라 만들어진다  특히 언어라는 상징적 구조는  나는 으로 시작하는 그 주체를 만든다  지배 질서의 원리가 내재되어 있는 상징적 구조는 개인의 욕망 또한 만든다  기호  특히 상품기호들의 우주로 이루어진 자본주의 사회에서 눈은 계속 타올라야 할 욕망의 대상을 수집하는 대표적 감각기관이다  보는 인간은 보여 짐 또한 인식하는데  진귀원의 작품은 이러한 시선 eye 과 응시 gaze 의 역학 관계 속에서  상품의 기호가 결정적임을 보여준다  상표는 사회적 인간이 상대편을 한눈에 알아볼 수 있는 코드가 된다  보고 말하는 인간은 무엇보다도 욕망하는 인간이다  작품 속 주인공들을 머리끝부터 발끝까지 휘감는 유명 상표들은 욕망하는 인간이 만나는 실재가 상품 세계로 한정되어 있음을 알려준다  욕망은 다양한 방향으로 흘러갈 수 있고 뻗어나가야만 하지만  자본주의 사회에서 그것은 상품의 생산과 소비라는 유일한 회로로 빨려 들어간다  사회는 욕망의 회로와 상품의 유통구조를 일치시키려 한다 체계는 규정될 수 없는 욕망을 코드화 시켜 값을 매기고 유통시킨다  코드는 등질적인 것이지만  그것이 유도하는 결과는 철저한 불평등이다  자연  몸  무의식 등 값을 매길 수 없는 것까지 값을 매길 수 있게 되면  모든 것은 값을 중심으로 서열화 되기 때문이다  가격 매기기는 마치 수학공식처럼 중성적인 행위인 것 같지만  그것은 결국 서열화를 낳기 때문에 보다 높은 서열을 차지하기 위한 끝없는 경쟁이 생겨난다  현대의 야만은 이러한 맹목적인 경쟁으로부터 발생한다  이 전시에서 문명화 과정은 야만을 새로운 방식으로 배치시킨다  현대의 야만은 더 많은 약자를 만들어내는 억압적 체계에 의해 생산된다  야만은 주먹이나 총칼이 아니라 법과 시장을 통해  그것이 파생시키는 이데올로기와 허위의식  도그마와 상식 등을 통해 행해진다  야만은 퇴행을 의미하지만  사실 투명한 이해관계에 근거할 법한 법규들의 등장은 역사의 진보에 의해 나타났다 앨버트 허쉬먼은  열정과 이해관계 에서 열정이 인간을 사악해지도록 부추 키지만  이해관계에 얽매어 그럴 수 없는 상황에 놓인다 는 몽테스키외의  법의 정신 의 문구를 인용하면서  고전적 자본주의에 의해 부각된 이해관계와 사라져가는 열정을 대비한다  허쉬먼은 인간의 이해관계를 열정에 대립시키고 인간이 개인적인 이익을 추구할 때 야기되는 긍정적인 효과와 열정에 휘말리게 될 때 생기는 재난의 상태를 대비한다  고전적 자본주의 시대에 학자들은 인간 행위에 공통적인 이해관계가 지배하는 세상이 비인간적이고 냉정하다고 생각지 않았다  이해관계는 이성만큼이나 투명하고 긍정적으로 평가되었다 열정과 이해관계 에 의하면 자본주의는 인간의 충동과 어떤 성향들을 억누르고  좀 더 단순하고 예측 가능한 일차원적인 인간성을 만들어 내리라고 기대하였다  오늘날에는 이상하게 들리는 이런 입장은 특정한 역사적 시기에 상존하던 분명한 위험을 걱정하고  인간 열정의 파괴적인 힘을 걱정하는 데서 비롯된 것이다 이전의 모든 사악하고 파괴적인 악덕들은 합리적 이해관계가 아닌 비합리적 열정에 의한 것이었다  일시적인 열정이나 충동에 휩쓸리지 않는  합리적인 의지 나  합리적인 이기심 이 고전적 자본주의 시대에는 도덕적 덕목으로 꼽혔다  그것은 이해관계가 공사의 영역에 있어 인간사를 처리하는데 보다 이성적인 방법이라는 긍정적인 생각이다  이해관계가 인간행위의 지배적 동기라는 생각은 가능한 사회질서를 위한 현실적 기초가 마침내 발견되었다는 지적 흥분을 야기 했다  가장 일반적인 특성이 예측성이다  반면 대부분의 열정적 행위는 변덕스럽다는 점이 강조된다  불확실성 특히 인간의 가변성은 없애야 할 주요 난관이 되었다  인간은 이해관계에 충실할 때 확고부동하고 질서정연해지며 이는 열정에 휘말렸을 때와 정반대이다  열정은 광폭하고 위험하지만  물질적 이익을 추구하는 것은 단순하고 무해하다는 것이다  상인이 부를 축적하는 것은 귀족계급의 열정적 유희와 방종  또는 군대나 해적의 야만적 약탈보다는 부드럽고 평화로워 보인다 그래서 당시의 지도적 철학자들은 자본주의가 인간 본성의 파괴적이고 불길한 요소를 억누를 수 있다고 기대했다  그러나 상업은 곧 또 다른 전쟁  그것도 항시적인 전쟁이 되었다  자신의 이익을 추구하는 인간이 무해하다는 생각은 자본주의의 현실이 완전히 드러난 이후에야 사라지게 되었다 진귀원의 작품에서 파국적 상황 속의 다국적 기업의 로고는  보편적으로 편재하는 이해관계가 왜곡된 방식으로 파괴적 본능을 다시금 불러냄을 알려준다  맹목적 욕망에 휘둘리는 인간만큼이나 계산하는 기계는 인간이라 할 수 없다  협소하게 이해된 이해관계는 다시금 인간적 열정을 관철하는데 숙고해야할 이성적 요소가 되어야 할 것이다  현대사회에서 살아가며 작업하는 이들 또한 열정과 이해관계 간의 적절한 조화가 필요하다  진귀원은 그가 풍자극의 무대 위에 불러낸 캐릭터들에 모두 자신의 이빨을 이식시켰는데  그것은 비판이 스스로에게도 겨누어짐을 암시한다   From Hysteria To the Stage of Drive 본인의 작업은 분열하는 히스테리적 군상과 더불어 그들이 위치하는  무대 라는 시공간을 표현하는 것이다  히스테리적 군상들은 어떠한 의미로도 환원될 수 없는 것으로 전락한 분열하는 대상들의 모습이며  그들은 히스테리적 위치에서 히스테리증자가 갖는 의혹  물음이 생산하는 되는 일종의 무대에 위치한다  그리고 히스테리적 주체와 무대는 다른 대상들에 의해  노출  expose 되는데  이는 나의 무대를 이미 바라보고 있었던  무대 밖 나머지의 존재이자 무대를 가능하게 하는 자에게 노출되는 것이다  이로써 히스테리적 주체의 분열은 무대 위의 결핍을 드러냄과  동시에  무대 바깥과 함께 발생하는 장면이 된다   Digital Fun Art 예술은 디지털 시대의 도래와 백세 건강시대의 전개에 따라 전문가  예술가들만이 전유물이 아니라 모두가 즐기고 창작에 직접 동참하고 향유하는 시대로 변모하게 되었다  이제 거리의 풍경  세계의 풍경이 달라졌다  모두들 디지털 기기를 들고 소통하고 촬영하고 게임하고 유희한다  원격조절시대  기술시대  대량정보시대가 되면서 이제 핸드폰은 단순도구에서 현대인의 삶을 융복화 시키는 장치로 변모했다 모든 정보는 핸드폰 안에 있다  세계를 해석하고  세계를 이어주고  세계를 이해하게 하고 문명과 문화로 가게 해주는 현대인들의 필수 불가결한 도구가 되었다  현대인들은 존재의 증거를 소통에서 찾고 있는듯하다  이는 현대라는 문화코드가 갖는 유희성  가벼움 키치적 현상  놀이와 유희의 도구로서의 핸드폰은 새로운 문화 매개체가 되었기 때문이다  이렇게 문명과 문화를 꿈꾸고 확대 재생산 하게 해주는 도구인 핸드폰을 통해 현대인들은 모두 Homo Ludens 유희하는 인간 가 되었다  즉 디지털로 즐기는 Digital Fun Art 즉  디지펀 DigifunArt  의 세상이 펼쳐진 것이다 디지펀은 장치 속의 프로그램을 이용하여 촬영을 통해 시간의 흔적들을 생산하고  또 서로 이미지를 교류 하고  또 기존의 이미지를 패러디하고 드로잉을 하는 과정을 통해 확대 재생산하고 유희한다  그리하여 기계적 그림에 대한 창조적 가능성과 그리고 새로운 인간의 시지각적 능력의 가능성을 탐구하고 예술적 미감과 사회문화 현상에 대한 정보를 얻고 또 교류 하면서 새로운 세상에 대한 새로운 해석으로 즐기는 이 시대 풍경의 한 단면이다  우리가 먹는 것  대화하는 것  자는 것  여행하는 것  생각하는 것 이제  디지펀 은 시대가 요구하는 동시대의 정치  경제 사회  문화를 표현하는 현대적 문화 키워드로 자리매김 하게 될 것이다  현대인 모두가 호모 루덴스이다  그리고 그들의 필요에 의해서 디지털 도구는 더 진화 할 것이다  안승준은 한평생 일반직장인으로 살아오다 제 의 인생의 막에 새로운 세상과 만나 새로운 DigifunArt에 흠뻑 빠져있는 그는 이 시대의 상징성을 갖는 이 시대의 진정한 호모 루덴스이다 작가노트 지금껏 대기업의 조직원으로 평생을 살아온 작가는 어린 시절부터 꿈꿔온 그림의 세상이 있었으나에 직접 접할 기회가 없었다  그러나 인생  막이 펼쳐지는 시점에 디지털 기기의 묘미에 빠지기 시작했다  스마트폰이 단순히 안부만 묻는 통화기기에서 인간관계를 형성하는 소통의 허브가 되고 단순히 문자를 주고 받는 기기에서 그림과 사진  더 나가 자기의 작품까지도 공유하는 향유의 장을 만들어 가게 된 것이다  평소의 알고 만나는 인맥도 상상치도 못하는 범위에 까지 인맥이 형성된 것이다  작품을 통해 본인의 생활의 모든 면을 나타내기도 하고 주위의 아름답거나 알리고 싶는 내용들을 작위적으로 해석하여 알리기도 하게 된 것이다 무의미하게 인생 막에서 보내는 주위의 동료와는 근본적인 다른 창조적 삶을 찾게 된 것이다  괴로움을 작품창조로 승화 시키고 즐거움을 같이 향유하다 보니 이제는 주위 사람들을 공감대형성까지 해나가면서 인간관계의 폭을 입체적으로 확장하게 된 것이다  전문가가 되려면 특정한 공간과 장이 마련되어야 하는 데 또한 작품을 갖게 되면 유지 보관하는 데 비용이 들어야 하는 데 내가 갖고 있는 스마트폰 공간에 무한정 넣었다 지우고 새롭게 실시간으로 작품활동을 하게 되다 보니 이러한 부담은 애당초 없었던 것이다  작가가 일상생활에서 표출하는 내용이 담기다 보니 지근의 친한 친구는 작가의 지금 고민하는 모습이나 정신적 아픔을 겪는 것에 대해 정확한 진다을 하면서 친구로서 정신적 치유도 해주는 것이다  흔히 스마트폰과 같은 디지털 기기는 젊은이들의 향유물이라고 생각했는데 작가의 경우 인생  막에 걸쳐 있는 중년들에게도 엄청난 친구로 다가온 것을 실감했다고 이야기 하고 있다  이와 같은 장르가 급속히 노령화로 진행되는 우리나라와 같은 디지털 강국에서는 앞으로 취미를 공유하고 지금 것 숨겨진 역량을 표출하는 새로운 장으로 이끌어 나가는 디지털 펀 세상이 펼쳐져 나가리라고 믿어 의심치 않는다   FRAGILE 김지훈 유중아트센터에서는  우수신진작가 장학지원 공모 의 첫 번째 전시를 유중아트센터  층 유중 갤러리에서 선보인다 우수 신진작가 공모전 은 유중재단과 유중아트센터가 추진하고 있는 장학사업 가운데 시각예술분야의 유망한 젊은 작가들을 대상으로 수여되는 상으로매년 명의 수상자를 선발하여 개인전 개최 기회를 제공하고 있다 년도 수상자로는 김지훈과 옥경래가 선정되었는데 년 월에 먼저 선보일 전시는 김지훈의 개인전  FRAGILE 이다 김지훈의 작품은  인간에 대한 주의 를 주제로 하고 있다  복잡한 현대사회 속에서 인간은 소외되고  기술의 발전과 더불어 그 소외현상은 급 물살을 타고 있는 상황에서 소셜네트워크서비스 이하 SNS 를 통해 인간은 더 가까워 진 듯 보이지만 실상은 한층 더 멀어져 있다  인터넷의 악성 댓글은 서로를 쉽게 상처 주고  남에게 받은 상처는 또 다른 이에게 표출되어 결국 심각한 사회문제로 야기된 지 오래이다 이로 인해 우리는 인간 서로에 대한 존중을 잊고 무관심과 기만을 통해 결국 더욱 고립되어 가고 있다  바로 김지훈 작가의 작품이 이야기 하고자 하는 바는 이러한 사회적 현상에 대한 경고라고 할 수 있겠다 작가는 구체적으로는 한자  한글  영어 등의 텍스트 작업을 통하여 인문학적 성찰이 담긴 회화작업을 계속하면서 인간의 기본적 존엄의 조건에 대해 고민하고 성찰해보고자 한다  더 나아가 글과 회화  영상화 회화를 좀 더 다층적이고 입체적인 방식으로 접목  병행하여 작업 방향을 확장해나갈 계획이다  이는 회화가 가지는 한계를 극복함과 동시에 회화와 텍스트  회화와 영상의 결합과 충돌에서 발생하는 예상 불가능한 결과물을 얻는 시도가 될 수 있다 작가는 이러한 작업들의 대상을 인간으로 지정하고 있으며  동시에 그가 말하는 인간이라 함은  부서지기 쉽고  취약하고 허술하면서 동시에 섬세함을 동반한 마치 유리잔과도 같이 위태롭고 연약한 존재임을 관객에게 암시하고자 한다 그는 스스로 작업에 대해 진행 되는 과정 자체에 대해서 본인의 작업임에도 그 결과물을 확신할 수 없을 때가 종종 있다고 말한다 그러나 이러한 과정이 현재의 작업을 만들어 내는 원인이 되었고 주제가 되었다  결국 사람에 대한 주의는 자기 자신에 대한 주의 이기도 하며 작가는 자신 안의 것들에 대해 이야기하는 과정에 있어서 쉽게 정의 내리거나 결론짓지 않으려 노력한다  작품을 하면서 거치는 다양한 실험과 과정의 결과를 통해 얻는 부분에 대해 진솔하게 표현하고 이야기 나누고자 한다 작가는 현재 후기 자본주의 사회 속에서 살아가는 개인의 내면의 모습  보이지 않는 상처  사회적 억압 등을 고찰하는 데에 작업의 중점을 둔다  놀라운 과학의 발전과 화려한 후기문명 사회의 그늘 속에서 간과되는 인간의 연약함과 개별성  그리고 고유성이 존중 받지 못하고 시스템을 이루는 한 부속품으로서 소모되는 과정 속에서 그러한 인간이 겪는 불안과 고통  나아가 치유에 대한 가능성을 모색하는 작업에 주력하고자 하였다 김지훈은 년 서울대학교 미술대학을 졸업하고 동 대학원에 재학 중이다 년 단체전  큐브 를 시작으로 첫 개인전  기억 을 열고 키아프  경향 미술대전 외 다수의 전시에 참가 하였으며  한림대학교 병원에 작품이 소장되어 있다   매화 봄과 신생의 상징과 그 해석 아직 겨울 기운이 채 가시지 않은 이른 봄에 매화를 찾아 나서는 심매행 은 예로부터 시인 묵객들의 고상한 풍류였다  이를 탐매 라고도 하고  만발한 매화를 보고 즐기는 것을 관매 혹은 상매 방매 라고 한다  이렇듯 잔설이 분분하고 산천의 온갖 생명의 기운들은 여전히 숨죽이고 있는 동토의 계절에 굳이 매화를 찾아 길을 나섬은 단순한 기호나 호사취미에 그치는 것이 아니다  그것은 어쩌면 고향의 순례와도 같은 것이다  그럼에도 불구하고 이를 마다하지 않음은 그저 매화꽃을 다른 이보다 먼저 보고자 하는 경박한 조바심이 아닐 것이다  그것은 돌보는 이 없는 적막한 산중에 홀로 피어나는 매화의 고고한 정신과 때 묻지 않은 향기를 통해 자신을 비춰보고 정신을 가다듬고자 하는 선비정신의 발로일 것이다 주지하듯이 매화는 사군자 중 하나로 계절로는 봄에 해당하며 방위로는 동쪽을 상징한다  겨울 기운이 여전한 추운 날씨에 눈 속에 피어나기에 매화는 봄소식을 알리는 전령이자 희망과 새로운 생명을 상징하고  흰 눈 속에서 피어나는 고고한 자태는 고결할 뿐 아니라 군자나 은자의 지조와 절개를 대신하기도 한다  그러하기에 예로부터 매화는 즐겨 그려졌으며 특히 문인화에서 중요한 소재로 다루어졌다 작가 최은옥은 분방한 수묵을 통한 독특한 조형 작업으로 자신의 본령을 삼고 있는 작가이다  작가의 작업은 수묵이 지니고 있는 독특한 물성을 최대한 수용하고 발휘하여 일종의 사변적인 화면을 구축하는 것이었다  그런 작가가 돌연 매화를 화두로 삼아 새로운 화면을 선보이게 되었다  계절적으로는 잘 부합하는 소재의 선택이겠지만  이전의 그의 작업을 염두에 둔다면 이는 당혹스러움과 의아함이 자연스럽게 제기될 수밖에 없는 일이다  그간의 작업 역정을 통해 미루어 볼 때 이는 마치 선인들이 심매  혹은 탐매를 통해 자신을 비춰보고 정신을 추스르고자 했던 것과 어쩌면 유사한 것일지도 모른다는 추측을 해 볼 수 있을 것이다  즉 작가는 그간의 자신의 작업이 지니고 있던 분방함을 방만함으로 인식하고 매화를 통해 그 근본과 원칙에 새삼 천착하고자 하는 것이 바로 그것이다 작가의 매화는 거칠고 둔탁하다  그것은 운필의 유려함이나 구도의 조밀한 경영에 앞서 소박한 표현 욕구가 고스란히 반영된 결과일 것이다  빠르고 억센 듯 하지만 화면에 드러나는 매화의 실체는 오히려 둔중하고 거칠며 질박하다  그것은 일반적인 사군자에서 나타나는 부드럽고 우아한 운필을 반영하는 것이 아니라 오히려 민화에서 보이는 소박하고 치졸한 맛이 물씬 풍긴다  축적된 세월의 무게를 한껏 반영하는 굵고 거친 몸통과 새로운 계절의 신생의 기운을 발산하는 가지들은 모두 별반 농담의 구분도 없을 뿐 아니라  더해지는 꽃 들 역시 붉은 색으로 일정한 패턴을 이루고 있다  이는 작가의 의도인지 분명치 않으나 화면 전체에 소박하고 질박하며 천진한 감성을 담아내고 있다  경우에 따라서는 새가 더해지는 화조화 형식을 취하거나 시 적 정취를 드러내는 화면은 작가의 지향을 가늠케 해주는 단서일 것이다 작가는 분명 문인화가 지니고 있는 시정화의 의 함축적이고 감성적인 화면을 염두에 두고 있음이 여실하다 비록 작가의 지향이 서정적인 시정과 함축적인 화면의 묘미를 추구한다 하더라도  화면에서 전해지는 둔탁하고 졸박하며 소탈한 맛은 오히려 일탈의 기운이 강한 것이다  이는 사군자로 대변되는 전통적인 얼개는 수용하지만  오랜 기간에 걸친 수묵에 대한 축적된 경험을 바탕으로 해석하여 표출한 결과가 그러한 것이다  흥미로운 것은 그것이 치졸한 듯 소박하고 천진하며 의외의 담백함을 드러내고 있다는 점이다  마치 어린 아이의 천진함을 마주하는 것 같은 질박한 감성은 지나치게 기교적이며 세련된 우아함 보다 친근하다 물론 이러한 결과가 기교를 넘어선 무기교의 현현인지는 단정 지을 수는 없지만  적어도 작가의 신작들은 이전의 그가 보여주었던 경계와는 전혀 다른 새로운 시공을 마주하고 있다는 점일 것이다 만약 작가의 지향이 전형적인 문인화의 시정화의라 한다면  이는 반복적인 운필 훈련과 장법 에 대한 연구를 통한 보완할 필요가 있을 것이다 그러나 만약 그 지향이 민화적인 질박함이나 일탈의 새로운 가치라 한다면 보다 함축적이고 개괄적인 자신만의 개별화된 방법론을 확보함이 관건일 것이다  이는 전통적인 운필과 포치  그리고 공간의 운용 등에 있어서 근본적인 변화를 확보함으로써 구현될 수 있을 것이다 사실 이러한 내용들은 전통과 현대  혹은 전통의 재해석이라는 점에서 대단히 중요한 의미를 지니고 있는 것일 뿐 아니라 작가의 작업 세계에 있어서도 매우 커다란 영향을 미치게 될 것이다  작가의 새로운 시도를 주목하며 그 결과를 기대해 본다   원더러스트  또 다른 언덕 너머로 가는 끊임없는 여정 광주시립미술관은 벨기에교류전  원더러스트  또 다른 언덕 너머로 가는 끊임없는 여정 을 개최한다 원더러스트 는 벨기에 연방정부가 지원하는 전시 프로젝트로서  광주시립미술관과의 협업 하에 진행된다  이번 전시에는 세기 서양미술사에 큰 족적을 남긴 거장 마르셀 브로타에스 와 파나마렌코 등의 작품이 포함되어 있고  이들을 포함한 다섯 명의 주요 벨기에 작가들의 작업을 선보인다 원더러스트 전의 구상과 기획은 브뤼셀 자유대학 한스 마리아 드 울프 교수가 맡았다  이 전시는 작년 년  월 서울 아트선재센터에서 개최하고 광주에서도 선보이게 되었다 원더러스트 Wanderlust  는 독일어에서 가장 아름다운 단어 중 하나일 것이다 원더러스트 는 익숙한 일상으로부터 벗어나 다른 문화  다르게 살아 가는 사람들을 접해보고자 하는 인간 내면의 뿌리 깊은 열망을 지칭하는 것이다  그러한 차원에서  원더러스트 의 역사는 인류의 역사와 같다고도 할 것이다  그러나 이 단어가 독일어권에서 특별한 의미를 갖게 된 것은 세기 초로 거슬러 올라간다  당시 독일 낭만주의 예술가들은 합리주의  계몽주의 시대 유산에 맞서 투쟁하는데  원더러스트 를 자신들의 주요 개념적 무기로 삼았다 예를 들어 프란시스 알리스를 멕시코 시티로 가게 한 것은 바로 원더러스트였다  최근 들어 그는 올해 카셀 도큐멘타에 출품한 작품과 같이 아프가니스탄과 같은 열악한 곳에서 작업을 하고 있지만  멕시코는 그에게 피난처와 같은 곳이 되었을 뿐만 아니라 무한한 영감을 주는 곳이다  그의 여러 유명한 드로잉 중 하나를 통해서도 알려졌지만  멕시코에서는 모든 것이 무탈하며  심지어 최소한 그가 산보 를 하는 동안에는 안녕하기까지 하다  산보는 알리스에게 주로 생각의 지평을 여는 조건으로 작용한다  프란시스 알리스는 산보하면서 주변에 널려있는  그러나 이전에 아무도 주목하지 않은  시적 감흥에 접근할 수 있다  산보에 대한 이러한 이해는 호노레도 도 역시 공유하는 것으로서  호노레도의 작가적 태도의 바탕을 이룬다 년 베니스 비엔날레가 개최된 해  호노레도와 프란시스 알리스는 각기 다른 교통수단을 이용해 같은 날 베니스에 도착한 후  이들은 각각 대형 튜바의 위  아래 반쪽씩을 가지고 서로를 만나기 위해  일 동안을 걸었다 이번에 서울에서 열리는  원더러스트 전을 위해  호노레도는 전시 포스터 이미지로도 사용된  장대한 설치작품을 선보인다  플라스틱 판자로 만들어져 물위에 설치된 보행자 도로는 흐르는 강 저편에 도달하고 싶다는 욕망을 제시하며  심리적으로 원더러스트를 연상시킨다 한편 이 작품은  물위를 걷는다 는 차원에서 개인의 신념을 의미하는 유럽 기독교 전통에 연관되어 있기도 하다 이번 서울 전시에서 파나마렌코의 천재적 발명도 간과할 수 없다  파나마렌코는 지난 여 년 동안 자신이 가지고 있는 과학과 기술에 대한 지식을 바탕으로  인류역사에서 실현되지 않았으나 제대로 작동을 했더라면 비범한 발명품이 되었을뻔 한 참으로 흥미로운 기계장치들을 고안해 냈다  이번 전시는 한국에서는 처음으로 파나마렌코의 로봇공학과 그의 설계도 및 도안을 선보인다 원더러스트 전은 예술가의 간단한 상상력을 통해 현재에 겪는 사회적 억압과 부조리로부터 벗어나고자 하는 여행의 필요성을 경험하는 전시가 될 것이다  마르셀 브로타에스의  Jardin d Hiver  겨울정원  은 바로 이러한 맥락에서 이해되어야 한다 Jardin d Hiver 은 토종 야자나무  소박한 야외 정원용 의자  백과사전에 삽화로 실린 이국풍의 조류 그림 등을 설치하고  영화와 멜랑꼴리한 음악이 작품에 동반된다  결국 이 작품은 중개자로서 예술가가 처한 어려운 위치를 다루고 있는 것이다  브로타에스의 설치 작업은 당시 유럽 작가들에게  이후 지금까지도  몇 세대에 걸쳐 커다란 영향을 미쳤다 죠엘 투엘링스 작품 역시 브로타에스와 유사한 작가적 경향을 나타낸다  투엘링스가 추구하는 것은 인간의 생각과 환경을 연결하는 기본 원칙을 구성하는 것이다  이번 전시에서는 작가의 중요한 작업 시스템  강박관념  두 개  즉 돌과 새가 동시에 전시되는데 이는 처음으로 시도된다 돌과 새는 세상을 탐사하기 위한 두 개의 각기 다른 도구를 대표한다 이번 전시에서는 이상에서 살펴본 다섯 작가들의 작품 외에도 각종 문서  오브제  한국 작가를 포함한 다른 작가들의 작품이 함께 전시된다  이는 전시의 기획의도를 맥락화하고 관객의 이해를 좀더 깊게 하기 위함이다  해당 예술가들의 작품 외에도 마르셀 뒤샹 Marcel Duchamp 과 보에티 Alighiero Fabrizio Boetti 의 작품이 전시되며  괴테 Johann Wolfgang von Goethe 스턴 Laurence Sterne 클레브니코프 Velimir Khlebnikov 에 관한 문서가 함께 전시된다   경계를 넘어서 II 경계를 넘어서  Beyond Boundaries 전시는 제목이 말해주듯  각기 다른 스타일의 작품들을 고유한 관점을 유지하며 현대한국미술의 다양하고 흥미로운 견해를 담아내었다  이를 통해 이질적 영역이나 분야가 접경지대에서 이전과 다른 접선과 접목이 시도되면서 새로운 창조가 시작된다  전시는 작품 스타일의 경계를 자유롭게 넘나들면서 서로 다른 개성과 조우하고 새로운 가능성의 문을 연다  경계를 넘어서 경지에 이르기 위해서는 어느 하나를 버리고 다른 하나를 선택하는 논리가 아니라  충돌할 것처럼 보이는 두 가지 극단의 경계를 포용하고 인정하면서 제 의 새로운 대안을 모색해야 한다  이로써 중심과 주변  주류와 비주류  안과 밖 위와 밑  혼돈과 질서  슬픔과 기쁨처럼 두 가지 극단의 경계 상태나 정서를 하나로 끌어안는 가운데 경지를 넘어서는 새로운 창조가 이루어지게 된다   박물관에서 열린  박물관  전 박물관에서 열리는  박물관  전은 어떤 의미가 있을까  우선 박물관  Museion 이라는 개념을 용어의 유례와 역사를 통해서 의미를 파악해보면  박물관은 뮤즈 Muse 신  즉 음악이나 시의 신의 신전이라는 의미로 그리스어에서 기원한다  그래서 처음에는 박물관이라는 의미는 곧 음악 Music 과 예술의 집  더 크게 보면 학예의 공간이며  즐거움의 공간이다  또한 뮤즈는 복수 Musai 를 의미하기도 한다  그 이유는 제우스와 므네모시네 기억  사이의  명의 무사들이 태어나고 그 의미들을 각각의 자식에 대응해서 제시하기 때문이다  끌레이오는 역사를  예우테르페는 서정시  탈레미아는 희극  멜포메네는 비극  테르프시코는 합창과 무용  에라토는 독창 폴리힘니아는 찬가  우라니아는 천문  칼리오페는 서사시 등을 지시한다 역사상 첫 Museion 은 이집트의 왕 프토로메 소테르를 위하여 설치되었다  이 기관은 일종의 왕립 고문기관으로서 지혜와 지식에 관련된 다양한 문서를 비치하고 석학들을 모아 연구하고 토론하며  왕에게 고문의 활동을 벌였던 곳이어서  지금의 박물관의 의미와는 많이 다르다  박물관은 세기의 이탈리아에서  Museo 의 등장  Laurent de Medicis의 Museo Codici에서 시작된다  또한 년의 인물화 갤러리 Polo Giovio 에서 인물화를 수집 전시하고 년 처음으로 파리의 주교인 앙뚜안 뒤프라가 수장품을 모은 공간으로 확산되게 된다 또한 박물관은 역사학적  고고학적  예술적  문화적인 담론을 생성하는 곳이기도 하며  더 나아가 근대에서는 문화를 제도화하는 기관 institution 으로서의 의미가 있다  이것은 시장이나 현장의 예술적 움직임을 공식화하는 공인의 기관 역할 때문에 비판의 대상이 되기도 했다  아울러  박물관의 전시장은 현대 들어오면서 White cube 라는 공간의 의미가 강조된다 흰 공간 의 의미는 중성적인 공간으로서  예술작품이 어디에나 옮겨 다니면서 걸려도  같은 의미를 갖는다는 모더니스트적인 예술작품의 자율성을 강조한다 비평적인 예술가들  아방가르드 세대 이후로는 미술관을 묘지에 흔히 비교하기도 하였다  그래서 년 장 끌레르 Jean clair 는  분명하게 미술관을 미술관에 갖다 놓아야할 때이다 라고 말한다  그러면서도 또 다른 현실로부터  분리되어 온 일종의 환유적인 공간인 박물관을 적극적인 의미로 박물관 담론  박물관적 정황으로 적극적으로 작품에 연관시키는 경우도 있어서 독특한 역사적 고고학적  예술적  지식적  문화적 담론을 형성하기도 한다  그래서 예술과 학술의 공간을 시작으로 지혜  지식의 모음과 토론 간언의 의미  근대적 소장과 전시의 의미  제도화시키는 박물관의 의미  모더니즘의 산실인 화이트 큐브 등의 개념들  그리고 정황의 개념들에서  본 전시를 이해하고자 한다  이러한 개념 위에서 여기 모인 작가들의 창조적인 예술작품을 이해하고자 한다 우선 현대의 모더니티적인 측면을 강조한 작품  화이트 큐브에서의 조형적 특징으로 나타내는 작품은 이계원과 조병왕에게서 찾을 수 있으며  이계원은 모더니티의 추상성과 전통적인 재현의 일류전의 의미를 혼성적으로 찾아내고 있으며  조병왕은 수많은 고고학적 역사적 의미를 레이어라는 추상적 조형성으로부터 해석해낸다 또한 역사적인 사건들로 구성되는 작품도 있는데  이것은 작가 서용선에게서 나타난다  정사의 권력 앞에  사라져간 유약한 왕의 역사를 통해서  시간을 관통하는 또 다른 의미들을 형상화시켜 역사의 담론적 구조를 반성하고 있다  이와 달리  이민호는 오래된 흔적과 자취를 폐허에 놓아 두어  비판적인 과거와 물건의 수장품적인 의미를 도출한다 권기동은 박물관 밖의 문제들을 찾아낸다  그는 달콤해 보이는 도시 광경에서 보여지는 자본주의적 허구들  예를 들면 광고와 실제의 격차를 풍경으로 형상화한다 오경환은 현대도시의 반복적인 조형성과 박물관의 상징적 개념을 복합적으로 표현하며 밤과 낮이라는 시간적 회전 혹은 닫힌 공간과 열린 공간으로서의 상반된 성격을 강조하며 릴리프화된 테라코타 격자구조를 통하여 박물관의 현대적인 의미를 혼성적으로 제시한다 윤종구의 푸른색 볼펜을 반복적으로 선을 그어 형성한 풍경화는 암시적인 인물과 유사한 존재들이 뒤엉킨 풍경으로 바뀐 양면적인 회화를 통해서  박물관의 의미들을 다시 생각나게 한다  또한 인간의 모습  갇힌 세계에서 살고 있는 현대인의 모습을 화초와 사각 공간 도시를 상징하는 규칙적인 형태들 속에서 세워내는 한경자의 작품에서  박물관적 오브제적인 특징으로 세계를 조합하고 있다 보다 더 직접적으로 박물관의 유물과 박물관 건물의 파사드를 보여주는 박영근의 작품에서부터  박물관적인 공간 내부를 제시한 김태진의 작품에 이르기까지 다양한 박물관적 특성을 보여준다  박영근은 대영박물관의 파르테논의 마두 와 한국의 국립현대미술관의 마두를 병치하여  두 개의 미학적 특성과 문화적 차이  박물관적 정황 위에 아름다움의 의미와 범주를 생각하게 한다  김태진은 실내로 들어오는 빛에서 보이는 것은 내부이나 보이지 않은 외부  빛의 존재를 통해서  현실의 오브제와 그 비가시적 사실들을 전환시키고자 한다 또한 우리나라 박물관에 많이 보이는 수장품들을 기초로 한 작품은 정상곤  신장식  허미자 등에서 발견된다  정상곤의 꽃을 그린 정물화는 박물관적인 소장품의 소재를 통해서  눈을 멀게 하는 꽃은 우리의 감식안  지식과 외형  이생  세계에 대한 욕망과 자랑 등을 풍자하며  눈의 외형적인 아름다움에 대해 비평을 하고 있다  또한 제목에서 나타나는 숫자 는 박물관적 정황의 분류법 Museography 를 지시한다 신장식은 삼매 라는 작품을 통해서  우리나라 불교적인 문화재를 인용한다  원래 삼매는 samadhi 의 음역으로  들뜨거나 가라앉은 마음을 모두 떠나 평온한 마음을 견지하는 것 으로 과거의 전통적인 가치를 박물관적인 의미에서 찾으려고 하였다  허미자 역시  전통적인 민화적 모티브를 차용하며  활달한 필채로 꽃과 가지  잎으로 형상을 표현하고 있다  김동연과 조소희는 오브제 설치나 회화적인 이미지들을 병치해서 제시한다  김동연은 신체 일부를 쌓아온 듯한 자루 더미와 건축물의 굴뚝을 서로 한 공간에 이웃시켜  오브제를 표본화한 인류학적 소장품의 비인간적인 의미들을 형성하는 듯하다  조소희는 벽의 공간  드로잉 공간에서부터 소장품을 환유로 제시되는 의자  그 위에 금지나 보호  먼지 등을 은유하는 그물을 설치하여  박물관의 수사적인 의미를 모색한다 신화적이면서도 현실의 내용을 가로지르며  리좀적으로 파편화되면서도 한 몸으로 연결되는 존재론을 펴나가고 있는 권여현의 작품은 박물관의 다양한 층위로 읽게 한다  아울러 여러 박물관 수장품과 공간  전시를 관통하는 듯이 지식과 땅과 원죄 등을 가로지르는 리좀적 세계관을 그려낸다 이러한 박물관적 정황과는 전혀 다른 작품을 이강우는 보여준다  그는 거대한 파도의 모습에서 인간 문명의 허망함을 연상시켜 박물관적인 모든 정황을 반성하게 한다  이로써 작가들은 즐거움의 음악과 시에서 시작된 박물관의 의미를 다양한 인간정황적인 시각으로 이해하고  미에 대한 비교와 함께 인간  역사  도시  문명 등 다양한 질문을 제기하며 새로운  박물관 의 의미들을 발전시키고 있다   경계에 선 풍경 김미강 풍경을 매개로 작가의 정서를 드러내는 방법을 연구한 작업이  경계에 선 풍경  시리즈인데  색상이나 붓터치  구도 등으로 감정을 드러내는 것을 염두에 두었다  구도들은 주로 아무도 주목하지 않는 지나칠법한 풍경에 여러 벽면  즉 펜스 fence 가 공존하는 장면이 많다  그것들은 작가의 의식적인 경계라 할 수도 있겠고 작가의 관념의 장벽들이라 할 수 있는데 그 모든 것이 모호해지는 뭉개지는 듯한 붓터치로 인해 생각을 넘어서는 그리기작업  손을 이용한 평면작업의 과정으로 전개시켜 결국에는 무심해진 풍경으로 비추어 보이기도 한다   MOTION 신상호 촉각과 형태에 대한 노스탈지아 상업 애니메이션이나 게임 등에서 보이는 스펙타클이나 이야깃거리와는 거리가 먼 작가의 작품에서 그는 우리가 항상 가지고 있으나 드러내 보이기 꺼려하는 상투적인 향수를 자아내는 사물과 행위들을 보여준다  예를 들어  그의 애니메이션작품  Cycle of Life  시리즈는 실사이미지의 배경과 디지털로 만든 이미지의 형상으로 구성된다  흑인  백인  아시아인으로 구성된 명의 인간 이미지는 어린아이에서 노인으로 변해가면서 빠른 속도로 진행되고 있는 도시 단면들의 배경 이미지들과 대비되어 형태적인 우월성을 가지고 관객에게 하나의 드라마처럼 나타난다  사물이나 행위들은 경험적 이어야 하며 촉각적 이어야 하나  실제 우리의 현대적 삶에서는 어쩌면 체험 불가능한 것들이다  작가는 이러한 것들을 보여주는 행위를 통해  그것의  체험 불가능함 과  부재 를 환기 시킨다 이라는 숫자의 의미 동서양을 떠나서  이라는 숫자는 순환이나 영원함 등 우주적인 의미를 가지고 있다  단군신화에서는 환인 하늘 환검 땅 환웅 인간 이 등장하고  크리스트교에서는 성부  성자  성령의 삼위일체가 있다  이 외에도 피타고라스나 도교에서도  은 중요한 숫자이다  신상호 작가의 작품은 유독  이라는 숫자와 연관이 깊다  인간이 자연과 관계할 때  또는 디지털미디어 시대에 인간이 가상현실을 체험할 때  서로가 상이하지 않고 연결되어 있다는 것이다  우리 몸은 자연과 연결되어 있는데  더욱이 가상과 현실이 함께 하는 장소가 바로 우리의 몸인 것이다  마치 뱀이 자신의 살을 찢고 새로운 몸으로 탈피하는 것처럼 말이다 오늘의 허물은 어제의 몸이고 오늘의 몸은 내일의 허물이다  다사다망했던 지난해에 미련이 남아 아직도 마음을 놓지 못하고 있다면 이번  MOTION  을 통해  해골이 춤을 추는 것처럼 삶에 모션을 주고 신바람 나는 새해를 맞이하길 바란다   Grapes 김대연 얼마전에 상영된 제임스 케머론감독의  아바타 는 현란한 CG 기술로 신선한 돌풍을 일으킨 바 있다  판도라 행성을 이루는 동식물들의 생생한 움직임과 신비한 풍광은 실물을 방불케 하며 새를 타고 공중전을 펼치는 전투신이랄지 눈부신 색채 등은 보는 사람의 시각을 압도하였다 영화에서 CG가 실사와 에니메이션의 구분을 없앴다면  그림에서는 극사실이 가상과 현실의 구분을 흐리게 한다  기계의 힘도 빌리지만 대부분 수제에 의한 그림이라는 점과 가상현실을 지향한다는 공통점을 지닌다  영화가 단순히 보는 것을 넘어  D를 통해 영화속에 들어와 있는 착각을 일으키게 하듯이 극사실 역시 공감각의 영역에 도전장을 냈다 김대연의 그림은 어디까지가 사실이고 어디까지가 허구인지 분간하기 어렵다  사실묘사는 현기증이 날 정도이고 과분 이 묻어있는 포도를 보고 있자면 마치 포도향이 진동하는 것 같아 전시장이 아닌  과일가게 혹은 과수원에 온 게 아닌가 하는 착각마저 일으킨다 김대연이 포도를 그리기 시작한 것은 년경으로 그 무렵에는 포도와 풍경을 함께 제작하다 년경부터는 본격적으로 포도작가로 나서게 되었다  작가가 한 모티브를 고수하는 것은 자주 볼 수 있지만 김대연처럼 모양도 같고 색상도 같은 포도송이를 그린다면 상황은 좀 달라질 것이다  여러 작품을 제작하더라도 결국은 한가지 이미지의 반복 또는 확대재생산으로 간주될 수 있기 때문이다 그런 문제에도 불구하고 김대연이 포도에 집착하고 있는 이유는 무엇일까  그는 포도알이 모두 보는 것과 같이 획일적이지 않다는 점과 포도가 지닌 의미를 알려준다  먼저 우리가 포도를 바라볼 때 포도는 검은 빛을 띠고 있는 것 같지만 실은 여러 빛을 지니고 있다고 말한다  청포도  자줏빛 포도 흑포도 등의 이야기를 하고 있는 것이 아니다  그에 의하면  포도는 외부의 빛을 받을 때 나오는 영롱한 색이 표피를 통과해 가장 매력적인 빛을 띠게 되며 따라서 이 순간을 화면에 담고 있는 것이다 그렇다고 그가 기계적 전사의 차원에 머물고 있는 것은 아니다  보다시피 그의 포도그림는 부감법에 의한 것으로 의도적으로 연출된 것이다  말하자면 포도밭의 포도가 아니라 수확한 포도를 한데 모아 약간의 높이조절을 통해 얻어진 장면이라는 것이다  대개의 화가들이 현장감을 살릴 요량으로 구도를 현장에 가깝게 옮기는 데 반해 그의 경우는  연출된 구도 의 특성을 충분히 살려내고 있다 그의 작품은 여러 번 고르게 밑칠을 하고 그 위에 프라이머를 두 번 정도 발라 채색이 잘 되도록 바탕의 정지작업을 거친다  그러나 광택이 날 정도의 밑칠은 피하는데 이것은 어느 정도 붓질효과를 보존하기 위해서이다  지나친 밑칠처리는 실물의 표정을 완벽히 재현했다는 평가를 들을지 모르지만 화면에서 아우라를 지워버리기 때문에 이 부분에 관해서는 조심스런 편이다  그는 자신의 그림이 사진과 똑같이 보이기보다는 엄연히 회화로서 보여지길 바란다 작가는 똑같은 크기의 포도이지만 낱개가 모여 전체를 형성하는 점에 주목한다  알다시피 포도는 사과나 배처럼 한 알로 존재하기보다는 군집형태를 띤다 여러 알이 모여 한송이의 포도를 만드는 것이다  부분과 부분이 도탑게 지내는가 하면 조화를 도모한다  어떤 것이 다른 것 위에 군림하지 않으며 평화롭게 공존하는 양상이다 서구의 하이퍼리얼리즘이 극도의 사실력을 바탕으로 즉물적 현실을 반영하지만 김대연은 사물이더라도 단순한 객체가 아니라 무언가를 함축하는 대상으로 받아들인다  이육사의 유명한 시  내 고장 청포도 에 나오듯이  이 마을 전설이 주저리주저리 열리고 먼데 하늘이 꿈꾸며 알알이 들어와 박혀  있는 모습이다  포도를 통해 시골의 정취를 느낄 수도 있고  어떤 사람은 풍부한 삶에 대해 생각할 수도 있을 것이며  순수했던 어린 시절의 회상에 잠겨볼 수도 있을 것이다 필자는 그의 포도그림을 보면서 어떤 과정을 통해 성숙되었는지 생각해보았다  모진 해풍을 견디며 사는 해당화 못지않게 포도는 매몰찬 비바람과 땡볕을 맞으며 자라난다  잘 익은 포도일수록 햇볕의 따가움에 익숙해져야 하며 그런 연단의 과정을 거쳐야만 비로소 당도가 높은 포도를 수확할 수 있다  사실 우리가 보는 포도는 주렁주렁 달려 있어 보기 좋게 보이지만 지금까지의 과정을 돌아보면 순탄치만은 않은 인고의 나날이었음을 알 수 있다 근래에 작가는 작품에 약간의 베리에이션을 꾀하고 있다  포도 이미지를 평면적으로 나열하던 종래 방식에서 벗어나 근작에서는 입체감을 도입하여 중앙의 포도송이가 앞으로 도출된 듯이 입체감을 살려내고 있다  따라서 우리의 시선이 가장 먼저 모아지는 곳은 화면 한복판이며 주위는 응달이 지게 하거나 포커스를 흐릿하게 처리하고 있다  사진의 아웃포커스처럼 그렇게 뚜렷하지는 않지만 이전보다는 훨씬 입체감을 띠고 있다 옛날에는 따듯한 온돌방에 앉아 계수나무 아래서 토끼가 방아 찧는 달 이야기를 들었듯이 근래에는 시설을 잘 갖춘 극장에서 환타지영화를 감상하며 상상력을 키운다  김대연의 그림도 마찬가지로 풀이할 수 있다  세시풍속을 담은 풍속화나 명승지나 평화스런 농촌  산골을 담은 풍경화는 아니지만 우리는 그의 그림을 보면서 풍부한 계절감각과 시적 정취를 느껴볼 수도 있을 것이다  한걸음 더 나아가 그의 그림은 상상의 세계로 들어가는 통로로도 해석할 수 있을 것이다  우리가 보는 것은 포도가 아니라 누구나 염원하는  늘 푸른 청춘 과  시들지 않는 생명 의 상징인지도 모른다  말하자면  생명의 영원한 상 이 아로새겨져 있는 셈이다  빛을 받을 때에만 자주빛 속살을 보여주는 포도처럼  그의 그림은 눈길을 주는 사람에게만 자신을 보여준다   셋  이화정  서림  이정호 서림 정어리의 이미지가 떠 올랐다 자유자재로 바다를 헤엄치는 겉 같지만  실은 주위의 정어리에 맞춰서 몸을 움직이고 있을 뿐이다  리더가 있어서 움직임을 결정하는 것이 아니다 모든 정어리가 주위를 따라한 결과 전체적으로는 구름같이 부풀거나 줄어들거나 옆으로 흘러가거나 오로지 멀리 헤엄쳐가거나 하는 것이다  거기에 자신의 생각은 없다  무리에서 떨어져나가면  잡아먹힌다  그러니까 주위의 정어리에게 뒤쳐지지 않도록 열심히 움직인다  전  후  좌  우  위  아래 어디를 봐도 같은 정어리 정어리 그러는 사이 어느 정어리가 자신인지 모르게 된다  자신이 거기에 있는지 없는지 조차도 이화정 폭설에  일간 발이 묶였다가 다시 걷기 시작 새벽  시에 출발하여 엄청나게 휘몰아치는 바람고갯길을 넘어 열 시간이 넘어갈 무렵 지친 발걸음을 멈췄다  몰아쉬던 나의 숨소리도 가라앉고  그 자리에 앉았다  무언가 있다 굉장한 격정이 있으면서도 고요하다  한참을 그 자리에 눈도 깜빡이지 않고 가만히 있었다 안으로 들어가 보지 않았다 몇 년이 흐른 후 그 곳을 다시 갔다  그 곳을 다시 가기 위해서 몇 년을 기다린 것 같다  아주아주 조심스럽게  요동치는 가슴을 나 자신에게 조금씩만 내보이면서 그 곳에 들어가 이리저리 걸어 다녔다  캔버스  표현대상 나 그리고 분주히 끊임없는 그 무엇  의 움직임이 있다  가장 흥미로운 것은  그 무엇  이다 본능  무의식  불규칙  예상하기 어려운 움직임 흔들림  환상  기운빼기  리듬  지친정열  헤맴  감각  동물적 등등  이런 것들 일까  나는 이들이 리듬을 만들어가며 평화롭게 조화를 이루며 작업이 되는 과정을 원하기도 하지만 처절한 싸움을 하는 것도 힘들지만 좋아한다 이정호 내 작업에 대한 것들 네모나지 않은 것과 희지 않은 것이 시작하기 쉽다 스치듯 보고 기억이 만들어낸 것들을 기분 가는 데로 떠올리며 그려나가고 내 작업에는 소리가 필요하다  소음이라 해도 좋을 겸사겸사 음악이면 좀 나을듯하다  적당히 나를 부정하며 짬짬이 자뻑도 하고 종종 뒤로도 가면서 일부러 비틀거리며 작업을 걸지 않겠다  널겠다 할수록 비워지기를 바람  이런저런 별 볼일 없는 사연이 있다  이 전시는 작업을 보일 때가 되어서 하는 전시가 아니다  더 이상 미루면 안될  그동안 자신에게 쌓여있던 것을 보이고 싶은 절박함 때문에 하는 것이다  우리  셋 에게 작업적으로 지향하는 것은 있지만  이 전시의 지향점을 찾는 것은 억지가 되었다  논리적인 작업개요를 말하는 것에 거부감을 가졌지만  본능에 충실하려 한다   느리게 꾸는 꿈 현대의 예술은 많은 경우에 있어 일상적 환경을 담는 부분을 이용하며 전유하게 된다  모두가 공감 가능한 현실 속의 시 공간을 반영하여 작가만의 시각을 갖는 사회적 현상들로 이러한 예술 작업은 보는 이에 묘한 여운을 남긴다  대중의 실생활과 함께 유기적으로 상호작용하고 침투 되는 작업  예술의 풍부한 상상력  문화  환경으로 구성되는 작품은 지금 우리에게 익숙한 풍경이다 느리게 꾸는 꿈  에서는 작가들의 내면의 감성을 진솔하게 표현하고 그것이 소유하고 있는 힘과 그림 외적인 정보들을 함께 나누어 보고자한다  누구나 공감하며 즐길 수 있는 전시가 될 것이다 나유림 본인의 작업에서는 인간의 의식으로 인해 억압되고 잠재되어 있던 욕망에 대하여 전개하려 한다  물질문명의 삶이 발전 할수록 우리에게 느껴지는 고독과 소외감은 계속해서 욕망을 갈망하고 그것을 손에 넣었다 할지라도 곧 권태로 이어지고 또 다른 결핍으로 인해 우리는 괴로움이 반복되는 삶을 살고 있다  보이지 않는 욕망을 무한 증식되는 유기체들로 환원시켜 독자적인 하나의 환영주의를 만들어내고 환영적 대상은 본인의 의식 심층에 잠재된 심리적 욕망의 이미지가 환상적이고 초현실적으로 표현 된 것으로 이러한 가상과 환영의 만남은 신비로운 또 하나의 세상을 만들어 낸다 작품 속 실재가 되는 실내 공간은 평범한 개인의 공간이다  그 공간은 현대사회의 억압과 불안에서 벗어나 자신의 개인적인 것을 지키며 휴식을 취할 수 있는 개인적인 자유의 공간임에도 불구하고 그 안에서 안주하지 않고 또 다른 욕망을 꿈꾸게 된다  심지어 침대  소파  책장 탁자  그 위의 컵까지도 인간 욕망의 잔여물이지만 우리는 그러한 공간 안에서도 끊임없이 갈구하며 외로움을 느낀다  결국 욕망의 환영은 현실을 은폐시키고 실재를 감추게 되는 것이다 그러나 뒤덮인 표면은 얼마 지나지 않아 슬픈 뉘앙스를 풍기며 그 거짓된 환영을 통해 실재를 명확히 바라보려는 두 간극의 아이러니를 느끼게 된다  역설적이게도 환영을 통해 회피하려 하였던 현실의 진실을 다시 마주하게 되는 것이다  기존에 얌전히 자리하던 나의 개인 공간을 거대하게 몰아치는 욕망의 소용돌이 속에서 다시 구원되길 바라고 있는 것이다  그렇게 엄청나게 불어난 욕망 뒤에 가려진 진정한 가치가 무엇인지 무한히 증식되어 가는 유기체를 통하여 환영 뒤의 숨겨진 진실을 찾으려 노력한다 정나래 경쟁사회로 점점 나아가는 사회  따라가기 힘겨워지고 삶이 버거워지면서 각광받고 있는 단어 한 가지가 있다  바로 힐링 이라는 단어다  이 힐링을 접할 수 있는 중요한 키워드는 과거와 추억이 아닐까 하는 생각이 들었다  우리는 삶을 살아내면서 한계에 부딪히고  슬프거나 절망할 때 각자 우리들만의 따뜻한 기억 좋았던 추억  정겨웠던 과거를 끄집어낸다  과거를 회상하고 기억하면서 그 과거와 추억으로 지친 마음을 위로 받는다 본인의 작업은 그런 기억과 추억을 담아내는 매개체로 무심코 지나쳤으나  긴 세월 오래 전 부터 한 장소에 묵묵히 있어 왔던 건물을 사용했다 볼품없는 낡은 것에 우리들의 기억과 추억을 덧붙히면 그 낡은것은 그 순간부터 소중하고 의미 있는 것들이 된다  새로운 테크놀로지와 그 문화가 우리의 삶의 방식을 자주 바꿔놓는 세기에 추억이란 그것들로는 충족시킬 수 없는 쉬어가는 쉼표같은 것이다  본인의 작품을 통해 과거와 추억을 회상하여 의미가 부여 되면 우리들의 삶은 아름답고 아련하게 지속될 것이다  그 지속에는 우리들이 부르는 또 우리들을 부르는 힐링이 있다   Fashion과 Passion 사이 드로잉  은 어반아트가 젊은 예술가들을 지원해주기 위한 공간으로써 한해의 시작을 도전적으로 살아가는 세 여성 작가의 전시를 통해 그들의 도전 정신을 칭찬하고 새해를 힘차게 시작하고자 한다 Fashion과 Passion이라는 주제의 이번 전시는  인의 여성 모두 여성과 패션을 주제로 하고 있으며 패션과 일러스트  평면꼴라쥬를 선보이게 된다  이 장르들이 공통점이 없다고 생각할지 모르나 이들 세 여성 작가들은 옷과 섬유 fashion이라는 공통의 관심사로 귀착되어 다양한 전공의 섭렵과 크로스 오버된 활동 영역을 덧입힌 발전된 결과물을 보여주고 있다  호기심 많고 욕심 많은 그녀들의 Passion DNA를 한 자리에서 느껴 보고자 한다 미국 시카고아트 인스티튜트에서 화인아트를 전공하던 최유주는 수준급의 바이올린 연주실력의 소유자로서 일찍이 한복을 모티브로 한 발칙한 아이디어로 미국교수들의 극찬속에 전도유망한 의상디자이너의 길로 전공을 바꾸게 되었고 건축  미술  음악 등 동 서양의 문화를 폭넓게 통섭하여 해석하는 재주 있는 예술가이다 김현영은 의상디자인을 전공하였으나 지금은 뉴욕의 School of Visual Art에서 일러스트를 전공  공부하고 다양한 책 디자인에 관한 전시와 활동을 뉴욕에서 하고 있다  케릭터 디자인을 전공하고 일본으로 건너가 일러스트레이션을 전공하던 정유민은 예술이 밥 먹여주냐 는 어머니의 만류에 못이겨 한국으로 돌아온 이후 백화점 판매원  빵집등에서 일을 하면서도 그녀만의 레이스 꼴라쥬 작품을 완성시킨 고집있는 아티스트이다 전세계가 불황의 늪에서 허덕이고 모두 불경기를 한탄하며  예술이 밥 먹여주냐 고 하지만 이렇게 현실과 이상 사이에서 좌충우돌 하며 열정적으로 작업하는 젊은 예술가들이야말로 이 각박한 현실을 풍요롭게 만드는 우리의 희망이고 궁극에는 도시와 산업에 시각문화의 정신적  밥 을 주는 것이다   한국 근대사진과 현대사진의 만남 국에 사진이 도입된 것은 년대였다  초상사진으로  생활의 기록으로  그리고 재현과 표현의 도구로 빠르게 확산되며 오늘에 이르렀다  또한 한국 의  사진사  연구를 아무런 근거틀도 없는 상항에서 시작 한 최인진은 년  한국사진사 출간을 기초 해 사진사연구소를 출발시켜냈다  이렇게 한국 사진발전에는 서로 각각 자신의 자리에서 최선을 다한 결과들이 오늘의  사진계 이다 사진을 전문적으로 전시하는 공간들에 대해서도 살펴 보면 년대는 갤러리로 부를만한 공간이 없어 많은 경우  다방 이 전시장을 대신하던 시절이다  북창동에 있었던  중앙공보관 이라는 유일한 문화공간은 국가차원의 홍보기관이었는데  이공간에서는 모든 문화프로그램이 인기 있게 돌아가고 있었다  그 때 젊은이들은 이곳에서 KBS의 음악방송 프로그램을 남보다 빠르게 접수한 것을 자랑으로 여기기도 했었다  문학  음악  미술  연극 등의 다양한 정보를 이 곳에서 접하던 젊은이들이 사랑하던 공간으로 그 시대 문화계는 이 곳을 통해 소통되었다 년대를 지나 년이 되어 사진전문  한마당  화랑이 광화문에 자리잡았다  사진 인들의 소통공간이며 만남의 공간으로 역할 했다  그 뒤를 이어 년 문을 연  갤러리 눈  Gallery Nun 이 압구정동에 등장한다  사진시장 의 서막이었으나 우리 문화 구조로는 시기 상조였다 년대 들어서면서 미술계의 시대 변화에 힘입어 한국 사진계도 변한다  바로  한미사진미술관 의 구축이다  이는 온 사진계의 열망과 변화된 미술계의 반응에 근거해서다  사진미디어가 시각예술의 중요 미디어로 자리잡게 된 확실한 시대적 호명이기에 더 힘을 얻었다 생각된다  예술에 관심 쏟는 대중들의 호응도 그 변화된 현상이었다 트렁크갤러리도 그 맥락에서 년에 출발하게 된다  그간  년간 참여작가들의 성원과 사진 컬렉터들의 지지와 지원에 힘 입어 오늘에 이르고 있다  트렁크갤러리는  트렁크의 이미지  구축을 위한  시대 현상과 현장 욕구에만 귀 기울이며 달려왔다  이제야 겨우 뒤돌아 볼 기회를 마련했다  현재 활동하는 사진작가들이 사진 역사를 알아야 하고  사진 컬렉터들도 어떠한 시대를 거쳐 오늘에 이르렀나 하는 우리 사진의 역사를 알아야 한다는 생각에서다  선배 사진가들에 대한 경외와 존경의 마음이 절실하다 싶어서다  한국 근대사진과 현대사진의 만남  전은 그렇게 마련된 것이다 트렁크갤러리가 감히 선배사진가들의 작품세계를 살펴 볼 기회를 마련하는  근 현대 작가들의 작품을 컬렉션 해 온  한미사진미술관 의 노력에 힘입어서다 한미사진미술관 의  한국 근대사진의 선각자들 The Portfolio of Korean Modern Photographers 아카이브  즉  시대적 아픔과 사회적 혼란기인 일제강점기와 동란을 거치며 무사히 보존되어 온 세대 사진가들의 작품 을 보존 유지 시켜 낸 그 작품들에 대한 감사의 표현이기도 하다 세대 사진 작가와  세대 사진가들과의 만남 조우 전에 같이 할 작가로는 년대의 전기 산업사회를 맞아 새마을운동 으로 인해 모든 전통이 뿌리 뽑혀 말살 되어버린 시대 상황을 염려하며  철저히 기록해 내겠다는 의지  그 객관적 기록들은 그 시대사회 조건에서 힘겹게 해낸  두 분 강운구와 주명덕 작품들이다  오늘의 사진가들에게 존경 받아 마땅하리라는 판단에서 조우시킨다  이 전시할 작품 모두는 한미사진미술관의 컬렉션에 의존해 전시를 구성한 것이다 트렁크갤러리는 이제 만  년을 맞았다  우리사진의 선배들 작품을 만나 본다는 것은 오늘의 작가들에게 내일을 이어 갈 힘이 될까 싶어서다  그리하여 당대의 대표적이고 상징적인 작품들을 선별하기로 한다 년부터 매년  년간  월과  월을 연속하여 우리의  세대 사진가 두 분과  세대 사진가 두 분을 함께 조망해보려 한다 차적으로 년  월 일부터  월  일  그리고  월  일부터  월  일까지 진행되는 본 전시 명은  한국 근대사진가와 현대사진가 만남 전 이다 년대 활동 한 근대사진가 민충식선생의 작품과 현대사진가 강운구선생의 년대  수분리 마을  작품이 서로 조우하고 년대 활동했던 현일영선생의 작품과 년대의 주명덕 선생의  한국의 가족 시리즈 작품이 서로 만나게 한다  이 같은 기획전은 트렁크갤러리를 시작하면서부터 계속 꿈 꾸었던 전시로  이제서야 그 을 펴 보려 한다 이 전시에서  만남 조우 는 어떤 연관과 같은 맥락으로 규정지으려는 것은 아니다  각 시대  각 세대가 격은 사유체계가 다르고 각기 서로 다른 사명감에서 작업을 독려했을 것이기에 서로 연관되며 이어지지는 않을 것 같다  그들 각각은 작업에 임하는 자세도 다르며  시대적 요구도 달랐다  그래서 서로 다른 감성체계를 갖고 있을 것이며 수용과 소통의 방법에도 차이가 있었을 것이다 그러나 어쩌면 바로 그 지점이 우리의 관심이 될 것 아닌가 싶기도 하다 민충식과 강운구의 조우  민충식 년대 작업 은 YMCA사진과  회 졸업생이다  스튜디오 작업으로 연출된 사진부터 기록성을 자각한 사진까지 다룬 작업들이다  민충식에 대해 전해 오는 말 왜 사진을 박느냐 란 제목의 강연 글에서 그의 작업세계를 살필 수 있다  그의 글 사진은 숨기려 해도 숨길 수 없어요 있는 게 다 나오니까  사진은 사실의 기록이니까  지금도 내가 끔직이 필름을 다 보관하고 있어요  가령  무슨 고적을 발견 했다고 합시다  그 고적을 영구히 보전하기가 어렵습니다  또 오래가면 풍마우세 해서 변합니다  그러면 그 시기에 사진을 박아두면 몇 만 년 가더라도 계속 변함없이 볼 수가 있는 거예요  앞으로 여러 곳을 사진으로 박아두면 세상의 유물이 됩니다 이전 전시에 보여 줄 이미지들에는 연동교회  사진과  신식 결혼식장면 을 만나보게 되는데 민충식이 남겨준 당시의  유물  바로 그것이다 민충식에 조우하는 강운구의 작품은 년대의 작업이다  강운구는 년 조선일조 사진부 기자로 출발 년부터 동아일보 출판국 사진부 기자로 활동 년  뿌리깊은 나무 를 통한 포토 에세이와 다큐멘터리 사진가로 냉철하고 객관적인 사실적 기록을 중시하는 강운구의 사진철학은 사진의 참 의미를 우리에게 인식시켰다  이번 전시 작품은 년에 발표한 동아일보 신동아에 실렸던 수분리 마을 연작  점을 한미사진미술관컬렉션에서 후원하여 전시하게 됨을 밝힌다  바로  우연 또는 필연 에 실린 작품집에서 선택한 작업들이다  그 책  우연 또는 필연 에 실린 조세희의 글을 발췌해 여기에 옮긴다 아름다운 건새집 마을은  초가 를 단지 가난으로만 이해한 절대 권력자 시대  새마을 운동기간에 지상에서 사라졌다  수분리가 차라리 큰물을 만나 금강이나 섬진강으로 떠 내려갔다면 우리는 아직도 늦지 않았다면서 마을을 건지러 강으로 달려갈 수도 있었을 것이다 없어진 것은 물론 건새집만이 아니다 라고  또 이어진 글에서 그가 카메라에 필름을 넣어 들고 혼탁한 도시를 나사는 순간부터  아직도 우리는 옛 모습 그대로 남아 있다고 속삭이며  다가오는 아름다운 것들에 사로잡혀 있었다  그리고 그의 사진을 볼 때마다  우리땅 모든 영혼의 심장에 간다 라는 말이 자꾸 떠 올라 조세희의 위 글은 강운구의 사진이 기록되어 남겨졌다는 것  그 기록물들 은 오늘을 사는 우리들에게 그 전 시대를 결코 볼 수 없는데 볼 수 있게 했다는 것  그래서 너무 소중한  유물 이 되고 있다는 것을 들어 말 한 것과 같다  바로 사라진 것들을 사진으로 남겨져 우리들의 인식체계에 들어오게 했다는 그 점  그  기록성의 힘 에 우리는 안도하며 감사한다 민충식의  왜 사진을 박느냐 에서의 강연 글  그 기록 성  오늘 우리들에게 그 시대를 잃어버리지 않게  기록 보존시켜 보여주는 그  힘 민충식 과 강운구 두 작가가 서로  조우  된 지점이다 현일영과 주명덕의 조우  현일영은 년 만주에서 활동하던 중 일본  아사히 신문  주최 국제상업예술사진현상모집에서  등으로 수상 되면서 사진에 입문한다 년 만주에서 제 회 개인전 개최 년 서울에서 초상사진관 개업 동시에  경성사진학강습원 강사로 활동했다 년 일본의 오리엔탈사진학교에 유학  그 후 많은 사진단체를 설립  한국사단에 기여한 바 크다 년 서울 동화백화점화랑에서 제 회 개인전을 시작으로  회의 개인전까지 약 년을 걸쳐 작품발표를 했다 소재주의와 걸작주의를 극복한 한국 현대사진의 새로운 장을 연 작가로 평가되는 현일영의 작품 들  재떨이  배추 잎사귀  사과 섬돌 위의 고무신  여자의 치마와 버선  선술집 진열장  세월을 읽게 하는 시계 등 등  평범한 사물들이 그의 섬세한 시각체계를 거쳐  비범한 힘을 지니게 되는 그의 작품들은  자신의 내면세계와 사고를 표현하는 자신의 영상언어로 확립하여 한 작업들이다 년의 그의 개인전에 피력한 작업에 대한 글을 소개한다 그 동안 많은 원화가 쌓였다  이것을 나의 사색의 산물이라고 볼 때  감흥의 결정이라고 볼 때  한 낱 일기 같기도 하다  그러나 어찌 한 해의 사색과 감흥이 그 뿐이랴  산물과 결정이 그뿐이랴 만  그 것이 생활기록이다  나는 작품을 재 음미함에 반성을 찾고 추억을 더듬어 쾌락을 느끼려 한다 현일영에 조우하는 주명덕은 년  월  홀트씨 고아원 이라는 제목으로 전시 성문각 이라는 출판사에서  섞여진 이름들 사진집으로 년 출판된다  그 책이 출판되던 그 해  중앙일보에 입사 월간중앙 기자로 입사해 우리사회분야에 관심 쏠리는 많은 주제들을  월간중앙 에 연재되며 저널리스트로 활약한다 한국의 이방 한국의 가족 명시의 고향 한국의 메타포 국토의 서정기행 까지 그는 사진도 찍고  편집도 해 낸다 그 시리즈 중 이번 트렁크 전시에는  한국의 가족 시리즈를 소개하려 한다  그 시기는 박정희의 군부독재강화와 월 유신단행시기로  정부시행 경제개발계획 추진에 따른 산업화  도시화가 적극 추진되던 시기였다  한국이 대가족에서 핵가족으로 변모하던 이 시기에  여성 사회학자 이효재 선생과 공동으로 작업한  한국의 가족  시리즈는 글과 사진이 함께한 편집효과로 당시 매우 관심을 끌었다  작가의 말에 의하면  한국의 가족  사진을 찍을 때 편집회의에서  우리가 살고 있는 이 땅  사람이 태어나서 죽을 때까지의 모든 여정들을 대가족에서 핵가족으로 넘어가는 과정을 통해 나타내보자고 합의를 봤습니다 이 작업 이후 그는 국토서정기행 그리고  명시의 고향  등으로 이어졌다  그의 작업형태가 서정적으로 변모 한 것이다 내가 다큐멘터리를 포기한 이유는 매체에서 실어 주지 않는 사진은 아무 의미가 없다고 생각을 했기 때문이었습니다  나는 사진을 보는 다른 작가들에게 사회적인 측면에서 문제제기를 해야 한다고 생각하고 있었기 때문에  내 사진들을 발표할 수 있겠냐는 다른 사람들의 질문에 그렇지 못하다는 반응을 보였습니다 현일영과 주명덕의 조우 는 좀 색다르다  주명덕의 대에 현일영선생님의 젊은이들과 가까이 하셨던 결과다  사진에 관한 어설픈 소통을 기꺼이 들어주시던 분  자신의 그 많은 사연도 나누어 주시던 분이셨다  주명덕선생이 그분과 더 가까웠던 이유는 또 있다  교우였던 친구의 아버지셨다  그 자신의 필름관리까지 맡기셨다고 하니  과연 주명덕과 현일영의  조우 는 그래서 남다르다 싶다   란 최현석 난 으로 란 을 이야기 하다  미술을 하는데 있어서 수많은 고민들 중 작업의 다양성과 주제의식의 합리화 과정은 작가에게 실제 작업의 행위보다 더 큰 고민과 고통을 안겨준다  모든 문제에는 동전의 앞뒤처럼 양면성을 가지고 있고  그 선택에 따라서 작가의 성질이 결정될 수 있다  미술의 기능을 크게 두 가지로 구분한다면  개인사적 이야기인가와 시대사적인 이야기인가로 나뉠 수 있고  이것 역시 양면성처럼 섞일 것처럼 보이지는 않는다  하지만 그 둘의 성질은 섞여야 하며 그래야만 비로소 미술의 기능을 발하게 된다고 생각한다 미술은 그 시대성을 목적으로 두고 있지 않으며 자신의 취향에 대한 필요성을 좀 더 구체화 시키는 과정의 연속으로  현실의 고발과 반영이 아닌 그 시대에 가능했던 불필요한 행위들을 하지 않음으로서 역설적으로 작가의 의식이 그 시대를 대변하게 함을 미술의 훌륭한 가치라고 생각한다 작가 최현석은 기본적으로 회화 작가이지만  그 장르를 넘어 작가가 가져야할 의식에 대한 줄타기를 위험스레 즐기고 있는 작가이다  그의 작품을 대할 때 일반적으로 사회적 성향이 강한 듯 보이지만  그렇다고 구체적인 방향을 제시하고 있지 않으며  동양의 민화나 만화적인 캐릭터들이 등장하는 그만의 그림체는 자신의 개성과 취향에 의존한 듯 보이지만 실제로는 많은 고증과 사료들을 근거로 제작되었음을 알 수 있다 그의 작업에는 현재 한국사회의 불편한 상황에 많은 캐릭터들이 말하고 행동하는 것을 볼 수 있지만 그 이상 즉 비판적인 입장을 취하고 있지만 직접적인 폭력은 없으며 구체적인 결말 또한 이야기 하지 않는다  구체적인 해석과 설명은 관객을 안심시킨다  하지만 뻔히 알고 있는  답이 정해져 있는 문제는 얼마나 심심 하고 재미없는가  그래서 최현석의 미술은 다양한 해석이 나올 수 있는 꽤 흥미로우며 재미있을 수 있는 미술이다 년 전시  란 은 말 그대로 어지러운 상태에 이르러 어지러움을 말하는 전시이다  다시 말해 교통난  식량난  주택난  취업난 등의 사회문제를 대선을 거처 가며 맞은 혼란을 이야기하는 전시라고 할 수 있다  그리고 기존의 작업에 비해 달라진 점이 있다면 개성적인 작업의 설정 보다 작가 자신의 말을 중시하고 그것을 풀어가는 방법에 대한 고민이 보여 진다는 점이다  작품 대포동 나로호 는 위성로켓발사 불발과 관련하여 남과 북의 상반된 상황에 대한 이야기를 단순한 어조로 담담 하게 표현했는데 이는 작가가 많은 이야기나 숨은 메시지 찾기 같은 복잡함 대신 조금 단순하지만 하고자 하는 이야기를 분명히 함으로서 역으로 관객으로 하여금 더욱 다양한 의견을 품을 수 있는 계기와 같은 작품으로 바라봐진다  이 작품을 기점으로 한 이번 전시는 NLL에 대한 문제나 대선에 관한 이야기등을 다루고 m길이에 달하는 대작을 마무리로 총체적인 국란을 이야기 한다 새로운 시도와 풍성해진 시선 회화 작가 최현석에게 있어서 미디어아트는 그리 생소하지는 않았을 것이다  물론 관객의 입장에서는 다소 의아해 보일수도 있겠으나 어쩌면 그것은 관객의 착각이나 편견정도로 치부해 버릴 수도 있으리라 IT강국 한국을 굳이 언급하지 않더라도 요즘 세상에 미디어에 종속되지 않은 사람이 없고  다양한 매체를 시간과 장소를 구애받지 않고 손안에서 해결할 수 있는 시대에 살고 있는 시점에서 미술가 또는 화가에게 붓과 물감에만 의지 하라는 건 너무 가혹한 일이 아닐까 생각 한다  작품 구화 는 최현석의 싱글채널비디오 작업으로 여개의 입이 꽃의 형상을 하고 각자 또는 집단으로 말을 하고 있는 이미지로 조금 기괴한 느낌의 작업이다  이는 서로의 말이 서로 다른 말을 할 때 느껴지는 소음과 소통의 부제에 대하여 생각하게 하고 다양한 해석을 불러일으킨다 작품은 실제로 무음성 버전과 소음과도 비슷한 음성버전이 있고 각자의 느낌은 서로 아주 다르게 느껴질 수 있는 특징이 있다  무언가를 말하려는 의지는 중요하다  그것이 자기주장으로만 국한되어서는 안 되겠지만 그 의지까지 꺾여서는 안 된다  작가 최현석에게는 그런 의지가 보인다   그림고백 양경모 서양화가 양경모 세 의 개인전이 롯데갤러리에서 열린다  이번 개인전은 작가의 첫 번째 개인전으로 주제는  그림고백 이다 호남대 미술학과를 졸업하고 지속적으로 작품활동을 해 온 양경모 작가는  예술의 첫 근원은 어디인가 를 물음으로 작업의 내용에서 구원 의 메시지를 표현한다 작품활동 중 시력약화로 망막 박리의 아픔을 견뎌내야 했던 작가는 붓과 물감으로 그려내는 평면회화와 더불어 CD나 투명컵과 같은 일상적인 오브제를 이용한 입체작품도 함께 선보인다  화가에서 있어 시력은 절대적인 작업 수단임을 고려할 때  그간의 과정이 지난하고 고민으로 점철되었을 시간이었음을 미루어 짐작할 수 있다 신은 최초의 예술가이며 창작가에게 깊은 영감을 주는 마르지 않는 샘물과 같은 생명의 근본이다  작업의 모티브는 이러한 영감을 나의 이야기로 만드는 것이다  신의 창조성과 구원성이라는 두 축이 내 그림의 중심이다  더불어 순수본질에 충실하여 담백한 그림의 맛을 내는 순수예술가가 되기를 꿈꾼다  혼돈과 공허함의 시대에 질서와 조화  그리고 선하고 아름다움으로 마음을 움직이는 그림을 그리고 싶다 라고 역설하는 양경모 작가의 표현에서 볼 때  그리는 행위 자체가 작가로 하여금 얼마나 절실한 것인 지 체감할 수 있다 작가의 작품에는 종교적 도상과 상징물들이 자주 등장한다  색채는 되도록 순수원형에 맞는 원색을 사용하며  추상적이고 회화적인 형태보다 감상하기 용이한 조화로운 화면을 구사하려 한다  첨단을 달리는 현대미술의 다양한 표현방식 안에서 양경모 작가의 작업은 어린아이의 순수처럼 사뭇 단순하기까지 한 맑은 기운을 선사한다  새해 맞이의 마음으로 형형할 시기  절실한 작업세계로 화업을 지속하는 작가의 다짐에 많은 분들의 격려가 함께하기를 기원한다   바람의 흔적 너무나 바쁘게 돌아가는 각박한 세상을 살아가면서 언제부터인가 마음의 여유는 잊은 채 살아가고 있는 것 같다  젊은 날 감성이 풍부했던 사춘기 시절 내 마음을 위로해주던 감미로운 노래는 더 이상 듣지 않고 편하게 앉아 영화 한편 볼 시간이 있던가 시를 읽는다는 건 생각지도 못하고 내가 이렇게 정신없이 스트레스와 함께 흘러 보낸 시간들은 무엇을 위한 시간인 것인가  지금 희생한 댓가로 나중에 언젠가 여유로울 날이 올 것이라 믿는 것인가  마음은 항상 미래를 생각하고 그것을 대비해 현재를 희생하고 있지만 내가 숨 쉬고 바라보고 느끼고 있는 시간은 지금 현재라는걸 잊지 말아야 한다  바람에 흔들리는 들판의 꽃을 보며 잠시 여유를 가질 수 있기를   임근우 조재만 오원영 임근우 작가의 회화 Cosmos 고고학적 기상도 모든 중력을 거부한 채 공중 부양되어 있는 도원경 속  복숭아꽃을 머리에 피운 역동성과 풍요의 상징인 이상형의 동물 말 젖소 이 고고학적 무릉도원 을 부유하며 심산유곡 어디든 꽃을 배달하는 이 시대의 행복기상도이자 미래에 대한 유토피아를 그린다 조재만 작가의 유토피아 기상도 기성시대와 기존의 시스템에 반하는 행위일지라도 솔직한 감정 안에서 정직한 삶을 표현하고자 파괴적 기질을 갈망하는 작가의 또 다른 인간 인체 의 외피 신비 를 담은  타투Tatoo 시리즈 와 더불어 원시적인 아프리카의 풍경 동물 과 임근우 작가의 회화  Cosmos 고고학적 기상도 가 만났다 오원영 작가의 Never Never land 안의 청량한 맹수들 Double 시리즈 자유로운 사고를 바탕으로 젊고 독특한 발상이 가미된 스토리 구성력과 상상력의 결과물들은 작가의 조형적 역량이 뒷받침 되어 설명적 요소나 큰 의미 부여 없이 관람객과의 적극적인 대화법을 구사하고  청량감과 함께 기분 좋은 묘미가 있지만 이율배반적 양태를 지니고 있다 회화  사진  조각이라는 서로 다른 장르 안에서 현대인들의 긍정적 자아 자아성찰의 계기가 되고자 하는 세 작가의 작품들이 한 공간 안에 어우러져  시공간을 뛰어넘는 우리의 희망과 자연 속 인간의 존재가 가지는 낭만에 대하여 말하고자 한다   옛사람의 삶과 풍류 조선시대 풍속화와 춘화 갤러리현대는 새해 첫 전시로 조선시대 풍속화와 춘화를 아우르는 대규모 전시  옛사람의 삶과 풍류 조선시대 풍속화와 춘화 를 두가헌갤러리와 갤러리현대 본관에서 개최한다  갤러리현대 본관은 조선후기 화가들의 풍속화 점과 대중에게 처음 공개되는 심전 안중식의  평생도 그리고 단원 김홍도와 혜원 신윤복의 작품으로 전해 내려오는 춘화 만 세 이상 관객만 관람 가능한 점을 선보인다  두가헌갤러리에서는 평민 출신 풍속화가 김준근의 작품 중 새로 발굴된 미공개작 여 점을 최초 공개한다  이번 전시는 조선시대를 풍미했던 회화의 다채로운 장르를 두루 섭렵한 미공개작까지 한데 모은 획기적 전시이다 본관  층에는 조선후기 생활을 그대로 재현한 듯 공재 윤두서  관아재 조영석  긍재 김득신  혜원 신윤복  긍원 김양기  혜산 유숙  소당 이재관  심전 안중식 등 당대 최고 화가들의 걸출한 명작으로 조선시대의 풍류와 멋을 즐길 수 있다  특히 대중에게 처음 공개되는 석초의 일생에 대해 그린  평생도 는 청전 이상범과 소정 변관식의 스승이기도 한 화원 출신 화가 심전 안중식의 작품이다 특별히 본관  층은 성인 관람객에게만 관람이 허락된다  단원 김홍도와 혜원 신윤복의 화풍으로 전해오는 세기 전반경의 운우도첩 과 년경 작 건곤일회첩 이 원화 화첩 전체로는 처음 대중에게 공개된다  운우도첩과 건곤일회첩은 조선후기 춘화 가운데 가장 회화성이 뛰어나고 격조를 갖춘 작품으로  춘화의 백미로 평가된다  특히 운우도첩은 잡지나 책에 부분적으로 실려 왔기에 눈에 익지만  원화가 공개되는 것은 최초이다  우리 춘화첩에는 남녀노소와 신분고하의 다채로운 인물들이 등장하는데 대부분 부적절한 남녀관계를 그려 유교의 도덕개념으로는 매우 파격적인 당대 사회의 성문란을 보여준다 세기 우리 춘화에는 신분사회에 대한 풍자와 농담이 짙게 깔려 있는데  춘화가 중세의 유교적 엄격주의를 깨는 일에 더없이 좋은 예술적 소재였음을 시사한다  때로는 해학적이면서 낭만이 흐르고  때론 점잖은 듯 하며 가식 없는 에로티시즘의 감칠맛이 우리 춘화의 아름다움이다  이번 전시를 기념하여 특별히 관람객들을 위한 춘화 화첩이 제작 판매되는데  원화의 매력과 품질을 그대로 담아 제작되는 이 춘화 화첩은 그림에 대한 이해를 돕는 해설까지 곁들여 국내외 고객에게 우리의 문화를 알리는 기회가 될 것이다 두가헌갤러리에는 평민 출신 화가 기산 김준근 세기 중엽 세기 초 의 미공개 수작을 모았다  한국을 최초로 세계에 알린 것으로 평가되는 평민 출신 화가 기산 김준근은 독일 베를린 미술관  미국 스미소니언 박물관 등 세계 유수 박물관에 조선시대 풍속화로는 가장 많은 작품이 소장된 화가이다  재미있는 것은  유수의 박물관에 소장된 작품이 조선화원 출신이 아닌 평민 화가 김준근의 것이라는 점이다  조선 최초의 개항장이었던 원산에서 주로 활동했던 김준근은 당대 주류였던 중앙화단과 관련이 없었지만  우수한 기량과 사업적 수완으로  수출 풍속화 의 대표주자가 되었다 수출 풍속화 는 중국  일본과 더불어 조선을 경유하였던 외국인 여행가들이 수집을 목적으로 개항장 주변 화가에게 주문했던 그림을 일컫는다  새로운 문화를 파악하기 위한 실용적 목적으로 제작되었기 때문에 배경은 되도록 간략하게  일정한 양의 세트로 제작되는 특징을 지닌다  서구인들은 일과 놀이  관혼상제  관리와 형벌  무속 등 다양한 주제를 손에 잡힐 듯 실감나게 그린 기산의 풍속화를 통해 조선의 다양한 면모를 파악할 수 있었다 두가헌갤러리에 선보이는 작품은 현존하는 김준근 풍속화 중에서도 회화적으로 가장 발달한 시기에 제작된 것으로 세부적 표현과 다채로운 채색이 절정의 솜씨를 보여주어 그의 작품 중에서도 수작으로 평가받는다  기존에 알려진 점에 덧붙여 새롭게 발굴된 점 중 점을 선택하여 최초 공개하는 이번 전시는 이제는 거의 외국 박물관에 소장되어 있는 기산 김준근의 풍속화를 직접 볼 수 있다는 점에서 다시 없는 기회이다 전시기간에는 관람의 이해를 위한 명강의 회 마련되어 있다 월 일 수요일 오후  시에는 유홍준 교수의  옛사람들의 삶과 풍류 가  월 일 수요일 오후  시에는 이태호 교수의  조선춘화의 에로티시즘 이 신관 전시장 지하에서 진행된다  선착순 명에 한하며 따로 사전 예약은 받지 않는다 옛 람의 삶과 풍류 조선시대 풍속화와 춘화  전시는 우리 근현대 미술의 뿌리를 되짚고  우리 옛 미술을 재평가하는 자리로 기획되었고  특히 젊은 세대와 자라나는 세대에게는 한국 미술의 우수성의 기원을 옛 미술에서 발견할 수 있는 좋은 기회가 될 것이다 월  소중한 가족이 함께 모이는 기간에  남녀노소 누구나 유익하게 즐길 수 있는 좋은 문화적 체험이 될 것으로 기대한다   대상과 심상 김재형은 망치  가위  전동공구  이불  TV 등과 같이 자신의 눈과 손에 닿는 일상용품을 마치 피와 살을 가진 육체처럼 나타낸다 그의 작품은 대부분 사물 속에 몸이 스며들어간 형태를 취하고 있는데  그것을 보고 있노라면 왠지 모르게 다음과 같은 의문이 떠오른다 지금 내가 보고 있는 사물은 내 몸 바깥에 놓여 있는 대상인 것일까  아니면 내 몸 안에 스며든 심상 인 것일까  지금 내 시선과 의식 속에 생생하게 자리 잡고 있는 사물들은 제 고유의 물성으로 제 나름의 공간을 점유하고 있다  이들은 내 몸의 존재 여부에 상관없이 이미 공간 속에 존재하고 있다  이들이 내 몸 바깥에 독립해 있는 대상이라는 것은 구태여 따져볼 필요도 없는 사실인 것 같다  하지만 금세 이에 대한 반론이 재기된다  지금 내가 보고 있는 사물의 모습은 내 눈과 몸에 바탕을 두고 있다  이들은 오직 눈과 몸에 투영된 상 으로서만 모습을 드러내기 때문에  언뜻 보기에는 내 몸에서 독립된 대상처럼 인식되지만 사실은 내 육체와 한 몸을 이루고 있는 심상으로서 받아들여진 것이다  특히 이들 가운데 오랫동안 접촉해서 눈과 손에 익은 사물들은 거의  내 몸처럼  느껴진다  이처럼 사물은 몸 밖의 대상으로 설정될 때 보다는 오히려 몸 안에 스며든 심상으로 이해될 때 보다 생생한 현실감을 갖게 된다 이처럼 쉽게 해답을 찾을 수 없는 의문을 가져다 준 김재형의 작품 세계는 어떻게 구성되는 것일까  이미 언급하였듯이 그의 작품은 작가의 몸속에 스며들어 있는 사물의 심상을 몸 밖의 대상으로 나타낸 것이다  김재형은 사물이 자신의 몸속에서 심상으로 맺힐 때 겪게 되는 육체적인 합일의 경험을 작품에 충실하게 옮기려 한다  예컨대 김재형이 작업실에서 자주 사용하는 망치는 원래 그의 몸 밖에 놓여 있는 대상이다 나무 자루와 쇠뭉치로 이루어진 그것은 단단하고 무겁다  하지만 그것은 망치로서 계속 사용되는 가운데 김재형의 몸속에 하나의 심상으로 자리 잡는다  심상으로 전환된 망치는 단단하지도 않고 무겁지도 않다  그것은 살덩이처럼 부드러우며 자유롭게 휘어진다  그리고 때로는 망치질 하는 방향에 따라 여러 개로 증식하기도 한다  그러나 이와 같은 망치의 심상은 김재형의 몸속에 폐쇄되어 있어서 본인이 아닌 이상 그것의 존재 여부를 확인할 수 없다  그것을 다른 이와 공유하기 위해 김재형은 몸속에 형성되어 있던 망치의 심상을 몸 바깥에 있는 대상의 형식으로 다시 전환시킨다  이 때 다시 몸 밖의 대상으로 되돌아온 망치는 심상이 되기 이전의 망치와는 전혀 다른 성격을 갖게 된다  김재형은 망치가 몸속 심상으로 있을 때 머금었던 육체의 자취를 망치에 적극적으로 반영시키고자 한다 그리하여 망치는 대상으로 있을 때의 물리적 한계를 벗어나서  길이가 늘어나기도 하고 줄어들기도 하고  부피가 커지기도 하고 작아지기도 한다  김재형은 망치뿐만 아니라 가위  전동 공구  이불  TV 등과 같이 친숙한 심상으로 자기 내면에 투영되어 있는 사물을 작품으로 제작한다 그러한 결과로서 나타나는 김재형의 작품은 대부분 사물과 육체가 뒤섞여 있는 기묘한 형상이 된다  그의 작품이 나오기까지의 과정은 대상  몸 바깥 심상  몸 안 대상 심상  몸 바깥  으로 정리할 수 있다  이 때 작품으로서 드러나는 것은  에 해당하는 과정이겠지만  사실 가장 섬세하게 조율되어야 할 부분은 작품으로 나타난 과 실재 대상 사이의 대비이다 그러한 대비가 성공적으로 수행되었을 때  비로소 눈에 드러나지 않는 의 과정이 전달될 수 있다  다시 망치의 예를 들어 설명해 보면  관객은  에 나타난 망치의 형상과  의 과정에 놓여 있는 망치를 대비하는 과정에서  작가가 일상에서 망치의 모습을 보면서 느꼈던 결핍과 문제의식을 유추하게 된다  그것이 가능해야만  의 과정 속에 은폐되어 있는 망치의 심상을  의 과정으로 이끌어내기 위해 작가가 기울인 노력이 설득력 있게 전달될 수 있다  가장 우려스러운 점은 사물과 육체가 뒤섞여 있는  의 형상이 너무 부각되어 관객에게 의 과정을 음미 할 수 있는 여지가 사라지는 것이다  하지만 이는 작가가 의지를 가지고 있다면 충분히 예방할 수 있는 요소라는 생각이 든다 현대 미술의 중요한 미덕 가운데 하나는 그저 무의미하게 흘려보내게 되는 일상의 감각활동에 대해서도 의미심장한 성찰의 지점을 제공한다는 것이다  김재형의 작품은 우리가 사물을 감각할 때 이루어지는 대상의 인식  심상의 발생  그리고 대상과 심상 사이의 대립과 혼합을 자신의 작품 속에 집약시켜 드러내고 있다  그의 작품은 한 개인의 특이한 감각 활동을 표현하는 데 그치는 것이 아니라  모든 사람들이 일상의 사물과 맺고 있는 관계의 보편적인 지점에 닿고 있다  그의 작품이 환기 하는 것은 지금 내 감각에 닿고 있는 키보드  커피잔 모니터  필기구와 같은 사물들의 진짜 모습은 무엇인가 하는 것이다  이러한 질문에 사려 깊게 반응하는 관객은 일상의 감각활동 전체를 갱신할 수 있는 일종의 방법론을 그의 작품 속에서 찾을 수도 있을 것이다   상상 을 블렌딩 Blending  하다 강성욱은 년대 말부터  Transformation 변형  변신  이라는 제목 아래 서로 다른 형상이 특이하게 연접해 있는 작품들을 구상  제작해 왔다  두 세 개의 이질적인 형상들이 서로의 모습으로 변신해 가고 있는 과정을 그대로 드러낸 채 결합되어 있는 조금은 생경한 작품들이 그것이다  참고한 자료에 따르면 이러한 작업은 작가가 독일에서의 학업을 마치고 얼마 되지 않은 해인 년을 기점으로 해 기존의 조각 작업들에서는 잘 다루지 않았던 변신 조각에 관심을 보이면서부터 시작되었다 그런데 이렇듯 형상들이 통합되는 과정까지를 한 덩어리로 표현해 내야 하는 변신 조각의 개념은 컴퓨터 그래픽 프로그램들 속에 담겨있는 특별한 기능을 빌어 비로소 구현될 수 있었다  쉽게 말해  D 그래픽 프로그램인 일러스트레이터에서의 블렌드 Blend  기능이나  D 그래픽 프로그램에서의 로프트 Loft  기능 등을 통해 두 개 이상의 다른 형상이 혼합되어 변해가는 과정을 함께 보여주는 기능을 활용함으로써 가능할 수 있었던 것이다  사람이 차로 변신한다든지 고양이가 독수리로 변신한다든지 하는 아무튼 모양이 다른 형상을 양 끝 단에 배치한 후 블렌드 기능을 적용하거나 표현하려는 형상들의 단면을 해당하는 위치에 배치한 후 로프트 기능을 적용하면 변모해가는 형상들이 하나로 연결된 모양으로 형성되는 것이다 이러한 작업은 물론 고전 조각 작업이 가진 한계를 넘어서고자 했던 작가 나름의 진지한 고뇌의 산물이었다  마르쉘 뒤샹 Marcel Duchamp 이 평면에서 변화의 과정을 동영상 개념과의 접목을 시도하여 화폭에 실현하고자 하였던 것과 같이 또는 토니 크렉 Tony Cragg 이 공간에서 조형의 변화를 입체적으로 형상화하고자 하였던 것과 같이 작가는 시간의 변화와 역사의 흔적을 현재와 연결해 조형적으로 담아내는 방법의 하나로 변신 Transformation 의 궤적을 입체적인 조형으로 표현해 보고자 했던 것이다  말하자면 상상 을 블렌딩 Blending 하고자 했던 것이다 이를 통해 작가는 독특한 미의 형식뿐만이 아닌 다양한 삶의 양상과 그 속에 깃든 의미와 가치들을 은유적으로 드러내고자 하였던 것이다  그리고 이러한 작가 특유의 관점은 빠르게 변화하는 현대사회의 트렌드와 성공을 향해 질주하는 현대인의 모습을 표현한 작품 쎄 엥 Ssae ang 이나 나비를 쫓아 달려가는 인생의 낭만과 허상의 단면을 표현한 작품  butterfly flower runner  등을 통해 확인 할 수 있다 작가는 독일에서의 수학을 계기로 개념미술에 심취했었다  그에게 있어 예술은 작가가 행한 노동의 양적인 결과물이라기보다는 개념과 그 개념을 종합하고 풀어내는 과정의 질적인 결과물이었다  말하자면 상상 을 블랜딩 Blending 하고자 했던 것이다 그래서 그의 작업은 조각이라는 장르에 기반하고 있었지만 장르에 얽매이지 않는 다양한 모습으로 나타났다  불조각 조약돌의 Calligraphy 청색 페인팅 꽃피는 붓 그리고 Transformation 등은 그 좋은 예라고 할 수 있다 그러나 이러한 개념미술의 추구라는 것이 일부가 오해하듯 삶과 유리된 지적인 유희에 불과한 것은 결코 아니었다  작가가 추구했던 것은 결국 삶의 의미를 되새기게 하고 그 가치를 새롭게 할 정신의 다양한 변주로서의 발상과 표현이었다  그래서 어쩌면 그의 작품에서 우리가 주목해야 하는 것은 양 끝 단에 자리한 단정적이고 결론적인 형상이 아니라 변화되어 가는 형상  전혀 다르게 보이는 형상이 융화되고 연결되어 가는 과정 그 자체인지도 모르겠다  구별과 대립이 아닌 분리될 수 없는 관계와 그 관계에 대한 새로운 이해라는 것이다 전시작가 강대운  구자승  권옥연  권진규  김경  김경승  김정숙 김충선  김호걸  김흥수  남관  박득순  박생광  박석호  박성환  박영선  배동신  손상기  손일봉  송혜수  오승윤 이동표  이림  이만익  이인성  이종무  이충근  임직순  장리석  전뢰진  전혁림  정문규  정승주  조병태  천경자 최쌍중  최영림  한묵  황술조  황영성  황용엽 화가의 여인  나부 한국근현대누드걸작 여인이 벌거벗은 그림인 고로 사진으로 게재치 못함 매일신보 년 동경미술학교 졸업생인 김관호 의 졸업작품인  해질녘 이 문전 일본 문전  회  특선을 알리는 신문기사 말미에 밝힌 내용처럼 지극히 보수적이었던 한국사회에 한국누드화의 역사가 근 년이 되는 시기 알몸은 볼거리라는 편견에서 벗어나 서구문화의 소산인 누드가 한국에 정착하며 변화되는 과정을 살펴보려 함 년대 이전은 누드 작품이 극히 드물며 아카데믹한 미술의 전형에서 차츰 벗어나려는 시도 년대 이후 작품은 누드를 그린 작가 중 화단의 위상  다양한 화풍  그림 속 이야기를 담고 있는 작품으로 골라 선보임  한국에 누드화가 시작된 이후 년대부터 년대 현재 까지 근현대기 대표적 누드 점 소개 년대 이전 제작된 누드화로 현재 남아있는 작품이 약 여 점으로 추정  그 중 이인성 작품 소개 전쟁 시 제작된 누드화  이 림 의 누드는 피로 물든 것 같은 핏빛 누드로 아파서 신음하는 인류를 어머니의 누드로 표현하여 눈길  전쟁 피난시절  부산에서 제작된 권옥연 의  부인상 평생 단 한 점의 누드만을 남겼다는 한 묵 의  누드 는 전쟁 중에도 멈출 수 없었던 작가의 예술의지를 엿볼 수 있다  종전 이후  유럽  미국 등지로 유학을 다녀온 초창기 유학파 김흥수 박영선 의 이국적인 누드  왜색이 짙었던 박생광 의 누드도 선보여 년대 민족 고유한 정서가 담긴 설화나 민담 등을 에로틱한 여인의 누드와 결합하여 독자적 세계를 구축한 최영림 의 독특한 모래그림을 비롯 박석호 박항섭 장리석 송혜수 이종무 등 향토색이 짙은 누드 소개 전형적인 사실주의 계열 화가로 완벽한 뎃생력으로 생동감 넘치는 여인의 나체상을 그린 박득순 을 비롯한 김호걸 구자승 조병태 등 누드화를 즐겨 그린 사실주의 누드화와 함께 대부분의 작가들이 그랬듯이  평생 남긴 누드화가 몇 점 정도밖에 안되는 작가  남관 박성환 이만익 임직순 등도 소개됨 자신의 신혼을 담은 손상기 의 연인상인  화가와 여인 과 임신한 여인그림  초조 는 작가의 행복한 순간을 화면에 담았다  또한 천경자 의 대작 전설 역시 당시 가정적으로 가장 행복한 시기를 보낸 작가의 모습을 반영하듯 의례적으로 따뜻하고 서정적인 작품을 선보인다 누드와 춘화의 다른 점은 춘화는 대중의 성적인 정서를 의도적으로 드러내는 것에 치중한다면  누드는 인간 자체의 가치를 부여하는 작업이다  이제 백년을 넘어서는 한국 서양화의 역사를  누드 를 통해 폭넓게 조망하는 자리   관용 아이러니 복제된 형상구조 속 전복의 미학 Guan Yong Irony The Overthrow of Aesthetics 욕망의 제국에서 일반적으로 인간은 출생 이후 자아가 인식되기 전부터 줄곧 추상적이고 원대한 목표를 세우는 것을 당연하게 여긴다  물론 이러한 목표와 이상은 건강한 삶을 영위하는데 도움을 주는 것 또한 사실이다  그러나 인생을 살아가는데 꼭 이상과 목표가 거대해야 할까 마찬가지로 예술에 있어서의 목표점이 위대해야 할까  이것이 대체 무슨 소린가  하지만 필자는 인생살이나 예술활동에 있어 그렇게 위대하거나 거대한 추상적인 목표만이 가치 있고  의미 있는 것이라 생각되지 않는다  사실 인생이란 인생에서 나오는 질문 하나하나에 응답해 나가는 과정이며  예술 또한 창작과정에서 생기는 의문이나 표현하고자 하는 것을 하나하나 연구하면서 표현하는 것이라 생각한다 그러나 현재 많은 동시대인들이 이러한 사고과정을 간과하고 있지 않은가  그것은 아마 잠시도 자신을 돌아볼 여유조차 주지 않는 현대인의 삶 때문에 그 중요한 가치를 간과하게 되는 현상일 것이다  그러다가 간혹  문득문득  자주  자신은 누구인가 라는 다소 엉뚱한 방식으로 정체성과 맞닥뜨리곤 한다  이는 인간의 욕망을 무한대로 증폭시키는 방향으로 쉴새 없이 몰고 가고 있는 현 물질사회에서 더욱 더 그러하다  일례로 과거의 경우 개인의 욕망은 지극히 소박했는데  아마도 이것은 이미 선택된 인간들만이 그들 사이의 욕망 쟁투전을 벌였고  이들간의 사건들이 역사가 되었기 때문일 것이다  그러나  과거와 달리 이제는  비교적 평등하게 각 개인이 갖고 있는 욕망이 끊임없이 새로운 역사를 만들어 내고 있다  이런 관점에서 보았을 때 우리는 자연스럽게 사회주의권이었던 국가들이 왜 자본주의적 노선을 걷고 있는지도 미루어 짐작할 수 있을 것이다  사회주의가 자본주의에 자리를 내어 준 것은 결국 인간의 욕망을 발산시킬 수 있느냐가 핵심이었다고 볼 수 있다  즉 사회주의가 일정수준까지 인간의 욕망을 충족시켜주긴 하였으나 자본주의는 인간의 욕망을 무한대로 내달리게 했다는 점에서 탐욕적인 인간의 본능에 가깝다고 할 수 있다  이러한 부분은 자본주의와 사회주의의 대결구도까지 갈 필요 없이  도시와 지방간의 관계에서도 엿볼 수 있을 것이다  즉 예전보다 더 도시가 발달하고 사람들이 많이 모이는 이유  혹은 지방도시들이 도시화하려고 혈안이 되어있는 모습은 도시가 인간의 욕망을 대변해주고  해결해주며  아울러 끊임없이 욕망을 소비시켜준다는 점에서 사람들에게 마력으로 다가오기 때문이다 사실 이러한 욕망의 문제는 사랑 그리고 인간성의 문제와 더불어 결국 인간이라면 누구나 세상을 살아가면서 부닥치는 보편적인 문제들이기도 하다  그러나 이러한 욕망의 제국에서 끊임없이 욕구충족을 위해 목을 메는  때로는 욕망을 성취하고 혹은 실패하거나 종국에는 욕망에 굴복하는 구조 속에서 우리는 가상현실과 현실간의 괴리를 해소하지 못하고 자아분열의 단계에 이르게 된다  다소 인간의 욕망과 갈등에 대한 일반적인 논이 길게 서술된 바 없지만 세기 후반 산업혁명 이후로 인간은 멈추지 않는 욕망에 도전을 당하고 있다  많은 예술가들의 작품에서 드러난 사회 속 인간군상의 얼굴들  그리고 그 속에 드러난 인간의 탐욕과 자아의 괴리감 등이 현 시대  즉 로켓 우주선처럼 쏜살같이 변하는 세상에선 더욱 더 첨예한 주제가 되어가고 있고  이는 다름 아닌 현실의 반영이기도 한 것이다 관용은 그 어떠한 시대보다도 많은 격변을 재빠른 속도로 체험하고 있는 중국에서 나고 자란 동시대 작가이다  무수한 중국현대 정치 경제사를 논하지 않아도 우리는 이미 감각적으로 이 부분은 알 수 있을 것이다  이번 전시에서 그는 매우 흥미로운 시도를 시작하였는데 그것은 바로 현시대의 아이러니적 상황과 가치관의 혼란과 괴리감을 우리가 익히 알고 있는 작가 프란시스 베이컨의 작업이 아닌 그의 작업실을 모티브로 하여 삶과 예술의 기원을 찾고자 했다는 점이다 아이러니  현시대의 삶에 있어서 우리는 여러 형태로 쏟아져 나오는 윤리의식의 부재  가치규범의 불안정  그리고 가상 현실과 현실의 괴리적 상황을 종종 엿볼 수 있다  그리고 이러한 문제들은 현대인들을 자아분열적 상황으로 몰고 가고 있다  이것이 당장은 가시적인 현상으로 드러나진 않지만  무서운 파급력을 가지고 여러 가지 양상으로 표출되고 있다  그리고 이러한 본질적인 문제들은 우리가 거울 뒤로  혹은 거울 옆으로 숨는다고 해서 나의 본질이 사라지지 않는 것과 마찬가지 일 것이다  사실  이러한 아이러니적 상황은 유사성이 관습적으로 지속되고 있는 상황들 속에서 그 유사성의 부정으로부터 출발한다  관용의 작업에 있어서 바로 이점들이 최근 작업에서 두드러지게 표현되고 있고  특히 이번 전시에서 필자가 주목하고 있는 것은 그의 작품에 나타난  거리 정신이다 여기서 거리란 자아와 세계 사이의 외적 거리인 동시에 분열된 자아 사이의 내적 거리도 포함되며  이런 점에서 관용의 작품은 아이러니의 비서정적 성격을 본질로 한다고 볼 수 있겠다 우리는 관용의 초기작품에서 그 싹을 볼 수 있었다 년도에 제작한  Connection Landscape to History  작품은  개의 화면으로 구성되어 있는데  한 폭은 흑백으로 초원에서 화가가 그림을 그리고 있는 장면이고  다른 한 폭은 컬러로 마치 예수가 황무지의 땅에 선구자로 내려오는 듯한 양식으로 마오쩌동의 모습이 그려져 있다  이 그림이 재미있는 것은 흑백과 컬러의 대치  그리고 현재 실재한 화가와 이미 저 세상으로 간 중국의 영웅인 마오쩌동의 대치라는 점이다  일반적인 상황이라면 아마도 화가의 모습이 컬러로 마오의 모습이 흑백으로 그려졌어야 맞을 것이다  그러나 작가는 이 부분을 이상과 현실이라는 기반 아래 반어적으로 표현했다  일반적으로 과거와 현재의 이분법적인 표상에서 과거는 흑백  현재는 컬러라는 것이 상식이지만  현실에서 느끼는 이상향의 거리감이 오히려 과거 기억의 영화로운 부분이나 영웅적 요소보다 크다는 점을 반어적 색채와 구도상으로 보여주고 있는 것이다  즉 작가는 이 그림에서 전복된 구조를 통하여 현 사회상을 비판하고 있는 기지의 싹을 보인다 이후의 작업에서도 이러한 양상은 끊임없이 도출이 되고 있는데  초기의 작품이 이상과 현실의 괴리감을 조금은 추상적 개념으로 접근했다면  이 후의 작업은 지식인의 외관에 아둔한 인물의 이미지를 중첩시켜 점차적으로 현실에 근접하여 작업을 풀어나갔다 년부터 년 사이 관용은 뚱뚱하고 둔한 이미지의 지식인들을 그렸다  당시 관용은 기존의 역사와 문화에 대해 반복적으로 회의 하고  지식인으로서 자신의 목소리를 내지 못하는 현시대인들의 수동성과 우매함을 비판적 시각으로 바라보면서 사회와 규율과의 갈등을 인물들의 불안한 심리묘사와 결합하여 표현했다  주제의 대부분은 서양의 고전명화의 장면을 차용하여 현 시대의 중국인이 겪고 있는 모순적 상황을  Classic 씨리즈로 보여주었으며  구체적으로  실어증 학대 와 같은 표제로 선보였다  이 시기의 작품 대부분은 역설적인 상황대치극 양상을 보인다  작가는 당시에 다음과 같이 말한 바 있다 문화와 역사에 대해 의심하는  그렇지만 뭔가 우스꽝스러운 인물을 표현하고 싶었으며  또한 진지하고 엄숙한 종교적인 분위기이면서 심각하면서 불안한 인물이 있는 그림을 그리고 싶었습니다 작품 이미지의 모델이 되었던 것은  zhou zhou 라는 지적 장애가 있었지만 심포니 오케스트라를 뛰어나게 지휘했던 인물로 그는 이 인물을 통해서 모순적인 현 상황을 풍자하고자 하였다  후반기에 들면서 작가는 더욱 더 주제를 좁혀 나아간다  물론 모순적인 상황대치극이라는 기법을 유지하면서  그가 겪은 문화적 경험과 사회적 현실에 대한 심리적 거리감의 주제를 진지하게 느끼고 지각하면서 말이다  이후 관용은 개인과 사회라는 대치적 관점에서 한걸음 더 나아가 인간의 내면세계와 외면세계를 대립구조 양상으로 발전시키게 된다 대략 년 후반부터 관용의 작업에서는 새로운 조짐이 보이기 시작하였다  즉 거울을 이용한 이미지가 작품에 등장하기 시작한 것이다  기존의 상황극적인 화면구조를 탈피하여 화면은 상하 혹은 좌우로 분절되어 시공간이 일치하지 않는 장면들이 속속 등장한다  화면을 언뜻 보아 넘기면 그저 이전과 같은 책과 인물의 비슷비슷한 나열로 보일 수도 있다  그러나 조금만 시간을 들이면 마치 중간과정과 단계가 생략되거나 절개 된 것과 같이 시공간의 차가 보여지며  순간 관람자에게 잠시 혼란을 느끼게 한다  초기 작품에서부터 과거와 현재  현재와 미래  사회와 개인간의 대립구조를 민감한 관점으로 견지하고 있었던 관용의 작업은 년 작품 The Gray 에서 외적 자아와 내적 자아의 대립구조의 시작점을 알리면서 필자가 상기에 언급한  자아와 세계 사이의 외적 거리인 동시에 분열된 자아 사이의 내적 거리감 이 화면에 출현하게 된다  이전의 작업이 비교적 단순하게 두 가지의 상황이 극의 형식을 띠면서 한 화면에 등장하여 의 매칭식으로 작품을 구성했다면 년의  The Gray 작품에서 관용은 한층 복잡해진 시공간의 구조 개념을 끌어들여 화면을 완성시키고 있다  처음 이 작품을 보면 아마도 지극히 평면적인 서가에 두 인물이 끼워져 있는 듯한 느낌을 받을 것이며  다시 한번 들여다보면 하나의 서가처럼 보였던 것이 상하로 나뉘어 있다는 것을 확인하게 될 것이다  다음으로 등장인물의 시선인데  화면의 왼편에 위치한 남성의 시선은 그의 오른 편의 남성으로 향하고 있고  시선을 받고 있는 남성의 시선은 다름아닌 우리를 향하고 있다  그리고 마지막으로 우리의 시선은 관용이 명기한 작품명인 회색 으로 향할지도 모른다 회색 작업은 관용의 최근작인  Narcissist  나르시스트 로 심화된다  이 작품에서 서재는 마치 춤을 추고 있는 듯하다  지그재그로 속도감을 가진 서재가 화면을 부유하고 있고  그 사이로 안정적인 듯한 포즈를 취하고 있는 인물이 등장하지만  실은 그의 표정은 매우 상기되어 있으며  시선은 불안정하다  우리는 작가가  회색 작품에서 보여준 일차원적인 분절이  나르시스트 의 작품에 와서는 다차원적인 시공간의 교차를 통해 위태로운 각도로 보여주고 있음을 느낄 수 있을 것이다  또한  나르시시트 에서는  회색 의 작품과는 다르게  인물들이 누가 누구를 보고 있는 상태와 같은 공간과 시간의 차도 없으며  또한  회색 의 작품처럼 시선들에 의한 감시나 견제를 통해 자신을 비추어 볼 수 있는 조금의 여유나 눈치를 보는 시간조차 주지 않고 있다 나르시스트 에서 작중인물은 마치 서재모양의 쾌속열차가 광풍과 같은 속력을 가지고 무차별적으로 스쳐 지나가 버려 정작 작품 속 주인공은 얼이 빠져 멍한 상태로 남겨져 있는 듯 하다 서두에서 논한 바같이  작가는 현시대와 문화 그리고 이 복잡하고 다단한 욕망의 제국에서 길을 잃고 헤매는 우리들의 자화상에 의문을 던지고자 하였다  이러한 그의 주제의식은 앞서 살펴본 바와 같이 거울개념을 차용하여 한층 견고하게 발전한다  즉 자신을 둘러싼 환경과 세계를 포함하여  작가자신을 스스로 비춰 보면서  자아와 세계 그리고 예술가로서의 내적 자아와 외적 자아 사이의 갈등과 괴리감이 종국에는 자아분열에 이르게 되는 현시대를 암시적이며 비판적인 시각으로 담고자 했다 베이컨의 화실로 돌아와서  일련의 작업은 앞서 설명한 바와 같이 후기자본주의에서 나타나는 인간의 존재감과 자아에 대한 물음으로 읽힐 수 있다  그러나 그의 작업은 여기에서 멈추고 있지 않다  다시 말해 관용의 작업에서는 무수한 기표들이 부유하고 있다  그 대표적인 예로 물성에 대한 것이다  그의 신작에서 우리는 물감퇴적물이 이곳 저곳에 부유하거나 그림의 하단부분이 마치 화가의 빠렛트처럼 엉겨 붙어 있는 것을 발견할 수 있다  이러한 물감퇴적물은 아마도 아무 쓸모 없는 다 먹고 소비하고 배출한 쓰레기나 똥으로 보여질 지도 모른다  하지만 역설적으로 작가는 이를 모든 에너지의 원동력으로 보고 있다  시장적 가치만을 중시하는 사회에서는 이미 소외되거나 사장된 이러한 개념을 작가는 다시 화폭에 중심 소재로 사용하면서 잉여물의 가치를 환기시키는 것이다  이것은 마치 어느 시인의 시구인  꽃은 똥처럼 향기로와  똥은 꽃처럼 향기롭게  삶과 죽음을 태우는 불꽃 과 같은 반어적 기법으로 작가의 시대정신을 부각시키는 부분이라 볼 수 있다 사실 작업에 물감퇴적물을 화면에 도입시킨 것은 필자가 보기에 베이컨의 작업실을 연구하면서 시작된 것으로 보인다  관용은 쓰레기 집합장과 같은 베이컨의 작업실에서 많은 힘과 에너지를 느꼈다고 한다  일생 동안 청소 한 번 하지 않은 베이컨의 작업실은 아마도 그 예술가의 삶의 현장이 그대로 담긴 역사유물로 비유할 수도 있을 것 같다  관용이 여러 층의 서가를 각국의 문화  시대  민족의 사고가 뒤섞이고 축적된 집합체로 본 것처럼  베이컨의 작업실 또한 어느 위대한 예술가의 시대와 문화 그리고 예술사상이 뒤엉켜진 오브제로 여긴 것으로 보인다 여기서 문화  예술  시대  정신 등의 집합체인 서가와 작가의 작업실이라는 오브제의 차이는 공적인 것과 사적인 것  걸러진 것과 걸러지지 않은 것  추상성과 구체성이라는 대치 점으로 읽을 수 있을 것 같다  작가 관용이 이러한 차이점을 인지했는지 아닌지는 확실하지 않지만  아마도 작가적인 감각으로 이 시대의 소외된 정신과 가치를 대작가가 남긴 고뇌의 집합장인 더러운 작업실에서 느꼈을 것이다  이렇게 해서 시작된 베이컨의 작업실 작품은 이제 단순한 재현에서 끝나지 않고  보이지 않는 거울장치를 이용하여 관용자신을 투영하고 있다  즉 일관적으로 시도했던 현실과 이상간의 거리감으로 인한 자아분열에 이르는 과정이 이제 잉여적 물성과 같은 물감퇴적물로 인해 현실 속 나와 내면 속의 나와의 괴리를 무너뜨리고 화합의 손짓을  그러나 종국에서 작가는 여전히 화합되지 않는 자아를 말하고 있다   데이터의 생산  그리고 소비 FAQ 와  Lost in Translation 으로 이루어진 이번 전시는 여러 서비스를 제공하고 있는 구글 Google 을 통해 수집된 방대한 데이터가 생산되고 소비되는 과정을 재현하고 있다  피카사 API 와 연동한 실시간 모자이크 영상과 구글 번역 API v 를 사용하여 제작된 영상은 번역의 오류를 화면 위에 그대로 보여주는 방식을 택하고 있다 인터넷과 네트워크를 통해 구축되는 새로운 내러티브가 이루어지는 과정에서 우리는 소통 수단의 구조에 일종의 블랙박스가 있음을 목격하게 된다  그것은 스크린 위의 모든 가변적 데이터의 움직임에서  번역의 오류에서  또 유료화된 서비스의 문제에서뿐 아니라 미디어가 일상에 깊이 침투한 가운데에서도 발견하게 된다  집단적 기여와 공유를 바탕으로 형성된 관계망은 정교해진 것처럼 보이지만 어쩌면  투명성 transparency 개방 openness 그리고  민주주의 democracy  를 바탕으로 한 개념들은 또 다른 빅 브라더의 출현을 낳은 동시에 통제불능의 상태로 이어질 수 있다  이런 과정이 진화이든  혁명이든 우리는 이미 거부하기 어려운 상황에 놓여 있다 '"
      ]
     },
     "execution_count": 73,
     "metadata": {},
     "output_type": "execute_result"
    }
   ],
   "source": [
    "corpus_raw"
   ]
  },
  {
   "cell_type": "code",
   "execution_count": 74,
   "metadata": {},
   "outputs": [
    {
     "data": {
      "text/plain": [
       "['카페 림보 김한 민 생의 의미와 목적 그리고 사회에 대한 소속감을 철저히 잃어버린 명 림보 족 들이 황 폐함의 나라 제 국에서 벌이는 게릴라 식 저항 과정을 다룬 그래픽 노 블 카페 림보 를 원작으로 한 창작극이 테이크 아웃 드로잉 이태원동에서 최초 상연된다 년 월과 월 테이크 아웃 드로잉 이태원동은 카페 림보 가 된다 작가 김한 민은 극단장이 되고 무대 미술가 이수연은 큐레이터 이자 공간 연출자가 되며 카페 공간은 연극의 무대로 변신한다 극장의 형식에 구애 받음 없이 자유스러운 연극 공간의 창출과 즉흥적 성격을 강조한 환경 연극 의 정신을 이어받아 연극 카페 림보 는 무대와 객석 관람 방식에 대한 고정된 틀을 깨고자 한다 마치 작품들이 살아 움직이는 상상 속의 미술관에 온 것처럼 관람객들은 도슨트의 안내를 받아 공간에 전시된 작품들을 둘러보다가 그 작품들이 스스로 연극을 벌이는 것을 접하게 되며 미리 고안된 몇몇 장치들에 의해 자연스럽게 연극의 한 부분에 동화되는 기묘한 체험을 하게 된다',\n",
       " '그래서 전시 연극 이 이 특별한 연극의 또 다른 이름이다 이 연극적 실험은 카페의 일반 이용객들은 눈길을 끄는 전시물들을 따라 자연스럽게 전시장 이자 연극무대로 변화한 공간을 평소보다 조금 더 자세히 관찰하고 조금 더 새롭게 인지하게 되기를 원작을 아는 독자의 경우는 책이 삼차원 공간에 구현되어 어느 순간 책 속에 들어와 있는 것 같은 경험을 하게 되기를 기대한다',\n",
       " '박 명희 꿈과 자연 이라는 주제로 시각적인 형상과 상상의 나래로 펼쳐진 모습들을 아름다운 색채로 표현해 박 명희 작가는 오랜 세월 그림을 통해 작가의 내면을 더욱 아름답게 치장했습니다',\n",
       " '그것은 일상의 굴레에서 벗어 나 자연이라는 창문을 통해 아름다운 꿈과 영혼의 세계로 떠나는 하나의 여행이기도 합니다',\n",
       " '흩날리는 바람처럼 간결하면서도 가녀린 붓 터치는 사랑에 빠진 신부의 마음을 대변합니다',\n",
       " '밝고 화사한 색채는 앞으로 다가올 밝은 미래에 대한 기대감을 보여주는 장치입니다',\n",
       " '박 명희 작가의 여행에서 만난 순백의 웨딩드레스를 걸친 신부들 작가는 그 신부들을 사랑하고 그들과 삶의 환희를 공유하며 그들을 그리고 있습니다',\n",
       " '잘 어질러 진 방 my place 소소한 욕심들 로 채워진 장소가 존재를 이야기 하다 과 이 있다 은 대체로 부정적인 의미인데 은 하고자하는 의 욕 이란다',\n",
       " '나는 두 가지 욕심 모두를 그린다 소소한 욕심 과에서 비롯된 물건과 이야기들은 내가 없이도 나의 존재를 증명해 줄 나의 방이나 작업실과 같은 공간을 채운다 사람들의 개인적인 장소는 각자의 욕심이 만들어 내는 것이라고 생각한다 욕심이 많은 사람 일 수 록 더욱 더 개성 있는 장소를 꾸리고 있지 않은가',\n",
       " '나는 이러한 욕심이 만들어 낸 세계와 존재 감을 다양한 각도에서 바라보며 욕심을 긍정적인 에너지 일상 그 자체로 표현한다 작품 속 작은 아이는 때때로 감당하기 힘든 버거움 속에서 즐거워하는 듯 보인다 그것은 나를 위협하는 욕심이 아니라 오히려 애정이기에 나에게 욕심은 곧 애정 애착이고 에너지이며 내가 믿는 나',\n",
       " '이다 우리 집 나의 방 작업실의 내 책상 내 자리 나의 서랍 어떤 날이든 내가 있거나 없거나 상관없이 그 자리에서 나의 장소로써 나를 품고 있다 나의 장소에 가득 차 있는 사물이라는 이야기들은 지금도 그 자리에서 나의 존재를 증명하고 있다 처음으로 나의 집을 방문한 사람이 어 지러진 나의 방을 보며 집에 대한 나의 애착을 조금이라도 이해 할 수 있을까',\n",
       " '이 장소가 나에게 어떤 존재인지 전혀 쓸모없어 보이는 물건이 왜 자리를 차지하고 있는지 아무리 설명한들 그대로 느낄 수 있을까',\n",
       " '어 질러진 더러운 방의 리얼리티가 아니라 삼성이나 스타 벅스 같은 리얼리티가 아니라 말로는 다 설명할 수 없는 그 장소에 대한 기억인 것이다 이 물건이 어떤 의미가 있냐고 물으면 대답하기 어렵다 대신 어떤 사연이 있냐고 물어 주기를 바란다 그 물건에 담긴 것은 의미 라기보다 이야기라고 할 수 있으니 긴 여행 후에 차례차례 기억을 떠올리는 것보다 여행 가방을 열고 이야기 하는 것이 더 수월 하듯 사물 은 놓치기 쉽상인 일상 또는 순간의 경험을 회상할 수 있는 흔적이며 일기장 수십 권보다 더 선명하고 오래가는 기록이다 이 풍경이 어질러 진 것인지 진열된 것인지 나와 같은 기분으로 바라 볼 수 있는 사람이 있을까',\n",
       " '나의 커피 잔에 당신이 엄청난 관심을 가져 주길 바라는 것은 아니다 누가 읽기를 바라며 일기를 쓰는 사람은 없다 미니 홈 피 다이어리라면 좀 다르겠지만 나의 그림들은 일기와 같다 다만에 따른 기록이 아니라 장소 또는 사물에 대한 기록이다 각각의 물건이 함께 해 온 시간 만큼의 이야기를 품어 나의 방은 그 곳을 채운 물건들과 따로 떼어놓고 설명 할 수 없는 특별한 곳이 된다 내가 매일 메고 다니는 가방 속은 그 많은 이야기가 담긴 물 건들 로 채워진 작은 나의 방이며 내가 잠시 머물렀던 카페의 테이블들은 그 가방 속의 물건들이 그날 그날의 이유에 따라 놓여 진 나의 장소가 된다 내가 살고 있는 공간 안에서 시작해 내가 지나고 머무는 곳들이 순간 순간의 나의 장소로서 앞으로 계속해서 그려져 나갈 것이며 그려 짐으로 인해 더 특별한 존재로 함께 살아 갈 것이다 종이에 그린 그림을 부드럽고 푹 신한 캔버스에 옮기는 것 누군가는 소묘로 또는 조각으로 사실적인 표현을 하듯이 나는 천을 누비는 기법을 이용해 바느질 선으로 구성된 그림에 약간의 입체감을 가지게 한다 빛에 따라 선 뿐인 그림이 되기도 사실적인 명암이 생기기도 한다 연필로 뎃생을 할 때 생기는 잔 선들과 같이 재봉틀로 그림을 그려 나가는 과정에서 늘어뜨리는 실들은 고정되지 않고 그림에서 뻗어 나와 그때 그때의 새로운 이야기를 만든다 아무것도 그려지지 않은 흰 캔버스가 조명 아래에서 그 얼굴을 드러내기도 다른 느낌의 그림이 되기도 한다 셀 수 없을 만큼 각기 다른 색을 가진 사물들이지만 나에게 무엇 하나 다름없이 소중한 존재 이자 나의 흔적이기에 혼잡한 색이 아닌 그 따뜻한 존재감 혹은 그 에너지만을 그려낸다 부드럽고 따뜻한 덩어리는 나의 애정 어린 욕심의 결정이며 그것을 차원의 종이로부터 차원의 현실로 끄집어내려고 하는 것이다 눈에 보이지 않는 욕심 애정 기억과 같은 것 들이 실 제로 현실에서 부피를 차지하는 존재가 되도록',\n",
       " '부드러운 교란 백 남 준 을 말하다 백 남 준 아트센터의 년도 첫 전시인 부드러운 교란 백 남 준 을 말하다 는 백남 준의 작품 중에서 가장 정치적이었다고',\n",
       " '평가 받는 과 달 카 날 레퀴엠에서 출발합니다',\n",
       " '태평양에 있는 솔로몬 군도의 과 달 카 날 섬은 제 차 세계대전 중 일본군에 대한 연합군의 첫 번째 공세가 펼쳐진 격전지였습니다',\n",
       " '백남 준 이 첼리스트 샬 롯 무어 먼 과 년 촬영한 이 비디오 작업에서 무어 먼 은 해변에서 군복을 입고 총 대신 첼로를 등에 맨 채 포복하고 치유를 의미하는 요셉 보이스의 펠트 천으로 감싼 첼로로 백남 준의 평화 소나타를 연주합니다',\n",
       " '백남 준 은 무어 먼 의 퍼포먼스 당시 참 전자들의 인터뷰 격전 장면을 교차 편집하고 이미지들을 겹치거나 색상을 변조하는 등의 조작을 통하여 이 작품을 완성하였습니다',\n",
       " '년대 유럽과 미국에서는 신구 세대 간의 갈등이 극에 치달으며 혁명을 비롯한 기존의 사회질서에 강력하게 반대하는 운동이 끊임없이 일어났습니다',\n",
       " '이러한 움직임은 문화 예술계에서도 마찬가지였습니다',\n",
       " '특히 비디오는 대다수의 관객과 공유할 수 있는 기기의 특성상 세상을 변화시키기 위한 도구로 각광 받으며 부 조리한 세상에 도전하는 예술가들에게 중요한 도구가 되었습니다',\n",
       " '과 달 카 날 레퀴엠 은 세계를 파괴하는 전쟁의 속성뿐만 아니라 사회적 금기에 대한 저항을 담아낸 비디오 작품입니다',\n",
       " '이 작업은 년 뉴욕의 카네기 홀에서 감옥에서 정글로 라는 제목으로 처음 선보였는데 여기에서 감옥은 무어 먼 이 년 옷을 벗은 채 첼로를 연주했던 오페라 섹 스트로 닉 공연을 의미합니다',\n",
       " '백남 준 은 음악 분야에서 금기 시되던 성 을 전면에 내세워 클래식 음악은 성스러워야 한다는 통념에 저항하였습니다',\n",
       " '이는 보수적인 미국 사회에 충격을 가한 사건으로 이후 백 남 준 은 문화 테러리스트로 불리기도 했습니다',\n",
       " '과 달 카 날 레퀴엠 을 통해 전쟁에 대한 기억과 트라 우마가 승자와 패자 모두에게 상처 임을 환기시키면서 백 남 준 은 시공간을 넘나드는 비디오 샤먼으로 존재합니다',\n",
       " '또 한 그는 유목민적인 예술가의 삶을 통해 각기 다른 세계와 소통하고 경계를 넘나드는 부드러운 교란자이기도 했습니다',\n",
       " '이번 전시에서는 백남 준의 부드러운 교란을 보여주는 과 달 카 날 레퀴엠 오페라 섹 스트로 닉 과 함께 백남 준 에게 정치적인 예술이란 무엇인지 사회 참여란 무엇인 지에 대한 질문을 던지는 작품과 자료들이 전시됩니다',\n",
       " '세 가지 공간 그리고 하나의 풍경 저희 롯데 갤러리 일산 점에서는 신년 특별 기획전으로 space scape 를 마련하였습니다',\n",
       " '전시 제목에서 scape 는 풍경 의 의미로 space 에 scape 를 붙여 전시장 안의 특색 있는 공간이 겹쳐져 공간이 이루는 풍경 의 의미로 space scape 이라 정하였습니다',\n",
       " '공간을 주제로 작업하는 세 명의 작가가 나름의 방법으로 재해석한 세 가지 공간이 이어져 하나의 풍경이 된 이 공간의 매력으로 빠져들어 보시길 바랍니다',\n",
       " '김용 관 재구성된 시점의 공간 우리의 눈으로 한번에 포착하기 어려운 장면을 평면 안에 작품으로 담아 가상세계 체험을 가능하게 합니다',\n",
       " '김용 관의 대표작인 PARALLAX VIEWPORT 를 통해 우리가 볼 수 없는 다양한 각도에서 물체를 동시에 바라보는 시점을 제공해 주며 상상으로만 가능하였던 장면과 경험을 선사합니다',\n",
       " '김 병 주 무한한 가능성의 공간 선을 중첩시켜 공간을 만들어 내는 김 병주의 작품에는 안과 밖이라 규정짓는 그 경계 자체가 모호합니다',\n",
       " '안과 밖의 뚜렷한 경계가 없고 명확한 구분은 사라져 안과 밖 그 사이에 새로운 공간이 생겨나고 그림자로까지 확장 되는 무한한 가능 선의 공간을 선보입니다',\n",
       " '김 민정 초현실이 녹아 드는 공간 김 민정은 봄과 겨울이 공존하는 새로운 공간 을 만들어 냅니다',\n",
       " '다른 두 개의 시간과 장소가 한 화면에 합 쳐져 완전히 새로운 시공간이 만들어 집니다',\n",
       " '신작 꽃피는 봄이 오면 은 사진과 영상을 결합하여 조각적으로 표현한 새로운 시공간을 보여줍니다',\n",
       " '꽃들의 외출 황 규 태 황 규 태 한국 현대사진의 아방가르드 한국 현대사진 사의 맥락에 있어서 황 규 태 작가는 너무나 독보적인 위치를 점유하고 있습니다',\n",
       " '포스트모던 사진에 관한 논의가 본격화 되기 훨씬 이전 인 년대부터 이미 대담한 작업으로 충격과 논쟁을 불러왔습니다',\n",
       " '황 규 태 꽃들의 외출 은 기법과 주제에 있어서 유형과 경향 사조를 특정할 수 없는 다양한 실험과 시도를 보여준 아방 가르 디스트의 한 단면을 만 나 보고자 합니다',\n",
       " '매혹적인 꽃들의 향연 꽃들의 외출 은 꽃을 테마로 한 년대 초반의 작업들입니다',\n",
       " '작품의 꽃은 가짜와 진짜가 혼재되어 있으며 살아 있는 것과 죽은 것의 구별이 모호하고 활짝 피어난 봄 꽃에서 삭아서 사라져 가는 낙엽 흩날리는 홀씨 말라 바스러진 꽃 등 시점과 형태가 다릅니다',\n",
       " '사진을 촬영한 방법도 다르고 촬영 후 처리 과정에서도 스트레이트 한 재현에서 과장된 포토샵까지 보정과 변형의 정도 차도 큽니다',\n",
       " '꽃 이라는 비슷한 소재의 작품에서 살펴볼 수 있는 이런 시각과 관점 태도 제작방식의 다양함과 자유로 움은 황 규 태 작품세계의 뚜렷한 특징입니다',\n",
       " '현실의 평범함을 뒤트는 유머와 익살 공인된 고상함을 희롱하는 반골적인 키 치성 아 카데',\n",
       " '믹한 규정이나 기존 방식을 가볍게 넘나드는 반사진적 태도가 테크놀로지 속에서 피어납니다',\n",
       " '그럼에도 숨긴 꽃에서 향기가 피어나듯 느껴지는 우 아함과 서 정성은 채집 차용 합성 변형과정을 매만지는 작가의 미학적 작위와 저변의 정서를 보여줍니다',\n",
       " '가짜가 아름답다 진짜보다 아름다운 가짜 가짜보다 비현실적인 현실의 이미지는 오랫동안 가지고 있던 관념을 뒤엎는 작가의 도발입니다',\n",
       " '관객은 아름다움이란 인식은 공인되고 확정될 수 있는 것인가 자연스러움이란 허상인가 실상인가 현재라는 이미지는 명징한 사실 인가에 대한 혼돈스러운 자문과 자답을 반복하게 될 것입니다',\n",
       " '디지털시대 테크놀로지를 매개로 펼쳐진 우리가 살고 있는 이미지 세 계의 매트릭스를 만 나 보시기 바랍니다',\n",
       " 'Fashion과 Passion 사이 드로잉 은 어 반 아트가 젊은 예술가들을 지원해 주기 위한 공간으로써 한해의 시작을 도전적으로 살아가는 세 여성 작가의 전시를 통해 그들의 도전 정신을 칭찬하고 새해를 힘차게 시작하고자 한다',\n",
       " 'Fashion과 Passion 이라는 주제의 이번 전시는 인의 여성 모두 여성과 패션을 주제로 하고 있으며 패션과 일 러스트 평면 꼴라 쥬를 선보이게 된다 이 장르들이 공통점이 없다고 생각할지 모르나 이들 세 여성 작가들은 옷과 섬유 fashion 이라는 공통의 관심사로 귀착되어 다양한 전공의 섭렵과 크로스 오버된 활동 영역을 덧입힌 발전된 결과물을 보여주고 있다 호기심 많고 욕심 많은 그녀들의 Passion DNA를 한 자리에서 느껴 보고자 한다 미국 시카고 아트 인 스티튜트에 서 화인 아트를 전공하던 최유주는 수준급의 바이올린 연주 실력의 소유자로서 일찍이 한복을 모티브로 한 발칙한 아이디어로 미국 교수들의 극찬 속에 전도 유망한 의상 디자이너의 길로 전공을 바꾸게 되었고 건축 미술 음악 등 동 서양의 문화를 폭넓게 녹여 내는 재주 있는 예술가이다 김현 영은 의상 디자인을 전공하였으나 지금은 뉴욕의 School of Visual Art에서 일 러스트를 전공 공부하고 다양한 책 디자인에 관한 전시와 활동을 뉴욕에서 하고 있다 케릭터 디자인을 전공하고 일본으로 건너가 일 러스트 레이션을 전공하던 정 유민은 예술이 밥 먹여 주냐',\n",
       " '는 어머니의 만류에 못 이겨 한국으로 돌아온 이후 백화점 판매원 빵집 등에서 일을 하면서도 그녀만의 레이스 꼴라 쥬 작품을 완성시킨 고집 있는 아티스트이다 전세계가 불황의 늪에서 허덕이고 모두 불경기를 한탄하며 예술이 밥 먹여 주냐',\n",
       " '고 하지만 이렇게 현실과 이상 사이에서 좌충우돌 하며 열정적으로 작업하는 젊은 예술가들이야말로 이 각박한 현실을 풍요롭게 만드는 우리의 희망이고 궁극에는 도시와 산업에 시각문화의 정신적 밥 을 주는 것이다',\n",
       " 'Beyond 본 전시회의 사진들은 나의 정신적 판타지의 세계를 보여주는 작품들이다 나의 정신적 세계는 존엄 평화 그리고 자족감으로 충만 되어 있다 그것은 내가 평생 동안 품어 온 나의 꿈에 대한 시각적 표현이 기도 하다 나의 꿈은 나 자신과 타인과의 관계를 초월할 수 있는 완전한 자유를 실현하는 것이다 나의 삶은 타인이 아닌 나 자신을 위하여 선택된 것이다 모든 인간은 각자 그 자신을 위해 존재해야 한다 어떤 한 개인의 과도한 욕망 분출은 그 자신을 해칠 뿐만 아니라 동시에 그 주위의 사람들 까지도 쉽게 해칠 수 있다는 사실을 나는 무수히 관찰한 바가 있다 그러한 욕망의 과도 한 분출은 경쟁이 아니라 타인의 삶에 대한 부당한 지배에 불과하므로 결코 장기간 지속될 수 없는 것이다 나는 유화를 매우 좋아한다 특히 나는 Johannes Vermeer와 Claude Monet로부터 많은 예술적 영감을 받아 오고 있다 이들 화가들의 작품의 대표적 특징은 빛의 효과를 극대화시킨 점이다 따라서 나는 이들의 유화작품과 유사한 느낌을 줄 수 있는 사진 작품을 만들어 내려고 오랜 기간 노력해 오고 있다 이번 전시회에 출품된 나의 사진들은 회화주의 작품으로서 빛의 효과를 최대한 살린 작품들이다 그리고 나는 개인적으로 아름답고 지적인 작품들을 선호하므로 디지털 후보 정 기술을 과감하게 활용해서 예술적 아름다움도 동시에 추구하였다 이러한 나의 사진에 입각한 광의의 디지털 아트는 디지털 기술의 혁명에 따른 동시대 현대미술의 대변혁과도 부합하는 것이므로 향후 디지털 미디어 아트의 발전에도 좋은 기여를 할 수 있을 것으로 기대된다 이번 전시회는 유럽 예술 소비자들의 수요를 우선적으로 감안한 것이므로 그들의 예술적 취향도 적극적으로 반영한 것이다 끝으로 이러한 나의 조그만 노력이 한류문화의 전세계적 확산과 더불어 사진 예술 분야의 세계화에도 긍정적인 역할을 할 수 있기를 소망해 본다',\n",
       " '김 지혜의 사진 도시 생태학 도시를 스캔하는 이미지 헌 터 사진은 가히 이미지의 제왕이랄 만하다 이미지를 생산하고 소비하고 유통하고 유포하는 것으로 치자면 사진만한 매체는 없다 미술의 꽃이랄 수 있는 회화의 자리를 밀어냈다고',\n",
       " '나 할까 더욱이 회화는 미술에 한정되지만 사진의 가두리는 따로 없다 이처럼 사진은 일상과 이상의 경계 모두를 아우르는 탓에 일상 속에 더 깊고 넓게 파고들 수가 있었다 그리고 디지털 이후에는 이상의 영역과 범주마저 넘나든다 현실적인 것은 물론이거니와 상상할 수 있는 것이라면 무엇이든 즉각 이미지로 구현시켜 준다 사진은 원래 현실의 반영이었고 현실적인 것의 증거며 증명이었다 다큐멘터리와 르 포르타 주 그리고 스트레이트 포토가 그랬다 유태인 학살 현장을 찍은 한 장의 사진이 내 삶을 송두리째 바꿔 놓았다는 수전 손택의 회고에 등장하는 사진이 그렇다 이처럼 사진이 진실을 증언하기 위해서 호명되어 졌다면 디지털 이후 사진은 진실보다는 거짓을 증언하기 위해서 더 많이 더 자주 호출된다 각각 리얼리티를 증명하는 사진과 상상력을 구가하는 사진 현실을 반영하는 사진과 가상현실을 열어 놓는 사진이 사진의 두 축을 견인하면서 사진의 표현 영역을 확장시키고 있는 것 덩달아 처음에 현실과 가상현실은 분리되어 졌지만 점차 그 구분이며 경계가 흐릿 해진다 그리고 마침내 가상현실이 현실의 일정 부분을 대체하기에 이른다 픽 처 레 스크 곧 그림 같은 풍경이라는 세속적인 표현에서 이런 현실과 가상현실의 전복현상이 예시된다 풍경 현실 이 그림 가상현실 의 기준이 되는 대신 그림 가상현실 이 풍경 현실 의 잣대가 되고 있는 것 가상현실이 현실의 근거가 되고 그 자체 또 다른 현실이 된 것이다 그렇게 가상현실은 현실의 의식을 넘어 무의식을 파고든다 여기에 판화가 가세된다 각종 사진제 판법의 이름으로 수행되는 판화를 사진과 구별하게 해 주는 근거는 그저 장르 상의 명분에 지나지 가 않는다 어떤 판화는 사진으로 볼 수가 있고 어떤 사진은 판화로 볼 수가 있다 이렇게 사진은 현실과 가상현실의 경계를 넘나들고 장르의 벽을 넘는다 김 지혜는 판화를 전공했지만 진즉 에 판화와 사진과의 친족성에 주목했고 흥미를 느꼈었다',\n",
       " '그런 탓에 사진과 판화 모두를 아우르는 독특한 형식의 지점에 이를 수가 있었고 현실과 가상현실이 혼성된 남다른 비전을 열어 보일 수가 있었다 김 지혜는 카메라를 들고 도시를 배회한다 흡사 느와 르 영화장면 같은 스산한 도심을 파고들어 적당한 사냥감을 찾아 카메라 셔터를 누른다 적당한 사냥감이라고는 했지만 엄밀하게는 익명의 사냥감이라고 해야 할 것이다 익명은 도시의 파사드고 페르 소나며 아 키 타입이다 익명을 찾아 헤매는 건 대신 카메라를 들고 도시를 스캔하는 이미지 헌 터라고 나 할까 그렇게 도시의 이곳저곳이 카메라에 붙잡힌다 그리고 컴퓨터 작업을 하는데 도시에 대한 작가의 인상이며 해석이 이때 만들어 진다 만들어 진다 사진은 찍는 사진과 만드는 사진으로 나뉜다 편의 상 사진의 물길은 찍는 사진에서 만드는 사진 쪽으로 흘러 왔다고',\n",
       " '볼 수가 있겠다 작가의 사진에는 찍는 사진과 만드는 사진이 모두 들어 있다 이미지를 채집하기 위해 찍는 사진이 입력단계에 해당한다면 그렇게 찍은 사진을 컴퓨터를 통해 만들고 조작하는 과정이 출력단계에 해당한다 그렇다면 작가는 왜 사진을 만들고 조작하는 가 만드는 사진은 사진을 만들 뿐만 아니라 도시에 대한 인상과 해석도 결정짓는다 사진을 조작하는 이유가 도시에 대한 인상과 해석을 재현하기 위한 것이라는 말이다',\n",
       " '그러므로 작가에 의해 재현된 도시는 객관적 현실의 재현이기보다는 주관적 해석을 통한 재현이다',\n",
       " '그럼에도 도시에 대한 인상이며 경험이 대동소이한 연유로 인해 재차 객관적 현실성을 얻는다 바로 중첩된 도시 흐르는 도시 부유하는 도시다',\n",
       " '중첩된 도시는 저마다 다른 이해관계가 포개져 있음을 표상한다 그리고 도시는 흐르고 부유한다 도시가 흐르고 부유하는 것은 뿌리 없는 사람들을 표상한다 이처럼 뿌리 없는 사람들이 밀물처럼 들어왔다가 썰물처럼 빠져나간다 그리고 그 물길과 물길 사이로 노이즈가 끼어든다 저마다 다른 속 내며 이해관계가 잡음을 일으키면서 도시의 소리를 생성시킨다 그 소리를 시각 언어로 옮겨 보면 사람들은 저마다 보고 싶은 것을 보고 저마다의 관점에 따라서 본다 같은 것을 보면서 다른 것을 본다 저마다 보고 싶은 것을 보므로 지엽적으로 보고 저마다 보고 싶은 대로 보므로 왜곡된 형태로 본다 이처럼 저마다의 이해관계가 밀어 올린 지엽적인 시각과 왜곡된 형태야말로 도시인의 공통경험일 것이라고 작가는 진단한다 바로 도시에 대한 작가의 인상이며 해석이다 이렇게 마치 초점이 나간 것처럼 흐릿 한 사진 피사체의 주변이 겹쳐 보이거나 흔들려 보이는 사진 예각이 긴장감과 불안감을 불러일으키는 사진이 도시의 표상으로서 제안되고 있는 것이다 그리고 여기에 콜라주나 먹 선 드로잉이 부가 되지만 대개 도시의 인상이며 성격은 사진 자체에서 이미 상당할 정도로 결정된다 그리고 이렇게 결정된 도시의 인상이나 성격은 설치형식을 통해 현실성이 강화된다 마치 소리 없는 노이즈를 듣는 것 같은 보이지 않는 이해관계의 네트워크 속에 들어와 있는 것 같은 생생한 현장감을 주는 것이다 이처럼 김 지혜는 진즉 에 도시에 주목했고 도시의 생리를 작업으로 옮겨 놓는 일에 관심을 기울여 왔다 그리고 도시의 생리를 작업으로 옮기는 일에 사진과 컴퓨터가 중요한 수단이며 방법을 제공하고 있다 꼭 그렇다고',\n",
       " '단언할 수는 없겠지만 사진과 컴퓨터라는 매체나 매체적인 특수성은 도시의 생리에 부합해 보인다 일종의 도시 생태학이 주제라고 할 수가 있을 것인데 주제와 표현 방식 모두가 무리가 없어 보이고 조화를 얻고 있다는 생각이다 속된 표현을 빌리자면 주제와 방법의 궁합이 맞아 떨어진다고 나 할까 이를테면 이미지와 이미지가 서로 반영하고 중첩되는 것을 통해 복잡하게 얽힌 이해관계의 네트워크를 표현하고 전달하는 식이다 가장자리가 겹쳐 보이고 흔들려 보이는 이미지를 통해 저마다의 관점과 관점이 부닥치고 충돌하는 노이즈 차이가 만들어 내는 잡음 를 표상하는 식이다 이렇듯 작가는 진즉 에 사 진과 컴퓨터라는 매체에 매료됐고 익숙했다 그렇게 컴퓨터를 만지고 놀다가 재미난 사실을 발견했다 우연성이 개입해 최초 입력한 이미지를 왜곡하고 예기치 못한 이미지를 만들어 낸다는 사실이다 그리고 그렇게 근작에 이른다 원래 판화와 사진이 결부된 방식의 작업을 하다가 마침내 본격적인 사진을 만드는 사진을 디지털 사진작업을 선보이기에 이른 것이다 그 과정을 보면 컴퓨터 상에서 최초 입력된 정보를 왜곡하고 변형하는 것인데 실제 풍경이 가지고 있는 이미지와 공간 일부를 컴퓨터 프로그램을 통해 마우스로 밀어낸다 판화와의 연관을 생각한다면 마우스는 일종의 전자 스퀴지 내지는 디지털 스퀴지에 비유될 수가 있겠다 그리고 회화와 관련해 보자면 마우스가 그림을 그리는 붓을 대신한 것이란 점에서 마우스 페인팅과 비교되는 일종의 마우스 포토로 명명할 수도 있을 것이다 알다시피 컴퓨터 상의 이미지는 픽 셀로 이뤄 져 있다 작가는 이 툴 컴퓨터 프로그램과 마우스가 연동된 을 이용해 픽 셀 을 유동화 시키는 것이다',\n",
       " '이렇게 해서 적어도 논리적으로 볼 때 컴퓨터 상의 이미지를 의도한 대로 왜곡하고 변형하고 견인할 수 있는 환경이 만들어 진 것이다 그 과정에서 예기치 못한 우연성이 개입되는 것인데 전작에서의 콜라주나 먹 선 드로잉이 그랬던 것과도 같은 우연적인 요소와의 놀이를 즐기는 것이다 한편으로 이처럼 우연성의 놀이라고 해서 자칫 작가의 작업을 가볍게 생각할 수도 있지만 사실은 전혀 그렇지 가 않다 우연성은 말 그대로 예상할 수도 통제할 수도 없는 탓에 수많은 실패를 거듭 해야 하고 그렇게 축적된 실패가 뒷받침된 어떤 감각적 지점이 가늠된다 작가는 그렇게 가늠된 감각적 지점을 실마리 삼아 원하는 이미지를 찾아가고 찾아내는 것이다 실로 우연성의 바다와 감각의 바다를 헤집는 일에 비유될 수가 있겠다 그렇게 마우스가 지나가면서 만들어 낸 이미지며 최종적으로 출력된 이미지는 어떤가 마치 사물 고유의 색상을 긴 색 띠로 분해해 놓은 것도 같고 시공간을 길게 늘여 놓은 것도 같고 감각적 현실이 졸지에 추상적인 현실로 변모되고 변질된 것도 같다 길게 늘 여진 시공간이 현실감각을 흔들어 놓으면서 아찔한 현기증을 불러일으킨다고 한다면 좀 과장적인가 아마도 사진이 지금보다 더 커진다면 좀 더 실감 날 것이다 상대성의 원리에서처럼 시공간이 좌표를 잃고 임의적으로 늘어나고 줄어드는 현실 아님 비현실 을 예시해 주고 있다면 좀 비약적인가 여하튼 분명한 것은 알 만한 현실이 졸지에 낯설어 보인다는 점이다 아방가르드의 낯설게 하기를 떠올려 주는 대목이다 현실은 보이는 것이 다가 아니고 보이는 대로도 아니다 익숙하면서 낯설다 도시를 소재로 한 것이란 점에서 익숙하고 왜곡되고 변형된 이미지란 점에서 낯설다 바로 도시의 두 얼굴을 표현한 것이며 도시의 양가 성을 표상한 것이다 도시는 친숙하면서 낯설다 안 봐도 비디오인 친숙한 이미지들 로 축조된 것이지만 그러나 그렇게 알 만한 이미지들은 그 이면에 생경하고 낯 설은 이미지를 숨겨 놓고 있다 캐니 와 캐니의 그림자에 해당하는 언 캐니를 숨겨 놓고 있는 것이다 도시의 이미지를 스트라이프로 분해해 놓고 있는 작가의 디지털 포토는 이렇듯 도시의 양가 성을 표상한다 그 표상형식은 꽤나 세련되고 감각적이다 그리고 무엇보다도 도시적인 감수성이 느껴진다',\n",
       " 'Maden Pictures 아라리 오 갤러리 청담은 년 첫 전시로 Maden Pictures 메이든 픽 쳐스 을 개최한다 이번 전시는 년 아라리 오 갤러리 천안에서 기획된 Maden Pictures 사진 그룹 전의 연계 전시로서 영상작품까지 포함하여 그 범위를 확장하였다',\n",
       " 'Maden 이라는 단어는 Made Make의 과거 분사 에 en을 붙여 만든 신조어이다 재현의 도구로 탄생된 사진은 현대에 들어 더 이상 전통적인 범주에만 국한되지 않고 여러 가지 개념의 매체로 적극 활용되고 있다 사진은 매체의 기록적 수단인 순간의 미학 을 보여주며 발전해 나갔지만 현대 작가들은 우연성과 기록 성을 넘어서며 새로운 작품들을 창조해 내는 방법들을 끊임없이 연구하고 있다 이렇듯 작가의 의도에 의해서 만들어 진 프레임 속 정지된 장면과 영상들은 철저히 계획되어 수동적으로 만들어 진 Maden 이라는 단어의 의미와 상통한다 우연을 가장하지 않은 Maden Pictures 작품 속 인물과 배경들은 서로 다른 흥미로운 스토리를 내포한다 각 작품 속에는 개인 또는 군집의 인물 모델이 등장하는데 각기 다른 장소 시간대 의복을 넘어서 현대가 아닌 다른 시대의 연출까지 다양한 작품 속 배경과 상황들은 관람객의 호기심을 증폭시킨다 곽 현진의 사진 속 교복을 입은 소녀들은 무리를 지어 어떠한 일렬의 행동을 보여주고 있는데 스웨덴의 아름다운 환경과 대조되어 알 수 없는 우울함을 표출한다 김아 영의 PH 익스프레스 는 년 영국의 거문도 섬 점령 사건을 배경으로 당시 영국군의 일상을 연기하는 배우들이 등장하는데 숨겨 진 역사에 대한 흥미로운 사건을 되짚었다 박 현두의 사진 속 등장인물들은 화려한 방송국 세트 장에 홀로 등장하여 단절되고 고립된 개인상을 보여주고 있다 오용석은 공간적 맥락이 비슷한 여러 개의 이미지와 영화를 재조합하여 새로운 시공간과 이야기를 만들었는데 이미지가 하나로 연결될 뿐 연관성은 찾을 수 없고 오히려 이미지에 대한 진실과 환영에 대한 의구심을 보여준다 장 성은의 작품 속 인물들은 길가에 일렬로 서 있거나 봉투에 들어가는 등 행위를 통해 한 특정공간을 채우는데 작가는 우리가 생활하는 공간과 일상을 인간 만이 인식하고 측정할 수 있는 방식으로 이야기하고자 한다 이렇듯 Maden Pictures 에서는 사진과 영상을 종합예술로 승화시켜 완성해 나가는 다섯 작가의 각기 다른 작품 세계를 감상할 수 있다 이번 작품들은 셔터를 누르거나 영상을 담아내는 찰나의 순간 이전에 수많은 시간과 노동을 요하는 제작 과정을 역으로 되짚어 보게 한다 또한 영화나 연극 그리고 독립적인 공간을 재배열하여 사물과 인물들을 의도적으로 연출하여 완성시킨 작품들은 우연성을 뛰어넘은 사진의 본질적 의미와 새로운 작품의 의미를 동시에 성찰할 수 있는 기회를 제공한다 이렇듯 변형되고 가공된 작품 속 시공간들은 때로는 서로 다른 시공간을 연결함으로써 끊임없이 확장해 나가면서 무한한 가능성을 보여주고 있다',\n",
       " '순수한 색채로 꾸며 지는 고향의 추억 고향은 누구에게나 영원한 그리움의 대상이다 세상을 배우는 어린 시절은 호기심으로 가득 차 있기 마련이어서 무엇 하나 그냥 스치지 못한다 그러기에 어린 시절의 일들은 추억의 창고에 차곡차곡 히 쌓이게 마련이다 그 추억이 불현듯 고향에의 그리움을 일깨우는 것이다 화가들이 고향 얘기를 작품의 제재로 삼는 것도 이미 까마득한 일들임에도 불구하고 생생하게 재현할 수 있기 때문이다 추억의 창고에서 간단히 끄집어내면 되는 까닭이다 그것을 재현하거나 가공하여 독자적인 언어로 변환하는 것이다 정 영모의 최근 작업은 자신의 고향 얘기로 꾸며 진다 그 고향 얘기는 필경 어린 시절로 소급하기 십상이다 어쩌면 그에게는 거의 반세기 쯤 전의 일들인지도 모른다 그러기에 그림 속에 등장하는 고향의 이미지는 현실성을 상실하고 있다 어린 시절의 추억이란 옛 흑백사진과 같은 낡은 정서를 간직하고 있다 다시 말해 현실적인 눈으로 보면 현대문명이 개입되지 않은 전래의 삶의 방식이 고스란히 남아 있어야 하는 것으로 이해된다 발전되거나 진화되지 않은 정지된 시간 속의 이미지 여야 하는 것이다',\n",
       " '하지만 그는 퇴색한 흑백사진이 보여주는 남루한 이미지와는 사뭇 다른 밝고 화사한 색채 이미지로 꾸며 놓는다 그림 속에 등장하는 형상들은 현실로부터 멀어 져 간 옛 시간에 맞추어 져 있음에도 불구하고 칙칙한 색깔을 떠나 형형색색의 비단처럼 밝고 고운 색채들 로 꾸며 지고 있다 이는 어린 시절의 고향에 대한 진정한 동경 이자 헌사인 것이다',\n",
       " '물론 그가 자란 어린 시절은 누구에게나 궁핍한 시기 여서 결코 아름다운 추억만이 있다고',\n",
       " '는 할 수 없다 그런데도 그에게는 아름다운 꿈의 공간이었다 실제로 꿈이 많고 감수성이 풍부한 어린 소년이라면 세상 그 자체가 아름다운 정원일 수 있을 수도 있다 그의 작품이 티 없이 맑고 아름다우며 순수한 원색적인 이미지로 표현되고 있는 것은 지극히 자연스러운 일일 수 있다 어린 시절의 아름다운 추억을 순수한 원색으로 표현하는 것은 억지스러운 일이 아니다 소박 파의 그림들이 모두 원색적인 성향을 보여주는 것은 우연이 아니다 순수하고 천진한 시각으로 바라보는 세상은 단순하면서도 밝은 곳일 수밖에 없기에 그렇다 그의 작업은 원경의 자연 풍경을 배경으로 전면에 꽃가지를 배치하는 이중 구조로 되어 있다 전면의 꽃은 현실이고 아스라이 멀리 보이는 원경은 어린 시절을 의미하는지 모른다 따라서 작품마다 모두 꽃가지 사이로 바라보는 수평구도의 풍경이 자리한다 수평구도는 안정적이고 평화로운 감정을 불러일으킨다 뿐만 아니라 멀리 떨어진 원경의 수평구도일 경우에는 그리움의 정서와 맞닿는다 소나무 숲이나 젖소들이 풀을 뜯는 목장 그리고 초가집 또는 기와집이 어깨를 맞대고 줄지어선 풍경은 아득히 먼 과거의 시공간으로 보이기에 그렇다 그의 작품 대다수가 원경의 수평구도인 것은 고향의 정서를 표현하는 데 용이하기 때문이리라',\n",
       " '그런데 그 수평구도는 특이하게도 근경이 존재하지 않는다 다만 화면의 전면에 드리운 꽃가지는 발처럼 시야를 가로막고 나서지만 꽃가지 사이로 바라다 보이는 풍경은 더욱 멀어 보인다 이러한 방식의 공간 설정은 아득한 과거의 시간을 상정하기에 효과적이다 아득히 멀리 보이는 고향의 정경은 그리움의 정서를 촉발하기 마련이다 그의 작품에 등장하는 풍경 및 소재는 추억의 곳간에서 빌려 온 것 들이다 소나무 숲과 목장 초가집 기와집 담배 건초 장 나무 젖소 호랑이 달 새 꽃 도자기 따위는 모두 추억과 관련한 것 들이다 이들 소재가 이리저리 이합 집산하면서 하나의 작품을 만들어 낸다 따라서 작품마다 단편적인 에피소드가 존재하기 마련이다',\n",
       " '그 에피소드는 내용이 무엇이든지 간에 시적인 함축과 긴장이 자리한다 한 눈에 파악되는 실제의 풍경이 아니라 단편적인 이미지들의 모음이기에 스토리가 존재하지 않는다 대신에 서 정성이 농후한 시적인 함축미가 들어앉는다 이처럼 서 정적인 구조를 가지고 있는 그의 고향 얘기는 누구에게나 개인적인 추억과 관련한 설화를 만들어 준다 그림과 마주하고 있는 순간 그 이미지를 통해 감상자 자신의 추억과 고향을 연상하게 만드는 까닭이다 까마득히 잊고 있던 고향의 정서 그 순수한 시간 속으로 안내하는 것이다 그리하여 잠시나마 복잡다단한 현실과 동떨어진 어린 시절을 찾아 나서는 꿈의 여행을 하게 된다 또한 죄 없는 밝고 맑고 투명한 색채를 통해 감정의 샤워를 맛보게 되는 것이다',\n",
       " '향기가 움트다 대한 항공 서소문 빌딩 층 로비에 위치한 일 우 스페이스 SPACE 는 추운 겨울 봄을 기다리며 년 첫 기획 전시로 월 향기가 움트다 을 오픈한다 일 동안 진행되는 이번 전시는 일우 스페이스의 기획 그룹 전시로 매화를 소재로 한 회화 구성 연 차 규 선 허 달재 홍지 연 홍지 윤 작품들이 일우 페이스의 독특한 공간과 만 나 한 층 높은 격조의 미감을 선보이며 매화의 맑은 향기를 느끼게 하는 전시이다 혹독한 추위 속에서도 꽃 봉우리를 움트며 가장 먼저 봄을 알리기 위해 준비하는 매화 매화는 어김없이 새해 봄에도 꽃을 활짝 피울 것이다',\n",
       " '매화의 청아하고 은은한 향기는 사람들에게 새로운 봄을 새로 운 시작이 왔음을 알려준다 조선 시대에 손꼽히는 문장가였던 신 흠의 시조에 매일 생한 불매향 이라는 한 구절이 있다 이것은 매화가 평생 추위에 살면서도 향기를 팔지 않는다는 의미이며 시련 속에서도 지조를 잃지 않는 고결한 선비의 정신을 비유하기도 한다 유난히 추운 겨울의 한기가 몸을 움추리게 하고 국내외적으로 지속되는 경제위기는 사람들의 마음까지 얼어붙게 하고 있다 옛 우리의 선비들은 추운 겨울 추위가 한바탕 뼛속 깊이 사무치지 않고 서야 어찌 코를 찌르는 매화꽃 향기를 맡을 수 있겠느냐며 스스로의 결기를 다잡았다고',\n",
       " '한다 지금 현실의 추위가 우리를 움추리게 할 때 비로소 청아한 향기를 마음 속 깊이 느낄 수 있을 것이다 전시장에 만발한 매화를 보며 사람들이 잔설을 이기고 피어나는 설중매 의 아름다운 모습과 향기를 마음에 새겨 보길 바란다 또한 힘든 상황 속에 휩쓸려 자신의 향기를 쉽게 잃지 않았는지 돌아보고 더불어 새로운 봄을 향해 도약할 수 있는 힘을 얻게 되는 시간이 되길 기대한다',\n",
       " '만성깝깝증에 걸린 방랑자 시대가 걸리는 병을 좁게 사회가 걸린 병이라고 하고 더 좁게 말하면 마음이 걸리는 병이라고 할 수 있다 마음이 걸린 병을 우린 정신병이라고 한다 이 정신병이라는 단어의 어감이 불편하게 한다 마치 근친 상간이라는 단어를 듣기라도 한 것처럼 소름이 돋는다',\n",
       " '그래서 이 어감을 사랑하는 의사를 방문하기로 했다 의사 무슨 일로 오셨죠',\n",
       " '나 난 이미 내 병의 이름도 내가 이 병에 걸린 이유도 알아요',\n",
       " '의사 그렇다면 올 필요가 없었겠죠',\n",
       " '나 이건 당신도 이미 걸린 병이잖아요',\n",
       " '의사 난 멀쩡해요',\n",
       " '멀쩡하지 않으면 어떻게 치료하겠어요',\n",
       " '나 멀쩡하지 않아요',\n",
       " '멀쩡한 척을 하고 있는 거죠',\n",
       " '쉽게 말해서 지금 우린 연기를 하고 있는 거예요',\n",
       " '난 환자 당신은 의사 내가 걸린 병은 깝깝함으로 마음이 무거워 지면서 마음껏 움직이지 못하게 되는 병이에요 한 사람 몫을 하며 지켜야 할 것 들을 지키기 위해 갈팡질팡 하다가 진정 자신이 하고 싶은 일들을 등 안 시하게 되는 거죠',\n",
       " '의사 그러면 전 어떻게 해야 되는 거죠',\n",
       " '사이 나 살아 가야죠 깝깝함의 원인은 자유의 부재이다 일에 얽매여 있는 사람들 이불 속에서 발효되는 니트 족들부터 경제적 사회적으로 지위를 가진 사람들 마저도 현실과 이상의 괴리를 느낀다 당신도 이미 알고 있다시피 그 때 밀려 오는 깝깝함은 이루 말할 수 없을 정도로 잔혹하다 꿈속에서도 진정한 자유를 한두 번 느껴 볼까 말까 다 나의 경우는 초등학교 때부터 무언가 좀 해내야지',\n",
       " '하는 강박을 스스로 만들어 내 만성이 되고 말았다 그것은 심적 억압으로 항상 마음 한 부분을 꿰차고 숨을 조인다 이런 내가 나와 같은 병을 앓는 현대인들에게 줄 수 있는 건 공감이다 마음의 응어리를 친구에게 말하고 말하다 보면 고통이 덜어 지듯 내가 프레임으로 바라보는 세상을 보여주고 관객 또한 사진 속에서 생각에 사로잡혀 보면 그 짐을 함께 덜 수 있다고',\n",
       " '본다 나는 관객들도 언젠가 한번은 지나쳐 왔을 그래서 공감해 볼 수 있을 장면들의 공유를 한다 그것을 통해 내 사진을 볼 때라도 스스로 깨닫기를 원한다 나도 사진을 찍고 싶다 혹은 나도 이 사람처럼 후리하게 돌아다니고 싶다 더 나 아가 나도 무엇이든 손에 잡아 보아야 겠다 라는 생각을 하게 되기를 차적으로 원한다 특정 이데올로기를 심는 다기보다 지적 예술적 유 대감이 나에 겐 순위라는 것이다 그를 위해서 나는 스스로 질문을 던져 기억을 불러일으키는 사진을 찍으려 한다 그러기 위해서는 전혀 새로운 감수성으로 대상에 접근해야 하며 내 내면에 깊은 서정성을 들여다봐야 한다 그렇게 주변에 상재한 보편성에 대한 관심에 바탕한 관점으로 세상을 들여다보는 게 나의 작업이다 서 정성을 품은 사진 마음이 담겨서 마음으로 다가가는 사진 그것을 위해 무엇을 찍더라도 일반적으로는 한없이 소박하고 볼 품 없는 의미 없는 것 일지라도 피사체에 대해 진심으로 몰입한다 독일의 소설가 루트 비 히 티크의 대표작인 프란츠 슈테른 발트의 여행 속에서 주인공 은 다음과 같이 말하고 있다 나의 사상의 이 끝없는 동요가 없으면 얼마나 좋을까',\n",
       " '때로 나의 마음을 살짝 만지며 스쳐 지나가는 그 부드러움이 내 마음속에서 뿌리를 내려 준 다면 나는 행복에 대해 말할 수도 있게 되고 예술가도 될 수 있을 텐데 스쳐 지나가는 부드러움이 마음속에 뿌리를 내려 준다는 것 알고 보면 참 많은 의미를 가질 수 있는 이미지들의 범람 속에서 우리들은 살아간다 좀만 더 감상적으로 여유있게 눈을 떠보면 무수한 것 들 과 교감을 할 수 있다 나의 삶은 자유와 감성으로 빚어진 환상이란 느낌을 많이 받는다 불규칙하며 명확하게 정해진 바가 없지만 방랑하며 프레임 속에서 무언가 바라보는 느낌 그때 느끼는 해방감과 그에 따른 행복 그 때는 그 행복이 너무 커서 환상적으로 다가온다 하지만 환상은 언제 깨질지 모르는 것이기에 언제 다시 만성깝깝증의 굴레에 빠져 버릴지 모르기 때문에 나는 나에게 내 위치를 확인하는 질문을 한다 그렇듯 관객들에게도 질문을 하고 싶다 작품을 보는 찰나는 내가 사진을 찍는 찰나와 똑같으니까 나는 관객 역시 같은 마음을 느낄 수 있게 하는 전달자다',\n",
       " '김 정대 일종의 성장 통 이라고 할 수 있는 사랑과 이별의 아픔은 누구나 가지고 있는 아련한 추억의 단상이고 내면 깊이 감추어 져 있는 순수성이라고 할 수 있을 것이다 그 순간의 아픔과 아련함은 시간이 지나면서 희석되고 애매모호한 추억의 한 단락을 장식하는 증거물에 지나지 않게 된다 잃어버린 추억이라고 하기에는 너무나 많은 감정을 가지고 있는 그 상황이 소중한 것 들임에는 분명하고 언제든지 표출되어 질 여지가 있는 것 또한 분명 하다 언어를 통한 타인의 이해를 구하기에는 어려운 것 들이지만 그 모호한 감정의 집합체가 전달하는 자극은 씁쓸한 미소를 자아내기에 충분한 효과가 있는 것이다 작가인 나는 잘 짜여진 구성 위에서 허구로 지어낸 연극 무대의 주인공처럼 극적인 클 라이 막스의 순간에 감정 절정인 인물의 포커스를 맞추고 있다 어느 날 문득 떠오르는 아픈 추억은 슬픔이라는 감정으로 다가오고 그 감정을 웃을 수 없는 표정으로 짓게 만든다 가슴속에 가득 한 슬픔은 하늘에서 내리는 눈물인 비로 이미지의 치환을 이루고 우비는 가슴 속에 내리는 슬픔인 비를 피하기 위해 입는 보호장비 이자 겉으로 드러나는 슬픔을 덮기 위한 보호 기제로써의 역할을 한다 슬픔의 감정에 부합하기 위해 무거운 느낌의 Color를 이용하면 단순히 슬프다는 감정에 머무르게 되지만 슬픔을 감추기 위해 슬픈 감정과는 거리감을 두고 있는 이미지를 전달하게 된다는 것이 본인의 생각이다 이것은 마치 자신의 감정을 들키기 싫어서 과장된 행동을 하는 상처 입은 자의 모습과 다르지 않다 즉 가슴속에 내리는 슬픔인 비를 피하기 위해 우비를 입었지만 그 밝은 Color로 인해 슬픔을 드러내기 싫어하는 소년의 보호 기제로써 작용함을 알 수 있다 얼굴에 드러나는 슬픔의 감정을 숨기기 위해 은유적 보호 기제로써 밝은 이미지의 우비를 입었지만 그것이 오히려 더욱 고통스러운 아픔이 된다는 아이러니를 보여주는 것이다',\n",
       " '남도의 풍경 작가란 존재는 자신이 태어나고 자란 공간 환경에서 모든 것을 배양한다 그러니 그에게 고향은 원초적인 심미적 공간 이자 기억과 경험을 가능하게 해 준 그 모든 것을 숙성시킨 결정적 장소인 셈이다 생각해 보면 작가의 고향과 그의 그림은 밀접한 연관을 갖는 편이다 박 대용의 그림은 그가 자랐고 현재 살고 있는 고향 땅을 형상화한다 그렇다고',\n",
       " '특정 공간을 재현하거나 그것의 기록 적인 차원의 그림은 아니다 심상 속의 그림 혹은 다분히 관념적인 도상에 가까운 그림이다 아마도 그 풍경은 자신이 생각하는 고향 남도 지방의 특유의 지세 이자 보편적 풍경이고 일상이 이루어지는 장면을 약 호화한 것 같다 그는 남도의 들과 하늘과 바다 그리고 숨 쉬는 모든 것 남도를 이루고 있는 갖가지 요소들이 어우러져 뿜어내는 남도 만의 색깔과 정서와 기운들 그것은 내 그림의 원천적 힘이다라고 말한다 풍경을 그리는 이들은 특정 풍경의 전형성을 찾는다 모든 풍경화는 단지 주어진 풍경의 묘사나 재현에 머물지 않는다 풍경을 그린다는 것은 그 공간의 특색과 역사와 문화 생의 기억들을 더듬는 일이 자 그 공간이 지닌 자연적인 조건과 성격을 파악하는 일이다 풍경은 읽는 것이다 보는 것만이 아니라 그 풍경을 형성하고 가능하게 하는 힘들을 생각해 보는 일이 자 그 풍경을 생의 조건으로 삼아 살아가는 이들 과의 관계를 헤아리고 결국 물리적 공간을 조건 삼아 그 안에 인문적 생의 근간을 만들어 나가는 사람들의 삶의 기억을 추적하는 일이다 더불어 자신이 태어나고 자란 공간을 형상화한다는 것은 그 공간 만이 특질 기후적 생태적 조건을 시각화하는 일이고 특정 공간에서 뿜어 져 나오는 기운을 그려내는 일이다 따라서 풍경화를 그린다는 것은 풍경을 그렇게 읽을 수 있는 눈과 마음이 전제되어야 하는 일이다 박 대용의 그림은 특정 공간을 반복해서 등장시키고 그 풍경 안에 커다란 나무와 일련의 꽃들 그리고 백자 등을 등장시켰다 화면 가득 한 밭 붉은 황토 녹색의 풀과 식물들 나무와 꽃 몸을 구부려 땅에서 일하는 농민들 작은 집들과 트럭 개 그리고 바닷가에는 시퍼렇게 출렁이는 물과 배 낚시하는 이들이 점경의 인물로 등장한다 장지에 먹과 분 채로 이루어졌는데 색으로 마감된 바탕에 자잘한 터치들이 생기 있게 일어나 화면을 전면적으로 채우고 있고 그것들이 흐느끼듯이 바람에 쓸리듯이 혹은 강렬한 생의 욕망에 부르르 떨듯이 자리하고 있다 채색 화지만 자잘한 모필의 선 맛이 촉각적으로 표면을 채우고 있는 형국이다 이 풍경화에는 땅과 바다 생활공간과 일하는 농민들 어민들이 조화를 이루고 있다 하늘과 바다 땅과 나무와 풀 꽃 사람들과 그들이 형성한 문화의 흔적들이 공존하는 장면이다 작가는 남도 지방의 풍경을 이렇게 축약해서 상형하고 있다는 느낌이다 그것이 이 작가가 깨달은 남도 풍경의 전형일 수 있다 그림이 재미있다 더듬어서 소요하는 시선을 따라 여러 이야기들이 줄을 잇는다 공중에서 내려다보는 듯이 새의 시선으로 대지를 굽어본다 거기 아름다운 자연이 있고 사람이 살고 있고 일하고 있다 분주 하다 사계절의 변화 속에서 그 시간의 흐름 속에서 자연은 변화하고 꽃은 피고 지고 풍경의 색채 또한 다변하지만 변함없이 생을 일구는 사람들이 모습이 경건하기도 하다 아마도 작가는 그 악착스런 생의 욕망과 순연한 노동의 생애를 변함없는 자연의 철리를 그림 안으로 수렴하고 싶었을 것이다 남도 만이 지닌 독자한 풍경과 삶을 그리고 싶은 것이다',\n",
       " '지금 그의 그림은 그 여정으로 가는 지난한 과정에 자리하고 있다',\n",
       " '꿈 과 행복 을 전 하다 예로부터 우리 민족은 설날에 한 해 동안 복을 기원하고 무병장수를 바라는 마음을 담은 그림 세화 을 소중한 분들에게 선물하는 풍습이 있습니다',\n",
       " '수호 롬 부산은 세화 라는 아름다운 풍습을 현대에 접목시켜 많은 분들과 긍정의 에너지를 나눌 수 있는 전시를 준비하였습니다',\n",
       " '각기 다른 개성과 방법으로 자신의 세계를 구축한 인의 작품들은 현대미술의 다양성을 보여줌과 아울러 모두에게 기분 좋은 희망 과 행복 의 메시지를 전해 드릴 것 입니다',\n",
       " '패션 스타일 추억 여행 패션이란 두 가지 상반되는 욕구 즉 개인적 차별화의 욕구와 사회적 공통화에의 욕구로 개성화와 동조성으로 지탱된다 심 멜 이번 전시는 본인의 두 번째 테마 전이다 첫 번째 스타일에서는 채색의 전통 재료인 안료를 이용하여 옷을 통한 일상에서의 소소한 일면을 화폭에 담았고 두 번째 스타일에서도 인간의 삶 속 어디에서나 존재하고 문화의 중요한 구성 요소가 되어가는 패션과 산과 들에서 만난 꽃과 자연의 향기를 모티브로 해서 그 안에 내재되어 있는 상징성을 반추상의 형태로 자유롭게 구성하여 시적인 이야기로 표현하고자 하였다 생활상에서 의 식 주는 인간과 뗄 수 없는 불가분의 관계에 놓여 있다 더욱이 의복은 인간에게 있어서 가장 큰 관심사 중 하나라고 할 수 있다 현대를 살아가는 우리가 옷을 입어야 하는 긍 극적인 목적은 몸을 보호하고 개인의 단점을 감춤과 동시에 장점을 부각시키는 데 있다 몸을 가리기 위해 처음 사용했던 나뭇잎 한 장이 진화를 거치면서 신체를 보호해 주는 옷의 근원이 되었으나 오늘날 우리는 의복 패션을 떠난 생활은 생각할 수 없는 시대에 살고 있음이 자명하다 이제는 기능적인 면을 넘어서 미적 즐거움은 물론 새로 움에 대한 끊임없는 욕구를 지향하며 색채의 배열이나 형태의 조화 옷에 대한 시각적 쾌감도 나날이 상승 되어가는 추세다',\n",
       " '이런 무한한 커뮤니케이션 역할을 담당하고 있는 옷에서 대상에 대한 이미지와 세월의 향수를 떠올리며 때로는 유년의 정서적 감성을 엿 보기도 한다 화려하지 않은 단아한 옷 한 벌로도 행복을 느끼고 감사했던 어린 날 계절마다 산천 곳곳 흐드러지게 핀 꽃들을 보며 은근한 생명력을 배우고 미지의 세계로 꿈을 키웠던 그 시간들을 화폭에 담아 보고자 지난 년 내내 산과 들을 걸으며 추억 여행을 했다 때로는 힘겨움에 눈물이 나고 때로는 붓이 주는 매력에 노래 부르며 예술은 끝없는 행길의 모험 이 아닌가 한다 그 길을 계속 가야만 알 수 있는',\n",
       " 'the st INVITE the st INVITE 는 상명 대 이재윤 교수님의 회화 작품들과 함께 텍스 타일 아트 과 김 혜 영 설 유연 학생이 그 동안 준비해 왔던 작품을 세상 밖으로 처음 선보이는 전시입니다',\n",
       " '전 시공간은 이재윤 교수님 회화작품들 설유연 학 생의 페인팅 작품 몇 점 그리고 김 혜 영 설 유연 학생이 함께 만들어 온 감각적 섬유 악세서리들 로 채워지며 누구든 언제든 편하게 들러서 구경하고 갈 수 있는 편하고 부담 없는 전시입니다',\n",
       " '붉은 꽃 한혜진의 화면은 중심부에 커다랗고 붉은 꽃 한 송이가 자리하고 있다 꽃이 그려졌다 기 보다는 그 스스로 화면을 대지 삼아 허공 삼아 활짝 피어나고 있다는 인상이다 물감과 붓질 혹은 물감의 유동성을 조율해서 지극히 자연스럽게 꽃을 발생시키는 것이다 스스로 발생한 생명체처럼 꽃은 자리했다 화면은 자연이 되어 그 꽃을 피워 낸다 화면에는 모종의 기운이 가득 하고 그 사이로 붉은 꽃이 부풀고 가장자리를 물들인 검은 색상은 저 생명체를 발아시킨 근원처럼 머물고 있다 어둠과 미지 카오스가 화려하고 생동감 넘치며 아름다운 생명의 원초적 장인 것이다',\n",
       " '하여간 저 꽃은 한 개체로서의 식물이 자 생명체를 대변하고 나아가 아름다움의 대표적 존재로 떠오른다 더불어 뜨거운 기운으로 충만한 심정이랄까 자유롭게 떠다니는 존재를 암시하기도 한다 어쩌면 작가는 저 꽃을 빌어 자기 내면의 풍경을 압축해서 시각화한다 그러니까 화면 위에서 부유하는 떠도는 붉은 꽃 한 송이는 자유로 움을 상징하는 것도 같고 작가의 내면을 은유하는 매개 이자 싱싱 하고 충만한 생명력을 암시하는 기호로 다가온다 구체적인 꽃의 재현은 아닌 셈이다 하긴 모든 그림은 실제 자체의 단순한 모방과는 거리가 멀다 그것은 항상 기호적 성격을 띠면서 실제와는 또 다른 존재를 만들어 낸다 그것은 작가에 의해서 번안되고 해석된 것이 자 그런 의미에서 작가의 분신에 해당한다',\n",
       " '그래서 한혜진의 꽃 역시 작가 자신을 드러내는 암시적인 존재일 것이다 화면 위에는 물감들이 유동한다 물처럼 흐르고 몰려다니다 순간 응고된 흔적이다 그것은 주어진 화면 표면에 중력의 법칙과 시간 물감의 농도 필연과 우연 등의 여러 관계가 개입하고 관여하면서 만들어 낸 자취 다 이젤에 올려 진 화면 캔버스가 아니라 수평의 바닥과 일치되게 놓여 진 표면 위로 물감이 낙하하고 용 매제와 붓질이 간섭하면서 모종의 형상과 효과들이 발생했다 그것은 그려진 그림이라 기보다는 우연적으로 발생한 사건을 닮았다 그림이 재현이나 의도된 표현이기보다는 그 자체로 자발적으로 생겨난 사건이 되고자 한 경우가 있다 의식적인 행위이기 이전에 무의식적이며 이성의 지배를 받기보다는 영감과 이드에 의해 촉발되기를 원했던 초현실주의나 추상 표현주의가 그런 경우 다 폴 록의 경우 캔버스 천을 바닥에 눕혀 놓은 상태에서 그 위를 걸어 다니며 그림 안으로 들어가면서 물감을 중력의 법칙에 조응하도록 뿌리고 흘리고 다녔다 그 결과 남겨 진 흔적은 인간 주체의 시선을 받아 주던 수직의 상태 이젤 페인팅 와는 전혀 다른 수평이 만든 화면 일상의 공간과 일치하는 장이었고 그 공간에서 삶을 영위하는 자의 자취가 되었다 그것은 또한 중심과 주변의 구도가 깨지고 낙하한 물감의 덩어리들이 전면적으로 화면을 점유하는 한편 화면 위를 걸어 다녔던 작가의 신체적 행위의 증거로 남겨 졌다 이후로 현대미술은 추상 행위 평면 우연성과 신체 등을 더욱 밀고 나갔다 그런데 생각해 보면 수평의 대지와 화면을 일치시켰던 전통은 이미 오래 전 동양화에서 구현되었던 방식이다 동양의 그림은 종이를 수평의 대지와 일치시키고 그 위에서 하늘의 시선으로 그림을 그렸다 그것은 인간 중심적인 그리기가 아니라 다분히 하늘 중심적인 그리기이다 따라서 그림을 보는 방법 역시 위에서 내려다보았다 그러나 우리의 근대는 수평에서 수직으로 하늘의 시선에서 인간중심의 시선으로 이동한 역사를 보여준다 근래에 들어와 설치나 수평의 화면으로 그림을 그리는 시도는 새삼 탈근대적인 제스처 이자 자연 중심적인 시선으로의 회귀라고 도 말해 볼 수 있을까',\n",
       " '한혜진의 그림이 그러한 인식에서 기원하는지는 모르겠다 다만 수평에 일치시킨 화면 위에 물감을 흘리고 자연스럽게 몰고 다니면서 생명체를 키우는 그 인식은 분명 흥미로운 방법론이다 그러나 그 방법론에 의한 결과물이 다 중요한 부분임은 당연하다 이 부분은 과제로 남는다 한혜진의 화면은 즉흥적이고 다소 우연적인 물감의 흔적들 로 부산해 보인다 공통되게 화면 중심부에 붉은 꽃의 형상이 차지하고 있고 그 가장자리 여백 같은 부분에 검은 물감이 먹처럼 스미고 번져 나가면서 나무나 작은 꽃 드센 바람이 불거나 흐르는 물을 연상시켜 주는 상황성을 연출해 보인다 그것은 순간적으로 일어난 사건이고 다시는 반복할 수 없는 유일 무이한 시간이 기도 하다 어쩌면 그림은 한 개인의 유일 성에 기반 한 반복될 수 없는 행위라는 데 사뭇 의미심장함이 있다 일 회적 삶을 사는 인간의 순간적인 행위 시간의 법칙에 사로잡힌 인간의 행위 아래 전개되는 그림이다 따라서 이 유일 무이성은 동일시 될 수 없는 시간 행동 경험의 시각화와 관여한다 그것은 인위와 무위 사이에서 흔들린다 그림은 필연과 우연 이성과 무의식 의지와 자연 법칙이 상호갈등하면서 길항하면서 이루어진다 당연한 얘기 지만 그것이 긴장감 있게 충돌하는 그림을 보기는 쉽지 않다 작가는 순간의 삶에서 어떤 흔적 하나를 남겼다 붉은 꽃이고 깃털 같고 바람 같고 날리는 꽃잎 같은 이미지 다 순간 속에서 살아 움직이는 휘날리는 꽃잎 하나를 직관적으로 응축시킨 이 그림은 보이지 않는 기운에 둘러싸인 우주공간에서 일 회적 삶을 사는 인간 존재가 순간순간 꿈꾼 자유와 비상의 풍경을 보여준다',\n",
       " '보다 보이다 김은 영 보다 보면 보인다 보다 보면 안 보이던 것 들이 보인다 숨어 있던 것 들이 눈에 띄기 시작한다 작가는 어느 날 마루바닥에 누워 옆으로 고개를 돌렸고 그녀의 시선이 닿은 곳에 의자 다리가 있었다',\n",
       " '그때 작가는 실로 처음 의자가 의자로써 기능하기 위해 다리가 온전히 존재해야 함을 깨달았다고',\n",
       " '한다 시선이 위치한 곳과 바라봄에 걸리는 시간 평소와 다른 위치에서 긴 시간 동안 대상을 바라보았기 때문에 가능한 경험이었으리라',\n",
       " '익숙한 대상을 달리 보기 위해서는 일정 이상의 시간이 필요하다 평소 의자를 대할 때 초의 시간을 들였다면 그 이상의 시간을 들여 의자를 살펴봐야 한다 시간을 두고 보다 보면 대상은 자유롭게 해체된다 그리고 기존의 기능에서 탈피한다 나무 의자 다리는 길쭉한 코끼리 코로 보이고 알루미늄 의자 다리는 감옥의 철조망과 이미지가 겹친다 자 의자 등받이는 발사 전 장전된 총을 연상시킨다 비유를 통해 의자 구조 안에서 세상 만물의 모습을 발견한다 그리고 나는 여행한다 닮은 꼴 사물의 연상을 따라 이 시공간에서 저 시공간으로 눈을 감은 채 옮겨간다 눈을 뜨고 의자를 다시 바라본다 상상에 의해 분해되었던 의자는 어느새 제자리로 돌아와 있다 그리고 깨닫는다',\n",
       " '하나의 나사못이라도 빠지면 의자는 기존의 기능을 수행하기 힘들 것이다 의자가 의자로써 기능하기 위해 내부의 부품들이 얼마나 견고하게 서로를 지탱하고 있는지 인식하는 과정이다 부분은 전체를 이루고 전체는 부분의 노력에 의해 유지된다 그리고 만물의 부분은 서로 닮아 있다 따라서 의자 다리는 의자를 이루는 동시에 더 큰 세상을 구성하는 입자로 존재한다 대상에 대한 남다른 사유를 위해 필요한 것은 시간뿐 아니라 대상을 바라보는 위치의 변화이다 작가는 자신이 의자 다리를 처음 인식했을 때로 관객을 데려간다 바닥에 누워 바라본 의자는 거대했고 시선의 평행에 위치한 의자 다리는 크고 단단한 기둥 같았다',\n",
       " '그때의 느낌을 그대로 관객에게 전달하기 위해 작가는 전시장 안에 큰 나무 기둥을 세웠다 밖에서 바라본 전시장은 하나의 네모상자이다 네모상자 안에 건물 크기만한 의자의 다리부분이 놓여 있다 전시장 안으로 들어가면 나는 의자 다리 반에도 못 미치는 길이의 인간이다 밖에 있을 때는 관찰자의 입장에 서지만 안으로 들어가면 의자 다리와 비교되어 관찰당하는 입장에 선다 한편 전시장 안에는 우리가 사용하는 크기의 의자 다리들이 네모상자에 꽂혀 있다 그곳에서 나는 다시 관찰자의 역할을 수행한다 전시장과 네모상자라는 틀을 이용해 작가는 봄과 보임 Viewing and Being Viewed 의 동시성을 관객이 효과적으로 경험할 수 있도록 하였다 세상은 전시장과 달리 비가시적 틀로 이루어져 있다 만물은 그 안에서 서로를 응시하고 쫀쫀한 긴장감이 세상에 서린다 나와 타인이 놓인 위치 서로 간의 거리 교환하는 시선 따위가 말해 주는 이야기는 무엇일까 세상은 잘 만 하면 따뜻한 것이다',\n",
       " '하지만 조금이라도 함부로 다루면 상해서 다시는 돌이킬 수 없는 형태로 일그러진다 시간을 두고 다른 위치에서 사물과 사람 관계를 바라보자 그 안에 나의 태도와 내가 살아온 모습들이 있다 끝으로 하나의 시를 인용하며 글을 마친다',\n",
       " '반짝반짝 작은 별 인사동에 위치한 공 아트 스페이스에 서는 년을 맞이하여 재기 넘치는 젊은 작가 명이 참여하는 기획 전시 반짝반짝 작은 별 을 오는 월 일부터 월 일까지 전관에서 진행한다 이번 전시는 참신성과 작가로 성장하기 위한 자질을 갖춘 젊은 작가들에게 전시 기회를 제공하고자 기획된 전시로 미술계 및 학교 일선에서 활발한 활동을 펼치고 있는 국내 대학의 교수진들에게 엄정한 추천을 받은 명의 작가가 참여한다 전시 취지에 따라 참여 작가들은 현재 대학 및 대학원에 재학 중이거나 졸업한 지 년 이내 인 자로 구성되었으며 이들은 평면 입체 설치 사진 및 영상 등 전 장르에 걸쳐 활발한 활동을 펼치며 독창적인 방식으로 작품세계를 펼쳐 나가고 있다 참여 작가는 부에 걸쳐 명씩 나누어 참여한다 부에는 문성 돈 이경 훈 이 시원 최창 규 이상 회화 양 쿠라 사진 함정식 영상 설치 등 명이 참여한다 동양적 사고에 서양적 조형기법을 혼용하여 주변의 일상적인 풍경과 사물들을 새롭게 재해석하는 작업을 선보이는 문성 돈 주변의 이야기를 에너지 넘치는 화려한 컬러와 새로운 재료적 실험으로 화려한 컬러와 자유로운 드로잉을 구사하는 이경 훈 한국 화만의 매력을 뛰어난 묘사력으로 그려내는 이 시원 강한 색채의 대비와 투박한 붓 터치로 현대 젊은이들의 우울한 모습을 표현하는 최창 규 현대 사회 속에서 외면 되는 것들에 대한 시선을 한 양 쿠라 사회의 불가항력적인 힘에 주목하며 예술의 맥락으로 교감하고자 하는 함정식의 영상작품 이 전시된다 부에는 신 혜진 임 이혜 회화 최희 정 회화 설치 모하나 조소 윤 비호 사진 박 준호 영상 설치 등이 참여한다 부는 번지거나 지워 진 선으로 관계를 그려내는 신 혜진 일상 뒤에 숨겨 진 이면을 안정적 색채와 활달한 붓질과 표현으로 담아내는 임 이혜 주변의 환경을 전자매체로 검색 후 얻은 정보를 신체를 상징적으로 본 떠 다양한 조형언어로 재현하는 최희 정 폐품 식용물질 등을 사용하여 일상의 존재와 사물을 낯설게 만들어 유동적 감각으로 사물을 재해석 하게 하는 모하나 기존의 공간을 해체하고 재조합 하여 공간에 대한 새로운 시각을 제시하는 윤 비호 현대 사회의 심리적 불안과 이상에의 동경을 현실 틈 속에 녹아 있는 환영과 같은 이미지로 등장시키는 박 준호 등이 참여한다 예로부터 밝은 별들이 모여 만들어 진 북두칠성이 어둠 속에서도 빛을 발하며 항해의 지표가 되었듯이 공 아트 스페이스는 이 전시를 통해 미술계의 초년생인 작가들이 형형한 빛을 발하는 영향력 있는 작가로 성장할 수 있는 기회를 부여하고 더불어 미술계의 지표가 되는 작가로 성장하기를 기원하고자 시작과 출발을 다짐하는 매년 초 반짝 반짝 작은 별 전시를 지속적으로 펼쳐 나갈 예정이라고 밝혔다',\n",
       " 'Uncharted Village 마음으로 그려 간 풍경 빠르고 복잡한 변화의 세상 또한 강박적으로 변화를 강조하고 변화를 강요하는 세상 이곳에서 나는 느림의 미학과 단순성을 꿈꾼다 도시의 바쁜 일상 속에서 우연히 만나게 된 장소들 작은 수도원 탐스러운 과일나무가 있는 정원 그리고 지난 여름 더위를 피해 앉게 된 공원의 작은 분수대 앞 이러한 장소에서의 휴식은 잠시나마 무거운 도시의 삶에 지친 심신의 위로와 평안을 갖게 해 준다 또한 여행 중 알게 된 낯선 이들에게 전해 들은 흥미로운 이야기들은 그들과 함께 같은 시간을 여행하며 같은 공간으로의 경험을 가능하게 한다 이러한 소박하고 잔잔한 삶의 순간들은 어느덧 상상의 이미지가 되어 마음의 공간에 이식되고 심어 져 작은 마을을 이루며 숨 쉬게 되었다 순록 떼의 숲 붉은 풍경이 있는 마을 양수 양 버들의 숲 등은 답답한 현실의 벽에 갇힌 내면의 탈출구 이자 상상의 경계에서 단정지어 지지 않는 나만의 비밀장소가 되어 준다 그리고 나는 지금 그곳에서 따뜻하고 행복한 시간을 지내고 있다 이번 전시 지도에 없는 마을 은 우리들 마음속에 잠재되어 있는 순수의 시간과 낭만을 꿈꾸는 상상의 공간이고 자 한다 그리고 그곳에서의 잃어버린 순수의 시간과 주변의 평범한 것 들이 특별해지는 초현실적 경험들은 지도에 없는 마을 을 찾는 또 다른 즐거움이 자 위안이다',\n",
       " 'CLONAGE virtual things catastrophe points 김 범수의 인체 형상들은 기계론적인 환원주의 패러다임을 지니며 살아가는 현재의 인류가 클론으로 인해 맞이하게 될 유토피아적인 미래의 인간들의 모습을 그리고 있다 그 유토피아 적인 그의 미래의 세계는 Alice Lidell Lewis Carroll의 얘기를 하기 전의 상상 에서 와 같이 인형놀이를 하는 어린아이들과 같이 장난스런 형태를 띠고 있지만 그 이면에는 섬뜩한 미래의 두려움을 예고하는 그로테스크한 세계를 반영하고 있는 것이다 이러한 김 범수의 그로테스크한 조각 형상은 베 르나르 제 르 보우 Bernard Gerboud 파리 대학 교수 가 인위성은 창조과정 속에서 살아 있는 자에게 자리를 양보함 과 동시에 죽음이 하나의 단계일 뿐인 그 곳에서 총괄적 순환과정의 순간을 보여준다 고 말한 것처럼 삶 죽음 정신 신체를 하나의 순환론적인 체계에서 현재의 지배적인 담론과 클론으로 야기될 머지 않을 미래를 한 걸음 뒤로 물러나 바라봄으로써 낯선 광경들을 만들어 제시 한다',\n",
       " 'Jaye Moon Builds Lego Housing Units on the Streets 문 재원 문 재원 Jaye Moon 은 뉴욕에서 활동 중인 작가로 현재 청주 미술 창작 스튜디오 레지던스에 참여하고 있으며 이번 청주 미술 창작 스튜디오 아티스트 릴레이 프로젝트는 그녀의 번째 개인전이 된다 오늘날 우리는 어떤 곳에서 나 어느 누구에게나 맞는 보편적인 생활 조건을 만들고자 한다 문 재원 작가는 이런 현대 사회 현상에 촛점을 맞춘 건축적 공간에 관심을 갖고 있으며 년부터 대량 생산 소비문화에 잘 맞는 건축형태를 보여주는 장난감 레고로 수년 간 다양한 시리즈를 제작 해 왔다 그녀는 레고 블럭 자체가 수학적 논리적 구조적 산업 및 기계 기능을 바탕으로 하는 건축 양식과 연관 되 있어서 현대 건축 문화를 대변하는데 완벽한 오브제라고 생각한다 그녀의 초기 레고 작품인 여행가방 도시락가방 컨테이너 집 서랍 장 등은 잦은 이동이 많은 현대 사회의 휴대용 라이프 스타일을 암시하는 작업으로 즉각적인 생활 양상을 개념적으로 상징했다 최근에는 이런 이동식 주택에 대한 관심을 실제 건축과 자연을 통합한 도시 풍경으로 재해석하여 대중과 작가의 아이디어를 공유하고자 공공 미술 레고 프로젝트로 확장시켰다 그녀의 공공 미술 프로젝트 레 고 트리 하우스는 뉴욕의 Chelsea 거리에서 처음 공공 미술로 선보인 이후 올해 이태원 프로젝트 평 창 프로젝트로 소개된 바 있다 그리고 이번 청주 프로젝트는 한국에서는 그녀의 번째 레 고 트리 하우스 공공미술 프로젝트가 된다 작가는 청주 미술 창작 스튜디오 와 청주 시립 도서관 부근 나무들에 레 고 트리하우스를 설치하고 갤러리 내부에도 비디오와 설치 미술 형식의 레고 프로젝트를 소개하면서 관객들의 참여를 권장한다',\n",
       " '꿈꾸는 물고기 인생이란 꿈을 품은 달 항아리 작은 소망을 달빛으로 빚고 염원의 기도를 올린다 꿈은 내일의 자식이라 늘 우리 앞에 서 있고 간절한 바람의 한 점 한 점은 끝없이 전진하는 물고기로 거룩한 날개 짓을 한다',\n",
       " '신년 유람 년 계사 년 을 맞이하여 인천 신세계 갤러리에서 신년 유람 을 기획하였다 이번 전시는 우리의 산수와 일상의 풍경들을 독특한 재료와 현대적 방식으로 재현한 한국화 작품을 선보인다 유람 은 조선시대 사대부들이 우리의 산수를 돌아다니며 그 안에 깃든 역사와 문화를 체험할 수 있는 행위였으며 이를 통해 성리학적 세계를 추구한 문인 화가들은 내면 세계를 성찰하며 정신적인 수양을 했다 자연을 하나의 대상으로 바라본 서양의 화가들이 한 눈에 조망하는 풍경을 모방하여 그린 반면 우리의 옛 화가들은 산천을 유람하며 실경을 사생하고 이를 기억과 마음에 담아 형상화 하면서 다시 점의 풍경을 한 화면에 관념적으로 재구성하여 그리는 조형 어법을 선택했다',\n",
       " '구본 아 권 인경 김소영 오 민수 명의 참여 작가들은 이 시대를 유람하며 현대사회의 여러 가지 풍경을 한국화로 그려낸다 관람자들은 전통 산수화를 재해석한 작가들의 작품을 감상하고 꼴라쥬로 제작한 산수 벽화 만들기 이벤트에도 함께 참여해 볼 수 있다 신년 유람 은 동시대를 살아 나가는 현대인의 정체성에 대한 사색들과 삶의 단상들이 담겨 진 작품을 만 나 볼 수 있는 전시이다 먹의 사용 수묵의 기법을 벗어 나 고서를 꼴라 쥬하거나 오브제 닥종이를 이용한 설치 산수화 벽화 등 이색적인 작품으로 구성된다 여기서 지필묵이란 전통 산수화의 조형적 형식들과 서양 화의 표현기법이 혼용되며 자연 풍경이 아닌 우리를 둘러싼 도시공간 주변의 일상사 등 소재의 확장으로 한국적 정서를 근간으로 하는 현대적 산수화가 재탄생 한다 산수 풍경 평범한 일상의 장면들과 같은 이질적인 이미지들이 꼴라 쥬 된 오 민수의 작품은 관람자들 로 하여금 과거와 현재의 풍경이 혼재되는 낯선 경험을 하게 한다 또한 작가 권 인경은 자신을 둘러싼 도시를 관조자의 태도로 바라보면서 관람자의 시선을 그림에 끌어들여 함께 도시를 유람하게 한다 하나의 화폭 위에 다양한 시점의 이미지들과 고 서가 꼴라 쥬 되면서 인간 삶의 순간들이 누적된 모자이크와 같은 도시의 이야기가 펼쳐진다 오늘날 한국화는 전통의 맥을 이어 가면서 현대적 미감을 구현하고자 하는 끊임없는 고민 속에 있다 순환되는 시간과 존재의 흔적을 테마로 하는 구본 아는 한지 꼴라 쥬 오브 제 설치를 이용하여 물성의 표현과 수묵실험을 한다 기계 부속물과 같은 인공의 것과 나비 꽃 암석 등 자연의 요소들이 한 공간 속에 대비적으로 재현된다 한편 김 소영이 먹 채색을 한 닥종이로 만든 고리 환 형태를 잇는 이색 적인 설치작업은 비움과 채 움의 반복으로 삶의 행위로 비유된다 이와 같이 한국화 작가들은 전통이 내재된 시대적 가치를 반영하면서 새로운 영역으로의 도전과 실험을 전개하고 있다 새해를 시작하면서 신세계 갤러리에서 어제와 오늘의 시간 자연과 문명의 공간이 꼴라 쥬 되는 새로운 시공간의 풍경을 유람 해보면서 삶을 바라보는 우리의 시각과 가치관이 확장되길 바란다 보다 다채롭고 새로운 도전들 로 가득 한 한 해가 되길 기원한다',\n",
       " 'WIN WIN 이다 갤러리에서는 김 찬 주 유 윤영 작가의 WIN WIN 을 개최한다 순환과 재생을 반복하며 공존하는 자연 속에서 모두가 상생하는 삶을 꿈꾸며 마련한 이번 전시는 회화와 공예작품으로 이루어진다 서로 다른 두 장르가 풀어내는 상생 은 기법은 다르지만 희망적인 메시지를 담고 있다 김 찬 주 작가의 비만 사슴과 얼룩말 시리즈는 우리가 과연 바르게 생각하고 바르게 가고 있는 가에 대한 질문을 던진다 억의 사람들과 그 수천 수만 배의 생물이 더불어 사는 지구에 잠시 더불어 사는 우리의 삶의 태도에 관한 이야기이다 그림 속 얼룩말들의 시선이 멈추는 곳은 우리가 꿈꾸는 이상적인 공간 임과 동시에 돌아가야 할 곳이다 김 찬 주 작가의 작품 속 소재인 동물 나무 등은 작가의 기억과 경험 속에서 새롭게 태어나 모두 포용하고 무조건적으로 주는 자연의 모성을 닮았다 작가는 작품을 통해 지배나 정복의 대상이 아닌 자연과 인간이 함께 더불어 살아가는 공존 을 말하고 있다 유 윤영 작가는 사람과 사람 사이의 공존 을 이야기한다 각박한 현대사회 생활 속에서 외부의 공격으로부터 자신을 보호하려는 자기 방어는 함께 살아가기를 거부하는 행위이다 바쁘게 살아가는 현대인들의 잊혀 져 가는 추억과 차가운 마음을 내면 세계 깊숙이 숨겨 져 있던 어린 시절의 즐거운 꿈과 상상을 도자 조형으로 표현하였다 자연과 사람 사람과 사람이 동화된 긍정적인 미래 모두가 상생하는 행복한 삶을 꿈꾸며 작품이 들려주는 긍정적인 메시지에 귀기울여 보자',\n",
       " 'Project ARG by 아트 선재 예술 연구자 그룹 년 월 일부터 년 월 일까지 진행된 아트 선재 예술 연구자 그룹 Artsonje Artistic Researchers Group 이하 Artsonje ARG 의 결과물과 활동 과정을 선보이는 아트 선재 라운지 프로젝트 Project ARG by Artsonje Artistic Researchers Group 이 아트 선재센터 층 라운지에서 전시된다',\n",
       " 'Artsonje ARG는 기존의 예술 교육보다 적극적인 성과를 이루기 위해 시작된 프로그램이다 연구자들은 지식을 습득하고 교양을 얻는 단계를 넘어 예술 현장을 직접 체험하고 동참하여 자신만의 프로젝트로 발전시켰다 첫 번째 Artsonje ARG 라는 이름으로 모인 이들은 자신의 눈앞을 닦아 맑게 보기를 바라는 사람들이다',\n",
       " '전공도 나이도 하는 일도 다르지만 예술의 곁에 있고 싶어 하는 마음으로 개 월간 풍요로운 체험을 했다 연구자들은 아트 선재센터가 주도하는 현대미술 프로젝트에 적극적으로 참여했고 현재 활약하는 작가들의 작업세계를 더듬어 가면서 스스로가 원하는 것 들을 찾아 내고 뚜렷하게 만들어 왔다 이번 전시는 Artsonje ARG 과정에서 촉발된 프로젝트를 통해 보고 듣는 수동적인 과정을 넘어서 참여하고 연구하고 자신만의 프로젝트로 발전시켜 무엇 인가를 이루어 내는 과정을 그려낸다 연구자들은 작품 출판 디자인 기획 등 각자의 관심사를 나누었고 이를 아트 선재센터 라운지 공간에 적용하고자 한다 이번 전시를 시작으로 예술 연구자들은 예술과 더욱 밀접한 관계를 맺으며 함께 발전해 나갈 것이다',\n",
       " '차이의 공간 part I 사유와 표상의 간극 현대 미술은 잘 짜여진 틀 속에 담겨 있는 이야기 이기보다는 하나의 통일 적인 전체를 이루기가 어려운 파편들의 집산이라 할 수 있다 개인의 역사가 하나의 작품으로 표상되기 위해서는 각각의 산재한 이야기들이 질료 속에 묻히지 않고 개별적인 하나의 구성물을 이루 수 있도록 해 주는 최소한의 틀이 존재해야만 할 것이다 표상되는 것 들이 흩어진 에피소드들의 무질서한 나열이 아니라 하나의 구성물로 서게 하는 형식을 갖추거나 질서를 부여하는 것이 바로 인식 틀 이다 이는 시대에 따라 특정한 방식으로 세계를 인식하게 해 주는 인식의 질서이고 이러한 인식의 틀은 사유의 범위를 스스로 경계 짓는다 모든 것의 정의는 범주를 정하고 나누어 구별하게 되는데 우리가 사물을 인식하게 되는 과정도 보편적인 틀에 의해 의미 지어 지고 그 의미는 나와 대상 그리고 장 혹은 공간 환경 인식 틀 체계 위치 층 배치 등 논리적 요소들 사이의 관계를 통해서 형성된다 어느 시대든 예술가는 그가 속한 시대정신을 반영하였으며 시대의 특성이나 가치를 유형화 시켜 왔다 여전히 세계가 주는 충격에 혹은 외부로 부터의 자극에 작가의 눈은 비로써 비가시적이 던 존재의 조직에 이르며 정신적인 경험세계에 영향을 미친다 시각적 파장이 동시 다발적으로 수신되는 지금에 와서 작가 내면에 잠재하고 있는 철학적 사유방식은 수많은 차이를 만들어 낼 것이며 모였다가도 다시 흩어지는 이질적인 파편들의 개별성을 표상 해낼 것이다 그것이 추상 충동이든 감정이 입이든 그 무엇이든 오늘날 다양하게 적용될 것이다 이번 전시는 그 차이가 만들어 내는 형식에 대한 질문이다 참여하는 작가들의 사유형식 역시 모종의 질서에 의해 표상된다 다양한 인식 틀을 가지고 지금껏 지나온 세계를 자신만의 색과 톤으로 담아낸다 개방성과 깊이를 가지고 나뉠 수 없는 사유와 표상의 틈에서 말하고 싶어 하고 감추고 싶어 한다 타자와의 관계에서 비롯된 차이들 로 이어진 사유와 동일한 질료로 추상과 구상으로 구성된 형식의 틈새는 공간적 여백과 전체적인 모호함을 깔고 다양한 가치를 발생시키며 자기 자신의 내적 현실과 세계 및 자연의 현실을 의식적으로 재확인하게 된다 여기서 자신의 본질적인 자기 존재에 대한 의식을 강화함으로서 세계의 외적 현실에 다시금 다다를 때 표상활동 너머의 사유 그 다채롭게 펼쳐진 세계가 드러나는 것이다',\n",
       " '그림은 말하지 않는다 회화에 있어서 본질적인 것은 무엇일까 년 가나 아트 스페이스의 두 번째 기획 전 그림은 말하지 않는다 는 위의 물음에서 시작된다 본 전시는 본질적인 것에 대한 탐구로써 네 명의 작가 김 선 휘 남학 현 손 경환 진형 주 의 작품이 월 일부터 일까지 가나 아트 스페이스 제 전시장에서 부에 걸쳐 선보여 진다 회화는 언제나 그리기에 대한 이야기로 귀결된다 그것은 어쩌면 그림을 그리는 과정이라고 할 수 있겠다 선택된 소재와 재료 기법은 그들이 그림을 대하는 태도를 위해 사용한 것 들이다 이들은 이번 전시에서 스스로에게 왜 그림을 그리는 가 를 자문하면서 회화의 정의를 확립하고자 한다 무엇을 그렸느냐',\n",
       " '보다는 그림을 그리면서 가장 중요하게 여기는 것 즉 개인적인 태도와 관점을 그림을 말하지 않는다 을 통해 우리에게 보여준다 손 경환 그리기는 내가 보고 있는 것은 무엇인가 라는 의문에서 시작한다 나는 대상과 화면의 중간에 서서 관찰자 이자 표현의 주체로서 대상을 응시한다 이때 대상과 나 사이에 수많은 경로로 이루어진 시공간이 생겨난다 이 시공간은 찰나와 같아서 인식하기 힘들다 하지만 대상이 너무 멀리 있어 현재에 서서 과거의 빛만을 볼 수 있는 상황이라면 조금 더 인식하기 쉬워 진다 예를 들어 지구에서 볼 때 달은 항상 초 전의 모습이다 응시의 대상은 실체와 내 눈 사이에 있는 멀고 먼 시공간의 경로를 부유하는 유령 같은 것이다 내가 보고 있는 것이 같은 시공간에서 관찰된 실체가 아니라는 사실은 나에게 영원한 상실을 가져 다 준다 손에 닿지 않는 것에 대한 욕망은 그렇기 때문에 부서질 것 같은 색 점들 로 표현된다 나의 회화는 멀고 먼 실체와 나 사이의 어딘가에 있는 유령에 근접해 보려는 노력이다 진형 주 나에게 그림은 언제나 극한 마음의 문제로 몰린다 이것은 즐거움인 동시에 두려움이다 그림 이전의 모든 상태 사진에서 그림으로 표현되기 위한 것을 받아들이는 일은 이런 큰 양면에 서 있는 것과 같다 이런 양면의 공존 속에 좋아서 그리기보다 살아가야 함으로 그리기라는 숙명처럼 느껴지는 것이 있다 그리기 이전에 사진에서 받아들이기 가 있다 이 받아들이기에서 그림의 결과에 미치는 대부분의 작용이 끝나고 실제 그리기가 시작되면 특정한 그리기의 방법과 의도를 생각할 시간도 없이 그리기의 몸이 움직이기 시작하면 끝은 빠르게 보인다 하지만 받아들이기와 그리기의 간격은 넓지 않으며 때로는 화학작용처럼 반응한다 이러한 과정이 나에게 그리기로 들어가는 방법이다 나에게 그림은 결정되고 완성된 마음을 그리는 것이 아니라 움직이며 변화하는 온전한 흐름에 있다 김 선 휘 나의 작품에는 제목이 없다 일반적인 의미에서의 무제 가 아닌 본인의 회화론을 나타내는 지표로 서의 무 제 이다 회화 블랙홀처럼 화가의 모든 차원을 빨아들여 화면 위에 알 수 없는 세계를 만드는 힘 를 이루는 다양한 요소는 어느 하나를 중심에 세워 둘 수가 없을 만큼 수평적으로 펼쳐져 회화를 받치고 있다 화면에서 손짓을 통해 벌어지는 일은 내부에서 정신을 통해 벌어지는 일만큼 흥미롭다 모든 것을 투사하는 회화는 다른 무엇보다 인간적인 나의 외침이다',\n",
       " '여백은 나의 예술에서 핵심적인 개념이다 동양화의 이론이나 시각적인 효과와는 거리가 먼 본인의 지향점을 나타낸다 죽음을 옆에 세워 두고 살아가야 하는 인간처럼 회화도 그것의 시작과 끝을 드러내길 원한다 캔버스 귀퉁이에서 바람을 불면 화면의 흔적들이 다 사라질 것처럼 찰나의 신기루가 되었으면 한다 깨어나서 더듬어 보는 매혹적인 꿈이었으면 한다 남학 현 나의 인물화 작업에는 초기의 약 획 의 크기 방향 색이 전체 그림 완성도에 이상의 영향을 준다 그 후에 그려진 수많은 획은 마치 줄타기를 할 때 균형을 잡기 위한 미세한 움직임 과도 같다 내 그림은 영감이나 짜여진 계획을 향해 달려가는 그림이 아니다 어두운 밤길에 손전등을 비추며 조금씩 길을 찾아 나가듯이 그려진다 인물 사진 이미지를 사용하지 않기 때문에 최초 획이 그만큼 큰 방향을 제시하며 나머지 획들 역시 잘못 사용하면 그림을 망치게 되니 중요 도가 떨어지는 것도 아니다 이러한 과정은 완성된 그림 속에 녹아 잘 드러나지 않는 요소이다 나는 항상 그리면서 마음속에 되새긴다 드러나지 않지만 누구든지 볼 수 있을 것이다 말하지 않지만 누구든지 읽을 수 있을 것이다',\n",
       " 'Reportage 쓴다 라는 행위는 일반적으로 텍스트를 통해 드러나고 그린다 라는 행위는 이미지를 통해 드러난다 기록은 개인이 중심에 있는 주체라는 관점에서 이루어지며 우리는 글을 쓰거나 그리기를 통해 개인의 흔적을 기록한다',\n",
       " 'SNS의 발달로 인해 지금 일어나는 모든 일들이 다양한 매체를 통해 남겨 지기 시작하였다 사람들은 더 많은 이야기의 흔적을 남기며 타인과 생각을 공유하려 한다 개인적 기록을 통해 서로 공감대를 형성하기도 하며 일방적으로 소통을 강요하기도 한다 그리고 이는 사회적 영역 안으로 들어와 현상에 대한 논의가 시작된다 이번 전시는 기록의 확장된 영역을 통해 그 역할에 대해 논의하려고 한다 기록자는 단편적인 기록이 아닌 자신의 의견을 배경으로 심층적이고 다양한 에피소드를 담고 있는 종합적인 이야기를 만들어 간다 전시 제목인 르 포르타 주 는 어떤 특정한 현상이나 사건에 대한 단편적 보도가 아닌 보고자의 체험과 조사를 토대로 심층적으로 취재하고 종합적으로 기사를 구성하는 기록 형식이다 문자 이미지 소리라는 모든 매체의 형식을 통하여 기록된 개인적 사회적 역사적인 시선과 개념들은 개인적인 경험의 혹은 사회적 관념의 틀에서 벗어 나 기억의 사유를 확장하며 새로운 의미론적 관계를 형성한다 기록을 통해 어떤 거대한 역사적 텍스트 안에 들어가는 것을 논하는 것은 아니다 하지만 기록들이 모여 거대한 역사를 만들어 낸다 지나간 시간 속에만 흔적을 남겨 두는 것이 아니라 앞으로 다가 올 시간 속에도 흔적을 남겨 둔다 데리다는 말하는 것조차 기록이 선행하므로 기록으로서의 역할이 가능 하다고 하였다 이처럼 기록의 개념이 확장되면서 많은 개념적 변화가 요구된다 기록은 단순히 경험적 관찰이 쓰여 지는 것을 보존하고 유지하는 역할에서 나아가 개인의 사유와 사회의 통념을 담고 있는 동시에 현상의 가치에 대한 의미의 관계 속에 위치한다 그리고 기억의 본질에 대한 개념의 당위성을 얻는다',\n",
       " '깊이와 넓이의 경계 김 영 훈 갤러리 이배에서는 신년 특별기획으로 김 영 훈작가의 깊이와 넓이의 경계 Boundary of depth and breadth 전 을 선보인다 갤러리 이배가 개관 이래 처음으로 기획한 이번 판화 전시에서는 기존의 평면적 전시형태를 벗어 나 설치작업을 선보임으로써 판화 장르에 대한 인식을 새롭게 하고자 한다 작가는 메조 틴트 mezzotint 판화제작기법으로 만든 이미지를 통해 대상에 대한 느낌과 자의적 해석에 관한 이야기들을 산문 형식으로 나 레이팅하는 과정 속에서 존재하는 것에 대한 명상을 유도하고자 한다 김 영 훈의 작업 모티브는 중력으로부터 자유로운 영혼을 담은 인물들에서 출발한다 다시 말하자면 심연 속 소우주를 지닌 그것이 실존이든 환영이든 현재 존재하고 있는 한 개체에 대한 의문과 질문에서 비롯되어 우리 스스로의 작음에 비교조차 할 수 없는 광대한 그 무엇에 대한 동경으로 이어진다 작가는 작업을 통해 속세를 벗어난 영혼의 자유와 안식을 원하며 무한의 깊이와 넓이를 가늠하고자 한다 그의 이러한 열망은 그의 작업 속에서 자신 안의 무한한 깊이와 자신 외부의 무한한 넓이 사이 혹은 그 경계선 상에 존재하는 인간의 모습으로 표현된다 그가 표현한 인간 인물 은 내부로의 깊이와 외적 넓이의 끝없는 확장의 출발점을 의미한다 그것은 곧 시작은 있으나 끝이 없는 무의식으로의 여행 동시에 그 넓이를 알 수 없는 공간으로 여행을 떠나는 존재의 모습을 나타내는 것이다 작가의 작업은 얼굴 위주의 이미지 작은 인체 이미지 직선과 곡선의 외각 이미지 등으로 표현된다 작가는 인물의 표정과 손의 위치 동세를 통해 고요와 안식 그리고 영혼의 세계를 이야기하며 작품들에서 보이는 원의 이미지는 외부의 넓이와 깊이를 표현하기 위한 방편이다 그것은 꽉 차 있는 공간이기도 하지만 동시에 또 다른 공간으로 연결되는 통로로서의 공간이 기도 하다 즉 이는 해석의 이중적 의미를 담고 있다 분명한 것은 안과 밖이 어떠한 경계에 의해 나뉜다는 것이다 그 경계는 인체의 외각 부분을 부드러움과 날 카로 움의 조형적 요소로도 나타나는데 그러한 요소들은 시각적 긴장과 완화를 표현한다 곡선은 주로 모호하며 신비로운 존재를 직선의 경계는 그 경계로 인하여 분리 되는 두 공간을 규정한다 그러나 그것은 보이거나 보이지 않고의 차이 일 뿐 실체의 형상이 변형되는 것은 아니다 부유하는 것이든 아니면 무언가에 가려 져 있는 것이든 그것은 그리 중요하지 않다 단지 경계로 구분된다는 점에서 그것은 보이거나 보이지 않는 차이로 우리가 무엇을 인식하고 느낄 수 있는 지에 대해 경계하고 있다 작가는 이러한 주제의식을 바탕으로 이미지와 여백의 조화에 중점을 둔 평면 작업과 군집으로 나열하거나 반복적으로 배치한 설치작업으로 표현한다 두 작업에서 공통적으로 나타나는 인물의 이미지를 통해 존재 안으로의 깊이와 존재 밖으로의 넓이를 동시에 표현하고자 한다 평면 작업에서는 흑백으로 강하게 대비되는 이미지와 여백의 단순한 표현을 통해서 속세를 벗어난 영혼의 완전한 자유 그리고 상대적으로 미지의 무한한 넓이를 가늠하고 미지 그 이상의 미지를 탐미하는 한 인간의 모습을 나타내고자 한다 반면 설치작업에서는 복제된 이미지로 규칙적 반복과 때로는 불규칙적인 배열을 통해 공간과의 어울림을 강조하고 무한에 대한 동경과 의문을 표출하고자 한다 그러나 작가는 궁극적으로 이러한 작업행위가 부질없는 욕구이며 알 수 없는 것에 대한 무모한 질문 그리고 범주할 수 없는 것에 대한 막연하고 일방적인 동경 임을 안다 살아 있는 한 영혼으로서의 한계를 인정하며 알 수 있는 범주의 넓이와 우리가 살고 있는 세계의 순리 안에서 그저 편안함을 바랄 뿐이다 김 영 훈작가는 강원 대학교 사범대학 미술 교육과 및 성신 여자 대학교 대학원 판화학과를 졸업했다 이후 총 회의 개인 전과 다수의 국내 단체전 및 기획 전에 참여하였으며 프랑스 일본 등 국외 전시에도 꾸준히 참여하고 있다 년 핀란드 국제 판화 트리엔 날 레에서 대상을 비롯해 러시아 국제 판화 비엔날레 가 나와 국제 판화 트리엔 날 레 프린트 도쿄 도쿄 국제 판화 전에 초대되었다 중앙미술대전을 비롯하여 한국 현대판 화가협회 공모전 한국 판화가 협회의 이상 욱 특별상 등을 수상했다 우리나라를 대표하는 판화작가로서 국내는 물론 국제무대에서의 그의 역할과 앞으로의 행보에도 많은 기대가 모아 진다 판화는 대중과 가장 친근한 그러나 오리지널리 티를 가지고 있는 예술영역으로써 현대사회가 발전할 수록 그 독특한 예술성은 더욱 희소 성과 독자적인 가치를 인정받고 있다 이번 판화기획 전시는 순수미술이란 영역을 쉽게 접해 보지 못한 관람객들에게 편안하게 다가갈 수 있는 전시로서 기획되었으며 관람객들에게 설치작업을 통한 판화 전시의 파격적인 면모를 보여줌으로써 판화에 대한 인식을 새롭게 할 것이다 우리가 태초에 어두운 자궁에서 나와 빛을 만나는 것과도 같은 그러한 신비한 순간을 자신의 작품에 고스란히 담고자 했던 작가의 염원을 그의 작품들을 통해 함께 느껴 보길 바란다',\n",
       " 'La Premiere Memoire 박 지은 박 지은 작가의 작품 속에는 한 없이 어두운 하늘 아래 불빛 하나 인적조차 없는 도시 만이 존재한다 마치 누구의 발길도 닿지 않은 듯 무관심해 보이는 도시의 풍경은 차갑고 거칠게만 느껴진다 이는 현실을 사는 우리네의 모습인지도 모른다 스스로 통제하며 살아온 자리에는 빛이 보이지 않는다 하지만 여기서 작가는 따뜻한 감정을 찾고 그들과 소통하고자 한다 먹의 강렬한 터치와 자유롭게 튀어나가는 먹물은 작가 본인의 소통 의지 이자 지금 살아 있음의 표현 이리라 작가의 작품 속에는 차갑고 어두움 만이 아닌 변화하는 밝고 희망의 메시지를 찾아볼 수 있다 작가 노트 나의 카메라 속에 담긴 도시의 풍경은 무미건조 하면서도 빛처럼 다가오는 무언가가 있다 빼곡 하게 줄지어 있는 도시의 풍경 속에서 사람들을 찾아 볼 수가 없다 그런 도시를 바라보면 복잡하면서도 외로움이 느껴진다 초기 작업으로 여행을 하면서 느낀 감정을 번져 나가고 흐르는 먹물 안에 나타나는 도시들 로 작업하였다 그 후에 건물에서 느껴지는 무미건조함을 표현하기 위한 작업으로 진행하였다 바쁜 일상 속에서 주제만 있는 짧고 간결한 대화만이 흐르는 지금 우리들의 모습을 나타내고자 하였다',\n",
       " '우리들의 모습을 암흑 속에서 빛으로 다시 태어날 수 있게 감정을 불어 넣은 것이다 번져 나가며 흘러 내려 버리는 또한 튀어나가는 먹물은 어둡지만 어쩌면 냉정하게 보이기만 하는 사람들 개개인의 감정은 따뜻하다는 걸 표현했다',\n",
       " 'Les Fl neurs 산책자들 완벽한 산책자에게 있어 수많은 사람들 속에 물결처럼 왔다 갔다 하는 사람들 한 가운데 거처를 마련한다는 것은 무한한 기쁨이다 집 밖에 있으면서도 모든 곳에서 자기 집 안에 있는 듯한 느낌을 받는 것 세계를 보고 세계의 중심에 있으면서도 세계로부터 숨어 있는 것 관찰자는 모든 곳에서 익명성을 즐기는 군주이다 보 들레 르 낭만파 예술 파리 p 현대적 삶의 화가 한 플 라 뇌 르 Fl neur 가 거리 속 사람들 틈을 휘휘 저어 한가롭게 빠져나간다 초점 없는 망연한 표정으로 빠르게 눈 앞을 스쳐 지나가는 광경을 관찰한다 머릿속 관념들이 풍경과 뒤섞이기 시작한다 장식과 묘사는 사라지고 암시로 가득 찬 풍경만 남는다 어느새 그는 풍경의 표면 그 안쪽을 걷기 시작한다 산책자란 뜻을 가진 플 라 뇌 르 는 보 들레 르가 세기 중반 파리에서 일어나는 근대화 현상을 지켜보는 자들을 지칭한 것에서 유래되었다 본 전시에서 소개하는 세 명의 산책자 임소 담 유창창 이해 민선의 작품은 현 시대의 풍경을 관찰하며 포착한 관념들을 은유적인 시각 언어로 풀어놓고 있다 첫 번째 산책자 낯섦을 수반한 익숙한 풍경 임소 담은 여행하면서 찍은 스냅 사진 산책하며 발견한 일상 이미지 다큐멘터리에서 본 장면들을 수집한다 수집된 풍경 이미지들은 심리적으로 연상되는 다른 풍경으로 즉흥적으로 대체되거나 오래 부터 그의 기억 속에 체화 된 장면들과 조우하며 새로운 장소성 placeness 을 띠게 된다 예를 들어 작품 Mother 에 보이는 텅 빈 주차장에 혼자 앉아 있는 길 고양이는 작가의 무의식 저 너머에 숨어 있던 표상된 존재일 수 있다 의미를 유추할 수 없는 작품 제목 또한 그림 속 풍경을 단순한 다큐멘터리적 기록이 아닌 모호한 단상이 스며든 장면으로 읽혀 지게 한다 그럼에도 불구하고 그가 선택한 보편적이고 익숙한 소재 는 보는 이로 하여금 각자의 기억 속 풍경들을 쉽게 환기시킨다 그리하여 임소 담이 그려낸 풍경들은 지극히 개인적이나 타자를 향해 열려 있는 장소가 된다 두 번째 산책자 낙체 Falling Body 들로 가득 찬 풍경 주변의 인물 동물 및 사건들이 재조합 된 유창 창의 작품 속 가상 풍경은 모든 비극의 집합체 다시 말해 디스 토피 아다 그는 우리가 꿈꾸고 바라는 유토피아를 파괴하는 방법으로 디스 토 피아를 표현한다 예를 들어 성공을 상징하는 뉴욕의 지도 위에 자신의 정액을 흩뿌리고 모든 텍스트를 알아볼 수 없도록 지워 버린다 또한 작가가 의도하는 파멸의 욕망을 대변하는 리틀 피플 들이 알록달록 한 산야를 넘어 스멀스멀 기어 나온다 독특하게도 작가는 인간을 중력에 얽매여 하늘에서 땅으로 떨어져 버린 낙체 들로 간주한다 중력을 우리의 몸에 포함되어 있는 불가항력적 감각으로 인식하고 이를 인간이 짊어진 생의 무게 감으로 치환한 결과 다 그의 관점에서 인간은 천상 유토피아에서 떨어져 이미 천하 디 스토 피아 에 살고 있는 피조물이다 결론적으로 그의 눈에 비치는 세상은 낙체들 로 가득 찬 불안과 우울로 침잠된 디스 토 피아로 볼 수 있다 세 번째 산책자 무와 유가 공생하는 개념화 된 풍경 식물과 각목 비닐 나뭇가지들 로 엮어 만든 이해 민선의 직립 식물 연작은 도시 속 나무와 식물들이 죽지 않게 지탱해 주는 각목 지지대에서 비롯된 성찰의 결과물이다 작가의 표현대로 한때는 나무였던 것이 다른 나무를 지지하고 있는 이 형상은 흡사 동물과 같이 느릿느릿 걸어 다닐 것만 같다 그는 황폐화되거나 퇴색된 도시 속 대지에 흡사 동물의 형상 같은 이 직립 식물들을 살아 있게 보이도록 두는데 이들 로 인해 문명과 인간에 의해 사회적 측면에선 죽은 대지는 쓸모와 생기를 얻는다 무기물과 유기물 사이 정의할 수 없는 모호한 것 들이 서 로 도우며 존재하고 있는 모습이 어 딘가 애처롭다 작가의 성찰로 탄생된 개념화 된 풍경에 나타나는 이러한 패러독스는 생명체의 존속과 공존에 관해 생각하게 만든다 나아가 인간이 생명을 대하는 이항 대립적 태도에 질문을 던진다 보 들레 르의 표현대로 많은 예술가들은 현대의 어떤 생활 을 유유히 활보하며 탐구하는 익명의 산책자들이다 그들은 인식하지 못하면 사라져 버리기 쉬운 풍경의 단편을 또 다른 세계 로 확장시키는 면밀한 관찰자이다 이번 전시는 일상에서 벌어지는 현상들을 자신의 주관적인 사유체계에 녹여 내는 세 명의 산책자들이 가진 작가적 태도와 미적 감수성에 주목해 보았다 작가가 만들어 낸 정서적 공간을 좇아가다 보면 일상적인 풍경이 나만의 심적 풍경 심적 풍경 Psychological Scenery 과 부딪히며 생성되는 다양한 찰나들을 경험해 볼 수 있을 것이다',\n",
       " 'DISORDER 박수진 서울 인사동 갤러리 시작에서 미디어 아티스트 박수진의 개인전이 열린다 여기저기 흩어져 있는 정리되지 않은 분열된 자아의 여러 가지 파편이 다양한 이미지로 작품 안에 믹싱 되어 나타난다',\n",
       " '아날로그 사진과 디지털 사진 컴퓨터 코딩으로 그린 그림 각종 이펙트 프로그램으로 만든 특수효과들이 독특한 형식으로 합성된 강렬한 이미지로 다채롭게 펼쳐진다 왜곡되고 과장된 화면 분할 극단적 대비를 보이는 흑백의 명암 환상과 현실의 경계를 넘나드는 섬뜩한 느낌의 소스 구성과 표현주의적 상상력을 불러일으키는 수많은 이미지들의 직관적 병합은 주로 카메라의 렌즈로만 보여 졌던 차적 이미지를 넘어선 사진의 최종 아웃풋 output 으로서의 또 다른 모습과 재미를 보여준다 더불어 전시장에 설치된 개의 라이트 박스가 보여주는 빛과 어둠의 환상적인 컴 비네이션과 또 다른 설치작품인 콘크리트 벽돌로 사이로 보여 지는 어떤 형상은 작가의 복합적 자아가 가지고 있는 어두운 환상이 현실과 내면을 넘나들며 존재하는 모습을 유기적으로 보여준다 이에 관객들은 전시를 통해 첨단 이미지 콜라주의 새로운 시각적 환상과 함께 모두에게 산재되어 있을지 모를 불안정한 자아의 드러나지 않던 모습을 보게 될 수 있을 것이다 작가는 년 서울 시립 대학교 환경조각 학과 및 동 대학원을 수료하고 미디어 파사드 media facade 스튜디오를 운영하며 작품 활동을 하고 있다',\n",
       " '포토포럼과 사진 책 우리 시대 사진가를 만나는 두 가지 방법 지난해 갤러리 류 가헌에서는 사진과 사진 책 이라는 제목으로 책 속에 담긴 사진들의 오리지널 프린트와 개 출판사의 사진집들 여 권을 한 자리에 모은 포토 북 페어를 열었습니다',\n",
       " '우리 시대 사진가들의 사진집들을 망라 해서 볼 수 있는 장을 마련하고 출판사들의 사진 책 출판을 응원하기 위한 이 전시는 그 전례 없는 내용으로 인해 사진계 안팎의 큰 호응을 얻었습니다',\n",
       " '년 월 류가 헌의 두 번째 포토 북 페어가 열립니다',\n",
       " '사진가와 사진 책 이라는 제목으로 열리는 이번 포토 북 페어는 여 명 우리 시대 사진가를 중심으로 지금까지 출간된 그들의 사진집을 한 자리에 모둠한 전시입니다',\n",
       " '책 속에 담긴 오리지널 프린트가 일부 함께 전시되며 작가 별로 구획 배치된 사진집을 보고 현장에서 사인 본을 구매할 수도 있습니다',\n",
       " '년 한 해 동안 출간된 신간 사진집들과 올해 전시된 사진전들의 도록을 볼 수 있는 코너도 마련됩니다',\n",
       " '포토 북 페어 사진가와 사진 책 의 가장 큰 특징은 전시 기간 중 연이어 지는 포토 포럼 입니다',\n",
       " '사 담 을 나누다 라는 타이틀의 포토포럼은 강운 구 김옥 선 노 순 택 성남 훈 신동 필 육 명심 최광 호 황 규 태 등 우리나라 사진사에 데뚝한 자리매김을 한 원로 사진가에서부터 활동이 활 활한 젊은 사진가에 이르기까지 명의 사진가들이 차례로 관객과 만 나 친밀한 분위기 속에서 사진에 관한 이야기를 나누는 행사입니다',\n",
       " '사진에 관한 담론을 나눈다는 의미에서의 사담 이자 한 사진가를 중심으로 소수의 청중이 사적인 모임처럼 마주 앉아 차를 마시며 서로 이야기를 나누는 형식에서 사담 의 의미를 지니기도 합니다',\n",
       " '부 한 장의 사진 수 겹의 이야기 는 사진 책 속에 담긴 사진 한 장으로 풀어 보는 사진 가의 나와 사진 이야기로 진행되며 부 이 사진가의 이런 생각에서는 작가별 자유 주제를 중심으로 논의가 오고 갑니다',\n",
       " '청중은 신청자들 가운데 선착순으로 여 명만 참여할 수 있습니다',\n",
       " '포토포럼 사담 을 나누다 는 주 간 주 회씩 나누어 총 회가 이어집니다',\n",
       " '왜 사진 책 인가 천 만 명 신문에 발표된 우리나라 아마추어 사진인구 수입니다',\n",
       " '또 지금껏 판매된 DSLR 카메라가 백만 대가 넘는다고',\n",
       " '합니다',\n",
       " '이렇게 사진이 일상 속에 일반화된 요즘이지만 사진을 찍는 사람은 많아도 사진집을 사서 보거나 소장하는 문화는 드문 게 우리 현실입니다',\n",
       " '글쓰기도 그림 그리기도 먼저 읽기 가 우선 됩니다',\n",
       " '다른 사람의 글과 그림을 읽고 보고 흉내 내기를 무던히 반복한 이후에야 흉내 내지 않은 자신만의 창작을 일구어 내는 것입니다',\n",
       " '사진이라고 왜 다르겠습니까',\n",
       " '전 문 사진 가든 아마추어 사진 가든 사진 책의 큰 의미가 여기에 있습니다',\n",
       " '더 구나 사진집은 누구나 쉽게 접근할 수 있는 시각 언어로 되어 있습니다',\n",
       " '집안이든 공공장소에서든 얇은 책 한 권에서 이처럼 깊은 층위의 감동을 얻을 수 있는 책으로 사진집만한 것도 없습니다',\n",
       " '사진 집을 보지 않는다고',\n",
       " '사진인구만을 탓할 수도 없습니다',\n",
       " '시중에서 사진 책을 접할 수 있는 기회도 많지 않을뿐더러 대형 서점에 조 차 사진집 코너 가 따로 없이 취미 또는 미술 서적 코너 한 쪽에 몰려 있던 시절도 있었습니다',\n",
       " '그때에 비하면 많이 좋아졌다고',\n",
       " '는 하지만 아직도 서점에 가서 사진집을 구매하기란 쉽지 않습니다',\n",
       " '감상은 애초부터 어렵고 빼곡히 꽂혀 하나하나 꺼 내보기도 쉽지 않으며 비닐 포장이 되어 있는 경우도 많습니다',\n",
       " '사진가 별 사진 책과 오리지널 프린트 가 함께 전시되는 특별한 사진전 년 포토 북 페어 사진가와 사진 책 을 여는 이유입니다',\n",
       " 'OOO을 꿈꾸며 공평 갤러리에서는 국내 젊은 청년작가들의 창작의 욕을 고취하고 미래의 한국 미술계를 이끌어갈 참신하고 역량 있는 작가를 발굴 지원하고자 청년작가 그룹 OOO을 꿈꾸며 프로젝트를 기획하였습니다',\n",
       " '제 회 미래를 보다 신진작가 발굴과 양성에 앞장서는 갤러리 엘 르의 블루칩 프로젝트의 일환인 미래를 보다 이 회째를 맞이 하였습니다',\n",
       " '여 명의 지원자 중 선정된 명의 작가는 갤러리 엘 르의 활동작가로 다양한 전시활동과 홍보 프로 모션의 기회를 제공받게 됩니다',\n",
       " '년 월 제 회 미래를 보다에 선정된 강호성 이 보람 작가 등은 년 갤러리 엘 르 소속작가로 활동하며 국내외 아트 페어와 브랜드 콜라보 레이션 등으로 왕성한 작품활동을 해 왔습니다',\n",
       " '특히 강 호성 작가는 미술은행과 국립 도서관 홍 콩 영사관 등에 작품이 소장되었고 색연필 작가 이 보람은 세계적인 색연필 회사인 파버카스텔과 연결되었으며 권 아리 작가는 각종 잡지와 TV에서 작품을 다루기도 했습니다',\n",
       " '제 회 미래를 보다에서는 명의 동서양 회화 작가와 명의 조소작가를 선정하여 전시를 진행하며 수 많은 경쟁자를 뚫고 선정된 만큼 퀄리티 높고 미래가치 있는 작품들을 보여드릴 예정입니다',\n",
       " '박제 경의 레이스 또 다른 회화적 관능의 세계 한 작가의 작업 스타일을 일의적으로 규정한다는 것은 결코 쉽지 않다 그런데도 적어도 미술 작업의 창의성을 도외시하지 않는 한 작가에게 일관되고 고유한 작업 스타일을 요구하는 것은 거의 원칙처럼 되어 있다 달리 말하면 특정한 어떤 그림을 보았을 때 그 그림이 누구의 그림 인가를 단박 파악할 수 있어야 한다는 것이다 이는 조형 작업의 가능성이 무진장 하다는 것을 전제로 하고 있다 또한 이는 작가의 그 유독 한 조형 방식이 관람자들에게 전혀 색다른 조형적 세계를 제공함으로써 특정한 감각의 영역을 느닷없이 경험하도록 하는 것이 미술 작업의 위력 임을 전제로 하고 있다 미술사를 장식하고 있는 위대한 작가들은 예외 없이 이 같은 미술 작업의 전제를 충족하고 있다고',\n",
       " '해도 과언이 아니다 중요한 것은 각기 나름의 고유한 작업 방식이 관람자들의 감각적 역량을 새롭게 끄집어 올려 그 폭과 깊이를 더할 수 있어야 한다는 것이다 창의적이라고는 하지만 그저 기발함에 머물고 말면 감각의 폭과 깊이를 더하지 못하게 됨으로써 강력한 예술적 힘을 발휘하지 못한다는 이야기다',\n",
       " '진정으로 창의적인 것은 묘하게도 보편적인 위력을 발휘한다 칸트가 제시한 공통감 Gemeinsinn 을 염두에 두지 않을 수 없다 감각 학적 공통감은 천재적인 창의성이 많은 사람들에게 보편적인 위력을 발휘할 수 있는 가능성을 뒷받침한다 작가들이 알게 모르게 때로는 자신 나름의 예술적 역량에 만족 해하기도 하고 때로는 끝없는 절망 속에 빠지기도 하는 것은 이 때문이다 이러한 점을 감안하면서 작가 박제 경의 회화 세계를 가늠해 보고자 한다 한 마디로 말하면 그녀는 이번 개인전을 통해 회화적 레이스의 세계를 창안해 보여준다 그것만으로도 일단 창의적이다 그 창의 성의 정체는 과연 무엇인가 달리 말하면 레이스의 세계를 회화적으로 표현해서 보여준다는 것이 감각 학적인 차원에서 빚어내는 의미와 효과는 과연 무엇인가 이에 관한 평자의 분석이 작가인 그녀가 염두에 두는 것과 다를 수도 있다 하지만 작품이란 일단 제시되고 나면 작가의 손을 떠난다 심지어 프랑스의 문학 평론가 인 모리스 블랑 쇼 Maurice Blanchot 는 작품의 고독 을 주장하면서 작품을 쓰는 자는 한쪽으로 밀려나고 작품을 다 쓴 자는 작품으로부터 쫓겨난다라고 했다 이를 염두에 두고서 평자는 자유롭게 나름의 분석을 하고자 한다 우선 박제 경의 회화적 기법에 관해 살펴보자 레이스는 코 바늘을 이용해 빠른 손놀림으로 실을 꿰어 여러 문양들을 만들어 내는 전통적인 수예 기법의 결과물이다',\n",
       " '물론 오늘날에는 컴퓨터 기술을 활용해서 온갖 다양한 문양을 만들어 내는 기계 레이스가 대종을 이룬다 그런데 박제 경은 실 대신에 물감을 코 바늘 혹은 편물 기계 대신에 그녀만의 독특한 붓을 레이스 본이나 컴퓨터 대신에 밑그림 없이 즉흥적으로 빠르게 움직이는 두뇌의 손놀림을 활용한다 박제 경의 이러한 독특한 작업 방식은 거미줄 잣기 spiderweb spinning 라 이름을 붙일 수 있다 거미가 집을 짓기 위해 꽁무니에서부터 자동으로 얇고 질긴 투명한 실을 만들어 내 어 순식간에 직조를 해 나가는 것에 비유할 수 있기 때문이다 박제 경의 거미줄 잣기 는 잭 슨 폴 록 의 흩뿌리기 dripping 와 비교된다 그 핵심은 잭 슨 폴 록 의 흩뿌리기와 마찬가지로 온갖 다양한 조형적 가능성을 지닌 순수 감각적 본능을 한껏 발휘하는 박제 경 나름의 회화 기법이라는 데 있다 잭 슨 폴 록 의 흩뿌리기와 마찬가지로 박제 경의 거미줄 잣기는 즉흥적인 감각을 본능적으로 통제하는 데 그 나름의 특성을 지닌다 여기에서 본능적인 통제 는 앞서 자아 올려 캔버스에서 펼쳐지는 선들의 유희에 의해 뒤이어 자아올리는 선들의 유희의 속도와 방향 및 밀도가 저절로 결정될 때 그 선들의 자발적인 조형적 유희에 작가가 손놀림이 올라타고서는 앞서거니 뒤서거니 하면서 조정하는 것을 뜻한다 박제 경의 본능적 통제에 의한 거미줄 잣기는 어떤 조형적 직조를 하려는 가에 따라 얼마든지 새로운 방향으로 힘을 발휘할 것이다',\n",
       " '이제 이러한 박제 경의 거미줄 잣기 기법을 염두에 두고서 그 내용으로 들어가 보기로 하자 망사라고 번역되는 데서 알 수 있듯이 레이스는 일반 옷감과는 달리 이른바 시스루 see through 를 가능케 하는 특이한 직조 형태이다 시스루는 몸 특히 살과 떼려 야 뗄 수 없는 관계를 맺고 있다 사이사이로 언뜻 비치는 보일 듯 말 듯 한 속살은 옷을 아예 다 벗어 노골적으로 드러나는 몸과는 전혀 다른 감각을 제공한다 레이스의 시스루는 관능 자체가 아니라 관능의 세계로 유인하는 관능에의 유 혹 이다 열어 보이면서 차단하고 차단하면서 열어 보이는 레이스의 시 스루가 갖는 열림과 닫힘 의 동시적인 이중성이야말로 관능의 기본적인 속성이다 회화사를 통해 수도 없이 취급되어 온 것이 바로 관능이다 관능이야말로 감각의 원천이라 여겼고 따라서 관능의 세계 속으로 진입할 수 있도록 하는 것이야말로 회화의 주제적인 본령인 양 취급되어 온 것이다 예컨대 레 오나 르도 다 빈 치의 모나리자에서 암암리의 관능이 없다면 과연 명작으로 취급될 것인가 구스타 브 클림트의 키스에서 적절한 관능을 놓칠 수가 없고 에곤 실 레의 꿈속에서 보다에서 너무 노골적인 탓에 관능을 벗어 버린 관능을 놓칠 수가 없다 그렇다면 열림과 닫힘 의 동시적인 이중성을 통해 관능을 노출하는 레이스를 회화적으로 구현한 박제 경의 그림은 과연 관능적인가 그녀의 그림에는 몸이 없다 살은 더더욱 없다 몸과 살이 없이는 그 자체로 결코 관능적으로 현존할 수 없는 레이스로 구축된 덩어리가 뜬금없이 공중 그러니까 캔버스의 허공에 매달려 있을 뿐이다',\n",
       " '그런데 그럼으로써 오히려 잠재적인 관능성을 발휘한다 두 연인이 한껏 강렬하게 정사를 치루고 난 뒤 주인공들은 온 데 간 데 없고 그저 어지럽게 무질서하게 주름져 있는 침대 커버는 얼마나 관능적인가 옥외 광고판인 양 도심에 높이 걸린 펠릭스 곤 잘 레스 토레스의 침대 광고 게시판 이 센세이션을 일으켰던 까닭이 거기에 있다 박제 경은 레이스를 관능적이게끔 하는 몸 또는 살을 삭제한다고 했다 그 대신 레이스 자체가 덩어리를 형성하여 몸 또는 살이 되는 지경을 구축한다고 했다 이는 일종의 절편 음란증적인 도착이다 절편 음란증의 주체는 여자의 속옷을 예사로 훔친다 고립된 공간에 들어가 그 훔친 속옷을 애무하면서 성적으로 흥분한다 박제 경은 관람자들에게 몸과 살을 제공하지 않는다 그 대신 몸과 살을 애매하게 감쌈으로써 관능을 불러일으키는 상태에 있는 몸 덩어리를 닮은 레이스 속옷들 만을 관람자들에게 제공한다 이는 관람자들을 은근히 절편 음란증의 주체 상태로 유인하는 것이라 할 수 있다 그녀의 이러한 유인 작업은 과연 성공적일까 작품들을 구분해서 보자 어떤 레이스는 분명 몸의 형태를 그대로 유지하는 속옷이다 다른 레이스는 더 이상 속옷이라고 할 수 없을 정도로 다소 무정형하게 덩어리져 있다 그런가 하면 또 다른 레이스는 마치 감각적인 흥분에 의한 것인 양 난분하게 흐트러져 있다 만약 이 작품들의 계열을 절편 음란증에 의거해서 성적으로 흥분을 일삼는 과정을 표현한 것이라고 한다면 무리한 해석일까 레이스와 덩어리는 본성상 전혀 이질적이다 레이스는 본성 상 덩어리인 몸 또는 살을 감싸면서 동시에 보여줄 수는 있어도 그 자체로 덩어리가 될 수는 없다 다른 한편 레이스는 본성 상 결코 증기화 될 수 없다 레이스는 본성상 몸 또는 살을 감싸는 것이기에 공중에 흩날리는 증기와 같은 것으로 될 수 없다 그런데 박제 경은 레이스로 된 덩어리를 만들어 레이스가 그 자체로 실 체임을 보여주는 가 하면 그 실체적인 덩어리가 해체되어 증기로 되는 모습을 만들어 레이스가 그 자체로 비실체적인 이미지 임을 보여주기도 한다 일컫자면 박제 경은 레이스라고 하는 여성적인 관능의 매체가 실체와 이미지를 오가면서 관능의 세계를 맴도는 지경을 그려내고 있는 셈이다',\n",
       " '그럼으로써 박제 경은 다시 기묘한 효과를 자아낸다 그것은 몸 또는 살이 지닌 관능적인 본질을 드러내는 효과이다 레이스가 감추고 있는 몸을 넘어서 서 아예 레이스로 변환된 몸을 염두에 둘 필요가 있다 그렇다면 아예 덩어리처럼 된 레이스에 함축된 몸은 어떤 몸이겠는가',\n",
       " '그 몸은 관능의 위력에 공격 받아 성적으로 응축된 긴장된 몸이라 할 수밖에 없다 또한 그렇다면 아예 증기처럼 공중에 흩날리는 레이스에 함축된 몸은 어떤 몸이겠는가',\n",
       " '그 몸은 성적 흥분으로 절정으로 치달은 몸이 아예 그 자체로 감각적인 살이 되어 사방으로 흘러넘치는 몸이라 할 수밖에 없다 박제 경의 레이스의 회화적 세계는 분명히 이렇게 해석될 수 있다 문제는 이러한 해석을 유도해 내는 강렬한 회화적인 조형 장치들이 다소 부족하다는 느낌을 준다는 점이다 색채와 선의 날카로운 대비와 격렬한 조화가 다소 부족한 것 같고 레이스를 형성하는 그 미세하기 이를 데 없는 선들이 전반적으로 보아 아직 관능의 열기에 덜 젖어 있는 것 같다는 느낌을 준다 그러나 그녀의 이른바 본능적 통제에 의한 거미줄 잣기에 역점을 두면 이야기가 달라진다 미세하기 이를 데 없는 그 거미줄 선들 을 자아내느라 미친 듯 집중하여 희열의 시간 속으로 잠입해 들어가 이렇듯 화려한 선들의 향연을 구축해 내는 장면을 떠올릴 필요가 있다 그 고도로 집중된 작가 박제 경의 본능적 통제에 의한 거미줄 잣 기 의 회화 작업의 시간이야말로 관능적인 회화적 감각에 한껏 젖어 있음에 틀림없다',\n",
       " '지금 우리는 그 결과를 대면하고 있다',\n",
       " 'meet YOU with in COLOR 빛의 스펙트럼의 파장에 의해 식별할 수 있는 시 감각 의 특성으로 시각의 기본적 요소 중의 하나이다',\n",
       " '우리가 분간할 수 있는 색의 가짓수는 몇 백만 개나 되지만 색은 크게 흰색 회색 검정 계통에 속하는 무채색 achromatic color 과 무채색 이외의 모든 색으로 빨강 주황 노랑 녹색 파랑 보라 등 밝거나 어둡거나 맑거나 탁한 색 전부를 포함하는 유채색 chromatic color 으로 나눌 수 있다 눈의 망막에는 추상체 와 간상체 라는 두 종류의 시세포가 있는데 밝은 빛에서는 추상체가 작용하여 색 지각을 만들지만 어두울 때는 간상체가 작용하여 흑백 사진과 같은 무채색의 시각을 만든다 그림의 역사에서 보면 색채는 형태의 본질적인 도형에 덧붙여 진 장식 이상의 것으로 생각되지 못했다 세기 말에 칸트 Immanuel Kant도 판단력 비판에서 본질적인 것은 도형이라고 언급한 바 있다 그러나 점차 미술 및 의류 직물 실내 장식 등에서 색채의 미묘하고 세부적인 사항들에 대해 연구하게 되었으며 현대 미술에서 색채는 형태를 덮고 있는 것이라 기보다 그 자체로서 실재하는 구조로서 파악하는 태도가 확산되었다 이번 전시는 년을 시작하는 갤러리 온 의 첫 번째 전시로 이승 신 우성 미 두 작가의 작품을 선보이게 된다 회화의 기본요소 중 가장 중요한 요소 인 색 을 테마로 각기 개성이 다른 두 명의 작가가 색에 대해 이야기해 본다는 취지이며 color 는 작가에게 대상을 표현하는 방법이기도 하고 영감의 원천이 기도 하다 이승 신 우 미경 두 작가에게 있어 색 이라는 요소는 어찌 보면 의식하지 못했지만 자신의 작품에서 누구보다도 중요한 위치를 차지하고 있는 부분이 기도 하다 두 작가는 각각의 개의 전시장 벽면을 이용하여 개의 색상을 정하여 그 색상에 대한 작가 개개인의 감성과 그에 부합하는 작품세계를 보여주게 된다 색상은 핑크 골드 레드 블루 막스 브라운 그린 화이트 보라 블랙 오렌지 중에서 표현될 예정이다',\n",
       " 'st Exhibition START 년을 맞이하여 처음으로 선보이는 이번 전시는 START 라는 주제에 걸맞게 시작을 알리는 작품들 로 구성되어 있다 시작 처음 듣기만 해도 설레는 이 단어들은 봄 질주 비상 등을 연상케 하여 비비드한 색채와 입체 갑 있는 작품들이 겨울 동안 움 추러 있던 마음을 활짝 펼치게 한다 전시관은 다양한 공간으로 나뉘어 져 느낌이 다른 작품들 로 기획되어 유쾌한 상상을 할 수 있다',\n",
       " '자녀 방에 걸어 주고 싶은 그림 SNS를 이용하다 보면 제 나이와 비슷한 연배의 이용자들에게 서 참 특이한 현상을 관찰할 수 있습니다',\n",
       " '해 가 지면 밤과 어둠이 주는 감수성에 젖어 일상적인 생각에 시적인 표현을 가미한 글들이 많이 올라오는 편인데 그것들에 대해 신선하다 멋지다 라는 긍정적인 반응보다는 감성 폭발이다 혹은 오글거린다 라며 글쓴이의 감수성을 은근히 조롱하고 기피하는 반응이 많다는 것입니다',\n",
       " '솔직함에 박수를 쳐주고 멋들어진 표현에 멋지다고',\n",
       " '표현을 해 줄 만한 여유조차 없는 걸까요 많은 사람들이 세상이 너무나도 차갑고 각박하게 변해 버렸다고',\n",
       " '이야기합니다',\n",
       " '유치원에서부터 경쟁력 을 모토로 가르치는 현실에 세상이 변했다는 것은 도저히 부정할 수가 없습니다',\n",
       " '하지만 딱 년 전으로만 거슬러 올라가면 이야기는 많이 달라집니다',\n",
       " '총칼이 난무하는 컴퓨터 게임보다는 밖에서 뛰어 노는 것을 영어공부보다는 동화책과 위인전을 읽는 것이 먼저였던 때가 있었습니다',\n",
       " '알게 모르게 정서 발달에 큰 영향을 준 어린 시절이었죠',\n",
       " '소통 과 공감 을 강조하는 시대 회색빛으로 물들어 가는 하루하루를 살아가는 어린이들에게 자그마한 유채색을 더해 주면 어떨까요 보고 상상하고 그것에 감동하고 그 감동을 표현하고 나눌 수 있는 발판을 마련해 주면 어떨까요 앞으로 살아가는 데 있어 숫자로 나타나는 능력보다 소통 과 공감 하는 것에 훨씬 큰 도움을 주지 않을까요',\n",
       " '모리스 갤러리에서 매년 기획하고 있는 자녀 방에 걸어 주고 싶은 그림 은 이런 각박한 경쟁사회를 살아가야 할 어린이들에게 잠시나마 순수한 동심의 세계로 돌아갈 수 있는 기회를 제공하는 전시라',\n",
       " '생각합니다',\n",
       " '자 이제 그림 소풍을 떠나 보면 어떨까요',\n",
       " '곽 한울 그 시절 친구의 집에는 이층 침대가 있었고 책상 위에는 새하얀 도화지가 있었다 토요일 오후 공원으로 자전거를 타러 가 자는 친구의 전화를 받고 삼거리로 달려간다 멀리 손을 흔드는 친구와 그 아이의 가족이 함께 서 있다 아버지는 누나와 다정 스레 이야기를 나누고 어머니는 등나무 바구니를 들고 있다 아마도 바구니 안에는 가족을 위한 소풍 간식이 들어 있을 것이다 그 낯선 풍경을 보는 순간 자전거는 점점 느려 지고 얼굴에 분홍빛이 오른다 자전거는 서고 친구의 부모님께 공손히 고개를 숙여 인사한다 그리고 나도 모르게 거짓말이 나온다 나 오늘 못 가 엄마가 그냥 오래 그럼 왜 왔어',\n",
       " '아까 전화로 그냥 얘기하지 내가 같이 가지 않을까',\n",
       " '미리 이야기 하지 않고 나를 가족 소풍에 초대한 친구가 미워진다 다시 인사를 하고 자전거를 되돌려 집으로 달린다 자전거는 점점 빨라 지고 땀이 나기 시작한다 어린 시절 나는 왜 친구의 가족 소풍에 따라 가지 못했을까',\n",
       " '시간이 흘러 어른이 되어도 내가 들어가기 힘든 공간이 있다 누구에게 나 허락되어 열려 있는 공간들 그 소소한 인생의 단편에 나의 자리를 생각한다 나는 그 곳을 바라보고 있다',\n",
       " '어쩔 수 없을 때는 어쩔 수 없다 뛰자 많은 사람들이 계획을 세우며 미래를 위해 살아간다 공인된 일들 대다수 사람들에게 인정받는 일들이 주로 큰 일로 간주되며 목포가 되어 삶을 이끌어간다 우리는 입시 취업 승진 성공시대가 익숙한 경쟁구조에 살아가고 있다 주변에는 엄친 딸 아들에서부터 수많은 자기 개발서 성공한 사람들의 이야기는 넘쳐 나 잊을 만한 목포 지점을 끊임없이 각인시켜 준다 하지만 나는 가장 하기 힘든 일을 큰 일로 분류한다 그것은 매우 일상적일 수 있는 생활의 일부로 가장 실행하기 힘든 일이 기도 하다 오늘부터 아침부터 일찍 일어나서 매일 운동을 하겠어',\n",
       " '란 결심이야말로 작심 삼일이 되기 쉽다 눈이 오나 비가 오나 밖으로 나가기는 더욱 힘들다 그만큼 지키기 힘들다 우리는 우리 자신에게 한 약속들은 쉽게 어기고 쉽게 우리 자신을 용서한다 피로 작은 일들과 큰 일들 로 분류되며 작은 일들 로 가득 한 삶은 하찮게 느껴지기도 한다 하지만 우리의 삶의 대부분의 사간들은 영화 같지 않은 작은 일들 로 가득 차 있다 이상과 현실의 차이가 클수록 우리는 불행하다 피로감은 더욱 가중된다 우리의 피로는 이런 작은 일들을 하나씩 해 나가면서 우리와의 약속을 지키는 것에서부터 시작된다 이것은 현실과 이상의 격차의 다리 역할을 하며 나의 몸 몸이 말하는 나의 현재 상태 그 시점으로부터 현실을 출발하게 해 준다 몸의 감각들은 머리를 쫓아가며 살아가는 내 자신을 조용히 멈추게 한다 최근 내가 할 수 있는 능력 밖의 일들에 휩쓸릴 때 매일 한 장씩 뛰는 사람을 그렸다 나의 심정의 변화와 뛰는 사람의 미묘한 심리변화가 흡사 함은 느낀다 그림을 그리면서 서서히 어쩔 수 없을 때는 어쩔 수 없다',\n",
       " '란 생각으로 마음이 비워 지고 물의 물성과 손의 감각 만이 나에게 이미 결과를 뛰어넘는 위안이 된다 나에게 그림을 그린다는 행위는 꿈을 꾼 후 그 꿈을 통해 뒤늦게 무의식을 엿보듯 그림을 그리고 난 뒤 그려진 그림을 보며 나의 상태를 엿보는 유일한 창구와도 같다 그림을 통해 말로 표현할 수 없는 정확한 목표나 결과가 없는 것 들이 무의식중에 내 자신이 무엇을 필요로 하고 있는지 수많은 목소리를 내고 있음을 듣는다 이번 전시는 이러한 나의 그림들을 모아 보았다',\n",
       " '시발 누구나 새로운 일을 시작 할 때의 설레임은 말로 표현 하기 힘든 짠한 느낌이 있습니다',\n",
       " '그 일의 시작과 끝이 좋을 수도 있고 나쁠 수도 있겠지만 이 전시를 하는 젊은 학생들은 좋고 나쁨을 떠나 새로운 일을 시작 할 수 있다는 것에 감사하며 작업을 하고 전시 준비를 했습니다',\n",
       " '전 시의 제목이 시발 이라는 단어 때문에 당돌하다고',\n",
       " '생각 하겠지만 이 단어는 사람들이 대부분 생각하는 하나의 욕이 아닌 일의 시작을 알리는 단어 입니다',\n",
       " '새로운 작업과 새로운 전시의 시발점에 서 있는 학생들의 열정 가득 한 전시가 전시장을 가득 채워 주길 바랍니다',\n",
       " '전업 주부 씨 어린 시절 아무리 배가 고파도 어머니께서 밥을 차려 주실 때 까지는 식사를 하지 않으시는 아버지를 보면서 난 참 미련 하다는 생각을 했다 간혹 어머니께서 외출을 하시는 경우가 있었는데 찌개는 데우기만 하면 되고 반찬은 냉장고에서 꺼내기만 하면 되는 간단한 일인데도 아버지께 서는 어머니께서 집에 돌아오시기를 기다렸다가 꼭 어머니의 손을 빌려 본인의 식탁을 차리셨다 아버지의 와이셔츠는 원하는 시간 안에 원하는 모양으로 다려 져 있어야 했고 늘 두는 곳이 정해져 있는 속옷과 양말도 꼭 어머니께서 찾아 주셔야 했다 어머니는 계속해서 무언가를 하고 계셨고 눈을 뜬 순간부터 잠들기 직전까지 분주한 움직임이 멈추지 않는 상태의 어머니를 보고 있으면 나도 무언가를 해야만 할 것 같아 따라서 집 안을 서성이곤 했던 기억이 떠오른다 그렇게 바쁘게 움직여도 왜 어머니의 엉덩이는 커져만 가는지 왜 뱃살은 늘어만 가는지 난 이해가 되지 않았고 모든 집안일을 마치고 드디어 쉴 수 있는 시간이 오면 특별한 취미생활 하나 없이 결국 텔레비전 앞에서 채널을 돌리시던 어머니의 뒷모습은 세상에서 가장 쓸쓸해 보였다고',\n",
       " '나 할까 난 가끔 방송에서 자신의 꿈은 포기하고 자식만 바라보며 살아왔다는 아주머니들의 인터뷰가 나오면 가슴이 답답 해져 채널을 돌려 버렸다 그리고 문득 그 아주머니들의 포기했다 던 꿈은 무엇이었을까',\n",
       " '생각에 잠기곤 했는데 각자가 꿈꾸던 모습은 조금씩 다를 지라도 분명 공통적으로 어떠한 무대의 주인공이 되길 상상하며 설레는 마음으로 하루하루를 살던 시절이 있었을 것이라는 생각과 전업 주부의 삶과 그 삶을 맞바꾼 것이 아닐까 하는 생각이 꼬리를 물고 이어졌고 아주머니들의 잃어버린 삶에 대한 안타까움이 답답 함의 원인이었음을 알게 됐다',\n",
       " '그런 가운데 주부들에게 서 화장을 하지 않고는 절대 외출하지 않고 어려 보이게 만들어 준다는 화장품 광고는 거의 신뢰해 버리며 거 추장 스러 운 리본이나 장식들이 달려 있는 앞치마나 거실화를 예쁘다고',\n",
       " '구매하거나 나이가 들수록 화려한 색상과 무늬가 있는 옷을 착용하는 모습들이 공통적으로 나타난다는 것을 발견하게 됐는데 이는 전업 주부라는 위치를 선택함으로써 채울 수 없었던 욕구를 해소하려는 현상으로 해석된다 난 이 점이 재밌고도 참 씁쓸하게 느껴졌다 내가 그 분들이 익숙하게 여길 만한 도구들을 나열하여 새로운 형태를 만드는 것은 마치 그 분들에게 작은 위로의 마음을 전하겠다고',\n",
       " '슬픈 곡을 연주하는 것과 비슷하다고',\n",
       " '나 할까',\n",
       " '마 시풍의 회화세계 기존의 질서에 구애 받지 않는 자유정신의 산물 미술에서 말하는 창작이란 기존의 조형적인 질서를 깨뜨리는 일이다 다시 말해 이미 누군가가 이루어 놓은 조형세계와는 다른 새로운 조형언어 및 어법을 강구하는 일이다',\n",
       " '그러기 위해서는 나만의 시각으로 세상과 마주할 수 있어야 한다 이미 이루어 놓은 세계를 답습하는 것은 진정한 의미에서 창작이라고 할 수 없다 물론 배우는 과정에서는 기존의 작품을 스승으로 삼는 것은 자연스러운 일이다',\n",
       " '그러나 조형적인 기술을 익히고 나면 스승으로부터 점차 멀어 짐으로써 비로소 창작의 세계가 열린다 마 시풍은 뒤늦게 그림을 시작한 만학 도이다',\n",
       " '그런 그가 그림으로 이름을 얻기 전에 인사동 서울 미술관을 운영함으로써 자연스럽게 미술계로 들어왔다 물론 그 이전부터 문인화로 그림을 시작하였으니 미술관을 운영하게 된 것도 우연은 아니다 오랜 동안 미술에 대한 애정과 관심을 갖고 있던 터인데 다 그림을 그리는 입장이기 되었기에 그렇다 하지만 그의 주변을 제외하고는 그림을 그리고 있다는 사실을 알고 있는 사람은 많지 않을 듯 싶다',\n",
       " '아직 까지 전시회를 연 적이 없는 까닭이다',\n",
       " '그러기에 이번 첫 개인전을 통해 비로소 화단에 정식으로 데뷔하는 셈인데 아마도 숨겨 진 솜씨에 적이 놀라지 않을까',\n",
       " '싶다 무엇보다도 그는 그 어디서도 미술을 따로 공부한 일이 없다는 점에서 특이한 경우라고 할 수 있다 스승 은커녕 그 흔한 문화센터에 조 차 나간 일 없이 오로지 혼자서 작업하고 있다는 사실이 놀랍다 더욱이 작품을 보고 나면 독학이라고는 믿을 수 없는 수준에 이르렀다는 사실에 다시 한 번 놀란다 수 백점에 달하는 작품 가운데는 아주 능숙하고 세련된 표현기법을 구사하고 있을 뿐만 아니라 회화성이 풍부한 작품이 적지 않다',\n",
       " '그러면서도 기존의 양식이나 어떤 경향에 비교되지 않는 회화적인 순수성이 느껴진다 첫 개인전이라고는 믿을 수 없는 수준에 이른 그의 작품은 얼핏 보아도 유사한 작가를 떠올릴 수 없을 만큼 독특하다 여기에서 그가 스승도 없이 혼자서 그림 공부를 해 왔다는 사실을 믿지 않을 수 없다 작품의 소재는 물론이려니와 제재 또한 다양하다 어느 면에서는 기존의 작가들이 전혀 의식하지 못한 소재 및 제재를 다룬다는 점에서 볼 때 이단적이라고도 할 수 있다 나쁜 의미로의 이단이 아니라 개성파 화가라는 뜻이다 즉 기존의 회화적인 고정관념을 벗어 나 보다 자유로운 조형의지를 관철하고 있는 것이다 이는 그가 어떤 특정의 표현양식 및 형식에 갇히지 않은 채 독자적인 시각으로 세상과 만나고 있음을 말해 준다 다시 말해 그는 자기만의 방식으로 세상을 바라보고 그로부터 소재 및 제재를 얻는다고',\n",
       " '할 수 있다 창작이란 모름지기 이전에 존재했던 작품들과 비교되지 않은 독창적인 세계를 추구하는 것이다',\n",
       " '뿐만 아니라 자기 모방조차 허용하지 않는 부단히 새로운 조형세계를 지향하는 것이야말로 진정한 의미에서의 창작이라고 할 수 있다 이러한 점에서 볼 때 그의 작가 적인 태도는 창작의 윤리성에 충실히 응답하는 셈이다 작품에 따라서는 기존의 인물화나 풍경화 또는 정물화로 분류하기 어려운 남다른 시각을 보여주는 경우가 적지 않다 한마디로 기존의 회화를 전혀 의식하지 않은 채 오직 자신만의 미적 감각 및 기법으로 그림을 그린다 이는 그가 강한 자의식의 소유자 임을 말해 준다 화가들 대다수가 그렇듯이 자기만의 미적 감수성과 미적 감정 그리고 독자적인 표현기법을 강구하고자 한다 이는 창작활동에서는 당연한 요구이다',\n",
       " '그럼에도 불구하고 실질적으로 개성이 뚜렷한 조형세계를 구현하기란 현실적으로 얼마나 힘든 일인가 그런데도 다양한 소재 그리고 일반성을 벗어나는 조형언어 및 어법을 구사하는 그의 작품을 보면 예술적인 재능과 미적 감수성은 타고난 것일 수도 있다는 믿음을 갖게 한다 그의 작품은 지적 조작이나 지식의 산물이 아니다 그 자신의 작업 자체가 어떤 특정의 양식이나 형식에 갇히지 않는 자유로 움 그 자체이기 때문이다 그만큼 작품의 표현영역이 넓다',\n",
       " '이럴 경우 타고난 미적 감각 아니면 어떤 영감의 소산이라고 밖에 달리 표현할 길이 없다 이전 작가들의 작품과 비교되지 않는 독특함은 우연이라 거나 또는 사뭇 의도적인 것이라고도 할 수 없다 달리 말하면 차라리 자유정신의 선물이라고 하는 것이 옳은지 모른다 그는 여행하는 가운데 소재를 얻는 경우가 많은데 야생 조류나 짐승을 선호한다 가령 북극곰을 비롯하여 물소 여우 판다 곰 독수리 두루미 등 일반적으로 잘 다루지 않는 동물을 소재로 한 작품이 적지 않다 이는 취향의 문제가 아니라 색다른 풍경과 상황과 마주했을 때 그로부터 미적 감흥을 느낌으로써 창작 욕구가 발동한 결과라고 할 수 있지 않을까',\n",
       " '이들 동물을 소재로 한 작품에서도 풍경화의 일반적인 구도를 의식하지 않는 자유로운 화면 구성을 보여준다 작품은 대체로 풍경화가 주류를 이루는데 이 역시 수려한 명승지의 풍경을 담는 일반화된 시각과는 좀 다른 관점을 가지고 있다 아름다운 자연 경치에 대한 관심보다는 자신이 보고 느낀 인상을 중시하는 경향이다 그렇다고',\n",
       " '해서 인상파의 화풍을 따르는 것도 아니다 순전히 그 자신의 미적 감수성 및 미적 감각이 반응하는 대로 따를 뿐이다 보이는 것 자체도 중요하지만 그보다는 그 순간에 반응한 자신의 느낌과 감정 그리고 의미를 솔직하게 담는데 의미를 둔다 마음을 움직이는 어떤 상황과 마주했을 때 일어나는 미적 감수성 즉 고조된 미적 감정 및 고양된 정신세계를 표현하는 것을 이상적으로 여긴다 하지만 즉흥적인 것은 아니다 밀도 높은 묘사기법을 보면 오히려 정제된 감정 및 의식을 중시하는 성향이라고 할 수 있다',\n",
       " '그래서 일 까 그의 그림은 시각적인 이해 그 이면의 내용으로 시선을 유도한다 그것이 구체적으로 무엇인지 얼른 이해 하기는 어려울지라도 무언가 깊은 사유의 세계를 반영하고 있음을 직감하게 된다 이로써 짐작할 수 있듯이 그는 시각적인 아름다움과는 다른 세계를 지향한다 그의 작품에 나타나는 색채 이미 지라든 가 형상언어는 시선을 사로잡을 만큼 화려하다거나 자극적인 것은 아니다 다만 시선을 내면으로 끌어들이는 깊이와 무게가 느껴진다 그것은 세상에 대한 그 자신의 주관적인 관점 임과 동시에 예술가로서의 사상 및 철학의 깊이와 무관하지 않다 풍경화 가운데 적지 않은 숫자는 감상자로 하여금 사유의 지평을 넓힐 수 있는 내용을 담고 있음이 분명하다 그것은 어쩌면 문학적인 이해를 필요로 하는 것인지도 모른다 가령 산을 배경으로 서 있는 소나무 한 그루는 의인화된 존재로 느껴진다 일반적인 풍경으로서의 조건을 초월하는 구성 이자 구도이기에 그렇다 역시 암 록의 산을 배경에 두는 황적색의 나무 한 그루는 강렬한 보색대비와 함께 그 숨겨 진 의미에 관심을 갖도록 유인한다 여기에 담긴 작가의 의도를 간파하기 위해서는 문학적이고 철학인 접근 방식이 요구되는지 모른다 그 만큼 그의 작품에는 시각적인 아름다움을 초월하는 내용이 담기고 있다는 뜻이다 또한 인물을 소재로 한 작품도 관심을 끈다 물 지개를 지고 간다 든가 쟁기질 하는 농부 큰 그릇을 머리에 이고 가는 여자 그리고 놀이를 하는 아이들 등 일련의 인물을 주제로 하는 작품도 무언가 암시하는 바가 적지 않다 그런가 하면 폭포를 소재로 한 작품에서는 서양화 재료를 사용하고 있는데도 그 전체적인 이미지는 한국화를 보고 있는 듯싶다 이러한 결과는 어쩌면 그가 문인화를 병행한다는 사실과의 연관성을 생각해 볼 수도 있지 않을까',\n",
       " '유채나 아크릴을 사용하는 상황에서도 한국화의 정신성 및 정서에 한층 민감하게 반응하고 있기에 그렇다 한편 그는 문인화 및 서예를 겸하고 있는데 이 역시 기존의 격식에 구애 받지 않는 자유로운 방식으로 작업한다 이러한 작품의 형식 및 내용은 진정한 의미에서 자유정신의 발로라고 할 수 있다 그의 작품은 일상적인 삶에서 유리되지 않는 그 자신의 삶의 단편 이자 에피소드라고 할 수 있는지도 모른다 일상적인 생활 가운데 또는 여행하는 가운데 만나는 세상을 보면서 그로부터 발단하는 표현 충동에 이끌려 붓을 드는 그의 작업 방식은 신선하고 순수 하다 심각 해질 필요도 없이 그저 그 자신의 표현 감정에 솔직히 반응하자는 태도야말로 그의 작품에 녹아든 순수성의 근원이라고 할 수 있다 그의 작업은 다름 아닌 이와 같은 자유정신의 산물이라고 할 수 있다',\n",
       " '기억의 해석 윤 희경 서교예술실험센터는 서교예술실험센터 년도 NArT 연계 신진 작가 지원 사업 끓는 상상 아티스트에 선정된 작가 윤 희경의 개인전을 개최한다 기억이란 무엇인가 그리고 그 기억은 인간의 마음속에서 어떤 식으로 해석되고 형성되는가',\n",
       " '라는 질문의 답을 찾기 위해 다양한 작업을 진행해 온 작가는 이번 전시를 통해 이러한 내면의 움직임을 재현할 수 있는 상상의 기기를 설계도 라는 기호의 형식과 그것을 바탕으로 한 움직이는 기계를 만들어 냄으로써 기억에 대한 개인적인 해석을 제시하려고 한다 그리고 단순히 기억의 해석 을 재현하는 것을 넘어서 생각하는 인간 그 자체에 대한 이해를 추구하며 인간이라는 커다란 의문의 존재를 해석해 가는 이 모든 소 소한 행위들을 기록으로 남기고자 하고 있다 이번 개인전은 작가의 주요한 작품 주제들을 아우르는 전시로서 특히 층 관에 설치된 두 개의 작품은 작가의 첫 신작이 자 기억의 해석 이라는 큰 주제 안에서도 사유의 표상 부제를 가지고 있으며 이 작업들을 통해 작가가 생각하는 내면의 움직임에 대한 개인적인 해석을 집중적으로 조망한다 층 관 가운데에 위치한 사유의 표상 Symbol of Thought 는 사유 안에서 일어나는 무한한 시간의 흐름과 마치 흐르는 물처럼 순환하는 기억의 굴레들을 상징하고 있으며 그 순환의 과정을 개의 단계로 나누고 그 과정들을 상징하는 형상들을 재배치시켜 하나의 표상으로 가시화하였다 더불어 천장에 설치된 사유의 표상 모든 것은 아래로 떨어지게 되어 있다',\n",
       " '를 통해 사유하면서 떠오른 생각들과 기억들이 결국 망각에 이르게 되는 것을 위에서 아래로 떨어져 이리저리 흩어지는 공들의 움직임들을 통해 명료하게 보여주고 있다 또한 층 관과 지하 층에 위치한 기억의 해석 드로잉 시리즈들을 통해 하나의 인간을 구성하는 가장 근본 적인 단위를 기억 사건이나 사상에 대한 정보를 마음속에 받아들이고 저장하고 인출하는 정신기능으로 정의하고 그 기억 을 바탕으로 하나의 인간 그리고 정신이 어떻게 형성되는 지에 대한 과정을 해석해 보고자 한다 그리고 그 드로 잉 시리즈와 같이 지하 층에 전시된 검은 원을 위한 드로잉 이라는 영상에서 작가는 언제나 무언가를 완성하기 위해 많은 것 들을 해내어 가지만 결국 무언가를 완벽하게 해낼 수는 없는 우리의 삶을 완전한 검은 원을 추구하는 작가의 행위로써 나타내려고 하였다 그리고 년 월 일부터 시작된 드로잉은 현재 여 장에 이르며 앞으로도 계속 진행될 예정이다',\n",
       " '고재 춘 전 북도 립 미술관 서울 관에서는 고재 춘 개인 전 을 개최한다 고재 춘 작가는 원광대학 교 조 소과를 졸업하고 이태리 국립 CARRARA 아카데미 조 소과를 졸업하였다 이번 전시는 작가의 번째 개인전이다 작가는 국제조각 전 재이 한인 조각 전 등 다양한 기획 초대전에 참여 포르투 갈 이태리 독일 서울 등 하였고 이태리 NANTO 국제조각 심포지움 등 스페인 ALMERIA 국제조각 심포지움 등 이태리 VENTURINA 아트 페어 갤러리아 등 이스라엘 STON IN THE GALILEE 국제조각 심포지움 등 이태리 BUDUSO 국제조각 심포지움 등의 수상 경력을 가지고 있다 현재는 한국 미협 한국 조각가 협회 마르 뗄 로 회원이며 목 원대학교 강사 남양주 조각 회 회장으로 활동하고 있다 고재 춘의 조각은 발굴 시리즈와 조합된 신체 시리즈 그리고 근작의 일상적인 풍경과 잉태 시리즈로 나뉜다 주제나 형식 면에서 약간의 차이는 있지만 크게는 이 시리즈들 로 묶인다 이 시리즈들은 표면적으로 구분되면서도 그 이면에서는 서로 통한다 형식이 달라지고 재료가 달라졌지만 존재와 인간에 대한 일관된 관심이 보편적 가치를 획득하면서 공감을 얻고 있다 조각 고유의 향기와 분위기를 유지하면서도 조각의 경계를 넘어 조각의 표현영역을 확장하고 있는 형식실험 역시 주목할 부분이다 잉태 시리즈 사람들은 저마다 마음속에 유토피아 하나쯤 간직하고 있다 현실과는 또 다른 현실을 꿈꾸는 것인데 현실에 대한 부정의식과 보상심리가 불완전한 현실을 보충하는 것이다 그것은 현실에는 없는 것이란 점에서 과거를 향하고 그것도 근원에 해당하는 것이란 점에서 신화와 전설 같은 아득한 과거를 향한다 과거로부터 역사로부터 내면으로부터 존재의 원형에 해당할 무엇을 캐내는 것이다 마치 자기 내면 깊숙한 곳으로부터 캐낸 것 같은 풍화된 시간의 흔적을 고스란히 압축해 놓은 것 같은 그 성전에 선 조각의 향기며 존재의 원형에 대한 아득하고 아련한 그리움이 환기된다 조합된 신체 시리즈 그동안 존재의 원형을 찾아서 인간의 존재론적인 조건을 찾아서 다소간 관념적인 길을 탐색하다가 마침내 일상이라는 현실 위로 정박했다고',\n",
       " '나 할까 지금 여기에서 일어나는 일이며 일상에서 일어나는 일은 비록 거창하지는 않지만 손에 잡히는 실체며 뚜렷한 현실로 인해 관념으로 재구성된 현실인식보다 못하지 않을 것이다 그 진부한 현실 속에서 우리 보통사람들 모두는 삶이라는 이름의 연극을 연기하는 배우들일지도 모른다 현실적인 삶과는 또 다른 삶을 꿈꾸는 몽상가 들일지도 모를 일이다',\n",
       " '그렇게 작가의 작업은 연극적이고 마치 한편의 연극무대를 보는 것 같다 일상성에 의한 작업이 쉽게 공감을 끌어내면서 조각의 표현영역이며 범주도 덩달아 확장시키고 있다 작가는 찬 대지 아래서 한기를 견뎌 내며 인고의 시간과 성찰의 시간 그리고 실패와 절망 고통의 시간을 견디어 내고 한층 더 성숙해 지는 모습을 우리 인생의 모습에 비유한다 이번 전시에서는 장미 소녀 가을 들녘 붉은 노을 싱그러운 꽃 등 모든 자연 안에서 삶의 여정으로 안내할 것이다',\n",
       " '현대 도시 풍경의 변종 산수 임 희성은 한국화를 그리면서도 새로운 조형성을 적극적으로 모색해 온 젊음이 넘치는 작가이다 그는 보다 새롭고 현대적인 한국화를 위해 자신의 삶의 주변을 깊이 있게 살피며 이를 토대로 사색을 즐기는 작가로서 독특한 회화적인 맛을 드러낼 수 있는 조형적인 감성을 위하여 많은 공력을 쏟아 왔다 그뿐만 아니라 한국화의 채색에서만 느낄 수 있는 독특한 색감에서 드러나는 회화적인 맛과 젊은 시절에 옥탑 방에서 바라보았던 서울에 대한 생각과 느낌 등을 조화롭게 표현하는 데 많은 관심을 가져왔다 그는 차가운 도시에 대한 느낌과 더불어 도시 너머의 자연이 주는 아름다움이나 감흥 등도 함께 표현하였다 그 과정에서 한국화 특히 채색에서 느낄 수 있는 강렬함과 깊이 감 그리고 도시의 이미지를 압축한 기하학적인 표현 등이 그의 작품을 한층 미적으로 승화시킨 듯하다 어느 정도 추상적 이면서도 반구상적인 조형성은 비교적 안정돼 보이는 형태 감 및 깊이 감 있는 색감 등과 함께 현대적 이면서도 순수한 회화성을 담고 있어 주목된다 작가는 특히 한국화에 대한 남다른 애착을 현대적으로 승화시켰을 뿐만 아니라 산이 주는 자연의 본성과 우리 시대 현대인의 감흥 등을 조형적으로 압축시키고자 노력해 왔으며 마음속에 있는 도시의 이미지를 그림으로 표현해 내고자 하였다 그리고 이를 표현하고자 transformation 이라는 일련의 제목을 지닌 그림들을 그리면서 새로운 현대적 조형 감과 색채감 및 공간 감 등을 개성 있게 드러낼 뿐만 아니라 비교적 심플하면서도 화려한 원색을 위주로 조형성을 드러내고자 하였다 노랑이나 빨강 초록 등을 즐겨 사용하여 표현한 삼각형 등의 기하학적인 틀은 마치 추상과 구상을 양존시키면서도 단순화시킨 듯한 공간 감을 만들어 흥미를 준다 이는 삼각형 등을 단순하게 색채 속에서 드러내는 것이 아닌 우리의 전통 산수화 등을 이미 지화시켜 가며 한국적인 아이덴티티를 조형화 시키는 흥미로운 작업이다 이것은 아마도 한국성의 소중함에 대한 인식에서 비롯된 작업일 것이다 또한 작가는 여기에서 멈추지 않고 보다 현대적인 보편성을 확보하는 데도 많은 노력을 해 왔다 최근의 작품에선 마음속에 있는 것뿐만 아니라 한국성을 구축하면서도 한국미의 멋과 맛을 살린 회화적인 질감과 색감 그리고 조형 언어 등을 토대로 한 세부적인 미적 표현 테크닉까지 탐닉된 듯하다',\n",
       " '이런 면에서 그의 transformation 은 주목된다 비록 도시의 한 단면을 자연과 공존시켜 가며 그린 것이지만 그 속에 담긴 여러 한국성과 관련된 회화적 정황들 및 다양한 표현 테크닉 그리고 기하학적인 구조 등에서 그의 작품의 표현 심리와 회화적 제스처 등을 읽을 수 있다 은근히 섬세하면서도 감각적인 그림을 그리면서 많은 공력을 들인 흔적들이 여기저기에서 나타나는 그의 작품들은 젊은 나이 임에도 그만의 독창적인 그림이라고 말할 수 있다 특히 그가 그리고자 하는 도시와 산수 그리고 자연과 인간의 이미지 등에는 작가의 마음으로부터 나오는 인간적인 향기와 자연과 전통의 환기 등 여러 가지 의미가 담겨 져 있는 것이다 그는 옥탑 방에서 생활하던 대학 시절부터 옥상에서 보이는 다양한 풍경들을 오랜 동안 진지하게 관찰하였고 그 결과 복잡한 도시에 대한 거부 반응이 점차 새로운 조형의 모티브로 다가온 것이다',\n",
       " '이런 연유로 그의 그림에서는 한국적인 면과 더불어 서양화보다 더 강한 조형의 흔적 및 강렬한 모노 계통의 색채 등이 공존하므로 고정관념 속의 한국화의 이미지가 보다 새롭게 변화한다 그러기에 임 희성의 그림은 서양의 현대미술이나 서양 회화의 양식을 단순하게 좇아가는 것이라 기보다는 우리 시대 한국인들의 삶을 조형적으로 압축시킨 것이며 한국인으로서의 감흥을 공간과 형태 그리고 색 등을 통해 조형적으로 자연스럽게 드러낸 작품이라 생각된다',\n",
       " '존재와 벽 정 효 정 정 효 정 작가는 존재와 벽 이라는 제목으로 전시를 개최한다 작가의 이번 작품은 털실로 성글게 짜여져 가볍고 투과되어 볼 수 있도록 만들어 진 니트 벽 실제 크기는 높이 미터 너비 미터인데 이것은 전시실 천장에서 아래로 늘어뜨려 공간을 가로 놓게 전시될 계획이다 이 벽은 어느 정도 개인적인 공간에서 느낄 수 있는 안도감과 모든 존재에 상호 연계성이 있음을 보여주기 위함이다 그리고 작가는 이 설치물과 개의 사진이 같은 공간에서 한 작업으로 전시될 것이며 작은 전시공간에서는 지난 작 업의 페인팅 존재의 시간과 공간 시리즈 중 점 도 함께 전시될 것이다',\n",
       " '비상 을 꿈꾸다 한 유진 작가 한 유진의 작품 속 가 릉 빈가 는 극락 정토에 있는 불사조로 미녀의 얼굴 모습에 새의 몸을 하고 있는 상상의 새를 형상화 하고 있다 예로부터 경사스럽고 상서로운 징조로 해석되어 온 가릉빈가는 악곡 연주 춤 노래로서 부처님을 공양하거나 설법 장소를 아름답게 하는 역할을 하였다 작가는 가 릉 빈가 이미지를 통해 인간의 희로애락을 표현하고 있다 인간의 모습을 한 여인의 표정은 놀람 기쁨 슬픔 두려움 등 우리가 일상에서 느끼는 감정들을 담아내고 있으며 화면 속에 등장하는 해와 달 구름 모란꽃 등의 다양한 이미지 조합은 비상하고자 하는 인간의 염원을 드러내고 있다 화폭을 자세히 들여다보면 여인의 모습을 한 가릉빈가는 등 뒤에 있는 날개로 인해 마치 천사를 연상케 한다 천사는 세상 속의 모든 근심 걱정과는 완전히 분리되어 있는 고결한 존재로 작가로서 세상 풍파와 맞서 오롯이 작업에 매진하고 싶은 작가 자신의 염원을 드러내고 있는 대상이다 가릉빈가의 다리와 날개의 표현은 섬세하고 그 자세는 유연하다 좌우로 펼쳐져 있는 날개 접혀서 날개 짓을 준비하고 있는 모습은 현실 속 고단함을 피해 영원한 안식처를 찾는 인간들의 근원적 희망을 표현하고 있다 또한 가 릉 빈가 이미지를 통한 인간 내면의 부귀 길상으로의 희구는 작가에게 있어서는 작업으로의 긍정적 에너지 발산을 기원하는 것이라 할 수 있겠다 한 유진의 작품 속에는 인물과 함께 달이 등장한다 달을 보면서 사람들은 그 형태와 밝음으로 인해 원만함과 은은함을 이야기한다 또한 초승달에서 반달로 다시 보름달로 변화하는 과정으로 계속적으로 반복하는 달은 삶과 죽음을 끊임없이 반복하는 영생의 존재로 강한 생명력과 영속성이란 단어로 대표된다 화면 속 달은 둥글고 인물과 어우러져 중심축을 이루고 있다 밝음만을 강조하고 고귀한 존재로서 아니라 유유히 그 빛을 드러내며 세상과 인간을 포용하는 듯한 모습을 보인다 인물은 달과 분리된 존재가 아닌 달 위에서 춤을 추거나 그 속에서 웃고 노는 모습 혹은 부도 의 분위기를 만들어 내고 있다 달의 색 표현 역시 그간 익숙하게 보아 왔던 흰색이나 노란색이 아닌 그림 속에 등장하는 세상과 인물이 합치 된 색으로 다양하게 표현되어 있다 이는 가릉빈가의 모습을 한 작가 자신이 달이라는 영속성을 지닌 존재를 동경함을 의미하면서 동시에 세상과 괴리된 영속성이 아닌 그녀가 속한 세상 속에서 끊임없이 새로운 것을 창출하고자 하는 예술 혼으로의 희구를 의미하는 것이다 한 유진은 작품에 길상적 이미지의 조합을 통해 작가로서 비상하고자 하는 강렬한 열망과 동시에 그 과정 속에서 겪고 있는 즐거움과 고통 등의 다양한 감정들을 담아 내고 있다 또한 아직 날지 못하지만 언젠가 날 기를 원하는 가릉빈가의 모습처럼 작가 자신도 언젠가는 마음껏 자신의 예술 혼을 표출 하리라는 포부를 화폭을 통해 알리고 있다 한 유진에게 일련의 작업과정은 작가 스스로에게 어쩌면 최면과 같은 작용을 했으리라',\n",
       " '니 체는 오랜 시간 동안 꿈을 꾸는 사람은 결국 그 꿈과 닮아 가게 되리라라고 말했다 이는 작가 한 유진이 세워 나갈 앞으로의 작업 여정에 기대를 걸어 보게 하는 대목일 것이다',\n",
       " '상황 희미하게 지탱하기 노 은주 작가에게 있어 공간이란 생활이 이루어지는 장소라는 개념 이상의 복합적 의미를 가지며 눈에 보이지 않는 작용들의 연계 그리고 그로 인한 역학의 대치가 생성되는 곳으로 나타납니다',\n",
       " '즉 공간은 삶의 안전을 보장하는 안식처 이자 여러 힘 앞에서 쉽게 무너져 버리는 비현실적 안전 을 보장하는 단순 구조물이 기도 자본과 결부된 허공의 선으로써 개인의 소유욕을 드러내는 대상물이기도 합니다',\n",
       " '노 은주의 이번 개인전을 통해 모호한 경계 속 섬세한 지탱의 순간을 포착하려는 작가의 예술세계를 들여다보는 의미 있는 시간을 가질 수 있을 것입니다',\n",
       " '작가 노트 도시의 잔해로 만들어 진 구조물과 임의의 경계를 만들어 내는 구조물을 이용해 이미지를 재구축한다 이를 통해 도시의 일상을 둘러싸고 있는 구조물이 자아내는 연약하고 위태로운 상황들을 드러내고자 한다 이러한 작업은 경계들 사이에 존재하는 미묘한 힘과 긴장관계 그리고 거기서 파생되는 여러 행동 불안과 같은 감정에 대한 관심에서 시작되었다',\n",
       " '그림자 사회 솔 베이지의 노래 불광동 토템 김상 돈 우민보고 는 한국 사회의 동시대 성과 예술의 의미와 역할을 반영하는 작가의 작품 을 소개하는 우민 아트센터의 기획전으로 이번 전시 제목 그림자 사회 는 소설가 최인훈의 소설가 구보 씨의 일일에서 차용했습니다',\n",
       " '박태원의 소설가 구보 씨의 일일 이 년대 식민 시대 일상 속 지식인의 내적 고뇌와 분열적 자아를 그렸다면 최인훈은 년대',\n",
       " '냉전시대 일상 속 예술가와 지식인의 내면을 반영합니다',\n",
       " '전 시 제목 그림자 사회 는 보이는 대상이 아니라 볼 수 있으나 보지 않은 혹은 볼 수 없었던 대상에 대한 관심과 이해를 위한 시도를 담고 있습니다',\n",
       " '작가 김상 돈은 냉전과 신자유주의에서 비롯한 한국 근 현대사의 배경에서 일상 대상 뒤에 숨어 있거나 보이지 않는 거대 기억과 역사가 드러날 때 감지되는 감정들을 표현하며 그것은 사회적 마이 너리 티 불온한 존재 경계의 존재 하위주체에 대한 상징과 알레고리로 나타나기도 합니다',\n",
       " '이러한 표현을 위해 작가는 사진 설치 비디오 등의 다양한 매체를 활용하고 있습니다',\n",
       " '솔베이 지의 노래 는 작가가 보고 느낀 환경에 대한 서술을 헨 릭 입 센 의 시극 페르 퀸트 와 이를 위한 에드 바르트 그리그의 극음악에 나오는 곡인 솔 베이지의 노래 로 빚 대어 작가 입 센 그리그의 시공간을 초월한 공명을 시도합니다',\n",
       " '솔베이 지의 노래 는 조각 영상 사진이 어우러진 총체적 작업으로 영상 솔 베이지의 노래 는 대표적 토목 공구인 톱으로 연주하는 구슬픈 음색을 사진 이슬 방울 은 작업실 천장에 맺힌 석회 물방울을 보고 사탕과 자각이 붙은 상상적 열매를 구름 섬 은 등산객이 쳐 놓은 모기장 텐트인지 무덤인지 UFO 일지 모르는 장소로서의 임시 거처를 의미합니다',\n",
       " '설치 역기 삼족오 일보 일보 화초 는 비루한 일상의 오브제들이 변용과 변신을 거쳐 새로운 생명력을 가짐을 보여주고 있습니다',\n",
       " '불광동 토템 은 작가의 거주지 이자 작업 실인 불광동을 배경으로 재개발의 폐허에서 불온하고 비루한 존재가 가진 욕망과 기운의 카니발 굿판 을 드러내는 설치 사진 작업입니다',\n",
       " '여덟 개의 창 OCI 미술관은 년 창작 스튜디오 입주 작가 명의 그룹 전시인 여덟 개의 창 을 개최한다 이번 전시는 지난 년 월 일부터 운영 중인 인천광역시 학익동 소재 창작 스튜디오에 입주하여 작품 활동에 주력해 온 명 작가의 레 포팅 전시이다 기 선정 작가 명은 윤기 언 임 현경 이상 한국화 김유정 박종 호 유 싸 무 이주리 조 태광 이상 서양화 김시 헌 복합매체 으로 년 월에 공개 모집으로 선정되었다 년 월 일 토부터 일 월까지 일간 오픈 스튜디오 Open Studio 개최를 통해 미술계 인사들 및 방문객과의 소통을 시도한 바 있다 여덟 개의 창 전은 인의 입주 작가들이 세상을 바라보는 비전의 창을 통해 그동안 쌓아 온 열정과 노력의 결실을 한 자리에서 살펴보기 위해 마련되었다 전시는 작품의 소재와 형식적 측면에서 정지된 시간 움직이는 공간으로 나뉜다 찰나의 무한한 이야기를 담고 있는 정지된 시간 섹션에는 김유정 박종 호 임 현경 조 태광 작가가 끊임없는 움직임과 생성을 표현하는 움직이는 공간 섹션에는 김시 헌 유 싸 무 윤기 언 이주리 작가가 자리한다 정지된 시간 김유정은 전통적인 프레스코 기법을 차용하여 주로 식물을 표상한다 몇 단계에 걸친 고된 작업 과정 속에서 각인으로 만들어 지는 형상들은 유한 성에 맞선 인간의 치열한 삶의 행위들을 상기시킨다 김유정의 작업은 우리 삶의 다양한 모습들을 공유하도록 한다 박종 호는 그리는 손 이젤 등 그리기에 관한 소재들에 집중하는 자기반성적 작업을 이어 왔다 최근에는 건물 하늘 등 외부 세계를 반영하고자 하는 열망을 새롭게 보인다 박종 호는 회화에 대한 연구를 바탕으로 하여 일상의 삶과 주변에 대한 충만한 감각을 일깨운다 임 현경은 동양화의 채색을 통해 파노라마적 풍경을 펼친다 풍경 안에는 나무 새 등 전통적 동양화의 소재와 분수대와 같은 도시적인 요소들이 혼재한다 또한 삼단화 천 정화의 구조는 종교 서양적 요소가 가미된 것이다 임 현경의 풍경화는 생명과 자연에 대한 존중의 표현이며 이를 동시대 적인 또는 미래지향적인 풍경으로 만들어 낸다 조 태광은 주로 나무와 새 구름 등의 자연물과 풍경을 구 글 어스를 이용한 조감도적인 시각으로 표상한다 작가는 자연이 훼손되는 고통에 반응하면서 유토피아에 대한 노스텔지어를 표현한다 이는 인간이 통제하는 자연에 대한 시각의 맹신을 경계하고 진정한 유토피아 적인 풍경으로의 변화를 모색하는 것이다 움직이는 공간 김시 헌 은 드로잉 회화 실험 애니메이션을 통해 길들여 지지 않는 선 이라는 주제를 연구해 왔다 이것은 움직임을 통해 얻어 진 비정형적인 선 형태를 의미한다 드로잉은 애니메이션을 통해 움직이는 회화 로 제작된다 김 시 헌의 작품은 새로운 이미지를 위한 신체의 흔적으로 다양한 매체와 결합하면서 시각의 확장을 유도한다 유 싸 무는 전쟁의 고통과 기억에 주목하면서 죽음과 불멸을 탐구해 왔다 영원할 것 같은 것 들 도 언젠가는 소멸하며 오히려 영혼 등 비가시적인 것 들이 불멸함을 유지할 수 있다는 것을 표현한다 게임 캐릭터나 동물 박제는 불멸을 함축하는 모티프라고 할 수 있다 유 싸 무의 작품에서 인간의 영혼과 꿈은 영원을 소망하면서 자유롭게 유영한다 윤기 언은 손을 통해 사람의 심리 상황을 짐작할 수 있다는 것에 주목한다 작품에서 하나의 손은 먹과 세필로 그려지는데 여러 개가 모여 새로운 형태로 나타난다 이는 시각 이미지의 다양성에 대한 가능성을 열어 두는 것이라 볼 수 있다 또한 운동성을 강조한 애니메이션도 새롭게 선보이면서 새로운 장르를 활용한 작가의 소통방식을 살펴볼 수 있다 이 주리는 주로 공사장을 배경으로 절단된 신체 기계 파편 등을 배치한다 공사장은 날 것 의 상태 무의식이 자리하는 상상적인 터로서 작용한다 텅 빈 땅은 작가의 깊은 내면의 요소들 로 채워지며 파괴와 생성이 동시에 일어나는 새로운 판타지적인 공간으로 펼쳐진다 여덟 개의 창 을 통해 관람객들은 인 색의 작품세계를 깊이 이해할 수 있는 기회가 될 것이다',\n",
       " 'OCI 미술관은 지속적인 관심으로 창작 스튜디오를 운영하고자 한다 이를 위해 보다 전문적인 프로그램을 구축할 것이며 소통의 장을 형성하는 시각 예술 공간으로 이끌어갈 것이다',\n",
       " '이 우석 초 끈이론 Super string theory 이란 우주의 최소단위가 마치 소립자나 쿼크 Quark 처럼 보이면서도 이보다 훨씬 작고 가는 끈으로 이루어져 있어 차원적 끈의 지속적인 진동에 의해 우주 만물이 만들어 진다고 가정하는 이론입니다',\n",
       " '모든 만물이 파장으로 이루어졌다는 것 다르게 말하면 우리는 우주 만물과 하나로 연결되어 있습니다',\n",
       " '우리의 주변은 파장으로 넘쳐 납 니다 빛이나 소리 파도 지진 등이 파장이라는 것은 누구라도 알 수 있습니다',\n",
       " '프리즘을 태양빛에 갖다 대면 빛의 파장의 차이에 따라 무지개 빛깔을 볼 수 있을 것 입니다',\n",
       " '자연 재해의 일종인 지진이나 쓰나미는 우리 인간보다 훨씬 거대한 파장이어서 무서운 것이고 온갖 악기는 우리 귓속의 달팽이 관을 적절히 자극하는 파장으로 기분 좋은 감동을 줍니다',\n",
       " '그렇다면 우리 자신은 파장이 아닐까 작가는 우주에 존재하는 어떤 것도 파장으로 이루어져 있다고',\n",
       " '믿으며 그 아름다운 파장을 캔버스에 담아 가는 작업 차원 빛 윤회 그리고 인간의 이야기를 파장으로 표현하였습니다',\n",
       " '김보 미 드러내기와 감추기 바라보기와 보여 지기를 통해 관람객에게 뭔 가 더 볼 것이 있으니 찾아 보라고 제안한다 분명하게 드러나지는 않지만 보여 지는 이미지를 찾게 한다 작업에서 이미지들은 작가 개인적인 이미지들 로 지난 사진 일상에서 문득 떠오르는 이미지 일상에서 쉽게 접할 수 있는 이미지 기억을 떠올리게 하는 단편적인 이미지들 로 지난 기억을 떠올리게 한다 하지만 아크릴 봉에 의하여 흐릿 해져 작가의 이야기가 감춰 진 이미지는 이미지 속의 인물이 누구인지 어떤 곳의 풍경 인지와 같은 실제적 사실은 이미 중요하지 않다 보여 지는 이미지는 관람자 개인의 기억이나 경험을 통해 축적된 각자 다른 의미를 이끌어내며 그 이야기는 결국 관람자 자신의 이야기가 되기도 한다',\n",
       " 'The Chosen Present 두툼한 겨울옷을 준비해야만 한다 겨울나무가 옷을 벗을 즈음 우리는 털옷을 꺼내는 수고를 해야만 한다 겨울 작업실은 뜸한 사람들의 발길로 오히려 더 요란해 진다 색색의 물감들 시끄러운 작업도구들 짙은 음악들 바람소리와 날리는 낙엽이 가져 다 주는 쓸쓸함은 반대로 작업실 안의 불빛을 더욱 따뜻하게 데워 준다 살아 지는 일들은 늘 그런가 보다 선택이다 그랬다 고통 끝에 얻어 지는 감동이 그랬고 부지런함과 게으름의 차이가 그랬다 할 어 반의 선택을 인용해 본다 우리는 비록 태어나고 죽는 것을 선택 할 수 없지만 그 사이에 있는 모든 것은 선택 할 수 있다 창밖에 겨울나무를 준비하는 자연을 바라보면서 내게 그림을 그리는 일 또한 선택이며 만족과 완성을 기대하는 행위라고 우기고 산다 그것이 반드시 빛나는 일이 아닐지라도 오늘도 오리고 붙이고 뿌린다 그 안에 내 소리가 열을 내고 움직인다 움직임은 그대로 화면으로 옮겨 진다 편안함은 내 몸을 반듯하게 누이는 일이 아니라 미친 듯이 살아 움직이는 것이 아닐까 내게 선택을 하게 해 준 귀중한 선물을 저 버릴 수 없다 사랑한다 선택한 나의 선물을',\n",
       " '임의 자막 다양한 조형 어법과 현대적인 감성의 내러티브를 작품 속에 녹여낸 여섯 명의 젊은 작가 고성 광 박영진 윤 세영 윤 송이 이미 나 SHARK I M 의 작품들이 임의 자막 Random Subtitles 이라는 제목 아래 한 공간에 전시된다 이들은 올해 서울과학기술대학 조형예술학과의 졸업생으로 지난해 여명이 함께 참여한 졸업 전시회에서 선정된 작가 들이다 전시작가 선정은 김인 선 스페이스 윌 링 앤 딜 링 대표 이서 영 GALLERY SP 큐레이터 최승현 국립 현대 미술관 고양 창작 스튜디오 프로그램 매니저 세 분의 현장 심사로 결정되었다 이번 전시에서는 졸업 전시회에 선보인 작품과 더불어 새롭게 준비한 신작을 한 자리에서 선보이게 될 것이다 고성 광의 작업은 인물에서 풍기는 분위기를 탐구한다 그는 고정된 성 역할과 관념에 주목하여 남성성을 강요 받는 군대 라는 집단에서 찾아낸 의외의 여성성을 작품으로 나타내고자 했다 그 안에는 군생활의 한 장면이 들어 있다 걸레질을 하고 바느질을 하는 군인의 모습이 그것이다 남성성의 집합체인 군대 안에서 고정관념 속 여성의 가사노동이 자연스럽게 녹아 있는 그 장면들을 포착하여 작품으로 옮기게 되는데 여기서 작가는 인물의 피부는 더욱 하얗고 투명하게 포즈는 전형적인 여성의 자태를 취하게 했다 상반된 관념의 충돌은 어느 한쪽으로 정의되지 않는 모호한 이미지를 만든다 박영진의 작품 마주하기로 는 관계를 시각화하려는 욕구에서 출발한다 한 테이블에 두 사람이 마주하고 있다는 사실만으로는 그 둘의 관계를 정의하고 싶은 욕구를 충족시킬 수 없다 이 지점에서 박영진의 작업이 존재 이유가 생겨난다 테이블 중앙에 각기 다른 판을 끼워 넣음으로써 두 사람의 역할은 정해지고 관계는 명쾌하게 드러난다 제작된 개의 가림 막 중 하나를 골라 정해진 자리에 끼워 넣는 단순한 동작을 실행한 것뿐인데 그 공간을 둘러싼 대기는 순간 전환되어 관람자는 특정상황을 연상할 수 있게 되는 것이다 윤 세영의 작업 일상 괴담 시리즈는 일상에서 흔히 찾아보기 힘든 낯섦 의 공포를 탐색하고 그것을 텍스트와 이미지로 옮긴 작업이다 낯섦 의 감정을 끄집어내기 위해 윤 세영은 조용히 자신의 유년 시절을 들여다본다 거기서 특정한 이야기를 찾아 내 어 하나의 에세이를 만들고 그 에피소드 전체를 상징하는 하나의 오브제를 도출 도식화하여 텍스트와 매칭시킨다 이러한 과정이 반복되어 일련의 시리즈 형태로 나타나게 되고 결국 각 텍스트가 하나의 시각이 미지로 수렴되는 경험을 가져 다 준다 윤 송이의 영상작업 PIN UP BOYS 는 핀 업 걸 에서 대상을 바꾼 것으로 여성의 입장에서 바라본 이성의 신체에 대한 호기심과 갈망을 표현하기 위해 남성의 몸 자체를 드로잉을 위한 도구로 선택하였다 작가에게 캔버스에 그림으로 표현되는 관찰의 대상이었던',\n",
       " '했던 남성의 신체를 직접 매체화 하여 상호 작용을 할 수 있는 능동적 행동 예술로 변화시켰고 그 과정에서 벌어지는 일련의 상황들과 감정의 흐름에 작가는 자유롭게 동참하였다 이미 나의 작업은 흔적 속의 세계이다 어느 날 문득 올려다본 천장에서 발견한 하얀 면 위에 검은 점과 선들 평범해 보이는 저 문양들이 갑자기 춤을 추는 것이 아닐까 하는 생각에 사로잡혔다는 작가는 그 날 이후로 주변의 무수한 흔적들에 생명을 불어넣기 시작했다 이미 나는 이 작은 흔적들 속에서 눈에 보이지 않는 또 다른 세계를 향한 무한한 상상력을 발휘하여 작가 자신이 설계자가 되어 그만이 볼 수 있는 환영들 로 세계를 창조하며 무한의 우주를 펼쳐 나가기 시작한다',\n",
       " 'SHARK I M의 영상작업 어떤 반란 은 상상 속 행위들을 실현함으로써 일어나는 예상치 못한 변화와 그에 대한 결과에 대한 보고이다 공공장소에 자신 만의 공간을 만든다 그리고 작가는 다른 이들처럼 커피를 마시고 지하철을 타고 밥을 먹는다 하지만 당연한 듯 보이는 그 행동은 특수하게 만들어 진 작가만의 공간에서 행해지기 때문에 남들과 비슷해 보이기도 하고 달라 보이기도 한다 이 공간은 작가 본인에게는 편안하지만 타인에게는 약간의 불편함과 괴리감을 느끼게 한다 이 퍼포먼스는 상상 속의 행위를 현실로 옮김으로써 일상을 마치 일상이 아닌 그 무엇으로 만드는 변화를 가져 다 준다 평범하게 생각하는 순간을 그렇지 않게 만드는 일 그것이 SHARK I M 의 작업의 가장 큰 이유이다',\n",
       " 'Love is 롯데 갤러리에서 따뜻한 사랑의 의미를 전해 줄 Love is 을 준비하였습니다',\n",
       " '이번 전시에서는 모든 인간의 근원적인 감정 중 하나 인 사랑에 대해서 생각해 보고자 하였습니다',\n",
       " '사랑은 예로부터 미술 작품뿐 아니라 수없이 많은 문예 전반의 소재로 다루어 져 왔고 또 그 종류 만큼이나 다양하고 다각적인 이야기와 해석을 낳으며 여전히 세간의 관심을 불러일으키고 있습니다',\n",
       " '그 끊임없는 관심의 이유 중 하나는 그것이 탄생과 죽음에 비견될 만큼 삶의 중요한 요소 중 하나라는 시각 때문일 것입니다',\n",
       " 'Love is 에서는 우리가 살며 사랑하는 모습과 그 주변의 일들을 따스하고 긍정적인 시선으로 바라보고 작가 특유의 독특한 방식으로 해석해 내고 있는 작품들을 대상으로 하였습니다',\n",
       " '이번 전시를 통하여 오늘날의 작가들이 사랑이라는 공통된 주제를 어떻게 색 다르게 표현하는지 사회나 현실을 반영하는 시각은 어떠한지 살펴 볼 수 있을 것입니다',\n",
       " '그러한 점에서 우리의 삶과 분리해서 생각할 수 없을 만큼 밀접한 소재인 사랑을 대상으로 한 작품이 우리 미술의 현주소를 이해하는 하나의 방법이 될 수도 있을 것이며 뿐만 아니라 오늘을 사는 작가들의 미술관 을 들여 다 볼 수 있는 좋은 기회가 될 것으로 생각합니다',\n",
       " '어쩌면 우리는 사랑의 의미에 대해 혹은 그 따스함에 대해 돌아볼 수 있는 여유와 시간조차 갖지 못한 채 메마르고 삭막한 삶에 쫓기며 살아가고 있는지 모릅니다',\n",
       " '하루가 다르게 쏟아져 나오는 디지털 매체의 폭풍 속에서 시대의 변화에 맞추어 사랑도 디지털화 되듯 점차 얄팍하고 가벼워 지는 것이 아닐까 하는 생각 또한 갖게 합니다',\n",
       " '하지만 차갑고 축축한 긴 터널의 끝을 지나면 봄은 다시 우리를 기다리고 있습니다',\n",
       " '의 작가들이 들려 드리는 아홉 가지 사랑 이야기들을 통해 작품 속에 스며 있는 여러 가지 사랑의 맛을 음미해 보시기 바랍니다',\n",
       " '아울러 그 의미에 대해 다시 한번 생각해 보는 계기가 되길 바라며 우리의 가족 연인 친구 이웃에게 따스한 온기를 전할 수 있는 소중한 기회가 되었으면 합니다',\n",
       " '고 상우는 인간의 삶과 죽음 욕망 죽음을 넘어선 영원한 사랑 사회적 현실 등을 주제로 하여 네거티브 기법으로 제작된 사진 작품으로 잘 알려 져 있다 국내뿐 아니라 뉴욕과 아시아를 비롯하여 유럽에서도 좋은 평가를 받으며 활발한 활동을 펼치고 있는 그가 이번 전시에서 보여 주는 작품은 남녀 간의 사랑을 주제로 한 작품들이다 화면에서 보여 지는 이미지들은 색상의 전도를 일으키며 화려한 색감과 환상적인 이미지의 표현으로 일상에서 벗어 나 우리에게 색다른 감흥을 불러 일으킨다 작가는 영원한 사랑을 표현하기 위하여 사랑하는 이의 죽음을 맞이해야 했던 여인들을 찾아 다니며 긴 시간 동안 인터뷰하고 모델로 참여하도록 하였으며 그 과정을 통해 환생의 법칙을 발견하고 기록하였다 남녀 간의 사랑 인간의 욕망 죽음 등을 대상으로 하여 이미지나 색의 전도뿐 아니라 의 전도 현실과 환상의 전도 나 아가 문화의 전도를 추구하고 있는 고상 우의 작품은 사랑이나 성을 넘어서 인간 정신의 근원과 본질에 대한 심층적인 물음을 던지고 있다 김 경 경의 작업은 어린 시절 외할머니와 어머니가 꿰매시던 이불 위에서의 기억에서 비롯된다 외할머니와 어머니가 꿰매시던 꽃 이불 위에서 골무를 끼고 놀다가 잠이 들었던 기억 그 기억 속에 존재하는 어린 시절의 심리적 공간은 한 땀 한 땀의 바느질로 재구성되어 어느 사이 어른이 되어 버린 지금도 위로와 치유의 작용을 한다 작품 속에 등장하는 사람이나 동물의 이미지들은 머리에 골무를 쓴 형상을 하고 있다 골무는 손가락을 바늘로부터 보호하는 역할을 하는 것이나 화면에 나타난 형상들의 머리에 씌워 진 이 골무들은 일종의 마 키스 마스크의 어원 중앙 아프리카 와 같은 역할을 하고 있다 양반의 탈을 쓰면 양반이 되고 동물 가면을 쓰면 동물이 되듯 가면의 대상과 동일시 해 주는 것과 같이 화면 속의 골무는 추억의 시간과 공간으로 데려가는 일종의 매개체의 기능을 하는 상징적 표현이다 김 덕기의 작품은 가족의 사랑이라는 일관된 주제로 밝고 화려한 원색의 사용으로 인해 맑고 화면에 투명한 빛이 비치는 듯한 특유의 느낌을 전달한다 그는 한적한 마을의 정원이 딸린 주택에서 뜰에 핀 꽃에 물을 주고 눈사람을 만들고 아내와 아이들 혹은 아들과 함께 식사를 하는 동안 항상 사랑하고 감사하는 순간순간을 표현하고 있다 일상적인 이야기들을 즐겁고 가볍게 그리고 사랑스럽게 이야기 하고 있는 그의 작품 속 가족의 모습은 너무도 따뜻하고 밝아 현실에 공존하고 있는 것 같지 않은 착각을 불러일으킨다 동시에 관람객들 로 하여금 그런 아련함으로 인해 지치고 상처받은 현실의 삶에 희망과 위안을 제공하고 있다 이번 전시에는 회화 작품과 함께 드로잉 위주의 작업이 주로 전시된다 사랑은 짜 잔하고 갑자기 찾아 온다 달달 한 포도 주스를 마시다 옷에 흘려 보라색으로 물이 드는 것처럼 그렇게 살며시 갑자기 찾아와 잊혀 지지 않고 가만히 머문다 그것이 사랑인지 모른 체 한 발한 발 그에게 또는 그녀에게 들어간다 그러고 보면 그가 나 인지 내가 그인지 모르게 된다 사랑은 이별을 데리고 온다 사랑이 떠난 자리를 이별이 채우고 우리는 사랑은 지우고 이별을 보내려 몸 구석구석을 자르고 지운다 마침내 지워 지지 않는 사랑과 떠나지 않는 이별은 다른 사랑으로 채워진다 진정한 나는 사랑을 하고 이별을 하고 다시 사랑을 하는 사이에 이 만큼 커진다 완벽한 사랑은 없다',\n",
       " '그래서 완벽한 나는 없다 단지 사랑을 사람답게 하려 노력하며 나는 진정한 사람이 된다 박 성수 작가 노트 중에서 백곰이 어디에 있어야 가장 자연스러울까 그것은 아마도 눈과 얼음으로 둘러싸인 북극이어야 할 것이다',\n",
       " '하지만 우리가 현실적으로 백곰을 볼 수 있는 것은 동물원이나 다큐멘터리 만화 TV 광고 등 에서 일 뿐이다 곰들 중에는 동물원에서 나고 자라 한번도 북극에 가보지 못한 놈도 있을 것이다',\n",
       " '그런 그들이 본능적으로 원하는 것은 백곰들의 서식지 그들의 조상들이 태어난 곳 북극의 차가 움 일 것이다 아이스크림 먹는 백곰에서 변 대용은 그것이 무엇인지 정확하게는 알지 못하지만 백곰들의 그 차가 움에 대한 막연한 그리움과 갈망을 달콤하면서도 차가운 아이스크림으로 비유해 보이고 있다 또한 뜨거운 아이스크림에서는 차가운 것과 뜨거운 것이 공존하는 마치 동전의 양면처럼 삶과 죽음 사랑의 환희와 이별의 슬픔 등을 표현하여 뜨거움 과 차가 움 백곰 과 아이스크림 이라는 서로 상반되는 이미지들의 결합으로 보는 이에게 색다른 즐거움을 제공한다 개가 한쪽 다리를 들고 소변을 보고 있는 유머러스한 작품으로 유명한 손 현 욱의 조각은 일상에서 우리가 쉽게 접할 수 있는 소재들을 대상으로 삼고 있다 번식의 기술 이라는 제목의 작품 속에는 작가 특유의 유머와 위트가 자연스레 녹아 있어 우리에게 친숙하고 편안한 느낌으로 다가 온다 이번 전시를 위해 특별히 제작된 렌티 큘 러 작품 숨겨 진 사랑에서는 악어 이빨의 날카롭게 드러난 부분과 하트모양을 하고 있는 숨겨 진 치근 의 부분이 중첩되는 이미지로 손 현 욱 특유의 위트와 재치를 보여주는 동시에 그간의 작품과 동일한 맥락에서의 미니멀한 측면과 팝 아트 적인 특성을 고루 보여주고 있다 작가는 지나치게 어렵게 느껴지는 현대의 미술 작품들에 대한 부정의 의미로 대중성에 집착하고 웃음을 자아내는 일상적이고 평이한 소재들을 통해 관객과 소통하고자 한다 나무로 여성의 다양한 희로애락을 캐릭터 강하게 조각하고 있는 송 진화는 나무가 지니고 있는 재료적 특성과 작가만의 독특한 이미지들을 잘 조화 시킨다 나무가 지니고 있는 형태와 자신의 삶에서 기억되고 있는 다양한 경험들을 결합시켜 최종적으로 작품의 형상들을 결정한다 그렇게 결정된 형상들은 자연과 함께 생성된 나무결과 매치되면서 삶의 힘들고 즐거운 표정들을 드러낸다 작가가 기르고 있는 반려 견 역시 그와 같은 방법으로 작품 속에 등장한다 송진화의 조각은 삶을 통해 느껴지는 그러한 내면의 심리적인 상황을 여성의 다양한 신체적인 동작으로서 풀어헤치고 있다 그의 인체 조각은 현대 미술에서 주된 논의가 되는 몸을 그것도 여성 신체의 표정을 주된 소재로 하여 다루고 있다 그의 인체 조각은 남성과 여성이라는 차별성을 벗어 나 타고 날 때부터 주어진 몸과 누군가에게 의지하지 않고 홀로서 기를 하고자 하는 여성의 심리적인 상황을 다루고 있는 것이다 이서 미의 작품은 작가 자신의 체험과 기억으로부터 출발한다 여러 작업 과정을 거치면서 작가의 감성을 담고 그리고 자기 진술의 형식을 거쳐 관객에게 자신만의 언어로 말을 건넨다 작가의 작품은 삶과 사람 그리고 사랑이 어우러져 그 축을 형성한다 삶의 주체가 사람이고 또 사람들의 삶에서 필수 불가결한 것이 사랑이라는 어찌 보면 통속적이고 상식적인 것이다 누구에게 나 있을 법한 누구나 겪었을 법한 누구나 기억 해낼 수 있을 법한 에피소드들이 작업의 출발선이다 그러나 그 일반성에서 일탈하는 감성과 사유가 구축한 각자의 형식과 목소리는 그리 일반적이지 않다 작품들이 대상이나 현상의 묘사나 재현이 아니라 삶과 기억과 마음의 작가적 진술의 층위에서 표현된 것이기 때문이다 사랑이란 언제나 삶의 중심에 있고 하트 는 그 사랑을 표현하는 특별하고도 의미 있는 그림이다 남녀노소를 불문하고 누군가에게 편지로 마음을 전하거나 혼자 낙서하듯 끄적이며 마음을 표현할 때 우리는 늘 하트를 그린다 누구에게든 어디에 있든 어떤 사연이든 사랑을 보여주는 가장 대표적인 마음 매개체인 것이다',\n",
       " '하지만 정작 하트를 그려 보라고 하면 대부분 하나만 달랑 그려 놓는다',\n",
       " '그래서 그는 하트를 주제로 다양한 그림을 그리며 하트에 관한 고리타분한 관념들을 시원하게 타파하고 하트의 범위를 확장했다 하트가 갖고 있는 여러 감정들을 그림에 창의적으로 담아 아이디어 하트로 재 탄생시켰다 이번에 선보이는 작품들은 하트 이미지를 모은 영상작업과 렌티 큘 러 작업이다 아이디어 하트에 웃고 울며 공감하다 보면 어느새 마음이 내가 사랑하는 혹은 나를 사랑하는 사람에게로 가 닿는다 마음을 움직이는 Heart 는 사랑의 표현에 메마른 사람에게도 따뜻하고 달콤한 사랑 셔벗이 되어 줄 것이다 작가 노트 중에서',\n",
       " '수평선의 안정된 구도와 사색이 어우러진 색채의 향연 흔히 다원주의는 모든 양식과 형식이 공존하는 동시에 시대와 시간의 벽을 허무는 수평적인 구조의 선상에 놓여 있다 김 학대의 작품에서 보이는 양식은 인상주의적인 색채 객관성을 배제한 나만의 형태로 표현하는 추상미술 마티스 적인 높은 채도의 강렬한 색채 최소한의 표현으로 세상의 다양함을 표현하는 미니 멀리 즘 등으로 패러다임에 부흥하는 다원주의적인 가치관을 그대로 드러낸다 현대를 살아가는 작가는 이처럼 시대에 순응하며 자신과의 이미지를 표출하게 되는데 예술가의 눈은 언제나 관객의 시선 밖에 존재하게 된다 바다는 육지에 사는 사람들에게 언제나 평온한 인상을 준다 작가가 찾은 제주도의 바다는 자신의 복잡한 일상을 벗을 수 있는 환경을 제공하였고 이에 시각적인 아름다움과 정서 적인 안정을 동시에 관객에게 전달하고자 작가는 스스로 품었던 심상을 화면에 표출하여 관객에게 전달하려 하고 있다 이러한 과정에서 파생된 시각적인 아름다움은 작가의 내면을 통해 간소화되어 미니멀한 색채의 수평선으로 환원되어 캔버스에서 혼합되지 않은 채 눈과 관객의 의식 속에서 혼합되어 펼쳐진다 색채에 대한 의식의 혼합은 인간이 가진 수많은 감수성에 의해 서로 다른 입장에서 읽혀 지게 된다 따라서 관객은 작가의 입장에서 바라 본 바다의 평온함을 캔버스를 통해 읽어 내게 되며 그 안에서 발생하는 색채들의 향연에 대한 향기를 느끼게 되는 것이다 작가이기 전에 인간인 김 학대는 자신이 간직한 추억을 감수성으로 관객에게 전달하고자 그림이라는 매체를 통해 전달하고 있다 역사적으로 그림은 수많은 매체에 의해 대체되어 왔지만 김 학대에 있어서 그림은 삶이 자 인생 이자 추억이다 따라서 이번 전시에 선보이는 제주도의 바다와 하늘은 마치 작가 김 학대의 일기장을 훔쳐보는 듯한 감수성과 서 정적인 정서를 내포하고 있다',\n",
       " '내가 기억하는 박동 정석 우 우리가 살고 있는 현대라는 곳은 빠르게 바뀌어 가는 커다란 흐름 속에 존재하고 있다 흐름이란 그 실체와 형상이 모호하지만 분명 도시 안에 살아 있는 커다란 에너지이다 실체도 정확하지 않은 커다란 흐름 이라는 것이 인공적인 에너지를 갖고 빠르게 현대문명을 바꿔 감에 따라 그 흐름 속에 살아가는 현대인의 내면은 커다란 에너지와 상반되게 점점 고립되고 공허 해지고 있다 도시를 살아가는 현대인의 내면에 흐름 이라는 방향성의 에너지가 가진 목적지를 찾아가는 과정을 정석 우는 그의 작업에서 나태 내고 있다 그가 생각하는 흐름 의 목적지가 어디인지 아직 그는 모른다 그것을 알아 가는 과정 고민의 흔적을 작업 속에 담고 있다 현대인의 내면의 감정들을 시각화하는 풍경 작업을 통해 우리는 그간 보아 왔던 시각적 풍경이 아닌 가슴속 풍경의 모습을 시각화해 볼 수 있다 정석 우는 도시 속에 살아가는 현대인의 내면을 초현실적이고 극적인 분위기의 신화적 풍경으로 나타낸다 제단을 연상시키는 캔버스에 우주의 기원과 고대인의 사유나 표상이 반영된 신성한 이야기 즉 신화를 통하여 내면의 모습을 나타내는 작업에서 그는 강렬한 터치와 색의 대비를 통해 에너지의 흐름 을 나 타 내었 다 대형 캔버스에 유화 물감이 뒤섞여 휘몰아치는 거대한 흐름은 이성이 아닌 감성 깊숙한 곳으로 거침없이 들어온다 인간의 내면에서 말하고 있는 또는 소리치고는 있는 감 정 뉘앙스 공상과 그것들의 원천인 꿈 들이 화면 안에서 소용돌이 치고 있는 듯 한 터치로 표현된다 소용돌이 같은 터치는 에너지를 휘감고 모호한 그 흐름 이라는 실체를 표현하고자 하는 작가의 내면 언어인 것이다 그는 뒤섞인 듯 또는 휘몰아친 듯 한 그만의 감성적 언어를 터치와 색채로 표현하였다 흐름 이라는 논리가 배제되고 이성이 개입되지 않은 초현실적인 존재를 그는 인간의 내면에서 작용하고 있는 감정들을 대상으로 시각화한 것이다 작가는 고립되고 공허 해진 현대인의 마음속에서 흐름의 에너지 그리고 그것에 의해 휘몰아 쳐지는 현대인의 내면을 본다 혼란스러운 내면 안에서 느껴지는 폭발력과 생명력을 작가의 시각적 언어로 표현한 그의 작업은 현대인인 관객들과 소통하고 싶은 작가의 에너지의 원천이 된다 그의 작업을 통해 내면의 울림에 귀기울여 보자 나를 둘러싸고 있는 흐름에 내안의 내면은 어떠한 울림을 울리고 있는지 어떠한 박동으로 숨 쉬고 있는지 휘둘리고 흡수되는 흐름에 무기력 해진 현대인에게 의미 있는 소통의 주제가 될 수 있을 것이다 작가 노트 양구에 가는 길이다 차창 밖으로 보이는 울창한 산의 모습은 무언가 폭발하는 듯하다 멀리서 서서히 움직이는 장면에서 강한 생명력을 느끼며 오래된 기억을 떠올렸다 신화적 풍경 작업을 아우르는 큰 주제는 흐 름 이다 흐름은 어 딘가 향해 가는 방향성의 에너지이다 흐름의 목적 지점이 어디이다 또는 없다 인지는 아직 모르겠지만 그것을 알아 가는 과정에 대한 고민과 공부의 흔적 자체가 작업이라고 생각한다 에너지의 흐름 은 강렬한 터치와 색의 대비를 통해 그림의 밑바탕을 이루며 빠르게 돌아가는 현대사회를 투영한다 빠르고 거친 물감의 발림은 에너지의 원천이 되기도 하는 사람들의 꿈 들의 집합이다 이러한 흐름이 화면에 모여 도시의 건축물처럼 거대한 구조물이나 공간을 이루고 또는 사라지기도 한다 많은 사람들이 도시에 살고 있다 내가 살고 있는 곳 역시 도시이다 도시의 풍경은 개발과 발전에 의해 빠르게 바뀌어 간다 편리와 효율의 극대화로 이루어진 인위적 공간인 도시 안에서 사람들은 빨라 진 현대문명에 자신도 잊은 채 자아는 고립되고 내면은 공허해 지고 있다 나의 작업은 창밖의 빌딩과 가로 수의 풍경이 아닌 현대인의 내면을 시각화하는 풍경이라고 할 수 있다 최근에는 사소한 일상에서 겪는 사건의 감 정 뉘앙스 미묘함을 거대화 시켜 초현실적이고 극적인 분위기의 신화적 풍경으로 재조합 하는 작업을 진행하고 있다 작업의 내 외적으로 끊임없는 의미 부여의 반복을 통해 화면을 구성해 간다',\n",
       " '나에게 그림이란 무엇일까 미술대학 동양화가 졸업하고 직장 육아 등 바쁜 일상에서 벗어 나 다시 작업을 시작 할 때는 수채화와 유화로 입문 하였다 풍경 인물 정물 등 다양한 장르로 작업하다가 언젠가 부터 진흙에 도도히 핀 연꽃에 빠져 연꽃만 그려 처음 개인전을 열고 이후 연꽃을 모티브로 그리움 자연의 아름다움에 대한 경외 심 감동들을 연작으로 그린다 또한 늦은 가을 노을이 서글프기보다는 아름다움으로 표현하여 인생 후반기의 또 다른 희망을 제시하는 듯한 정신적인 성숙으로 표현함과 함께 인생의 굴곡을 사유하듯 표현 하고자 한다 그림을 그릴 때는 역동적이고 자유자재로 구사하여 화폭에 표현하면 아슬아슬 하면서도 형언 할 수 없는 카타르시스를 경험하게 된다 그림이란 과거도 아니고 알 수 없는 미래도 아니고 현재의 삶이다 나의 모든 감각은 내 몸 안에서 일어나는 기억이며 치밀한 인생을 지극히 주관적으로 재구성해 가는 일이다',\n",
       " '내는 그리는 대상이 무엇인지 보다는 대상을 감각에 따라 구성하고 그려 나가는 행위에 더욱 의미를 둔다 치졸한 감상으로 작업을 한다 해도 그것도 지금의 나를 표현 할 수 있는 불가항력이다 있는 그대로 나를 드러낸다는 것은 섬뜩 할 만큼 긴장 된다 봄이면 피어나는 꽃의 온기가 있는지 쌓인 눈을 녹이며 얼굴을 내미는 꽃들 죽은 듯 고요한 나무 가지에서 각색의 꽃망울이 터지고 거친 껍질을 뚫고 새잎이 솟아나고 빛나는 뜻 짙푸른 초록들은 쌀쌀한 바람을 타고 푸름으로 가득 차 있던 산하가 오색 찬연한 빛으로 갈아입고 결실을 맺어 다',\n",
       " '내 어 주고 동면하여 또 새로운 봄을 품고 있는 삼라만상 모든 것 들은 기적이고 축복이고 영광이다 자연에서 나고 자연 속에 살고 죽어 자연으로 돌아가는 삶의 여정을 보다 구체적인 형태로 그리기 위해 하얀 캔버스 위에 수많은 번뇌 망상으로 일어나는 생각들을 자유롭게 색과 단순한 모양으로 던지듯 그리고 그 위에 영감에 의해 일어나는 색을 입히다 보면 내면의 심상이 구체적인 색이나 형태로 표현 되어 진다 그것은 나만의 생생한 환희의 경험이고 그러한 활기로 움으로 또 다른 영감이 연속적으로 이어지며 새로운 희망과 신념이 생기기도 한다 그리고 초월적인 이상향에 대한 동경으로 귀결 한다 자신의 정체성에 대한 질문을 스스로 해 본다 살아 있음이 온몸으로 펄떡거린다 반짝이는 빛 마음속 내밀 히 깃든 불성과 생명력을 온전하게 표현할 수 있길 소원 한다 진흙 뻘에 물 안 드는 파란 연꽃을 쳐다보고 만져 보고 그려 보다가 연꽃과 하나 되어 무심 해져서 진여 자 성 참 나를 알게 된다 연꽃에서 순환하는 우주에 무한한 사랑의 에너지 그 감동을 그림으로 표현하고 싶다 푸른 하늘 초록색의 산봉우리 물 오방색 만다라 구름 매화 꽃잎 사이 달빛 솟대 사람 새 물고기 등 자연의 모든 것이 그림의 소재이다 이 모두는 기적이고 따뜻함이고 행복이다 소소한 일상을 느끼고 고마워하며 날마다 좋은 날 만드는 사람에게 행복이 깃든다고 한다 나도 모르는 사이 타인들의 요구하는 생각과 규격에 길들여 지고 선입관을 통해서 보여 지는 요지 부동으로 무미 건조한 일상의 반복을 벗어 날 수 있는 출구는 그림이고 수행이다 나는 그림으로 메마르고 삭막한 현실세계 생 성적 구조 관습에 길들여 지기 이전의 자연의 세계에 대한 질문이며 동시에 감각과 정신 물질과 영혼이 분리되기 이전에 순진무구한 세계의 에너지를 응축된 이미지를 통해 관객과 소통하고 싶다 작업의 시작은 하얀 화면에 번뇌 망상으로 생기는 세계를 무심하게 그려 넣어 그 위에 과감한 원색이나 중간색으로 마티에르로 계절의 변화가 찾아오듯 희노애락을 조심스럽게 표현해 배경을 만든다 회화적인 평면성을 확산하면서 보다 간결화 된 형태와 선 작업으로 여백의 미를 충분히 살려 자연을 닮은 사람의 마음을 은유적으로 표현 하여 오래 접해도 물리지 않는 담담하고도 편안한 느낌의 그림을 그리고 싶다 아름다움이란 적절한 긴장을 요구 한다 그러나 긴장이 필요 없는 편안함 가운데 미적 쾌감을 주는 그런 그림 그리고 싶다 작품 발표 할 때마다 그림에 대한 깊은 이해 없이 표피 적인 흉내를 내고 있지는 않는지 누구를 위한 그림 그리기 인가 무엇을 위한 그림 그리기 인가 대한 근본적이고 지속적인 질문을 계속해 어떤 소재이든 어떤 주제이든 표현되어 지는 것 들을 통하여 관객들과 소통할 수 있길 염원한다 작업을 하면서 수 없이 일어나는 번뇌 망상들도 시간이 흐르면서 조금씩 고요해 진다 순간 알아차림 하여 미세 해져 작은 것 들 에게도 섬세한 눈길 주는 사람으로 조용히 뿌리내려 온전하게 살아 심장 박동 같은 그런 작업으로 향상 할 수 있도록 온전한 사람으로 작업에 충실 해야겠다',\n",
       " '목단 행성 황 세준 년 첫 번째 개인전 이후 여덟 차례의 개인 전과 다수의 기획전에 참여한 바 있는 작가는 년대에는 민주화 투쟁 속의 사람들을 그렸다 그러나 작가의 방식은 어떤 외적인 목적을 위하여 소용하는 것이라 기보다는 오히려 그림 속으로 현실을 끌어 들여와 관조 가능한 거리를 확보해 내는 것이라고 할 수 있다 황 세준 작가에게 그림은 삶을 조금 덜어 내는 작업이 자 동시대를 살아가기에 알맞은 자세 일종의 윤리의식이다',\n",
       " '년대에 잠시 그림 밖에 있었던 작가가 대안 공간 풀의 기획과 글을 통한 비평 작업 등 년대에 다시 돌아와 치뤘던 개인 전에서는 충분히 쓸쓸하고 사실적인 방식의 작업들을 선보였다 섣부른 희망이나 절망 없이 담담하게 그려 내기 아름다우며 동시에 눅눅한 삶의 비참함을 견뎌 내는 작업들 이었다 이번 전시 목단 행성 에서의 목단 즉 모란은 부귀와 명예 부귀와 영화의 상징인 꽃이다',\n",
       " '그러니까 문자 그대로 자본주의의 꽃 이다 지금의 한국은 물질적인 면에서 보면 불안할 정도로 빠르게 성장을 이뤄 냈지만 매사에 더 잘 먹고 잘 살아 보자 는 강박을 가지고 있다 목단 행성은 이런 강박에 대한 우화이다 결국은 나와 우리가 사는 세상이기에 감추려 하지 말고 있는 그대로의 누추함을 보며 어떻게 더 애정을 갖고 살아갈 수 있을지 질문해 본다 또한 왜곡되고 비틀어진 삶의 모습을 그려내는 행위 자체로 삶에 대한 애정을 보여준다 아름다움은 어디에 나 존재한다 이것을 되풀이하며 실재를 만들어 내는 마음의 기술이다 이것이 예술의 주술성이며 그것을 믿는 예술가의 역할이다',\n",
       " '이어 짐에 의한 세계 나의 작업은 삶의 에너지에 대한 관심으로부터 비롯된다 나에게 에너지는 무수한 선들의 움직임으로 인식되며 나는 그러한 선들을 풀어내는 작업을 한다 삶의 에너지는 그 무엇들 과의 이어 짐으로부터 비롯되며 그것이 무엇이 됐든 어떤 존재의 삶이란 세상 그 무엇과 관계를 통해 삶이 될 수 있다 이것과 저것 혹은 저것과 그것들이 만 나 그 무엇들 과의 이어 짐을 통해 생성될 수 있는 사이와 경계에서 탄생 가능한 것에 관한 작업이다',\n",
       " '사이와 경계에서 생성되는 것 들이기에 일상에서 익숙한 이미지들이 아닌 혼재된 형상들이거나 추상적 이미지로써 조우하게 된다 존재하지만 육안으로 확인할 수 없는 모호하고 불분명한 것 들을 시각으로 경험할 수 있도록 하는 작업이기에 나의 감수성과 생태학적 상상력에 의해 극대화되어 표현된다 유기적 관계 망에서의 인간의 심리와 정체성에 대한 작업들을 해 왔는데 최근에는 직접 손으로 실을 풀어내고 연결하는 작업을 통해 육화된 삶에 대하여 포착해 내는 작업을 계속 진행 중에 있다 실타래에 감겨 진 실은 삶의 여러 이어 짐 속에서 살아가는 존재들 로 관계의 잠재성을 의미한다 실타래에서 실을 풀고 풀어진 실들은 이리 저리 뒤엉켜 서로 얽히기도 하고 엮기도 하는 등 다양한 색의 실을 연결하는 방법에 따라 모든 표현이 가능 해진다 풀어진 실들을 수성 접착제로 고정시킨 실덩어리들은 인간과 동물 식물들의 여러 존재의 가능성에 깊히 관계하며 자유로운 형상들 로 탄생하게 된다 나는 그렇게 낱낱 히 흩어져 있는 개체들을 연결하여 세계와 맞닿는 세계를 생성해 나가고자 한다 그 세계는 다양하고 복잡한 형상들의 개체들이 상호관계 속에서 어떠한 이야기를 만들어 낼 수 있을지 모색함이며 심신을 편안하게 가다듬듯 실을 푸는 반복된 행위 끝에 펼쳐진 실천들을 공간에 펼쳐 내는 행위의 흔적 속에서 개체들이 어우러져 만들어 내는 공동체의 세계를 창조하게 된다 그것은 어떻게 개인이 그리고 우리가 세계를 창조한 수 있을 것인 지에 대한 탐색이며 세계에서 자신을 경험하고 의미를 찾기를 바라는 장이다',\n",
       " 'My artwork starts from an interest in the energy of life To me the energy is recognized as a movement of limitless lines and my work is to untie the lines The energy of life is created by a connection with something Whatever that is a life of someone or something can have a real meaning of life only though a relationship with something My work is about things that can be created between things or on the boundary which things meet and connect to each other Since they are created between things or on the boundary they take shapes that are mixed or abstract rather than normal and familiar Since this work is to visualize vague blurred and unclear things that clearly exist but cannot be seen my sensitivity and ecological imagination are maximized to express such things I have been working on the human psychology and identity in the systematic network Recently through works where I manually untie and connect threads I have been constantly doing works that capture the corporeal life The threads that are wound in the skein symbolize existences in many connections of life meaning the potential for relationships By untying and tangling threads that are various in terms of colors and methods of connection every form of expression is available The thread lump which is made through fixing untied threads with water based glue take form of anything deeply relating to the possibility where human animals and plants exist I would like to generate a world that meets another world by connecting individual things that are scattered In the world i seek to create a story in the interrelations among the various and complicated units Through the repeated thread untying movement that would comfort our mind and body a community which is made of various units is created It is an exploration of how an individual and we can create a world and how to find a medium through which we can experience our own ego and find the meaning of relationship in the world',\n",
       " '의 다른 이야기 전 북도 립 미술관 서울 관에서는 휘 목 미술관 레지 던 시 기획전 을 개최한다 이번 전시는 부 안 휘 목 미술관에서 진행하고 있는 전라 북도 지원 레지 던 시 사업을 마무리하면서 입주 작가 인이 레지 던 시 기간 중 작업했던 작품들을 선보이는 자리이다 대부터 대까지의 작가 인이 개월여를 동고동락하면서 심혈을 기울여 작업한 작품들이다 김 강현 작가는 개인 전 회 다수의 기획 초대전에 참여하였다 미술세계 대상과 특선 외 입선 회 안동 대학교 서양화 강사로 활동하였다 작가는 봄과 여름 가을과 겨울이 지나는 시간의 공간 속에 운 호 구름과 호수가 있는 마을 라는 곳에서 바라보고 느낀 것을 작품으로 옮긴다 조금은 차갑지만 다가오는 신선한 바람과 대지의 평온 함 둥그렇고 자유로운 형태의 자연 하늘의 푸름 그 아래 긴 그늘과 섬의 이미지를 준 큰 나무와 동식물들이 작가 작품의 주된 소재이다 이 모든 것을 지키며 자연 그대로의 본질적 향기를 지키는 숲의 정령이 어딘가에 있을 것이라고 믿는 작가는 정령의 모습을 작업으로 표현하는 것이다 살아 있는 것 지구 안에 존재하는 모든 것은 모두가 시간의 흐름을 통해 생명의 푸름은 자라나고 성숙해 지며 그 안에서 꽃 피우고 다시 시들며 긴 과정을 거치게 된다 그리고 그 과정 속에 우리는 자아에 내재되어 있는 즐거움과 흥에 겨운 모습 그리고 본질적인 삶의 가치에 대해 생각해 볼 수 있을 것이다 김 충 호 작가는 홍익 대학교 서양화 과를 졸업하고 개인전 회 다수의 기획 초대전에 참여하였다 현재는 미협회원 광주 전 남수 채화협회 회원이다 김 충 호 작가의 회화는 은유적 시와도 같다 자연의 강인한 생명력에 따뜻함과 아름다움으로 반응한다 일상에서 자연스럽게 볼 수 있는 꽃잎과 따스한 햇살 그리고 포근한 바람 나무 잎사귀 하나하나를 귀하게 여기며 작품으로 다시 만들어 낸다 작품 안에서 그것들은 또 다른 생명을 부여 받고 한편의 잔잔한 시로 다시 태어난다 작가는 보는 이들 로 하여금 잃어버린 것들에 대한 소중함을 다시 한 번 일깨워 주고 추억을 되새기게 할 것이다 양미랑 작가는 홍익 대학교 서양화 과를 졸업하고 다수의 기획 초대전에 참여하였다 작가는 먹고 먹힌다는 의미에 대해 이야기 한다 일반적으로는 입을 통해 음식을 섭취한다는 의미와 누군가를 종속시키고 종속당하는 속박의 의미로 해석할 수 있다 즉 권력구조에 대해서 말하는 것이다 작가는 자기만의 우월한 종족을 만든다 그것은 인간보다 모든 것이 우월하며 어디서 어떻게 탄생했는지 알 수 없다 하지만 같은 공간에 존재하며 끊임없이 그들을 사랑하고 경계하고 증오한다 이러한 비현실적인 존재를 만들어 작품으로 표현하는 작가는 공포와 권력 그 자체에 대해 말하려는 것이다 이것은 평탄하지 않는 인생을 살아가는 인간들의 하염없이 가련한 생존 기를 표현한 것이다 진정권 작가는 원광대학 교 미술대학 서양화 과를 졸업하였다 번의 개인전을 개최하였고 다수의 기획 초대전에 참여하였다 작가는 우리 삶에 있어 주어진 시간의 흐름에 대해 이야기한다 젊은 작가로서 내일을 꿈꾸며 오늘이라는 하루를 보내면서 느끼는 복잡함과 청춘의 방황을 작업으로 표현한다 작품의 제목들이 말해 주듯 화가의 인생을 살아가는 작가의 의지를 되새겨 주고 의지를 보여주는 글들 로 제목을 붙인다 작가의 나무들은 모진 세월을 이겨 낸 생명과 같은 진정한 아름다움의 가치로 설명되며 그것이 결국 삶이라는 것을 보여준다',\n",
       " '벤 타 CAC 아트 콜 레보 레이션 프로젝트 with 남경 민 독일의 세계 최초 에어 워 셔 이자 유럽 지역 위 에어 워 셔 브랜드 인 벤 타에 어 워 셔 Venta Airwasher 국내 공식 수입 사인 벤 타 코리아 www venta co kr 김 대현 대표 가 지난해에 이어 두 번째 벤 타 아트 콜 레보 레이션 박스 프로젝트를 진행한다고 밝혔다 본 프로젝트는 벤 타 코리아가 최근 년 만에 출시한 신 모델 벤 타에 어 워 셔 시리즈의 출시를 기념해 마련한 것으로 화가의 방 을 주제로 한 남경 민 작가의 회화 작품을 벤 타에 어 워 셔 제품 배송 박스 디자인에 적용시켜 단순 제품 박스를 넘어 하나의 예술 작품에 가깝다 박스 면마다 각기 다른 작품이 적용되어 있어 박스 면을 잘라 액자에 걸면 미술 작품으로 변신해 인테리어 소품으로 활용하기에도 좋다 벤 타 아트 박스는 벤 타 CAC Create AirComfort 패키지 상품을 구매한 고객에게 배송 박스로 제공된다 벤 타 CAC는 강력한 실내 공기 순환 성능으로 최근 절전형 가전으로 주목 받고 있는 보네',\n",
       " '이도 공기 순환기를 벤 타에 어 워 셔 시리즈와 함께 제공하는 기획 상품으로 에어워셔로 쾌적 해진 실내 공기와 가습을 실내 전체로 골고루 순환시켜 주는 실내 공기 정화 토털 솔루션이다 벤 타 코리아의 김 대현 대표는 지난해 신진 작가와 협업한 첫 번째 벤 타 아트 박스가 소비자들 로부터 큰 호응을 받아 남경 민 작가와 두 번째 협업을 진행하게 됐다 면서 벤 타 코리아는 앞으로도 신진 작가를 발굴하는 한편 문화 예술을 제품과 기업 활동에 접목시켜 고객에게 한층 차별화된 가치를 지속 전달해 가겠다 고 밝혔다 벤 타 코리아는 년 토털 아 티 스트로 유명한 임 옥상 작가와 벤 타에 어 워 셔 폐 자재를 활용해 흑룡을 형상화한 벤 타에 코 미르 Venta Ecomir 를 비롯 년에는 서울 시립 미술관에서 에어 워 셔 폐 자재에 나팔꽃을 심은 친환경 설치 미술 프로젝트를 성공적으로 진행한 바 있다',\n",
       " '우 디 목 가구 대구를 중심으로 전국적으로 활발한 활동을 하고 있는 목공예가 이성계가 운영하는 목 공방 Woody 우 디 의 회원들이 다년간 노력한 결실들을 선보이는 전시를 갖는다 전통적인 기법에서부터 현대적 조형성이 강조된 작품까지 다양한 작품들을 선보이는 이번 작품전이 대백 프 라자 갤러리 B 관에서 마련된다 이번 전시는 나무가 좋아 하나둘 모이기 시작한 회원들이 목 공방 교실에서 서로를 신뢰하며 작업을 통해 좋은 인연을 만들기 위해 회원 상호 간에 작품을 통한 소통을 목적으로 마련되는 전시이다 우 디 의 회원들은 일선의 학교 선생님들이 주를 이루고 있으며 정년 퇴임을 하신 선생님 주부 연구사 등 다양한 직업을 가진 이들 로 구성되어 있다 회원들 대부분은 구미 안동 경주 포항 등 대구 인근에서 거주하며 일주일에 한번씩 대구 작업실에 모여 작업을 하는데 회원들 모두가 단 한번도 빠지지 않고 참석하며 열정적으로 작업을 하고 있다 이제는 일주일에 작업실에 모이는 시간이 기다려 질 정도로 회원들 간의 우정으로 서로를 가슴에 담고 갈 따뜻한 인연으로 느낀다는 회원들은 목공예를 통해 서로 용기를 주며 위로를 받으며 함께 하고 있다 우 디 회원들은 이번 전시의 기획에서부터 자재선택 작업의 기법 마무리의 색상처리 부분까지의 일관성 있는 제작을 통해 목공예 전통의 기법과 회원들 각자의 감성의 연계성을 오늘날의 시대적 감각에 맞추어 재구성하여 생활공간 속에서의 가구 공예 작품을 선보인다 작품들은 전통 짜임 기법을 사용하되 현대적인 디자인을 이용하여 모던 하면서도 심플한 느낌의 가구들이다 작품의 소재는 대부분 하드 우드 제재목이 사용됐고 제작기간은 약 년 여 기간이 소요됐으며 주제는 회원들 저마다의 개성을 드러낼 수 있는 자유 주제로 선정돼 전통 가구에서부터 현대적 디자인의 가구 목조각까지 다양한 스타일의 작품들이 선보일 계획이다 고가구에서 볼 수 있는 전통기법을 사용해 현대생활 속에서 실용적인 기능과 예술적 조형성을 강조하여 전통의 재해석으로 대변할 수 있는 이러한 작품들은 옛 선조들의 목 가구 조형성을 계승하고자 하는 노력들 로 엿 보인다 다년간 가 다듬은 목공예 실력들을 유감없이 발휘하여 기하학적 문양의 작품들에서부터 전통에 근거한 작품들까지 다양한 작품을 선보이는 이번 전시는 이성계를 비롯해 여명의 회원이 참가하며 여점의 목공예 작품들을 선보일 예정이다',\n",
       " '복사 세요 사람마다 소원은 다를지언정 소원의 가치는 값으로 따질 수 없기에 먼저 이루어 지는 소원이 정해져 있을 리 없다 바람하고 원하는 마음은 똑같다 신년 이라는 새로운 무대 앞에 다시금 정화 되길 희망하며 새로 움에 대한 기대는 기적을 만들어 낸다 선조들은 복을 빌고 소원을 담은 그림들을 방에 두었다 그림 자체에 복을 주고 소원이 이루어지는 신 적인 기운이 있었기 때문에 걸어 놓았을까',\n",
       " '그렇다 기 보다 자신이 빌고 있는 소원을 가까이 서 보고 다짐해 나가기 때문에 한 발짝 다가갈 수 있고 결국 이루어졌을 것이다 되고자 하는 모습 또는 기원하는 일에 공들이게 되는 시작점을 제시해 준다 김성 복의 힘든 일상을 경쾌한 익살로 표현한 금 나와라 뚝딱 신화 시리즈 영원한 행복의 복수초로 빛을 밝히는 안진의 임 영 숙의 생명 이자 정화의 상징 흰밥 그 속에서 피어나는 아름다운 생명체 꽃 이지 숙의 흙으로 재구성한 기원을 담은 민화 비움과 채움으로 복을 담는 오관 진 환하게 웃는 복 전도사 비통 맨의 한 상 윤 작가들의 부귀 영화를 기원하는 마음을 담은 작품들을 한자리에서 볼 수 있다 복을 기원하는 세기의 민화는 생활 밀착형이다 개개인이 만들어 가는 것이다 개인의 소원을 담은 그림으로 인해 더 큰 복이 전해 졌으면 하는 바람이다 새해를 맞이하여 소원이 이뤄 지길 바라는 마음 의 기적을 모으는 전시이다 기적의 시작은 행하는 것 가까이 자신의 바람을 보며 이루어 나가길 권하고 싶다 복은 운 좋은 현상과 그로 인해 얻어 지는 기쁨 과 즐거움이라 한다 이것은 소원을 기원해 나가는 과정도 복 이라는 뜻이다 복사 세요 의 시작부터가 큰 행운이며 그 행복의 시작을 함께 누리기 바란다 김 성복 작가는 삶을 조각한다 금강 역사와 아톰의 형상을 바탕으로 하고 단단한 물질을 사용하여 강인한 인간상을 창안한다 하지만 이 인간상은 완벽하지 못한 초인으로 인간의 모습을 빗 대어 표현했다 완벽하지 못한 부분을 소망과 염원으로 채우면서 고된 현실을 경쾌한 익살로 넘어서 서 살아남고자 하는 삶의 소원을 담은 조각작품을 선보인다 안진의 작가는 인류의 빛이라 생각했던 현대문명이 암담한 그림자를 만들어 내고 그것에 괴로워하는 현대문명에 대해 이야기한다 문명의 일부 이자 빛을 밝히는 매개로써 전구는 소통한다 꽃을 통해 마음 속 빛을 밝히며 소통하는 작가의 작업과 일치한다 작가로 인해 꽃으로 피어난 전구는 마음의 불을 밝히며 어두운 문명의 이면을 감싸는 동시에 꽃으로 채워진 새로운 문명에 대한 꿈을 나타낸다 영원한 행복이란 꽃말을 갖는 복수초는 꿈에 대한 안녕을 빌어 주는 염원의 뜻도 담겨 있다 비움과 채움으로 복을 담다 오관 진 작가는 도자기가 뿜어내는 생명력에 집중한다 고온을 견디어 탄생된 생명력과 자체에 담긴 아름다움을 시각적으로 보여준다 물질적으로 완벽한 흙에서 형태를 빚어내고 굽는 과정을 통해 자신을 버리는 비 움의 과정 을 겪고 생명력과 미를 가득 채운 매력적인 소재가 된다 그리고 매화와 체리를 통해 초현실 세계를 만들어 새로운 회화 영역을 확장하고 있다 작가는 정성과 복이 그림에 깃들기 바라며 작업하고 담담히 채워지지 않은 도자에 자신의 염원을 마음속으로 그려 넣어 가득 채운 그림이 된다 비움으로 더 큰 것이 채워지는 마음을 느끼게 해 준다 임 영 숙 작가는 밥 속에서 피어나는 꽃들을 그린다 따뜻한 밥 한 그릇은 생명을 생명답게 영위하게 해 주는 생명자체이다 한번의 끼니 속에 생에 대한 고민과 다음 생으로의 희망 이 있는 뜨거운 통로이다 작가는 그림을 보는 이들에게 복을 주는 희망을 보듬고자 한다 밥 속의 아름다운 생명체인 꽃은 희망 생명 기원과 복의 의미이다 태초의 열망인 생 이 모여 아름다운 꽃으로 피어나고 그 밥으로 인해 살아나기를 기원하듯이 말이다 생의 정원 이라고 부르고 싶다 이 지숙 작가는 민화의 조형적 특성과 민중에 기원을 담는 특징에 주목한다 그것을 순 물질인 흙 이라는 재료를 가지고 재구조화하여 사물의 본질을 더욱 확고하게 만든다 전통 책가도 에서는 책이 가진 선비의 학문적 역량에 대해 이야기한다 그것은 곧 인품의 잣대이다 이지 숙의 현대의 책 가도 는 작가가 경험한 책 그야말로 일상의 궤적이다 삶을 대변하는 민화처럼 가지고 싶은 사물을 통해 이야기를 불어 넣는다 이 것이 곧 소망이고 원하는 길을 가고자 하는 자신만의 새로운 이야기를 만들어 내길 바라는 작가의 마음일 것이다 환하게 웃는 복 전도사 비통 맨의 한 상 윤작가는 행복해 지는 그림을 그린다 한국적인 팝 아트 를 지향하며 동양적인 기법으로 우리 정서에 맞는 세태를 풍자한다 돼지는 예로부터 신성시되어 소와 함께 최고의 제수 이며 많은 풀이가 있을 만큼 인간과 가까운 가축이다 그리고 한국과 중국에서는 복의 상징이다',\n",
       " '이런 풍요와 복의 상징인 돼지와 명품 지향 사회에 세태를 풍자를 접목하여 비통 맨 이라는 캐릭터를 개발한다 신나는 그만의 발상이 삶의 엔도 르 핀이 되는 작품이다',\n",
       " 'Gapage Project space Gallery GOLMOK 은 젊은 작가들의 새로운 가능성과 창조적 활동을 돕고자 년 갤러리 골목 기획 공모 상반기를 걸쳐 하반기 기획 공모 작가들을 선정하였다 다양한 장르에서 엄선된 심사를 거쳐 선정된 인전은 문 종선 작가가 기획하여 모인 김 대환 문 종선 애 나한 명의 작가가 Gapage 라는 타이틀로 전시를 진행할 예정이다 서른이라는 나이는 많지도 적지도 않은 나이다',\n",
       " '젊음의 패기와 노련한 연륜의 가운데쯤에 위치해 있는 나이 대의 젊은 작가 인이 모여 이태원에 위치한 갤러리 골목에서 전시를 연다 이번 전시의 특색은 아무런 접점도 없던 세 명의 작가들이 일반적 경우 인 공모나 기성 기획자의 선택을 통해서 가 아니라 자발적으로 하나의 목소리를 내고 싶다는 한 작가의 욕심으로 모였다는 것이다 참여 작가의 선정은 작가로도 참여하는 기획자 문 종선이 같이 전시를 진행하였거나 다른 전시를 관람하면서 알게 된 작품의 작가들을 섭외함으로 이루어졌다 미 확정 상태의 전시 공간과 불확실한 전시기획 뿐이었지만 기획자의 비전에 기꺼이 참여를 수락한 작가들 덕에 전시기획이 완성될 수 있었고 기획 안이 갤러리 골목 작가 공모에 선정되어 이번 전시가 실현될 수 있었다 전시의 타이틀인 Gapage 는 차이 틈 간극 을 나타내는 gap 과 어떤 상태 시기 행동 등을 의미하는 age 를 합성하여 임의로 만들어 진 단어이다 이는 실재와 현상의 간극을 탐구하는 예술가의 행위가 무가치하게 받아들여 지는 사회적 인식을 비꼬고자 만들어 진 단어이다 미술계에서 젊은 세대에 속하는 참여 작가들이 보는 현실과 관념에 대한 부조리 혹은 실재와 현상 사이의 간극을 관람객으로 하여금 직접 체험할 수 있는 공간을 지향하는 이번 전시는 중견 작가들만큼 원숙하지는 않아도 젊은 신진의 참신한 시각을 엿볼 수 있는 전시이다',\n",
       " '또 참여 작가 인 모두 전통적인 회화를 벗어 나 설치 작업을 진행하고 있다는 것도 다른 전시와는 차별화 된 점이다 참여 작가들의 면면을 살펴보면 김 대환은 사회의 거대 담론이 형성한 이미지가 가지는 상징성을 해체하는 방법으로 이미지가 가지는 정형화 된 메시지를 거부한다 문 종선은 소통이라는 시대적 화두를 철저히 개인적 문제에 국한하여 스스로의 경험으로부터 이끌어낸 해답을 타인과 공유하고자 한다 애나 한의 작업은 우리가 위치하고 있는 공간이 인식의 문제에 따라 얼마나 달라질 수 있는 것인지를 보여준다 이들이 하고자 하는 말은 우리가 당연하게 받아들이던 현상으로부터 벗어 나 보라는 것이다 당연한 것 으레 그러한 것 이 그렇지 않은 것임을 알게 될 때 삶이 조금은 더 자유로 워 질 수 있다고',\n",
       " '말하는 젊은 작가들의 진심을 이번 전시에서 만 나 볼 수 있다',\n",
       " 'Walk into the Space 커다란 캔버스가 시야를 가린다 무슨 그림일까 바라본다 딱딱한 도형들을 가만히 들여다보고 있노라',\n",
       " '면 따뜻한 색채들이 흘러나와 주변을 포근히 둘러싼다 거대한 장막 같던 화면에는 깊이 감이 생겨나고 나는 어느새 그림 속으로 더 깊이 빠져든다 고요 속의 공간 Space in Silence 시리즈는 리주가 암 스테르담을 출발해 베를린으로 향하는 기차 안에서 받은 영감으로부터 시작되었다 관심을 가지고 그려 왔던 커다란 창밖으로 이어지는 지평선 그러나 기차 복도 가운데에 서서 바라본 그 지평선은 더 이상 수평의 선이 아니었다 원근법을 몸으로 느끼는 순간 단단한 사각형은 비스듬한 두 변을 가진 사다리꼴이 되었다 말 레비치 Malevich 와 몬 드리 안 Mondrian을 사랑한 작가는 그 유명한 검은 사각형 Black Square 에 도전하기로 결심했다 결코 깨지지 않을 것만 같은 견고한 추상을 어떻게든 넘어서고 싶었다 년 동안 고민한 끝에 사각형의 모서리 두 군데를 조금 잘라 냈다 작은 두 개의 사각형이 떨어져 나가자 두 개의 까만 사각형이 겹쳐져 나타났다',\n",
       " '그렇게 잘라 낸 사각형을 둘 셋으로 그렸다 도 는 하나를 낳고 하나는 둘을 둘은 셋을 셋은 만물을 낳는다 는 도덕경 의 구절을 형상화한 것이었다 네덜란드 유학시절 리 주는 나고 자 라온 지역의 문화가 작가의 예술적 자양분이 됨을 깨달았다 그렇다면 나는 지금 어디에 서 있는가',\n",
       " '그는 현대미술이라는 이름 아래 새로운 것을 찾느라 스스로의 문화적 뿌리에 관해서는 소홀했던 자신의 모습을 보았다 학업을 마치고 중국으로 돌아와 고전을 탐구하기 시작했다 중국 미술사는 물론 중국의 철학과 사상 문학 작품들을 찾아 공부했다 그 가운데서도 주역 과 도덕경은 작가에게 큰 영향을 미쳤다 이러한 고전은 언제나 색 color 을 좋아하고 알고 싶어 했던 그에게 색의 기원 뿐 아니라 세상 모든 것이 유에서 생겨나고 유는 무에서 생겨 남을 알려주었다 리 주는 주역에 나타나는 팔괘를 그림에 담아내고 전통적인 오방색을 작품에 도입하면서 세계의 기원과 그 존재방식을 탐구하기 시작했다 장자 의 호 접지 몽 또한 그에게 큰 영향을 미쳤다 장자가 어느 날 꿈을 꾸었다 나비가 되어 꽃들 사이를 즐겁게 날아다녔다',\n",
       " '그러다가 문득 깨어 보니 자기는 분명 장주가 되어 있었다 이는 대체 장 주인 자기가 꿈속에서 나비가 된 것인지 아니면 나비가 꿈에 장주가 된 것인지를 구분할 수 없었다 장 주와 나비는 분명 별개의 것이건만 그 구별이 애매함은 무엇 때문일까 꿈이 현실인지 현실이 꿈인지 도대체 그 사이에 어떤 구별이 있는 것인가 작가는 이로부터 모든 존재가 상대적인 것임을 보이는 것은 만물의 변화에 불과한 것임에 착안하여 고요 속의 공간을 구축해 나갔다 그는 주역의 팔괘 가 이어진 선 과 끊어진 선 의 배열로 세상의 이치를 설명하듯 사다리꼴을 이용한다 두 개의 사다리꼴은 나란히 혹은 엇갈려 놓이거나 겹쳐지기도 하며 여러 가지 조합을 통해 공간을 만들어 낸다 평면 적인 리주의 작품들은 미국 추상 표현주의의 색면 회화처럼 보이기도 한다 그러나 이들 작품의 내용은 오히려 수백년의 시간을 거슬러 올라 북 송 대 곽희 의 삼원 법 에 닿아 있다 곽 희는 산수화를 그릴 때 이용하는 일종의 투시법을 이론화했다 산 아래에서 산꼭대기를 올려다보는 고원 산 앞에서 산 뒤를 굽어서 넘겨다보는 심원 가까운 산에서 먼 산을 바라보는 평원 을 논했는데 이들 세 시점은 분리된 것이 아니다 이것은 마치 건축에서 창문을 통해 바깥 풍경을 빌려 오는 차경 처럼 자유롭게 움직이는 시점이다 인간과 산수가 만나는 과정 속에서의 움직임인 것이다 세기 르네상스 시대에 확립된 서양의 원근법은 바라보는 위치를 고정시켰으며 보는 주체인 인간과 보여 지는 대상을 이분화 시켰다 반면 곽희의 삼원 법에서 인간은 자연을 거니는 체험을 통해 대자연의 일부가 된다 우리가 사는 세계와 분리된 평면적 화면이 아니라 들어가 거닐고 머무를 수 있는 공간인 것이다 리주의 작품 또한 마찬가지 다 작품은 그저 바라보는 대상이 아닌 들어가 생각하고 유영하는 하나의 세계다',\n",
       " '년 작 Mountain Paint Mountain Painting In Painting 작품의 제목처럼 산이 산을 그리고 그림이 그림 속으로 들어가기도 한다 작가는 이들 작품을 통해 작품과 현실 그 너머의 것 그리고 그들의 경계에 대해 우리에게 질문을 던진다 당신은 무엇을 보고 있는가',\n",
       " '그림인가 세계인가 그림 속 그림인가 그림 속 세계인가 아니면 그 너머의 어떤 것인가',\n",
       " '묵시록 THE REVELATION 배 형 경 코오롱 그룹의 문화예술 나눔 공간 스페이스 K는 조각가 배 형 경의 개인전을 개최한다 배 형 경은 서울대학교 조 소과와 대학원을 졸업하고 지금까지 여덟 번의 개인전을 비롯해 수 많은 기획전에서 꾸준하게 작품을 선보여 왔다 년 김 종영 미술관 오늘의 작가 수상작가 이기도 한 배 형 경은 지난 년 동안 인체 표현을 통해 존재론적 물음에 천착해 왔다 작가는 이번 전시에서 브론즈와 스틸로 제작한 신작 조각 여점을 전시한다 이번 전시는 미터 높이의 인체 조각 여 점과 오브제 여 점이 철제 구조물과 어우러져 장대한 무대를 연출한다 전시는 묵시록 이라는 타이틀과 함께 말로는 다할 수 없는 것 마음의 구속 유추된 단상들 등 총 세 가지 시리즈로 전개되는데 특히 주목할 만한 것은 인간 존재의 본질을 인물 위주의 형상조각으로 탐구해 온 이전의 작업과는 달리 전체적으로 설치적 요소가 강조되었다는 점이다 작가는 이번 전시에서 개별적인 인체 형상을 부각하기보다 전시공간 전체를 하나의 조각으로 생각하는 작업을 시도한다 작품 말로는 다 할 수 없는 것에는 수백 개의 장대모양 철 구조물 사이를 넘나드는 인물들이 배치되어 있고 언제 어디선 가 보았던 듯한 형태의 덩어리들이 매달리거나 바닥에 놓여 있다 그리고 작품 마음의 구속에는 가공하지 않은 육중한 철판 구조물 사이에 인물 형상들이 마치 유배된 것처럼 설치되어 있다 또한 작품 유추된 단상에서는 서로 맞대고 있는 머리들과 여기서 일탈한 듯 한 또 다른 머리가 위태롭게 매달린 형태로 배치되어 있다 이러한 조형적 설치는 이전 작업에서 경험할 수 없었던 새로운 조형적 분위기를 자아내며 또 다른 감정을 이끌어내고 있다 묵시록이란 전시 명은 말할 수 없는 것 을 이야기 하고자 하는 작가의 태도를 반영하고 있다 직접적으로 표현하지 않아도 은연중에 그 의미를 드러내',\n",
       " '듯 그의 처절한 인간 군상은 비처럼 쏟아지는 철제 막대 장벽처럼 막아선 철판과 같은 구조물을 배경으로 전시 공간 전체를 하나의 조형언어로 드러낸다 이러한 설치적 접근은 배 형 경의 조형언어가 말할 수 없는 것 을 작품을 통해 보여주기보다는 말할 수 없는 것 이 경험되고 느껴질 수 있도록 유도한다 브론즈의 중량만큼 진중한 호소력을 자아내는 배 형 경의 작품은 무거움 앞에 선 인간을 투영시켜 관람객들에게 자기 성찰과 사색의 시간을 제공한다 스페이스 K 과 천 전시는 월 일까지이며 월 일부터 월 일까지 스페이스 K 광주에서 순회 전을 이어 간다',\n",
       " '코 엘료의 나무 캄 보디아와 태국의 국경 근처인 반 데이 민 쩌이 Banteay Meanchey 주 그 중에서도 오지인 사무 렁 Samlong 마을을 들어 가다 보면 남 따우',\n",
       " 'Namdau 마을 과의 경계에서 커다란 한 그루의 나무를 만나게 된다 마음을 사로잡는 풍경 너른 평야에 홀로 우뚝 선 나무는 간혹 일상에서 쓸쓸한 감상에 곧 잘 빠지는 사람들의 자의식을 닮아 있었다 비록 나무일 뿐이지만 때로 어떤 형태의 나무들은 특별하게 인간의 의식이나 감정의 상태를 반영하는 신성한 존재로 여겨 진다',\n",
       " '그래서 사람들은 나무에 치성을 드리거나 섬기기도 한다 여기서 나무는 현실과 이상의 경계를 잇는 하나의 표지 역할을 하고 있다 이러한 표지는 현실과 이상의 경계 이자 연결이며 인식의 시점 이자 전환의 고리이다 나는 여행 중에 사무 렁 마을과 남 따 우 마을의 경계에 서 있던 무명의 나무를 보며 파울로 코 엘료 Paulo Coelho의 표지를 떠올렸다 그는 인생에 있어서 어떤 사건이 일어나기 전에 반드시 그것을 미리 알리는 징조 같은 것이 있다고',\n",
       " '했다 길을 안내하는 이정표처럼 인생의 전환점을 미리 알려 주는 이러한 징후를 그는 삶의 중요한 표지라고 생각했다 나는 마을과 마을의 경계에 서 있는 그리고 나의 여행과 일상의 경계에 서 있는 나무를 보며 경계 전환 고리 징후 따위의 어휘와 그리고 그가 말했던 바로 표지라는 단어를 떠올렸다 그리고 나는 그 자리에서 나무의 이름을 코 엘료의 나무 라 지었다 나의 삶에서 만나는 표지들 때로는 지나치게 추상적이고 모호해서 인식하기조차 도 힘든 그 표지들에 대한 현실적인 상징을 마련했다 그로 인해 나는 이제 인생의 표지들을 더 한층 깊게 들여 다 볼 수 있는 여유를 갖는다 인식하든 인식하지 못하든 코 엘료의 나무 와 같은 표지 들은 사람들 곁에 무수하게 존재한다 그리고 이러한 표지들을 만날 때마다 우리는 깊게 고뇌하거나 더없이 인생을 쓸쓸한 것으로 여기게 된다 경계에 선다는 것은 그리고 선택의 기로에 놓인다는 것은 무척 힘든 일이기 때문이다',\n",
       " '그러니 어떤 형태로든 우리에게 주어지는 표지를 읽어 내는 지혜의 눈을 갖는 것은 누구에게나 필요해 보이며 나는 여행에서 만났던 다양한 표지들을 시각적으로 상징화한 사진이란 매체를 통하여 삶에 대한 그리고 일상에 대한 이야기들을 사람들과 시작해 보려 한다 코 엘료의 나무 로 지칭되는 내 인생의 표지를 또는 삶의 메타포를 상징으로 이끌어내고 간결화 하는 것처럼 다른 이들의 인생에 있어서도 모호하거나 피상적인 그들 삶의 표지들이 명료하게 드러나길 바란다 삶의 길눈을 밝히는 작업 여행자로서 이야기하는 코 엘료의 나무 는 이러한 이야기들을 통해 전시 과정에서 보다 농밀하게 완성시키고 싶다',\n",
       " '멈추지 않는 눈물 젊은 한국 작가인 임 수진은 동년배의 많은 아시아계 아티스트들과 같이 그녀 자신을 표현하는 수단으로 스스로 표출해 내는 팝 아트의 길을 선택했다 뉴욕에서 활동하는 팝 아티스트로서 그녀는 눈이 큰 어린 소녀들이나 컬러 풀 한 보타이 넥타이 와 옷을 갖춰 입은 화려한 동물들을 화폭에 담는다 만일 그림 속 소녀들의 머리에 불이 붙어 있지 않다거나 웃으면서 동시에 울고 있지 않았다면 이 이미지들은 그저 천진하게만 보였을 것이다 임 수진 식 팝의 미학은 심플하고 간결한 형태로 인간과 여러 존재들을 표현하면서 감성으로 회귀하려는 의도를 품는다 이는 세상을 친근한 눈으로 바라보기를 거부하려는 듯 한 무뚝뚝한 표정의 아이들을 주로 그리는 일본 작가 나라 요 시토 모의 이미지를 떠올르게 한다 두 작가 모두 감정을 강조하고 있으나 임 수진의 경우 그녀 자신의 경험을 바탕으로 한 감수성을 묘사하고 있음을 알 수 있다 그녀의 표현 방식은 진정으로 아이와 같고 모조 순수함을 넘어 어른의 삶을 거부하는 세계로 이동한다 눈물은 이전 아마도 부모 세대가 달랠 수 없는 아픔을 보여주지만 이는 모두 거짓 없는 진정으로 순수한 환경으로 가고 싶은 염원이다 임 수진의 Fire 연작은 년 이탈리아 볼로냐 아동 도서전 북 페어 모음에 선정되었고 그 후 뉴욕 마이 애 미 홍 콩 서울 등에서 전시활동을 하고 있다',\n",
       " 'Fire 시리즈 속 이미지들은 굉장히 유사하다 작은 여자 아이의 머리는 계속 반복하여 등장하는데 소녀의 머리카락은 초록 빨강 짙은 핑크 마젠타 이다 각 초상화에서 머리는 불이 붙어 있는데 이 불은 보통 수직적으로 긴 모양이다 소녀들의 얼굴 모양은 어두운 동공의 큰 눈 두개의 점으로 표현된 코 아주 미세한 커브 라인으로 표현된 입으로 간단하게 그려졌다 이 소녀들이 웃고 있는 것은 사실이지만 소녀들의 눈물은 이미지의 감성적인 부분을 지배한다 우리는 임 수진의 작가 노트 마지막에 적힌 다음의 문구를 떠올릴 수 있다 사람들은 컴퓨터가 아니다 그들은 감정이 있고 감정의 인식이 필요하다 한 그림에서 소녀의 얼굴은 고양이의 몸에 붙어 있고 꼬리 끝은 노란 리본으로 묶여 있다 그 고양이 소녀는 꽃무늬 레이스로 된 몸을 갖고 있고 머리에는 초록색 배경으로 향하는 두 개의 불꽃 사이에 왕관을 쓰고 있다 이것은 기이한 장치이지만 임 수진의 기이한 세계에서는 있을 법 한 일이다 우리는 이 감정과 상상의 결합이 작가에게 큰 의미라는 것을 알 수 있다 작가의 노력이 그 상상의 세계에 현재하기 때문이다 이는 확실히 자극적이고 어린 아이의 순수함이 승리하는 세계로 관객을 이끈다 캔버스에 혼합 재료를 사용하여 만들어 진 Miss you YOU 라는 제목의 두 작품은 여러 가지 색이 뒤섞인 빅 사이즈 보타이를 맨 화려한 인물들을 보여준다 한 작품에서는 푸른 별이 큰 눈 하나를 갖은 애벌레 같은 생물에게 막대 사탕을 주고 있다 색색의 구름에서는 비가 내리고 있고 그 별은 다음과 같이 말한다 친구야 나 네 생각하고 있었어 그리고 네 가 정말 그리워 이 막대 사탕 먹어 이 애 벌래의 눈은 작고 초롱초롱한 아이의 순수함을 갖은 그 별을 향하고 있다 다른 이미지에서는 강아지처럼 보이는 동물이 막대 사탕을 들고 무엇인지 알 수 없는 작은 조각을 먹기 위해 입을 벌리고 있는 컬러 풀한 물고기에게 묻는다 예쁜 물고기 친구야 뭘 먹고 있니',\n",
       " '그게 내 달콤한 사탕보다 더 맛있니',\n",
       " '순 수함이 묻은 이 두 텍스트는 임 수진의 그림의 순수함과 어울린다 마지막 작업 Please Look at Me 제발 나를 봐줘 에서는 발은 두 개 등은 노란색 보트이며 모양은 둥근 어떤 생물이 푸른 별과 막대 사탕을 들고 있는 모습을 볼 수 있다 자주빛 달에서는 어쩌면 눈물 일 지도 모르는 비가 떨어지고 눈이 하나 달린 생물에게 별은 다음과 같이 말한다 친구야 울지 마 내가 여기 있잖아',\n",
       " '하늘 끝에서부터 작은 보트를 타고 왔단다',\n",
       " '여기에서 이야기 속 각각의 캐릭터들의 어린아이 같은 성격은 탁 월 히 영적인 요소를 갖는다 그러나 역시 이 안에는 극복해야 할 인간의 깊은 눈물과 슬픔이 서려 있다 같은 제목의 작업 Please Look at Me 제발 나를 봐줘 에서 임 수진은 다색으로 그려진 물고기가 역시 다색으로 그려진 코끼리를 탄 모습을 그린다 그 코끼리의 꼬리와 코는 보타이 리본으로 묶여 있다 물고기 위에는 사람의 얼굴을 한 불가사리가 막대 사탕을 들고 있는데 이 불가 사리는 작가 자신의 마스코트 즉 표상으로 보인다 내포하는 요소가 초현실적인 Please Look at Me 는 작가가 페 이소스 적이면서 충만한 사랑이 담긴 자신의 시나리오 속 캐릭터를 결정하고 유지하는 능력이 뛰어 남을 보여준다 임 수진은 간단해 보이는 그림과 감정들을 다루고 있으나 그로써 그보다 더 큰 것을 대변하는 효과를 연출하는 작가이다 그러한 이유로 그녀는 진정한 작가라',\n",
       " '하겠다 그녀의 작업은 영원히 지속될 문제들 아주 순진해 보이는 방법으로 풀어내지만 사실은 더욱 심각하고 첫인상보다 멜랑콜릭함을 보여주는 새로운 세대의 아시아 작가들의 그룹에 속해 있다 임 수진은 그녀의 그림 속 어린아이 같은 인물들을 통해 새로운 방식으로 페이소스를 찾는다 그 인물들은 인류의 불안을 상쇄하려는 시도를 하며 순수하게 연극적 의식을 치른다 임 수진의 작품은 처음에는 별 나 보이지만 작가의 역량으로 시간이 흐름에 따라 더 훌륭하고 진지한 세련미를 갖추고 있다 그녀의 이미지들은 인간이 겪는 고난의 한 부분을 기억하기 쉽게 표현하고 있으며 작품 속 인물들의 컬러 풀한 디테일과 심플하게 표현된 다 치기 쉬운 연약함은 우리의 기억 속에 남을 것이다',\n",
       " '아프리카 앞으로 Africa Afro 경기도 미술관은 기획 전시실에서 아프리카 앞으로를 개최한다 경기도 미술관이 주관하고 아프리카 미술관과 협력으로 기획된 이번 전시는 미지의 미술 세계인 아프리카의 현대미술을 알리는 전시가 될 것이다 일반적인 아프리카에 대한 선입견을 넘어 상상력으로 가득 찬 아프리카의 미술을 접할 수 있는 이번 전시는 그 동안 아프리카 미술을 원시적 미술만으로 생각하는 많은 사람들에게 또 다른 현대적 창의성을 보여주는 계기가 될 것이다 출품한 작품들은 아프리카 대륙에서 살아가는 현재적 작가들이 바라는 작은 행복이 담겨 져 있으며 작품을 통해 우리들에게 작은 행복을 전달하고자 한다 아프리카에서 현재 활동하는 작가들의 작품을 수집해 온 정해 광 아프리카 미술관 관장은의 가능성 이라는 주제로 전시를 기획하였다 고 밝혔다 아프리카 소수부족의 앤 틱 antique 조각 작품은 인간과 자연의 신상이 결합된 아프리카만의 독특한 형식을 보여준다 세기 유럽과 서구의 많은 예술가들은 앤 틱 조각 양식의 영향으로 원시 자연적 아프리카의 이미지와 의미를 차용하였다 현재 아프리카의 많은 현대 미술가들 또한 새로운 양식의 실험과 더불어 전통적인 자연신앙의 의미를 재창조하고 있다 이들의 조각은 각 부족의 탄생 신화 공동체 의식 예법 생활상을 그대로 담고 있으며 인간이 가져야 하는 기본 적인 인성에 대한 가치를 전달한다 현대 아프리카는 년 베를린 협상에 의해 지금의 국가 경계선을 갖게 된다 이 협상은 사각의 테이블에서 서구 열강은 자국의 이익을 위해 아프리카의 거주민의 의사와는 상관없는 경계선을 결정짓고 토착민 부족 간 국가 간 공동체 간의 전통적 삶의 구분은 고려하지 않았다 열강의 식민지 지배기간 동안 외형적으로는 안정적 모습을 유지하였으나 내부적으로는 부족 간 갈등 종교적 갈등 이념적 갈등이 여전히 남아 있었다 세기 아프리카는 열강에 대한 독립투쟁 진행되며 국가적으로 내부 갈등이 폭발하는 과정을 끊임없이 겪어 왔다 끝없는 전쟁으로 기아와 가난 그리고 이념적 대립에 의한 테러가 난무하고 있다 또한 몇몇 지역의 아프리카의 사람들은 아직도 전쟁과 기아를 피해 난민생활을 하고 있다 서구의 예술평론가들은 아프리카 예술가들의 작품은 고난과 역경 속에 있는 그들의 삶과는 다른 인위적이고 현실감 없는 예술이라 치부한다 하지만 그 화려함 속에 깃든 작은 행복의 희망을 바라보지 못한다면 이들 작업을 잘못 해석하는 것일 수 있다 아프리카의 현대작가들은 작품의 제목도 작품 캡션도 없다 단지 그리는 행위에 몰입하고 있다 서구의 예술가들처럼 서 구화된 현대미술의 패러다임으로 이해할 수 없는 아프리카의 예술가들은 지도 상의 아프리카처럼 아직은 미지의 땅으로 남아 있다 년 경기도 미술관의 전시장에 아프리카의 작품을 통해 화려함 속의 인간적 희망과 사랑 꿈 긍정적 미소를 볼 수 있기를 기대한다',\n",
       " '시간의 귀 신한 갤러리 역 삼은 시간의 귀 을 개최한다 김 강인 김 미영 성문 영 이자용 정연희 다섯 작가와 함께 만든 년 첫 전시이다 시간의 귀 는 이들이 제시한 전시의 키워드로 내가 지금 여기에서 들려주는 이 시간의 이야기에 귀 기울여 달라는 이들의 바램이 담겨 있다 김 강인은 기억이 남긴 흔적을 그린다 아련한 기억의 순간은 시공간의 흐름 속에서 결코 정지되지 않은 상태로 그려진다 김 미영은 흘러가는 시간의 속성을 지도를 통해 표현한다 자신이 과거에 걸었던 혹은 현재 걷고 있는 길의 지도를 재해석하고 재창조한다 성문 영은 기억의 사물 속에 추억을 담는다 사물의 외곽 형태를 확대하여 그 안에 소중한 기억의 파편들을 가둔다 이자용은 마음의 풍경을 화폭에 담는다 외로운 현대인의 초상을 보듯 한없이 고독한 시간이 머무는 곳을 그린다 정연희는 관조적 태도를 통해 내면의 소통 공간을 찾는다 화면에 가득 한 빛은 소통의 매개가 된다 이렇게 다섯 작가는 모두 크고 작은 기억에서 출발하여 내가 지금 여기에서 하고 싶은 이야기를 각자의 방식으로 말하고 있다 우리가 놓치고 있는 소중한 기억의 순간들을 떠올릴 수 있는 의미 있는 시간을 제공하는 이번 전시에 많은 관심과 참여를 기대한다 나아가 진정한 소통을 바라는 이들의 이야기에 조용히 귀 기울여 줄 것을 부탁한다',\n",
       " 'THE SYMBOL 키 덜트 kidult 의 성향을 지닌 나는 어릴 때부터 인형이나 장난감 수집을 좋아했다 나의 취미생활과 유년 시절의 경험들이 내 작품의 주된 모티프 motif 가 되었다 유년기의 아이들은 사회 통념 상 순수함을 대표하는 아이콘 icon 이 다 하지만 내 유년 시절의 기억을 더듬어 보면 아이러니 irony 하게도 순수함만을 지닌 것은 아니었다 작은 동물을 학대하는 가학적 성향이나 은밀한 성적 판타지 같은 본능적 상상들이 가득 했었다 하지만 이런 유년 기의 사건들이 비단 나만의 이야기는 아니다 어린아이가 순수함 외에 지니는 내면의 폭력성이나 잔혹성처럼 우리 주변에서 일반적으로 믿어 왔거나 알고 있는 것 들이 우',\n",
       " '리의 생각을 배반하는 경우가 종종 있다 허나 실상은 이것이 배반을 한 것이 아니라 우리가 그것의 본질을 오해하고 있었던 것뿐이다 어떠한 이미지를 당연히 그것으로써 받아들이거나 생각하게 되는 것 그로 인해 그 안의 본질이 쉽게 가려 져 버린 것 들 이런 것이 내 작업의 주된 관심사다',\n",
       " '내 작품은 장난감을 소재로 회화 시리즈 Fetish Drama 와 사진 시리즈 THE SYMBOL 을 통해 동시적이면서 모순적인 상황들에 대해 키 덜 트적 상상력으로 이야기를 풀어 가고 있다',\n",
       " 'I with my tendency of kidult liked to collect dolls or toys since my childhood My hobby and experiences from my childhood became major motif of my art works Children in infancy is icon representing purity in terms of social sentiment However I remember that my infancy was ironically not just purity My childhood was full of instinctive imagination such as sadistically abusing animals and secret sexual fantasy But these incidents in childhoods are not just my stories We know that what we generally believe in and have known around us just like internal violence and cruelty in child sometime betrays us In fact this is not betraying us but we just misunderstood its essence Thinking certain images as natural things and thinking as they are thus that essence is hidden are my primary concerns for my art works My art works expresses stories with imagination of kidult for contemporary and contradictory situations through painting series Fetish Drama photo series THE SYMBOL and toys',\n",
       " '의미 불명 종이에 그림을 그리면서 생각한다 나에게 중요한 것은 그리는 행위인지 그림인지 내 주위에 이미지는 넘쳐나고 나는 내 이미지가 무엇인지 혼동한다 그저 손 가는 대로 그리다 보면 내 모습이 나올까 끊임없이 자기 모습을 찾아야 하는 숙명은 그 무거움 때문에 망각되어 진다 나는 너와 이야기하기 위해 그림을 그렸지만 나는 의미를 잊어버렸다 의미를 잊어버린 손짓에 어떻게 이름을 지어야 할까 메롱 이다',\n",
       " '이나 경 한국화로 중첩되는 이미지를 표현하는 작가 이나 경의 개인 전이 파주 헤이 리 갤러리 이레에서 열린다 이번 전시는 제 회 갤러리 이레 신진작가 공모전을 통해 당선되어 열리는 개인 전이다 이나 경 작가는 작품을 통해서 빠르게 흘러가는 일상에서 현재를 인식하지 못하고 과거 또한 돌아볼 시간도 없이 사는 현대인들에게 하루하루 쌓이는 추억들을 되돌아 보고 앞으로 어떻게 살아갈 것 인가에 대한 물음을 던진다 그런 작가의 물음은 일상에서 눈에 보이는 풍경들에 작가가 가지고 있는 감성적인 이미지 또는 과거의 기억들을 오버랩 하여 보여줌으로써 관객들이 느낄 수 있게 하고 마치 유리창에 또 다른 풍경이 비치는 듯한 이미지를 표현해 두 개의 공간과 시간을 느낄 수 있게 한다 또한 작품을 통해서 자신이 작업을 통해서 단순히 그리는 것만이 아니라 살아가면서 생겨나는 작가의 사유와 철학을 그림에 담아내고 있다',\n",
       " '돌과의 사랑 어느 해였던가 너 븐 여울이란 이름의 광 탄 리 에서 살 때였다 개울가를 평소처럼 산책하고 있던 내게 그 숱한 돌 중 어린애 손바닥만 한 돌 하나가 눈에 들어왔다 그 개울 바닥에 있는 돌은 그 개울 바닥에 있는 게 가장 낫다 라는 평소 내 생각과 달리 나는 그 돌을 집어 집으로 가져오고 말았다 그 돌은 지금도 내 책상 위에 놓여 있고 자주 내 눈길과 마주하며 이따금 내 손길도 받는다 앞면은 일그러진 보살상이고 뒷면은 어 딘가 기분이 언짢은 여인의 상이지만 이리 보나 저리 보나 거부감보다 친밀감을 느끼게 한다 미 석 이 아니지만 그 많은 돌 중의 하나가 나와 같은 시공간에서 그 많은 사람들 중의 한 사람처럼 동고동락하며 지내게 된 것이다 선악을 떠나 나는 돌의 운명에 관여했다',\n",
       " '전형 근이 돌 사진을 찍으러 다닌다는 것을 여러 해 전부터 알고는 있었다 나는 자연을 배경으로 자연 속에 놓여 있는 돌을 찍는 줄 알았는데 작품을 보고 내 예상이 여지없이 빗나갔음을 알았다 그는 돌에 온기 어린 시선만을 준 것이 아니라 돌에 손길을 보듬어 자신의 체온을 나누어 주었다는 것을 알게 되었다 그뿐이 아니다 돌마다 지닌 살결과 표정 언어를 드러냈으며 돌에도 각자 고유의 시선이 있고 체온이 흐른다는 것을 조용히 주장하는 것 같았다',\n",
       " '전형 근은 사진을 통해 사진 속에서 돌과 순간적으로 접속 한 게 아니라 오래 접촉 했다 비록 이목구비가 사람처럼 갖춰 져 있지는 않지만 저 얼굴 없는 돌의 얼굴 과 마주하면 돌과 인간의 감정 교류가 확산되고 있다는 유대감을 떨쳐 버리기 쉽지 않다 어떤 돌은 생로병사와 희로애락을 겪고도 겪은 노인의 얼굴을 하고 있고 어떤 돌은 가까이 하고 싶었지만 가까이 할 수 없었던 여인의 형상을 하고 있다 또 어떤 돌은 내 이웃의 평범한 아낙을 연상케 하고 무뚝뚝하지만 심성 고운 사내의 모습을 하고 있다 그뿐이겠는가',\n",
       " '돌 우주선 돌 잠수함 팥이 숭숭 들어간 돌 찐빵 깨를 입힌 돌과 자 등 그 형상도 각양각색이다',\n",
       " '또 어떤 돌은 물이 흐른 흔적을 고스란히 간직한 행성과 하나 다르지 않다 게다가 저 돌의 우둘 투 둘한 표면은 화가 박수근이 화면에서 구현한 화강암 질감과 닮았지 않은가',\n",
       " '예술은 멀리 있지 않다 발부리에 채는 돌 만큼 가까이 있다 전형 근은 저 자연 속의 돌을 인간의 나라로 데려와 돌마다 지닌 개성에 인간의 온기를 더해 인간의 사랑을 받을 수 있도록 작업했다 돌을 집어 한 입 두 입 뜯어먹고 싶은 욕구와 더불어 아예 저 돌 속으로 들어가 살고 싶은 충동을 느끼도록 했다',\n",
       " '그러니 돌을 그저 단단한 광물덩어리라',\n",
       " '단정 짓는 건 극히 인간적인 해석일 것이다 누가 돌을 무생물이라 하는 가 전형 근이 사진 속에서 구현한 돌은 생물이다 그는 돌과 지속적으로 교류했으며 유구한 시간 속을 뒹군 돌을 피가 돌고 숨 쉬는 돌로 환생시켰다 자 돌과 사랑할 시간이다',\n",
       " '자연을 깎아 만든 어머니 꼭두 먹으로 그린 하얀 세상 나지막한 언덕 위로 가지가지 굽은 나무가 서 있고 그 사이로 집이 아른거린다 하얀 눈송이가 모든 풍경을 뒤덮고 있다 수묵 담채로 그려진 설경 온통 하얀 세상이 돼 버린 풍경을 보고 있자 니 몸속으로 파고드는 찬 기운에 한껏 몸을 움츠리게 된다 사실적인 묘사가 돋보이는 작품으로 작가 오석 교의 무수의 겨울 물 왕의 겨울 등 겨울 연작이다 자연에 대한 관념적 성찰과 실재하는 현상에 대한 탐구와 관찰을 통해 완성되는 진경 산수 오석 교의 작품이 그러하다 그는 민족의 강토를 누비다가 맞닥뜨리는 풍경에 주목한다 그의 화폭에 담긴 풍경은 대부분 남도의 산하인데 평평한 대지를 끝으로 높지 않은 산이 병풍처럼 둘러서 있고 몇몇의 가옥과 나무들이 자리한다 지극히 평범한 산골마을의 풍경에 매료된 것인가 깎아지르는 절벽이 아찔한 협곡이나 끝없이 솟은 높다란 산맥 격렬히 쏟아지는 폭포 따위를 그리면 좀 더 폼이 날 텐데 오석 교의 풍경은 낮고 아늑하고 조용하다 하지만 그 가운데 드라마틱한 기운이 퍼진다 그의 설경에서는 피사체의 역동성은 부재하지만 은근한 시간의 흐름과 눈앞으로 쏟아질 듯한 하얀 눈의 무게 감이 자리잡고 있다 그것이 작가가 굳이 설경을 고집하는 이유다',\n",
       " '하얀 눈이 소복이 쌓인 풍경을 보라 하나하나의 가벼움이 모여 그 무엇보다도 무겁고 넓게 대지를 수놓았다 실재하는 것을 표현하는 것이 진경 산수라면 현실계의 색은 표현되지 않는 것인가 분명 빛의 스펙트럼을 통과한 오색 찬란한 색들이 있을 것인데 수묵 담채로 표현된 풍경에는 온통 먹과 여백 뿐이다 동양적 사유를 통한 관념적 진경 산수란 서양화의 리얼리즘과는 큰 차이를 두는 것이다 눈으로 보는 색이 아니라 심 안으로 읽는 색이 진정한 색이니 눈앞에 현혹되지 않는다면 진실을 발견할 수 있을 게다 오석 교의 설경이 그러하다 눈이 내린 풍경을 떠올려 보라 대지를 덮은 눈은 세상의 모든 색을 빼앗는다 세상의 어지럽고 요란함을 시기한 신 이 부리는 조화인가 필 선의 강약과 먹의 농담만으로 세계를 표현하는 것이 수묵 담채라면 설경이 만들어 준 흑과 백의 세계는 그 원형을 가장 실감 나게 나타낼 수 있지 않겠는가',\n",
       " '동양적 사유가 머무는 장소성의 획득을 위해 찾았던 고요함과 정적인 요소는 설경으로 천착되었고 그의 설경이야말로 수묵 담채의 진면목을 확인하는 장이 될 것이다 비물질에서 물질로의 전환 오석 교는 전통의 흐름을 거스르지 않는 가운데 독창적인 소재의 탐구와 작가적 감성을 더해 자신만의 산수를 형성했다 먹으로 그려진 하얀 세상은 그러한 노력에 의해 가능했다고',\n",
       " '본다 년이라는 결코 적지 않은 시간 동안 이어진 준법 연마와 자연의 본질에 대한 탐구는 그의 작업에 근간을 마련했다 오석 교의 산수에서 빠지지 않고 등장하는 것이 있다 설경뿐만 아니라 다양한 풍경 속에 존재하는 나무가 그것이다 강한 필치로 거칠지만 유연하게 뻗은 나무의 표현은 전통 산수에서 말하는 기운 생동의 개념을 적극 끌어들인 듯하다 그에게 나무란 붓끝으로 그려지는 대상 이상의 가치를 지닌다 이는 대지를 덮은 눈과 그를 뚫고 강렬 히 우',\n",
       " '뚝 솟은 자연의 솟대이며 죽음을 극복하고 생명을 불어넣는 소생의 씨앗이기 때문이다 먹으로 그려진 기운 생동의 나무가 화폭을 떠나 작가의 손에 만져 지는 존재로 변환됐다 시공간을 초월한 재현과 표현의 대상은 비물질에서 물질로 허상에서 실재로의 전환적 국면을 맞이한다 작가는 이제 붓 대신에 자귀를 끌을 조각도를 집어 들었다 거친 필치나 세밀한 묘사가 아닌 깎아 내리고 치고 갈아 내는 동작을 반복한다 전혀 다른 동사의 사용은 오석 교가 지금까지 행해 온 전통 산수의 파계적 일탈의 가능성을 엿보게 만든다 꼭 두에 비친 어머니 작가의 손에서 붓이 아닌 칼로 완성된 것은 나무로 만든 인형 목 우 이다 이는 오랜 과거부터 나무를 깎거나 흙을 빚고 구어서 만든 꼭두 의 일종인데 꼭 뚝 꼭두각시 따위로 불렸던 것이다 꼭 두는 동서를 막론하고 권력자의 죽음과 함께 사람을 묻던 풍습인 순장문화와 밀접한 관계가 있다 순장은 과거 신분사회의 어두운 그림자로서 가부장질서가 확립되고 문명이 발달할 시기에 전 세계적으로 시작된 장례 풍습이다 죽음이 끝이 아니라 새로운 삶을 영유하는 또 다른 세계라',\n",
       " '믿었던 당시의 사후 세계관에 의해 가능했던 것이리라',\n",
       " '이는 오래지 않아 사라진 풍습인데 이유는 산체로 사람을 매장한다는 것이 잔학성과 반인간적 행위로 인식됐기 때문이다 이때부터 대안으로 등장한 것이 생명을 대신해 일종의 아바 타를 구현 함께 매장하는 문화이다 인간을 닮은 영적 존재 꼭 두를 죽은 자와 함께 묻은 것이다 아마도 꼭 두가 망자를 안내하고 보호하며 무사히 사후세계를 인도 할 것이라는 믿음에서 비롯된 행위였으리라',\n",
       " '여기서 꼭 두는 단순히 목각 인형이 아닌 산자와 죽은 이를 이어 주는 가교 이자 희망을 기원하는 상징으로서 자리한다 작가는 반복적으로 나무를 깎고 다듬는 과정을 거쳐 성인 남성 손바닥만한 크기의 나무 인형을 만들어 낸다 하나 같이 여인의 형상을 하고 있는 꼭 두는 싱글거리며 웃고 있는가',\n",
       " '하면 입을 크게 벌리고 가락을 읊조린다 보기만 해도 기분이 좋아지는 오석 교의 꼭 두에서 앞서 언급한 무서운 순장문화의 지시적 기호는 찾아볼 수 없다 그렇다면 그가 말하고자 하는 작품의 내러티브는 무엇인가 목공예 장인도 아니고 제례를 주관하는 무당도 아닌 그의 칼 끝에서 표현된 꼭 두는 바로 자신의 모친 그를 세상으로 부르고 생명을 전해 준 위대한 인간의 모습이다 제각기 다른 표정을 하고 알록달록 한 색동 저고리를 입은 꼭두 오석 교가 그리는 어머니의 형상이다 가장 인간다운 예술가 오석 교가 그간 그려 온 수묵 담채화 설경은 화려한 빛깔이기보다 단촐하고 역동적이기보다 변함없으며 가벼워 보이지만 측정할 수 없는 무게감을 가진 어머니의 사랑 그것이다 평면에서 입체로 변화한 그의 작품 꼭두 역시 너른 대지에 뿌리 내리고 긴 시간 묵묵히 한 줄 한 줄의 나이테를 그리며 느리게 자란 나무에서 찾은 어머니의 기운을 상징적으로 드러냈다는 공통 분모를 갖고 있다 표현에 대한 형식적 차이와 재료의 상이 함을 뛰어넘는 그만의 일치된 맥락을 갖는다는 이야기다',\n",
       " '나무를 깎고 자연에서 불러온 오방색으로 채색한 꼭 두는 어머니인 동시에 희망의 분신이다 신화에 나오는 피그 말리 온처럼 혹은 동화 속의 피노 키 오처럼 그가 끊임없이 어루만진 나무는 새로운 생명으로 잉태돼 세상에 나온다 마치 열반을 기다리는 수도자의 수행처럼 고단하고 지난 한 그의 반복적 행위는 병상에 누워 있는 모친의 쾌유에 대한 바람과 세계를 살아가는 우리 모두의 안녕과 행복을 위한 기원의 몸짓이다 따뜻하고 온화하며 가장 인간다운 예술가 오석 교 그가 앞으로 지속할 진정한 의미에서 휴머니즘 예술이 기대되는 순간이다',\n",
       " '그림 가구 예술 향유 그곳에는 가치가 있는 공간 그 곳에 예술이 있다 아름다움이 스며드는 공간 그 곳에 그림과 가구가 있다 문화가 흐르는 공간 그 곳에 예술 애호가가 있다 품격이 있는 공간 그 곳에 머물고 싶다 가구 위의 그림 한 점 공간의 미학이 숨 쉰다 갤러리 밖으로 나간 그림은 가구와 조응하며 즉시적인 조형언어를 표출한다 가구와 그림이 함께 하는 공간은 사물과 사물의 결합이 아니다 디자이너의 예술 정신이 발현된 가구는 예술 오브 제이고 예술가의 유일성이 강조된 창작 작품은 그대로 예술인 것이다 따라서 가구와 함께 설치된 그림은 인테리어 소품이 아니다 예술 오브 제와 예술작품이 만나는 그 곳 공간의 통섭이 시작된다 박 영하 작가는 한국의 대표적인 추상작가이다 내일의 너 시리즈는 작가의 감성 표현의 화두이다 자연의 본성과 한국적인 정서를 잘 보여줌으로써 모노 크롬 회화의 맥을 이어 오고 있다 작가는 일상생활에서 느끼는 자연물 나무 꽃 돌 하늘 바람 등 과 인공적인 건물 보도 블럭 도심 거리의 풍경 등을 날마다 채집한다 이러한 이미지와 기억을 캔버스 앞에서 풀어낸다 돌가루와 유리가루를 적절하게 배합한 마티에르를 두툼하게 바르며 채집된 이미지를 응축하여 표현한다 붓의 터치를 통해 자연적이고 감성적인 회화의 맛을 서정적으로 담아내고 있다 기존 현대미술의 색면 추상에서 제시하는 숭고미의 맛과 다르다 동양적 사유와 여백으로 인해 정서적 안정감 교감하는 소통을 이끌어 준다 작품 앞에서 들여다보면 긴장이 해소되고 마음의 위안이 되는 힐링의 시간이 될 것이다 현재 홍익 대학교 대학원 교수로 재직하며 호주의 갤러리에 전속작가로 활동하는 중견작가이다 이 돈 순 작가는 생명현상에 대한 신비로운 경험이 바탕이 되는 작품내용을 전개해 간다 잎맥으로 그려 가는 나뭇잎 꽃 잎 동물의 형상이 캔버스에 주요 공간을 위치한다 작품에 미시적이고 구체화된 형상은 작가가 생활 주변에서 체험하였거나 기억 창고에 저장된 이미지를 섬세하게 표현하는 방식이다 그는 그리지 않고 기성품 오브 제 못 을 선택하여 캔버스에 드로잉 하듯 하나 하나 박 는다 그것은 점이다 그에게 못은 붓처럼 익숙한 재료이며 목조주택을 손 수 지었던 만큼 자유롭다 작품의 주제는 통섭이다 부모가 아이를 품은 보금자리 암탉의 품에 병아리 나뭇잎에 머무는 새와 잠자리 소나무 가지에 앉은 부엉이 하늘소 등 한 편의 단편 소설을 읽듯이 스토리가 전개되는 풍경이 펼쳐진다 현재 영은 미술관 레지 던 시에서 작품 활동을 하는 독창적인 작업 전개가 앞으로 더욱 기대되는 주목 받는 작가이다 이용 석 작가는 년 식물원 붉은 정원 시리즈 발표를 시작하였으며 식물원과 주묵 은 중요한 조형 예술의 상징이 된다 주조 색인 붉은 색이 더욱 드러나는 것은 식물들의 형상을 선으로만 표현하였기 때문이다 식물 외에 동물 형상의 아이콘 촛대 소파 등 일상 사물의 이미지 등이 공간을 자유롭게 유영 한다 관 엽 식물과 열대식물 등과 동물 형상에서 코끼리 얼룩말 펭 권 사슴 등은 식물원 동물원에서 바라보는 대상이 아닌 그들의 공간 자유의 공간을 제시한다 식물원 꿈 코끼리 위에 풍선을 띄우거나 붉은 정원에서처럼 실내의 사물이 외부 공간으로 확장되어 공간과 공간의 결합 식물과 동물의 어울림이 이상향에 대한 기원으로 다가온다 녹색이 지배하는 식물원에서 붉은 색 거대한 생명의 자연에서 활동하는 동물들의 역동적인 기운이 붉은색으로 함축되어 있다 현재 홍익 대학교 미술대학 박사과정을 수료하고 대학 강의와 작업을 하는 유망작가이다',\n",
       " '손 수용 전통적 양식과 정신을 이어 받으면서 현대적인 감각으로 가장 문인적인 미의식과 표현방법을 추구 하면서 자연을 수묵을 통해 획과 선으로서 표현하려는 석 여 손 수용 화백의 제 회 작품전이 대백 프 라자 갤러리 A 관 전시실에서 마련된다 이번 전시는 작품집 출판 기념 전으로 마련된다 지난 자신의 화 업을 이번 작품 도록에 담아 내 어 그림을 하는 모든 이들에게 참고가 되었으면 하는 바람으로 작품집을 제작하여 더욱 의의가 있는 전시로 마련된다 작가는 그림을 그린다는 것은 장강과 같은 유장 함이 있다 수묵 문인화는 현대미술의 격 량 속에서도 그 생명력이 지속되는 것은 그 전통이 지니고 있는 본연의 정신성과 더불어 그 표현방법이 시대를 초월 하여 통하고 있다는 증거이다 라 말한다 그의 이번 전시 특징을 보면 전통을 자기만의 방법으로 재해석하여 대자연을 대상으로 다양한 소재를 산수화 화조화 영 모화 어해화 초충화 소과화 사군자 능수능란하게 그려내고 있다 기운 생동 하는 획 과 선 대담 하면서도 시원스런 구도의 전개 사물의 절제된 표현 농익은 색상의 사용 또한 달필로 쓰는 화제 는 화면을 한층 더 문기를 더하게 만든다 대자연을 대상으로 거침없는 선과 필의 로 대상을 집약 단순화 하면서도 가장 세부적인 특징까지 표현한 손 수용의 작품세계는 기교는 물론 그 사물의 정신을 정확하게 전달하며 작품에서 풍기는 기운 생동의 기운이 더 큰 감동으로 다가온다는 평가를 받는다 작가는 이번 전시를 통해 시 서 화 삼절 의 진수를 보여주는 작품 여점을 선보일 예정이다 작가는 현재 대한민국 정수미술대전 초대작가 죽 농서 예문 인화대전 초대작가 대한민국미술대상 전 초대작가 대구 경북 미술대전 초대작가로 활동 중이다',\n",
       " '미술의 소비 대중화를 마련하는 측면에서 소품 전 소리 없이 내리는 비를 통해 다양한 작가의 소품을 선보입니다',\n",
       " '현재 한국화 조소 회화 등 활발하게 창작하며 활동하고 있는 작가들이 참여하고 있으며 일반인들의 예술 감상 기회를 넓히고 예술의 대중적인 소비를 지향하는 계기를 마련하고자 합니다',\n",
       " '작가는 자유로운 창작과 현실적인 삶 두 마리 토끼를 잡아야 하는 선택할 수 없는 상황 속에서 살아가고 있습니다',\n",
       " '갤러 리 두들은 작은 시작이지만 창작의 이익을 작가 본인에게 돌려주고자 합니다',\n",
       " '예술작품의 소비 문화가 정착될 수록 전업작가들은 삶은 안정되고 자유로운 창작의 기반이 될 것입니다',\n",
       " '보자기 마음의 기하학 년도 그 처음을 여는 전시로 예 화랑에서 보자기 마음의 기하학 이하 보자기 을 준비하였습니다',\n",
       " '이번 전시는 부 목안 꿈을 그리다 이하 목안 에 이어지는 부 전시로 김용 대 대구 시립 미술관 관장이 기획했습니다',\n",
       " '년의 마지막을 장식한 목안 과 년을 여는 보자기 은 모두 무명의 작가에 의해 제작되어 민간에서 널리 사용되었던 골동 민예품의 예술성을 재조명한다는 데 공통점이 있습니다',\n",
       " '또 한 인생의 새 출발을 하는 부부에게 백년 해로의 소망을 담아 주었던 목안 나무 기러기 과 말 그대로 복 을 기원하는 마음으로 한 땀한 땀 만들어 진 보자기는 평안하고 행복한 년을 맞이하는 데 가장 적절한 소재라',\n",
       " '할 수 있겠습니다',\n",
       " '비단 모시 삼베 면 등의 가벼운 직물로 만든 보자기는 물건을 덮거나 싸서 보관하거나 이동하는데 사용되었습니다',\n",
       " '보자기는 과거 협소한 주거의 공간적 제약을 벗어나기 위하여 만들어 진 실용적인 도구입니다',\n",
       " '보자기는 펴고 접을 때마다 그 크기가 가변적이어서 사용할 때는 넓게 펼쳐 물건을 담을 수 있었고 보관할 때에는 작게 접어 그 부피를 최소화할 수 있었습니다',\n",
       " '보자 기의 발달 이면에는 일종의 기복신앙적 요인도 있습니다',\n",
       " '보자기는 한자로는 보라고 표기하거나 복 이라고도 하는데 이와 발음이 유사한 복 과 그 뜻이 통하는 것으로 알려 져 있습니다',\n",
       " '동양문화에 뿌리 깊은 기복신앙은 정성을 다해 만든 물건에 보이지 않는 힘이 있다고',\n",
       " '여겼습니다',\n",
       " '대상에 공을 많이 들이는 것은 치성을 드리는 행위이며 치성을 들인 대상은 복을 부르는 매체가 된다고 믿었습니다',\n",
       " '수를 놓거나 작은 천 조각을 하나하나 이어 붙이면서 정성 들여 만든 보자기에 물건을 싸 두는 것은 복을 싸 둔다는 뜻으로 통하며 특히 각종 예물을 싸 던 혼례 용 보자기가 그 대표적인 예입니다',\n",
       " '우리의 보자기는 독창적입니다',\n",
       " '몬 드리 안이나 클 레의 작품보다 백여 년 이상 앞서 제작된 공간 구성미를 가진 작품입니다',\n",
       " '우리의 보자기에서는 로스 코 보다 더 깊고 아름다운 색채를 발견하는 것은 어려운 일이 아닙니다',\n",
       " '동양적 정서가 담긴 오방색 을 통해 강렬한 추상성을 지닙니다',\n",
       " '사용하고 남은 작은 조각 천을 버리지 않고 이어 붙여 자연스러운 이 음 선으로 만들어 가는 무한한 확장성을 보여주기도 합니다',\n",
       " '무계획의 구성미 무질서 속의 질서 독창성 무엇보다 현대미술에서 표방하는 예술과 생활의 결합 추구 우연성 무작위 등은 보자기에 그대로 보여 지고 있습니다',\n",
       " '만드는 이에 따라 배색과 문양의 구성이 달라지고 담아내는 물건에 따라 형태와 스타일이 자유자재로 변화하며 사용하는 이에 따라 매듭 모양이나 묶는 방식이 다채롭게 제시되는 점에서 보자기는 중립적입니다',\n",
       " '중립은 전후 좌우 사방으로 이동할 수 있는 가능성을 포용합니다',\n",
       " '평면인 동시에 무한한 공간 감을 가지고 있는 보자기의 아이러니한 매력을 느껴 보시기 바랍니다',\n",
       " '솜씨가 있으면 있는 대로 서투르면 서투른 대로 아무런 사심 없이 지어 낸 보자기는 비전문가에 의해 무의식적으로 만들어 졌지만 그 결과물은 무기 교의 기교 라는 표현이 떠오를 만큼 신선하고 독창적입니다',\n",
       " '평범한 여성들의 일상에서 시작되었음에도 불구하고 우리의 보자기는 시대적으로 앞설 뿐 아니라 정형화 되지 않은 색채감과 구성미로 독특한 예술성으로 차별화된 가치를 지닙니다',\n",
       " '최근 보자기의 높은 예술성에 주목하는 사람들이 증가하면서 보자기에 대한 다양한 해석이 있어 왔습니다',\n",
       " '이번 전시회는 보자기를 본래 기능에 충실하게 재현하고 물건을 담은 입체상태에서의 아름다움을 부각시키려 합니다',\n",
       " '특히 예 화랑의 회색빛 콘크리트로 둘러싸인 모던한 공간에서 옛 물건이 조화롭게 상응하는 installation work를 제안하려 합니다',\n",
       " '보자 기가 담고 있는 만복을 기원하는 마음으로 준비한 이번 전시와 함께 미술 애호가 분들 여러 기자님 들께',\n",
       " '신년인사 드립니다',\n",
       " '감사합니다',\n",
       " '히 말라야 유랑 서울 광화문 네거리를 총총 거리며 걸어가는 사람들을 봅니다',\n",
       " '버스 창 너머 밖을 바라보는 이들의 눈빛을 봅니다',\n",
       " '회사 밖을 나설 때마다 히 말라야 사람들이 떠올랐습니다',\n",
       " '그들을 생각하면 왠지 마음이 편해 지고 지금은 어떻게 살고 있는지 궁금합니다',\n",
       " '그들은 언젠가 꼭 다시 만나야 할 동무 가 되었습니다',\n",
       " '인류 시 원의 땅이 자 수많은 신들이 살고 있는 눈의 나라 그래서 수많은 순례자와 산악인들이 고산 증과 추위를 무릅쓰고 끊임없이 찾아가는 곳 그곳이 바로 히 말라야입니다',\n",
       " '이 책 은 히 말라야 서쪽 의 카라 코람 히 말라야에서 인도 히 말라야 네 팔 히 말라야에 이르기까지 직선거리 km 개월 여정의 기록입니다',\n",
       " '척 박한 히 말라야의 고산 풍경 여러 종족의 다양한 삶 그리고 꾸밈없이 살아가는 천진난만한 어린이들 같은 하늘 아래 사람들이 어쩜 이렇게 다르게 살 수 있는지 그들의 표정은 한결같이 밝았고 우리 같은 외지인은 그들에게 호기심의 대상일 뿐이었습니다',\n",
       " '그들에게 히 말라야는 말 그대로 신들이 사는 신성한 땅이고 삶의 터전이었습니다',\n",
       " '히 말라야에서의 개월은 제 겐 배움과 성찰의 시간이었습니다',\n",
       " '산은 움직이지 않았습니다',\n",
       " '언제나 그 자리에 있었고 수많은 사람들이 움직였을 뿐입니다',\n",
       " '고산 증에 시달린 저를 돌봐 준 파키스탄 부니 마을 가족들 결혼 잔치에 불러 준 훈 자 마을 사람들 하루 종일 공사장 돌을 깨고 달러를 버는 소녀 일꾼들 불안 속에 살면서도 따뜻한 눈길을 건네 준 카 슈 미르 분쟁지역 주민들 깊은 산중에서 학교도 못 가고 양치기로 살아가는 아이들 m 고산에서 kg가 훨씬 넘는 내 짐을 짊어 줬던 포터들 낯선 이방인의 카메라에 따뜻한 미소를 보내',\n",
       " '준 그 모든 분들에게 이 지면을 빌어 감사의 마음을 전합니다',\n",
       " '산을 몰랐던',\n",
       " '저를 히 말라야까지 동행하게 해 준 박정헌 원정대 장과 대원들 이들의 도움이 없었으면 개월의 설산 소요 는 가도 가도 막막한 길이었을 것입니다',\n",
       " '히 말라야 유랑을 허락해 준 회사와 묵묵히 격려해 준 선후배 동료 지인들께도 고개 숙여 감사 드립 니다 원정 기간 내내 물적 기술적 후원을 아끼지 않은 캐논 코리아 컨 슈 머 이미 징 강 동환 대표 님과 노 스페이스 성가 은 이사님께도 감사 드립니다',\n",
       " '그리고 밖에만 돌아다니는 저를 언제나 따뜻하게 맞아 준 아내 김 선해 와 아들 이 산하에게 고마움을 전합니다',\n",
       " '국 대호 파리 뉴욕 로마 등 여러 도시를 여행하며 작가의 심미안으로 찾아낸 순간의 인상을 포착하여 화폭에 담아내는 국 대호 작가의 개인 전이 분당 수호 갤러리에서 열린다 이번 전시는 년에 이은 수호 갤러리에서의 번째 개인전이다 매년 각기 다른 도시 시리즈를 선보였지만 이번 개인전은 도시 시리즈 외에도 국 대호만의 색채에 대한 끈질긴 탐구를 엿볼 수 있는 젤리 빈 시리즈의 여러 신작을 만 나 볼 수 있어서 더욱 흥미롭다 국 대호는 서울대학교 미술대학 서양화 과를 졸업하고 파리 국립미술학교 및 파리 대학교 대학원 조형예술학과를 졸업하였다 년 경 그는 구상적 재현에 대한 미련을 잠시 내려놓았다 년까지 약 년에 걸쳐서 단순화된 화면을 추구하는 과도기를 거치다가 작은 캔버스들을 택해 개별적으로 색채 작업을 한 후 전시공간에 따라 패치워크 하듯이 모아 벽에 배열하기도 하고 커다란 하나의 화면을 분할하는 색면 추상 색과 색 사이의 뉘앙스를 보여주는 스트라이프 작업까지 여 년 간 회화의 본질에 대한 연구를 거듭 했다 현재의 도시 시리즈나 젤리 빈 시리즈가 나오기까지의 연구과정이 그간의 여년에 고스란히 묻어 있다고',\n",
       " '해도 과언이 아니다 도시 풍경에서 보여 지는 극적인 구도와 빛의 적절한 사용을 통한 감각적인 색채 달콤하고 몽환적인 젤리 빈 의 형상을 통해 작가는 그 나름의 어떤 감정을 제시한다 제시하고 질문하여 관람객 스스로의 내면과 감정 속에서 정답을 발견하도록 돕는 역할을 도시 젤리 빈 를 통해 표현하는 것이다 이것이 작가가 그토록 오랜 시간 추상과 구상을 넘나들며 끊임없는 연구를 거듭 한 까닭이다 최근 년 월 마이 애 미에서 열린 REDDOT ART FAIR 등의 국제 아트 페어에 국 대호의 도시 시리즈 뉴욕 로마 맨 하 튼 등 가 출품되어 전세계 컬렉터 및 관람객들에게 그의 탁월한 실력을 주목 받은 바 있다 시간이 축적되어 오면서 자연스럽게 형성된 도시 만의 색채 그리고 색채에 대한 끊임없는 탐구로 얻어 진 회화의 가능성에 대한 도전인 젤리 빈 의 달콤하고 따뜻한 색채의 유희와 함께 감성이 따뜻 해지는 시간이 되기를 바랍니다',\n",
       " 'Pretty in Pink 정치 영 정치 영의 회화는 여느 포토 리얼리즘 작가들처럼 사진이 모티프다',\n",
       " '그런데 그의 회화 속 사진 이미지는 흔히 보는 포토 리얼리즘 회화와 달리 좀처럼 말을 하려고 하지 않는다 마치 닮기 경쟁이라도 하듯 잔혹할 정도로 묘사적이고 자극적인 포토 리얼리즘적 속성이 그의 회화 속에는 없다 오히려 작품을 보고 돌아서는 순간 그 아련한 영상 마저도 캔버스가 삼켜 버릴 것 같다 정치 영 회화의 이러한 특징을 회화적 잔영 이라고 부른다면 무리가 있을까',\n",
       " '정치 영 회화에서 이 잔영 은 그에게 있어 두 가지 중요한 점을 시사한다 하나는 포토 리얼리즘에 있어 회화와 사진의 모호한 경계를 분명히 하는 것이며 또 하나는 그 혹은 우리 의 의식 속에 자리 잡았던 영웅을 제거하는 일이다 이 두 가지는 방법과 소재 주제 라는 측면에서 맞닿지 않는 평행선상에 있지만 정치 영은 이 잔영 을 통해 이 두 가지의 속성을 하나로 묶어 낸다 수백 년 간 이어 온 회화의 시각적 재현에 대한 절대적 위상은 사진의 등장 앞에 허무하게 무너져 내렸다 회화의 오만함은 과학적 테크놀로지 앞에 무릎 꿇고 사진은 마치 회화의 거대한 역사를 조롱하듯 회화를 밀어내고 닮 기의 제왕으로 군림한다 하지만 다행히 사진과 회화의 닮기 전쟁은 회화의 목적이 닮음이 아니라는 점을 깨닫게 해 준 중요한 계기를 제공했고 회화는 새로운 회화적 환경 모색을 위해 이합 집산을 이루며 여러 가지 실험을 단행한다 급기야 그 실험은 사진을 회화로 끌어들이는 포토 리얼리즘에까지 다다 랐 다 이러한 현상은 사진도 예외는 아니어서 이제 회화는 사진을 사진은 회화를 닮아 간다 물론 회화에 있어서 포토 리얼리즘은 단순한 사진 닮기가 아니다 사진이라는 미디어를 통해 새로운 환경을 제시하는 것이라고 보아야 더 정확할 것이다',\n",
       " '하지만 최근에는 그 경계가 모호하여 포토 리얼리즘 본연의 의도와는 달리 형식적인 사진 닮기에 초점을 맞추고 있다는 인상을 지울 수 없다 정치 영은 여기서 그 경계를 분명히 한다 사진을 모티프로 하지만 사진이 잡아낼 수 없는 회화적 영역에 주목한다 특히 정치 영이 추구하는 사라지는 듯한 잔영 의 중간 색조는 카메라 렌즈가 광학적으로 잡아낼 수 없는 미묘한 색채 조합과 변화로 이루어졌을 뿐만 아니라 파스텔 톤의 단색조 이미지 구축은 회화이기에 가능한 것 들이다 그것이 데이 빗 호크니 적인 회화적 사실주의를 지향하지 않는 정치 영의 포토 리얼리즘이 단순한 사진의 재현으로 느껴지지 않는 결정적 단서 들이다 그 과정을 통하여 그는 포토 리얼리즘의 회화적 가능성을 확장하고 있으며 회화적 순수성을 획득하려 한다 이러한 회화적 가능성은 시대의 영웅을 없애고자 하는 정치 영의 궁극적인 예술적 목표에 힘을 실었다 그의 영웅 들은 그의 잔영 과 함께 그의 회화 속에서 처절하리만큼 애처롭게 희뿌연 안개 속으로 사라진다 어린 시절 세상을 구원할 희망처럼 여겼던 영웅 그것은 영화 혹은 만화 속의 캐릭터 일 수도 있고 역사 속의 인물일 수도 있고 정치가 일 수도 있고 나날이 발전해 가는 과학기술 일 수도 있다 매스미디어의 범람 아래 우리가 동경해 마지 않았던 그 영웅들이 현실 속에서 더 이상 현실이 아닌 한갓 가공된 영웅 임을 깨닫게 되었을 때의 허탈감이 그의 회화 속에 녹아 있다 그 표현이 강력한 메시지가 아니라 현상을 왜곡하지 않은 아련함이기에 더 애절하다 차마 영웅을 부정하지 못하고 잔영 을 이용하여 존재 자체를 없음 의 상태로 환원시키려는 작가의 염원이 엿보이기 때문이다 자신이 그토록 믿고 의지했던 영웅이 자신의 손에 의해 퇴색되고 사라지고 있는 것이다 이번 전시는 정치 영이 자신의 회화에서 포토 리얼리즘의 회화성 획득과 영웅의 제거라는 두 가지 과제 혹은 그 이상의 과제를 풀어 가는 과정에 있다 회화적 잔영 처리와 단색 조의 화면 구축은 과정으로서의 소기의 목적에 도달하고 있지만 여전히 이 문제들은 그의 삶과 회화 더 나 아가서는 현대미술이 풀어야 할 과제들 로 남아 있다 여기서 지금 이상의 무엇을 바라는 것은 그가 제거하고자 하는 또 하나의 영웅 을 만드는 일인지는 모르겠지만 다시금 회화의 옛 영광을 되찾고자 하는 것이 아닌 회화성 획득이라는 회화 고유의 과제를 풀 수 있는 그 날이 기다려 지는 것은 막을 수 없을 것 같다',\n",
       " 'Interactivity space 상호작용성 공간 Interactivity space 이라 명하는 이번 전시에서는 무의식적으로 지나칠 수 있는 자기 중심적 가상공간의 침식으로 이한 현 대인 관계의 생태적 양상에서 두드러지는 문제를 제기한다 컴퓨터 테크놀로지를 이용한 미디어는 인터넷 네트워크의 발전에 힘입어 사람의 생태계에 깊숙이 스며들게 되었다 랩 톱 태블릿 스마트 폰과 같은 개인 미디어장치는 시간과 장소에 구애 받지 않는 가상공간의 접속으로 가능케 했으며 사람의 생태는 물론 생활방식의 이변을 만들어 내 었다 이것은 매우 유용하고 편리한 소통 매개로 자리 잡고 있다 하지만 가상공간의 잦은 접속은 현실공간에서 소외된 소통 공간의 고립을 발생시키는 불리한 점이 있다 이러한 미디어의 상호작용성 의 근본적인 맥락은 본래 대인 관계에서 일어나는 소통을 모티브로 설계되었지만 소통을 위한 기술이 소통을 단절시키는 오늘날의 상황은 어디에서 나 볼 수 있다 주의를 돌아보라 사람과 사람이 대면하는 독립된 한 장소는 물론 길을 걷는 사람의 시선도 주변 환경보다는 손에 들려 있는 작은 모니터 속에 몰입되고 있음을 목격할 수 있다 대인 소통의 단절은 오히려 독립된 자기 중심적인 세계관으로 만들어 진 가상공간을 만들어 냄으로서 현실에서의 물리적 억압을 벗어날 수 있는 이점으로 인식되고 있다 그러므로 미디어의 대인 관계성은 지속적인 의식 고립화를 악화시키게 된다 상호작용성 공간 Interactivity space 은 메마른 현 사회의 단절되는 소통문제를 풀어 나가는데 의미를 갖고 있다 작품은 시청각 표현 매체와 디지털 테크놀러지의 긴밀한 조율을 이루어 낸다 전시장의 공간성과 동선에 반영되어 설계된 오브제는 알루미늄 베이스와 면의 다중 레이 어로 구성된 반투명 스크린으로 제작되어 공중에 설치되며 이를 투사하는 개의 빔 프로젝터의 영상 속에는 관객의 행위 시간 위치에 따라 전시 구성요소가 교감을 하게 되는 텍스 처가 담겨 있다 공간을 가득 메우는 영상과 사운드의 일체성은 상호적 공간에 대한 몰입을 할 수 있는 선 조건으로 중요시 되었다 또한 이번 전시는 동등한 주제를 가진 세 명의 사운드 아 티 스트 Keig Travus Sound Tschaan의 협업으로 상호작용성 공간 공유하는 현대미술의 융합성을 보여준다',\n",
       " '삶의 향기 김숙 전 북도 립 미술관 서울 관에서는 김숙 개인전 을 개최한다 이번 삶의 향기 전은 김숙 작가의 번째 개인전이다 작가는 전 북대학교 교육대학원에서 미술교육을 전공하였다 한국 미협 회원 전 전라 미술제 초대전 전 북인물작가 회전 한일 초대작가 교류 전 한중 현대미술교류 전 영 호남 미술교류 전 전 북 여류 화가 회 회원 전 미협 여성 위원회 회원 전 등 국내외 단체전에 여회 참여하였다 현재 전 북 여류 화가 회 회장 한국 미협 전 북여성 위원회 재무이사 전 북미술대전 대한민국미술 전람회 초대작가 한국 미협 전 북인물작가 회 회원 등으로 활동 중이다',\n",
       " '계절이 지나면서 땅은 가뭄이 지기도 하고 눈과 비를 맞는다 서리를 맞고 천둥과 바람에 맞서 싸우며 자연의 섭리를 이겨 내 결국 생명을 담아내는 것이다 이렇듯 우리 주변에서 볼 수 있는 자연은 인생의 모습과 같다고',\n",
       " '할 수 있다 작가는 새싹과 같이 여리고 약한 존재 속에서 희망과 꿈들을 찾아 화면을 가득 채운다 작가는 유화의 자유스러운 터치의 중첩 또는 비움으로 자연의 깊이를 표현한다 캔버스 위에 변화하는 자연의 모티브들과 색들은 자유롭게 어우러져 어느 부분은 마치 수채화와 같은데 그것은 얇은 터치로 그려져 공기와 바람이 흐르는 듯하다 유채화의 맛이 고스란히 보여 지는 부분은 성실한 터치들이 쌓여 단단한 흙과 돌의 모습을 보여주기도 한다 화면 안의 풍경들과 아이들 그리고 인물들은 삶의 향기를 가득 안고 있다 온 들녘을 황금빛으로 물들이고 온 강산을 다채롭게 수놓은 들풀들과 꽃들의 짙푸른 녹음은 인간 삶의 아름다운 모습과도 같다 작품 속의 모든 것 들은 희망과 삶에 대한 강한 의지를 가지고 하루하루에 대한 소중함을 말하고 있다 작가는 찬 대지 아래서 한기를 견뎌 내며 인고의 시간과 성찰의 시간 그리고 실패와 절망 고통의 시간을 견디어 내고 한층 더 성숙해 지는 모습을 우리 인생의 모습에 비유한다 이번 전시에서는 장미 소녀 가을 들녘 붉은 노을 싱그러운 꽃 등 모든 자연 안에서 삶의 여정으로 안내할 것이다',\n",
       " '줄 수 있는 것 팔 수 있는 것 주거나 팔 수 없지만 보존해야 하는 것 남동 현 살아 있는 양 이 무대에 등장한다 남동 현의 줄 수 있는 것 팔 수 있는 것 주거나 팔 수 없지만 보존해야 하는 것 은 자본주의 사회를 움직이는 원리에 대해 이야기하는 퍼포먼스이다 자본주의 사회에서는 살아 있는 양 조차도 여타의 사물과 마찬가지로 광고에 사용되거나 상품화 된다 주변에서 흔히 만날 수 있는 상품화 된 양의 이미지 예를 들어 분유 증권회사의 광고를 살펴보고 교환 가치만을 강조하는 자본주의 사회의 일면을 보여주고자 한다 문래 예술공장에서 발표할 이 퍼포먼스를 위해 남동 현은 경기도 모처에 양의 축사를 짓고 약 개월 간 양과 함께 생활하였다 남동 현은 양과 함께 무대에 올라 상품으로서의 생명체의 교환 가치만을 강조하는 자본주의의 원리에서 벗어 나 모든 생명체의 존재 그 자체와 그의 영혼을 존중한다는 증여 의 가치에 대해 이야기하고자 한다',\n",
       " '적응 기제 adjustment mechanism 이번 작업은 동물원에 사는 동물들의 상처와 고립감을 표현하는 작업을 통해 인간의 삶의 조건을 투영하고 이를 사유해 보게 한다 작가는 사진 매체를 활용한 참신한 시도를 통해 자신만의 독창적인 조형 언어와 예술적 잠재력을 확인시킬 것으로 기대된다 전시에서 보여 진 사진 작업들은 한편으로는 현실의 대상을 카메라로 충실하게 재현해 내며 사진적 행위의 결과 인 사진과 대상의 지표적 관계에 기초한 기록적 접근을 보이면서도 다른 한편으로는 대상성 및 현실 인식에서의 자각 그리고 주관적 감성영역으로의 확장된 사고를 통해 현실에 기원을 갖는 사진적 기호들을 또 다른 층위의 코드로 재창조해 냄을 인지하게 한다 작가가 작업을 시각하게 된 동기는 우연히 방문한 동물원에서 창밖을 바라보는 동물의 눈에 눈물이 맺혀 있는 모습을 보게 된 것으로 부터였다 이후 동물원에 사는 동물들의 모습을 통해서 그는 자신의 본능대로 살 수 없는 동물들의 삶에 대해 자각하게 되었다 동물원이라는 환경에 적응하며 살아가야 하는 동물들을 대면한 가운데 이 동물들 만의 상실감과 상처에 대해 생각해 보게 되었고 이를 작업으로 시각화하게 된다 물론 현재의 작업에서 우리 눈에 확연히 각인되는 것은 동물이지만 이러한 동물들은 한편으로는 인간 군상의 메타포 metaphor 일 수 있다 사진작가인 베 티나 하인 즈 Bettina Rheims 가 동물들의 포트 레이트를 찍은 사진들과 인간의 모습을 찍은 사진들을 보며 느꼈던 동물과 인간이 유형이라는 측면으로 바라볼 때는 동질화되어 보일 수 있다는 사실과 유사한 맥락이 이 작업에서도 발견된다 작가가 작업의 제목으로 내세운 적응 기제 란 심리학적으로 두렵거나 불쾌한 일 또는 욕구 불만의 상태에 부딪쳤을 때 자기 자신을 지키기 위해 자동적으로 취하는 적응 행위를 뜻하는 용어이다 사람은 누구나 적응 기제를 가지고 있으며 이를 방어 기제라고 부르기도 한다 동물들 역시 자신을 스스로 지키기 위한 본성을 가지고 적응하며 살아가고 있음을 이 단어는 단적으로 드러내고 있다 사진에서는 시간의 경과를 나타내는 빛 바랜 색의 톤이 어렴풋이 보여 지고 있는데 이는 마치 오래된 물건이 낡으면 색이 변질되듯이 동물원에서 살고 있는 동물들 이 그곳에서 상당 기간을 지내 왔음을 나타내는 시간의 축적에 관한 은유적 표현이 된다 또한 작가는 사진 표면의 스크래치를 통해 자신의 본성을 잃은 동물들의 내면적인 상처를 표현하고 있다 누군가를 바라본다는 것은 그 안에 주체 대상 타자 세상이라는 관계의 틀을 상정하게 한다 관객의 시선을 외면한 동물들의 슬픈 눈빛들은 이러한 관계 망에서 한편으로는 소외되고 고립된 타자의 존재를 확인시켜 준다 이 작업의 형식적인 표현 양태들은 위트 킨 Joel Peter Witkin 의 사진을 떠올리게 한다 위트 킨 은 신화나 전설에서 찾은 어떤 모티브를 해체하여 죽음과 육체 성 등의 주제를 다루며 매우 기괴하고 추한 방식으로 인물들을 드러내는 방식으로 인간의 기본적인 삶의 조건들에 대한 사유를 심화시켜 낸다 또한 그는 현상과정에서 일부러 표면이 긁히거나 내면적인 상처들을 스크래치를 통해 형상화하고 여기에 갈색의 색감을 덧붙여 내며 극적인 분위기를 고조시켜 비정상적인 신체를 가진 사람들 혹은 작가 자신이 받은 상처와 아픔을 표출한다',\n",
       " '사실상 이 작업에서 드러나듯이 동물원은 일종의 사회적 구조 혹은 체계로 간주될 수 있고 이런 의미에서 동물들이 받은 상처는 인간의 그것과 크게 다를 바 없을 것이다 또한 표면에 드러난 스크래치 자국들은 대상을 마치 박제된 것 같은 죽음의 이미지의 문턱에 다가가게 하며 사물의 이면을 통찰하는 아무도 눈치채지 못하고 간과하게 되는 겉으로 표상되지 않는 것 들 그 기저의 흐름을 함축적으로 드러내고 이러한 과정은 삶과 죽음을 넘나드는 인간의 삶의 의미에 대해 사유하게 한다 본 전시는 작가가 어떠한 예술적 개념을 정초하고 시각적 언어를 통해 자신만의 관점을 창출해 내는 지를 바라볼 수 있는 기회를 제공함과 동시에 차후에 사진 분야에서 중추적인 역할을 담당하게 될 작가로서의 단초를 발견하게 하는 소중한 기회를 제공할 것이다',\n",
       " '가족 여전히 유효한 희망의 윤리 모든 윤리적 구성의 핵심은 물신주의적 부인 fetishist disavowal 이라는 제스처에 의존하고 있다는 슬라 보예 지 젝 Slavoj Zizek 의 지적은 상당부분 일리 있는 진술이다 그는 냉전시대의 비극들 예컨대 소련의 상황이 끔찍한 것을 알지만 난 여전히 소비 에트 사회를 믿는다 같은 것을 상기시키면서 모든 윤리는 현실을 냉정한 판단기준으로 삼아야 하는 기본 명제마저 허물어뜨리는 맹목적인 부인 곧 물신주의적 부인에 의존한다고 주장한다 모든 윤리는 한계를 설정하고 어떤 종류의 고통은 묵인할 수밖에 없는 전제 안에서만 가능하다는 것이다 더욱이 보편적인 윤리일수록 더더욱 그러한 맹목성을 요구한다는 것이다 지젝은 더 나 아가 보편성을 명백하게 겉으로 내세우는 윤리 일수록 더 근원적으로 물신주의적 부인의 형태를 띠면서 난폭하게 타자를 배제하고 있다는 삐딱 한 결론에 도달한다 지젝이 광범위하게 적용하기를 원하는 이러한 윤리 담론의 범주에 가족 윤리 가 전형적인 주제로 포함될 수 있다 명시적인 형태의 폭력 자체뿐 아니라 그 폭력에 대한 사회적 관용이나 묵과 은폐에 가정이라는 보편 윤리가 크게 작용한 것이 사실이고 따라서 오늘날 가족윤리는 그 안에서 보호되어 온 폭력의 양상들과 함께 과거의 어느 때보다 냉엄한 비판의 도마에 올라 있는 것이 사실이다',\n",
       " '이런 세태의 맥락에서 가족을 주제로 하는 최인호의 세계는 폭력에 대한 통상적인 무감각과 결부된 것으로 쉽게 간주될 수도 있을 듯하다 그만큼 그의 세계를 지지하는 윤리 담론은 앞서 언급한 시의 적인 윤리 담론과 명백하게 상충한다 아버지 등에는 지키지 못하는 형제 선물이 되어 주세요 아버지 와 같은 작품들에서 알 수 있듯 적어도 현재까지 최인호의 변함없는 주제는 가족이며 가족에 대한 사랑이다 아버지 등에는에서 아버지는 넓고 건장한 등으로 아마도 어린 시절의 작가인 듯해 보이는 아이를 안전하게 업고 있다 아버지의 등 뒤로 전개되는 불꽃놀이와 알록달록 한 식물로 가득 한 놀이공원의 정경에는 아이의 행복한 심경이 반영되어 있다 중요한 것은 최인호의 가정이 지엽적인 물신주의적 부인의 윤리를 훨씬 능가하고도 남을 만큼의 사랑의 윤리 진정한 희망의 윤리 는 여전히 유효하며 유일한 출처로 작용하고 있다는 사실이다 가족을 그리면서 자연스럽게 가족을 생각하게 되고 나도 모르게 부모님에게 죄송하다는 생각이 들기 시작했다',\n",
       " '그러면서 그 동안 잊고 지냈던',\n",
       " '우리 가족의 희로애락을 다시 한 번 생각하게 되었다 웃음이 나기도 하고 가슴이 꽉 조여 지는 순간도 있고 눈에서 초점이 흐려 지는 순간들도 있다 이런 것 들을 하나하나 표현해 나가면서 보편적인 가족들의 이야기도 함께 이야기 하게 된다 아버지와 나 그리고 현주에서 최인호는 아버지의 어깨에 앉혀 있다 마치 롤 프 뢰 블란 Rolf L vland 이 편곡한 You raise me up 의 한 부분처럼 그 어깨 위에서 그는 훨씬 더 그 자신일 수 있으며 자신이 할 수 있는 것 이상의 것을 할 수 있게 된다 아버지와 그는 불가 분리의 관계다',\n",
       " '아버지로부터 나온 어떤 관이 어깨 위의 아이에게 연결되어 있다 아이들을 지탱하기 위해 아버지는 사이 보그도 마다하지 않을 듯하다 언젠가 지젝이 한 인터뷰에서 자신의 아들과 함께 컴퓨터 게임을 했던 경험에 대해 이야기한 적이 있다 적어도 아직은 아버지가 사랑의 시선과 헌신 적인 보호 안에서의 놀이경험을 제공하는 대체 불가능한 출처며 어머니와 형제들이 함께 머무는 가정이 양육과 성장에 있어 대체 불가능한 장소라는 사실 그것이 최인호의 세계 목판화와 페이퍼 릴리프 기법을 이용한 저부조의 세계에 담지 된 윤리 담론의 핵심이며 되새겨야 할 의미이기도 하다',\n",
       " '생명에의 외경 혹은 그리움 오야 마 타다 시의 벽에 대한 명상 생명에의 외경 은 A 슈바이처가 세기 초 아프리카의 랑바레네에서 살면서 살아 있는 존재에 대한 건실한 애정과 삶에 대한 건전한 열망을 이렇게 표현한 것이다 무릇 살아 있는 모든 것에 대한 상해와 살상을 멀리하며 생명을 돕고 고양시키는 것이야말로 참된 인간으로서의 자기 완성의 윤리이며 도덕의 기준이며 정당하고 정의로운 사회를 만들어 가는 최고의 윤리이기도 한 것이다 부산과 가장 가까운 일본 본토의 도시인 후 쿠오',\n",
       " '카 에서 북 큐 슈 쪽으로 차를 타고 달려 약 시간 정도 가면 작가 오야 마 타 다시의 작업실이 있다 작은 공장의 작업실을 연상케 하는 그의 작업실에는 캔버스보다는 철근이나 스티로폼 그리고 경화제와 텍스 츄 어 효과를 내기 위한 약품 류류 그리고 전기톱이 달려 있는 선반과 그 위에 재단 을 기다리는 긴 나무들이 겹쳐 있었다 때마침 교회 설치를 위한 이 콘화를 제작 중이어서 평소 그의 작업이 종교적 색채와는 거리감이 있다는 생각이 얼핏 들었다 물론 그 이 콘화는 다분히 현대적이며 디자인적 요소가 가미된 작품으로 아직은 기초단계에 있던 것이었다 그의 작품의 주요 재료는 스티로폼 위에 합성수지로 강화작업을 하고 사진작업을 거친 이미지를 실크 스크린으로 전사해서 보여주는 것으로 손으로 그린 흔적은 찾을 수가 없다 게다가 이미지의 합성작업은 컴퓨터로 이루어진 것으로 사람의 힘과 기를 직접적으로 통해 느껴지는 작업은 아니다 게다가 화면의 옆에는 몸 밖으로 흉측하면서도 적나라하게 드러난 뼈처럼 여기저기 꽂혀 있는 철근 뼈대들 어쩌면 폭파되었거나 철거되어 부서진 후 방치된 벽의 한 부분처럼 보이는 그 을씨년스러움과 세련된 색채와 형체가 화면 위에 얇게 올라와 있는 그 기막힌 부자연 스러 움은 여느 작품에서 느껴 보기 힘든 독특한 경험이었다',\n",
       " '그런데 교회의 이 콘화 라니 도대체 그의 어떤 생각이나 정신이 그로 하여금 교회의 이 콘을 그리게 했단 말인가 일본에서 돌아오는 동안 이 생각은 한동안 사라지지 않다가 마티스의 니스 성당 벽화를 떠올리며 이렇게 생각을 정리했다 아마도 살아 있음에의 경의 고대 그리스의 격언 중에 여러 사람들이 벽에 뱉어놓은 침 자국을 유심히 관찰하는 것은 예술가에게 매우 유일한 일이다 라는 말이 있다 침을 뱉는 자국은 더럽고 불결해 보일지도 모른다 그러나 그 얼룩진 자국들은 오랜 시간을 지나며 인간의 냄새가 가장 모질게 베어 든 생명감 있는 벽으로 변모하게 될 것이다 일반 사람들의 눈에는 불결하기 짝이 없고 근처에도 가기 싫은 장소이지만 예술가의 눈은 그 속에 들어 있는 인간의 갖가지 내면들을 발견해 내고 예술적인 감각으로 성찰할 줄 아는 힘을 가져야 한다는 것이다 우리는 지금까지 인간들이 만들어 낸 많은 벽들을 보아 왔다 그 벽 들은 주로 소통을 방해하며 인간을 인간답지 못하게 만드는 벽 들이었다',\n",
       " '이런 점에서 오 먀 마 타다 시의 벽은 뱉어낸 침보다도 못한 인간의 원색의 효과로 풍성한 색채감을 의도적으로 주입시킨다 그가 직접적으로 보여주는 형태와 색상들은 이제 그 자체로서만으로 끝나기보다는 벽을 매개로 이러한 이야기를 들려주는 것이다 이 이야기들을 이해하는 것은 이러한 벽을 허무는 작업이며 우리가 넘어야 할 벽이며 이해와 사랑에 대한 의미 있는 그리움이다',\n",
       " 'EPOQUE FRIENDS II 가 까 움 갤러리 에뽀끄에서 EPOQUE FRIENDS 전을 개최한다',\n",
       " '에 뽀끄 EPOQUE 란 시대라는 뜻으로 갤러 리 에뽀끄는 현대 미술의 향 이 피어나는 공간으로 이 시대 문화를 선도하는 예술의 장이 되고자 하는 의미이다 이번 전시는 작년에 이어 두 번째로 맞는 릴레이 전시이다 에뽀끄와 함께 했던 시대 문화를 선도하는 작가들의 작품을 다시 한 번 만 나 보는 기회가 될 것이다 동심의 세계로 초대하는 김은 기작가 자연의 숨결을 따라 마음의 쉼표를 새기게 해 주는 이상 희작가 색한 지가 겹겹이 쌓여 만들어 내는 자연의 이치를 담은 전 경호 작가 따스한 오후의 감성을 자극 하며 쌓다 라는 행위에 주목하는 최현 희작 가의 견고 면서 다정하고 친근한 그림들을 볼 수 있다 이와 함께 작가지원 프로젝트를 통해 만 나 본 작가들의 참신하고 새로운 작품을 전시할 예정이다 안 효 정 작가는 자연과 인공 평면과 부피 감 이처럼 대조되는 형상에서 미를 창출한다 양희 애 작가는 양가 적인 감정에 대한 고민을 불안한 대칭을 통해 나타내고 에너지 넘치는 색들의 레이어로 형상을 완성한다 거리의 나뭇가지에서 현대인의 메마른 감성을 보고 실과 구슬로 엮어서 새로운 아름다움을 표현하는 장 서희 작가 카드 속의 인생의 희로애락 선택의 기로를 캔버스에 옮기는 전병 택 작가 뿌연 기억의 파편을 잔에 담아 간직하고자 하는 주 혜진 작가 이들의 참신한 조화에 주목할 만한 전시 일 것이다',\n",
       " '아날로그 흔적 손 홍 미',\n",
       " '마음 속의 천국 년도 겨울에서 봄을 이어 주는 전시로 예 화랑에서 마음 속의 천국 부제 어느 컬렉터의 이야기 을 준비하였습니다',\n",
       " '미술시장의 필두에는 작품을 컬렉션하는 부를 획득한 자본가들이 존재합니다',\n",
       " '이른바 아트 컬렉터라',\n",
       " '불리우는 그 중에서도 슈퍼 컬렉터라는 억만 장자 아트 컬렉터 그들은 세계미술시장 피라미드 정상에 군림하면서 작품에 얽힌 이야기 만으로도 가격을 좌우하는 막대한 영향력을 행사합니다',\n",
       " '그들은 작품 가 최고가 경신이라는 타이틀로 때론 전 세계 언론에 집중 조명된 작품을 스포트라이트를 받으면서 미술시장에서 보여 지는 그들의 행동은 주목받기 마련입니다',\n",
       " '항상 부자들의 마지막 취미 라 불리며 미술작품을 돈으로 살 수 있는 마지막 가치 라 부릅니다',\n",
       " '그들은 늘 자신이 소유한 작품 수준이 세계 어디를 가든 전 세계 네트워크와 연결시킬 것이라는 확신으로 특권층 중에 특권층으로 매우 차별화된 사람으로 자신감에 넘쳐 있습니다',\n",
       " '이들이 과연 예술작품 하나하나의 의미에 큰 관심과 사랑이 있을까요',\n",
       " '하지만 여기 예 화랑에서 모시는 이 명 숙 세',\n",
       " '이란 이 한 분의 여성 컬렉터는 시대의 유행과는 무관하고 돈의 가치와는 거리를 두는 진정성과 진심을 다한 예술에 대한 사랑만으로 예술작품 예술작가 예술 이야기를 아날로그 감성으로 풀어 내며 깊이 있는 예술 사랑을 미술작품 컬렉션을 통해 보여주는 이가 있습니다',\n",
       " '이 명 숙 선생님의 컬렉션은 여년 전으로 거슬러 올라가게 됩니다',\n",
       " '그림 그리시는 아버지 이 준 화 백 대한민국 예술 원장 역임 일본 태평양미술학교 서양화 학사를 거쳐 이화 여대 미술 대 교수 예술원 회원 서양화 현대미술 초대작가 선정위원 한국미 전 운영위원장 한국미술협회 회장 예술의 전당 비상임이사 서울 올림픽조직위원회 세계 미술제 운영위원을 지낸 바 있음 의 영향으로 집 안 곳곳에 있는 미술 서적과 그녀의 삶에 자연스럽게 자리잡은 모태신앙과도 같은 아버지의 물감냄새는 어쩌면 너무나도 당연하게 그녀가 그림을 좋아하게 된 계기를 선사했을 지도 모릅니다',\n",
       " '이렇게 인연이 되어 어느새 소리 없는 문화 비평가라고 일컬어 지는 진정한 컬렉터 중의 한 분이 되어 수집한 작품 여 점 한 점 한 점과 그 작품들 속에 각각의 의미와 추억의 나열은 보는 이의 마음까지 감동으로 물들입니다',\n",
       " '그림이라는 것이 언제부터인가 돈이라는 생각으로만 가볍게 치부되는 듯 서글픈 현실 속에서 이 명 숙 선생님만의 뚜렷한 소신과 문화예술 사랑의 마음으로 회화 조각 공예 사진 작품 등등 여러 장르를 모두 아우르는 다양한 작품 들 속에 그녀의 삶도 함께 녹아 있는 듯 합니다',\n",
       " '작품을 향한 지극한 애정의 시선과 소녀 같은 진솔한 그녀만의 감성 그리고 꽃같이 순수한 마음이 진정으로 많은 작품들의 인연을 더 돋보이게 합니다',\n",
       " '이 모든 것 들을 예화랑 전시를 통해서 보여드리고자 합니다',\n",
       " '이번 전시회에 출품되는 여점 중에 선회 이 준 Oil on Canvas x cm 는 아버지의 작품으로 본인의 마음의 고향이라고 말합니다',\n",
       " '육체와 영혼이 자유로운 작가 몽 마르 트의 지붕 이 청운 Oil on Canvas x cm 의 작품을 비롯 작고 작가 문신 남 관 조병덕 이응 노 권 옥연 전 혁 림 등 의 작품 그리고 태피스트리 작가 이기 순 황 주리 이진용 이정 웅 곽 훈 오수 환 천성명 등 왕성한 활동으로 한국 화단을 빛내고 있는 작가들의 작품들과 작품 속에 컬럭 터 와의 숨은 이야기들 로 작품을 감상하는 또 하나의 재미를 더해 줍니다',\n",
       " '살 바도 르 달리 리 날도 비지 마크 부르스 소토 펑 정지 장 샤오',\n",
       " '강 쩡 판 즈 등 외국작가들 과의 만남과 그녀가 생각하는 작품의 의미도 기대해 볼 만 합니다',\n",
       " '아직도 한국 사회에서는 대부분의 컬렉터들이 신분 노출을 매우 꺼립니다',\n",
       " '컬렉션을 돈 많은 사람들의 특이한 재테크나 별난 여가 활동으로 여기는 편견이 있기 때문입니다',\n",
       " '개인 컬렉터 들을 광장으로 이끌고 다양한 컬렉션 문화가 꽃피려면 컬렉션을 단순한 투기수단이나 돈 자랑의 도구로 보는 사회적 시각부터 바뀌어야 합니다',\n",
       " '간 송 전형필 같은 뛰어난 컬렉터들은 우리 문화에 빛을 더해 준 공로자들입니다',\n",
       " '컬렉션이 풍성 해질 수록 미술관이나 박물관의 기초 체력도 튼튼 해지고 언젠가 많은 사람이 감상할 기회도 늘어납니다',\n",
       " '진정한 컬렉터의 힘은 궁극적으로 공유 하는 데서 나오는 것임을 컬렉터들도 대중도 깨달아야 한다는 것이 이번 전시의 핵심 일지도 모릅니다',\n",
       " '어떤 컬렉터가 될 것인가 그리고 컬렉터를 어떻게 바라볼 것인가 그 해답의 단서를 예 화랑의 이번 전시를 통해서 개인의 년 가까이 한 컬렉션 역사와 긴 여운을 남기는 작품 감상을 통해서 찾아 보시길 바랍니다',\n",
       " '마지막으로 치과의사의 삶과 문화 예술인의 진정한 조력자 역할을 함께 수행했던 이 명 숙 컬렉터의 진정한 컬렉션을 감상하시며 마음 속의 천국 은 우리가 마주하는 예술작품에 대해서 의미를 부여하고 인연을 만들어 나갈 때 더 없이 풍요로와 지는 것이라 생각합니다',\n",
       " 'Aporia 아 포리아 Aporia 시리즈는 롤랑 바르트 Roland Barthes 의 책 사랑의 단상 A Lover s Discourse 을 모티프로 한 작업이다 흔한 사랑의 언어들 이면에 있는 공허함과 쓸쓸함을 표현하기 위해 네온으로 Why I love you with all my heart 등의 텍스트를 제작해 풍경에 직접 설치해 촬영했다 진부한 사랑의 문구들이 적막하고 황량한 공간과 만나는 통렬한 아름다움의 순간을 표현함으로써 현대인의 고독과 비애 그리고 어떤 논리와 철학으로도 해결할 수 없는 사랑 의 딜레마를 전하고자 했다 아 포리아 Aporia 는 그리스 어로 막다른 곳에 다다름 이라는 뜻을 갖는데 여기서는 사랑 이라는 난관에 부딪힌 딜레마를 함축하고 있다 이번에 선보이는 P S I Love You 와 How Could You Do This To Me 역시 되풀이 되는 내면의 공허한 울림을 표현하고 있다',\n",
       " '님 그림자',\n",
       " '이야기 같은 풍경 현대의 예술은 많은 경우에 있어 일상적 환경을 담는 부분을 이용하며 전유하게 된다 모두가 공감 가능한 현실 속의 시 공간을 반영하여 작가만의 시각을 갖는 사회적 현상들 로 이러한 예술 작업은 보는 이에 묘한 여운을 남긴다 대중의 실생활과 함께 유기적으로 상호작용하고 침투 되는 작업 예술의 풍부한 상상력 문화 환경으로 구성되는 작품은 지금 우리에게 익숙한 풍경이다 이야기 같은 풍경 은 각기 다른 색과 톤으로 바라보고 느끼는 작가들의 내밀한 사유를 보여주는 내면의 풍경을 다룬다 신선한 감각으로 표현된 다양한 작품을 대중들과 함께 나누어 볼 수 있는 좋은 계기가 될 것이다 김 민희 나의 작업은 개인적 이자 사회적인 사건에 대한 기억의 장면을 꼴 라주 하듯 이어 붙여 새로운 장면을 연출하는 것으로 시작한다 재조합된 나의 화면은 파편적이고 주관적이며 끊임없이 변형되고 재조합되는 기억의 중요한 속성을 그대로 반영한다 각 개인들이 소유하는 기억에는 개인 적인 사건의 기록과 사회적 사건의 기록이 존재한다 기억은 개인이 속한 사회와 정치 문화적 영향 하에 있으며 다양한 기제에 의해 재조합 되고 변화하며 망각되어 지기도 한다 언젠가는 사라지지만 잊고 싶지 않은 소중한 기억과 잊혀 지지 않는 고통스런 사건의 기억 사이에서 고통 받는 사람들의 이야기와 나의 이야기를 한 화면에 혼합하여 나타냄으로써 기억의 공유를 시도한다 기억의 공유를 통해 행복한 기억의 영속성 상처의 나눔을 기대해 볼 수 있지 않을까',\n",
       " '화면 속에 등장하는 돌들은 기억에 대한 시간과 공간의 역사를 함축하는 은유적 소재로서 과거 사건에 대한 소중함이나 상처를 품고 있다 박 보영 시간은 흘러간다 과거에서 현재로 다시 미래로 그래서 현재 이 순간은 과거 일 수도 미래 일 수도 있다 이런 시간의 흐름을 시간이 흘러 가도 변하지 않고 그 모습 그대로 그 자리에서 있는 산이라는 매개로 연결하여 시간을 여행하고자 하였다 시간여행의 매개체인 산수는 그저 바라보기도 하고 그 자연 속으로 들어가 보기도 하는 마음의 안식처이다 현재의 나는 불안정하고 복잡한 이 공간에 존재하지만 저 자연 속에서 나는 안정감을 찾아간다 비단 바탕에 과거의 산수는 수묵으로 표현하고 현대의 다양한 사람들은 현재를 살아가는 우리들의 모습으로 얼굴 표현을 생략하고 형형색색의 의상은 반 차도의 형식으로 나 타 내었 다 천 영주 산수화는 산과 강 등의 자연 경관을 소재로 해서 그린 동양 회화의 화목이다 우리나라를 포함한 동양에서의 산수화는 자연의 표현인 동시에 인간이 자연에 대해 지니고 있는 자연관의 반영이 기도 하다 나는 항상 사실적인 표현보다 나에게 숲이 주는 이미지를 그리고 싶었다 어렸을 때부터 봐 오면 산의 형상 나에게 숲이 주는 이미지란 그냥 바라만 보고 있어도 편한 휴식을 취할 수 있는 안식처 같은 곳이다 보는 이로 하여금 상상 할 수 있게 하고 사실적인 표현이 아닌 이미지적인 숲의 모습으로 현대적인 산수화를 그리고 싶었다 바람에 따라 숲의 모양이 결정되는 자연스러움 여기서 바람은 숨통이다 그림에서 숨 쉴 곳 그림에서의 바람과 숲은 즉 생명을 뜻하는 것이다 산수화에서 산 과 수 의 생명체 안에 들어 있는 원초적 기운의 특성을 나타내고 싶었다 우리 지구면적의 이상을 차지하지만 사람들이 중요하게 생각하지 않는 무생명의 존재로서 가 아니라 인체처럼 살아서 생동하는 존재로서 인식되는 것이다',\n",
       " '시선 소통되지 않는 시선들에서 오는 외로움 최경운 최경운 작가는 오랜 시간 중국에서 작업을 하면서 지내 왔다 닮은 얼굴의 이방인 비슷한 말들을 만들어 내는 이방인을 바라보는 또 다른 사람들의 시선 그리고 어쩌면 낯선 모국의 시선들 작가에게 있어 타국에서의 생활과 귀국으로 이어지는 시간이 지금의 작업을 만들어 내게 되었다고',\n",
       " '생각하지는 않는다 작가는 자신의 작품 속 인물들은 하나같이 외롭고 아프다고',\n",
       " '말한다 그러면서 그는 그것을 바라보는 우리들에게 그 안의 인물들 과의 소통과 위로를 바란다고 했다 작품 속의 인물들이 외롭고 아프게 느껴지는 것은 저 인물들의 표정과 분위기가 아니라 나를 떠난 나의 시선의 돌아오지 않음에 있는 것은 아닐까 우리에게 자신을 하나의 이방인으로 돌려보내는 것은 쉽지 않은 일이다 나에게 서 멀어 져 나와 낯선 자신의 모습을 바라보는 것은 어쩌면 힘겨운 일인지도 모른다',\n",
       " '그래서 우리는 거울조차 낯설지 않은 나와 나의 공존 속에서 한번쯤 자신의 삶을 조금 더 먼 곳으로 두어 보아야 할는지도 모르겠다 나의 시선에서 내가 떠나고 있다 그리고 어느 언덕을 넘어 내가 사라진다 어느 거리를 지나 그 곳의 바람을 지나 언젠가 그가 멀리 에서 다시 가까이 돌아왔을 때 비로소 우리는 먼 길에서 돌아온 그를 아우르며 어루만지게 되는 것은 아닐까 그렇게 우리가 그들 바라보았을 때 그는 비로소 우리에게 돌아오고 있는 길 위에 서 있게 되는 것이다',\n",
       " 'No comment 하이퍼텍스트로 대변되는 뉴미디어 시대에서 변화되는 사고방식에 주목해 보는 전시이다 마치 언어 이전의 고대로 회귀하는 듯한 사고방식이 뉴미디어의 특성과 결합되어 어떻게 변화하는지 생각해 보도록 파편화 된 이미지와 해체된 스토리를 가진 작품들을 전시한다',\n",
       " 'No comment 는 이미지와 이미지 혹은 숏 shot 과 숏 shot 사이 몽타주에 의해 생성되는 새로운 의미에 대해 설명하지 않고 관객 스스로 그 의미를 찾아 나가도록 유도한다 분절된 이미지는 큐비즘의 그것처럼 다차원의 모습을 한 화면에 보여주는 듯 싶으나 어긋 나 있는 이미지가 마주하며 나타나는 충돌은 관객에게 어색함을 준다 이러한 어색함은 작품에 몰입되기보다는 그 곳에서 빠져나와 스스로 사고 하고 판단하도록 만든다 영상 기록 작업은 시간의 흐름에 따른 의식의 변화를 기록하고 있다 불규칙하며 파편적인 의식의 흐름을 적극적으로 기록한 영상작업은 의식 변화 데이터를 제공한다 문자가 의미를 박제시켜 놓는다면 영상을 통한 의식과 세계의 표현은 그 의미를 다층적으로 만들고 부유 하게 만들어 새롭고 다양한 의미를 생산 해낸다 이번 전시는 회화 설치 미디어 아트 싱글 채널 비디오 애니메이션 등의 작품에서 보여 지는 충돌이 미지에 집중한다 이러한 해체된 숏 shot 들은 관객에 의해 재조합되며 이로써 에이젠슈테인이 말한 충돌 몽타주를 적극적으로 보여줄 수 있을 것이다 또한 관객은 스스로 재조합 과정을 겪으며 자신만의 콘텍스트를 창출할 것이다 장의 드로잉으로 구성되어 있는 유 승호의 작품은 컴퓨터 안에서의 글 읽기 방식을 말하는 hypertext를 닮아 있다 생각의 연쇄와 분열과정을 극명하게 보여주는 유 승호의 작품은 문자의 논리성에서 벗어 나 끊임없이 미완성으로 남을 수밖에 없는 글의 형태를 보여준다 마치 아무런 연관이 없는 충돌의 연쇄처럼 보이지만 그 안에는 꼬리를 물고 지속된 연쇄과정도 함께 볼 수 있다 연속적인 이미지 사이에 각주처럼 쓰여 있는 작가의 말은 사고의 단절을 불러일으키고 마치 브레히트의 소격효과처럼 관객을 환기시킨다 이정 후의 설치작품은 작가가 경험했던 불안과 두려움에 떨던 어떤 하루에 대한 추상적 작업으로 자신이 느꼈던 상황을 재구성하여 펼쳐 놓았다 작가가 보여주는 장면은 조각난 상태로 나타나는 유연하고도 연약한 기억의 풍경을 나타낸다 기억은 언제나 주관적이어서 객관적인 기억이란 마치 없는 듯하다 작가는 객관적일 수 없는 상황을 객관화 해보면서 스스로의 존재를 정당화하고자 했다 개인적인 경험을 나타내는 오브제들이 상징적이고 추상적인 표현으로 덧붙여 지는데 이것들은 어느 순간 끊어지고 이어지는 기억의 과정처럼 사다리를 통해 연결된다 이정 후가 만든 기억 속 풍경은 관객의 기억 속에서 다시금 재창조되고 재조립 될 것이다 문 준용의 인터 랙 티브 작품은 테이블 위에 놓여 진 큐브의 그림자가 사용자의 행위에 따라 생성되고 변화하는 작품이다 이 작품은 그림자가 빛의 각도에 따라 왜곡되어 판타지가 생겨난다는 사실에 기반한다 이 장치의 그림자들은 빛의 각도에 따라 큐브의 바로 밑에 투영되는데 그 그림자의 형태는 큐브가 아니라 사람이 살고 있는 집으로 변하며 다른 여러 상상의 생물체들과 상호 공존한다 빛과 그림자가 만들어 낸 이 세계는 우리 삶의 모습을 함축적으로 보여준다 줄 리아 포트의 영상 작품은 톰 쉬버스 Tom Chivers 의 시에 근거한 종말론적 러브 스토리이다 이 시는 사건의 진전이나 인물의 형상화 같은 전통적 기법 없이 의식의 흐름대로 쓰여 졌다 작가는 애니메이션 속에서 생과 사 질서와 혼돈 사이의 경계를 독특하게 표현했다 비현실적인 상황에서 극도로 상냥한 분위기를 동시에 그려낸 이 작품은 줄 리아 포트의 다른 작품에서도 종종 드러나는 따뜻한 느낌과 으스스 한 느낌을 함께 선사할 것이다 최 기창의 채널 영상작품은 서로 마주보게 설치되어 있다 이 영상 속의 인물은 마주보는 화면 속의 상대방과 눈싸움을 하는 듯 보이는데 실제로 이들은 무작위적으로 선택된 것이다 이들의 시선은 이유 없는 우연으로 이루어진 세상을 비춘다 작가는 눈에 보이지 않은 연결고리로 엮여 있는 사건들을 재현한다고 볼 수 있다 불가해한 세상을 조명하여 우연의 연속인 우리의 존재를 드러낸다',\n",
       " 'BLA BLA 는 캐나다 국립영화위원회가 제작한 뱅 생 모리 세 감독의 컴퓨터를 위한 영 화 이다 관객은 작품 앞에 설치된 트랙 패트를 이용하여 다양한 방식으로 캐릭터들을 변화시키면서 즐길 수 있다 매끄럽지 않게 진행되는 캐릭터와의 대화는 관객에게 당혹감을 주지만 새로운 매체를 통해 자신만의 이야기를 이끌어 낼 것이다',\n",
       " '전통 수묵과 현대적 운필의 조화 미술사가 조지 로 울리는 동양예술의 창조는 정신과 물질의 상상적 결합의 산물로서 예술가 자신이 창조자로서 간파하는 안목과 스스로 체험한 경험이라고 하는 원료 및 자신이 창작의 주체로서 반영하려고 하는 궁극적인 정신의 종류에 따라 달라진다 고 말한 바 있다 종교와 마찬가지로 예술은 외형으로 드러나는 표피적 현상보다는 삶의 내면을 중요시 하던 까닭에 예로부터 정신적 깊이를 최상의 경지로 인식해 온 동양의 회화예술은 이러한 철학과 문화적 배경을 토대로 성장해 왔으며 내면에 존재하는 정신적 감정과 다양한 조형 이론에 대한 깊이는 현대 미술계에서도 그 가치가 새롭게 인식되고 있다 따라서 자연의 형상에서 그 근본을 찾고 정신을 유출해 내는 산수화 장르와 같은 전통 한국화 작업은 자연의 원리를 뼈대로 하는 동양 회화의 철학적 인식 속에서만 이해 될 수 있을 것이라 생각된다 예로부터 동양에서는 회화 예술을 가리켜 신비한 대자연의 이치를 인간의 진의 와 기운 을 통하여 그 본질을 밝혀내는 것이며 그리하여 자연의 참모습을 작가의 마음속에 내재된 신운으로 해석하는 예술의 한 장르로 여겨 져 왔다 더욱이 동양화는 담백한 표현 양식과 신비스러우면서도 현학적 인 먹 색의 조화 등 동양인의 정서와 체질에 알맞은 재질과의 일체감으로 인하여 그 정신적 깊이를 가늠하기 힘든 상징적 표현의 영역으로 인식되어 왔던 까닭에 생략과 함축 은유적 의미가 강조되어 왔던 것이다',\n",
       " '요즘 주목받고 있는 청년작가 중 한 사람인 설 박은 그 동안 자연의 이미지와 정서에 대한 감흥을 수묵을 위주로 한 전통 필법과 현대적 조형 감각을 혼용하여 꾸준히 발전시켜 오고 있는 현대 수묵화 작가 라 말 할 수 있다 처음 수묵화의 묵필 법을 익히는 것에서 시작하여 점차 산수화 문인화 장르에 이르기까지 운필의 영역을 넓혀 온 작가는 최근에 거대한 포치의 대자연을 그리는 현대 수묵 산수화에 그의 시각을 집중하고 있다 초기 사실적인 묘사 방식에서 출발하여 점차 간결한 포치와 반추상적 표현 형식을 통하여 대자연의 정서에 주목한 작가의 작품 세계는 전통 동양 회화의 서정적 표현에 수묵화의 사유적 미감을 조화시키는 독특한 시각을 보여주고 있는데 특히 표현대상의 내면에 존재하는 정체성을 강조하기 위해 꼴라 쥬 형식의 체기 법과 음영법을 혼용한 간결한 형태와 절제된 먹 색 섬세한 필치를 반복적으로 사용하고 있다 최근에는 여기에 사생 작업에서 비롯된 상상력을 가미한 다양한 구도를 활용하여 보다 더 생동감 넘치는 화면을 보여주기도 한다 더욱이 작가는 화면 안에 기운 생동한 자연의 미감을 격조 있게 전달하고자 간결한 윤곽선과 먹을 중첩시켜 입체감을 강조하는 응양의 표현기법을 즐겨 사용하고 있는데 이런 작품의 특성은 그의 작가적 개성을 엿볼 수 있는 중요한 근거가 되고 있다 어떤 풍경 등과 같은 그의 수묵 산수화풍의 작품들은 이런 작가의 성향을 잘 드러내고 있는 대표적 작품들 로서 특히 대표적 작품 중 하나 인 풍경을 담다 는 축양된 구도 위에 담백한 먹 색과 필치를 조화시킨 작가의 표현 경향이 잘 드러난 의미 있는 작품이라 말 할 수 있다 동양화의 전통 구도 법인 심 원법이나 평원 법 구도를 활용하여 남도의 다도해를 그린 섬 풍경과 같은 작품 소재들은 오랫동안 우리 전통예술의 회화적 음악적 문학적 표현 소재로 애용되어 온 상징적 존재로서 작가는 현대 수묵화를 통해 자연에서 느낄 수 있는 회화적 감성을 그만의 스토리로 엮어 내고 있는 것이다 예로부터 묵필의 전통 매 재는 기를 무시한 정신이나 정신이 무시된 기의 현상적 해석보다 기운 생동 전이 모사 등 동양화 고유의 화론에 입각한 정신세계와 회화의 본질을 구현하는데 초점을 맞추었다 따라서 요즘 수묵화 작가들이 동양 회화의 진수를 깨닫기 위해서는 지필묵에 대한 고답적 관념을 깨뜨릴 수 있는 실험적이고 진취적인 자세를 갖추어야 하며 이런 현상들이 보편적으로 수용될 때 비로소 글로벌화 되는 시대와 급변하는 변화의 시대에 잘 적응 할 수 있을 것으로 여겨 진다 평소 작가는 작업의 근원적 시각을 대자연의 기운 생동 한 미감에 두고 있으며 특히 한국적 정서와 향토적 미감 우리 전통적인 표현 양식인 문인화 서예 분야와 함께 서구 현대 회화에 이르기까지 관심을 가져 왔다고',\n",
       " '말했는데 초반 그의 작업들이 사물을 섬세하게 묘사하는 사실적 회화 경향에서 시작되었다면 년 대 후반 이후에는 이런 흔적들이 사라지고 단순화 된 배경 위에 사물의 이미지를 입체적이고 간략한 형태로 표현하는 사의적 정신과 조형의 흐름을 강조하고 있는 데서 그 이유를 찾아 볼 수 있을 것 같다 그런 의미에서 작가는 먹의 고유한 특성인 직관과 함축미를 바탕으로 종이의 수용성과 붓의 활달한 운필의 기세를 함유하는 동양 회화 예술의 근본인 수묵화를 삼절 의 의미와 함께 잘 이해하고 있는 것으로 여겨 진다 작품 어떤 풍경 연작 시리즈는 그의 이러한 현대적 표현감각과 묵필의 조형적 특성을 잘 보여주고 있는 것으로 사물의 이미지를 전통 회화와 현대회화의 연결 선상에서 재해석하려는 향후 그의 작업방향을 유추해 볼 수 있는 중요한 작품들이다 년 중국 북경 T Art Center 갤러리에서 초대 개인전을 연 이후 변화된 화면에서 드러나는 먹 색의 농담조절과 간결한 운필의 운용은 작가의 또 다른 시각의 변화로 이것은 동양 회화의 본류인 중국 화단으로부터 받은 정신적 충격에서 비롯된 것이라 말할 수 있는데 그의 작품에서 파악되는 먹의 습 윤하고 정갈한 의취 의 선염 기법만 하더라도 한지나 화선지와 같은 독특한 수용성 매 재를 통해 그 특색이 잘 나타나고 있음을 알 수 있다 이러한 동양의 묵필 재료들은 서화의 본질을 직관적으로 파악하기에 가장 적합한 재료로서 작가는 이런 전통 재료들을 현대적 시각에 걸맞게 적절히 활용하면서 변화시키고 있는 것이다',\n",
       " '사실 동양철학의 정신적 미의 개념과 서양철학의 추상적 미의 개념이 차이점을 보인다 할지라도 본질적인 정체성 측면에서 보면 그것이 자연과 인간의 존재로부터 생성되는 까닭에 현대미술의 입장에서 보면 큰 차이가 없다 글로벌화 된 현대 사회에서는 일정한 양식과 사조가 파괴되고 온 세계가 인터넷으로 곧바로 연결되는 새로운 시각과 사고를 요구하는 달라진 시대다',\n",
       " '그런 연유로 비록 현대문화의 급격한 흐름 속에서 무시되고 소홀하게 취급 받는 전통적인 것 토속적인 것일지라도 잘 가꾸고 계승 발전 시키는 것이 미래의 우리에게 가치 있는 것이다 청년작가 설 박이 보여주는 수묵 산수 화가 한국화를 포함한 동양 회화의 중요성을 오늘의 시점에서 강조하는 또 하나의 자기주장이라면 우리 것에 대한 보다 깊은 주체적 성찰과 연구가 뒤따라야 하는 것은 이런 이유에서 일 것이다 따라서 현대 회화의 흐름을 다각적으로 조망하여 수묵화를 한국적 정체성을 간직한 한국 현대미술의 한 장르로 부각시킬 수 있을 때 작가가 얘기하고자 하는 한국화의 세계화 곧 전통 동양 회화의 독자적 가치와 중요성이 세계미술문화를 주도해 가는 또 하나의 중심축 역할을 할 수 있을 것이다',\n",
       " '고독 고독 씹어 먹을 것 소녀 혹은 숙녀 어쩌면 소년 아니면 어떤 청춘이 담장 아래로 떨어졌다 그의 부모님은 그를 달래기 위해 비행기에 몸을 실은 후였지만 그림자가 이끄는 중력의 힘이 너무 커져 버린 탓에 라고 급히 외치며 청춘이란 지위의 모자를 눌러쓰면 너무 푹 눌러쓰면 시야를 가려 버려 사실 그는 그녀는 그림자를 자신의 몸으로 눌러 버렸지 그림자의 중력보다 무거웠던 그 마음으로 나는 떨어지는 그를 받아 내 었지만 결국 숨을 거두고 말았고 조용히 치를 떨며 바보라고 속삭였지 그러나 곧 우리는 다시 만났다 그늘에서라도 잠시 쉬어 갈 수 없었던 그 어둠에 대한 너의 무게가 나의 목덜미 뒤에도 슬며시 내려와서 고개를 자꾸 떨구게 돼 네 그림자와 난 마주 보고 있다 베를린에서 이 소외감은 어디서부터 오는 것일까 이것은 나만 안고 있는 것일까에 관한 탐구로 시작되었다 나에게 고독은 네 가지로 분리된다 인간 존재 자체의 고독 군중 속 고독 사랑의 고독 세대의 고독 청춘 나는 내가 가진 고독의 시를 읊는다 글이 아닌 그림으로 그리고 그중에서 번째의 고독을 가장 많이 노래하고 있다 여럿과 함께 사회로 달려나가야 할 생기 넘치는 청춘을 나는 고독을 벗 삼아 좀먹고 있었다 모두가 함께 할 때 나 또한 그곳에 속했지만 혼자인 기분을 지울 수가 없었다 나는 언제나 마음 한편이 비어 있었고 그곳을 채울 공간과 시간과 인간을 알 수 없었다 이러한 고백은 나의 친구와 동료들도 지니고 있었다 그들도 나와 다르지 않았다 물론 표현은 달랐지만 그들도 그 마음 한편에 안달 나 하며 또 덤덤 해하기도 했다 나는 이것을 청춘의 찬란한 우울함이라 말했다 이것에서 도망치려는 자들은 분주히 움직이고 그렇지 않은 자들은 잠시 멈추리라',\n",
       " '나는 후자이고 우리는 잠시 이 청춘의 찬란한 우울함을 즐길 필요가 있다 함께 이면서도 느낄 수밖에 없는 이 고독은 세대를 걸쳐 또다시 다가오겠지만 지금은 지금일 뿐이니까 하지만 언젠가 반드시 채워 지리란 보장은 없다 나 역시 이 한편의 비밀을 알고 있지만 영원히 채워질 수 없단 걸 잘 알고 있고 나는 그 구멍을 그리는 것으로 대신하려 한다 아주 미약하고 아직 서툴지만 그림은 내게 은유적 고백이고 위안이 된다 좀 더 솔직하게 고백을 해보자면 나 혼자만의 위로를 위해 동지 들을 끌어 모으려는 의도도 없지 않아 있다 하지만 얻어걸리기라도 하듯 누군가 이 고백을 알아준다면 참 기쁠 일이다 그리고 신기하게도 이기적인 이 소통이 이루어지기도 한다 내가 소통할 수 없다고 좌절하고 있을 때 그 은밀한 그 소통의 위대함을 느꼈다 그러나 언젠가 무너져 내릴지 모른다 더 폭넓은 소통을 해야 하겠지만 그걸 알기에 지금의 나는 답답함과 불안함 속에 살고 있는 것 일 테지만 내가 그리고 있는 청춘이 이것이라면 어쩔 수 없는 일이다 나의 고독함은 어쩔 수 없는 것이다 어쩔 수 없는 건 정말 어쩔 수 없다 아마 나와 같은 사람들이 속속 숨겨 져 있으리라',\n",
       " '믿는다 그들을 찾아 서로 위안을 얻고 조심스레 변화를 꿈 꿔 본다 나의 작품은 모두 드로잉이다',\n",
       " '내가 지닌 무겁고도 두루뭉술한 감정들을 표현할 때 물리적으로 가벼운 재료들을 가지고 그려 나가는 것은 매우 흥미로 웠 다 매체에 대한 경계가 허물어지고 있는 이 시점에서 나의 작품을 굳이 드로잉 이라고 고집을 부리는 것은 표현에 있어서 가장 첫 번째의 정신이 담겨 있기 때문이다 그리고 나의 그 첫 번째 정신은 늘 불안함과 불완전함을 담고 있기에 드로잉의 소재나 느낌이 그 생각과 행위의 조화를 이루어 내기에 가장 적합했다 완전할 수도 있고 불완전할 수도 있으며 기계적일 수 없는 손길은 늘 미완성이어야만 하는 장면들을 만들어 낸다 어쩌면 완벽한 마지막 단계가 될 수도 있고 미완성적으로 보이는 그림은 그저 일반적으로 생각하는 페인팅을 위한 단계로 보일지도 모른다 나는 대개 그런 과정으로만 인정받아 왔던 드로잉이 좀 더 독립적인 장르가 되길 바란다 물론 드로잉은 작가의 세계를 함축한 다기보다는 연결짓는 쪽이다 아무리 꽉 채워진 화면 섬세한 표현으로 무장해도 작가의 세계를 깊이 있게 탐구할 수 있는 묘한 여백을 느끼게 한다 일부러 남겨 놓지 않아도 느껴지는 그 여백은 바라보는 사람이 채워 줄 것이며 내가 가장 어려워하는 소통이란 걸 이룰 수 있는 열쇠가 된다 나는 이토록 드로잉이라는 방식에 집착하고 있다 미완성이 주는 상상과 불안함이 주는 잔상을 예찬하고 싶고 많은 실험을 통해 그 느낌을 더 끌어올리고 싶다',\n",
       " '권력과 권위의 간극 함께 삶의 어려움 사람을 위한 예술 혹은 투영으로서의 예술이 함축하는 가치 그리고 그것의 지속성이 현재적 지형도 안에서 더 이상 변화를 이끌어낼 수 없음은 공허하다 미술의 문제의식과 참여의 제고 그 근저에서 유영했던 김 병 택 작가의 현재 가 낯설게 다가온 연유는 아마도 이러한 공허함에서 기인했을 것이다 그 시대를 체감하지 못했던 필 자가 잡아낼 수 있는 교감의 여지란 작가의 기존 작업세계에 배어 있는 사람 냄새와 질박한 감성 정도였고 미술의 풍자적 코드에서 메시지를 풀어내고자 하는 최근의 형식이 그만큼 위태롭게 다가왔는지도 모르겠다 김 병 택 작가의 네 번째 작품전인 금번 전시는 풍자와 위트가 넘친다 트럼프 카드의 도상에 현 시대를 대표하는 인물들을 대입 은유적인 메시지를 전달하는데 일상성 혹은 사람의 가치를 그려냈던 초기작업과 박 제화된 시대정신을 비롯 여전히 산적하고 있는 사회적 모순 따위를 담아 온 그간의 흐름에서 바라본다면 깊이에의 강박 을 걷어낸 듯 하다 미술의 투쟁적 성향이 와해되었던 시기 즈음부터 도리어 현재적 관점에 천착했던 작가의 작업태도는 형식적인 부면에서 표류를 거듭 해 왔고 이 과정에서 작가 자신이 고민한 풍자와 은유 패러디 등의 표현 어법이 간헐적으로 그 모양새를 다져 왔다 년도 정치적 이슈로 등장했던 작품 삽질 공화국에서 볼 수 있는 해학적 요소를 하로써 상 을 꼬집는 풍자의 전형으로 간주할 수 있겠으나 이러한 화법이 메시지에 직접성을 부여할 것이라는 작가의 의도가 새삼 엿보이는 대목이기도 했다 더 나 아가 공감대 형성이라는 시각미술의 근본적 특성에 천착하기 위한 흐름으로도 해석할 수 있다 보다 이해하기 쉽고 감상자가 접근 가능한 형식으로 풀어내고자 했다 는 작가의 발언에서 이번 작품전의 키워드를 발견할 수 있는데 대중적 선호도가 높은 팝 아트의 형식을 빌어 사회적 쟁점들을 부각시켰다는 점이 새삼 이채롭다 얼핏 유쾌한 어조로 다가오는 화면 구성력은 상징적인 인물들을 등장시키며 주제 전달에서 용이함을 꾀하지만 현 시기의 인물 군상을 모티브로 던져 보는 작가의 사회의식이란 권력과 권위의 간극에서 뒤섞이는 대립 국면 다시 말해 아래로 부터의 열망과 위로부터의 강제력이 모순되는 형국에서의 현재를 다룬다 서양의 플 레 잉 카드인 트럼프 안에는 유독 사회 지도층과 정치계 인사들이 눈에 띤다',\n",
       " 'King Queen Jack Joker 등 그 유래의 시원부터 계층적일 수밖에 없었던 이 게임을 화재 로 차용했다는 점은 적잖이 시사하는 바가 크다 더불어 형형색색의 아크릴 컬러와 평면 적인 배경 화면 위로 등장하는 인물들은 제법 구체성을 띤다 오일 페인팅에 의한 인물의 세밀한 인상 포착은 카드 안의 상징적 코드와 교묘하게 어우러지며 감상자에게 해석의 즐거움을 선사한다 무형의 검을 쥐는 형상으로 여왕을 꿈꾸는 인사는 역설 적이게도 상인계층을 뜻하는 다이 아몬드 패턴 위에 놓여 있다 조소 어린 표정으로 검을 내리치기 직전의 권력자 그 주변으로는 스페이드가 아닌 붉은색의 삽이 당당히 자리하는 가 하면 리 히 텐 슈타인의 행복한 눈물 을 중앙에 새긴 유명 기업인의 초상에는 거대자본의 역기능을 상징하듯 검의 형태가 부러진 모습이다 더불어 동일한 인물을 화면의 상하에 컬러와 흑백으로 분리시킴으로써 사건의 내러티브가 지닌 양면성을 언급하기도 한다 촛불 집회 의 염원 희망의 메시지와 함께 담아낸 한진 중공업 사태에 대한 단상 노동운동의 전신인 아들의 열망을 인간 존엄의 가치로 승화시켰던 이소 선 여사의 초상은 성직자를 상징하는 하트 패턴으로 담담하게 자리한다 또한 화폭 안에서 두드러지는 상하 인물상의 반복은 흑백과 채색이라는 표현방식으로 나름의 상징 성과 의도적 접근의 양상을 띠는데 패턴의 장식성을 지양하며 일련의 메시지를 담아내려 하는 작가의 계획성이 돋보이는 대목이다 누구나 인지할 수 있는 신자유주의를 기조로 한 국제적 패권 다툼과 세계 정세 화폐단위나 지폐 문양으로 부연 설명을 가한 작품 언론 장악의 병패를 다루는 도상들과 더불어 미술 또한 그러한 흐름과 무관하지 않음을 언급하기도 한다 캠 벨 스프 깡통을 움켜 쥔 앤디 워 홀 지폐 패턴 위로 유유히 얼굴을 내민 워홀의 마릴린 먼 로 등 작가는 현 미술의 사회적 역할에 대한 난맥상을 여실히 드러내며 자신이 지속하고자 하는 화 업의 의미와 현주소를 되새긴다 문학 미술 영화 등 전 분야를 막론하고 시대적 상황이나 모순 등을 위트 있는 제스처로 풀어낸 풍자 는 동시대인으로 하여금 현재적 부조리에 대해 각인시키는 역할을 한다 문화와 예술이 접근할 수 있는 왜 표현하는 가 무엇을 표현하는 가 라는 문제제기에 보다 쉽게 다가서는 의미 이자 현실 속의 난점을 정확히 꿰뚫고 있어야만이 제대로 된 형식을 구사할 수 있기에 이 또한 어려운 작업이다 일상의 범주 안에서 문제의식을 드러냈던 김 병 택 작가의 세밀한 감각이 이내 소통의 문제로 치환되며 금번의 작업에 이 르 렀 는데 이는 함축이냐',\n",
       " '직설이냐의 전달 방법의 차이 일 뿐 실상 하고자 하는 이야기는 동일 하다고 볼 수 있다 작업에 임해 오면서 이 행위는 분명코 낭만 적인 유희나 호사스런 향락이 아니라는 걸 항상 인식하지만 돌이켜보면 나태한 모습으로 예술을 향유하려 했던 순간 순간의 그릇된 가치를 깊이 반성해 본다 그 혼돈 속에서도 섣부른 경솔함과 위선을 탓하면서 다시 제자리를 찾기 위해 헤매는 건 모두에게나 힘든 일이겠지만 그렇게 반복되는 시행착오 속의 자기 성찰은 내가 나를 지키고자 하는 기본적 욕구 만큼이나 절실한 그림 그리기의 본능이라 말하고 싶다 는 년 작가의 첫 번째 개인전에서의 작업일지 이는 여전히 유효한 가치 이자 그만의 염원일 것이다 더불어 그간 형식 면에서의 무수한 고민에도 불구하고 붓 들기를 주저하지 않았던 작가의 노력까지 되돌려 체득할 수 있는 부분이 아닐까 싶다 작가의 삶이나 작업의 사연에 앞서 작품 자체로 먼저 느끼고 반응하는 것이 적어도 미술에서는 감상과 이해의 순서일 것이다 작가가 지속해 온 주제의식은 당연 사람과 함께 하는 것이기에 그가 천명하는 미술의 비판의식과 소통 의 쟁점을 조금이나마 공유할 수 있었으면 좋겠다 나 아가 작가가 금번 전시에서 그려내는 권력의 허상과 난점 권력은 의미 그대로 공인된 권리와 힘이다 사회적으로 용인된 힘을 올곧게 구사할 때 그 힘을 따르는 다수의 진정 어린 피드백 또한 가능할 수 있을 것이다 더불어 어우러짐이 점점 어려워지는 현실에서 김 병 택 작가가 제기하는 거 침 없는 현실 풍자와 해학이 함께 삶 의 가치를 다시금 상기시키는 계기가 되 기를 바 래본 다',\n",
       " 'Same dream The skins X B 나의 작업은 전투기와 전쟁 무기이다 폐휴지 신문지 로 만들어 진 작품은 사물의 껍데기를 생각하며 작업하였다 마치 뱀이 벗어 놓고 간 허물과 같은 그것은 또 다른 변화를 암시하고 있어 그 껍질만으로도 또 다른 공포를 주기도 한다 그렇듯 전투기와 전쟁무기는 그 껍데기 허물들을 전시장에 벗어 놓고 우리 주변 어 딘 가로 그 실체를 숨기고 고도의 과학 기술력으로 변신을 꾀하고 있는 것이다 이렇듯 발전한 과학과 사회는 한 손에 세계를 바라 볼 수 있는 스마트한 현실을 만들었으나 그 작은 화면 이외의 세상은 등한시 하게 만들었다 난 이번 작업을 통하여 관객이 그 실체들에게 조금 더 관심을 가져 주었으면 하는 바람이다 한번 작업 할 때 컷 정도의 사진을 찍습니다',\n",
       " '지난번 아파치 헬기 제작 때는 폭 m의 종이를 m 가량 소모 하였습니다',\n",
       " '이번에는 신문지 cm 장을 사용하였습니다',\n",
       " '보관과 이동의 용이 함을 위해 골격용 와이어를 사용하지 않고 종이와 순간접착제 테이프만으로 작업하였습니다',\n",
       " '이 작품은 접어 그 부피를 줄일 수 있도록 제작하였습니다',\n",
       " 'cm 크기의 작품을 보관할 장소가 없었습니다',\n",
       " '그런 면에서 볼 때 이번 작품은 저에게 큰 의미를 갖습니다',\n",
       " 'F K AH X B 세 번째로 만들어 진 대형 무기로 앞으로 진행될 대형 무기 작품을 보관하는 것은 저에게 큰 문제였습니다',\n",
       " '추후 만들어 질 작품들 탱크 미사일 F 전투기 등을 한 장소에 모두 모아 전시를 하고픈 꿈을 꾸어 봅니다',\n",
       " '무기라는 것은 보호와 안전을 위해 필요한 것입니다',\n",
       " '하지만 그 개발에 전 지구적 선진국들이 천문학적인 몇 백조의 돈과 최첨단 기술을 지원 개발하고 판매합니다',\n",
       " '누구를 보호하며 무엇으로부터 보호하고 무엇으로부터 안전을 찾는 걸까요 최첨단 전투기 무기는 SF 영화에서 나 볼 수 있는 무기들을 현실로 만들어 내고 있습니다',\n",
       " '이것들은 인간이 만들어 인간을 죽이는 것에 사용하고 있습니다',\n",
       " '에너지 낭비 는 이러한 것 들이 에너지 낭비가 아닌가 하는 생각이 듭니다',\n",
       " '이러한 무기들은 껍데기 속 빈 껍데기와 같습니다',\n",
       " '최첨단 기술력과 대 기업은 지구의 안녕에 좀 더 투자하고 연구하여야 할 것입니다',\n",
       " 'X B 노 드롭 그루 먼 사의 X B UCAS D Unmanned Combat Air System Demonstration 드론 drone 은 미 해군의 항모운용 무인 전폭기로 년 개발 계약이 체결된 후 대의 시제 기가 제작되어 테스트 중입니다',\n",
       " 'X B는 본격적인 무인 공격기 시대를 열어 나가는 신호탄입니다',\n",
       " '이스라엘의 무인 폭격기 하 피 등 소형 UAV나 미국의 정찰 공격기 프레데터가 개발돼 실전 배치됐지만 무기 탑재량을 비롯해 그 기능은 매우 제한적입니다',\n",
       " '반면 X B는 다목적 공격기입니다',\n",
       " '탑재되는 무기에서도 기존의 무인공격 기와 비교가 안 됩니다',\n",
       " 'X B는 레이저 광선과 고출력 마이크로 파 HPM 로 적의 미사일과 통신시설을 파괴하는 가공할 공격력을 갖추고 있고 레이저 무기 뿐 아니라 공대공 공대지 미사일 최대 kg 을 장착해 다양한 방법으로 적을 공격할 수 있습니다',\n",
       " '정찰기로서 기능도 수행하는데 초음속인데 다 차세대 스텔스 기술을 채용해 적의 레이다에 잘 잡히지 않는다고',\n",
       " '합니다',\n",
       " '공중 급유가 가능해 나흘 간 연속작전을 벌일 수 있으며 항공 모함에서 이착륙이 가능할 정도로 기동력도 있습니다',\n",
       " '작전 반경이 km에 달하고 가장 중요한 것은 조종사의 안전을 고려할 필요가 없는 무인 공격기 UAV Un manned aerial vehicle 라는 점입니다',\n",
       " '이 정도면 꿈의 전투기 라 불릴 만 합니다',\n",
       " '노 드롭 그루 먼 사 홈페이지 http www is northropgrumman com 에 따르면 X B 는 년 개발 완료를 목표로 하고 있고 미 해군 계획에 의하면 X B 는 년 쯤 실전에 배치될 예정입니다',\n",
       " '출처 중앙일보 Notrup Gruuman X B 노스럽 그러 먼 X B Notrup Gruuman X B 는 노스럽 그러 먼 사가 개발한 무인 스텔스 레이저 공격기로 최신식 무기를 부착한 공격기 중 하나이다',\n",
       " '미국과 이스라엘이 공동 개발한 첨단 무인 항공기로 보 잉 에서 개발한 보 잉 팬 텀 레이와 비슷하게 생겼다 그러나 날개가 약간 앞으로 되어 있다 스텔스 기능을 부착하여 일반 레이더에서는 잘 안 잡히는 항공기 중 하나로 레이저로 음파 추적을 한 뒤 미사일을 발사해 전차 등 목표물들을 공격하거나 항공기와 공중전을 교전할 수 있다 본 기체는 실험 기이기 때문에 무장 장착능력은 아직 걸음마 수준이다',\n",
       " 'B 형 기준으로 kg 정도이고 다음 단계인 C 형에서 kg 수준으로 확장될 예정이지만 F A E F 수준은 되지 않는다 출처 위 키 백과',\n",
       " '번지다 마음속에 내재되어 있는 기억들과 정서 삶의 체험들에서 오는 다양하고 복합적인 감정들을 먹 의 번 짐과 붓의 운용을 통해서 텍스 타일 디자인으로 표현한다 먹이 종이에 스며들어 하나로 융화되고 거기서 번짐과 붓의 운용에 따른 표현 이러한 먹과 붓을 통하여 추상적인 패턴으로 마음속 내면 세계를 표출하여 자연 발생적인 감정을 구체화시키고 니트라는 매개체를 통해 자유롭게 표현하는 패턴작업을 시도해 보고자 한다 틀에 꼭 맞게 짜인 규칙적인 패턴보다는 불규칙하면서도 자유로운 그림처럼 인간의 마음이 표현되고 그리는 사람의 정서와 가치관이 함축되어 있는 패턴을 나타내고자 한다',\n",
       " '탐하다',\n",
       " 'Seek Desire 좀 더 나은 삶을 꿈꾸며 사는 것이 인간의 본성이다',\n",
       " '그러기에 사람은 어려움 속에서도 좌절하지 않고 희망을 꿈꾸며 살아간다 현대 사회가 되면서 꿈을 위해 끊임없이 탐하는 우리 인간의 모습을 흔하게 발견할 수 있다 년 경남 도립 미술관에서 첫 기획 전시로 마련된 탐하다',\n",
       " 'Seek Desire 은 탐하는 것을 주제로 하여 명의 개성 넘치는 작가들의 작품을 소개한다 탐하다',\n",
       " 'Seek Desire 의 탐 하다 라는 말은 여러 가지의 뜻을 지니고 있지만 우리는 그중에서 찾다',\n",
       " 'seek 와 탐내다',\n",
       " 'desire 라는 의미에 주목했다 때로는 칠흑 같은 동굴 속에서 실존의 원형을 더듬어 찾아가는 수도자의 모습으로 때로는 현실의 부조리를 직시하여 새로운 이상향을 추구하는 모습을 미술 작품을 매개로 선보이고자 하였다',\n",
       " '이 전시회에 참여하는 명의 작가는 개성 있는 표현 방법과 작품 소재로 저마다의 강렬한 빛깔을 마음껏 뽐내면서도 탐하다 라는 주제 의식을 충실하게 구현하고 있다 층 로비와 제 전시실의 작품들은 찾을 탐 seek 에 대한 이야기를 하고 있다 이곳은 인간의 존재 인간관계 주변 환경을 구성하는 자연과 현상 너머에 실재하는 원형적 의미를 찾아가는 공간이 된다 여기에 전시된 세 작가의 작품들은 작가의 치열한 탐구 태도와 진지한 성찰의 흔적들이다 원 의 작가 이재 효의 작품은 모두 자연의 재료를 이용한다 완성된 형상 속에서 자연의 재료가 주는 느낌과 둥근 원의 형상은 자연 그 자체로 완전한 자연 그리고 그 자연 자체의 원리와 질서를 표현한다 원형 의 기하학적 형태를 통해 자연의 원형 을 탐구하고 있는 것이다 소나무 의 작가 배병우에게 있어 존재하는 것은 모두 물활론 hylozoism 적 대상으로 그 각각에 영혼이 깃들어 있다 그는 존재하는 사물 속에서 항상 살아 있는 자연의 호흡과 영적인 에너지를 찾아내고 그 생명성을 역동적으로 표출하여 우리에게 감동을 준다 한 폭의 수묵화를 보고 있는 듯한 소나무 사진에서 실재보다 더 생생한 자연의 모습을 발견하게 된다 소리를 조각하는 김기 철의 작품은 평면과 입체를 넘어 새로운 차원의 형상을 보여준다 그의 작품을 마주 대하고 있으면 마치 그 소리를 직접 바라보고 있는 듯 신비로운 느낌을 받게 된다 하지만 우리는 그의 작품에서 단순한 소리의 시각화 라는 표면적인 형상이 아니라 소리를 통한 자연에 대한 깨달음을 통해 더욱더 감동한다 제 전시실에는 찾을 탐 seek 과 탐낼 탐 desire 사이를 이어 주는 작품들이 전시되고 있다 이곳에 전시된 두 작가의 작품들은 각기 다른 소재와 표현 방법으로 우리 주변을 둘러싸고 있는 에너지와 기운을 보여준다 나무를 활용해 다양한 공간을 구성해 온 천대 광의 작품은 어떤 질서와 규칙이 있고 정렬되어 건축적인 느낌이 들기도 하지만 그 가운데서도 공간을 지배하는 자연적 기운의 흐름을 거스르지는 않는다',\n",
       " '그러기에 그의 작품은 공간이 마치 살아 숨 쉬는 생명력을 지니고 있어 그 속을 누비는 관객들에게 긴장감과 함께 아늑한 안도감을 느끼게 하는 묘한 분위기를 연출한다 응축된 에너지의 표출을 보여주는 김 덕 영의 작품은 생생한 실재감과 긴장감이 압권이다 호흡조차 멈추게 하는 폭발 일보 직전의 매우 급한 상황의 표출은 관객들 로 하여금 거센 기운에 대한 심리적 부담과 질서의 파괴에서 오는 두려움을 느끼게도 하지만 억압된 현실과 규정된 틀에서 벗어나고자 하는 근원적 욕망의 카타르시스 catharsis 를 동시에 느끼게 한다 특별 전시실과 제 전시실은 탐낼 탐 desire 에 대한 이야기다',\n",
       " '탐 은 부조리한 현실의 직시와 더 나은 삶에 대한 갈망이 바탕이 된다 따라서 여기에 전시된 다섯 작가의 작품들은 저마다의 개성 있는 기법과 표현으로 현대 사회의 모순을 거짓 없이 드러내며 그러한 과정을 통해 밝고 조화로운 사회를 지향하고 있다 특별 전시실에서는 김 해진의 작품을 만나게 된다 그는 현대 물질문명을 상징하는 시멘트를 가지고 우리 사회의 소외된 뒷골목 구석구석을 재해석해 내고 있다 하지만 붕괴하고 허물어지는 버려 진 풍경 은 단순한 소멸과 우울한 현실만을 나타내지 않는다 작가는 잠시 후 사라질 이 작품을 통해 진실로 붕괴하고 소멸하여야 할 대상이 무엇인가를 진지하게 고민하고 있는 것이다 제 전시실 첫 번째 작가인 정승의 작품은 틀에 박힌 관념과 행동 양식에 대한 파괴의식을 표현하고 있다 현대의 산업구조 속에서 기계로 똑같이 찍어 낸 대량 생산품의 반복 제시를 통해 저마다의 개성과 다양성을 잃어버린 현대 사회를 냉소적인 시각으로 제시한다 이를 통해 작가는 문명의 본질은 욕망을 버리는 것 이라고 했던 간디 M Gandhi 의 말처럼 인간문명이 만들어 낸 기계적인 산업사회의 잘못된 이성을 바로잡아야 한다고 말한다 개를 소재로 한 윤석 남의 작품은 생명과 생명에 대한 일회용적인 사랑 사라져 가는 인간성으로 표현되는 현대 사회에 대한 환멸을 표현하고 있다 그는 유기 견 이라는 소재를 통해 현대 사회의 잔혹함을 표현하며 개는 사람들의 삶에 단순한 애완동물이 아니라 삶의 동반자이며 인간은 자연의 지배자가 아닌 자연 일부로서 모든 생명과 상생해야 하는 존재 임을 돌아보게 한다 도자기를 소재로 한 작품을 선보인 이수경은 불완전한 존재들의 조합을 통하여 새로운 완성을 꿈꾼다 완벽함을 탐하는 도공에 의해 깨어진 도자기들은 태어난 자체가 불완전한 삶이었다 하지만 작가는 아무짝에도 쓸모없는 이 미완의 조각들을 하나하나 다시 이어 붙여 금을 칠해 재탄생시킨다 저마다의 상처를 쓰다듬고 서로의 부족한 부분을 보완하여 새로운 존재 가치를 회복시키는 것이다 관계와 소통의 회복을 꿈꾸는 작가의 소망을 다시 생각하게 된다 한지에 먹으로 도시를 그리고 빛바랜 고서 일부를 콜라주로 표현한 권인 경의 작품은 익숙한 도시의 모습을 낯설게 함으로써 우리가 살아가는 공간인 이 도시를 다시 한 번 생각해 보게 한다 고서 라는 소재의 사용과 시선의 이동을 통해 다양한 시간과 공간을 교차하게 하여 평범한 일상을 다시 한 번 비틀어 표현하고 있다 작가는 의식적이든 무의식적이든 주변 환경으로부터 영향을 받으며 그 속에서 진정한 삶의 의미를 찾게 된다 이번 탐하다',\n",
       " 'Seek Desire 에서 찾을 탐 seek 을 주제로 참여한 작가들은 다양한 방법과 진지한 고민으로 진정한 삶의 의미와 조화로운 자연의 원형을 탐색하고 있다 찾을 탐 seek 과 탐낼 탐 desire 사이에 놓인 작가들은 저마다의 개성 넘치는 안목과 소재들 로 현상 이면의 에너지와 기운을 재연해 내고 있다 탐낼 탐 desire 은 새로운 이상향에 대한 추구인 동시에 발전 지향적인 메시지를 담고 있다 작가들은 무엇보다 현실을 직시하는데 비중을 많이 두고 있어 그 속에서 새로운 미래지향적 깨달음을 유도한다 결국 명의 작가는 평면 입체 설치 등 다양한 장르로 만들어 내는 공간과 저마다의 개성으로 빚어내는 작품들을 바탕으로 하여 끊임없는 탐 Seek Desire 를 통해 과거와 현재의 성찰 새로운 미래에 대한 희망을 표현하고 있다 이번 기획 전시는 작품들을 통해 탐하다',\n",
       " 'Seek Desire 에 대한 우리의 인식과 우리가 지향하는 삶에 대해 다시 한번 생각해 볼 좋은 기회가 될 것이다',\n",
       " '뿌리를 찾아서 현대적 노 마드 nomad 듀크 최 우리들 대부분이 각자를 정의할 수 있는 정체성을 갖고 있다 물론 누구 나가 항상 나는 이다라고 떠들고 다니지는 않지만 우리는 일상에서 알게 모르게 자기 정체성을 드러내는 물건을 갖고 있기 마련이고 혹은 그러한 행동을 하게 마련이다 지갑 속에 있는 명함 좋아하는 취향의 소품들 누구의 엄마 아빠 누구의 아내 남편 직업 등등 그 중에서도 한국인 이라는 정체성은 자기 존재의 근간을 정의해 주는 중요한 아이덴티티 정체 성 이다 다른 정체성들이 스스로 선택할 수 있는 것 들인 반면 성별이나 혈통 태어난 국가는 선택권 없이 주어지는 정체성이다 그의 정체성은 무엇으로 정의할 수 있을까',\n",
       " '지금 갤러리 두들에서 전시하고 있는 듀크 최 Duke Choi 말이다 예술가의 작품에서는 이러저러한 정체성이 어떠한 방식으로든 드러나게 마련인데 듀크의 작품에서 그리고 그의 행보에서 드러나는 정체성은 다중적이거나 혹은 유동적이다 그가 남성이고 예술가라는 것에 대해서는 일단 차치하기로 하자 그가 작품을 통해 그리고 그의 삶을 통해 고민하고 있는 것은 자신의 뿌리에 대한 것이기 때문이다 미국에서 한국인 부모 사이에 태어난 재미교포인 그는 스스로 한국계 미국인 이자 한국인도 미국인도 아니다라고 했다 북한 출신인 부모님을 두고 있는 그는 미국에서 크게 형성된 한국인 커뮤니티와도 소통의 단절을 겪었던 듯하다 완벽한 미국인도 아니고 한국인 커뮤니티에도 속하지 못한 그는 스스로의 위치를 제 자로 두고 자신이 그 어디에도 속하지 못하는 사회를 객관적인 눈으로 들여다보았다 그가 정체성의 혼란을 겪었을 것은 명약 관화하다 그런 그가 오히려 주목하게 된 것은 한국인이 몽골인과 같은 뿌리를 갖고 있다는 사실이었다 한국인 출신이면서도 한국인 일 수조차 없던 그가 더 근원적인 뿌리에 천착하게 된 것은 어쩌면 자기 정체성의 근원을 더욱 깊이 파고듦으로서 스스로를 정의 함과 동시에 자신을 자유로운 상태로 두려 함일 것이다 스스로 노 마드 nomad 가 될 것을 자처한 그가 한국을 첫 유목 지로 택했다 그 옛날 의 노마 드가 가축을 먹일 목초지를 찾아 유랑했다면 그는 자신의 뿌리를 찾아 유랑을 시작한 것이다 그의 개인사에 대해 이렇게 장황설을 늘어놓는 이유는 그의 이러한 배경이 작품에 고스란히 녹아 있기 때문이다 그의 작품은 언뜻 보아 동양화 그 중에서도 산수화를 연상시킨다 그의 작품은 동양화인가 이번 전시의 작품들을 한국에 와서 접하게 된 전통한 지와 먹으로 그렸지만 그는 그것들이 전통적인 동양화가 아니라고 한다 그는 캘리포니아의 칼 아 츠 CalArts 를 졸업하고 LA에서 도시 풍경을 전통적인 서양화풍으로 그리기 시작했다고',\n",
       " '했다 그러나 반복되는 직선과 무채색의 도시 풍경에 싫증이 났고 그는 그 형태를 해체하여 화면에 잔뜩 펼치기 시작했다 복잡한 선들이 어지럽게 휘감기며 펼쳐져 퍼져 나가고 그 안에 섬세하게 형상을 이루고 있는 것 들은 사람인 듯 풍경인 듯 혹은 도심 속에 거미줄처럼 퍼져 있는 길처럼 보이기도 한다 멀리서 보면 불화 같기도 하고 부적을 여러 장 연이은 듯 보이기도 한다 그러나 또한 그의 그림은 그 기원을 불교에도 주술신앙에도 두지 않는다 우리가 흔히 알고 있는 산과 강이 있는 자연 풍경 도 도시 풍경 도 아니다 그것은 자연 nature 으로부터 온다 그러나 그가 말하는 자연이란 도시와 대치되는 자연이 아니다 도시도 아니다 그 모든 것 인간이 사는 세상을 말한다 그는 그의 그림에 대해 다음과 같이 말한다 그는 그의 그림을 유심론 spiritualism 적이라고 한다 그는 사물을 보고 난 후 그 사물의 이미지를 그리지 않는다 그렇다고',\n",
       " '잭 슨 폴 록의 오토 마 티 즘적 드로잉과 같은 무의식적 발현은 더더욱 아니다 그는 스스로 무엇을 그리는지 분명히 인식하고 있다고',\n",
       " '말한다 그는 그리는 동시에 이미지를 떠올리며 그것들은 그의 정신으로부터 나온다는 것이다',\n",
       " '그래서 그 이미지는 사람도 될 수 있고 부처도 될 수 있으며 그가 다니는 동네의 길도 될 수 있고 도시도 숲도 될 수 있다 그러면서도 동시에 명확히 무엇이다라고 정의할 수 없는 아무 것도 아닌 것이다 그것은 모든 것을 아우르는 자연 이며 그의 정신으로부터 나온다 화폭에 붓이 처음으로 닿는 순간 그의 정신으로부터 실타래처럼 뽑아 져 나와 자라나는 선들은 하나의 축이 되고 그 축을 중심으로 어느 한 쪽에 이미지가 부여되면 다른 쪽에도 그에 상응하는 이미지가 자리하게 된다 그의 선들은 유기적으로 얽히고 자라나면서 작품 전체에 살아 움직이듯 퍼져 나가며 하나의 세계를 형성하게 된다 언뜻 정신없어 보이고 무의식적 발현처럼 보이는 그의 선적 드로잉 회화가 그러나 유심히 들여다보면 어떤 질서에 의해 전체와 부분이 유기적으로 통제되고 있음을 느끼게 되는 것도 이러한 이유 때문이다 그의 노 마디 즘은 회화에만 천착하지도 않는다 다양한 장르를 아우르며 자신의 행보에서까지 그의 삶 전체가 노 마디 즘을 표현해 내고 있다 그에게 물었다 한국에 얼마나 머무를 거냐고 약 년 쯤 그리고 그 다음엔 몽골로 간단다',\n",
       " '그가 자신의 유랑에서 무엇을 찾게 될지 모르겠다 어쩌면 영원히 아무것도 찾지 못할 수도 있다 아무 것도 확신할 수는 없다 유랑이란 그런 것이다',\n",
       " '그럼에도 불구하고 어딘가에 있을 자신의 근원을 찾아 유랑하며 자유로운 정신과 창조적인 삶을 영위하는 그는 현대가 낳은 전형적인 노마 드일 것이다 우리가 그에게 주목해야 하는 이유는 그의 작품을 들여다보고 이해함으로써 근원에 대한 끝 모를 노스탤지어를 가지고 자유롭게 유랑하는 그의 정신에 우리 자신을 대입시켜 그 아름다운 여행에 조금이나마 동참할 수 있다는 점일 것이다 늘 묶여 있어서 떠나고 싶다고',\n",
       " '갈망하는 우리 현대인들이 그의 예술 여정에 동참함으로써 그가 느끼는 자유를 조금이나마 공감할 수 있지 않을까',\n",
       " '우리는 위로를 받을 것이다 노 마드 nomad 유목민 유랑자 의 뜻으로 프랑스의 철학자 질 들 뢰즈 Gilles Deleuse 가 언급하면서 현대 철학적 개념을 갖게 된 용어 노 마디 즘은 기존의 가치와 삶의 방식을 부정하고 일정한 자리에 정착하지 않고 옮겨 다니며 창조적 삶을 영위하는 일체의 방식을 말한다 이는 현대사회의 여러 현상을 설명하는 용어이기도 하다 유심론 spritualism 유물론에 대비되며 이 세상의 궁극적 존재를 비물질적인 정신으로 보고 그로부터 생명을 가정하며 유기적 자연관을 표방하는 철학적 입장',\n",
       " '벽 해 구주 환 부산에서 태어나 대',\n",
       " '학에서 시각 디자인을 전공한 구주 환 작가는 우연한 기회에 년부터 카메라를 잡기 시작했다 작가로써 그 시기가 조금 늦을지 모르지만 꾸준한 작업 활동으로 부산 미술계에서는 심상 사진으로 그 이름이 알려 져 있다 특히 소나무 작품은 이전 전시까지 그가 주로 표현한 소재였다 소나무는 이미 배병 우 등의 사진 작가들을 통해 이미 익숙한 사진적 표현 방법이 되었지만 구주 환 작가는 겹 혹은 결 이라는 타이틀 아래 아스팔트 위의 자연스럽게 벌어진 틈을 통해 소나무를 발견하면서 진부할 수도 있는 소재를 자신만의 내면 적인 소리로 아스팔트 위에 치환시키고 있다 이번 전시는 구주 환 작가의 내면을 바라보는 새로운 시선인 바다로 처음 선보이는 작품들이다 이 작품 역시 심상사진의 일환으로 작가의 현 모습을 바다를 통해 풀어냄으로 위로와 위안 그리고 치유를 받고 있다 작가 노트 벽 해 바다의 고요함은 망각의 세계로 들게 하고 그 사나움은 사람을 용맹하게 만든다 바다는 변화무쌍한 얼굴로 사람들을 맞는다',\n",
       " '그런 바다는 나에게 때 론 가름하기 힘든 큰 벽으로 느껴진다 바다는 직면한 장벽인 것이다 차원의 공간은 카메라를 지나 벽과 같은 바다가 된다 수평선은 단지 벽에 그 으 진 선에 불과 하다 충을 추는 바다도 보았고 아무 말 하지 않는 바다도 나는 알았다 어제와 같은 바다에서 감정을 실어 벽으로 옮겨 본다',\n",
       " 'Noise 눈은 감으면 무엇인가 어두움 속에서 서서히 드러나 불현듯 나타나고 사라지기를 반복하지만 응시를 통해 공간 속에서 어떠한 이미지로 발화한다 현실과 단절된 어두움 속의 이미지는 엄마 뱃속으로부터 세상으로 나와 인간의 시력을 갖기 이전에 보았었던 죽음을 앞두고 두 눈을 감고 마지막으로 보게 되는 어쩌면 그 속에서 다음 생을 위해 한 없이 기다리는 공간 다시 돌아갈 인간의 종착지가 아닐까',\n",
       " 'Noise 작업을 통해 인간은 의식과 기억 사이에 실존하는 공간에서 벗어날 수 없다는 것과 보이지 않는 무수한 것 들 의 실존을 이야기 하고자 한다 착상 눈을 감고 있을 때 보이는 형상들은 예전부터 나의 주요 흥미와 관심거리였습니다',\n",
       " '사진을 전공한 나는 눈으로 보지 않지만 실존하는 형상들 로 작업하여 그것을 통한 이야기를 시작하고자 하였습니다',\n",
       " '발견 및 동기 LG 전자 연구소에 입사하여 Mobile Camera 엔지니어로 camera 이미지 센서의 신호처리의 방법을 사용하여 Noise가 최고로 증폭되는 영상을 얻을 수 있었습니다',\n",
       " '이러한 과정들 속에서 나의 카메라에 잡힌 많은 형상들은 내가 가졌던 궁금증 눈을 감으면 보이는 이미지 을 현실화할 수 있었습니다',\n",
       " '작품화 과정 우리의 눈은 감았을 때도 무엇인가 어두움 속에서 서서히 드러나 불현듯 나타나고 사라지기를 반복하고 응시를 통해 공간 속에서 어떠한 이미지로 보이기도 합니다',\n",
       " '보이지 않는 세계를 표현하기 위해 빛이 없는 상태에서 Image sensor의 신호를 증폭하여 과도한 Noise를 얻어 눈을 감을 때 인식하는 것과 유사한 방법으로 시각화 하였습니다',\n",
       " '작가의 의도와 메시지 Noise 작업을 통해 인간은 의식과 기억 사이에 실존하는 공간에서 벗어날 수 없다는 것과 눈에 보이는 것만이 다가 아니라 보이지 않는 무수한 것 들 의 실존을 이야기 하고자 하였습니다',\n",
       " '또 한 현실과 단절된 어두움 속의 공간과 이미지는 인간의 시력을 갖기 이전에 보았었던 또는 죽음을 앞두고 두 눈을 감고 마지막으로 보게 되는 다시 돌아갈 그 어떤 곳을 추구하는 인간의 종착 지라 느꼈습니다',\n",
       " 'ENTRE TEMPS 내 생을 지배한 것은 어둠이었다고 감히 말할 뻔 했다 그리고 또 감히 어둠 속에서 빛을 찾아 걸었으니 어쩌면 내 생을 지배한 것은 어둠이 아니라 빛이었다 고 말하려 했다 흑백의 이미지 안에서 내가 찾으려 했던 것이 어둠 속의 빛이라고 빛을 받치고 있는 어둠이라 고 하마터면 감히 말할 뻔 했다 그러나 그 모든 것에도 불구하고 흑백의 이미지 속에서 내가 찾고자 했던 것은 말로 표현된 것 들 과 그렇지 못한 채 남은 것 들 사이에 들어 있던 말 그려진 것 들 과 아직 그려지지 않은 것 들 사이에 존재하는 그림 삶과 죽음의 틈새 사이에서 보였다 사라졌던 것 들 과 보이지 않았으나 존재했던 것 아직 드러나지 않은 보임과 보이지 않음이라 고 감히 말하고 싶어 하는 말하고자 하는 나와 말하려 하지 않는 나 그 사이에 존재하는 질문 무엇이 사이를 가능하게 하는 가 질문 사이 속을 채우며 그것을 지탱하는 것은 무엇인가 질문 사이 의 이쪽과 저쪽은 다른 것인가 Entre Temps은 불어로 그 사이에 그 동안에 라는 뜻을 갖는다 그리고 Entre와 Temps은 개별적으로 사이에 중간에 서로 라는 뜻과 시간 때 사이 동안 틈 시대 기회 철 을 의미한다 또한 Entre는 Entrer 라는 동사를 가지며 이것은 들어가다 되다 싹트다 어떤 문제를 다루기 시작하다 이해 하다 포함되어 있다 라는 의미를 갖고 있다',\n",
       " 'Entre Temps 전에는 Entre가 있고 그 다음 Entrer가 오고 Entre와 Temps 사이에는 Entretenir 유지 하다 보존하다 와 Entrevoir 힐끗 보다 잠시 만나다 그리고 Entr ouvrir 반쯤 열다 가 있다 겨울 닫았던 덧문을 반쯤 열고 보니 며칠 째 온 세상이 하얗다 잠시 열어 둔 채로 둔다 당분 간은 발자국 남기며 사라지는 것 들 과 발자국 찍으며 걸어오는 것 들을 위한 제다',\n",
       " '신 소장품 경남 도립 미술관은 년 소장품 수집의 방향과 현황을 관람객에게 소개하고 현대미술의 흐름과 그 예술적 가치를 공유할 수 있도록 신 소장품 전 을 마련하였다 소장품 수집은 미술관의 운영방향을 가장 잘 드러내며 그 미술관의 정체성을 가늠할 수 있는 중요한 사업이다 우리 미술 관은 개관 전인 년도부터 매년 수집하고 있으며 현재 총 점을 확보하였다 우리 미술관의 소장품 수집 절차는 작품 추천과 부문별 전문가로 구성된 위원들의 심의와 가액평가 등을 거쳐 투명성과 객관성 공정성을 확보한 가운데 이루어졌다 지난해 추천된 점 중에서 구입작품은 점 기증작품은 점으로 총 점이 수집되었다 부문별 구입작품은 회화 서예 영상 점 등이며 기증작품은 사진 점이다 특별히 영상부문의 작품이 처음으로 구입되었고 인도네시아 현대사진이 기증되었다 뉴미디어 부분에 처음으로 구입된 작품 중에는 년에 제작된 백남 준의 무제 Untitled 가 있다 이 작품은 채색된 둥근 기둥 위에 TV Monitor를 통하여 분의 편집된 영상이 반복해서 재생되는 비디오 작품이다 백 남 준 은 한국을 대표하는 비디오 예술의 선구자이다 그는 비디오 아트 Video Art 퍼포먼스 Performance 설치 등 다양한 매체를 통해 실험적인 공연과 전시로 예술의 범위를 확대했다 백 남 준의 비디오 설치작품은 수많은 TV 모니터의 사용을 통한 설치미술의 새로운 가능성에 도전했으며 현대예술과 비디오를 접목하는 데 결정적인 역할을 했다 한편 프랑스와 독일을 오가며 활발하게 활동하는 니 꼴라 물 랭 Nicolas Moulin 의 D 애니메이션 나치다',\n",
       " '치 Nachdatch 는 존재하지 않는 일련의 풍경을 만들어 내고 그 속에 관객을 몰입하게 하는 역설적인 비디오 작품도 수집되었다 물 랭이 표현하는 세계는 현실이 아닌 먼 미래의 이야기이다 그것도 철저하게 계산된 건축적 구조물과 생명이 전혀 존재하지 않을 듯한 절대적인 공간이다 사진 영상 그리고 설치작업에 이르기까지 다양한 매체를 아우르는 니 꼴라 물 랭의 작업 세계는 한 마디로 공상 과학 영화 속에 등장하는 낯선 공간을 떠올리게 한다 신규로 소장된 작품들은 실측 촬영 이력 정리 등의 등록과정을 거치며 영구 소장된다 소장품은 경남 미술사 정립을 위한 연구 자료일 뿐만 아니라 찾아가는 도립 미술관과 기획 전시 상설 전시 등으로 활용될 것이다 이번 전시는 구입작품 중에서 부 문과 제작연대 작품의 크기를 고려하여 제 전시실과 제 전시실 전시 홀로 나누어 점을 배치하였다 경남 도립 미술관의 소장품 수집은 도민에게 당대의 미술문화를 누리는 기회를 제공하고 체계적으로 보존 관리하여 후대에 물려주는데 그 의미가 있으며 지속적으로 이루어지고 있다 또한 우수한 지역미술 작품에 대한 조사와 연구 객관적인 수집 절차를 통해 수준 높은 전시를 기획하고 작가와 작품에 대한 사료의 확보는 물론 궁극적으로 지역미술의 발전과 창작의 욕을 고취하는 것을 목적으로 한다',\n",
       " 'My gratitude',\n",
       " '이원 경 화봉 갤러리 제 전시실에서는 이원경 개인전 Knitting Wire가 있습니다',\n",
       " '이번 전시는 일상 사물에 생물의 특성을 덧붙이하는 회 회 작업을 하던 이원 경작가가 최근 꾸준하게 작업했던 철사로 뜨개질하여 재탄생시킨 식물들을 선보입니다',\n",
       " '철사라는 강하고 남성적 소재를 뜨개질이라는 여성적 기법으로 만들어 내는 분류가 모호한 생물체들의 설치작업은 강함 그 속에 부드러움으로 공간 속에 스며들듯 표현됩니다',\n",
       " '철사로 뜨개질 하듯이 변형된 형태로 엮어 가는 것이 움직일 수도 있고 감정이 살아 있는 생명 임을 표현하고 싶었다고',\n",
       " '하는 작가의 목소리에 귀 기울려 주시기 바랍니다',\n",
       " '촉 야간 비행 서울 성북동 스페이스 오뉴월에서는 촉 야간 비행 기획 김학 량 전을 마련한다 장 윤 성과 자끄 드뉘망의 비디오 설치 작품 한 점씩으로 구성되는 이번 전시에서 장 윤성은 망각 오 독의 미래를 경계하는 뜻에서 사물 그것은 인간 삶을 정밀하게 구성하는 실질적 장치 이자 때때로 압도 적인 풍경이다 그것은 인간의 감각 능력 바깥에 있고 인간은 끊임없이 사물의 시간 안으로 비집고 들어가려 발광한다 그 발광의 역사가 곧 기술 매체의 역사이고 또 상상의 역사이고 이미지의 역사이고 결국 그림 의 역사 기도 하다 을 기록하는 카메라 테스트를 자끄 드뉘망은 공동의 삶이 유예되는 지점으로서 독해할 수 있는 회화를 선정해서 작품 일부를 임의로 잘라 해체 프레이 밍 불연속적인 흐름 혹은 연주 속에 재배치하는 마 주한 공동체 La Communaute affrontee 를 설치한다 이 전시는 주택가에 자리 잡은 갤러리의 입지적 특성을 고려하여 야간에 연주 되며 관람객은 바깥에서 전면 유리를 통해 들여다볼 수 있다 따라서 관람 상황은 면회 와 같은 구조를 이룬다 이 이상한 만남은 승인과 거절을 오간다 그것은 휘청거리는 낮과 밤 해와 달 또는 무엇과 무엇의 관계와도 비슷하다 이 비디오 연주가 귀가하는 주민들에게 작은 선물이 될 수 있을까',\n",
       " '그렇지만 위안이나 휴식을 제공하는 무엇이 되고 싶지도 않다 의외의 조건과 시간에 느닷없이 엉뚱하고 다소 불편하게 관람객을 침범하여 의문이나 반성의 통로를 열어 주는 게 더 낫다 이를테면 흡사 반딧불이나 기러기 떼의 밤 드로잉 같은 이 비디오 연주를 통해 또 이 비디오 연주와의 면회를 통해 낮 동안의 자신으로부터 멀리 떨어져 보는 경험을 할 수 있다면 어떨까 밤이니까 낮으로부터 분신 자폭 해체 쪽으로 생성에서 그 반대편으로 갓길 샛길로 밤이니까',\n",
       " '전시작가 부 김 초롱 권 진아 유제 은 박 소연 변 예 슬 조영인 이 시원 정윤 정 조해나 황민 규 김 수진 부 김은 영 이정 윤 김 상훈 김 지은 박하 민 조수 민 노 슬기 진 민경 현 정윤 권 아 영 양희 연 원제 현 홍 덕기 이효정 이동 혁 이 여란 스카우트 갤러리 이마 주에서는 매년 대학 졸업을 앞둔 예비 작가들의 작품들을 선보이는 기획 공모전인 스카우트 을 진행한다 지난 년 제 회를 시작으로 올 해 세 번째로 개최되는 스카우트 은 재능 있는 신인을 발굴하여 한국 미술계를 이끌어 나갈 차세대 작가로 향하는 플랫폼 역할을 맡고자 기획된 전시이다 각 대학의 추천 및 갤러 리 이마주의 차 심사 과정을 통해 총 개 대학 명의 작품이 선정되었으며 평면 회화에서부터 영상 및 설치 등 다양한 매체로 구성된 작품이 선보일 예정이다 이번 전시는 각각 부와 부로 나뉘어 진행된다 예술은 시대의 반영이다 라는 말을 증명 하듯 예비 작가들은 물질화 기계화된 현대 사회를 살아가는 우리들의 모습과 사회상을 풍자와 해학을 통해 적나라하게 표출하고 있다 소통의 부재에서 오는 군중 속의 고독과 외로움 정체성의 혼란과 파괴의 모습이 극단적으로 표현되기도 하며 인간 본질에 대한 철학적 사유와 내면의 고찰을 통해 답을 구하고자 하는 치열한 고민의 흔적과 진정성이 엿보이기도 한다 이번 전시는 미술계를 이끌어 나갈 재능 있는 신인을 발굴한다는 취지와 더불어 이제 막 사회에 첫 발을 내딛는 젊은이들의 과거와 현재 그리고 미래에 대한 시각을 엿볼 수 있는 기회라는 점에서 그 의미가 크다고',\n",
       " '할 수 있겠다 장르의 경계를 넘나들며 자유로운 표현과 사고를 바탕으로 한 이들의 작품에는 미래에 대한 희망과 함께 이 시대에 대한 혼란과 두려움이 고스란히 드러나 있다 이는 개개인의 고민이 자 동시에 빠르게 변화하고 있는 현대 사회에서 야기되는 혼란과 혼돈 인간성의 부재와 단절 등 우리 사회의 문제점들에 대한 기성세대의 반성과 책임을 묻고 있는 것이 기도 하다 우리 사회가 간과하고 있는 문제점들에 대한 염려와 그 안에서 희망을 찾고자 몸부림치는 사회 초년 생인 예비 작가들의 목소리가 미술계의 발전을 위해 그리고 더 나 아가서는 우리 사회를 위해 이제 한 곳에 모였다 예비 작가들을 향한 아낌없는 응원과 함께 이들의 작품을 통해 동시대를 살아가고 있는 우리 모두에게 현실과 미래에 대해 고민해 볼 수 있는 소통의 장이 되었으면 한다',\n",
       " '허영 순 셀 패턴의 등장은 종종 예술 외적 소재를 다룸으로써 작가들은 일체의 장애물을 제거하면서 작품을 구성하는 요소에 특히 주목했다는 데 있다 재료의 광범위한 선택은 년 대 중반에 염색 기법과 바느질 기법에 자극 받아 실크와 특히 면의 사용이 더욱 증가하였는데 직물로서는 일반적으로 섬세하게 잘 짜여진 면과 실크가 하나의 주된 재료가 되었다',\n",
       " '여기에 다양한 재료가 첨가되면서 추상적 환상 오브 제의 제작 그리고 인간의 모습을 묘사하는 단계에서 벗어 나 건축 무대 조경 등 목적과 용도가 크게 달리하게 되었다 보기 위한 작품이 아니라 그 안에 존재할 수 있는 to be in 작품이 되었으며 생태적 관심과 사회적 관심이 함께 하였다',\n",
       " '중략 이번 전시에서 셀 패턴의 반복과 구조적 확장은 프 랙 탈 기하학을 이론적 배경에 둠으로써 현대 섬유미술의 셀 패턴의 구조적 매너 manner 를 섬세하게 표현하였다 구체적으로 말해서 셀 패턴의 단위 요소들과 이것들의 집합 나아가 서는 단위들의 결합방식이 무엇인지를 작품에서도 드러내고자 한다',\n",
       " '크리 티 컬 포인트 코오롱의 문화예술공간 스페이스 K 대구에서는 대구 경북 지역 신진작가 전시회 크리 티 컬 포인트를 개최한다 지역 시각문화 발전에 기여하고 역량 있는 신진작가를 발굴하고 창작의 욕을 고취시키기 위해 마련된 이 전시는 권 재현 김종 길 우 병진 윤 우진 등 네 작가 의의 작품 여 점을 선보인다 영어로 임계점 을 이르는 화학 용어인 크리 티 컬 포인트 는 물질의 상태가 바뀔 때의 온도나 압력을 뜻한다 고체에서 액체로 혹은 액체에서 기체로 변화하는 순간을 뜻하는 전시 제목은 강렬한 창작 에너지로 자신만의 예술 세계를 구축해 가는 중대한 기점에 놓인 명의 젊은 작가들의 상황을 은유한다 참여 작가들은 자신만의 화법으로 젊은 예술감각을 발산하며 현대미술의 흐름에 동참한다 권 재현은 현대 사회의 어두운 단면을 함축적으로 보여주는 미디어 속 이미지를 차원의 조형물로 재해석한다 부서지기 쉬운 얇은 합판 조각들을 이어 붙이거나 그 위에 화려한 색채로 덧입힌 그의 작업은 권력과 부를 향한 탐욕의 덧없음을 풍자한다 김종 길은 타인의 시선과 사회적 규범에서 자유롭지 못한 현대인의 정신세계를 회화 조각 설치 등 다양한 방식으로 시각화한다 무질서한 도시의 모습과 기괴한 형태의 눈 이 한데 뒤섞인 모습은 그의 작품 속에 반복적으로 등장하며 현대인의 갑갑한 심정을 대변한다 우 병진은 우리가 첫 인상으로 사람을 예측하고 판단하는 선입견에 주목한다 작가는 그의 작품에서 일상의 행복한 순간들을 만끽하고 있는 등장인물들의 얼굴을 지워 버리는 방식으로 선입견들에 대해 문제를 제기한다 윤 우진은 삶에 대한 강한 애착 인간의 양면 성과 광기 금기 시되는 것 들 과의 소통 등을 화두로 삼는다 작가 본인의 기억과 경험을 자화 상과 동시대인들의 얼굴로 그려낸 그의 작업엔 인간의 내면을 성찰하며 타인과 공존하고 소통하고자 하는 작가의 의지가 담겨 있다 이들은 사회적 부조리와 사회적 금기 사회적 규범에 길들 여진 우리와 서로를 대하는 태도에 대해 이야기 한다 작품을 통한 풍자와 은유로 삶에 대한 사유를 이끌어내는 이들은 결국 공존과 소통의 삶을 꿈꾼다 때문에 우리는 이들의 작품에서 새로운 희망과 변화의 시작을 가늠 할 수 있다 강렬한 창작 에너지와 순수한 열정이 돋보이는 이번 전시는 앞으로 이들의 활동을 더욱 기대하게 한다 또한 이번 전시에는 나만의 달력을 만드는 특별한 체험프로그램이 마련된다 관람객들이 새해의 소망과 다짐을 담아 직접 그림을 그리며 달력을 만들어 보는 체험프로그램을 무료로 진행하며 단체 관람 예약 시 전시 설명 프로그램도 함께 제공된다',\n",
       " '전시작가 웅으 라 파라 마르 따 AA Ngurah Paramartha 데 비 이 까 누르자 나 Devy Ika Nurjanah 데 디 레루 V Dedy Reru 헬 리 스띠 아 완 Herli Setiawan 이아 바디 피코 Iabadiou Piko 마스 리 하르 빤 줄 Maslihar Panjul 로 벳 칸 Robet Kan 로 싯 물리야 디 Rosit Mulyadi 와 휴 웨디',\n",
       " '아르디니 Wahyu Wiedyardini 옥 타라 바카라 Oktara Q Bakara Overnight Sensation 인도네시아 현대미술은 단기간에 선풍적 인기를 끌며 세상 밖으로 나왔습니다',\n",
       " '이전까지 세계 무대에 잘 알려 지지 않았던 인도네시아 미술은 소 더비나 크리스 티 같은 유명 경매회사에서 추정 가를 훨씬 넘는 가격에 거래되면서 하루 아침에 세상의 주목을 받기 시작했습니다',\n",
       " '그러나 이러한 인기의 근원에는 오랜 전통의 문화적 잠재력이 뒷받침 하고 있습니다',\n",
       " '인도네시아의 현대미술의 시작은 년 반 둥 Bandung 과 족자 카르타 Yogyakarta 지역의 작가들이 시초가 된 새미술운동 New Art Movement 이라고 할 수 있습니다',\n",
       " '이들은 인도네시아의 경제적 침체와 사회 정치적 상황에 대한 직접적인 재현방식을 통해 자신들의 시각을 드러냈습니다',\n",
       " '이 후 년대를 거치면서 인도네시아 현대미술의 국제화가 급속히 진행되는데 이것은 아시아와 태평양 지역의 국제적인 미술 행사에 몇몇 인도네시아 작가들이 초대되면서 시작되었습니다',\n",
       " '이러한 일련의 전시들은 사회 정치적 메시지와 재현적 요소에 치중되었던 미술 경향을 전환시키는 중요한 계기가 되었습니다',\n",
       " '년 대까지 주류를 이룬 재현적 미술 경향은 새로운 정부의 등장과 함께 변화하기 시작하며 민주화의 도래와 함께 표현의 자유가 허락되면서 정치 사회적 메시지를 직접적으로 표현하기보다는 자본주의와 대중문화에 대한 다채로운 표현들이 이어졌습니다',\n",
       " '만화 일 러스트 광고 그래피 티 같은 대중문화적 요소들이 현대미술에 새로운 방식으로 반영되기 시작했습니다',\n",
       " '또 한 디지털 기술과 미디어의 발달은 인도네시아 미술의 재현적 요소와 결합하면서 극 사실적 경향을 가중시켰고 다민족 국가의 다양한 관습과 신화는 작품의 네 러 티 브적 요소를 극대화 시켜 이야기를 내포하는 풍부한 화면으로 나타났습니다',\n",
       " '이번 전시에 출품된 인도네시아 현대 미술가들은 저마다 자기만의 색채로 현재 우리가 당면한 문제들에 대한 다양한 목소리를 내고 있습니다',\n",
       " '강렬한 색채와 과감한 형태들 서정적 드로잉과 감성적 색채 등 다양한 서술방식으로 인도네시아의 지역성을 현대적으로 보여주는 본 전시는 세계미술시장에 새로운 스타가 된 인도네시아 현대미술의 진면목을 감상할 수 있는 좋은 기회가 될 것입니다',\n",
       " '뱀은 봄에 탈피를 한다 뱀 다가오는 년은 년 만에 돌아오는 흑사 의 해이다',\n",
       " '뱀은 예부터 신화 전설 민담에 자주 언급되며 인간 문화에 깊숙이 자리해 왔다 매서운 눈에 징그러운 몸체를 가지고 있고 독을 품고 있기도 한 뱀은 부정적인 이미지로 인간에게 공포감을 주고 불쾌한 감정을 불러일으켰다',\n",
       " '그런 반면 뱀은 역사 속에서 수호신의 상징으로 인식되기도 하며 표피 무늬의 규칙성과 화려함 등으로 인간에게 매혹적이고 긍정적인 이미지를 주기도 하였다 이처럼 뱀은 숭배와 배척의 양가성 ambivalence 을 지닌다 또한 자연의 이치에 순응하며 겨울철 내내 죽은 듯 땅 속에 웅크리고 있다가 허물을 벗고 과감히 자기 변신을 하며 지속적으로 성장한다 이 같은 뱀을 소재로 다가오는 년 월 일부터 한옥마을 가회동에 자리한 갤러리 한옥에서 다양한 전공의 작가들이 뱀은 봄에 탈피를 한다 라는 주제로 전시를 갖는다 탈피 그리고 핑크 붓다',\n",
       " 'Pink Buddha 프로젝트 아티스트 그룹 핑크 붓다',\n",
       " 'Pink Buddha 는 뱀은 성장할 때 허물을 벗는다 그리고 탈피하지 못한 뱀은 생명을 잃고 만다 는 점에 착안하여 이번 첫 전시를 기획하였다 기획자 조수 연 동국대대학원 불교미술 전공 박사과정 을 주축으로 한 핑크 붓다 구성원 이명 아 이정은 전 경희 정 금률 정 윤영 허 효진 의 전공 분야는 회화 불교 회화 동양화 서양화 패션 불교 학 디자인 경영 사운드 아트 등 제각각이며 전시되는 작품 또한 회화 공예 의상 설치 음향 등으로 다양하다 다양한 시각에서 하나의 주제를 놓고 각자 불교적 시각으로 해석하고자 한 실험적인 전시 이자 관람객이 종교예술이라는 무거운 주제에서 벗어나서 좀 더 친근감을 갖고 접근하게끔 유도한 관객 참여 형 전시이다 종교예술의 형식적 탈피가 아닌 진정한 불교적 의미를 되찾고자 하는 것에 뜻을 두고 기획되었으며 특히 설치작업에 있어서는 구성원 모두 공동으로 작업하고 그 완성을 대중에게 맡기는 작업형태로 대중과 작가들이 함께 작품을 만들어 나가는 열린 전시로 기획되었다 이번 전시에서는 핑크 붓 다의 기본 개념 즉 열려 있는 불교사상에 중점을 두고 하나의 주제 아래 다양한 관점을 자유롭게 표현하고자 하였다 더불어 종교라는 그 자체만으로는 무겁게 자리한 불교예술을 보다 친숙하고 편하게 대중에게 알려서 불교의 본질적인 이해를 돕고 자하였다',\n",
       " '사의적 정물의 의의 사진 같은 아니 사진 이상의 재현을 펼치는 하이퍼 리얼리즘이 더욱 맹위를 떨치고 있다 영상 사진 등의 다양한 미디어와의 상호작용이 보편화되면서 육안과 렌즈의 시야를 넘어선 재현은 의외로 다양한 시각 질서를 보이고 있다 특히 우리가 일상 속에서 평범하게 대해 왔던 사물들을 다양한 기법과 참신하고도 낯선 이미지로 재현함으로서 하이퍼 리얼리즘 회화는 매혹적인 회화의 방법으로 정착해 가고 있는 것이다 회화의 방법이 렌즈에 의존하면서도 재현에 개입하고 해석하는 것은 결국 사람이다 대체로 육안보다 크게 확대되고 아울러 중성적이 고도 차 디 찬 이미지들이 많아 하이 퍼 리어리 즘 회화는 전통적 구상보다는 추상에 더 가까운 양식으로 분류되곤 한다 물론 작가에 따라 그 서술과 수사학은 대단히 다양한 양상을 보인다 여타의 하이퍼 리얼리즘 작가들과 는 달리 김 재학의 경우는 전통적인 아카데미 즘에 기초하여 아카데미 회화에 새로운 바람을 몰고 온 장본인이다 보통의 하이퍼 리얼리즘이 대상을 다분히 차갑게 그리고 거리를 둔 체 문명에 대해 묘사하고 있는데 반해 김 재학의 회화는 냉소적이거나 싸늘한 시선을 거두고 오히려 렌즈가 주는 엄밀성을 대상의 생기와 활력으로 승화하고 있다는 점에서 차이가 있다 오랜 세월 내공이 쌓인 작가의 필치가 빛을 발하는 결과이다 렌즈가 보여주는 방식 그 이상을 추구하기보다는 렌즈가 구현하는 정밀성을 그림에서의 생명력으로 승화시키는 것이 작가 회화의 특징이라 할 수 있다 요컨대 묘사의 방법은 그림에서 보는 바와 같이 대단히 엄밀하고 냉정한 듯 보이나 화면에 흐르는 공기는 상당히 청량하고 싱그럽게 느껴지게 된다 작가의 화면이 이러한 차별성을 가질 수 있는 것은 아 카 테 미즘 회화 고유의 선율적인 필치를 근간으로 하면서도 고도로 절제된 환원적 공간성을 연출하고 있다는 점에 기인한다 작가는 사진적 재현성을 극도로 절제 내지는 부분적으로 한정하는 감각을 발휘하고 있다 지극히 부분적이지만 화면의 생명력과 대상 자체의 리얼리티 그 밖에 주제와의 긴밀 성 등을 위한 경우에만 정밀한 고감도의 재현성을 부여한다 반면 그 밖의 공간에서는 추상 표현 적인 리드 믹한 필치를 통해 화면 상의 역동적인 대비와 시너지를 일으키게 된다 바로 이 점이 작가의 그림들에 대해 하이 퍼 리얼리즘이라 부르기를 주저하게 한다 오히려 서야의 고전주의로부터 인상주의에 이르는 구상적 화풍들을 현대적으로 진화시키고자 하는 소박한 이상이 느껴진다 그럼에도 불구하고 작가의 그림이 종래의 아카데미 즘 그림들과 차별되는 것은 바로 문인화에서 볼 수 있는 사의성이 두드러지기 때문일 것이다',\n",
       " '물론 서양화에서의 사의성이라는 것이 미술사적으로 얼마나 나 설득력을 가질지 모르지만 대상을 단순히 묘사의 객체로만 보지 않고 내면 세계와의 심층적 상호작용의 객체로 파악하고 있다는 점이 의미를 가질 것이다 서법적 필치에서 오는 아 우라와 문인 화적 사의성이 풍부한 화면 상의 배경들이 의외로 그 어떤 조형적 이미지나 요소들을 포용하고 있다는 사실을 작가는 간파하고 있었던 듯하다 작가가 아카데미 즘과의 차별성을 실현하기 위해 화면 내의 사의 성을 두드러지게 하는 것 외에도 대상의 묘사에 있어 결정적인 부분에 이르러 대단히 감각적인 붓의 움직임을 보이고 있음을 발견할 수 있다 과거의 아카데미 즘 회화들이 보여줬던 붓끝을 보다 예리하고도 감각적으로 움직임으로써 사물의 이미지는 고감도의 리얼리티를 얻게 된다 이렇듯 유니 크한 독자적 양식은 바로 오늘날 유행하는 하이퍼 리얼리즘 회화와도 일정한 거리를 두고 있는 것으로 볼 수도 있다 아니 두 요소들의 시너지에 의해 단순한 극사실보다 더 오싹 한 재현성을 과시하고 있는 것이다 이러한 재현적인 그림은 극사실주의 특유의 중성 성과 싸늘한 냉소성을 순화시키고 상대적으로 그것들이 대상의 생동감과 서 정성을 함께 전해 주고 있다 극 사실적 묘사를 통해 단순한 묘사의 기술적 과시가 아니라 대상의 생기와 활력으로 승화시키고 있다는 점에서 작가의 성취가 돋보인다 하겠다 우리가 독창성을 작가에게 기대할 때 기상 천 외의 것을 기대하는 것은 아니다 흔히 볼 수 있는 것을 어 딘가 모르게 참신하게 보여주면 되는 것 아닌가 작가가 단순히 아카데미 즘 회화와 극사실 회화를 조합시키는 단계를 넘어 우리의 전통적인 사의 정신에 입각하여 조합을 해낸 내용들이야 거의 간과되기 쉬운 내용일 수도 있다 그러나 작가의 바로 그러한 사소해 보이는 진화의 내용들이 그림다운 그림을 찾는 이에게 의외로 큰 호소력을 주고 있음은 자명한 것 아닌가',\n",
       " 'BELT 공모전 심사 평 현재 미술계에서는 젊은 작가들을 대상으로 하는 다수의 공모전이 개최되고 있다 각 공모전마다 상금과 전시를 지원하거나 레지 던 시 참여 기회를 주기도 한다 공모전은 자신의 작품에 대한 객관적인 평가를 통해 치열한 미술계에서 살아남기 위한 좋은 기회를 제공하기도 한다',\n",
       " 'BELT는 년 판화 분야의 신진작가 양성을 목적으로 시작되어 회째 이어지고 있는 전통을 지닌 공모 전으로 년 사진 분야 년 미디어 분야까지 공모 영역을 확장하였다',\n",
       " 'BELT 공모전의 장점 중 하나는 선발된 작가들에게 개인전 개최의 기회를 제공함으로써 본격적인 작가 활동을 위한 중요한 토대를 마련해 준다는 데 있다 미술계에서는 시기에 따라 특정 장르가 부각되거나 쇠퇴하는 현상을 종종 발견할 수 있다 멀게는 세기 사진의 등장과 함께 대두되었던 회화 종말론이나 미디어 설치의 확산으로 인한 전통 장르의 쇠퇴 등이 그것이었다 특히나 디지털 인쇄 기술의 발달로 인해 판화 분야는 한국뿐만 아니라 국제적으로도 어려움에 처한 상황이라고 할 수 있다 한국 현대 판화 사를 간략히 살펴보면 년 한국판 화가협회가 창립되어 이항성 최영림 박수근 한묵 등 당대의 중요한 작가들의 참여했고 년에는 한국 현대판 화가협회가 창립되었다 년 서울 국제 판화 비엔날레가 개최되었으며 년 시작된 공간 국제 판화 비엔날레는 현재까지 개최되고 있다 년 대는 민중미술 계열에서는 시각적 강렬함과 메시지를 함께 전달할 수 있는 목판화가 전성기를 맞기도 했다 년대',\n",
       " '다원화된 예술 경향의 전성기를 지 나 년 대를 지나면서 판 화가들의 활동은 더욱 위축되었고 젊은 판화가 들을 미술계에서 찾아보기 힘들어 졌다 특히 전업 판 화가는 거의 멸종 단계에 있다고',\n",
       " '해도 과언이 아니다 장기간에 걸친 기술적인 숙련이 필요하며 표현 방식과 크기의 한계를 지닌 판화는 복수 제작 에 디 션 이라는 장점을 공유하고 있는 사진의 약진과는 큰 대조를 보이고 있다 사진의 경우 이제 전통적인 사진 촬영 기법과 프린트의 질적 가치를 무색케 하는 다양한 형식 특히 컴퓨터 후 보정의 힘 그리고 여러 매체와의 다양한 교합 가능성 등을 통해 현대미술의 강력한 표현수단으로 떠올랐다 이에 반해 판화는 여전히 매체 중심적이며 프레스를 이용하는 방식 또한 과거와 크게 차이가 없다 필자가 최근 보았던 전시에서 판화작품으로 착각했던 작품이 컴퓨터 프린트였다는 사실은 이제 수공적 스타일의 전통 판화의 실효성에 의구심을 갖게 하는 계기가 되었다 현대 미술사에서 가장 효과적으로 영리하게 판화를 이용하고 대중화 시킨 작가라면 단연 앤디 워홀을 꼽을 수 있을 것이다 실크스크린을 자신의 팝 스타일 이미지를 확장시키는 핵심적인 매체로 사용한 점은 팝 아티스트로서의 위상에 걸 맞는 유연성을 보여준 것이었다 현대미술에서 화가 조각가 판화가 같은 전공별 구분은 거의 무의미하게 되었다 이젠 작가라는 타이틀 속에 모든 장르와 경향이 통합되고 있다 현재 판화 매체의 표현 방식은 한계에 부딪치고 있다 새로운 돌파구를 찾아야 한다 젊은 작가들은 판화 매체의 표현적 한계를 극복해야 한다 표현 방식의 확장을 위해 다른 장르와의 적극적인 결합을 시도해야 할 것이다 판화의 특성을 다른 작가들이 갖지 못한 나만의 무기로 삼아보다 창조적이며 도전적인 실험이 필요할 것이다 이번 BELT 공모전 심사에서 가장 파격적인 부분은 최종 심사 위원이 본인 한 사람으로 지정된 것이었다 처음 단독 심사를 제안 받았을 때 꽤나 부담스러웠다',\n",
       " '이런 저런 심사에 참여 해봤지만 어디에서도 단독 심사를 한 적은 없었다 공모를 통해 특정한 작가를 선발하는 이런 식의 선발전은 한마디로 공평한 심사 과정이 요구되며 이를 위해 여러 전문가가 공통으로 인정하는 확실한 가능성을 보여준 작가를 뽑길 원하기 때문이다',\n",
       " '하지만 전문가의 시각도 꽤나 주관적이기 때문에 종종 의견 일치라는 이상적인 방향은 실종 되곤 한다 때로는 자기 주장과 시각이 확실한 몇몇에 의해 딸려 가며 좋은가',\n",
       " '보네',\n",
       " '라는 식의 수동적인 결론을 내리거나 논쟁을 피하기 위해 심사위원이 각각 한 표 또는 점수를 매겨서 합산하는 방식을 취하곤 한다 그러나 이러한 점수 방식도 허점은 있게 마련 호불호가 확실한 작품보다 일견 두루두루 보통 점수를 받은 작품들이 총합에서 앞 설 때도 있는 것이다 결국 작품성 심사위원의 성향 점수 합계의 우연성 등 복합적인 변수가 종합적으로 작용하는 것이 바로 심사다',\n",
       " '어쨌든 단독으로 작가를 선정하는 예상치 못한 부담의 즐거움 을 누리게 된 나는 지극히 주관적인 안목이지만 최대한 꼼꼼 하게 포트폴리오를 심사하여 사진 명 판화 명의 작가를 선정하였다 선정 후에 개최될 갤러리 전시를 감안하여 작품의 독창성 표현의 완성도와 함께 대중성도 고려하였다 사진과 판화 부문에 비해 올해 두 번째로 포함된 미디어 부문 경우 아쉽게도 지원자 수가 너무 적었기에 선정 작가를 뽑을 수 없었다 사진 부문의 유현 상과 고 진영은 온갖 충격적인 사건으로 도배되고 있는 매스미디어의 홍수 속에서 무감각 해진 우리들의 마비된 감각에 의미 있는 질문을 던지는 탄탄한 사진 작업을 선보였다 개국의 TV 뉴스 채널을 각각 한 장의 사진으로 압축시킨 유현상의 작업은 흥미로운 개념이 돋보였고 고 진영의 사진은 비슷한 형식의 연출 사진 작업들 중에서도 뛰어난 완성도와 향후 전개 가능성에 무게를 두어 선정하였다 한 밤중 인적이 드문 장소에서 벌어지는 또 다른 쌍둥이 자아와의 퍼포먼스 사진을 보여준 윤 아미는 환상 동화 속 이미지처럼 비밀스러운 이야기로 가득 차 있었고 한 밤중 대자연 속 스튜디오에서 빛나는 트리로 장식하고 촬영한 이은 열의 사진을 자연이 신비로운 속살이 드러난 이미지 자체로 매력적이었다 현대 사회의 이미지가 축적되어 있는 잡지의 속 페이지에 감춰 진 이미지들을 발굴하듯 선택하여 오려 낸 후 책 표지를 찍은 박 희수의 작업 도시 속 건축 공간에 감춰 진 구조물을 기하학적 평면 추상형태로 포착한 조은 호의 사진은 젊은 작가들의 아이디어 열정과 부지런함이 돋보이는 작업이었다 판화 부문의 나 광 호는 자동 기술적으로 그려낸 다양한 형태의 패턴들을 판화 뿐 아니라 설치 작품 또는 공공미술의 영역까지 확대시킨 점이 돋보였고 생명 유지장치인 심장 을 주제로 다양한 이미지의 밝고 경쾌한 그래픽으로 변형시킨 강 민정의 판화는 대중적인 디지털 프린트의 활용 가능성을 보여주었다 환상 소설의 삽화처럼 거대한 상상의 세계를 꼼꼼 하게 묘사한 석판화 작업의 권 오신 정교한 리 노 컷으로 완성시킨 매력적인 새 인간 캐릭터를 보여준 한지 민은 판화는 인쇄 매체의 삽화 전통을 지닌 판화의 정통적인 orthodox 측면을 잘 보여준 작업이었다 이번 심사를 통해 선발된 명의 작가는 위에서 언급했듯 심사위원 인의 안목으로 선정되었다 다른 심사 위원이었다면 전혀 다른 결과가 나왔을지도 모른다 현대미술을 보는 눈이 그만큼 다양하기 때문이다 그저 바람이라면 이번에 선정된 작가들이 앞으로 년 년 뒤에도 꾸준한 작품 활동을 통해 한국 현대미술을 대표하는 작가로 성장하여 나의 선택이 잘못된 것이 아니었음을 보여주길 바랄 뿐이다',\n",
       " '아름다운 그늘 빛이 소진되면서 어둠이 만들어 지는 게 아니라 어둠이 지워 지면서 빛이 생성된다는 걸 놀랍게도 정 효만의 그림들은 말해 준다 그의 그림 속의 작은 잎들에 묻어 있는 빛이거나 물살 위에 머물러 있는 빛들이거나 숲 사이를 지나가는 빛 가닥들은 모두 그가 미리 용의 주도하게 설계해 놓은 어둠으로부터 살아 나와 존재하는 것 들이다 그의 그림들 속의 크고 작은 빛들이 때문이다',\n",
       " '그러므로 우리는 그의 그림 속의 그늘에 주목해야 한다 그야말로 자연 스럽게 드리워 져 있는 그 그늘들에는 뻐꾸기 소리도 들어 있고 산들 바람 소리도 스미어 있고 첫사랑도 시냇물 소리로 흐르고 있다 아름다운 그늘이다 정 효 만이 이번 전시회에 내어놓는 작품들은 처음부터 끝까지 치열한 나이프 작업으로만 이루어져 있다 붓으로 그리고 덧칠하고 지우는 게 아니라 물감을 나이프로 얹거나 쌓거나 베어내는 수천 번의 과 정들 로 이루어진 것이다 음각이나 양각 투각 상감을 하는 도공 의 그것보다도 더 정교하고 지난 한 작업들을 통해서 얻어 진 것이다 자연은 처음에는 화가에게 저항하지만 깊은 곳에서 성실한 화가와 악수한다고 고 흐는 말했지만 정 효만의 그림들에 있어서는 저항과 악수 같은 말들은 부질없는 수사에 지나지 않을지도 모른다 자연과 화가 정 효만의 관계는 셍텍 쥐 베리의 어린 왕자와 여우처럼 서로를 길들이고 서로에게 길들여 지고 싶은 관계이기 때문이다 부탁이야 나를 길들여 줘 나도 그러고 싶어 어느 날 자연보다도 더 자연스러운 그의 그림들을 보면서 문득 여우와 어린 왕자의 대화를 떠올린 적이 있었다 빛이 눈부신 것은 세상에 아름다운 그늘이 존재하고 있기 때문이듯 정 효만의 그림들이 우리를 데려가는 세상이 이토록 눈부신 것 또한 그가 우리에게 보여주는 아름다운 그늘 때문이리라',\n",
       " '아럇샤라무니에 아름답다 북스 포 르완다 북스 포 르완다 사진전에 여러분들을 초대합니다',\n",
       " '북스 포 르완다 사진전에서는 작년 월 르완다에서의 활동을 기록한 생생한 사진을 보실 수 있습니다',\n",
       " '또 한 동화책을 들고 환히 웃는 르완다 아이들의 모습과 땀 흘려 노력한 동화책 준비과정을 사진을 통해 관람하실 수 있습니다',\n",
       " '앞으로의 기 동화책 내용을 결정하는 투표와 르완다 아이들에게 중고 영어책을 기부할 수 있는 코너 관람객의 한마디와 포토 존 등 다양한 사진과 참여가 가능한 사진전 북스 포 르완다 사진전으로 여러분들을 초대합니다',\n",
       " '북스 포 르완다는 매년 직접 출판한 동화책을 르완다 어린이들에게 전달하여 UN 새 천년 개발 목표 MDGs 중 보편적 초등교육 달성 실현에 동참하는 국제 프로젝트입니다',\n",
       " '청년들의 힘으로 홍보 출판 후원과 행사를 통한 기금 마련까지 이루어 나가며 UN이 선정한 최빈국 중 하나 인 르완다의 아이들에게 지속 가능한 교육의 기회를 제공합니다',\n",
       " '또 한 유 네스 코 지속가능 교육 발전 프로젝트의 일환으로 북스 인터네 셔 널의 개 내셔널 챕터 중 하나로 활동하고 있습니다',\n",
       " '르완다의 어린이들 명의 청년 그리고 당신이 북스 포 르완다와 함께 합니다',\n",
       " 'NOCTURNES BAPTISTE FOMPEYRINE 가회동에서는 프랑스의 젊은 작가인 Baptiste Fompeyrine의 판화 전시를 기획하고 있다 아직 파리 Beaux Arts의 학생이지만 년부터 이미 프랑스에서 작가로서 활동해 온 그는 자신이 경험한 현실과 거기서 추출해 낸 무의식의 세계를 작품으로 표현하고 있는 앞날이 기대되는 유망한 작가이다 사진 작업을 하며 보여 지는 이미지를 담는데 한계를 느낀 그는 페인팅을 통해 자신의 세계를 펼친다 그런 그에게 있어 판화 작업은 드로잉의 개념이다 복제가 되는 판화작업의 특성 상 페인팅이 가지는 오리지널리 티의 한계를 극복하는 수단이 기도 하다 그의 작품에는 묘한 매력이 있다 고전주의 시대를 떠올리게 하는 화풍을 가지고 있지만 그렇다고',\n",
       " '해서 결코 지루하지는 않다 현실에서는 경험할 수 없는 무의식 속에서 얻은 자신만의 해석이 작품으로 녹아 있기 때문일 것이다 그는 일상에서 지나쳐 왔던 풍경 속에서 자신이 부각하고 싶은 부분이나 시 소설 음악 그리고 꿈 등에서 모티브를 얻어 독특한 작품세계를 펼치고 있다',\n",
       " 'NOCTURNES 야경 이라는 이번 전시 주제는 물론 암흑 속에서 잔잔히 드러나는 그의 세계이기도 하지만 어쩌면 그의 잠재적 가능성을 가늠해 볼 수 있는 좋은 기회이기도 한 것이다 이번 전시의 작품들이 페인팅이 아니라는 점이 아쉬울 수도 있지만 드로잉으로서 제작된 판화들은 그의 일상을 그대로 드러 내 주는 일기장 같은 것이기에 더욱 친근하게 다가설 수 있는 장점을 가지고 있다',\n",
       " 'Fompeyrine 작가는 월 이면 개월 이라는 한국에서의 짧은 일정을 마치고 고국으로 돌아간다 에칭 석판화 드라이 포인트 등이 선보여 지는 이번 전시에서 그의 가능성을 지켜봐 주시기 바란다 작가 노트 기억 속의 풍경들 내가 사진을 공부하던 시절 나는 밤이면 낮 동안 돌아 다녔던 장소에 대한 기억을 더듬어 보았다 나는 과제 발표를 준비하며 현실 너머에 존재할 수 있는 의식의 이미지를 만들어 야겠다고',\n",
       " '생각했다',\n",
       " '그때 이후로 나는 현실 무의식을 포함한 속에서 내가 지나온 장소들에 대한 기억을 재구축하여 그 과정을 이미지로 추출하려고 노력하고 있다 나는 이미 존재하는 이미지는 더 이상 사용하지 않는데 마치 시인이 자신이 원하는 이미지에 더 가까이 다가가기 위해 무심의 상태로 자신의 시상들을 재구성하여 시를 쓰는 것처럼 나에게 있어서는 페인팅 드로잉 그리고 에칭 작업이 현실로부터 이미지를 구축하는 것 이상이라는 것을 인식했기 때문이다 과거에 페르 시안 미니어처 작가들이 동판을 사용했던 것처럼 나는 내면을 비추는 거울로서 글보다는 동판 위에 이미지를 구성하는 방법을 사용한다 나에게 있어 작업은 현실을 바라보고 그것으로부터 무언가를 배우는 것으로부터 비롯된다 이 방법은 내가 평생을 배우는 자로서 존재해 주게 한다 왜냐하면 현실은 내가 실체와 그것을 투사한 것 들 사이에서 뭔 가를 잡아내려고 노력하는 깊고 어두운 우물과도 같기 때문이다 이번 전시의 제목인 NOCTURNES 야경 은 이 이미지들이 어둠으로부터 나오는 것임을 의미한다 나는 각각의 드로잉을 만들어 내는 창작의 충동이 어디로부터 오는지 정말 모르겠다 시를 읽으면서 오는 특별한 정신적 깨우 침의 결과인지 아니면 길거리 골목 어귀에서 일깨워 진 현실 너머의 어떤 의식에서 인지 나는 이 작업을 동판에 은밀히 새기는 나의 비밀 일기장으로부터 도려낸 조각들 같은 것으로 생각하기로 했다',\n",
       " '풍경 속의 풍경 젊은 화가 김현 정이 전통 회화 그것도 풍경에 끈질기게 매달리는 이유가 무엇일까 김현 정은 자신의 기억 한 순간에 포착한 내밀한 풍경의 정감을 회화로 재구성한다 화가의 기억은 주택가의 계단과 벽면에 담담하게 내리비친 그림자 작업실에서 내려다본 고즈넉한 밤의 주차장 개발로 파헤쳐 진 기이한 공동묘지 하얀 안개 속의 희끄무레 한 풍경 고층 빌딩의 유리벽에 투영된 도시 풍경 땅거미 내려앉는 도심의 고가도로와 보도 시골집 담벼락에 쌓인 덤불더미 등 지극히 비근한 일상의 풍경을 붙잡는다 바로 그 시간 바로 그 공간 자신에게 각인된 풍경의 기억을 자신만의 분위기로 불러내는 일이다 풍경 속의 기억은 사회적 메시지 같은 특별한 의미는 아닐지라도 개인사에 얽힌 적지 않은 내러티브가 숨어 있다 기억이란 언제나 현재를 축으로 해서 모든 과거의 체험을 아울러 재생하고 재구성하는 유동 의 의식 현상이기 때문이다 그렇다면 김현 정의 그림은 풍경을 있는 그대로 재현하는 진부한 구상 그림과는 무엇이 다른가 풍경의 성질을 드러내는 이 화가의 구도나 색채 표현 기법이 워낙 정공법이어서 혹자는 이 작가만의 풍경의 독자성에 의문을 제기할지도 모른다 나도 처음에는 그랬다 문제의 핵심은 하찮은 풍경에서 만나는 낯선 정감의 실체에 있다 김현 정은 풍경 속의 풍경 을 그린다 풍경의 어느 한 구석 모퉁이의 피부를 집요하게 파고들기도 하고 풍경의 피부를 벗겨 내고 저 깊은 속살로 시선을 침투시키기도 한다 말하자면 눈앞에 가까이 존재하는 것에서 출발하여 저 아득히 멀리 존재하는 것의 단 한번뿐인 현상 요컨대 아우라',\n",
       " 'Aura 를 쫓는 것이 김현 정 회화의 지표이다 바로 이 아우 라를 회화로 각인시키는 조형 감각 다시 회화적 감각이 중요하다 이번 개인전에는 새로운 작품이 나왔다 이전과 느낌이 달랐다 작품의 감각이 좀 변화했다 아니다 감각이 좀더 깊어졌다 무엇보다 하늘 속의 하늘 그 여름의 어떤 날 이 압권이었다 도시 뒷골목의 담벼락을 그린 달 없는 밤에서는 추상 의지가 배어 있어 변화의 기운을 읽을 수 있다 두 작품은 수면 위에 떠 있는 꽃과 풀 오리 같은 생명체들 그리고 수면에 어른거리는 하늘과 흔들리는 구름 살갗을 스치는 바람의 촉감까지를 붙잡은 풍경이다 그것은 원래 그림이 될 만한 픽 처 레 스크 Picturesque 한 소재가 결코 아니다 그럼에도 화면은 우리의 시선 우리의 가슴을 꽉 붙잡는 숭고미로 물들어 있다 그림이 살아 있다 얇고 투명한 색을 겹겹이 쌓아 올려 그 수많은 레이어로 촘촘히 직조된 물감의 층들은 피부와 뼈와 살을 이루어 하나의 생명체로 꿈틀꿈틀 댔다 화면으로 바짝 다가서 보았다 눈앞의 화면은 풍경 이전에 색채로 뒤덮인 하나의 평면 이었다 줌 인 아웃 부분 전체의 지각의 네트워크에 따라서 전망의 차이를 체감할 수 있다 여기 평면 회화에서도 우리는 지각의 현상학 을 적용할 수 있으리라',\n",
       " '순간순간의 감각을 숨 가쁘게 실어 나르는 출렁거리는 붓 터치 서로 밀고 당기고 드러내고 뒤덮는 물감 입자들의 거침없는 투쟁의 아우성 화면을 경영하는 긴장과 이완의 호흡들 김현 정은 이렇게 화면의 지층을 세포조직처럼 조밀하고 풍성하게 건설한다 그렇다 회화는 구상이나 추상 이전에 움직이는 손의 작업 수공성이 자기 증명의 절대 기반 임에 틀림없다',\n",
       " '그래서 나는 자주 그림을 화가의 신체 운동 일종의 퍼포먼스로 규정하곤 한다 말하자면 회화란 붓이라는 감각의 더듬이로 화면을 경작 하는 몸의 흔적들 캔버스에 실현된 화가의 뜨거운 신체의 경연장이 아닌가 그림 그리는 건 연애하는 일과 같아요',\n",
       " '김현 정이 말했다 회화와의 연애 화가가 이 세상의 사물과 풍경을 만나는 일은 때로는 우연 이요 때로는 필연이리라',\n",
       " '그러나 그 만남의 희로애락을 화면에 끌어안고 예술이라는 성 을 축조하는 가열한 몸부림이야말로 화가의 일 바로 회화가 아닌가 몸과 마음을 총동원하여 사랑하는 애인을 보듬듯 화면을 조형해 가는 이 집요한 페티시즘 Fetishism 이야말로 회화와의 가장 뜨거운 연애 수단이 아닌가 회화는 하나의 살아 있는 유기체와 같은 것 이 회화 본연의 성으로 더 깊이 질주하는 김현 정의 성장을 지켜보는 일이 나는 아주 즐겁다',\n",
       " '생물 이 된 집들이 사는 마을 이보 윤의 집 하루가 시작된 다 집을 나선다 하루가 저문다 그리고 우리는 다시 집으로 돌아온다 집 이라는 공간은 우리의 사회적 페르 소나를 덧칠하거나 지우는 관문이 되는 지점으로서 위치한다 집에 돌아오는 순간 김부장님 이 과장님이라는 직함의 그림자는 흐릿 해지고 표정은 좀 더 편안하게 풀어진다 그리고 집 밖에서의 생활과는 다른 의미에서의 일상이 이어진다 가족이라는 혈연 공동체의 구성원들이 집 밥 을 함께 먹고 담소를 나누고 각자의 하루를 정리하며 몸을 누인다 잠을 자는 공간이라는 것은 곧 새로 깨어나는 오늘 을 처음 맞이하는 장소라는 의미와 상통한다',\n",
       " '이보 윤의 집 연작에는 이런 집의 특성이 밝고 따스하게 자리한다 화창한 햇빛 아래 색색의 지붕을 드러내고 있는 집들은 무생물이지만 생물과 같은 활기를 지닌다',\n",
       " '이보 윤에게 집 은 제 몸에 사람을 품어 먹게 하고 잠들게 하고 성장케 하는 생생한 공간이기 때문일 것이다 그것을 증명하듯 누군가의 빨랫줄에는 빨래가 널려 있고 누군가의 옥상에서는 식물이 자란다 무료한 고양이에게 지붕을 가로지르도록 제 몸을 내 어주 기도 하며 고추가 붉게 익어 가도록 하는 살아 있는 자리 그곳이 집 이다 일상 공간을 원거리에서 조망하며 삶의 이면을 통찰하는 작가의 집요한 시선은 집에 대한 익숙한 이미지를 환기시키면서도 독특한 신선함을 잃지 않는다 정밀한 탐사에 집의 시원에 대한 진지한 고민이 더 해진 까닭이다 따라서 집 연작은 낮 편뿐만이 아니라 밤 심지어 눈이 오는 풍경에서도 부드럽고 따뜻한 인간의 체취 와 같은 것이 일관되게 느껴진다 각각의 공간들이 빚어내는 고유한 온기가 이웃의 서로 다른 그것과 조화를 이루는 그녀의 집들은 집이라는 개체 각각이 피가 돌고 맥이 뛰는 생의 자리 임을 시사해 주는 동시에 그 집합이 하나의 커다란 유기체와 다름 아님을 깨닫게 한다',\n",
       " '오래된 미래 빠르고 새로운 것에 주목하는 현 시대를 필름 카메라 라는 아날로그적 시선으로 들여다본다 많은 것을 간편하게 보관하고 저장하며 기억하는 듯 보이는 정보화 시대이지만 그 속에서 놓치고 있는 사소하고 소소한 일상을 기억하고자 한다',\n",
       " '민화로 전하는 새해 덕담 엄 미 금 아트 매니지먼트 그룹 주 예술 만세는 예술 만세 갤러리에서 설날 맞이 엄 미 금 초대전 민화로 전하는 새해 덕담 전 을 개최한다 우리 조상들은 새해를 맞이하면 가족의 건강과 행복을 염원하기 위해 민화를 선물하는 풍속이 있었다 민화 는 상상 속의 동물을 포함한 우리 생활 주변의 모든 만물을 소재로 삼아 일종의 꿈을 그린 그림이다 따라서 민화에는 부부의 금실 다산과 오 복 무병장수와 부귀 공명과 같은 기원과 우리 조상의 삶의 지혜와 해학 정서가 담겨 있다 이번 민화로 전하는 새해 덕담 전은 새해를 맞이하여 가족과 지인에게 행복을 전하는 따뜻한 전시회가 될 것이다',\n",
       " '문래 일기 새 나라 자동차 프로젝트 한국 사회의 급속한 산업화로 형성된 문래동은 재개발과 문화예술의 활성화라는 양면성이 공존하는 곳이다 특히 영등포의 중심인 문래동은 년대',\n",
       " '동양 방직 종 연방 직 등 신식 방직공장이 세워 진 곳으로 이후 년대에는 철재상 기계 섬유 등 제조공장 등이 들어서 국가 경제 발전의 첨단산업기지 역할을 했다 하지만 년대부터 시설이 노후 해지고 정부의 도시계획에 따라 공장들이 서울 외곽으로 빠져나가면서 문래동은 서서히 쇠퇴하기 시작했다 이 같은 문래동의 흥망성쇠는 택시 운전을 했던 나의 할아버지와 아버지의 인생과 닮아 있다 년대만 하더라도 택시는 여유 있는 사람이 타는 특별한 교통수단이었고 택시 운전사는 고급 신형 차를 탈 수 있다는 매력으로 선망의 대상이었지만 산업과 소비의 발달로 택시가 흔해 져 버린 지금은 더 이상 그렇지 않다 이번 전시에서는 지난 몇 달 간 문래동에서의 체험을 본인의 시각으로 재구성한 문래 일기 라는 영상과 기록물을 선보인다 이것은 연암 박지원의 열 하일기 를 오 마주 한 작품으로 현대판 박지원 의 시선으로 실제 문래동에 거주하며 지역 커뮤니티를 통해 찾아낸 한국 근 현대의 경험과 동시대 풍경을 담아낸 것이다 문래동을 둘러싼 다양한 삶과 시공간 속에서 본인의 아버지가 대의 박지원을 나는 대의 박지원으로 분해 실제와 허구를 넘나들며 새로운 시각 체험을 선사한다 문래동에 거주하는 다양한 연령층의 사람들은 한국의 산업화 과정을 지켜보며 버블과 붕괴를 두루 경험한 세대이다 대와 대라는 두 박지원 역할을 통해 문래동 속에서 인위적 이면서도 자연스런 만남의 과정과 세대 간의 시각 차이 등 그 동안 잘 드러나지 않은 이야기들도 끄집어내고자 했다 이 작품은 문래동을 중심으로 한국 사회의 정치 사회 문화적 맥락을 포착한 내 삶의 여행 기라 할 수 있다 지난 몇 년 간 다양한 지역을 돌아다니며 진행했던 아트 택시 프로젝트 는 처음부터 커뮤니티를 생각한 작업은 아니었다 분단의 현실과 재개발 철거 폭력 등이 난무하는 한국의 실상은 근본적으로 인간의 삶 거주의 문제와 직결된다',\n",
       " '아트 택시 프로젝트 는 비 정주 임시 거주의 방식으로 떠돌고 있는 존재로서 최근에는 서울 문래동을 둘러싼 문제를 통해 개인적 관심을 확장시켰다 가족 사에 있었던 택시를 사회 정치 문화적 관점으로 넓혀 가면서 다중적 사회인식을 건드리는 방식으로 작업을 진행했다 특히 실제와 허구로 교차 편집한 영상 작업에서 택시기사로 일하다 졸지에 예술가가 된다는 설정은 예술가로서 진행한 택시 운전사의 역할을 뒤집어 봄으로써 예술제도에 대한 문제와 작업에 대한 성찰 분석 욕망에 대한 탐구이다 자동차는 나의 감수성과 새로운 경험들을 연결하는 매개체로서 이 작업에서도 중요한 역할을 톡톡히 수행하고 있다',\n",
       " '나는 통제되지 않는 자아의 양면성을 발견할 때 두려움과 거부감을 느낀다 이는 이상적인 나 라는 스스로가 세운 기준에 어긋나는 행동을 하게 되거나 반대되는 생각을 품을 때 발견된다 자아의 괴리 양면적 기질은 지극히 인간적이라는 증거이지만 이를 받아 들이지 못할 때 삶은 불행으로 가득 해 보인다 양면성은 인간이 관여된 모든 세상의 일에 반영되는 특성이다 개인이 타인과 사회를 만 나 겪어 가는 일들은 반드시 퍼센트 선하고 악하다고',\n",
       " '말할 수 없다 누군가에게 이로운 일이 다른 누군가에게는 해로운 결과를 낳을 수 있는 것이다 사건은 개인에게 주관적인 해석으로 기억되며 실지 사건의 객관적 사실은 무의미 해진다 나는 지난 년 간의 관계에서 겪었던 나의 주관적 감정들을 직면하고 수면 위로 끄집어내고자 한다 눈 코 입이 없는 인물이나 익명의 풍경에 자기를 대입시킴으로써 사적인 사건의 경험은 형상화 객관화된다 상상력과 무의식에 의존한 비논리에 인도되어 작업이 된다 작업은 파편적 이미지들 전체가 모였을 때 하나의 완성된 이야기가 된다 빨간 이는 파란 이 이기도 하고 빨간 이 이기도 하며 검은 덩어리이기도 하다 아무것도 아니 기도 하다 나와 가장 닮았으나 다른 얼굴을 가진 내 안의 또 다른 나 이상적 기준대로 살도록 놔두지 않는 나 통제되지 않는 다른 나는 나와 가장 닮았으면서도 반대이다 이는 나와 가장 친하면서도 가장 멀다',\n",
       " '서로서로 배웁니다',\n",
       " '이상한 스타일을 꿈꾸며 놀아 보고자 하는 이번 전시는 졸업 이후 혹은 작업을 전개하는 과정에서 찾아오는 공허함을 서로 나누고 공유하여 서로서로 배우 고자 한다 이는 젊은 작가들에게 한 번의 전시가 이들의 공허함을 채울 수 없다는 판단에서 이 다 전시장은 배 움의 장 소 이다 이곳에서는 기존 시스템에 들어가기 위한 방법을 배우는 것을 지양한다 자신이 가지고 있는 그 무엇인가 그것이 아무리 사소할 지라도를 서로서로 나누고 배우면서 자신 삶의 태도를 점검하고자 한다 참여 작가들은 매일 넓은 의미에서 드로잉으로 배 움의 결과물을 도출한다 전시장에는 하나의 책상이 있다 이 책상은 대화 사유 나눔 창작이 동시 다발 적로 일어나는 장소이다 작가들은 매일 월요일에서 토요일 시까지 이 책상 앞에 도착해야 한다 작가들은 돌아가며 자신의 주도하에 아무리 사소한 것일지라도 다른 작가들에게 배움을 제공해야 한다 작가들은 이 배 움의 결과를 몸에 체하하도록 노력하고 매일 넓은 의미의 드로잉으로 추출해 전시장을 채워야 한다 전시 기간 중 작가들은 다른 작가들에게 어울릴 만한 대화 상대자를 소개해 줘야 한다 대화 상대자의 선택과 매칭은 전적으로 진행자의 몫이다 작가들은 전시장을 찾는 모든 이를 환영하고 그들의 말에 귀를 기울여야 한다',\n",
       " '락스타 갤러리 토스트에서는 락스타 이 열립니다',\n",
       " '이번 전시에서는 한국의 개성파 인 디 뮤지션 명이 자신이 동경하는 락스타의 모습을 작품을 통해 직접 선보입니다',\n",
       " '미술과 음악의 경계를 넘나들며 다양한 활동을 쌓아 온 명의 작가들이 선보이는 작품들을 통해 형식이나 장르에 얽매이지 않는 자유로 움을 느껴 볼 수 있을 것입니다',\n",
       " '또 한 뮤지션이 기도 한 명의 작가들이 그들에게 영향과 감동을 준 뮤지션을 작품으로 표현하고 있는 만큼 그림을 통해 그들의 음악세계까지 엿볼 수 있는 새로운 기회가 될 것입니다',\n",
       " '반 허공 Mid Air A SPACE COLONY 는 년 한 신문기사와 도판에서 시작한다 우주과학의 발전으로 우주식 민지를 건설 하리라는 년 밀레니엄의 모습을 내다본 이 기사의 추측은 현실화 되지 않았다 나는 여기서 이미 과거가 되어 버린 미래의 이야기로 시간의 흐름이 뒤틀려 분열됨을 공상한다 여기 서로 다른 두개의 년이 있다 하나는 인류의 우주과학이 고도로 발전해 중력의 문제를 해결하고 지구에서 우주까지 생활권을 넓힌 세계이다 토성의 띠와 같은 형태로 지구에 인공 띠를 만들어 그 위에 우주식 민지를 건설한다 다른 하나는 도시 중심에 있는 거대한 두 개의 빌딩에 비행 물체가 돌진하여 폭발한 사건을 지구의 모든 사람들이 바라보게 되는 세계이다 두 세계가 서로 접 붙는다 비행 물체가 돌진하여 우주식 민지가 폭발하다 그곳의 사람들은 저마다 폭발로 인해 물리적 질서가 교란된 환상적 순간을 맞이한다 공간을 베어 버리는 회칼 새로운 우주를 토해 내는 블랙 커피 뒤섞인 시공으로 모두를 빨아들이는 욕조 배수구 두루마리 풀리듯 풀려 버린 엘리베이터 별들을 얼려 떨어뜨리는 냉장고',\n",
       " 'Moonlight Anthology 이 재삼 코오롱 그룹의 문화예술 나눔 공간 스페이스 K는 이재 삼의 개인전을 개최한다 화가 이재 삼은 강릉 대학교와 홍익 대학교 대학원 서양화 과를 졸업하고 지금까지 스무 번의 개인전을 비롯해 수많은 기획전에서 꾸준하게 작품을 선보여 왔다 지난 여 년 동안 한국의 문인화 전통을 서양화 재료인 목탄으로 재해석하는데 천착해 온 그는 이번 전시에서 달빛 아래 은은하게 빛나는 풍광을 통해 우리 산하에 스민 신묘와 영험의 아름다움을 전달한다 문 라이트 앤 솔로 지 Moonlight Anthology 라는 부제로 선보이는 이번 전시에는 이재 삼의 근작을 포함한 여 점의 대형 작품이 전시된다 한국화의 전통적인 소재를 필묵이 아닌 목탄으로 표현한 그의 작품은 매화와 대나무 소나무 폭포 등 자연물이 중심 소재로 등장하지만 화제 만큼은 모두 달 빛 이다 작가는 고풍스럽게 빛을 발하는 월 하 의 풍경을 묘사함으로써 진짜 주인공을 달빛으로 바꾸어 놓는다 어두운 밤을 배경으로 오직 빛을 통해 윤곽을 드러내는 여러 형상들은 외려 달의 존재를 역설적으로 강조한다 이재 삼은 대상을 가시화하는 데 있어 밝은 부분은 하얀 바탕 그대로 남기고 어두운 부분은 덧칠하는 기법을 구사한다',\n",
       " '이렇게 비움으로써 드러내고 채움으로써 감추는 수법은 빛의 역설적인 존재 방식과 공명하며 달빛이라는 표제와 일체를 이룬다 역설의 미학은 작가가 작품 활동 내내 변함없이 고수해 온 목탄이라는 재료적 속성에서도 엿보인다 죽은 나뭇가지를 태워 만든 목탄으로 살아 있는 자연을 묘사한 그의 작품에서 생 과 사 의 순환 고리는 하나로 연결된다 캔버스 위에 켜켜이 쌓아 올린 목탄 입자의 짙고 거친 물성 은 대자연에 내려앉은 유구한 세월을 의미하며 정서적 울림을 준다 무엇보다 작가가 직접 전국 각지를 돌며 이 땅을 지켜 온 고목이나 오랜 풍광을 찾아 정교하게 담아낸 점 또한 의미심장하다 상상이나 생각 속에 있을 법한 관념 산수가 아닌 그의 실경 작품은 우리나라에서 나고 자란 생명에 담긴 한국적 정신과 정서를 일깨운다 특히 이번 개인전에 전시되는 미터 높이에 미터 폭에 이르는 대작은 마치 실물 크기의 풍경을 전시장에 그대로 옮겨 놓은 듯한 착각을 불러일으키며 자연에 대한 경외감을 자아낸다 우리 산하의 야경을 남다른 시선으로 조명한 이재 삼의 개인전은 그야말로 달빛이 엮어 낸 서정성 넘치는 화편을 가려 뽑은 문집 anthology 과 다름이 없다 스페이스 K가 새해 첫 전시로 선보이는 이번 이재 삼 개인전에는 나만의 달력을 만드는 특별한 체험프로그램이 마련된다 관람객들이 새해의 소망과 다짐을 담아 목탄과 연필로 직접 그린 드로잉 작품이 함께 하는 달력 제작 프로그램은 무료로 진행된다',\n",
       " '김성호 매년 연말이면 캘린더의 계절이라고 할 만큼 다양한 캘린더들을 선물로 주고받으며 송구 영신 을 인사한다 올해는 세계경제 위기 속에서 여느 해보다 공짜 캘린더를 찾아보기 힘들 정도로 위축된 실물 경기의 흐름을 보여 주고 있다 하지만 지역 기업들에서 제작되어 배포되고 있는 캘린더에는 하나같이 지역 미술인들의 작품들을 담고 있어 어려운 환경 속에서 지역 문화 발전에 대한 배려를 느끼게 해 주고 있다 그 중 년 대구 백화점 캘린더 작가 인 선정된 서양화가 김성호의 원화전은 캘린더의 인쇄매체를 통해 받았던 감동을 원작으로 이어지게 해 준다 이번 원작 초대전은 대구 백화점 기획으로 대백 프 라자 갤러리 B 관에서 마련된다 밝음과 어두움의 경계에 있는 아스라한 빛을 통해 보이는 일상적인 풍경을 그리는 김성호 작가는 새벽의 표정을 풍부한 빛을 통해 빚어내는 작가로 국내외에서 인정받고 있는 작가이다 작가의 작품은 도시가 가진 다양한 면모를 그려낸다 도시의 중량감 거대한 존재감 실재감을 견고 하면서도 가볍게 터치해 낸 그의 풍경은 특유의 나이프 스트로크 knife stroke 로 살아나게 된다 그의 배경은 주로 낮과 밤이 만나는 경계선 상의 시간대 인 새벽이나 밤이다 작품의 배경이 되는 특정한 시간대는 주변의 어둠과 극명하게 대립되는 한정된 빛을 통해 형상을 확인할 수 있기 때문에 형상은 명확하지 않고 실루엣으로 인식된다 찰나의 순간이 내보이는 인상을 빛과 어둠의 조화를 통해 풍경으로 완성하고 그 느낌을 전달하고자 한 작가의 흔적들이 보이는 부분이다 이러한 작가의 작품 성향들은 불분명한 형상의 표현을 통해 작가는 구상과 비구상이라는 회화의 경계를 넘나들고 있다는 평가를 받고 있다 지역 출신의 작가로서 국내외에서 활발한 활동을 하고 있는 김성호의 이번 전시는 호 원작들과 소품들이 전시되며 카 렌 더 제작을 기념해 원화를 착한 가격으로 직접 소장할 수 있는 기회를 제공해 줄 예정이다 이번 초대전에는 여점의 작품들이 선보일 예정이다',\n",
       " '공상 류 승 환 캔버스 속에 등장하는 하나의 극소화된 인물들과 대비되어 더욱더 거대하고 극적인 자연 풍경들은 마치 손에 땀을 지게 하는 액션 영화의 한 장면을 연상시킨다 대중화되고 보편화되고 누구나 즐길 수 있는 영화처럼 회화가 재미나 졌으면 하는 작가 류 승 환은 자신의 머릿속 다양한 이야기들을 시각적으로 재미있게 읽을 수 있게 하는 그림 그리는 법을 터득하였다 자연 광경과 인간의 모습을 아주 적절하게 의도적으로 확대와 축소를 반복하여 한 장의 영화와 같은 회화로 구현한 류 승 환 개인전 New year New Artist l 공상 은 서정 욱 갤러리의 년 새해 기획전으로 진행되고 있다',\n",
       " '류 승 환 작가는 다양한 미술 장르 중에서도 가장 오래된 회화를 고집하고 기법 면에서도 가장 오래된 방법인 유화를 사용하여 그림을 그려 나간다 하지만 현대에 와 서의 회화의 기능에 대한 작가의 고민과 그의 새로운 시선을 투영한 엔터테인먼트의 요소를 갖춘 흥미진진한 회화들을 그려 내 어 기존의 다른 장르의 작품들보다 새로 울 수 있도록 중점을 둔다 어린 시절부터 작가의 꿈을 가지고 활동해 온 작가는 현재에 이르기까지 도전을 두려워하지 않았다 작가는 회화가 아닌 다양한 장르와 기법을 시도하고 탐구하여 현재의 회화의 방식으로 회귀하였다 쉽게 그려진 회화가 아닌 세상에 나오기까지 수많은 고민을 한 작가의 진심이 녹아든 그의 작품은 잘 짜여진 극본처럼 완성도가 높으며 언제든 보는 사람들에게 즐거움을 줄 수 있는 시각적인 스토리를 가지게 된다 수많은 이야기의 상상이 가득 한 그의 작품들은 작가의 특정 설명이 부여되지 않아 오히려 더욱더 극적인 상상력을 자극하도록 중점을 둔다',\n",
       " 'Unbeatable Colors 이주한 무등산은 년 도립공원 지정 여 년 만에 우리나라의 번째 국립공원으로 승격되었다 광주시민의 자랑이 아닐 수 없다 광주 신세계는 그 기쁨을 함께 하고자 광주 신세계 갤러리에서 무등산 국립공원 승격 기념 특별기획 전시를 준비했다 이번 전시는 사진작가 이주한 씨가 년부터 여 일간 담아 온 무등산 사진 중 대표작을 선별하여 보여준다 이 주한 씨는 천일 간의 촬영을 목표로 매일 같이 무등산을 필름에 작업을 해 오고 있었다 이번 전시는 작가가 목표로 한 것보다 일정이 조금 앞당겨 졌지만 애정 어린 시선으로 담아 온 작품을 통해 무등산의 아름다움을 함께 하고자 마련됐다 이 주한 씨가 담은 무등산은 사계절 다른 옷을 입고 산의 기운과 공기와 어우러져 시시각각 다양한 자연의 색을 담아내는 무등산을 작가만의 조형언어로 담아낸 작품이다 무등산의 무등 의 한자어는 더 이상의 등급이 없음을 의미하는데 이러한 의미와 작가 작품의 특성을 결합하여 전시의 제목은 무등산 Unbeatable Colors 더 이상 아름다울 수 없는 색들의 향 연 이다 이 주한 씨는 십여 년 간의 일본 미국에서의 유학을 마치고 년 귀국 이후 우리나라의 풍경을 컬러 사진으로 재 표현 하는 작업을 해 오고 있다 년 발표한 남도에서부터 남가 풍경 으로 이어지는 그의 작업에는 우리나라 남도에서 보여 지는 신한 국적 컬러에 대한 작가만의 재 표현을 통하여 한국에서의 뉴 컬러 사진작가로서 입지를 굳혀 오고 있다 무등산 시리즈 작품은 이러한 작가의 그간의 컬러에 대한 감성을 통하여 무등산이 매일 일출에서 일몰까지 만들어 내는 다양하고 변화 무상한 이미지를 대형 컬러 필름으로 담은 것이다 작가가 굳이 편리한 디지털 카메라를 마다하고 이제는 거의 사용을 안 하는 아날로그 방식의 촬영을 선택한 이유는 무등산이 빚어내는 자연의 색을 가감 없이 표현하고자 한 의도에 서였다 이 주한 씨는 이번 전시 이후에도 나머지 오백여 일 간의 촬영을 마무리하여 무등산 국립공원 승격 주년을 기념하는 전시를 갖고자 한다 나는 매일 아침 무등산이 밝혀 주는 일출을 필름에 담으며 하루를 시작한다 어느덧 나는 애써 수려하지 않은 산 그저 내 어머니 품 같이 넓고 인자한 그 산 그 무 등산을 닮아 가고 있는 듯하다 고 이 주한 씨가 작가 노트에 밝히고 있듯이 무등산은 광주시민의 벗으로 무척 익숙하다 하지만 작가의 시선에 의해 담긴 무등산은 그간 몰랐던 무등산의 신비로 움과 아름다움을 느끼게 해 준다 이른 새벽의 기운에서부터 시시각각 빚어내는 무등산의 색채에는 숭고함마저 담겼다',\n",
       " '권유 미의 꽃이 있는 정물 심상 의 꽃 갈망 의 꽃 꽃 은 자연의 아름다움과 경이로 움을 가장 잘 함축하고 있는 대상이다',\n",
       " '그래서 인지 오랫동안 작가들의 상상력을 자극해 오고 있는 주제이기도 하다 젊은 작가 권유 미는 이 오래된 주제에 집착하고 있다 그녀에게 꽃이라는 주제는 하나의 도전이었다 그 이유는 수세기를 걸쳐 화가들의 주제였던 꽃을 그린다는 것이 쉬운 선택은 아니었기 때문이다 그녀는 그렇게 도전하듯이 꽃을 자신만의 조형언어로 표현하기 위해 노력하였고 독특한 색채와 아름다움으로 장식되어 있는 꽃이 그녀의 작품세계 중심에 놓이게 되었다 권유 미는 꽃이라는 자연의 대상을 단순히 조형적 감각의 대상으로서 꽃을 단순화하지도 자연 그대로의 모방도 하지 않는다 작품에 등장하는 꽃들은 작가의 상상으로부터 추출된 것이다 그녀의 꽃들은 들에서 흔히 볼 수 있는 이름 모를 들꽃 같기도 하고 친숙한 장미나 백합 같기도 하다 이미 우리가 잘 알고 있는 친숙하고 익숙한 꽃이라는 착각을 불러일으키게 하는 그 꽃들은 현실과 비현실을 넘나들며 미묘한 매력을 발산한다 권유 미의 꽃은 심미안적 대상인 동시에 자신의 내면 세계이면서 우리의 내면 세계이기도 하다 그녀는 순수한 감성으로서 꽃이라는 사물에 접근하고 자신의 마음에서 울려 나오는 심적 감성으로 꽃이 가지고 있는 화려함 아름다움 꽃향기까지 시각화하고자 한다 다시 말하자면 그녀는 꽃의 형태적 외관을 사실적으로 그리는 것이 아니라 꽃이 전달하는 자연의 아름다움 경이로 움 생명을 표현하는 것이 일차적 목적이다 즉 꽃의 생태적 미학을 통하여 자연과 인간의 교감을 이야기하고자 한다 이와 아울러 우리의 내면 세계에 자리하고 있는 그리움 소망 꿈과 같은 갈망을 꽃이라는 매개체를 통하여 표출하고자 하는 의도도 가지고 있다 이러한 이유에서 권유 미의 꽃은 생태학적 미학의 담론과 작가 자신 또는 우리의 갈망이 투영되어 있는 꽃이다',\n",
       " '그렇게 탄생된 그녀의 작품은 정열적이고 매혹적이면서 여성스러움 따뜻함 동화적인 분위기를 가지고 있다 우리는 이 상충적인 이미지를 그녀의 작품에서 동시에 느끼게 된다 그것은 평면 적인 화면 빨강 파랑 검정 등 원색적 색채에 더 해진 흰색 분홍색 노란색 등으로 그려진 꽃 기학적인 문양이나 꽃무늬로 가득 한 커다란 꽃병과 기타 기물 로 이루어진 화면이 우리에게 깊은 인상을 전달하기 때문이다 작가는 마치 각각의 사물이 가지고 있는 형태적 내용보다 색채를 표현하고 장식성을 강조하는 데 주력하고 있는 듯하다 한편으로 우리가 강렬한 색 장식적인 문양들과 어우러져 있는 밝은 색의 꽃들에서 또 다른 이미지를 느낄 수 있는 것은 현실의 이미지가 작품의 주제 이면서 작품이 주는 이미지는 현실과 동떨어진 느낌을 주기 때문이다 다시 말하자면 다양한 구도와 꽃 화병 탁자 잔 주전자 등은 비현실적인 크기를 하고 있다',\n",
       " '그래서 마치 동화적 세계를 보는 듯하다 이렇게 권유 미는 독창적이고 섬세하게 꽃 과 정물 이라는 주제를 새롭게 재해석하고 있다 그녀는 전통과 현대의 정물화를 연구하고 대상에 대한 조형적 탐구를 통해서 자신만의 예술세계를 구축하기 위해 노력하고 있다 어떤 이는 다양한 주제 매체 기법을 끊임없이 탐구해 나가는 현대미술에서 정물화는 낡고 진부하고 시대에 뒤떨어진 미술의 장르라고 생각할지도 모른다 그렇지만 대학 졸업 후 꽃이 있는 정물에 집착하는 고집스러운 작가 의식과 그런 작품세계를 담고 있는 그녀의 작품은 향기로운 꽃향기를 풍긴다 그녀의 작품으로 인하여 꽃향기가 몸에 배어드는 것 같다',\n",
       " '불협화음 모든 사진에는 공존이 있다 존재와 부재 현실과 환상 진실과 허위 시간의 혼란 순간과 영원이다 우리는 그것들의 충돌 마찰 파열을 본다 이러한 역설이 진실을 잘 숨기게 한다 사진가는 현실과 불완전하게 만난다 차원과 시각만으로 보여주려는 사람들이다',\n",
       " '그렇게 남은 흔적이 이미지로써 진실에 접근한다 본 전시는 이러한 노력이 담겨 있다 사진가들은 사진의 모순적 속성을 통해 현실과의 불협화음을 보여주고 그 보이지 않는 이면을 드러낸다 거기에 보는 이들의 투영이 빛날 때 이미지의 깨어짐은 빛을 발한다 바르트는 사진이 단지 이미지일 뿐이라는 사실에 부딪혔다 그리고 다시 어떤 진실을 사진에서 찾았다 사진이 가지고 있는 이미지라는 속성 모든 의미에서 평평하다는 사실에도 불구하고 닮은 현실이 아닌 실재 reel 를 사진에서 발견할 수 있었기 때문이다 이미지의 본질은 내면의 사유보다 더 접근할 수 없고 더 신비하기 때문이다 그것은 명시적인 의미는 없지만 가능한 모든 의미의 깊이를 부른다 불협화음은 안 어울림의 어울림이다 이번 전시를 통해 모든 의미의 깊이 가 관객의 눈을 통해 드러나길 기대해 본다',\n",
       " '프라하의 추억과 낭만 체 코프라 하 국립 미술관 소장품 국립 현대 미술관은 유럽의 대표적인 미술관 중 하나 인 프라하 국립 미술관 주요 소장품을 소개하는 프라하의 추억과 낭만 체 코프라 하 국립 미술관 소장품 전 을 덕수궁 미술관에서 개최한다 년부터 년까지 체 코를 배경으로 활동한 주요 화가 명의 회화 작품 점을 엄선하여 선보인다 본 전시는 체 코 근 대기 주요 미술품이 한국에 소개되는 최초의 전시로 국보급 체 코 근대미술작품을 한 자리에서 만날 수 있는 흔치 않은 기회이다 세기 말부터 세기 초까지 격동의 역사를 거치며 구축된 체 코 근대 미술의 역사를 일목요연하게 다루고 있으며 뛰어난 문화적 역량을 지닌 체 코 예술가들의 진지한 작품세계를 조망한다 본 전시는 한국 미술계의 관심과 전시가 서 유럽 미술에 집중되어 왔던 상황을 벗어나기 위한 나아가 한국 관람객들에게 문화적 경험의 다양성을 제공하기 위한 취지에서 기획되었다 다양하고 풍부한 체 코 근대 미술의 현상을 압축적으로 보여주는 전시로 구성되며 체 코 근대 미술을 단순한 수준으로 범주화하는 것이 아니라 다양한 층위에서 인식하고 검토할 수 있는 기회를 제공하고 있다 체 코는 슬라브 보 헤 미아 등의 고유한 민족 문화를 바탕으로 일찍이 빈 파리 등지의 서유럽 문화와 교류하면서 뛰어난 문화적 역량을 지니게 되었다 미술과 더불어 음악 문학 등의 장르는 그 수준이 매우 높아 유럽 전역에 큰 파급력을 가졌으며 거 장의 숨결이 살아 있는 체 코 문화의 영향력은 시대를 넘어 오늘날 한국에까지 이른다 근 대기 체 코는 제국주의의 쇠퇴와 더불어 민족주의의 급부상 제 차 세계대전 발발 체 코 슬 로 바 키아 공화국의 탄생 사회주의의 대두 서구 근대 시스템의 도입 등과 같은 정치 사회적 격변기를 지나왔다 혼란의 시기 체 코의 미술가들은 새로운 관점의 변화를 택해 자신의 정체성에 대하여 끊임없이 자문하고 그것을 작품에 담아내고자 했고 힘들고 어려운 현실을 자발적으로 수용해 나갔다 체 코 예술가들의 진보적인 예술 활동은 외부의 자극과 충격에 노출되기 시작했던 대한 제국 일제 강점기 한국 미술가들의 정체성과도 맥락이 닿아 있다 관람객들은 체 코와 버금가는 정치 사회적 혼란을 겪었던 근 대기 한국 미술가들의 사유과정을 다른 각도로 해석해 보고 나 아가 세기를 살아가는 우리의 모습을 자문하는 시간을 얻게 될 것이다 이러한 맥락에서 전시기간 동안 야로 슬라프 올샤 체 코대사의 체 코 문화 강연 큐레이터 설명회 전시 연계 강좌 등 다양한 교육 문화행사가 진행된다 일정은 추후 공지 예정 전시 연계 강좌는 일반인 및 직장인들을 대상으로 월에 운영되며 전시 연계 강좌 교재도 제공될 예정이다 제 부 근대적 표현의 모색 세기 말 세기 초 체 코 근대 미술은 서구 유럽 미술의 영향을 받거나 프랑스 오스트 리아에서 공부한 화가들 로 인하여 서유럽 미술의 영향이 두드러지게 나타나는 시기이다 또한 그러한 외부의 수용과 체 코 내에서 활동하던 작가들의 발전이 어우러져 생동감 넘친 새로운 전통을 만들어 내 었다 년 프라하에서 개최된 노르웨이 화가 에 드바 르 뭉크의 전시회는 큰 반향을 일으켰고 젊은 체 코 화가들을 자극하여 입체주의적 시각 언어로 변형된 표현주의의 경향이 나타나는 결과를 낳았다',\n",
       " '년대에 등장한 체 코 큐비즘은 매우 독특하고 혁신적인 형태와 조형 어법으로 체 코 근대 미술에서 확고한 영역을 차지하게 되었다 지금의 체 코는 이전에 오스트 리아 헝가리안 제국의 일부로서 오스트 리아 문화의 영향을 받았던 지역이었던 만큼 어린 시절 쿠프카는 어린 시절 프로 이 트 클림트와 같은 문화 예술인 철학자들의 영향을 받았다 이상과 자기 성찰을 표현하기 위한 은유적 기법의 사용과 보편적인 진실을 강조하기 위한 상징주의에 대하여 관심을 가지게 된 것은 작가의 비교적 초기 시기부터 시작되었으며 이후에도 지속되었다 이 작품은 년 그가 그리스 고대 신화와 문화에 관심을 가지게 된 시기에 제작한 작품으로서 같은 해 살롱 도톤느에 출품한 작품이다 그림의 구성은 세 명의 미인이 가을 태양이 비추이는 황금 사과밭에 서서 태양을 바라보고 있는 도상학의 고전적인 주제이다 그는 그리스 고대 신화에서 모티프를 응용하는 상징주의 적인 그림을 다수 제작하였다 프란 티 셰크 쿠프카는 파리에 정착한 이후 극심한 가난에 시달리면서 포스터 삽화 등의 일을 이어 나가 던 중 년 유제니 스트롭 Eugenie Straub 을 만 나 사랑에 빠지게 되었다 유제니 혹은 니니 Nini 로 불리었던 아내는 쿠프카에게 깊은 영감을 주었고 그는 그녀를 모델로 하여 그림을 많이 그렸다 그들은 년 결혼하게 되었는데 이 작품은 그들이 결혼하기 전 동거할 당시 그린 작품이다 우연하게도 이 즈음부터 그의 작품이 인기를 얻게 되었고 이 시기부터 그의 양식은 추상 경향으로 전환하게 되는 중요한 국면을 맞이하게 된다 이 작품은 유제 니가 쿠프카에게 있어 아내 이자 영원한 뮤즈 임을 알리는 작품이다 적색과 녹색의 보색대비 극적인 명암효과 다소 거친 붓 터치 등 이 시기 쿠프 카 작품의 대표적인 기법을 잘 보여주고 있다 특히 쿠프카의 복장은 붉은색의 넓은 허리띠가 두드러진 체 코 민속의 상을 입고 있어 프랑스에 살고 있으면서도 체코인으로서 정체성을 잃지 않았던 그의 태도를 짐작할 수 있다 에밀 필라는 년 피카소와 브라크의 작품을 본 후 입체주의에 눈을 뜨게 되어 년 본격적으로 입체주의적 양식을 시도하였다 화가 이자 컬러 리스트로서 그는 대상의 묘사와 재현에만 치중하던 당시의 경향에 혼란을 느끼고 반기를 들게 된 것이다 이 작품은 여인들이 화면의 전면을 향해 서 있는 그림으로서 피카소가 아비뇽의 여인들에서 보여주었던 색감 화면 구성 등과 매우 유사하여 피카소의 영향이 컸음을 짐작할 수 있다 제 부 새로운 나라 새로운 표현 년은 제 차 세계 대전의 종전과 더불어 체 코 슬 로 바 키아 공화국이 독립하여 새롭게 건국한 해이다',\n",
       " '새 국가의 건국은 체 코 미술의 형식적 양상에 새로운 변화를 가져왔다 화가들은 새로운 시대에 맞는 새로운 미술의 형식과 기능에 대하여 고민하게 되었고 보다 독창적이고 전위적인 경향들에 관심을 가지게 되어 초현실주의를 비롯한 아방가르드 미술이 등장하였다 형식적 양상과 내용에 낙천주의적이며 유희적인 접근이 주입되었으며 다른 한편으로 진지한 사회주의적 주제 풍경화와 여성 누드와 같은 주제가 다루어 지기도 하였다 프란 티 섹 무지 카는 년대',\n",
       " '환상적 사실주의의 영향을 받은 사회주의적인 주제를 작품에 담아내고자 하였다 이러한 특징은 그가 참여했던 데 벳 실 그룹의 주된 성향이었다 체 코의 대표적인 아방가르드 그룹인 데 벳 실 Devetsil 의 회원 대부분은 미술 전시 이외에도 잡지 편집 삽화 및 영화 제작 타이 포 그래피 등 다양한 방면에서 활동하였고 이러한 활동이 작품에 영향을 미치기도 하였다 무지 카는 문학과 미술에 관심을 가지고 있었고 목가 적인 일상 생활을 시적 서정성이 가득 한 화면으로 전환하는데 관심을 두고 있었다 년대',\n",
       " '보후밀 쿠 비쉬 타의 작품에서 큰 영향을 받았던 무지 카는 뛰어난 색채감각을 바탕으로 한 표현주의적 양식을 전개하였다 이 작품은 똑같은 푸른색의 옷을 입고 있는 세 자매를 그린 그림으로서 청색과 갈색이 조화롭게 사용되어 포근한 가정의 분위기를 잘 표현하고 있다 마치 하나의 이야기를 들려주고 있는 듯 연극적이고 서 사적인 요소를 지니고 있는 그의 특징이 잘 드러나고 있다 년 대 프롤레타리아로서 사회주의의 영향을 받은 밀로 슬라프 홀리는 보통사람들의 일상을 다루었고 프라하 슬럼 가로 부터 모티프를 가져왔다 사회적 현실에 눈뜨게 되면서 자신이 목격한 일상을 재현하고자 하였는데 여기에는 표현주의적인 색채와 명료한 형태 감을 바탕으로 하고 있다 이 작품은 전면에 늙은 여인이 등장하고 있는데 뒤에 서 있는 남자의 동작과 배경 그들의 복장으로 인하여 그들이 어 딘가 에서 근무하고 있는 상황 임을 짐작할 수 있다 테이블 위에 포갠 두 손 굳게 다문 입술과 정면을 향해 응시하는 눈빛을 통해 건강한 노동자로서 자부심을 느낄 수 있다 시대의 기록이라는 관점에서 철저한 사회주의적 사실주의에 입각한 작품으로 그의 대표작 중 하나로 손꼽힌다 레트 나는 프라하 성 인근에 위치하여 프라하의 역사지구를 내려다보는 언덕으로 큰 공원이 있어서 많은 사람들이 즐기는 곳이다 이 작품에서 인물 건물 거리 풍경의 형태가 간결한 색채와 선으로 단순하게 처리되어 있으며 레트나 공원의 일상적인 모습이 매우 정감 있게 묘사되어 있다 그녀는 도시 근교를 다룬 작품에서 거리를 거닐고 있는 사람 집안에서 있는 사람 그리고 나무 위에 올라가 있는 사람이라는 독특한 설정을 즐겨 그렸는데 이 작품에서도 그러한 특징이 잘 드러나고 있다 그녀는 특히 프로 레 타리 아 미술의 개념을 표방했던',\n",
       " '이리 볼 커 Jiri Wolker 의 문학작품에서 많은 영감을 받았는데 이러한 특징은 작품에서 마술적인 사실주의로 나타났다 이리 볼 커는 년 체 코 공산당의 설립 멤버로서 시인 이자 희곡작가로 활동하였다 그녀는 체 코 아방가르드 미술가들과 친했는데 그중에서도 특히 데 벳 실 그룹과 각별한 관계를 가졌다 이러한 영향 아래 그녀의 작품은 현대사회에서 사회적으로 차별당하고 무시되던 개인과 계층의 삶과 정신에 대한 동정심에 기인하고 있다 제 부 상상력의 발산 많은 화가들은 다양성을 잃지 않는 가운데 자신들의 작품을 서 유럽 미술이나 서로 다른 체 코 화가들의 작품과 차별화하고 전체주의의 권력에 저항하려는 시도를 모색하였다 그리하여 이데올로기로부터 초월하려는 태도를 바탕으로 자유의 추구와 인간성의 회복과 같은 주제를 담고자 하였고 감성적이고 유머러스한 작품들도 대거 등장하였다 이 시기 동안 체 코 근대 회화는 묘사의 대상으로부터 분리되었고 화가들의 독자적인 개념과 표현이 확고하게 자리 잡아 추상 미술이 본격적으로 등장하게 되었다 상상력이 넘치는 초현실주의적 그림은 제 차 세계대전의 비극을 초래한 정치적 사회적 상황에 대한 우려를 나타내고 있다 프란 티 셰크 야 노우 셰크의 작업은 초기에 양식상으로는 입체주의로부터 시작되었으나 년대에는 비현실적 공간 속의 유기적인 형태를 통해 초현실주의적인 특징을 보여주었다 이 작품은 담배를 피는 사람의 모습을 표현한 작품인데 신체의 부분 담배 담배연기가 각각의 조형성을 가지고서 분절되어 나 타 나있 다 이러한 부분들은 분절된 상태이지만 서로 연결되어 어떤 이야기를 만들어 낸다는 점에 있어서 그가 초현실주의자들과 다른 지향점을 추구하고 있었음을 알 수 있다 그의 작품은 점차 시간이 지날수록 더욱더 흐르는 형태로 변화하였고 화면을 가득 채우면서 마침내 이미지의 구상적인 기초 형태가 완전히 사라지게 되었다 요 세 프 시마는 년 대 데 벳 실 그룹의 영향을 받아 추상미술을 접하였고 프랑스에서 예술운동 에스프리 누보의 미학을 접하였다 또한 년대',\n",
       " '말부터 초현실주의를 알게 되면서 빛을 소재로 하여 단순하면서 환상적인 형태 감을 작품에 도입하였다 그리하여 년대 초부터 모든 이들에게 보편적으로 이해되는 모티프로서 빛과 구름을 전면으로 내세운 풍경 그림이 등장한 것이다 그에게 작품의 영감은 인체 풍경 신화 등에서부터 사회적인 주제 기하학적 추상 자연으로부터 얻어 지는 감각적인 경험에 이르기까지 다양하다 이러한 요소들을 바탕으로 하여 그는 인간이 만들어 가는 운명과 필연적으로 접하게 되는 자연에 대한 시각을 종합하고자 하였다 그의 복합적인 풍경 작품은 인간 자연 우주의 관계성에 대한 탐구의 통합적인 결과인 것이다',\n",
       " '에 밀 필라는 년부터 입체주의의 영향으로부터 점차 벗어나려고 시도하였고 선과 형태에 표현주의 적인 요소를 적극적으로 도입하였다 회화와 조각을 동시에 진행하면서 보다 창의 적인 사고를 나타내려 한 결과 년대에는 인간과 동물의 싸움이라는 주제에 대하여 관심을 가지게 되었다 이와 같이 서 사적인 이야기를 보여주는 화면은 세기 시인 카 렐 야로 미르 에 르 벤 Karel Jaromir Erben 의 낭만 시에게서 영감을 받았다 카 렐 야로 미르 에 르 벤 은 체 코 신화 민화를 수집하여 책으로 발간하거나 혹은 낭만 시를 저술함으로써 체 코 전통 민속문화에 대한 새로운 관심을 이끌어 내 었다 그리하여 드보 르 작의 음악에도 영향을 주는 등 세기부터 세기에 이르기까지 체 코 문화 예술인들에게 큰 영향을 미쳤다 또한 에 밀 필라는 이와 같은 년대에 잔혹한 주제의 그림을 통해 파시즘에 의해 위협 받고 있던 당시 상황에 대하여 맞서는 저항적 의지를 고취하였다 이러한 저항적인 태도와 그림들 로 인하여 그는 독일 나치 점령 기간 동안 체포되어 수용소에 수감되었다',\n",
       " '부활 유 숙자 유 숙자 작가는 만물 창조의 시원으로 거슬러 올라가 창세의 원점에서 창조의 본질을 더듬어 좇아가며 모든 물질 Materiality 과 물체 Substance 의 존재를 공간 Space 으로서의 기 와 시간 Time 으로서의 기 의 관점에서 포착하고 궁극적 화합 Harmony 을 지향하면서 운동력 생기 Energy 가 빚어내는 소생 Revival 에 대한 무수한 관계 Relation 의 형태를 화폭에 표출하는 작업에 몰입해 왔다 작가의 작품들이 주는 일종의 해방감은 다양한 형태와 소박한 색조를 지닌 개체들 간의 연계성이나 관계성을 어떠한 형식이나 경향을 배제하고 의 사유의 공간성 을 극대화하는 자유 표현 을 단행했기 때문인지 모른다 기 의 관점에서 와 지와 수 의 결합관계 기 의 관점에서 와 거 와래 의 결합관계를 파고들며 창조의 근원에 바짝 접근하고 있는 작가의 작품들에서 화를 향한 관 의 기 가 뜨겁게 뿜어 져 나오고 있는 것이다 이 뜨거운 열기로 탄생한 작품들 앞에 서면 어느덧 겸허 해지고 한없이 작아지는 자신을 발견한다 작가는 작품을 위해 흙이나 모래 시멘트 같은 천연 토재 를 많이 쓰는데 창조의 원천을 표출하는 작업에 이만한 소재가 지구상에 달리 어디 있겠는가',\n",
       " '특히 땅과 물이 만나는 접점에서 채취하는 모래를 작품 속에 투입하는 것은 의 창조 의 세계를 의 창작의 화면 에 입 체화시킬 수 있는 탁월한 선택이며 특별한 안목이다 작가는 기교를 부리거나 꾸미지 않는다 천연 토 재로 조형적 질감 을 뚜렷이 생성시키는 우직하고 과감한 나이프 기법 은 작품 하나하나에서 생동감 곧 생기를 뿜어낸다 작품에서 자주 보이는 스퀴즈로 밀고 나간 자국 그것은 불현듯이 빠져나간 어떤 생명체를 우리에게 추억 화 시키면서 보는 자의 안타까운 가슴을 강하게 때린다 캔버스에 생명체의 형상을 일체 명시하지 않고 어떤 움직임의 흔적만을 보여주는 해체적 수법 은 보는 자들에게 상상의 날개를 무한히 펼치게 한다 정말 멋있다 한없이 붓으로 지우고 덮었던 수많은 흔적은 감정이 있었던 자리이기도 하고 잊혀 진 자리이기도 하지만 분명히 존재했었던 어떤 자국을 허전하게 그리고 생생하게 남기고 있다 작가는 틈날 때 기분 날 때 조금씩 작품을 그려 가는 그런 사람이 아니다 작품에 들어갈 때는 집을 떠나 자연 속에 칩거하며 어렵사리 터져 나오는 소중한 영감을 붙들고 작품에 영성을 불어넣는다 작가의 독특한 창성 은 이처럼 영성에 맞닿아 있기에 그녀의 작품은 우리를 자유롭게도 만들고 평화롭게도 만들며 엄숙하게도 만드는 묘한 정신적 힘 Spiritual Power 을 품고 있는 것 이리라 과연 그림 하나가 이처럼 미묘한 상 을 표출할 수 있으며 이처럼 심오한 상 을 허용할 수 있는 것일까 추상화가 그런 것이라고는 하나 그녀의 작품에서 분출되는 과 상과 상 의 풍성함은 각 의 경지로까지 몰아가는 마력을 지니고 있다 언젠가 작가는 이런 말을 했다 나의 그림 그리는 작업은 평화를 갈망하는 궁극적 방법이다 욕심을 빼낸 창조의 여백 속에 상상의 놀이터를 만들어 작품을 보는 모든 사람과 함께 자유롭고 평화롭게 뛰놀고 싶다라고 작가의 작품세계의 특징은 다른 추상화들과 는 달리 그린 자 와 보는 자 의 해석이 분리되지 않고 함께 의 심연에 맞닿는 동일한 정신세계를 공유한다는 점이다 무엇보다도 자연의 신비한 모든 생명체들에게 다양하게 얽혀 진 관계가 화합으로 소생되어 자연과 인간의 삶이 화평하게 되기를 간절히 소망한다 는 작가의 소중한 염원은 세상과 소통 하고 싶어 하는 그녀의 소탈한 꿈이 자 따뜻한 메시지이다 작가의 작품을 응시하고 있노라',\n",
       " '면 깊은 사색의 블랙홀 로 빨려 들어가는 자신을 느끼면서 스스로를 자정케 하고 겸허케 하는 신비한 정기 가 노출된다 이는 작가 역시 사색의 심연에서 영감을 얻어 작품을 창조해 내 었기 때문이 아닐까 그의 작품 앞에서 숙연 해질 수밖에 없는 이유가 여기에 있다 오호라 면벽 수도 가 아니라 면 화수도 로다',\n",
       " '작가의 창작품들 로부터 감수될 무한한 깨달음 각 은 오직 보는 자의 넋 이 갖는 몫 이리라',\n",
       " 'Grow out 우수 대학원생 지원 전 으로 시작하여 Grow out으로 타이틀을 변경 신진작가 발굴 공모전을 개최한지 어느덧 회를 맞이한다',\n",
       " 'Grow Out 이란 새롭게 싹이 움트다 는 뜻으로 미술계의 걸음을 내딛기 시작한 젊은 작가들의 꿈틀거림을 의미한다 자신만의 창조성으로 미술시장에 걸음을 내딛는 젊은 작가들에게 전시의 기회를 주고자 마련된 공모 전이다',\n",
       " '한해의 시작을 알리는 월에 첫걸음을 내딛는 십여명의 작가들과 그룹 전으로 진행된다 회를 맞는 올해의 공모에는 고문 교수님 및 외부 심사를 통해 인이 선정되었고 주간 부에 거친 일정으로 진행된다 회화 명 도자 명 사진 명 과 같은 다양한 장르의 작가들이 참여하여 Grow out을 빛 내 준다 참여 작가 김 오 김수영 박 보영 Moon LEE 이 주연 서 예원 성치 영 송 영선 장 서 희 일간의 전시 후에는 Awards 인을 선정하여 년 하반기 기획 초대전을 갖게 될 예정이다',\n",
       " '일 년에 걸쳐 진행되는 Grow out 프로젝트는 장기적이고 신중한 작가 발굴을 의미하며 젊고 유망한 작가들이 더욱 많은 관객들과 공감 할 수 있는 자리를 만드는 기회가 되고 있다',\n",
       " 'The K Gallery는 앞으로 신진 작가들을 위한 체계적이고 구체적인 안을 바탕으로 국내 뿐만 아니라 국 외의 미술 시장에도 데뷔할 수 있도록 버팀목이 되어 줄 것이다',\n",
       " '귀한 사람들 김영일 김영일 작가는 사진가 이면서 동시에 국악 음반사를 운영하고 있는 특별한 이력의 소유자이다 국내 최고의 초상사진 전문 사진가로 활약하다가 국악의 매력에 빠져 전국 각지를 돌며 우리의 소리를 담아 왔다 작가는 카메라로 보는 것 을 담는 것과 녹음기로 듣는 것 을 담는다는 것이 다르지 않다 고 말해 왔다 이번 전시를 구상 하면서 김영일은 조선시대 초상화가 세계적으로 유례를 찾아보기 힘들 정도로 미세하고 정 교 하다는 전통을 자랑하지만 그 중에 여성을 그려낸 초상화가 조선 역사를 통틀어 세 점에 불과 하다는 사실과 이후로도 이 땅의 여성을 특별히 기록하고 보여준 적이 없다는 점에 주목했다 이번 전시를 통해 사회 구성원의 절반인 여성의 이미지를 재조명하며 오늘날 즐겨 입지 않게 된 않는 한복을 우리나라 대표 의상으로 공공연히 내세우고 있다 바로 우리 음악을 연주하는 국악인 들을 통해서 이다',\n",
       " '그들은 오늘도 우리 옷 한복을 입고 연주하며 새로운 문화를 지속적으로 생산해 내고 있다 귀한 사람들 은 사진 작품으로 구성된 Part I 이십 년 간의 인연들 과 Part II SNS를 통한 일주일의 인연들 동영상 작업으로 이뤄 진 Part III 그리고 SNS를 통해 전시를 공유 확산하는 Part IV 로 구성된다',\n",
       " 'Part I 에서는 지난 이십 년 간 작가와 음반 작업을 해 온 국악인들의 초상 사진들을 사진관 사진 형으로 전시 필름작업 하고 Part II 에서는 SNS를 통해 찰나의 시간 친구 신청 친구 수락 인연 시작 Two Click 동안 만나게 된 새로운 인연들에 주목 디지털 업 하고 있다',\n",
       " 'Part III에서는 이번 전시의 밑그림으로서 여성 한복의 현재적 의미와 제작 과정을 기록한 동영상 작품을 상영하여 옷 의 화두로부터 출발하며 원형을 잃어 가는 한복의 실재에 대해 주목하고 그 아름다움을 재발견한다 아울러 Part IV 는 전시기간 주 동안 전시장 내에서 이어지는 국악 공연을 기록하고 그 내용을 온라인 미디어 페이스 북 유 투브 팟 캐스트 등 를 통해 전시장 관객을 포함한 국내외 대중과 공유 및 전파할 수 있도록 한다 우리 옷을 입은 초상의 주인공들이 사진으로부터 걸어 와 직접 소리를 할 뿐 아니라 그것을 미디어를 통해 공유하여 그가 담아 온 것 들을 무한 장하고자 하는 것이다 이처럼 귀한 사람들 은 의례와 의례의 수행성에 수반되는 미장 센 은 물론이고 그것을 구연하는 언어적 특징과 미학적 척도를 다시 살펴봄으로써 한옥과 한복 그리고 전통음악이라는 담론들이 의례적인 것으로 고사되지 않고 동시대적인 의미로 이해될 수 있는 가능성을 확인하고자 한다',\n",
       " '전통의 울림 전통의 힘은 새로 움에 있다 새롭지 않으면 전통의 근본 적인 핵심을 잃고 만다 전통이라는 것은 과거의 것을 답습하는 것을 말하는 것이 아니라 과거의 어떤 결과를 바탕으로 새로운 길을 전개시키는 것을 의미한다 예술은 창작을 최고의 가치로 여긴다 그러므로 예술작품은 어떠한 형태로든 남과 다른 옷을 입어야 한다 더구나 옛것의 이미지가 조금이라도 연상되는 작품이라면 더욱더 예전의 그 무엇 과도 다르게 구별되는 것이 있어야 한다 년의 첫 기획 전은 전통에 대한 현대의 관점을 보는 전시이다 우리의 전통문화를 어떻게 승화시켜 가는지 명의 작가가 무엇을 말하는지 작품으로 느껴 보도록 하자 박 영 길의 자연은 거대하면서도 따스하게 다가온다 인류가 살아가는 터전인 자연은 세상 모든 공간을 차지하고 있다 그렇다고',\n",
       " '위압감을 갖게 하거나 공포를 안겨 주는 게 아니라 오히려 어머니 같은 편안함을 쉼 없이 제공하고 있다 자연은 늘 그 자체로 존재하면서 각 시대의 다양한 사람을 품어 주었다 전통 산수화에서 가장 중요한 부분은 인간이 머무는 대자연에 대한 사랑과 경외이다 우리가 너무 당연하게 받아들여 쉽게 잊고 사는 자연과 인간의 관계를 과거의 전통 산수화와 다르게 해석하고 표현하는 것이 박 영 길 작품의 특징이다 서 정국은 올곧음에 대한 이야기를 풀어내고 있다 작품에서 보여 지듯 스테인레스 스틸 파이프가 몇 차례의 마디로 길게 연결되어 있는 것은 올곧음에 대한 힘을 강조하는 역할을 한다 또한 일정한 배열에 머물지 않도록 하는 요소 또한 마디의 역할이다 이것은 멈춤과 시작을 반복함으로서 무한의 에너지를 얻어내는 상승효과를 보고 있다 서 정국의 작품은 사소한 곁가지를 제거하고 정제 된 말을 하듯 정갈하다 눈에 보이는 대나무의 형상은 다만 상식의 범주로 생각하기 때문일 것이다 서 희화의 작품 이미지는 과거를 다시 돌아보는 것처럼 고전적이다',\n",
       " '하지만 작품의 재료를 알고 나면 전혀 뜻밖의 것임에 놀라게 된다 작가는 플라스틱 접시 장난감 조각 핸드폰 케이스를 바탕 삼아 전통미를 재현해 내고 있다 결과적으로는 형상이 갖는 비중이 크다 보니 새로 움에 대한 한계에 부딪히는데 이를 극복한 방식이 설치에 있다 설치공간에 따라 다른 느낌을 갖도록 하는 형상의 해체가 재미적인 요소로 작용하고 있다 송운 창의 작품은 불규칙한 크기의 철조각이 하나하나 연결되는 과정을 거쳐 커다란 조형물이 된다 정확하게 계산되지 않는 철조각의 조합은 작가에게 매 순간 고민을 안겨 준다 작품의 제작 과정은 삶의 복잡함과 근원적 고뇌를 표현하고 있다',\n",
       " '그러면서도 결국 아름다운 삶이라는 것을 작품의 완성을 통해 보여주고 있다 우리에게 주어진 조각 같은 시간들이 겹겹이 쌓이고 그 안에서 벌어지는 크고 작은 일들이 자신이 살아가는 모습인 것이다 그것이 어떠한 결과를 갖게 되든 상관없이 말이다 임 현경의 풍경은 분재 마냥 다듬어 만들어 진 느낌이다 작가는 과거의 민화풍 방식에 자신의 이야기를 담아내면서 그만의 평화로운 세계를 그린다 민화 자체가 주는 정서적 안정감을 식상하지 않게 현대적으로 해석하는 그림이다 거창하지 않고 화려하지 않으면서도 모두가 행복할 꿈 같은 현실이 화면을 가득 메운다 태초부터 존재하는 자연 속으로 돌아가 머물고 싶은 희망적인 풍경이 바로 임 현경의 풍경인 셈이다 장 세일 조각의 특징은 직선과 곡선의 조화로운 합체에 있다 지신의 형상은 일정한 규칙에 의해 만들어 졌다 직선의 면 은 축약되어 있는 부분이고 곡선의 면은 현실성을 반영한다 몸통은 면으로 함축되었고 신체의 끝 부분은 원래의 형태에 충실 하다 작품에는 두 개의 세계를 한 공간에 합쳐 놓아 조각 공간의 유기적 조화를 이뤄 내려는 의도가 엿보인다 또한 지신상에 컬러를 입힌 캐릭터화 시도 역시 과거와 현대라는 두 세계를 한 곳으로 모으려는 노력이다',\n",
       " '사실 예술에서의 창작은 완전히 새로운 것이라 할 수 없고 다만 작가 개개인의 다양한 생각이 투영된 정도의 차이가 있을 뿐이다 작가는 소재 기법 재료 등으로 전통의 틀을 극복하면서 자신의 삶을 구축해 나간다 바로 이러한 결과 물이 예술작품이다 예술작품은 개인의 이야기인 동시에 긴 역사 속의 어느 한 찰나를 비교적 명확하게 포착해 낸다 이번 전시는 전통과 현대가 어떤 화합을 이루고 있는지 또한 선조들의 숨결이 깃든 문화유산과 얼마나 공존하고 있는지를 확인해 볼 수 있는 기회다',\n",
       " '우리의 생활은 전통과 단절되어 시작할 수 없으며 오히려 끊임 없이 전통과 현대를 잇는 사이에 존재하는 것이다 전통은 알 수 없는 미래까지 연결되는 고리이다',\n",
       " '노 혜 영 프로 이드에 의하면 인간은 어린 시절의 잃어버린 세계로의 회귀를 열망하고 또 실제로 꿈과 같은 경로를 통해 회귀하기도 하고 예술은 체험에 의해 과거로 돌아갈 수 있는 하나의 통로를 제공한다고 한다 나의 작업은 이러한 맥락적 관점과 유사 하다 나의 작업의 출발점은 유년 시절의 좋은 기억들이 가득 한 곳인 숲 속을 중심으로 과거로의 회귀 또는 다시 가보고 싶지만 자유롭지 못한 현실에서 꿈을 꾸며 그리움을 치유 하고픈 욕구에서 비롯되었다 나의 작업의 주제는 꿈꾸는 이상향 이다 이상향 유토피아 이란 동 서양에 따라 여러 가지 의미로 해석될 수 있겠지만 일반적으로 현실에는 존재하지 않는 이상의 나라 또는 이상향 을 가리키는 말로 통용된다 즉 이상향 은 인간이면 누구나 한번쯤 꿈꾸어 보는 사막의 오아시스 같은 동경의 세상이라고 할 수 있다 이러한 의미의 연장 선상에서 나의 작품에서의 이상향은 우리가 항상 꿈꾸며 갈구하는 세계 또는 따뜻하고 포근한 엄마의 품 같이 사랑이 넘치는 곳 그리고 어떠한 어려움과 시련이 와도 극복해 낼 수 있는 희망과 긍정의 공간을 의미한다 우리들은 각박한 세상을 살아가며 느끼는 고독과 슬픔 그리고 고통으로 힘들어 하고 지칠 때 언제든지 기댈 수 있는 따뜻하고 편안한 엄마의 품과 같은 보금자리를 필요로 한다 나는 이와 같은 현실의 아픔을 나의 작업을 통해 포근하게 안아 주고 싶다 나는 어릴 적 시골에서 도시로 상경해 혼자 생활하면서 느꼈던 외로움과 쓸쓸함 고향에 대한 향수 그리고 엄마의 따뜻한 보살핌에 대한 그리움 등으로 많이 힘들었던 적이 있었다 나의 작업 속의 숲은 이러한 힘든 세상 속에서 삶을 지탱하게 하고 긴 인생에서 삶을 가치 있게 해 주는 상징적 공간이라고 할 수 있다',\n",
       " '사랑 나눔 작은 그림 년 새해를 맞이해 서울 인사동 리 서울 갤러리에서 유명 여류작가들의 소품 전이 열립니다',\n",
       " '한국 여류 화가협회 소속 인 이 점 씩 출품한 이번 소품 전은 사랑 나눔 작은 그림 이라는 주제로 월 일부터 일까지 주간 진행됩니다',\n",
       " '호부터 호까지의 작은 그림들 로 작가의 정성이 담긴 우수한 작품들입니다',\n",
       " '가격도 만원에서 만원 사이로 저렴하게 책정해 미술 애호가들에게 부담 없는 소장의 기회를 제공해 드리는 값진 전시회입니다',\n",
       " '꿈과 사랑을 깨우다 은은한 청회색의 화면 속에 단정하게 놓여 있는 사물과 흩어지는 작은 꽃잎들 가만히 들여다보고 있으면 잔잔한 호수를 들여다보는 것 같다 화면의 중앙에 자리 잡은 항아리 반닫이 소반은 지나치게 크지도 작지도 않은 딱 적당한 크기로 화면의 여백과 조화를 이루고 있다 너무 많지도 적지도 않은 흩날리는 꽃잎들은 정적인 화면에 조용한 움직임으로 율동감을 주고 있어 그림을 보고 있으면 살랑거리는 미풍이 느껴지는 듯하다 요란하거나 소란스럽지 않은 청자 색조가 주를 이루고 있어 차분한 안정감을 주는 작품은 은박과 금박 진홍색이 적절하게 강조되어 생동감도 함께 느끼게 해 준다 무엇보다 작품의 주를 이루는 한국적인 일상적 소품들과 기와 풍경은 한국적인 정서의 차분한 아름다움을 보여주고 있다',\n",
       " '류 은 경의 작품에서 보이는 작가의 내면 세계는 잊고 있던 꿈을 일깨워 준다 바쁘고 각박한 일상생활 속에서 자신도 모르게 슬그머니 놓아 버린 순수한 꿈의 세계 외적인 자극들에 둘러싸여 모른 척 지나친 내면의 소리가 들린다 그 내면의 소리는 삶에서 정말 중요하고 소중한 것 들이 무엇인지 묻는다 그 물음은 작가가 우리에게 묻는 물음 이자 작가 스스로가 집요하게 놓지 않았던 물음이 기도 하다 그 물음에 대한 답이 작품 속에서 들려온다 무겁게 어깨를 누르고 있던 삶의 짐들을 내려놓으라',\n",
       " '고 모른 척 지나쳐 버린 작고 사소한 것 들 속에 숨어 있는 아름다움을 느껴 보라고 하지만 작가는 삶의 치열함과 고단함을 부정하지 않는다 오히려 꿈과 공존하는 현실의 생활을 한 단계 승화시키는 노련함이 보인다 언젠가 식구들의 밥을 올려놓았을 밥상 철마다 차곡차곡 옷을 개서 넣어 두었을 반닫이 포근한 잠자리가 있었을 집의 돌담 선반 위의 그릇들 그리고 그것들과 함께 공존하는 물고기 나비 꽃 나무들 문명과 자연이 공존하는 그림 속에서 우리는 일상의 소중함과 꿈의 아름다움을 함께 느끼게 된다 또한 작품에서 보이는 사물들은 한국적인 정서가 느껴지는 소박한 물건들이다 사회적 존재로서의 인간이 가지고 있는 민족적인 정서는 특정 집단에서 오랜 세월에 걸쳐 내면화 된 집단의식이 기도 하다 한국적인 정서 역시 겉으로 요란스럽게 드러내는 경박스러운 화려함보다는 은근하고 차분하게 감추어 진 신중함으로 표현되는 정서이다 오랜 세월 외세의 침입과 크고 작은 변란 속에서도 꿋꿋하게 자신의 자리를 지키며 견뎌 온 민중의 생명력은 어쩌면 그런 은근한 끈기 속에 있는 것인지도 모른다 무게 감 있게 화면의 아래를 차지하고 굳세게 버티고 있는 옷 궤를 보면 그 옷 궤 안에 스며 있을 한국인의 삶의 진실이 전 해져온다 그림은 눈으로 보는 것이 아니라 마음으로 보는 것이다 마음으로 보는 그림은 사물의 상징적인 의미를 넘어선다 전체 구조와 색감 직선과 곡선의 어우러짐 정적인 느낌과 운동감의 조화 등등 그림을 통해 전해 지는 아름다움의 느낌은 예술 작품이 갖는 의미를 생각하게 하고 그런 의미에서 류 은 경의 작품은 아름다움을 체험하게 하는 보편적인 정서를 일깨운다 꿈에 대한 간절한 그리움이 사랑으로 표현되고 그 사랑은 화사한 꽃이 흩날리는 바람 속에 선 여인으로 형상화되고 있다 그 여인은 작가 자신 이도 한 동시에 아픔을 사랑으로 승화시킨 여성들의 모습이 기도 하다 꽃은 여인의 아름다움을 장식하기 위한 장치 라 기보다는 여인이 생산 해내는 사랑의 열매이기도 하다 작품들 속에 일관되게 흐르고 있는 꿈과 사랑이 작가가 지향하고 있는 강력한 메시지 임을 어렵지 않게 읽어 낼 수 있는 이유도 꿈과 사랑이야말로 우리 모두에게 간절한 소망이기 때문인지 모른다',\n",
       " 'MIXedCONtemplation MIXedCONtemplation 뒤섞인 사색 전은 이경복 조 현선 한 준희 작가의 인전으로 세 작 가의 페인팅에 대한 서로 다른 방식의 접근을 한데 묶은 전시이다 이 세 작가들은 모두 드로잉 페인팅을 작품의 근간으로 삼고 있지만 페인팅 기법과 소재를 해체하여 재구성하는 알고리즘 이를 표현하는 디테일의 알레고리에서 모두 현격히 갈라지는 각자 개성의 층위를 보여준다 이경 복 작가는 페인팅의 재현적 역할을 기반으로 타인의 물건들을 수집하고 그림으로써 그들의 정체성을 모색하고 조 현선 작가는 추상과 구상의 경계에서 일상의 풍경에서 발견한 순간들을 여러 레이어를 통해 추상화 시키는 작업을 하며 한 준희 작가는 완전한 추상을 추구하며 페인팅이라는 행위와 마크 메이킹 컬러 등을 연구한다 하지만 이 세 작가들은 모두 페인팅과 보는 것 의 관계에 대해 탐구하고 있으며 현 시대에 페인팅이란 어떤 의미 인가를 깊이 생각하며 작업하는 사유를 공유한다는 점에서 닮았다 이번 전시에 포함된 세 작가들의 작품을 통해 관객들이 보는 것 과 페인팅 그리고 사색 이라는 키워드에 관해 생각해 볼 수 있는 기회가 되길 바란다',\n",
       " 'Cell Cloning 최서 윤 최서 윤은 펠트 felt 를 소재로 한 섬유 작가 다 그는 젊은 섬유 예술가로서 현대 미술과의 연계뿐 아니라 현대 공학을 요하는 소재개발에 대한 시도 등 실험적 관점에서 섬유를 통해 다양한 시도를 하고 있다 그는 세포 복제 를 모티브로 한 디지털 프린팅 펠트 작업을 선보인다 이렇듯 섬유를 바라보는 관점에 있어서 동식물 학적인 접근으로 탐구해 나가는 작가에게 섬유는 하나의 생명체 이자 탐험해야 할 우주와도 같은 대상 으로며 작가로 하여금 새로운 시도를 유도하는 매개체이다 최서 윤이 보여주고자 하는 것은 단지 결과물이 아닌 섬유라는 소재를 통해 접근해 가는 방식과 과정 그리고 고민에 대한 흔적이며 그것과 함께 나타나는 결과적 다양성에 대한 시도 라 볼 수 있다',\n",
       " '하늘 미학 Sky Aesthetics IV 송은 주 유 중 아트센터 층에 위치한 휴게 공간 카페 드 유중 전시장에서는 송은 주의 개인전 하늘 미학 Sky Aesthetics 을 전시한다 송은 주는 이화 여대와 홍익 대 대학원에서 서양화를 전공하고 이화 여대 대학원 디지털 미디어 학부에서 영상 미디어 전공으로 박사학위를 취득했다 금호 미술관 논밭 갤러리 인사 아트센터 예술의 전당 한가람 미술관 종로 갤러리 관 훈 갤러리에서 개인전을 개최하였으며 여 회의 단체전에서 참여하였고 서울 시립 미술관에 작품이 소장되어 있다 성남 시립 교향악단 정기 연주회 한 모음 실내 악단 연주회 가야금 독주회 등에서 영상 연출 및 제작을 하였다 하늘 미학 Sky Aesthetics 은 인간이 시각적으로 접하는 하늘 이미지를 자연의 흔적과 함께 미학적 차원에서 표현하고자 함 공간 성과 시간성을 내포하고 있는 하늘과 자연을 통해 새로운 회화적 세계를 창출하여 무한한 가능성을 탐색한다 시간과 계절에 따라 변모하는 하늘의 시각적 광경은 그림에 나타나는 회화성의 원천이며 작가는 인간의 삶과 함께 공존해 온 하늘로부터 체화된 하늘의 회화성을 표현하고자 한다 작가는 하늘 미학 Sky Aesthetics 에서 변모하는 하늘의 모습을 나무의 매체적 표현으로 더욱 구체화시켰으며 하늘의 이미지가 나무의 결과와 함께 형상화되도록 매체 위에 직접 표현함 작품의 바탕 재료로는 삼나무 cedar wood 를 사용하였으며 삼나무는 나무 자체가 가진 특성이 부드럽고 색이 잘 스미는 듯한 표현이 가능한 재료이다 즉 나무 자체가 회화적 표현이 가능하여 물감의 발색이 깊은 감성을 느끼게 한다 나무 자체에서 발현되는 자연스러운 나이테 옹이 지선 갈라 짐은 하늘 미학과 공존하며 새로운 회화적 표현으로 재해석됨 바탕 재료인 나무에 포함되어 있는 요소들 즉 나무 표면 사이에 있는 옹이 나무 결 사이에 있는 지선 불명확한 형태의 갈라 짐 등은 바탕 재료 위에 그려질 이미지와 새로운 결합을 하였다 하늘의 이미지 속에서 그려지는 구름의 불명확한 형태들이 짙은 보라와 청록의 색채와 함께 새로운 형상으로 표현되었다 특별히 년 월 일 시 카페 드 유중에서 자매 간에 음악과 미술로 예술을 공유하는 무대를 갖는다 그동안 송 안 나와 송은 주는 미술관에서 연주 음악회에서 영상예술로 호흡을 맞춰 왔다 년 월 일 금 시 송 안 나의 콘서트 Nu n concert에서는 가야금 전통곡 창작곡의 곡이 연주된다 연주되는 동안 음악에 맞추어 송은 주의 하늘 미학 Sky Aesthetics 영상예술이 투사된다',\n",
       " '상업문화와 야만 진 귀원은 합성사진 또는 만화에서 막 튀어나온 듯한 캐릭터들을 만들어 상품 물신주의에 빠져 있는 한국사회를 풍자한다',\n",
       " 'F R P에 우레탄으로 도장된 인간상들은 총 천연색의 환상 이자 현실이다',\n",
       " '편재하는 현실 속에서 찾아 진 환상은 차원 상에 우뚝 서 있다 그는 돈으로 모든 것이 귀결되는 신자유주의 사회를 야만의 시대 전시 부제 로 간주한다 하나의 가치로 환원이 일어나는 현대사회는 사실과 환상을 어느 때보다도 근접하게 한다 유행하는 옷을 차려입은 청소년의 머리통이 에이 리 언이고 여성 직장인 머리에 SM 하위문화의 성적 코드가 이식되어 있는 모습이 그다지 충격적이지 않다 학생은 미래의 직업을 위해 장기적인 투자를 해야 하는 대표적 집단이며 직장인은 그 결과를 나타내지만 양자는 그들이 수행해야만 하는 그 밋밋한 노동 형태로 인해 자극적인 소비문화를 필요로 한다는 공통점이 있다 그것은 노동과 여가에서의 동시적인 현대사회에 만연한 이중의 소외이다 어느 때보다도 그 간극이 벌어지고 있는 예술과 문화 사이에서 인터넷과 함께 성장한 젊은 작가들은 재미와 흥행이 있는 양지쪽으로의 지향이 생겨나는 것은 자연스럽다 그러나 작품 아이디어를 짜내는 과정은 둘째치고 라도 추운 곳에서 홀로 흙을 주무르고 독한 화학물질과 함께 일일이 수공으로 작업해야 하는 생산의 과정과 아늑한 장소에서 손가락으로 버튼이나 자판만 두들기면 되는 소비문화의 차이는 쉽게 극복되지 않는다 단적으로 코드는 가볍고 빠르며 작업은 무겁고 느리다 작업 특히 조각은 결국 묵직한 현실계에 속해 있다 여기에 작가들의 어려움이 있지만 그만큼 현실과 유의미한 상호작용을 할 수 있는 기회 또 한 가질 수 있는 이들이 바로 그들이다 그것도 미미한 상호작용이 아니라 자기 주도 적인 생산물을 통한 상호작용의 가능성에 예술의 진정한 야망이 있다 진 귀원이 대중문화의 코드를 적극 활용하면서도 현대 자본주의 문화에 대한 비판을 시도하는 부분은 예술이 해야 하는 긍정적 항목 중의 하나를 수행한다 아방가르드 시대와 달리 미술이 무엇을 할 수 있으랴 싶지만 자본주의 가 추동하는 물신적 체계의 가장 큰 희생자 중의 하나가 예술 임을 생각할 필요가 있다 사회 비판은 현대미술의 자기 비판의 과정에 포함되어야만 한다 예술은 지배적 동질성에 대항하는 차이를 추구함과 동시에 차이가 차별이 되지 않는 이상적 사회를 예견한다 비판이 없으면 야만은 지속된다 야만이 확대 재생산 될 수 있는 시스템 역시 역대 최강이다 작가는 대중들이 가볍게 접할 수 있는 인터페이스에서 참조한 보편적 코드를 활용하여 지금 여기의 삶을 지배하는 어두운 규칙을 폭로 한다 특히 그가 모든 것이 상품으로 깔끔하게 정리되어 있곤 하는 나름대로 질서 바른 사회를 문명이 아닌 야만으로 파악하는 것은 생각해 볼만한 대목이다 어떤 기준이든 그것이 유일한 것이 되었다면 억압적일 수밖에 없다',\n",
       " '그런데 그러한 일이 현대 자본주의 사회에서 일어난 것이다 그 이전 사회에서는 서로 멀리 떨어져 있어서 각 사회가 하나의 현실원칙에 의한 지배를 받지 않았다 서로 다른 영역이 공통의 문법으로 서로 엮이는 과정은 세계화보다 정확히는 세계 시장화의 예에서 보듯이 보다 많은 다수의 패배자를 낳을 수밖에 없다 전시장은 진 귀원이 조각을 통해 그리는 야만의 시대의 풍경이다 흥미로운 것은 그가 대중에게 혐오감을 줘서는 안 된다는 원칙을 준수해야 하는 공공 미술과를 전공하고 있다는 사실이다 그에게 공공성은 무난한 장식품이 아니라 바람직한 공공적 삶과 대치되는 극복해야 할 요소에 맞춰 져 있다 인간은 태어나는 것이 아니라 만들어 진다 특히 언어라는 상징적 구조는 나는으로 시작하는 그 주체를 만든다 지배 질서의 원리가 내재되어 있는 상징적 구조는 개인의 욕망 또한 만든다 기호 특히 상품 기호들의 우주로 이루어진 자본주의 사회에서 눈은 계속 타올라야 할 욕망의 대상을 수집하는 대표적 감각기관이다 보는 인간은 보여 짐 또한 인식하는데 진 귀원의 작품은 이러한 시선 eye 과 응시 gaze 의 역학 관계 속에서 상품의 기호가 결정 적임을 보여준다 상표는 사회적 인간이 상대편을 한눈에 알아볼 수 있는 코드가 된다 보고 말하는 인간은 무엇보다도 욕망하는 인간이다 작품 속 주인공들을 머리끝부터 발끝까지 휘감는 유명 상표들은 욕망하는 인간이 만나는 실재가 상품 세계로 한정되어 있음을 알려준다 욕망은 다양한 방향으로 흘러갈 수 있고 뻗어 나가 야만 하지만 자본주의 사회에서 그것은 상품의 생산과 소비라는 유일한 회로로 빨려 들어간다 사회는 욕망의 회로와 상품의 유통구조를 일치시키려 한다 체계는 규정될 수 없는 욕망을 코드화 시켜 값을 매기고 유통시킨다',\n",
       " '코드는 등질적인 것이지만 그것이 유도하는 결과는 철저한 불평등이다 자연 몸 무의식 등 값을 매길 수 없는 것까지 값을 매길 수 있게 되면 모든 것은 값을 중심으로 서 열화 되기 때문이다 가격 매기기는 마치 수학 공식처럼 중성적인 행위인 것 같지만 그것은 결국 서 열화를 낳기 때문에 보다 높은 서열을 차지하기 위한 끝없는 경쟁이 생겨난다 현대의 야만은 이러한 맹목적인 경쟁으로부터 발생한다 이 전시에서 문명화 과정은 야만을 새로운 방식으로 배치시킨다 현대의 야만은 더 많은 약자를 만들어 내는 억압적 체계에 의해 생산된다 야만은 주먹이나 총칼이 아니라 법과 시장을 통해 그것이 파생시키는 이데올로기와 허위의식 도그마와 상식 등을 통해 행해진다 야만은 퇴행을 의미하지만 사실 투명한 이해관계에 근거할 법한 법규들의 등장은 역사의 진보에 의해 나타났다 앨버트 허쉬 먼 은 열정과 이해관계에서 열정이 인간을 사악해 지도록 부추 키지만 이해관계에 얽매어 그럴 수 없는 상황에 놓인다 는 몽테스키외의 법의 정신 의 문구를 인용하면서 고전적 자본주의에 의해 부각된 이해관계와 사라져 가는 열정을 대비한다 허쉬 먼 은 인간의 이해관계를 열정에 대립시키고 인간이 개인적인 이익을 추구할 때 야기되는 긍정적인 효과와 열정에 휘말리게 될 때 생기는 재난의 상태를 대비한다 고전적 자본주의 시대에 학자들은 인간 행위에 공통적인 이해관계가 지배하는 세상이 비인간적이고 냉정 하다고 생각 지 않았다 이해관계는 이성 만큼이나 투명하고 긍정적으로 평가 되었다 열정과 이해관계에 의하면 자본주의는 인간의 충동과 어떤 성향들을 억누르고 좀 더 단순하고 예측 가능한 일차원적인 인간성을 만들어 내리라고 기대하였다 오늘날에는 이상하게 들리는 이런 입장은 특정한 역사적 시기에 상존하던 분명한 위험을 걱정하고 인간 열정의 파괴적인 힘을 걱정하는 데서 비롯된 것이다 이전의 모든 사악하고 파괴적인 악덕들은 합리적 이해관계가 아닌 비합리적 열정에 의한 것이었다 일시적인 열정이나 충동에 휩쓸리지 않는 합리적인 의지 나 합리적인 이기심 이 고전적 자본주의 시대에는 도덕적 덕목으로 꼽혔다 그것은 이해관계가 공사의 영역에 있어 인간사를 처리하는데 보다 이성적인 방법이라는 긍정적인 생각이다 이해관계가 인간행위의 지배적 동기라는 생각은 가능한 사회질서를 위한 현실적 기초가 마침내 발견되었다는 지적 흥분을 야기 했다 가장 일반적인 특성이 예측성이다 반면 대부분의 열정적 행위는 변덕스럽다는 점이 강조된다 불확실성 특히 인간의 가변성은 없애야 할 주요 난관이 되었다 인간은 이해관계에 충실할 때 확고 부동하고 질서 정연 해지며 이는 열정에 휘말렸을 때와 정반대이다 열정은 광폭하고 위험하지만 물질적 이익을 추구하는 것은 단순하고 무해 하다는 것이다 상인이 부를 축적하는 것은 귀족계급의 열정적 유희와 방종 또는 군대나 해적의 야만적 약탈보다는 부드럽고 평화로 워 보인다',\n",
       " '그래서 당시의 지도적 철학자들은 자본주의가 인간 본성의 파괴적이고 불길한 요소를 억누를 수 있다고',\n",
       " '기대했다 그러나 상업은 곧 또 다른 전쟁 그것도 항시 적인 전쟁이 되었다 자신의 이익을 추구하는 인간이 무해 하다는 생각은 자본주의의 현실이 완전히 드러난 이후에야 사라지게 되었다 진 귀원의 작품에서 파국적 상황 속의 다국적 기업의 로고는 보편적으로 편재하는 이해관계가 왜곡된 방식으로 파괴적 본능을 다시금 불러냄을 알려준다 맹목적 욕망에 휘둘리는 인간 만큼이나 계산하는 기계는 인간이라 할 수 없다 협소하게 이해된 이해관계는 다시금 인간적 열정을 관철하는데 숙고해야 할 이성적 요소가 되어야 할 것이다 현대사회에서 살아가며 작업하는 이들 또한 열정과 이해관계 간의 적절한 조화가 필요하다 진 귀원은 그가 풍자극의 무대 위에 불러낸 캐릭터들에 모두 자신의 이빨을 이식시켰는데 그것은 비판이 스스로에게도 겨누어 짐을 암시한다',\n",
       " 'From Hysteria To the Stage of Drive 본인의 작업은 분열하는 히스테리적 군상과 더불어 그들이 위치하는 무대 라는 시공간을 표현하는 것이다 히스테리적 군상들은 어떠한 의미로도 환원될 수 없는 것으로 전락한 분열하는 대상들의 모습이며 그들은 히스테리적 위치에 서 히스테리 증자가 갖는 의혹 물음이 생산하는 되는 일종의 무대에 위치한다 그리고 히스테리적 주체와 무대는 다른 대상들에 의해 노출 expose 되는데 이는 나의 무대를 이미 바라보고 있었던 무대 밖 나머지의 존재 이자 무대를 가능하게 하는 자에게 노출되는 것이다 이로써 히스테리적 주체의 분열은 무대 위의 결핍을 드러냄과 동시에 무대 바깥과 함께 발생하는 장면이 된다',\n",
       " 'Digital Fun Art 예술은 디지털 시대의 도래와 백세 건강시대의 전개에 따라 전문가 예술가들 만이 전유물이 아니라 모두가 즐기고 창작에 직접 동참하고 향유하는 시대로 변모하게 되었다 이제 거리의 풍경 세계의 풍경이 달라졌다 모두들 디지털 기기를 들고 소통하고 촬영하고 게임하고 유희한다 원격조절시대 기술시대 대량정보시대가 되면서 이제 핸드폰은 단순도구에서 현대인의 삶을 융복화 시키는 장치로 변모했다 모든 정보는 핸드폰 안에 있다 세계를 해석하고 세계를 이어 주고 세계를 이해하게 하고 문명과 문화로 가게 해 주는 현대인들의 필수 불가결한 도구가 되었다 현대인들은 존재의 증거를 소통에서 찾고 있는 듯하다 이는 현대라는 문화 코드가 갖는 유희성 가벼움 키 치적 현상 놀이와 유희의 도구로서의 핸드폰은 새로운 문화 매개체가 되었기 때문이다',\n",
       " '이렇게 문명과 문화를 꿈꾸고 확대 재생산 하게 해 주는 도구인 핸드폰을 통해 현대인들은 모두 Homo Ludens 유희하는 인간 가 되었다 즉 디지털로 즐기는 Digital Fun Art 즉 디지 펀 DigifunArt 의 세상이 펼쳐진 것이다 디지 펀은 장치 속의 프로그램을 이용하여 촬영을 통해 시간의 흔적들을 생산하고 또 서로 이미지를 교류 하고 또 기존의 이미지를 패러디하고 드로잉을 하는 과정을 통해 확대 재생산하고 유희한다 그리하여 기계적 그림에 대한 창조적 가능성과 그리고 새로운 인간의 시 지각적 능력의 가능성을 탐구하고 예술적 미감과 사회문화 현상에 대한 정보를 얻고 또 교류 하면서 새로운 세상에 대한 새로운 해석으로 즐기는 이 시대 풍경의 한 단면이다 우리가 먹는 것 대화하는 것 자는 것 여행하는 것 생각하는 것 이제 디지 펀 은 시대가 요구하는 동시대의 정치 경제 사회 문화를 표현하는 현대적 문화 키워드로 자리매김 하게 될 것이다 현대인 모두가 호모 루덴스이다 그리고 그들의 필요에 의해서 디지털 도구는 더 진화 할 것이다 안 승 준 은 한평생 일반 직장인으로 살아오다 제 의 인생의 막에 새로운 세상과 만 나 새로운 DigifunArt에 흠뻑 빠져 있는 그는 이 시대의 상징성을 갖는 이 시대의 진정한 호모 루덴스이다 작가 노트 지금껏 대기업의 조직원으로 평생을 살아온 작가는 어린 시절부터 꿈꿔 온 그림의 세상이 있었으나에 직접 접할 기회가 없었다 그러나 인생 막이 펼쳐지는 시점에 디지털 기기의 묘미에 빠지기 시작했다 스마트 폰이 단순히 안부만 묻는 통화기기에서 인간관계를 형성하는 소통의 허브가 되고 단순히 문자를 주고 받는 기기에서 그림과 사진 더 나가 자기의 작품까지 도 공유하는 향유의 장을 만들어 가게 된 것이다 평소의 알고 만나는 인맥도 상상치도 못하는 범위에까지 인맥이 형성된 것이다 작품을 통해 본인의 생활의 모든 면을 나타내기도 하고 주위의 아름답거나 알리고 싶는 내용들을 작위적으로 해석하여 알리기도 하게 된 것이다 무의미하게 인생 막에서 보내는 주위의 동료와는 근본 적인 다른 창조적 삶을 찾게 된 것이다 괴로움을 작품 창조로 승화 시키고 즐거움을 같이 향유하다 보니 이제는 주위 사람들을 공감대형성까지 해 나가면서 인간관계의 폭을 입체적으로 확장하게 된 것이다 전문가가 되려면 특정한 공간과 장이 마련되어야 하는 데 또한 작품을 갖게 되면 유지 보관하는 데 비용이 들어야 하는 데 내가 갖고 있는 스마트 폰 공간에 무한 정 넣었다 지우고 새롭게 실시간으로 작품활동을 하게 되다 보니 이러한 부담은 애당초 없었던 것이다 작가가 일상생활에서 표출하는 내용이 담기다 보니 지근 의 친한 친구는 작가의 지금 고민하는 모습이나 정신적 아픔을 겪는 것에 대해 정확한 진 다을 하면서 친구로서 정신적 치유도 해 주는 것이다 흔히 스마트 폰과 같은 디지털 기기는 젊은이들의 향 유물이라고 생각했는데 작가의 경우 인생 막에 걸쳐 있는 중년들에게도 엄청난 친구로 다가온 것을 실감했다고',\n",
       " '이야기 하고 있다 이와 같은 장르가 급속히 노령화로 진행되는 우리나라와 같은 디지털 강국에서는 앞으로 취미를 공유하고 지금 것 숨겨 진 역량을 표출하는 새로운 장으로 이끌어 나가는 디지털 펀 세상이 펼쳐져 나가리라고 믿어 의심치 않는다',\n",
       " 'FRAGILE 김지 훈 유 중 아트센터에서는 우수 신진작가 장학지원 공모 의 첫 번째 전시를 유 중 아트센터 층 유 중 갤러리에서 선보인다 우수 신진작가 공모전 은 유 중재단과 유 중 아트센터가 추진하고 있는 장학사업 가운데 시각예술분야의 유망한 젊은 작가들을 대상으로 수여되는 상으로 매년 명의 수상자를 선발하여 개인전 개최 기회를 제공하고 있다 년도 수상자로는 김지 훈과 옥경래가 선정되었는데 년 월에 먼저 선보일 전시는 김지 훈의 개인전 FRAGILE 이 다 김지 훈의 작품은 인간에 대한 주의를 주제로 하고 있다 복잡한 현대사회 속에서 인간은 소외되고 기술의 발전과 더불어 그 소외현상은 급 물살을 타고 있는 상황에서 소 셜 네트워크서비스 이하 SNS 를 통해 인간은 더 가까워 진 듯 보이지만 실상은 한층 더 멀어 져 있다 인터넷의 악성 댓 글은 서로를 쉽게 상처 주고 남에게 받은 상처는 또 다른 이에게 표출되어 결국 심각한 사회문제로 야기된 지 오래이다 이로 인해 우리는 인간 서로에 대한 존중을 잊고 무관심과 기만을 통해 결국 더욱 고립되어 가고 있다 바로 김지 훈 작가의 작품이 이야기 하고자 하는 바는 이러한 사회적 현상에 대한 경고라고 할 수 있겠다 작가는 구체적으로는 한자 한글 영어 등의 텍스트 작업을 통하여 인문학적 성찰이 담긴 회화작업을 계속하면서 인간의 기본적 존엄의 조건에 대해 고민하고 성찰해 보고자 한다 더 나 아가 글과 회화 영상화 회화를 좀 더 다층적이고 입체적인 방식으로 접목 병행하여 작업 방향을 확장해 나갈 계획이다 이는 회화가 가지는 한계를 극복함과 동시에 회화와 텍스트 회화와 영상의 결합과 충돌에서 발생하는 예상 불가능한 결과물을 얻는 시도가 될 수 있다 작가는 이러한 작업들의 대상을 인간으로 지정하고 있으며 동시에 그가 말하는 인간이라 함은 부서지기 쉽고 취약하고 허술하면서 동시에 섬세함을 동반한 마치 유리잔과도 같이 위태롭고 연약한 존재 임을 관객에게 암시하고자 한다 그는 스스로 작업에 대해 진행 되는 과정 자체에 대해서 본인의 작업임에도 그 결과물을 확신할 수 없을 때가 종종 있다고',\n",
       " '말한다 그러나 이러한 과정이 현재의 작업을 만들어 내는 원인이 되었고 주제가 되었다 결국 사람에 대한 주의는 자기 자신에 대한 주의 이기도 하며 작가는 자신 안의 것들에 대해 이야기하는 과정에 있어서 쉽게 정의 내리거나 결론짓지 않으려 노력한다 작품을 하면서 거치는 다양한 실험과 과정의 결과를 통해 얻는 부분에 대해 진솔하게 표현하고 이야기 나누고자 한다 작가는 현재 후기 자본주의 사회 속에서 살아가는 개인의 내면의 모습 보이지 않는 상처 사회적 억압 등을 고찰하는 데에 작업의 중점을 둔다 놀라운 과학의 발전과 화려한 후기문명 사회의 그늘 속에서 간과되는 인간의 연약함과 개별성 그리고 고유성이 존중 받지 못하고 시스템을 이루는 한 부속품으로서 소모되는 과정 속에서 그러한 인간이 겪는 불안과 고통 나아가 치유에 대한 가능성을 모색하는 작업에 주력하고자 하였다 김지 훈은 년 서울대학교 미술대학을 졸업하고 동 대학원에 재학 중이다 년 단체 전 큐브를 시작으로 첫 개인전 기억 을 열고 키아 프 경향 미술대전 외 다수의 전시에 참가 하였으며 한림 대학교 병원에 작품이 소장되어 있다',\n",
       " '매화 봄과 신생의 상징과 그 해석 아직 겨울 기운이 채 가시지 않은 이른 봄에 매화를 찾아 나서는 심 매 행 은 예로부터 시인 묵객들의 고상한 풍류였다 이를 탐매 라고도 하고 만발한 매화를 보고 즐기는 것을 관 매 혹은 상 매 방매라고 한다 이렇듯 잔설이 분분하고 산천의 온갖 생명의 기운들은 여전히 숨죽이고 있는 동토의 계절에 굳이 매화를 찾아 길을 나섬은 단순한 기호나 호사 취미에 그치는 것이 아니다 그것은 어쩌면 고향의 순례와도 같은 것이다',\n",
       " '그럼에도 불구하고 이를 마다하지 않음은 그저 매화꽃을 다른 이보다 먼저 보고자 하는 경박한 조바심이 아닐 것이다 그것은 돌보는 이 없는 적막한 산중에 홀로 피어나는 매화의 고고한 정신과 때 묻지 않은 향기를 통해 자신을 비춰 보고 정신을 가다듬고자 하는 선비정신의 발로 일 것이다 주지하듯이 매화는 사군자 중 하나로 계절로는 봄에 해당하며 방위로는 동쪽을 상징한다 겨울 기운이 여전한 추운 날씨에 눈 속에 피어나기에 매화는 봄소식을 알리는 전령 이자 희망과 새로운 생명을 상징하고 흰 눈 속에서 피어나는 고고한 자태는 고결할 뿐 아니라 군자나 은자의 지조와 절개를 대신하기도 한다 그러하기에 예로부터 매화는 즐겨 그려졌으며 특히 문인화에서 중요한 소재로 다루어 졌다 작가 최 은 옥은 분방한 수묵을 통한 독특한 조형 작업으로 자신의 본령을 삼고 있는 작가이다 작가의 작업은 수묵이 지니고 있는 독특한 물성을 최대한 수용하고 발휘하여 일종의 사변적인 화면을 구축하는 것이었다',\n",
       " '그런 작가가 돌연 매화를 화두로 삼아 새로운 화면을 선보이게 되었다 계절적으로는 잘 부합하는 소재의 선택이겠지만 이전의 그의 작업을 염두에 둔다면 이는 당혹스러움과 의아함이 자연스럽게 제기될 수밖에 없는 일이다 그간의 작업 역정을 통해 미루어 볼 때 이는 마치 선인들이 심 매 혹은 탐매를 통해 자신을 비춰 보고 정신을 추스르고자 했던 것과 어쩌면 유사한 것일지도 모른다는 추측을 해 볼 수 있을 것이다 즉 작가는 그간의 자신의 작업이 지니고 있던 분방함을 방만함으로 인식하고 매화를 통해 그 근본과 원칙에 새삼 천착하고자 하는 것이 바로 그것이다 작가의 매화는 거칠고 둔탁하다 그것은 운필의 유려함이나 구도의 조밀한 경영에 앞서 소박한 표현 욕구가 고스란히 반영된 결과일 것이다 빠르고 억센 듯 하지만 화면에 드러나는 매화의 실체는 오히려 둔중하고 거칠며 질박하다 그것은 일반적인 사군자에서 나타나는 부드럽고 우아한 운필을 반영하는 것이 아니라 오히려 민화에서 보이는 소박하고 치졸한 맛이 물씬 풍긴다 축적된 세월의 무게를 한껏 반영하는 굵고 거친 몸통과 새로운 계절의 신생의 기운을 발산하는 가지들은 모두 별반 농담의 구분도 없을 뿐 아니라 더 해지는 꽃 들 역시 붉은 색으로 일정한 패턴을 이루고 있다 이는 작가의 의도인지 분명치 않으나 화면 전체에 소박하고 질박하며 천진한 감성을 담아내고 있다 경우에 따라서는 새가 더 해지는 화조화 형식을 취하거나 시 적 정취를 드러내는 화면은 작가의 지향을 가늠케 해 주는 단서일 것이다 작가는 분명 문인화가 지니고 있는 시정화의 의 함축적이고 감성적인 화면을 염두에 두고 있음이 여실하다 비록 작가의 지향이 서 정적인 시정과 함축적인 화면의 묘미를 추구한다 하더라도 화면에서 전해 지는 둔탁하고 졸 박하며 소탈한 맛은 오히려 일탈의 기운이 강한 것이다 이는 사군자로 대변되는 전통적인 얼개는 수용하지만 오랜 기간에 걸친 수묵에 대한 축적된 경험을 바탕으로 해석하여 표출한 결과가 그러한 것이다 흥미로운 것은 그것이 치졸한 듯 소박하고 천진하며 의외의 담백함을 드러내고 있다는 점이다 마치 어린 아이의 천진함을 마주하는 것 같은 질박한 감성은 지나치게 기교적이며 세련된 우아함보다 친근하다 물론 이러한 결과가 기교를 넘어선 무기 교의 현 현인지는 단정 지을 수는 없지만 적어도 작가의 신작들은 이전의 그가 보여주었던 경계와는 전혀 다른 새로운 시공을 마주하고 있다는 점일 것이다',\n",
       " '만약 작가의 지향이 전형적인 문인화의 시정화의 라 한다면 이는 반복적인 운필 훈련과 장법에 대한 연구를 통한 보완할 필요가 있을 것이다 그러나 만약 그 지향이 민화적인 질박함이나 일탈의 새로운 가치라',\n",
       " '한다면 보다 함축적이고 개괄적인 자신만의 개별화된 방법론을 확보함이 관건일 것이다 이는 전통적인 운필과 포치 그리고 공간의 운용 등에 있어서 근본 적인 변화를 확보함으로써 구현될 수 있을 것이다',\n",
       " '사실 이러한 내용들은 전통과 현대 혹은 전통의 재해석이라는 점에서 대단히 중요한 의미를 지니고 있는 것일 뿐 아니라 작가의 작업 세계에 있어서도 매우 커다란 영향을 미치게 될 것이다 작가의 새로운 시도를 주목하며 그 결과를 기대해 본다',\n",
       " '원 더 러스트 또 다른 언덕 너머로 가는 끊임없는 여정 광주 시립 미술관은 벨기에 교류 전 원 더 러스트 또 다른 언덕 너머로 가는 끊임없는 여정 을 개최한다 원 더 러스트 는 벨기에 연방정부가 지원하는 전시 프로젝트로서 광주 시립 미술관과의 협업 하에 진행된다 이번 전시에는 세기 서양 미술사에 큰 족적을 남긴 거장 마르셀 브로 타 에스 와 파나마 렌 코 등의 작품이 포함되어 있고 이들을 포함한 다섯 명의 주요 벨기에 작가들의 작업을 선보인다 원 더 러스트 전의 구상과 기획은 브뤼셀 자유대학 한스 마리아 드 울 프 교수가 맡았다 이 전시는 작년 년 월 서울 아트 선재센터에서 개최하고 광주에서도 선보이게 되었다 원 더 러스트 Wanderlust 는 독일어에서 가장 아름다운 단어 중 하나일 것이다 원 더 러스트 는 익숙한 일상으로부터 벗어 나 다른 문화 다르게 살아 가는 사람들을 접해 보고자 하는 인간 내면의 뿌리 깊은 열망을 지칭하는 것이다 그러한 차원에서 원 더 러스트 의 역사는 인류의 역사와 같다 고도 할 것이다 그러나 이 단어가 독일어권에서 특별한 의미를 갖게 된 것은 세기 초로 거슬러 올라간다 당시 독일 낭만주의 예술가들은 합리주의 계몽주의 시대 유산에 맞서 투쟁하는데 원 더 러스트 를 자신들의 주요 개념적 무기로 삼았다 예를 들어 프란시스 알 리스를 멕시코 시티로 가게 한 것은 바로 원 더 러스트였다 최근 들어 그는 올해 카 셀 도 큐 멘 타에 출품한 작품과 같이 아프가니스탄과 같은 열악한 곳에서 작업을 하고 있지만 멕시코는 그에게 피난처와 같은 곳이 되었을 뿐만 아니라 무한한 영감을 주는 곳이다 그의 여러 유명한 드로잉 중 하나를 통해서도 알려 졌지만 멕시코에서는 모든 것이 무탈하며 심지어 최소한 그가 산 보를 하는 동안에는 안녕하기까지 하다 산보는 알 리스에게 주로 생각의 지평을 여는 조건으로 작용한다 프란시스 알 리스는 산보하면서 주변에 널려 있는 그러나 이전에 아무도 주목하지 않은 시적 감흥에 접근할 수 있다 산보에 대한 이러한 이해는 호 노 레도 도 역시 공유하는 것으로서 호 노 레 도의 작가적 태도의 바탕을 이룬다 년 베니스 비엔날레가 개최된 해 호 노 레 도와 프란시스 알 리스는 각기 다른 교통수단을 이용해 같은 날 베니스에 도착한 후 이들은 각각 대형 튜바의 위 아래 반쪽씩을 가지고 서로를 만나기 위해 일 동안을 걸었다 이번에 서울에서 열리는 원 더 러스트 전을 위해 호 노 레도는 전시 포스터 이미지로도 사용된 장대한 설치작품을 선보인다 플라스틱 판자로 만들어 져 물 위에 설치된 보행자 도로는 흐르는 강 저편에 도달하고 싶다는 욕망을 제시하며 심리적으로 원 더 러스트를 연상시킨다 한편 이 작품은 물 위를 걷는다 는 차원에서 개인의 신념을 의미하는 유럽 기독교 전통에 연관되어 있기도 하다 이번 서울 전시에서 파나마렌코의 천재적 발명도 간과할 수 없다 파나마렌코는 지난 여 년 동안 자신이 가지고 있는 과학과 기술에 대한 지식을 바탕으로 인류역사에서 실현되지 않았으나 제대로 작동을 했더라면 비범한 발명품이 되었을 뻔 한 참으로 흥미로운 기계장치들을 고안해 냈다 이번 전시는 한국에서는 처음으로 파나마렌코의 로봇공학과 그의 설계도 및 도안을 선보인다 원 더 러스트 전은 예술가의 간단한 상상력을 통해 현재에 겪는 사회적 억압과 부조리로부터 벗어나고자 하는 여행의 필요성을 경험하는 전시가 될 것이다 마르셀 브로타에스의 Jardin d Hiver 겨울 정원 은 바로 이러한 맥락에서 이해되어야 한다',\n",
       " 'Jardin d Hiver 은 토종 야자나무 소박한 야외 정원용 의자 백과 사전에 삽화로 실린 이국풍의 조류 그림 등을 설치하고 영화와 멜랑 꼴 리한 음악이 작품에 동반된다 결국 이 작품은 중개자로서 예술가가 처한 어려운 위치를 다루고 있는 것이다 브로타에스의 설치 작업은 당시 유럽 작가들에게 이후 지금 까지도 몇 세대에 걸쳐 커다란 영향을 미쳤다 죠엘 투 엘 링스 작품 역시 브로타에스와 유사한 작가적 경향을 나타낸다 투 엘 링스가 추구하는 것은 인간의 생각과 환경을 연결하는 기본 원칙을 구성하는 것이다 이번 전시에서는 작가의 중요한 작업 시스템 강박관념 두 개 즉 돌과 새가 동시에 전시되는데 이는 처음으로 시도된다 돌과 새는 세상을 탐사하기 위한 두 개의 각기 다른 도구를 대표한다 이번 전시에서는 이상에서 살펴본 다섯 작가들의 작품 외에도 각종 문서 오브제 한국 작가를 포함한 다른 작가들의 작품이 함께 전시된다 이는 전시의 기획의 도를 맥락화하고 관객의 이해를 좀더 깊게 하기 위함이다 해당 예술가들의 작품 외에도 마르셀 뒤 샹 Marcel Duchamp 과 보에 티 Alighiero Fabrizio Boetti 의 작품이 전시되며 괴 테 Johann Wolfgang von Goethe 스턴 Laurence Sterne 클레브니 코프 Velimir Khlebnikov 에 관한 문서가 함께 전시된다',\n",
       " '경계를 넘어서 II 경계를 넘어서 Beyond Boundaries 전시는 제목이 말해 주듯 각기 다른 스타일의 작품들을 고유한 관점을 유지하며 현대한 국미술의 다양하고 흥미로운 견해를 담아 내 었다 이를 통해 이질적 영역이나 분야가 접경지대에서 이전과 다른 접선과 접목이 시도되면서 새로운 창조가 시작된다 전시는 작품 스타일의 경계를 자유롭게 넘나들면서 서로 다른 개성과 조우하고 새로운 가능성의 문을 연다 경계를 넘어서 경지에 이르기 위해서는 어느 하나를 버리고 다른 하나를 선택하는 논리가 아니라 충돌할 것처럼 보이는 두 가지 극단의 경계를 포용하고 인정하면서 제 의 새로운 대안을 모색해야 한다 이로써 중심과 주변 주류와 비주류 안과 밖 위와 밑 혼돈과 질서 슬픔과 기쁨처럼 두 가지 극단의 경계 상태나 정서를 하나로 끌어안는 가운데 경지를 넘어서는 새로운 창조가 이루어지게 된다',\n",
       " '박물관에서 열린 박물관 전 박물관에서 열리는 박물관 전은 어떤 의미가 있을까',\n",
       " '우선 박물관 Museion 이라는 개념을 용어의 유례와 역사를 통해서 의미를 파악해 보면 박물관은 뮤즈 Muse 신 즉 음악이나 시의 신의 신전이라는 의미로 그리스어에서 기원한다',\n",
       " '그래서 처음에는 박물관이라는 의미는 곧 음악 Music 과 예술의 집 더 크게 보면 학예의 공간이며 즐거움의 공간이다 또한 뮤즈는 복수 Musai 를 의미하기도 한다 그 이유는 제우스와 므 네모 시네 기억 사이의 명의 무사들이 태어나고 그 의미들을 각각의 자식에 대응해서 제시하기 때문이다 끌 레이 오는 역사를 예우 테 르 페는 서정시 탈 레 미아는 희극 멜 포 메네는 비극 테 르 프 시 코는 합창과 무용 에라 토는 독창 폴리 힘 니 아는 찬가 우라니아는 천문 칼리오페는 서사시 등을 지시한다 역사상 첫 Museion 은 이집트의 왕 프 토로 메 소테 르를 위하여 설치되었다 이 기관은 일종의 왕립 고문기관으로서 지혜와 지식에 관련된 다양한 문서를 비치하고 석학들을 모아 연구하고 토론하며 왕에게 고문의 활동을 벌였던 곳이어서 지금의 박물관의 의미와는 많이 다르다 박물관은 세기의 이탈리아에서 Museo 의 등장 Laurent de Medicis의 Museo Codici에서 시작된다 또 한 년의 인물화 갤러리 Polo Giovio 에서 인물화를 수집 전시하고 년 처음으로 파리의 주교인 앙 뚜 안 뒤프라가 수장품을 모은 공간으로 확산되게 된다 또한 박물관은 역사 학적 고고 학적 예술적 문화적인 담론을 생성하는 곳이기도 하며 더 나 아가 근대에서는 문화를 제도화하는 기관 institution 으로서의 의미가 있다 이것은 시장이나 현장의 예술적 움직임을 공식화하는 공인의 기관 역할 때문에 비판의 대상이 되기도 했다 아울러 박물관의 전시장은 현대 들어오면서 White cube 라는 공간의 의미가 강조된다 흰 공간 의 의미는 중성적인 공간으로서 예술작품이 어디에 나 옮겨 다니면서 걸려도 같은 의미를 갖는다는 모더니스트적인 예술작품의 자율성을 강조한다 비평적인 예술가들 아방가르드 세대 이후로는 미술관을 묘지에 흔히 비교하기도 하였다',\n",
       " '그래서 년 장 끌 레 르 Jean clair 는 분명하게 미술관을 미술관에 갖다 놓아야 할 때이다라고 말한다 그러면서도 또 다른 현실로부터 분리되어 온 일종의 환유적인 공간인 박물관을 적극적인 의미로 박물관 담론 박물관적 정황으로 적극적으로 작품에 연관시키는 경우도 있어서 독특한 역사적 고고 학적 예술적 지식적 문화적 담론을 형성하기도 한다',\n",
       " '그래서 예술과 학술의 공간을 시작으로 지혜 지식의 모음과 토론 간언의 의미 근대적 소장과 전시의 의미 제도화시키는 박물관의 의미 모더니즘의 산실인 화이트 큐브 등의 개념들 그리고 정황의 개념들에서 본 전시를 이해하고자 한다 이러한 개념 위에서 여기 모인 작가들의 창조적인 예술작품을 이해하고자 한다 우선 현대의 모더니티적인 측면을 강조한 작품 화이트 큐브에서의 조형적 특징으로 나타내는 작품은 이 계원과 조병 왕에게서 찾을 수 있으며 이 계원은 모더니티의 추상 성과 전통적인 재현의 일류 전의 의미를 혼성적으로 찾아내고 있으며 조병 왕은 수많은 고고학적 역사적 의미를 레이어라는 추상적 조형성으로부터 해석 해낸다 또한 역사적인 사 건들 로 구성되는 작품도 있는데 이것은 작가 서 용선에게 서 나타난다 정사의 권력 앞에 사라져 간 유약한 왕의 역사를 통해서 시간을 관통하는 또 다른 의미들을 형상화시켜 역사의 담론적 구조를 반성하고 있다 이와 달리 이민 호는 오래된 흔적과 자취를 폐허에 놓아 두어 비판적인 과거와 물건의 수장 품적인 의미를 도출한다 권 기동은 박물관 밖의 문제들을 찾아낸다 그는 달콤해 보이는 도시 광경에서 보여 지는 자본주의적 허구들 예를 들면 광고와 실제의 격차를 풍경으로 형상화한다 오 경환은 현대도시의 반복적인 조형성과 박물관의 상징적 개념을 복합적으로 표현하며 밤과 낮이라는 시간적 회전 혹은 닫힌 공간과 열린 공간으로서의 상반된 성격을 강조하며 릴리프화 된 테라코타 격자구조를 통하여 박물관의 현대적인 의미를 혼성적으로 제시한다 윤 종 구의 푸른색 볼펜을 반복적으로 선을 그어 형성한 풍경화는 암시적인 인물과 유사한 존재들이 뒤엉킨 풍경으로 바뀐 양면 적인 회화를 통해서 박물관의 의미들을 다시 생각나게 한다 또한 인간의 모습 갇힌 세계에서 살고 있는 현대인의 모습을 화초와 사각 공간 도시를 상징하는 규칙적인 형태들 속에서 세워 내는 한 경자의 작품에서 박물관적 오브제적인 특징으로 세계를 조합하고 있다 보다 더 직접적으로 박물관의 유물과 박물관 건물의 파사드를 보여주는 박 영 근의 작품에서부터 박물관적인 공간 내부를 제시한 김 태진의 작품에 이르기까지 다양한 박물관적 특성을 보여준다 박 영 근은 대영박물관의 파르테논의 마두 와 한국의 국립 현대 미술관의 마두를 병치하여 두 개의 미학적 특성과 문화적 차이 박물관적 정황 위에 아름다움의 의미와 범주를 생각하게 한다 김 태진은 실내로 들어오는 빛에서 보이는 것은 내부이나 보이지 않은 외부 빛의 존재를 통해서 현실의 오브제와 그 비가시적 사실들을 전환시키고자 한다 또한 우리나라 박물관에 많이 보이는 수 장품들을 기초로 한 작품은 정상 곤 신 장식 허 미 자 등에서 발견된다 정상 곤의 꽃을 그린 정물화는 박물관적인 소장품의 소재를 통해서 눈을 멀게 하는 꽃은 우리의 감식안 지식과 외형 이생 세계에 대한 욕망과 자랑 등을 풍자하며 눈의 외형적인 아름다움에 대해 비평을 하고 있다 또한 제목에서 나타나는 숫자 는 박물관적 정황의 분류법 Museography 를 지시한다 신 장식은 삼매 라는 작품을 통해서 우리나라 불교적인 문화재를 인용한다 원래 삼매는 samadhi 의 음역으로 들뜨거나 가라앉은 마음을 모두 떠나 평온한 마음을 견지하는 것으로 과거의 전통적인 가치를 박물관적인 의미에서 찾으려고 하였다 허 미 자 역시 전통적인 민화적 모티브를 차용하며 활달한 필채로 꽃과 가지 잎으로 형상을 표현하고 있다 김 동연과 조소 희는 오브제 설치나 회화적인 이미지들을 병치해서 제시한다 김 동연은 신체 일부를 쌓아 온 듯한 자루 더미와 건축물의 굴뚝을 서로 한 공간에 이웃시켜 오브제를 표본 화한 인류학적 소장품의 비인간적인 의미들을 형성하는 듯하다 조 소희는 벽의 공간 드로잉 공간에서부터 소장품을 환유로 제시되는 의자 그 위에 금지나 보호 먼지 등을 은유하는 그물을 설치하여 박물관의 수사적인 의미를 모색한다 신화적 이면서도 현실의 내용을 가로지르며 리 좀 적으로 파편화 되면서도 한 몸으로 연결되는 존재론을 펴 나가고 있는 권 여현의 작품은 박물관의 다양한 층위로 읽게 한다 아울러 여러 박물관 수 장품과 공간 전시를 관통하는 듯이 지식과 땅과 원죄 등을 가로지르는 리 좀 적 세계관을 그려낸다 이러한 박물관적 정황과는 전혀 다른 작품을 이 강우는 보여준다 그는 거대한 파도의 모습에서 인간 문명의 허망함을 연상시켜 박물관적인 모든 정황을 반성하게 한다 이로써 작가들은 즐거움의 음악과 시에서 시작된 박물관의 의미를 다양한 인간 정황적인 시각으로 이해하고 미에 대한 비교와 함께 인간 역사 도시 문명 등 다양한 질문을 제기하며 새로운 박물관 의 의미들을 발전시키고 있다',\n",
       " '경계에 선 풍경 김 미 강 풍경을 매개로 작가의 정서를 드러내는 방법을 연구한 작업이 경계에 선 풍경 시리즈인데 색상이나 붓 터치 구도 등으로 감정을 드러내는 것을 염두에 두었다 구도들은 주로 아무도 주목하지 않는 지나칠 법한 풍경에 여러 벽면 즉 펜스 fence 가 공존하는 장면이 많다 그것들은 작가의 의식적인 경계라',\n",
       " '할 수도 있겠고 작가의 관념의 장벽들이라 할 수 있는데 그 모든 것이 모호 해지는 뭉개지는 듯한 붓 터치로 인해 생각을 넘어서는 그리기작업 손을 이용한 평면 작업의 과정으로 전개시켜 결국에는 무심 해진 풍경으로 비추어 보이기도 한다',\n",
       " 'MOTION 신 상호 촉각과 형태에 대한 노스탈 지아 상업 애니메이션이나 게임 등에서 보이는 스펙타클이나 이야깃거리와는 거리가 먼 작가의 작품에서 그는 우리가 항상 가지고 있으나 드러 내 보이기 꺼려 하는 상투적인 향수를 자아내는 사물과 행위들을 보여준다 예를 들어 그의 애니메이션 작품 Cycle of Life 시리즈는 실사 이미지의 배경과 디지털로 만든 이미지의 형상으로 구성된다 흑인 백인 아시아인으로 구성된 명의 인간 이미지는 어린아이에서 노인으로 변해 가면서 빠른 속도로 진행되고 있는 도시 단면들의 배경 이미지들과 대비되어 형태적인 우월성을 가지고 관객에게 하나의 드라마처럼 나타난다 사물이나 행위들은 경험적 이어야 하며 촉각적 이어야 하나 실제 우리의 현대적 삶에서는 어쩌면 체험 불가능한 것 들이다 작가는 이러한 것 들을 보여 주는 행위를 통해 그것의 체험 불가능함 과 부재를 환기 시킨다 이라는 숫자의 의미 동서양을 떠나서 이라는 숫자는 순환이나 영원함 등 우주적인 의미를 가지고 있다 단군 신화에서는 환인 하늘 환 검 땅 환웅 인간 이 등장하고 크리스트 교에서는 성부 성자 성령의 삼위일체가 있다 이 외에도 피 타고 라 스나 도교에서도 은 중요한 숫자이다 신 상호 작가의 작품은 유독 이라는 숫자와 연관이 깊다 인간이 자연과 관계할 때 또는 디지털 미디어 시대에 인간이 가상현실을 체험할 때 서로가 상이하지 않고 연결되어 있다는 것이다 우리 몸은 자연과 연결되어 있는데 더욱이 가상과 현실이 함께 하는 장소가 바로 우리의 몸인 것이다 마치 뱀이 자신의 살을 찢고 새로운 몸으로 탈피하는 것처럼 말이다 오늘의 허물은 어제의 몸이고 오늘의 몸은 내일의 허물이다',\n",
       " '다 사다 망했던 지난해에 미련이 남아 아직도 마음을 놓지 못하고 있다면 이번 MOTION 을 통해 해골이 춤을 추는 것처럼 삶에 모션을 주고 신바람 나는 새해를 맞이하길 바란다',\n",
       " 'Grapes 김 대연 얼마 전에 상영된 제 임스 케 머 론 감독의 아바 타 는 현란한 CG 기술로 신선한 돌풍을 일으킨 바 있다 판도라 행성을 이루는 동식물들의 생생한 움직임과 신비한 풍광은 실물을 방불케 하며 새를 타고 공중전을 펼치는 전투 신이랄지 눈부신 색채 등은 보는 사람의 시각을 압도하였다 영화에서 CG가 실사와 에니 메이 션의 구분을 없앴다면 그림에서는 극사실이 가상과 현실의 구분을 흐리게 한다 기계의 힘도 빌리지만 대부분 수제에 의한 그림이라는 점과 가상현실을 지향한다는 공통점을 지닌다 영화가 단순히 보는 것을 넘어 D를 통해 영화 속에 들어와 있는 착각을 일으키게 하듯이 극사실 역시 공감각의 영역에 도전장을 냈다 김 대연의 그림은 어디까지가 사실이고 어디까지가 허구인지 분간하기 어렵다 사실 묘사는 현기증이 날 정도이고 과분 이 묻어 있는 포도를 보고 있자면 마치 포도 향이 진동하는 것 같아 전시장이 아닌 과일가게 혹은 과수원에 온 게 아닌가 하는 착각마저 일으킨다 김 대연이 포도를 그리기 시작한 것은 년 경으로 그 무렵에는 포도와 풍경을 함께 제작하다 년 경부터 는 본격적으로 포도 작가로 나서게 되었다 작가가 한 모티브를 고수하는 것은 자주 볼 수 있지만 김 대연처럼 모양도 같고 색상도 같은 포도 송이를 그린다면 상황은 좀 달라질 것이다 여러 작품을 제작하더라도 결국은 한가지 이미지의 반복 또는 확대 재생산으로 간주될 수 있기 때문이다',\n",
       " '그런 문제에도 불구하고 김 대연이 포도에 집착하고 있는 이유는 무엇일까 그는 포도 알이 모두 보는 것과 같이 획일적이지 않다는 점과 포도가 지닌 의미를 알려준다 먼저 우리가 포도를 바라볼 때 포도는 검은 빛을 띠고 있는 것 같지만 실은 여러 빛을 지니고 있다고',\n",
       " '말한다 청포도 자줏빛 포도 흑포도 등의 이야기를 하고 있는 것이 아니다 그에 의하면 포도는 외부의 빛을 받을 때 나오는 영롱한 색이 표피를 통과해 가장 매력적인 빛을 띠게 되며 따라서 이 순간을 화면에 담고 있는 것이다 그렇다고',\n",
       " '그가 기계적 전사의 차원에 머물고 있는 것은 아니다 보다시피 그의 포도 그림 는 부감 법에 의한 것으로 의도적으로 연출된 것이다 말하자면 포도밭의 포도가 아니라 수확한 포도를 한데 모아 약간의 높이 조절을 통해 얻어 진 장면이라는 것이다 대개의 화가들이 현장감을 살릴 요량으로 구도를 현장에 가깝게 옮기는 데 반해 그의 경우는 연출된 구도 의 특성을 충분히 살려 내고 있다 그의 작품은 여러 번 고르게 밑 칠을 하고 그 위에 프라이 머를 두 번 정도 발라 채색이 잘 되도록 바탕의 정지작업을 거친다 그러나 광택이 날 정도의 밑 칠은 피하는데 이것은 어느 정도 붓질효과를 보존하기 위해서 이다',\n",
       " '지나친 밑 칠처리는 실물의 표정을 완벽히 재현했다는 평가를 들을지 모르지만 화면에서 아우라를 지워 버리기 때문에 이 부분에 관해서는 조심스런 편이다 그는 자신의 그림이 사진과 똑같이 보이기보다는 엄연히 회화로서 보여 지길 바란다 작가는 똑같은 크기의 포도 이지만 낱개가 모여 전체를 형성하는 점에 주목한다 알다시피 포도는 사과 나 배처럼 한 알로 존재하기보다는 군집 형태를 띤다 여러 알이 모여 한 송이의 포도를 만드는 것이다 부분과 부분이 도탑게 지내는 가 하면 조화를 도모한다 어떤 것이 다른 것 위에 군림하지 않으며 평화롭게 공존하는 양상이다 서구의 하이퍼 리얼리즘이 극도의 사실력을 바탕으로 즉물적 현실을 반영하지만 김 대연은 사물이더라도 단순한 객체가 아니라 무언가를 함축하는 대상으로 받아들인다 이육사의 유명한 시 내 고장 청포도에 나오듯이 이 마을 전설이 주저리주저리 열리고 먼데 하늘이 꿈꾸며 알알이 들어와 박혀 있는 모습이다 포도를 통해 시골의 정취를 느낄 수도 있고 어떤 사람은 풍부한 삶에 대해 생각할 수도 있을 것이며 순수했던 어린 시절의 회상에 잠겨 볼 수도 있을 것이다 필자는 그의 포도 그림을 보면서 어떤 과정을 통해 성숙되었는지 생각해 보았다 모진 해풍을 견디며 사는 해당화 못지않게 포도는 매몰찬 비바람과 땡볕을 맞으며 자라난다 잘 익은 포도일수록 햇볕의 따가움에 익숙 해져야 하며 그런 연단의 과정을 거쳐야만 비로소 당도가 높은 포도를 수확할 수 있다 사실 우리가 보는 포도는 주렁주렁 달려 있어 보기 좋게 보이지만 지금까지의 과정을 돌아보면 순탄치 만은 않은 인고의 나날이었음을 알 수 있다 근래에 작가는 작품에 약간의 베리에 이 션을 꾀하고 있다 포도 이미지를 평면적으로 나열하던 종래 방식에서 벗어 나 근작에서는 입체감을 도입하여 중앙의 포도 송이가 앞으로 도출된 듯이 입체감을 살려 내고 있다 따라서 우리의 시선이 가장 먼저 모아 지는 곳은 화면 한복판이며 주위는 응달이 지게 하거나 포커스를 흐릿 하게 처리하고 있다 사진의 아웃 포커스처럼 그렇게 뚜렷하지는 않지만 이전보다는 훨씬 입체감을 띠고 있다 옛날에는 따듯한 온돌방에 앉아 계수나무 아래서 토끼가 방아 찧는 달 이야기를 들었듯이 근래에는 시설을 잘 갖춘 극장에서 환타지영화를 감상하며 상상력을 키운다 김 대연의 그림도 마찬가지로 풀이할 수 있다 세시 풍속을 담은 풍속화나 명승지나 평화스런 농촌 산골을 담은 풍경화는 아니지만 우리는 그의 그림을 보면서 풍부한 계절감각과 시적 정취를 느껴 볼 수도 있을 것이다 한걸음 더 나아가 그의 그림은 상상의 세계로 들어가는 통로로도 해석할 수 있을 것이다 우리가 보는 것은 포도가 아니라 누구나 염원하는 늘 푸른 청춘 과 시들지 않는 생명 의 상징인지도 모른다 말하자면 생명의 영원한 상 이 아로 새겨져 있는 셈이다 빛을 받을 때에만 자주빛 속살을 보여주는 포도처럼 그의 그림은 눈길을 주는 사람에게만 자신을 보여준다',\n",
       " '셋 이화 정 서림 이정 호 서림 정어리의 이미지가 떠 올랐다 자유자재로 바다를 헤엄치는 겉 같지만 실은 주위의 정어리에 맞춰서 몸을 움직이고 있을 뿐이다 리더가 있어서 움직임을 결정하는 것이 아니다 모든 정어리가 주위를 따라한 결과 전체적으로는 구름같이 부풀거나 줄어들거나 옆으로 흘러가거나 오로지 멀리 헤엄쳐 가거나 하는 것이다',\n",
       " '거기에 자신의 생각은 없다 무리에서 떨어져 나가면 잡아먹힌다 그러니까 주위의 정어리에게 뒤쳐지지 않도록 열심히 움직인다 전 후 좌 우 위 아래 어디를 봐도 같은 정어리 정어리 그러는 사이 어느 정어리가 자신인지 모르게 된다 자신이 거기에 있는지 없는지 조차도 이화 정 폭설에 일간 발이 묶였다가 다시 걷기 시작 새벽 시에 출발하여 엄청나게 휘몰아치는 바람 고갯길을 넘어 열 시간이 넘어갈 무렵 지친 발걸음을 멈췄다 몰아쉬던 나의 숨소리도 가라앉고 그 자리에 앉았다 무언가 있다 굉장한 격정이 있으면서도 고요하다 한참을 그 자리에 눈도 깜빡이지 않고 가만히 있었다 안으로 들어가 보지 않았다 몇 년이 흐른 후 그 곳을 다시 갔다 그 곳을 다시 가기 위해서 몇 년을 기다린 것 같다 아주 아주 조심스럽게 요동치는 가슴을 나 자신에게 조금씩만 내보이면서 그 곳에 들어가 이리저리 걸어 다녔다 캔버스 표현대상 나 그리고 분주히 끊임없는 그 무엇 의 움직임이 있다 가장 흥미로운 것은 그 무 엇 이다 본능 무의식 불규칙 예상하기 어려운 움직임 흔들림 환상 기운 빼기 리듬 지친 정열 헤 맴 감각 동물적 등등 이런 것 들 일까 나는 이들이 리듬을 만들어 가며 평화롭게 조화를 이루며 작업이 되는 과정을 원하기도 하지만 처절한 싸움을 하는 것도 힘들지만 좋아한다 이정 호 내 작업에 대한 것 들 네모나지 않은 것과 희지 않은 것이 시작하기 쉽다 스치듯 보고 기억이 만들어 낸 것 들을 기분 가는 데로 떠올리며 그려 나가고 내 작업에는 소리가 필요하다 소음이라 해도 좋을 겸사 겸사 음악이면 좀 나을 듯하다 적당히 나를 부정하며 짬짬이 자뻑도 하고 종종 뒤로도 가면서 일부러 비틀거리며 작업을 걸지 않겠다 널겠다 할 수록 비워 지기를 바람 이런저런 별 볼일 없는 사연이 있다 이 전시는 작업을 보일 때가 되어서 하는 전시가 아니다 더 이상 미루면 안될 그동안 자신에게 쌓여 있던 것을 보이고 싶은 절박함 때문에 하는 것이다 우리 셋에게 작업적으로 지향하는 것은 있지만 이 전시의 지향점을 찾는 것은 억지가 되었다 논리적인 작업 개요를 말하는 것에 거부감을 가졌지만 본능에 충실하려 한다',\n",
       " '느리게 꾸는 꿈 현대의 예술은 많은 경우에 있어 일상적 환경을 담는 부분을 이용하며 전유하게 된다 모두가 공감 가능한 현실 속의 시 공간을 반영하여 작가만의 시각을 갖는 사회적 현상들 로 이러한 예술 작업은 보는 이에 묘한 여운을 남긴다 대중의 실생활과 함께 유기적으로 상호작용하고 침투 되는 작업 예술의 풍부한 상상력 문화 환경으로 구성되는 작품은 지금 우리에게 익숙한 풍경이다 느리게 꾸는 꿈에서는 작가들의 내면의 감성을 진솔하게 표현하고 그것이 소유하고 있는 힘과 그림 외적인 정보들을 함께 나누어 보고자 한다 누구나 공감하며 즐길 수 있는 전시가 될 것이다 나 유림 본인의 작업에서는 인간의 의식으로 인해 억압되고 잠재되어 있던 욕망에 대하여 전개하려 한다 물질문명의 삶이 발전 할수록 우리에게 느껴지는 고독과 소외감은 계속해서 욕망을 갈망하고 그것을 손에 넣었다 할지라도 곧 권태로 이어지고 또 다른 결핍으로 인해 우리는 괴로움이 반복되는 삶을 살고 있다 보이지 않는 욕망을 무한 증식되는 유기체들 로 환원시켜 독자 적인 하나의 환영주의를 만들어 내고 환영적 대상은 본인의 의식 심층에 잠재된 심리적 욕망의 이미지가 환상적이고 초현실적으로 표현 된 것으로 이러한 가상과 환영의 만남은 신비로운 또 하나의 세상을 만들어 낸다 작품 속 실재가 되는 실내 공간은 평범한 개인의 공간이다 그 공간은 현대사회의 억압과 불안에서 벗어 나 자신의 개인적인 것을 지키며 휴식을 취할 수 있는 개인적인 자유의 공간임에도 불구하고 그 안에서 안주하지 않고 또 다른 욕망을 꿈꾸게 된다 심지어 침대 소파 책장 탁자 그 위의 컵 까지도 인간 욕망의 잔여물이지만 우리는 그러한 공간 안에서도 끊임없이 갈구하며 외로움을 느낀다 결국 욕망의 환영은 현실을 은폐시키고 실재를 감추게 되는 것이다',\n",
       " '그러나 뒤덮인 표면은 얼마 지나지 않아 슬픈 뉘앙스를 풍기며 그 거짓된 환영을 통해 실재를 명확히 바라보려는 두 간극의 아이러니를 느끼게 된다 역설 적이게도 환영을 통해 회피하려 하였던 현실의 진실을 다시 마주하게 되는 것이다 기존에 얌전히 자리하던 나의 개인 공간을 거대하게 몰아치는 욕망의 소용돌이 속에서 다시 구원되길 바라고 있는 것이다',\n",
       " '그렇게 엄청나게 불어난 욕망 뒤에 가려 진 진정한 가치가 무엇인지 무한히 증식되어 가는 유기체를 통하여 환영 뒤의 숨겨 진 진실을 찾으려 노력한다 정 나래 경쟁사회로 점점 나아가는 사회 따라가기 힘겨워 지고 삶이 버거워 지면서 각광 받고 있는 단어 한 가지가 있다 바로 힐링 이라는 단어 다 이 힐링을 접할 수 있는 중요한 키워드는 과거와 추억이 아닐까 하는 생각이 들었다 우리는 삶을 살아 내면서 한계에 부딪히고 슬프거나 절망할 때 각자 우리들 만의 따뜻한 기억 좋았던 추억 정겨웠던 과거를 끄집어낸다 과거를 회상하고 기억하면서 그 과거와 추억으로 지친 마음을 위로 받는다 본인의 작업은 그런 기억과 추억을 담아내는 매개체로 무심코 지나쳤으나 긴 세월 오래 전부터 한 장소에 묵묵히 있어 왔던 건물을 사용했다 볼품없는 낡은 것에 우리들의 기억과 추억을 덧붙히면 그 낡은 것은 그 순간부터 소중하고 의미 있는 것 들이 된다 새로운 테크놀로지와 그 문화가 우리의 삶의 방식을 자주 바꿔 놓는 세기에 추억이란 그것들 로는 충족시킬 수 없는 쉬어 가는 쉼표 같은 것이다 본인의 작품을 통해 과거와 추억을 회상하여 의미가 부여 되면 우리들의 삶은 아름답고 아련하게 지속될 것이다 그 지속에는 우리들이 부르는 또 우리들을 부르는 힐링이 있다',\n",
       " 'Fashion과 Passion 사이 드로잉 은 어 반 아트가 젊은 예술가들을 지원해 주기 위한 공간으로써 한해의 시작을 도전적으로 살아가는 세 여성 작가의 전시를 통해 그들의 도전 정신을 칭찬하고 새해를 힘차게 시작하고자 한다',\n",
       " 'Fashion과 Passion 이라는 주제의 이번 전시는 인의 여성 모두 여성과 패션을 주제로 하고 있으며 패션과 일 러스트 평면 꼴라 쥬를 선보이게 된다 이 장르들이 공통점이 없다고 생각할지 모르나 이들 세 여성 작가들은 옷과 섬유 fashion 이라는 공통의 관심사로 귀착되어 다양한 전공의 섭렵과 크로스 오버된 활동 영역을 덧입힌 발전된 결과물을 보여주고 있다 호기심 많고 욕심 많은 그녀들의 Passion DNA를 한 자리에서 느껴 보고자 한다 미국 시카고 아트 인 스티튜트에 서 화인 아트를 전공하던 최유주는 수준급의 바이올린 연주 실력의 소유자로서 일찍이 한복을 모티브로 한 발칙한 아이디어로 미국 교수들의 극찬 속에 전도 유망한 의상 디자이너의 길로 전공을 바꾸게 되었고 건축 미술 음악 등 동 서양의 문화를 폭넓게 통섭하여 해석하는 재주 있는 예술가이다 김현 영은 의상 디자인을 전공하였으나 지금은 뉴욕의 School of Visual Art에서 일 러스트를 전공 공부하고 다양한 책 디자인에 관한 전시와 활동을 뉴욕에서 하고 있다 케릭터 디자인을 전공하고 일본으로 건너가 일 러스트 레이션을 전공하던 정 유민은 예술이 밥 먹여 주냐',\n",
       " '는 어머니의 만류에 못 이겨 한국으로 돌아온 이후 백화점 판매원 빵집 등에서 일을 하면서도 그녀만의 레이스 꼴라 쥬 작품을 완성시킨 고집 있는 아티스트이다 전세계가 불황의 늪에서 허덕이고 모두 불경기를 한탄하며 예술이 밥 먹여 주냐',\n",
       " '고 하지만 이렇게 현실과 이상 사이에서 좌충우돌 하며 열정적으로 작업하는 젊은 예술가들이야말로 이 각박한 현실을 풍요롭게 만드는 우리의 희망이고 궁극에는 도시와 산업에 시각문화의 정신적 밥 을 주는 것이다',\n",
       " '한국 근대사진과 현대사진의 만남 국에 사진이 도입된 것은 년 대였다',\n",
       " '초상사진으로 생활의 기록으로 그리고 재현과 표현의 도구로 빠르게 확산되며 오늘에 이 르 렀 다 또한 한국 의 사진사 연구를 아무런 근거 틀도 없는 상항에서 시작 한 최인진은 년 한국 사진사 출간을 기초 해 사진사연구소를 출발시켜 냈다',\n",
       " '이렇게 한국 사진 발전에는 서로 각각 자신의 자리에서 최선을 다한 결과들이 오늘의 사진 계 이다 사진을 전문적으로 전시하는 공간들에 대해서도 살펴 보면 년 대는 갤러리로 부를 만한 공간이 없어 많은 경우 다방 이 전시장을 대신하던 시절이다 북창동에 있었던 중앙 공보관 이라는 유일한 문화공간은 국가 차원의 홍보기관이었는데 이 공간에서는 모든 문화 프로그램이 인기 있게 돌아가고 있었다 그 때 젊은이들은 이곳에서 KBS의 음악방송 프로그램을 남보다 빠르게 접수한 것을 자랑으로 여기기도 했었다 문학 음악 미술 연극 등의 다양한 정보를 이 곳에서 접하던 젊은이들이 사랑하던 공간으로 그 시대 문화계는 이 곳을 통해 소통되었다 년 대를 지나 년이 되어 사진전문 한마당 화랑이 광화문에 자리잡았다 사진 인들의 소통공간이며 만남의 공간으로 역할 했다 그 뒤를 이어 년 문을 연 갤러리 눈 Gallery Nun 이 압구정동에 등장한다 사진시장 의 서막이었으나 우리 문화 구조로는 시기 상조였다 년 대 들어서면서 미술계의 시대 변화에 힘입어 한국 사진계도 변한다 바로 한미사진 미술관 의 구축이다 이는 온 사진계의 열망과 변화된 미술계의 반응에 근거해서 다 사진 미디어가 시각예술의 중요 미디어로 자리잡게 된 확실한 시대적 호명이기에 더 힘을 얻었다 생각된다 예술에 관심 쏟는 대중들의 호응도 그 변화된 현상이었다',\n",
       " '트렁크 갤러리도 그 맥락에 서 년에 출발하게 된다 그간 년 간 참여 작가들의 성원과 사진 컬렉터들의 지지와 지원에 힘 입어 오늘에 이르고 있다',\n",
       " '트렁크 갤러리는 트렁크의 이미지 구축을 위한 시대 현상과 현장 욕구에만 귀 기울이며 달려왔다 이제야 겨우 뒤돌아 볼 기회를 마련했다 현재 활동하는 사진작가들이 사진 역사를 알아야 하고 사진 컬렉터들도 어떠한 시대를 거쳐 오늘에 이 르 렀 나 하는 우리 사진의 역사를 알아야 한다는 생각에서 다 선배 사진가들에 대한 경외와 존경의 마음이 절실하다 싶어서 다 한국 근대사진과 현대사진의 만남 전은 그렇게 마련된 것이다',\n",
       " '트렁크 갤러리가 감히 선배 사진가들의 작품세계를 살펴 볼 기회를 마련하는 근 현대 작가들의 작품을 컬렉션 해 온 한미사진 미술관 의 노력에 힘입어서 다 한미사진 미술관 의 한국 근대사진의 선각자들 The Portfolio of Korean Modern Photographers 아 카 이브 즉 시대적 아픔과 사회적 혼란기인 일제 강점기와 동란을 거치며 무사히 보존되어 온 세대 사진가들의 작품 을 보존 유지 시켜 낸 그 작품들에 대한 감사의 표현이 기도 하다 세대 사진 작가와 세대 사진가들 과의 만남 조우',\n",
       " '전에 같이 할 작가로는 년 대의 전기 산업사회를 맞아 새마을 운동 으로 인해 모든 전통이 뿌리 뽑혀 말살 되어 버린 시대 상황을 염려하며 철저히 기록해 내겠다는 의지 그 객관적 기록들은 그 시대사회 조건에서 힘겹게 해낸 두 분 강 운구와 주명 덕 작품들이다 오늘의 사진가들에게 존경 받아 마땅하리라는 판단에서 조우시킨다 이 전시할 작품 모두는 한미사진 미술관의 컬렉션에 의존해 전시를 구성한 것이다',\n",
       " '트렁크 갤러리는 이제 만 년을 맞았다 우리 사진의 선배들 작품을 만 나 본다는 것은 오늘의 작가들에게 내일을 이어 갈 힘이 될까 싶어서 다 그리하여 당대의 대표적이고 상징적인 작품들을 선별하기로 한다 년부터 매년 년 간 월과 월을 연속하여 우리의 세대 사진가 두 분과 세대 사진가 두 분을 함께 조망해 보려 한다 차적으로 년 월 일부터 월 일 그리고 월 일부터 월 일까지 진행되는 본 전시 명은 한국 근대 사진가와 현대 사진가 만남 전 이다 년 대 활동 한 근대 사진가 민충 식선생의 작품과 현대 사진가 강 운구선생의 년대 수분리 마을 작품이 서로 조우하고 년 대 활동했던 현 일영선생의 작품과 년 대의 주명 덕 선생의 한국의 가족 시리즈 작품이 서로 만나게 한다 이 같은 기획전은 트렁크 갤러리를 시작하면서 부터 계속 꿈 꾸었던 전시로 이제서야 그 을 펴 보려 한다 이 전시에서 만남 조우',\n",
       " '는 어떤 연관과 같은 맥락으로 규정지으려는 것은 아니다 각 시대 각 세대가 격은 사유체계가 다르고 각기 서로 다른 사명감에서 작업을 독려했을 것이기에 서로 연관되며 이어지지는 않을 것 같다 그들 각각은 작업에 임하는 자세도 다르며 시대적 요구도 달랐다',\n",
       " '그래서 서로 다른 감성체계를 갖고 있을 것이며 수용과 소통의 방법에도 차이가 있었을 것이다',\n",
       " '그러나 어쩌면 바로 그 지점이 우리의 관심이 될 것 아닌가 싶기도 하다 민충 식과 강 운구의 조우 민충식 년 대 작업 은 YMCA 사진과 회 졸업생이다 스튜디오 작업으로 연출된 사진부터 기록 성을 자각한 사진까지 다룬 작업들이다 민충 식에 대해 전해 오는 말 왜 사진을 박느냐',\n",
       " '란 제목의 강연 글에서 그의 작업세계를 살필 수 있다 그의 글 사진은 숨기려 해도 숨길 수 없어요',\n",
       " '있는 게 다 나오니까 사진은 사실의 기록이니까 지금도 내가 끔 직이 필름을 다 보관하고 있어요',\n",
       " '가령 무슨 고적을 발견 했다고',\n",
       " '합시다',\n",
       " '그 고적을 영구히 보전하기가 어렵습니다',\n",
       " '또 오래가면 풍마 우세 해서 변합니다',\n",
       " '그러면 그 시기에 사진을 박아 두면 몇 만 년 가더라도 계속 변함없이 볼 수가 있는 거예요',\n",
       " '앞으로 여러 곳을 사진으로 박아 두면 세상의 유물이 됩니다',\n",
       " '이전 전시에 보여 줄 이미지들에는 연동 교회 사진과 신식 결혼식장면 을 만 나 보게 되는데 민충 식이 남겨 준 당시의 유물 바로 그것이다 민충 식에 조우하는 강 운구의 작품은 년 대의 작업이다 강운 구는 년 조선 일조 사진부 기자로 출발 년부터 동아 일보 출판국 사진부 기자로 활동 년 뿌리깊은 나무를 통한 포토 에세이와 다큐멘터리 사진가로 냉철하고 객관적인 사실적 기록을 중시하는 강운 구의 사진철학은 사진의 참 의미를 우리에게 인식시켰다 이번 전시 작품은 년에 발표한 동아 일보 신동아에 실렸던 수 분리 마을 연작 점을 한미사진 미술관 컬렉션에서 후원하여 전시하게 됨을 밝힌다 바로 우연 또는 필연에 실린 작품집에서 선택한 작업들이다 그 책 우연 또는 필연에 실린 조세희의 글을 발췌해 여기에 옮긴다 아름다운 건 새집 마을은 초가를 단지 가난으로만 이해한 절대 권력자 시대 새마을 운동기간에 지상에서 사라졌다 수분리가 차라리 큰물을 만 나 금 강이나 섬진강으로 떠 내려갔다면 우리는 아직도 늦지 않았다면서 마을을 건지러 강으로 달려갈 수도 있었을 것이다',\n",
       " '없어 진 것은 물론 건 새집만이 아니다라고 또 이어진 글에서 그가 카메라에 필름을 넣어 들고 혼탁한 도시를 나사는 순간부터 아직도 우리는 옛 모습 그대로 남아 있다고',\n",
       " '속삭이며 다가오는 아름다운 것들에 사로잡혀 있었다 그리고 그의 사진을 볼 때마다 우리 땅 모든 영혼의 심장에 간다 라는 말이 자꾸 떠 올라 조세희의 위 글은 강운 구의 사진이 기록되어 남겨 졌다는 것 그 기록 물들 은 오늘을 사는 우리들에게 그 전 시대를 결코 볼 수 없는데 볼 수 있게 했다는 것 그래서 너무 소중한 유물 이 되고 있다는 것을 들어 말 한 것과 같다 바로 사라진 것 들을 사진으로 남겨 져 우리들의 인식체계에 들어오게 했다는 그 점 그 기록 성의 힘에 우리는 안도하며 감사한다 민충식의 왜 사진을 박느냐에서의 강연 글 그 기록 성 오늘 우리들에게 그 시대를 잃어버리지 않게 기록 보존시켜 보여주는 그 힘 민충식 과 강 운구 두 작가가 서로 조우 된 지점이다 현 일 영과 주명 덕의 조우 현 일영은 년 만주에서 활동하던 중 일본 아사 히 신문 주최 국제 상업예술사진현상 모집에서 등으로 수상 되면서 사진에 입문한다 년 만주에서 제 회 개인전 개최 년 서울에서 초상 사진관 개업 동시에 경성 사진학 강습원 강사로 활동했다 년 일본의 오리엔탈사진학교에 유학 그 후 많은 사진단체를 설립 한국 사단에 기여한 바 크다 년 서울 동화 백화점 화랑에서 제 회 개인전을 시작으로 회의 개인전까지 약 년을 걸쳐 작품발표를 했다 소재주의와 걸작주의를 극복한 한국 현대사진의 새로운 장을 연 작가로 평가되는 현 일영의 작품 들 재떨이 배추 잎사귀 사과 섬돌 위의 고무신 여자의 치마와 버선 선술집 진열장 세월을 읽게 하는 시계 등 등 평범한 사물들이 그의 섬세한 시각체계를 거쳐 비범한 힘을 지니게 되는 그의 작품들은 자신의 내면 세계와 사고를 표현하는 자신의 영상언어로 확립하여 한 작업들이다 년의 그의 개인전에 피력한 작업에 대한 글을 소개한다 그 동안 많은 원화가 쌓였다 이것을 나의 사색의 산물이라고 볼 때 감흥의 결정이라고 볼 때 한 낱 일기 같기도 하다 그러나 어찌 한 해의 사색과 감흥이 그 뿐이랴 산물과 결정이 그뿐이랴 만 그 것이 생활기록이다 나는 작품을 재 음미함에 반성을 찾고 추억을 더듬어 쾌락을 느끼려 한다 현 일영에 조우하는 주명 덕은 년 월 홀트 씨 고아원 이라는 제목으로 전시 성문 각 이라는 출판사에서 섞여 진 이름들 사진집으로 년 출판된다 그 책이 출판되던 그 해 중앙일보에 입사 월간 중앙 기자로 입사해 우리 사회분야에 관심 쏠리는 많은 주제들을 월간 중앙 에 연재되며 저널리스트로 활약한다 한국의 이방 한국의 가족 명시의 고향 한국의 메타포 국토의 서정 기행 까지 그는 사진도 찍고 편집도 해 낸다 그 시리즈 중 이번 트렁크 전시에는 한국의 가족 시리즈를 소개하려 한다 그 시기는 박정희의 군부독재 강화와 월 유신 단행시기로 정부 시행 경제개발계획 추진에 따른 산업화 도시화가 적극 추진되던 시기였다 한국이 대가족에서 핵가족으로 변모하던 이 시기에 여성 사회학자 이 효 재 선생과 공동으로 작업한 한국의 가족 시리즈는 글과 사진이 함께 한 편집효과로 당시 매우 관심을 끌었다 작가의 말에 의하면 한국의 가족 사진을 찍을 때 편집회의에서 우리가 살고 있는 이 땅 사람이 태어나서 죽을 때까지의 모든 여정들을 대가족에서 핵가족으로 넘어가는 과정을 통해 나 타 내보자고',\n",
       " '합의를 봤습니다',\n",
       " '이 작업 이후 그는 국토서 정 기행 그리고 명시의 고향 등으로 이어졌다 그의 작업형태가 서 정적으로 변모 한 것이다 내가 다큐멘터리를 포기한 이유는 매체에서 실어 주지 않는 사진은 아무 의미가 없다고 생각을 했기 때문이었습니다',\n",
       " '나는 사진을 보는 다른 작가들에게 사회적인 측면에서 문제제기를 해야 한다고 생각하고 있었기 때문에 내 사진들을 발표할 수 있겠냐',\n",
       " '는 다른 사람들의 질문에 그렇지 못하다는 반응을 보였습니다',\n",
       " '현일 영과 주명 덕의 조우 는 좀 색다르다 주명 덕의 대에 현 일영 선생님의 젊은이들과 가까이 하셨던 결과 다 사진에 관한 어설픈 소통을 기꺼이 들어주시던 분 자신의 그 많은 사연도 나누어 주시 던 분이셨다 주명 덕선생이 그 분과 더 가까웠던 이유는 또 있다 교우였던 친구의 아버지 셨다 그 자신의 필름관리까지 맡기셨다고',\n",
       " '하니 과연 주명 덕과 현 일영의 조우 는 그래서 남다르다 싶다',\n",
       " '란 최현 석 난으로 란 을 이야기 하다 미술을 하는데 있어서 수많은 고민들 중 작업의 다양성과 주제의식의 합리화 과정은 작가에게 실제 작업의 행위보다 더 큰 고민과 고통을 안겨 준다 모든 문제에는 동전의 앞뒤처럼 양면성을 가지고 있고 그 선택에 따라서 작가의 성질이 결정될 수 있다 미술의 기능을 크게 두 가지로 구분한다면 개인사적 이야기인가 와 시대사적인 이야기 인가로 나뉠 수 있고 이것 역시 양면성처럼 섞일 것처럼 보이지는 않는다 하지만 그 둘의 성질은 섞여야 하며 그래야만 비로소 미술의 기능을 발하게 된다고 생각한다 미술은 그 시대성을 목적으로 두고 있지 않으며 자신의 취향에 대한 필요성을 좀 더 구체화 시키는 과정의 연속으로 현실의 고발과 반영이 아닌 그 시대에 가능했던 불필요한 행위들을 하지 않음으로서 역설적으로 작가의 의식이 그 시대를 대변하게 함을 미술의 훌륭한 가치라고 생각한다 작가 최현 석은 기본적으로 회화 작가 이지만 그 장르를 넘어 작가가 가져야 할 의식에 대한 줄타기를 위험 스레 즐기고 있는 작가이다 그의 작품을 대할 때 일반적으로 사회적 성향이 강한 듯 보이지만 그렇다고',\n",
       " '구체적인 방향을 제시하고 있지 않으며 동양의 민화나 만화적인 캐릭터들이 등장하는 그만의 그림 체는 자신의 개성과 취향에 의존한 듯 보이지만 실제로는 많은 고증과 사료들을 근거로 제작되었음을 알 수 있다 그의 작업에는 현재 한국사회의 불편한 상황에 많은 캐릭터들이 말하고 행동하는 것을 볼 수 있지만 그 이상 즉 비판적인 입장을 취하고 있지만 직접적인 폭력은 없으며 구체적인 결말 또한 이야기 하지 않는다 구체적인 해석과 설명은 관객을 안심시킨다 하지만 뻔히 알고 있는 답이 정해져 있는 문제는 얼마나 심심 하고 재미없는가',\n",
       " '그래서 최현 석의 미술은 다양한 해석이 나올 수 있는 꽤 흥미로우며 재미있을 수 있는 미술이다 년 전시 란 은 말 그대로 어지러운 상태에 이르러 어지러움을 말하는 전시이다 다시 말해 교통난 식량난 주택난 취업난 등의 사회문제를 대선을 거처 가며 맞은 혼란을 이야기하는 전시라고 할 수 있다 그리고 기존의 작업에 비해 달라진 점이 있다면 개성적인 작업의 설정보다 작가 자신의 말을 중시하고 그것을 풀어 가는 방법에 대한 고민이 보여 진다는 점이다 작품 대포동 나로 호 는 위성 로켓 발사 불발과 관련하여 남과 북의 상반된 상황에 대한 이야기를 단순한 어조로 담담 하게 표현했는데 이는 작가가 많은 이야기나 숨은 메시지 찾기 같은 복잡함 대신 조금 단순하지만 하고자 하는 이야기를 분명히 함으로서 역으로 관객으로 하여금 더욱 다양한 의견을 품을 수 있는 계기와 같은 작품으로 바라봐 진다 이 작품을 기점으로 한 이번 전시는 NLL에 대한 문제나 대선에 관한 이야기 등을 다루고 m 길이에 달하는 대작을 마무리로 총체적인 국란을 이야기 한다 새로운 시도와 풍성 해진 시선 회화 작가 최 현석에게 있어서 미디어 아트는 그리 생소하지는 않았을 것이다',\n",
       " '물론 관객의 입장에서는 다소 의아해 보일 수도 있겠으나 어쩌면 그것은 관객의 착각이나 편견 정도로 치부해 버릴 수도 있으리라',\n",
       " 'IT 강국 한국을 굳이 언급하지 않더라도 요즘 세상에 미디어에 종속되지 않은 사람이 없고 다양한 매체를 시간과 장소를 구애 받지 않고 손 안에서 해결할 수 있는 시대에 살고 있는 시점에서 미술가 또는 화가에게 붓과 물감에만 의지 하라는 건 너무 가혹한 일이 아닐까 생각 한다 작품 구화 는 최현 석의 싱글 채널 비디오 작업으로 여 개의 입이 꽃의 형상을 하고 각자 또는 집단으로 말을 하고 있는 이미지로 조금 기괴한 느낌의 작업이다 이는 서로의 말이 서로 다른 말을 할 때 느껴지는 소음과 소통의 부제에 대하여 생각하게 하고 다양한 해석을 불러일으킨다 작품은 실제로 무 음성 버전과 소음과도 비슷한 음성 버전이 있고 각자의 느낌은 서로 아주 다르게 느껴질 수 있는 특징이 있다 무언가를 말하려는 의지는 중요하다 그것이 자기 주장으로만 국한되어서는 안 되겠지만 그 의지까지 꺾여서는 안 된다 작가 최 현석에게는 그런 의지가 보인다',\n",
       " '그림 고백 양 경모 서양화가 양 경모 세 의 개인전이 롯데 갤러리에서 열린다 이번 개인전은 작가의 첫 번째 개인전으로 주제는 그림고백 이다 호남 대 미술학과를 졸업하고 지속적으로 작품활동을 해 온 양 경모 작가는 예술의 첫 근원은 어디인가를 물음으로 작업의 내용에서 구원 의 메시지를 표현한다 작품활동 중 시력 약화로 망막 박리의 아픔을 견뎌 내야 했던 작가는 붓과 물감으로 그려내는 평면 회화와 더불어 CD 나 투명 컵과 같은 일상적인 오브제를 이용한 입체작품도 함께 선보인다 화가에서 있어 시력은 절대적인 작업 수단 임을 고려할 때 그간의 과정이 지난하고 고민으로 점철되었을 시간이었음을 미루어 짐작할 수 있다 신은 최초의 예술가이며 창작가에게 깊은 영감을 주는 마르지 않는 샘물과 같은 생명의 근본이다 작업의 모티브는 이러한 영감을 나의 이야기로 만드는 것이다 신의 창조성과 구원성이라는 두 축이 내 그림의 중심이다 더불어 순수 본질에 충실하여 담백한 그림의 맛을 내는 순수 예술가가 되기를 꿈꾼다 혼돈과 공허 함의 시대에 질서와 조화 그리고 선하고 아름다움으로 마음을 움직이는 그림을 그리고 싶다라고 역설하는 양 경모 작가의 표현에서 볼 때 그리는 행위 자체가 작가로 하여금 얼마나 절실한 것인 지 체감할 수 있다 작가의 작품에는 종교적 도상과 상징물들이 자주 등장한다 색채는 되도록 순수 원형에 맞는 원색을 사용하며 추상적이고 회화적인 형태보다 감상하기 용이한 조화로운 화면을 구사하려 한다 첨단을 달리는 현대미술의 다양한 표현방식 안에서 양 경모 작가의 작업은 어린아이의 순수처럼 사뭇 단순하기까지 한 맑은 기운을 선사한다 새해 맞이의 마음으로 형형할 시기 절실한 작업세계로 화 업을 지속하는 작가의 다짐에 많은 분들의 격려가 함께 하기를 기원한다',\n",
       " '바람의 흔적 너무나 바쁘게 돌아가는 각박한 세상을 살아가면서 언제부터인가 마음의 여유는 잊은 채 살아가고 있는 것 같다 젊은 날 감성이 풍부했던 사춘기 시절 내 마음을 위로 해 주던 감미로운 노래는 더 이상 듣지 않고 편하게 앉아 영화 한편 볼 시간이 있던가 시를 읽는다는 건 생각지도 못하고 내가 이렇게 정신없이 스트레스와 함께 흘러 보낸 시간들은 무엇을 위한 시간인 것인가 지금 희생한 댓가로 나중에 언젠가 여유로울 날이 올 것이라 믿는 것인가 마음은 항상 미래를 생각하고 그것을 대비해 현재를 희생하고 있지만 내가 숨 쉬고 바라보고 느끼고 있는 시간은 지금 현재라는 걸 잊지 말아야 한다 바람에 흔들리는 들판의 꽃을 보며 잠시 여유를 가질 수 있기를',\n",
       " '임 근 우 조재만 오 원영 임 근 우 작가의 회화 Cosmos 고고학적 기상도 모든 중력을 거부한 채 공중 부양되어 있는 도원경 속 복숭아꽃을 머리에 피운 역동 성과 풍요의 상징인 이상형의 동물 말 젖소 이 고고 학적 무 릉 도원 을 부유하며 심산 유곡 어디든 꽃을 배달하는 이 시대의 행복 기상도 이자 미래에 대한 유토피아를 그린다 조재만 작가의 유토피아 기상도 기성시대와 기존의 시스템에 반하는 행위일지라도 솔직한 감정 안에서 정직한 삶을 표현하고자 파괴적 기질을 갈망하는 작가의 또 다른 인간 인체 의 외피 신비를 담은 타 투 Tatoo 시리즈 와 더불어 원시적인 아프리카의 풍경 동물 과 임 근 우 작가의 회화 Cosmos 고고학적 기상도 가 만났다 오 원영 작가의 Never Never land 안의 청량한 맹수들 Double 시리즈 자유로운 사고를 바탕으로 젊고 독특한 발상이 가미된 스토리 구성력과 상상력의 결과물들은 작가의 조형적 역량이 뒷받침 되어 설명적 요소나 큰 의미 부여 없이 관람객과의 적극적인 대화법을 구사하고 청량감과 함께 기분 좋은 묘미가 있지만 이율배반적 양태를 지니고 있다 회화 사진 조각이라는 서로 다른 장르 안에서 현대인들의 긍정적 자아 자아 성찰의 계기가 되고자 하는 세 작가의 작품들이 한 공간 안에 어우러져 시공간을 뛰어넘는 우리의 희망과 자연 속 인간의 존재가 가지는 낭만에 대하여 말하고자 한다',\n",
       " '옛사람의 삶과 풍류 조선시대 풍속화와 춘화 갤러리 현대는 새해 첫 전시로 조선시대 풍속화와 춘화를 아우르는 대규모 전시 옛 사람의 삶과 풍류 조선시대 풍속화와 춘화를 두 가헌 갤러리와 갤러리 현대 본관에서 개최한다 갤러리 현대 본관은 조선 후기 화가들의 풍속화 점과 대중에게 처음 공개되는 심전 안중식의 평생도 그리고 단원 김홍도와 혜 원 신윤복의 작품으로 전해 내려오는 춘화 만 세 이상 관객만 관람 가능한 점을 선보인다 두 가헌 갤러리에서는 평민 출신 풍속화가 김 준 근의 작품 중 새로 발굴된 미공개 작 여 점을 최초 공개한다 이번 전시는 조선시대를 풍미했던 회화의 다채로운 장르를 두루 섭렵한 미공개 작까지 한데 모은 획기적 전시이다 본관 층에는 조선 후기 생활을 그대로 재현한 듯 공재 윤두서 관 아재 조영석 긍 재 김득신 혜 원 신윤복 긍 원 김양기 혜 산 유숙 소당 이재관 심전 안중식 등 당대 최고 화가들의 걸출한 명작으로 조선시대의 풍류와 멋을 즐길 수 있다 특히 대중에게 처음 공개되는 석 초의 일생에 대해 그린 평생도 는 청전 이상범과 소정 변관식의 스승이 기도 한 화원 출신 화가 심전 안중식의 작품이다 특별히 본관 층은 성인 관람객에게만 관람이 허락된다 단원 김홍도와 혜 원 신윤복의 화풍으로 전해 오는 세기 전반경의 운 우도 첩 과 년 경 작 건곤 일 회첩 이 원화 화첩 전체로는 처음 대중에게 공개된다 운 우도 첩과 건곤 일 회첩은 조선 후기 춘화 가운데 가장 회화성이 뛰어나고 격조를 갖춘 작품으로 춘화의 백미로 평가 된다 특히 운 우도 첩은 잡지나 책에 부분적으로 실려 왔기에 눈에 익지만 원화가 공개되는 것은 최초이다 우리 춘화 첩에는 남녀노소와 신분 고하의 다채로운 인물들이 등장하는데 대부분 부적절한 남녀관계를 그려 유교의 도덕개념으로는 매우 파격적인 당대 사회의 성문란을 보여준다 세기 우리 춘화에는 신분사회에 대한 풍자와 농담이 짙게 깔려 있는데 춘화가 중세의 유교적 엄격주의를 깨는 일에 더없이 좋은 예술적 소재였음을 시사한다 때로는 해학적이면서 낭만이 흐르고 때론 점잖은 듯 하며 가식 없는 에로티시즘의 감칠맛이 우리 춘화의 아름다움이다 이번 전시를 기념하여 특별히 관람객들을 위한 춘화 화첩이 제작 판매되는데 원화의 매력과 품질을 그대로 담아 제작되는 이 춘화 화첩은 그림에 대한 이해를 돕는 해설까지 곁들여 국내외 고객에게 우리의 문화를 알리는 기회가 될 것이다 두 가헌 갤러리에는 평민 출신 화가 기산 김 준 근 세기 중엽 세기 초 의 미공개 수작을 모았다 한국을 최초로 세계에 알린 것으로 평가되는 평민 출신 화가 기산 김 준 근은 독일 베를린 미술관 미국 스미소',\n",
       " '니 언 박물관 등 세계 유수 박물관에 조선시대 풍속화로는 가장 많은 작품이 소장된 화가이다 재미있는 것은 유수의 박물관에 소장된 작품이 조선 화원 출신이 아닌 평민 화가 김 준 근의 것이라는 점이다 조선 최초의 개항장이었던 원산에서 주로 활동했던 김 준 근은 당대 주류였던 중앙 화단과 관련이 없었지만 우수한 기량과 사업적 수완으로 수출 풍속화 의 대표주자가 되었다 수출 풍속화 는 중국 일본과 더불어 조선을 경유하였던 외국인 여행가들이 수집을 목적으로 개항장 주변 화가에게 주문했던 그림을 일컫는다 새로운 문화를 파악하기 위한 실용적 목적으로 제작되었기 때문에 배경은 되도록 간략하게 일정한 양의 세트로 제작되는 특징을 지닌다 서구인들은 일과 놀이 관혼상제 관리와 형벌 무속 등 다양한 주제를 손에 잡힐 듯 실감 나게 그린 기산의 풍속화를 통해 조선의 다양한 면모를 파악할 수 있었다 두 가헌 갤러리에 선보이는 작품은 현존하는 김 준 근 풍속화 중에서도 회화적으로 가장 발달한 시기에 제작된 것으로 세부적 표현과 다채로운 채색이 절정의 솜씨를 보여주어 그의 작품 중에서도 수작으로 평가 받는다 기존에 알려 진 점에 덧붙여 새롭게 발굴된 점 중 점을 선택하여 최초 공개하는 이번 전시는 이제는 거의 외국 박물관에 소장되어 있는 기산 김 준 근의 풍속화를 직접 볼 수 있다는 점에서 다시 없는 기회이다 전시기간에는 관람의 이해를 위한 명 강의 회 마련되어 있다 월 일 수요일 오후 시에는 유 홍 준 교수의 옛 사람들의 삶과 풍류 가 월 일 수요일 오후 시에는 이태 호 교수의 조선 춘화의 에로티시즘 이 신관 전시장 지하에서 진행된다 선착순 명에 한하며 따로 사전 예약은 받지 않는다 옛 람의 삶과 풍류 조선시대 풍속화와 춘화 전시는 우리 근 현대 미술의 뿌리를 되짚고 우리 옛 미술을 재평가하는 자리로 기획되었고 특히 젊은 세대와 자라나는 세대에게는 한국 미술의 우수성의 기원을 옛 미술에서 발견할 수 있는 좋은 기회가 될 것이다 월 소중한 가족이 함께 모이는 기간에 남녀노소 누구나 유익하게 즐길 수 있는 좋은 문화적 체험이 될 것으로 기대한다',\n",
       " '대상과 심상 김재 형은 망치 가위 전동 공구 이불 TV 등과 같이 자신의 눈과 손에 닿는 일상용품을 마치 피와 살을 가진 육체처럼 나타낸다 그의 작품은 대부분 사물 속에 몸이 스며 들어간 형태를 취하고 있는데 그것을 보고 있노라',\n",
       " '면 왠지 모르게 다음과 같은 의문이 떠오른다 지금 내가 보고 있는 사물은 내 몸 바깥에 놓여 있는 대상인 것일까 아니면 내 몸 안에 스며든 심상 인 것일까 지금 내 시선과 의식 속에 생생하게 자리 잡고 있는 사물들은 제 고유의 물성으로 제 나름의 공간을 점유하고 있다 이들은 내 몸의 존재 여부에 상관없이 이미 공간 속에 존재하고 있다 이들이 내 몸 바깥에 독립해 있는 대상이라는 것은 구태여 따져 볼 필요도 없는 사실인 것 같다 하지만 금세 이에 대한 반론이 재기된다 지금 내가 보고 있는 사물의 모습은 내 눈과 몸에 바탕을 두고 있다 이들은 오직 눈과 몸에 투영된 상으로서 만 모습을 드러내기 때문에 언뜻 보기에는 내 몸에서 독립된 대상처럼 인식되지만 사실은 내 육체와 한 몸을 이루고 있는 심상으로서 받아들여 진 것이다 특히 이들 가운데 오랫동안 접촉해서 눈과 손에 익은 사물들은 거의 내 몸처럼 느껴진다 이처럼 사물은 몸 밖의 대상으로 설정될 때보다는 오히려 몸 안에 스며든 심상으로 이해될 때보다 생생한 현실감을 갖게 된다 이처럼 쉽게 해답을 찾을 수 없는 의문을 가져 다 준 김재 형의 작품 세계는 어떻게 구성되는 것일까 이미 언급하였듯이 그의 작품은 작가의 몸속에 스며들어 있는 사물의 심상을 몸 밖의 대상으로 나타낸 것이다 김재 형은 사물이 자신의 몸속에서 심상으로 맺힐 때 겪게 되는 육체적인 합일의 경험을 작품에 충실하게 옮기려 한다 예컨대 김재 형이 작업실에서 자주 사용하는 망치는 원래 그의 몸 밖에 놓여 있는 대상이다 나무 자루와 쇠뭉치로 이루어진 그것은 단단하고 무겁다 하지만 그것은 망치로서 계속 사용되는 가운데 김재 형의 몸속에 하나의 심상으로 자리 잡는다 심상으로 전환된 망치는 단단하지도 않고 무겁지도 않다 그것은 살덩이처럼 부드러우며 자유롭게 휘어진다 그리고 때로는 망치질 하는 방향에 따라 여러 개로 증식하기도 한다 그러나 이와 같은 망치의 심상은 김재 형의 몸속에 폐쇄되어 있어서 본인이 아닌 이상 그것의 존재 여부를 확인할 수 없다 그것을 다른 이와 공유하기 위해 김재 형은 몸 속에 형성되어 있던 망치의 심상을 몸 바깥에 있는 대상의 형식으로 다시 전환시킨다 이 때 다시 몸 밖의 대상으로 되돌아온 망치는 심상이 되기 이전의 망치와는 전혀 다른 성격을 갖게 된다 김재 형은 망치가 몸속 심상으로 있을 때 머금었던 육체의 자취를 망치에 적극적으로 반영시키고자 한다 그리하여 망치는 대상으로 있을 때의 물리적 한계를 벗어 나서 길이가 늘어나기도 하고 줄어들기도 하고 부피가 커지기도 하고 작아지기도 한다 김재 형은 망치뿐만 아니라 가위 전동 공구 이불 TV 등과 같이 친숙한 심상으로 자기 내면에 투영되어 있는 사물을 작품으로 제작한다 그러한 결과로서 나타나는 김재 형의 작품은 대부분 사물과 육체가 뒤섞여 있는 기묘한 형상이 된다 그의 작품이 나오기까지의 과정은 대상 몸 바깥 심상 몸 안 대상 심상 몸 바깥으로 정리할 수 있다 이 때 작품으로서 드러나는 것은에 해당하는 과정이겠지만 사실 가장 섬세하게 조율되어야 할 부분은 작품으로 나타난 과 실재 대상 사이의 대비이다 그러한 대비가 성공적으로 수행되었을 때 비로소 눈에 드러나지 않는 의 과정이 전달될 수 있다 다시 망치의 예를 들어 설명해 보면 관객은에 나타난 망치의 형상과 의 과정에 놓여 있는 망치를 대비하는 과정에서 작가가 일상에서 망치의 모습을 보면서 느꼈던 결핍과 문제의식을 유추하게 된다 그것이 가능해야만 의 과정 속에 은폐되어 있는 망치의 심상을 의 과정으로 이끌어내기 위해 작가가 기울인 노력이 설득력 있게 전달될 수 있다 가장 우려스러운 점은 사물과 육체가 뒤섞여 있는 의 형상이 너무 부각되어 관객에게 의 과정을 음미 할 수 있는 여지가 사라지는 것이다',\n",
       " '하지만 이는 작가가 의지를 가지고 있다면 충분히 예방할 수 있는 요소라는 생각이 든다 현대 미술의 중요한 미덕 가운데 하나는 그저 무의미하게 흘려보내게 되는 일상의 감각 활동에 대해서도 의미심장한 성찰의 지점을 제공한다는 것이다 김재 형의 작품은 우리가 사물을 감각할 때 이루어지는 대상의 인식 심상의 발생 그리고 대상과 심상 사이의 대립과 혼합을 자신의 작품 속에 집약시켜 드러내고 있다 그의 작품은 한 개인의 특이한 감각 활동을 표현하는 데 그치는 것이 아니라 모든 사람들이 일상의 사물과 맺고 있는 관계의 보편적인 지점에 닿고 있다 그의 작품이 환기 하는 것은 지금 내 감각에 닿고 있는 키보드 커피잔 모니터 필기구와 같은 사물들의 진짜 모습은 무엇인가 하는 것이다 이러한 질문에 사려 깊게 반응하는 관객은 일상의 감각 활동 전체를 갱신할 수 있는 일종의 방법론을 그의 작품 속에서 찾을 수도 있을 것이다',\n",
       " '상상 을 블렌딩 Blending 하다 강성 욱은 년대',\n",
       " '말부터 Transformation 변형 변신 이라는 제목 아래 서로 다른 형상이 특이하게 연접해 있는 작품들을 구상 제작해 왔다 두 세 개의 이질적인 형상들이 서로의 모습으로 변신해 가고 있는 과정을 그대로 드러낸 채 결합되어 있는 조금은 생경한 작품들이 그것이다',\n",
       " '참고한 자료에 따르면 이러한 작업은 작가가 독일에서의 학업을 마치고 얼마 되지 않은 해인 년을 기점으로 해 기존의 조각 작업들에서는 잘 다루지 않았던 변신 조각에 관심을 보이면서 부터 시작되었다',\n",
       " '그런데 이렇듯 형상들이 통합되는 과정까지를 한 덩어리로 표현해 내야 하는 변신 조각의 개념은 컴퓨터 그래픽 프로그램들 속에 담겨 있는 특별한 기능을 빌어 비로소 구현될 수 있었다 쉽게 말해 D 그래픽 프로그램인 일 러스트 레이터에서의 블렌드 Blend 기능이나 D 그래픽 프로그램에서의 로프트 Loft 기능 등을 통해 두 개 이상의 다른 형상이 혼합되어 변해 가는 과정을 함께 보여주는 기능을 활용함으로써 가능할 수 있었던 것이다 사람이 차로 변신한다 든지 고양이가 독수리로 변신한다 든지 하는 아무튼 모양이 다른 형상을 양 끝 단에 배치한 후 블렌드 기능을 적용하거나 표현하려는 형상들의 단면을 해당하는 위치에 배치한 후 로프트 기능을 적용하면 변모해 가는 형상들이 하나로 연결된 모양으로 형성되는 것이다 이러한 작업은 물론 고전 조각 작업이 가진 한계를 넘어서고자 했던 작가 나름의 진지한 고뇌의 산물이었다 마르 쉘 뒤 샹 Marcel Duchamp 이 평면에서 변화의 과정을 동영상 개념과의 접목을 시도 하여 화폭에 실현하고자 하였던 것과 같이 또는 토니 크렉 Tony Cragg 이 공간에서 조형의 변화를 입체적으로 형상화하고자 하였던 것과 같이 작가는 시간의 변화와 역사의 흔적을 현재와 연결해 조형적으로 담아내는 방법의 하나로 변신 Transformation 의 궤적을 입체적인 조형으로 표현해 보고자 했던 것이다 말하자면 상상 을 블렌딩 Blending 하고자 했던 것이다 이를 통해 작가는 독특한 미의 형식뿐만이 아닌 다양한 삶의 양상과 그 속에 깃든 의미와 가치들을 은유적으로 드러내고자 하였던 것이다 그리고 이러한 작가 특유의 관점은 빠르게 변화하는 현대사회의 트렌드와 성공을 향해 질주하는 현대인의 모습을 표현한 작품 쎄 엥 Ssae ang 이나 나비를 쫓아 달려가는 인생의 낭만과 허상의 단면을 표현한 작품 butterfly flower runner 등을 통해 확인 할 수 있다 작가는 독일에서의 수학을 계기로 개념미술에 심취했었다 그에게 있어 예술은 작가가 행한 노동의 양적인 결과물이라 기보다는 개념과 그 개념을 종합하고 풀어내는 과정의 질적인 결과물이었다 말하자면 상상 을 블 랜딩 Blending 하고자 했던 것이다',\n",
       " '그래서 그의 작업은 조각이라는 장르에 기반하고 있었지만 장르에 얽매이지 않는 다양한 모습으로 나타났다 불조각 조약돌의 Calligraphy 청색 페인팅 꽃피는 붓 그리고 Transformation 등은 그 좋은 예라고 할 수 있다 그러나 이러한 개념미술의 추구라는 것이 일부가 오해하듯 삶과 유리된 지적인 유희에 불과한 것은 결코 아니었다 작가가 추구했던 것은 결국 삶의 의미를 되새기게 하고 그 가치를 새롭게 할 정신의 다양한 변주로서의 발상과 표현이었다',\n",
       " '그래서 어쩌면 그의 작품에서 우리가 주목해야 하는 것은 양 끝 단에 자리한 단정적이고 결론적인 형상이 아니라 변화되어 가는 형상 전혀 다르게 보이는 형상이 융화되고 연결되어 가는 과정 그 자체인지도 모르겠다 구별과 대립이 아닌 분리될 수 없는 관계와 그 관계에 대한 새로운 이해라는 것이다',\n",
       " '전시작가 강대 운 구자 승 권 옥연 권 진 규 김경 김 경승 김정숙 김충선 김 호걸 김흥수 남 관 박 득 순 박 생광 박 석호 박성환 박 영선 배동 신 손상기 손 일봉 송 혜 수 오승 윤 이동 표 이림 이만 익 이인성 이종무 이 충 근 임직 순 장리 석 전 뢰 진 전 혁 림 정문 규 정승주 조 병태 천 경자 최 쌍 중 최영림 한묵 황 술 조 황 영성 황용 엽 화가의 여인 나부 한국 근 현대 누드 걸작 여인이 벌거벗은 그림인 고로 사진으로 게재치 못함 매일 신보 년 동경미술학교 졸업 생인 김관호 의 졸업작품인 해질녘 이 문전 일본 문전 회 특선을 알리는 신문기사 말미에 밝힌 내용처럼 지극히 보수적이었던 한국사회에 한국 누드화의 역사가 근 년이 되는 시기 알몸은 볼거리라는 편견에서 벗어 나 서구문화의 소산인 누드가 한국에 정착하며 변화되는 과정을 살펴보려 함 년대 이전은 누드 작품이 극히 드물며 아 카데',\n",
       " '믹한 미술의 전형에서 차츰 벗어나려는 시도 년대 이후 작품은 누드를 그린 작가 중 화단의 위상 다양한 화풍 그림 속 이야기를 담고 있는 작품으로 골라 선 보임 한국에 누드 화가 시작된 이후 년대부터 년대',\n",
       " '현재까지 근 현 대기 대표적 누드 점 소개 년대 이전 제작된 누드화로 현재 남아 있는 작품이 약 여 점으로 추정 그 중 이인성 작품 소개 전쟁 시 제작된 누드화 이 림 의 누드는 피로 물든 것 같은 핏빛 누드로 아파서 신음하는 인류를 어머니의 누드로 표현하여 눈길 전쟁 피난 시절 부산에서 제작된 권 옥연 의 부인상 평생 단 한 점의 누드만을 남겼다는 한 묵 의 누드 는 전쟁 중에도 멈출 수 없었던 작가의 예술의지를 엿볼 수 있다 종전 이후 유럽 미국 등지로 유학을 다녀온 초창기 유학파 김흥수 박 영선 의 이국적인 누드 왜 색이 짙었던 박 생광 의 누드도 선 보여 년대 민족 고유한 정서가 담긴 설화나 민담 등을 에로틱한 여인의 누드와 결합하여 독자적 세계를 구축한 최영림 의 독특한 모래 그림을 비롯 박석 호 박 항섭 장리 석 송 혜 수 이종무 등 향토색이 짙은 누드 소개 전형적인 사실주의 계열 화가로 완벽한 뎃생력으로 생동감 넘치는 여인의 나체상을 그린 박 득 순 을 비롯한 김 호걸 구자 승 조 병태 등 누드화를 즐겨 그린 사실주의 누드화와 함께 대부분의 작가들이 그랬듯이 평생 남긴 누드 화가 몇 점 정도밖에 안되는 작가 남 관 박성환 이만 익 임직순 등도 소개됨 자신의 신혼을 담은 손상 기 의 연인 상인 화가와 여인 과 임신한 여인 그림 초조 는 작가의 행복한 순간을 화면에 담았다 또한 천 경자 의 대작 전설 역시 당시 가정적으로 가장 행복한 시기를 보낸 작가의 모습을 반영하듯 의례적으로 따뜻하고 서 정적인 작품을 선보인다 누드와 춘화의 다른 점은 춘화는 대중의 성적인 정서를 의도적으로 드러내는 것에 치중한다면 누드는 인간 자체의 가치를 부여하는 작업이다',\n",
       " '이제 백년을 넘어서는 한국 서양화의 역 사를 누드를 통해 폭넓게 조망하는 자리',\n",
       " '관용 아이러니 복제된 형상구조 속 전복의 미학 Guan Yong Irony The Overthrow of Aesthetics 욕망의 제국에서 일반적으로 인간은 출생 이후 자아가 인식되기 전부터 줄곧 추상적이고 원대한 목표를 세우는 것을 당연하게 여긴다 물론 이러한 목표와 이상은 건강한 삶을 영위하는데 도움을 주는 것 또한 사실이다 그러나 인생을 살아가는데 꼭 이상과 목표가 거대해야 할까 마찬가지로 예술에 있어서의 목표점이 위대해야 할까 이것이 대체 무슨 소 린 가 하지만 필자는 인생살이나 예술활동에 있어 그렇게 위대하거나 거대한 추상적인 목표 만이 가치 있고 의미 있는 것이라 생각되지 않는다',\n",
       " '사실 인생이란 인생에서 나오는 질문 하나하나에 응답해 나가는 과정이며 예술 또한 창작과정에서 생기는 의문이나 표현하고자 하는 것을 하나하나 연구하면서 표현하는 것이라 생각한다 그러나 현재 많은 동시대인들이 이러한 사고 과정을 간과하고 있지 않은가',\n",
       " '그것은 아마 잠시도 자신을 돌아볼 여유조차 주지 않는 현대인의 삶 때문에 그 중요한 가치를 간과하게 되는 현상일 것이다',\n",
       " '그러다가 간혹 문득문득 자주 자신은 누구인가 라는 다소 엉뚱한 방식으로 정체성과 맞닥뜨리곤 한다 이는 인간의 욕망을 무한대로 증폭시키는 방향으로 쉴 새 없이 몰고 가고 있는 현 물질 사회에서 더욱 더 그러하다 일례로 과거의 경우 개인의 욕망은 지극히 소박했는데 아마도 이것은 이미 선택된 인간들 만이 그들 사이의 욕망 쟁 투전을 벌였고 이들 간의 사건들이 역사가 되었기 때문일 것이다 그러나 과거와 달리 이제는 비교적 평등하게 각 개인이 갖고 있는 욕망이 끊임없이 새로운 역사를 만들어 내고 있다',\n",
       " '이런 관점에서 보았을 때 우리는 자연스럽게 사회주의권이었던 국가들이 왜 자본주의적 노선을 걷고 있는지도 미루어 짐작할 수 있을 것이다 사회주의가 자본주의에 자리를 내 어 준 것은 결국 인간의 욕망을 발산시킬 수 있느냐',\n",
       " '가 핵심이었다고',\n",
       " '볼 수 있다 즉 사회주의가 일정수준까지 인간의 욕망을 충족시켜 주긴 하였으나 자본주의는 인간의 욕망을 무한대로 내달리게 했다는 점에서 탐욕적인 인간의 본능에 가깝다고',\n",
       " '할 수 있다 이러한 부분은 자본주의와 사회주의의 대결구도까지 갈 필요 없이 도시와 지방간의 관계에서도 엿볼 수 있을 것이다 즉 예전보다 더 도시가 발달하고 사람들이 많이 모이는 이유 혹은 지방도 시들이 도시화하려고 혈안이 되어 있는 모습은 도시가 인간의 욕망을 대변해 주고 해결해 주며 아울러 끊임없이 욕망을 소비시켜 준다는 점에서 사람들에게 마력으로 다가오기 때문이다',\n",
       " '사실 이러한 욕망의 문제는 사랑 그리고 인간성의 문제와 더불어 결국 인간이라면 누구나 세상을 살아가면서 부닥치는 보편적인 문제들이 기도 하다 그러나 이러한 욕망의 제국에서 끊임없이 욕구 충족을 위해 목을 메는 때로는 욕망을 성취하고 혹은 실패하거나 종국에는 욕망에 굴복하는 구조 속에서 우리는 가상현실과 현실 간의 괴리를 해소하지 못하고 자아 분열의 단계에 이르게 된다 다소 인간의 욕망과 갈등에 대한 일반적인 논이 길게 서술된 바 없지만 세기 후반 산업혁명 이후로 인간은 멈추지 않는 욕망에 도전을 당하고 있다 많은 예술가들의 작품에서 드러난 사회 속 인간 군상의 얼굴들 그리고 그 속에 드러난 인간의 탐욕과 자아의 괴리감 등이 현 시대 즉 로켓 우주선처럼 쏜살같이 변하는 세상에선 더욱 더 첨예한 주제가 되어가고 있고 이는 다름 아닌 현실의 반영이기도 한 것이다 관용은 그 어떠한 시대보다도 많은 격변을 재빠른 속도로 체험하고 있는 중국에서 나고 자란 동시대 작가이다 무수한 중국 현대 정치 경제사를 논하지 않아도 우리는 이미 감각적으로 이 부분은 알 수 있을 것이다 이번 전시에서 그는 매우 흥미로운 시도를 시작하였는데 그것은 바로 현시대의 아이러니적 상황과 가치관의 혼란과 괴리감을 우리가 익히 알고 있는 작가 프란시스 베이컨의 작업이 아닌 그의 작업실을 모티브로 하여 삶과 예술의 기원을 찾고자 했다는 점이다 아이러니 현시대의 삶에 있어서 우리는 여러 형태로 쏟아져 나오는 윤리의식의 부재 가치규범의 불안정 그리고 가상 현실과 현실의 괴리적 상황을 종종 엿볼 수 있다 그리고 이러한 문제들은 현대인들을 자아 분열적 상황으로 몰고 가고 있다 이것이 당장은 가시적인 현상으로 드러나진 않지만 무서운 파급력을 가지고 여러 가지 양상으로 표출되고 있다 그리고 이러한 본질적인 문제들은 우리가 거울 뒤로 혹은 거울 옆으로 숨 는다고 해서 나의 본질이 사라지지 않는 것과 마찬가지 일 것이다',\n",
       " '사실 이러한 아이러니적 상황은 유사성이 관습적으로 지속되고 있는 상황들 속에서 그 유사성의 부정으로부터 출발한다 관용의 작업에 있어서 바로 이점들이 최근 작업에서 두드러지게 표현되고 있고 특히 이번 전시에서 필자가 주목하고 있는 것은 그의 작품에 나타난 거리 정신이다',\n",
       " '여기서 거리란 자아와 세계 사이의 외적 거리인 동시에 분열된 자아 사이의 내적 거리도 포함되며 이런 점에서 관용의 작품은 아이러니의 비서 정적 성격을 본질로 한다고 볼 수 있겠다 우리는 관용의 초기작품에서 그 싹을 볼 수 있었다 년도에 제작한 Connection Landscape to History 작품은 개의 화면으로 구성되어 있는데 한 폭은 흑백으로 초원에서 화가가 그림을 그리고 있는 장면이고 다른 한 폭은 컬러로 마치 예수가 황무지의 땅에 선구자로 내려오는 듯한 양식으로 마 오쩌 동의 모습이 그려져 있다 이 그림이 재미있는 것은 흑백과 컬러의 대치 그리고 현재 실재한 화가와 이미 저 세상으로 간 중국의 영웅인 마 오쩌 동의 대치라는 점이다 일반적인 상황이라면 아마도 화가의 모습이 컬러로 마 오의 모습이 흑백으로 그려졌어야 맞을 것이다 그러나 작가는 이 부분을 이상과 현실이라는 기반 아래 반어적으로 표현했다 일반적으로 과거와 현재의 이분법적인 표상에서 과거는 흑백 현재는 컬러라는 것이 상식이지만 현실에서 느끼는 이상향의 거리감이 오히려 과거 기억의 영화로운 부분이나 영웅적 요소보다 크다는 점을 반어적 색채와 구도 상으로 보여주고 있는 것이다 즉 작가는 이 그림에서 전복된 구조를 통하여 현 사회상을 비판하고 있는 기지의 싹을 보인다 이후의 작업에서도 이러한 양상은 끊임없이 도출이 되고 있는데 초기의 작품이 이상과 현실의 괴리감을 조금은 추상적 개념으로 접근했다면 이 후의 작업은 지식인의 외관에 아둔한 인물의 이미지를 중첩시켜 점차적으로 현실에 근접하여 작업을 풀어 나갔다 년부터 년 사이 관용은 뚱뚱 하고 둔한 이미지의 지식인들을 그렸다 당시 관용은 기존의 역사와 문화에 대해 반복적으로 회의 하고 지식인으로서 자신의 목소리를 내지 못하는 현 시대인들의 수동성과 우매함을 비판적 시각으로 바라보면서 사회와 규율과의 갈등을 인물들의 불안한 심리 묘사와 결합하여 표현했다 주제의 대부분은 서양의 고전 명화의 장면을 차용하여 현 시대의 중국인이 겪고 있는 모순적 상황을 Classic 씨리즈로 보여주었으며 구체적으로 실어증 학대 와 같은 표제로 선보였다 이 시기의 작품 대부분은 역설적인 상황 대치 극 양상을 보인다 작가는 당시에 다음과 같이 말한 바 있다 문화와 역사에 대해 의심하는 그렇지만 뭔 가 우스꽝스러운 인물을 표현하고 싶었으며 또한 진지하고 엄숙한 종교적인 분위기 이면서 심각하면서 불안한 인물이 있는 그림을 그리고 싶었습니다',\n",
       " '작품 이미지의 모델이 되었던 것은 zhou zhou 라는 지적 장애가 있었지만 심포니 오케스트라를 뛰어나게 지휘했던 인물로 그는 이 인물을 통해서 모순적인 현 상황을 풍자 하고자 하였다 후반기에 들면서 작가는 더욱 더 주제를 좁혀 나아간다 물론 모순적인 상황 대치 극이라는 기법을 유지하면서 그가 겪은 문화적 경험과 사회적 현실에 대한 심리적 거리감의 주제를 진지하게 느끼고 지각하면서 말이다 이후 관용은 개인과 사회라는 대치적 관점에서 한걸음 더 나아가 인간의 내면 세계와 외면 세계를 대립구조 양상으로 발전시키게 된다 대략 년 후반부터 관용의 작업에서는 새로운 조짐이 보이기 시작하였다 즉 거울을 이용한 이미지가 작품에 등장하기 시작한 것이다 기존의 상황 극적인 화면 구조를 탈피하여 화면은 상하 혹은 좌우로 분절되어 시공간이 일치하지 않는 장면들이 속속 등장한다 화면을 언뜻 보아 넘기면 그저 이전과 같은 책과 인물의 비슷 비슷한 나열로 보일 수도 있다 그러나 조금만 시간을 들이면 마치 중간과정과 단계가 생략되거나 절개 된 것과 같이 시공간의 차가 보여 지며 순간 관람자에게 잠시 혼란을 느끼게 한다 초기 작품에서부터 과거와 현재 현재와 미래 사회와 개인간의 대립구조를 민감한 관점으로 견지하고 있었던 관용의 작업은 년 작품 The Gray 에서 외적 자아와 내적 자아의 대립구조의 시작점을 알리면서 필자가 상기에 언급한 자아와 세계 사이의 외적 거리인 동시에 분열된 자아 사이의 내적 거리 감 이 화면에 출현하게 된다 이전의 작업이 비교적 단순하게 두 가지의 상황이 극의 형식을 띠면서 한 화면에 등장하여 의 매칭 식으로 작품을 구성했다면 년의 The Gray 작품에서 관용은 한층 복잡 해진 시공간의 구조 개념을 끌어들여 화면을 완성시키고 있다 처음 이 작품을 보면 아마도 지극히 평면적인 서가에 두 인물이 끼워 져 있는 듯한 느낌을 받을 것이며 다시 한번 들여다보면 하나의 서가처럼 보였던 것이 상하로 나뉘어 있다는 것을 확인하게 될 것이다 다음으로 등장인물의 시선인데 화면의 왼편에 위치한 남성의 시선은 그의 오른 편의 남성으로 향하고 있고 시선을 받고 있는 남성의 시선은 다름아닌 우리를 향하고 있다 그리고 마지막으로 우리의 시선은 관용이 명기한 작품 명인 회색으로 향할지도 모른다 회색 작업은 관용의 최근작인 Narcissist 나 르 시스트 로 심화된다 이 작품에서 서재는 마치 춤을 추고 있는 듯하다 지그재그로 속도감을 가진 서재가 화면을 부유하고 있고 그 사이로 안정적인 듯한 포즈를 취하고 있는 인물이 등장하지만 실은 그의 표정은 매우 상기되어 있으며 시선은 불안정하다 우리는 작가가 회색 작품에서 보여준 일차원적인 분절이 나 르 시스트 의 작품에 와서는 다차원적인 시공간의 교차를 통해 위태로운 각도로 보여주고 있음을 느낄 수 있을 것이다 또한 나 르시 시트 에서는 회색 의 작품과는 다르게 인물들이 누가 누구를 보고 있는 상태와 같은 공간과 시간의 차도 없으며 또한 회색 의 작품처럼 시선들에 의한 감시나 견제를 통해 자신을 비추어 볼 수 있는 조금의 여유나 눈치를 보는 시간조차 주지 않고 있다 나 르 시스트 에서 작중인물은 마치 서재모양의 쾌속열차가 광풍과 같은 속력을 가지고 무차별적으로 스쳐 지 나가 버려 정작 작품 속 주인공은 얼이 빠져 멍한 상태로 남겨 져 있는 듯 하다 서두에서 논한 바같이 작가는 현시대와 문화 그리고 이 복잡하고 다단한 욕망의 제국에서 길을 잃고 헤매는 우리들의 자화상에 의문을 던지고자 하였다 이러한 그의 주제의식은 앞서 살펴본 바와 같이 거울개념을 차용하여 한층 견고하게 발전한다 즉 자신을 둘러싼 환경과 세계를 포함하여 작가 자신을 스스로 비춰 보면서 자아와 세계 그리고 예술가로서의 내적 자아와 외적 자아 사이의 갈등과 괴리감이 종국에는 자아 분열에 이르게 되는 현시대를 암시적이며 비판적인 시각으로 담고자 했다 베이컨의 화실로 돌아와서 일련의 작업은 앞서 설명한 바와 같이 후기자본주의에서 나타나는 인간의 존재 감과 자아에 대한 물음으로 읽힐 수 있다 그러나 그의 작업은 여기에서 멈추고 있지 않다 다시 말해 관용의 작업에서는 무수한 기표들이 부유하고 있다 그 대표적인 예로 물성에 대한 것이다 그의 신작에서 우리는 물감 퇴적물이 이곳 저곳에 부유하거나 그림의 하단부분이 마치 화가의 빠렛트처럼 엉겨 붙어 있는 것을 발견할 수 있다 이러한 물감 퇴적물은 아마도 아무 쓸모 없는 다 먹고 소비하고 배출한 쓰레기나 똥으로 보여 질 지도 모른다 하지만 역설적으로 작가는 이를 모든 에너지의 원동력으로 보고 있다 시장적 가치만을 중시하는 사회에서는 이미 소외되거나 사장된 이러한 개념을 작가는 다시 화폭에 중심 소재로 사용하면서 잉여 물의 가치를 환기시키는 것이다 이것은 마치 어느 시인의 시구인 꽃은 똥처럼 향기로와 똥은 꽃처럼 향기롭게 삶과 죽음을 태우는 불꽃 과 같은 반어적 기법으로 작가의 시대정신을 부각시키는 부분이라 볼 수 있다 사실 작업에 물감 퇴적물을 화면에 도입시킨 것은 필자가 보기에 베이컨의 작업실을 연구하면서 시작된 것으로 보인다 관용은 쓰레기 집합 장과 같은 베이컨의 작업실에서 많은 힘과 에너지를 느꼈다고',\n",
       " '한다 일생 동안 청소 한 번 하지 않은 베이컨의 작업실은 아마도 그 예술가의 삶의 현장이 그대로 담긴 역사 유물로 비유할 수도 있을 것 같다 관용이 여러 층의 서가를 각국의 문화 시대 민족의 사고가 뒤섞이고 축적된 집합체로 본 것처럼 베이컨의 작업실 또한 어느 위대한 예술가의 시대와 문화 그리고 예술사상이 뒤엉켜 진 오브제로 여긴 것으로 보인다 여기서 문화 예술 시대 정신 등의 집합체인 서가와 작가의 작업실이라는 오브제의 차이는 공적인 것과 사적인 것 걸러 진 것과 걸러 지지 않은 것 추상 성과 구체성이라는 대치 점으로 읽을 수 있을 것 같다 작가 관용이 이러한 차이점을 인지했는지 아닌지는 확실하지 않지만 아마도 작가 적인 감각으로 이 시대의 소외된 정신과 가치를 대작가가 남긴 고뇌의 집합 장인 더러운 작업실에서 느꼈을 것이다',\n",
       " '이렇게 해서 시작된 베이컨의 작업실 작품은 이제 단순한 재현에서 끝나지 않고 보이지 않는 거울 장치를 이용하여 관용 자신을 투영하고 있다 즉 일관적으로 시도했던 현실과 이상 간의 거리감으로 인한 자아 분열에 이르는 과정이 이제 잉여적 물성과 같은 물감 퇴적물로 인해 현실 속 나와 내면 속의 나와의 괴리를 무너뜨리고 화합의 손짓을 그러나 종국에서 작가는 여전히 화합되지 않는 자아를 말하고 있다',\n",
       " '데이터의 생산 그리고 소비 FAQ 와 Lost in Translation 으로 이루어진 이번 전시는 여러 서비스를 제공하고 있는 구 글 Google 을 통해 수집된 방대한 데이터가 생산되고 소비되는 과정을 재현하고 있다 피 카사 API 와 연동한 실시 간 모자이크 영상과 구 글 번역 API v 를 사용하여 제작된 영상은 번역의 오류를 화면 위에 그대로 보여주는 방식을 택하고 있다 인터넷과 네트워크를 통해 구축되는 새로운 내러티브가 이루어지는 과정에서 우리는 소통 수단의 구조에 일종의 블랙 박스가 있음을 목격하게 된다 그것은 스크린 위의 모든 가변적 데이터의 움직임에서 번역의 오류에서 또 유료 화된 서비스의 문제에서뿐 아니라 미디어가 일상에 깊이 침투한 가운데에서도 발견하게 된다 집단적 기여와 공유를 바탕으로 형성된 관계 망은 정교 해진 것처럼 보이지만 어쩌면 투명성 transparency 개방 openness 그리고 민주주의 democracy 를 바탕으로 한 개념들은 또 다른 빅 브라더의 출현을 낳은 동시에 통제 불능의 상태로 이어질 수 있다 이런 과정이 진화이든 혁명이든 우리는 이미 거부하기 어려운 상황에 놓여 있다']"
      ]
     },
     "execution_count": 74,
     "metadata": {},
     "output_type": "execute_result"
    }
   ],
   "source": [
    "sentences"
   ]
  },
  {
   "cell_type": "code",
   "execution_count": 77,
   "metadata": {},
   "outputs": [
    {
     "name": "stdout",
     "output_type": "stream",
     "text": [
      "박 명희 작가의 여행에서 만난 순백의 웨딩드레스를 걸친 신부들 작가는 그 신부들을 사랑하고 그들과 삶의 환희를 공유하며 그들을 그리고 있습니다\n"
     ]
    }
   ],
   "source": [
    "# Take a look at a sentence before and after it is cleaned.\n",
    "print(sentences[6])"
   ]
  },
  {
   "cell_type": "code",
   "execution_count": 114,
   "metadata": {},
   "outputs": [],
   "source": [
    "def sentence_to_wordlist(raw):\n",
    "#   Remove all characters except letters\n",
    "    words = list(set(each[0] for each in k.pos(raw) if each[1] not in ['ECE','ESC','ECD','JKG','XSN','XSA','ETD','JX','JKM','JKO','VCP','EFN','EPT'] )) \n",
    "    return words"
   ]
  },
  {
   "cell_type": "code",
   "execution_count": 115,
   "metadata": {},
   "outputs": [
    {
     "name": "stdout",
     "output_type": "stream",
     "text": [
      "박 명희 꿈과 자연 이라는 주제로 시각적인 형상과 상상의 나래로 펼쳐진 모습들을 아름다운 색채로 표현해 박 명희 작가는 오랜 세월 그림을 통해 작가의 내면을 더욱 아름답게 치장했습니다\n",
      "['더욱', '세월', '형상', '어', '펼쳐지', '색채', '내면', '치장', '과', '모습', '주제', '나래', '아름', '작가', '꿈', '상상', '박', '오랜', '시각적', '하', '아름답', '자연', '표현', '명희', '통하', '그림']\n"
     ]
    }
   ],
   "source": [
    "print(sentences[2])\n",
    "print(sentence_to_wordlist(sentences[2]))"
   ]
  },
  {
   "cell_type": "code",
   "execution_count": 116,
   "metadata": {},
   "outputs": [
    {
     "name": "stdout",
     "output_type": "stream",
     "text": [
      "The book corpus contains 253,452 tokens\n"
     ]
    }
   ],
   "source": [
    "# Find the total number of tokens in sentences\n",
    "token_count = sum([len(sentence) for sentence in sentences])\n",
    "print(\"The book corpus contains {0:,} tokens\".format(token_count))"
   ]
  },
  {
   "cell_type": "markdown",
   "metadata": {},
   "source": [
    "## Word2Vec"
   ]
  },
  {
   "cell_type": "code",
   "execution_count": 118,
   "metadata": {},
   "outputs": [],
   "source": [
    "# Set the parameteres for Word2Vec\n",
    "num_features = 300\n",
    "min_word_count = 20\n",
    "num_workers = multiprocessing.cpu_count()\n",
    "context_size = 10\n",
    "downsampling = 1e-4\n",
    "seed = 2"
   ]
  },
  {
   "cell_type": "code",
   "execution_count": 119,
   "metadata": {},
   "outputs": [],
   "source": [
    "texts2vec = w2v.Word2Vec(\n",
    "    sg=1, #skip-gram\n",
    "    seed=seed,\n",
    "    workers=num_workers,\n",
    "    size=num_features,\n",
    "    min_count=min_word_count,\n",
    "    window=context_size,\n",
    "    sample=downsampling\n",
    ")"
   ]
  },
  {
   "cell_type": "code",
   "execution_count": 120,
   "metadata": {},
   "outputs": [
    {
     "name": "stdout",
     "output_type": "stream",
     "text": [
      "texts2vec vocabulary length: 579\n"
     ]
    }
   ],
   "source": [
    "# Build the vocabulary\n",
    "texts2vec.build_vocab(sentences)\n",
    "print(\"texts2vec vocabulary length:\", len(texts2vec.wv.vocab))"
   ]
  },
  {
   "cell_type": "code",
   "execution_count": 129,
   "metadata": {},
   "outputs": [
    {
     "data": {
      "text/plain": [
       "(260274, 1267260)"
      ]
     },
     "execution_count": 129,
     "metadata": {},
     "output_type": "execute_result"
    }
   ],
   "source": [
    "texts2vec.train(sentences, total_examples= (len(sentences)), epochs=5)"
   ]
  },
  {
   "cell_type": "code",
   "execution_count": 134,
   "metadata": {},
   "outputs": [
    {
     "data": {
      "text/plain": [
       "[('각', 0.3265348970890045),\n",
       " ('조', 0.30985844135284424),\n",
       " ('가', 0.29208076000213623),\n",
       " ('강', 0.2849295139312744),\n",
       " ('작', 0.28413572907447815),\n",
       " ('현', 0.28374990820884705),\n",
       " ('시', 0.28217530250549316),\n",
       " ('색', 0.2799277603626251),\n",
       " ('식', 0.2676527500152588),\n",
       " ('서', 0.26680219173431396)]"
      ]
     },
     "execution_count": 134,
     "metadata": {},
     "output_type": "execute_result"
    }
   ],
   "source": [
    "texts2vec.wv.most_similar('형')"
   ]
  },
  {
   "cell_type": "code",
   "execution_count": null,
   "metadata": {},
   "outputs": [],
   "source": []
  }
 ],
 "metadata": {
  "kernelspec": {
   "display_name": "Python 3",
   "language": "python",
   "name": "python3"
  },
  "language_info": {
   "codemirror_mode": {
    "name": "ipython",
    "version": 3
   },
   "file_extension": ".py",
   "mimetype": "text/x-python",
   "name": "python",
   "nbconvert_exporter": "python",
   "pygments_lexer": "ipython3",
   "version": "3.6.4"
  }
 },
 "nbformat": 4,
 "nbformat_minor": 2
}
