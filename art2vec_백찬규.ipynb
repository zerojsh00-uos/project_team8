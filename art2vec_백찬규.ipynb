{
 "cells": [
  {
   "cell_type": "code",
   "execution_count": 72,
   "metadata": {},
   "outputs": [],
   "source": [
    "import pandas as pd\n",
    "from matplotlib import pyplot as plt\n",
    "\n",
    "from gensim.models.word2vec import Word2Vec\n",
    "from os import path, mkdir\n",
    "from multiprocessing import cpu_count\n",
    "\n",
    "# from gensim.models.doc2vec import Doc2Vec\n",
    "\n",
    "import re\n",
    "import pickle\n",
    "import time\n",
    "from math import log10"
   ]
  },
  {
   "cell_type": "code",
   "execution_count": null,
   "metadata": {},
   "outputs": [],
   "source": [
    "with open('artTokens.dat','rb') as file: # 미리 doc별로 저장한 tokens의 리스트를 load한다\n",
    "    tokens = pickle.load(file)"
   ]
  },
  {
   "cell_type": "code",
   "execution_count": 4,
   "metadata": {},
   "outputs": [],
   "source": [
    "#하이퍼파라미터 세팅\n",
    "num_features = 100\n",
    "min_word_count = 10\n",
    "num_workers = cpu_count()\n",
    "context_size = 10\n",
    "downsampling = 1e-3\n",
    "seed=180816"
   ]
  },
  {
   "cell_type": "code",
   "execution_count": 5,
   "metadata": {},
   "outputs": [],
   "source": [
    "#모델 생성\n",
    "art2vec =Word2Vec( \n",
    "    sg=1, #skip-gram\n",
    "    workers=cpu_count(),\n",
    "    size=num_features,\n",
    "    min_count=min_word_count,\n",
    "    window=context_size,\n",
    "    sample = downsampling,\n",
    ")"
   ]
  },
  {
   "cell_type": "code",
   "execution_count": 44,
   "metadata": {},
   "outputs": [],
   "source": [
    "art2vec.build_vocab(tokens)"
   ]
  },
  {
   "cell_type": "code",
   "execution_count": 45,
   "metadata": {},
   "outputs": [
    {
     "data": {
      "text/plain": [
       "20514"
      ]
     },
     "execution_count": 45,
     "metadata": {},
     "output_type": "execute_result"
    }
   ],
   "source": [
    "art2vec.corpus_count"
   ]
  },
  {
   "cell_type": "code",
   "execution_count": 46,
   "metadata": {},
   "outputs": [
    {
     "data": {
      "text/plain": [
       "5"
      ]
     },
     "execution_count": 46,
     "metadata": {},
     "output_type": "execute_result"
    }
   ],
   "source": [
    "art2vec.epochs"
   ]
  },
  {
   "cell_type": "code",
   "execution_count": 47,
   "metadata": {},
   "outputs": [
    {
     "data": {
      "text/plain": [
       "(54894850, 74022550)"
      ]
     },
     "execution_count": 47,
     "metadata": {},
     "output_type": "execute_result"
    }
   ],
   "source": [
    "art2vec.train(tokens,total_examples=art2vec.corpus_count,epochs=art2vec.epochs) #학습 with tokens"
   ]
  },
  {
   "cell_type": "code",
   "execution_count": 51,
   "metadata": {},
   "outputs": [],
   "source": [
    "##모델을 저장하고 불러와서 다시 training시킬 수 있다\n",
    "art2vec.save(r'''art2vec.w2v''')"
   ]
  },
  {
   "cell_type": "code",
   "execution_count": 8,
   "metadata": {},
   "outputs": [],
   "source": [
    "##전에 학습한 결과 불러오기\n",
    "art2vec = Word2Vec.load(r'''art2vec.w2v''')"
   ]
  },
  {
   "cell_type": "code",
   "execution_count": 9,
   "metadata": {},
   "outputs": [
    {
     "data": {
      "text/plain": [
       "[('조진호', 0.7715893983840942),\n",
       " ('대구', 0.7689499855041504),\n",
       " ('부산', 0.7660964727401733),\n",
       " ('시립', 0.7494326829910278),\n",
       " ('전남', 0.7457484006881714),\n",
       " ('광역시', 0.7450919151306152),\n",
       " ('센텀시티', 0.7318888306617737),\n",
       " ('개점', 0.7264745235443115),\n",
       " ('대전', 0.7231205701828003),\n",
       " ('환기재단', 0.7210865616798401)]"
      ]
     },
     "execution_count": 9,
     "metadata": {},
     "output_type": "execute_result"
    }
   ],
   "source": [
    "art2vec.wv.most_similar('광주')"
   ]
  },
  {
   "cell_type": "code",
   "execution_count": 10,
   "metadata": {},
   "outputs": [
    {
     "data": {
      "text/plain": [
       "[('희망이', 0.8070540428161621),\n",
       " ('소망', 0.7373624444007874),\n",
       " ('행복', 0.7227489352226257),\n",
       " ('긍정', 0.7062973380088806),\n",
       " ('꿈', 0.7053670883178711),\n",
       " ('앞날', 0.7005017995834351),\n",
       " ('절망', 0.6873255968093872),\n",
       " ('염원', 0.6766011714935303),\n",
       " ('열망', 0.6744593381881714),\n",
       " ('기쁨', 0.6718753576278687)]"
      ]
     },
     "execution_count": 10,
     "metadata": {},
     "output_type": "execute_result"
    }
   ],
   "source": [
    "art2vec.wv.most_similar('희망')"
   ]
  },
  {
   "cell_type": "code",
   "execution_count": 64,
   "metadata": {},
   "outputs": [
    {
     "data": {
      "text/plain": [
       "[('기억해야', 0.21745026111602783),\n",
       " ('콜렉터', 0.21343661844730377),\n",
       " ('생각합', 0.20056943595409393),\n",
       " ('블루칩', 0.1907409131526947),\n",
       " ('알려지', 0.19049102067947388),\n",
       " ('삼류', 0.18937496840953827),\n",
       " ('가요', 0.1706419587135315),\n",
       " ('박찬호', 0.17036212980747223),\n",
       " ('팝아티스트', 0.16764971613883972),\n",
       " ('연예인', 0.16761338710784912)]"
      ]
     },
     "execution_count": 64,
     "metadata": {},
     "output_type": "execute_result"
    }
   ],
   "source": [
    "art2vec.wv.most_similar('가족','반려동물')"
   ]
  },
  {
   "cell_type": "code",
   "execution_count": 56,
   "metadata": {},
   "outputs": [
    {
     "data": {
      "text/plain": [
       "[('즐거움', 0.7283370494842529),\n",
       " ('흥미', 0.7058372497558594),\n",
       " ('묘미', 0.6446568965911865),\n",
       " ('유쾌', 0.6441777348518372),\n",
       " ('재미있는', 0.6389391422271729),\n",
       " ('즐거운', 0.6228681206703186),\n",
       " ('톡톡', 0.6186307668685913),\n",
       " ('찾아보는', 0.6171889305114746),\n",
       " ('엉뚱함', 0.6071854829788208),\n",
       " ('유희', 0.6063868999481201)]"
      ]
     },
     "execution_count": 56,
     "metadata": {},
     "output_type": "execute_result"
    }
   ],
   "source": [
    "art2vec.wv.most_similar('재미')"
   ]
  },
  {
   "cell_type": "code",
   "execution_count": 63,
   "metadata": {},
   "outputs": [
    {
     "data": {
      "text/plain": [
       "[('흥미', 0.4938831031322479),\n",
       " ('즐거움', 0.4859802722930908),\n",
       " ('막대사탕', 0.4640687108039856),\n",
       " ('디저트', 0.457018107175827),\n",
       " ('재밌는', 0.45514976978302),\n",
       " ('재미있는', 0.45226866006851196),\n",
       " ('힌트', 0.44326353073120117),\n",
       " ('아기자기', 0.43784695863723755),\n",
       " ('재미있고', 0.4362080693244934),\n",
       " ('예쁜', 0.4261799454689026)]"
      ]
     },
     "execution_count": 63,
     "metadata": {},
     "output_type": "execute_result"
    }
   ],
   "source": [
    "art2vec.wv.most_similar(['최순민','재미'],negative='김섭')"
   ]
  },
  {
   "cell_type": "code",
   "execution_count": 60,
   "metadata": {},
   "outputs": [
    {
     "data": {
      "text/plain": [
       "[('임만혁', 0.7648429870605469),\n",
       " ('박형진', 0.7506508827209473),\n",
       " ('김덕기', 0.7272018194198608),\n",
       " ('이상선', 0.725709080696106),\n",
       " ('김태우', 0.7161332964897156),\n",
       " ('서은', 0.707787036895752),\n",
       " ('박지혜', 0.7039687633514404),\n",
       " ('최순민', 0.7037951946258545),\n",
       " ('손민광', 0.7032536864280701),\n",
       " ('김은기', 0.7019984722137451)]"
      ]
     },
     "execution_count": 60,
     "metadata": {},
     "output_type": "execute_result"
    }
   ],
   "source": [
    "art2vec.wv.most_similar('김혜연')"
   ]
  },
  {
   "cell_type": "code",
   "execution_count": 65,
   "metadata": {},
   "outputs": [
    {
     "data": {
      "text/plain": [
       "[('정작', 0.39441823959350586),\n",
       " ('어슷비슷', 0.3715914785861969),\n",
       " ('만이', 0.36983853578567505),\n",
       " ('명백', 0.35792189836502075),\n",
       " ('창조할', 0.3490333557128906),\n",
       " ('무기', 0.34765177965164185),\n",
       " ('생산하지', 0.3454466462135315),\n",
       " ('무너짐', 0.34017521142959595),\n",
       " ('음에도', 0.33978211879730225),\n",
       " ('으론', 0.3387604355812073)]"
      ]
     },
     "execution_count": 65,
     "metadata": {},
     "output_type": "execute_result"
    }
   ],
   "source": [
    "art2vec.wv.most_similar('임만혁','김혜연')"
   ]
  },
  {
   "cell_type": "code",
   "execution_count": null,
   "metadata": {},
   "outputs": [],
   "source": []
  },
  {
   "cell_type": "code",
   "execution_count": null,
   "metadata": {},
   "outputs": [],
   "source": []
  }
 ],
 "metadata": {
  "kernelspec": {
   "display_name": "Python 3",
   "language": "python",
   "name": "python3"
  },
  "language_info": {
   "codemirror_mode": {
    "name": "ipython",
    "version": 3
   },
   "file_extension": ".py",
   "mimetype": "text/x-python",
   "name": "python",
   "nbconvert_exporter": "python",
   "pygments_lexer": "ipython3",
   "version": "3.6.4"
  }
 },
 "nbformat": 4,
 "nbformat_minor": 2
}
